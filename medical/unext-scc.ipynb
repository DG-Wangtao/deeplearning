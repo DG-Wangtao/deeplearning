{
 "cells": [
  {
   "cell_type": "markdown",
   "id": "8504e658",
   "metadata": {
    "papermill": {
     "duration": 0.008559,
     "end_time": "2023-12-17T17:32:34.936514",
     "exception": false,
     "start_time": "2023-12-17T17:32:34.927955",
     "status": "completed"
    },
    "tags": []
   },
   "source": [
    "# UNeXt \n",
    "> https://github.com/jeya-maria-jose/UNeXt-pytorch"
   ]
  },
  {
   "cell_type": "code",
   "execution_count": 1,
   "id": "653a48b1",
   "metadata": {
    "_cell_guid": "1b772f0f-3a0c-4b91-b596-998d2e0fddd9",
    "_uuid": "2a78186a-a663-4493-a796-33b0f558bf7a",
    "collapsed": false,
    "execution": {
     "iopub.execute_input": "2023-12-17T17:32:34.952335Z",
     "iopub.status.busy": "2023-12-17T17:32:34.951773Z",
     "iopub.status.idle": "2023-12-17T17:32:34.974073Z",
     "shell.execute_reply": "2023-12-17T17:32:34.973289Z"
    },
    "jupyter": {
     "outputs_hidden": false
    },
    "papermill": {
     "duration": 0.032793,
     "end_time": "2023-12-17T17:32:34.976200",
     "exception": false,
     "start_time": "2023-12-17T17:32:34.943407",
     "status": "completed"
    },
    "tags": []
   },
   "outputs": [],
   "source": [
    "%config Completer.use_jedi = False"
   ]
  },
  {
   "cell_type": "markdown",
   "id": "2b499183",
   "metadata": {
    "papermill": {
     "duration": 0.006437,
     "end_time": "2023-12-17T17:32:34.989225",
     "exception": false,
     "start_time": "2023-12-17T17:32:34.982788",
     "status": "completed"
    },
    "tags": []
   },
   "source": [
    "## 引入依赖包"
   ]
  },
  {
   "cell_type": "code",
   "execution_count": 2,
   "id": "faa8daad",
   "metadata": {
    "execution": {
     "iopub.execute_input": "2023-12-17T17:32:35.004471Z",
     "iopub.status.busy": "2023-12-17T17:32:35.004156Z",
     "iopub.status.idle": "2023-12-17T17:32:54.155703Z",
     "shell.execute_reply": "2023-12-17T17:32:54.154511Z"
    },
    "papermill": {
     "duration": 19.162313,
     "end_time": "2023-12-17T17:32:54.158407",
     "exception": false,
     "start_time": "2023-12-17T17:32:34.996094",
     "status": "completed"
    },
    "tags": []
   },
   "outputs": [
    {
     "name": "stdout",
     "output_type": "stream",
     "text": [
      "Requirement already satisfied: scipy in /opt/conda/lib/python3.7/site-packages (1.7.3)\r\n",
      "Requirement already satisfied: scikit-image in /opt/conda/lib/python3.7/site-packages (0.19.3)\r\n",
      "Requirement already satisfied: torch in /opt/conda/lib/python3.7/site-packages (1.11.0)\r\n",
      "Requirement already satisfied: torchvision in /opt/conda/lib/python3.7/site-packages (0.12.0)\r\n",
      "Collecting pathlib\r\n",
      "  Downloading pathlib-1.0.1-py3-none-any.whl (14 kB)\r\n",
      "Requirement already satisfied: wandb in /opt/conda/lib/python3.7/site-packages (0.12.21)\r\n",
      "Collecting segmentation-models-pytorch\r\n",
      "  Downloading segmentation_models_pytorch-0.3.3-py3-none-any.whl (106 kB)\r\n",
      "\u001b[2K     \u001b[90m━━━━━━━━━━━━━━━━━━━━━━━━━━━━━━━━━━━━━━━\u001b[0m \u001b[32m106.7/106.7 kB\u001b[0m \u001b[31m1.2 MB/s\u001b[0m eta \u001b[36m0:00:00\u001b[0m\r\n",
      "\u001b[?25hCollecting timm\r\n",
      "  Downloading timm-0.9.12-py3-none-any.whl (2.2 MB)\r\n",
      "\u001b[2K     \u001b[90m━━━━━━━━━━━━━━━━━━━━━━━━━━━━━━━━━━━━━━━━\u001b[0m \u001b[32m2.2/2.2 MB\u001b[0m \u001b[31m13.5 MB/s\u001b[0m eta \u001b[36m0:00:00\u001b[0m\r\n",
      "\u001b[?25hRequirement already satisfied: numpy<1.23.0,>=1.16.5 in /opt/conda/lib/python3.7/site-packages (from scipy) (1.21.6)\r\n",
      "Requirement already satisfied: packaging>=20.0 in /opt/conda/lib/python3.7/site-packages (from scikit-image) (21.3)\r\n",
      "Requirement already satisfied: imageio>=2.4.1 in /opt/conda/lib/python3.7/site-packages (from scikit-image) (2.19.3)\r\n",
      "Requirement already satisfied: tifffile>=2019.7.26 in /opt/conda/lib/python3.7/site-packages (from scikit-image) (2021.11.2)\r\n",
      "Requirement already satisfied: pillow!=7.1.0,!=7.1.1,!=8.3.0,>=6.1.0 in /opt/conda/lib/python3.7/site-packages (from scikit-image) (9.1.1)\r\n",
      "Requirement already satisfied: PyWavelets>=1.1.1 in /opt/conda/lib/python3.7/site-packages (from scikit-image) (1.3.0)\r\n",
      "Requirement already satisfied: networkx>=2.2 in /opt/conda/lib/python3.7/site-packages (from scikit-image) (2.5)\r\n",
      "Requirement already satisfied: typing-extensions in /opt/conda/lib/python3.7/site-packages (from torch) (4.3.0)\r\n",
      "Requirement already satisfied: requests in /opt/conda/lib/python3.7/site-packages (from torchvision) (2.28.1)\r\n",
      "Requirement already satisfied: setproctitle in /opt/conda/lib/python3.7/site-packages (from wandb) (1.3.2)\r\n",
      "Requirement already satisfied: setuptools in /opt/conda/lib/python3.7/site-packages (from wandb) (59.8.0)\r\n",
      "Requirement already satisfied: docker-pycreds>=0.4.0 in /opt/conda/lib/python3.7/site-packages (from wandb) (0.4.0)\r\n",
      "Requirement already satisfied: protobuf<4.0dev,>=3.12.0 in /opt/conda/lib/python3.7/site-packages (from wandb) (3.19.4)\r\n",
      "Requirement already satisfied: six>=1.13.0 in /opt/conda/lib/python3.7/site-packages (from wandb) (1.15.0)\r\n",
      "Requirement already satisfied: GitPython>=1.0.0 in /opt/conda/lib/python3.7/site-packages (from wandb) (3.1.27)\r\n",
      "Requirement already satisfied: promise<3,>=2.0 in /opt/conda/lib/python3.7/site-packages (from wandb) (2.3)\r\n",
      "Requirement already satisfied: PyYAML in /opt/conda/lib/python3.7/site-packages (from wandb) (6.0)\r\n",
      "Requirement already satisfied: sentry-sdk>=1.0.0 in /opt/conda/lib/python3.7/site-packages (from wandb) (1.9.5)\r\n",
      "Requirement already satisfied: pathtools in /opt/conda/lib/python3.7/site-packages (from wandb) (0.1.2)\r\n",
      "Requirement already satisfied: Click!=8.0.0,>=7.0 in /opt/conda/lib/python3.7/site-packages (from wandb) (8.0.4)\r\n",
      "Requirement already satisfied: shortuuid>=0.5.0 in /opt/conda/lib/python3.7/site-packages (from wandb) (1.0.9)\r\n",
      "Requirement already satisfied: psutil>=5.0.0 in /opt/conda/lib/python3.7/site-packages (from wandb) (5.9.1)\r\n",
      "Collecting pretrainedmodels==0.7.4\r\n",
      "  Downloading pretrainedmodels-0.7.4.tar.gz (58 kB)\r\n",
      "\u001b[2K     \u001b[90m━━━━━━━━━━━━━━━━━━━━━━━━━━━━━━━━━━━━━━━━\u001b[0m \u001b[32m58.8/58.8 kB\u001b[0m \u001b[31m6.5 MB/s\u001b[0m eta \u001b[36m0:00:00\u001b[0m\r\n",
      "\u001b[?25h  Preparing metadata (setup.py) ... \u001b[?25l-\b \bdone\r\n",
      "\u001b[?25hRequirement already satisfied: tqdm in /opt/conda/lib/python3.7/site-packages (from segmentation-models-pytorch) (4.64.0)\r\n",
      "Collecting efficientnet-pytorch==0.7.1\r\n",
      "  Downloading efficientnet_pytorch-0.7.1.tar.gz (21 kB)\r\n",
      "  Preparing metadata (setup.py) ... \u001b[?25l-\b \bdone\r\n",
      "\u001b[?25hCollecting timm\r\n",
      "  Downloading timm-0.9.2-py3-none-any.whl (2.2 MB)\r\n",
      "\u001b[2K     \u001b[90m━━━━━━━━━━━━━━━━━━━━━━━━━━━━━━━━━━━━━━━━\u001b[0m \u001b[32m2.2/2.2 MB\u001b[0m \u001b[31m59.7 MB/s\u001b[0m eta \u001b[36m0:00:00\u001b[0m\r\n",
      "\u001b[?25hRequirement already satisfied: huggingface-hub in /opt/conda/lib/python3.7/site-packages (from timm) (0.8.1)\r\n",
      "Collecting safetensors\r\n",
      "  Downloading safetensors-0.4.1-cp37-cp37m-manylinux_2_17_x86_64.manylinux2014_x86_64.whl (1.3 MB)\r\n",
      "\u001b[2K     \u001b[90m━━━━━━━━━━━━━━━━━━━━━━━━━━━━━━━━━━━━━━━━\u001b[0m \u001b[32m1.3/1.3 MB\u001b[0m \u001b[31m60.4 MB/s\u001b[0m eta \u001b[36m0:00:00\u001b[0m\r\n",
      "\u001b[?25hRequirement already satisfied: munch in /opt/conda/lib/python3.7/site-packages (from pretrainedmodels==0.7.4->segmentation-models-pytorch) (2.5.0)\r\n",
      "Requirement already satisfied: importlib-metadata in /opt/conda/lib/python3.7/site-packages (from Click!=8.0.0,>=7.0->wandb) (4.12.0)\r\n",
      "Requirement already satisfied: gitdb<5,>=4.0.1 in /opt/conda/lib/python3.7/site-packages (from GitPython>=1.0.0->wandb) (4.0.9)\r\n",
      "Requirement already satisfied: decorator>=4.3.0 in /opt/conda/lib/python3.7/site-packages (from networkx>=2.2->scikit-image) (5.1.1)\r\n",
      "Requirement already satisfied: pyparsing!=3.0.5,>=2.0.2 in /opt/conda/lib/python3.7/site-packages (from packaging>=20.0->scikit-image) (3.0.9)\r\n",
      "Requirement already satisfied: charset-normalizer<3,>=2 in /opt/conda/lib/python3.7/site-packages (from requests->torchvision) (2.1.0)\r\n",
      "Requirement already satisfied: certifi>=2017.4.17 in /opt/conda/lib/python3.7/site-packages (from requests->torchvision) (2022.6.15)\r\n",
      "Requirement already satisfied: urllib3<1.27,>=1.21.1 in /opt/conda/lib/python3.7/site-packages (from requests->torchvision) (1.26.12)\r\n",
      "Requirement already satisfied: idna<4,>=2.5 in /opt/conda/lib/python3.7/site-packages (from requests->torchvision) (3.3)\r\n",
      "Requirement already satisfied: filelock in /opt/conda/lib/python3.7/site-packages (from huggingface-hub->timm) (3.7.1)\r\n",
      "Requirement already satisfied: smmap<6,>=3.0.1 in /opt/conda/lib/python3.7/site-packages (from gitdb<5,>=4.0.1->GitPython>=1.0.0->wandb) (3.0.5)\r\n",
      "Requirement already satisfied: zipp>=0.5 in /opt/conda/lib/python3.7/site-packages (from importlib-metadata->Click!=8.0.0,>=7.0->wandb) (3.8.0)\r\n",
      "Building wheels for collected packages: efficientnet-pytorch, pretrainedmodels\r\n",
      "  Building wheel for efficientnet-pytorch (setup.py) ... \u001b[?25l-\b \b\\\b \bdone\r\n",
      "\u001b[?25h  Created wheel for efficientnet-pytorch: filename=efficientnet_pytorch-0.7.1-py3-none-any.whl size=16446 sha256=42e7bebe54cfa408bb3a0010cd11e9b3bae7bae369fde6fcfea8c279916b1a5a\r\n",
      "  Stored in directory: /root/.cache/pip/wheels/0e/cc/b2/49e74588263573ff778da58cc99b9c6349b496636a7e165be6\r\n",
      "  Building wheel for pretrainedmodels (setup.py) ... \u001b[?25l-\b \b\\\b \bdone\r\n",
      "\u001b[?25h  Created wheel for pretrainedmodels: filename=pretrainedmodels-0.7.4-py3-none-any.whl size=60965 sha256=3c8a658a065128e5e7181582cece5f15e0f8391ec0d63e855039b7846776bef2\r\n",
      "  Stored in directory: /root/.cache/pip/wheels/ed/27/e8/9543d42de2740d3544db96aefef63bda3f2c1761b3334f4873\r\n",
      "Successfully built efficientnet-pytorch pretrainedmodels\r\n",
      "Installing collected packages: pathlib, safetensors, efficientnet-pytorch, timm, pretrainedmodels, segmentation-models-pytorch\r\n",
      "Successfully installed efficientnet-pytorch-0.7.1 pathlib-1.0.1 pretrainedmodels-0.7.4 safetensors-0.4.1 segmentation-models-pytorch-0.3.3 timm-0.9.2\r\n",
      "\u001b[33mWARNING: Running pip as the 'root' user can result in broken permissions and conflicting behaviour with the system package manager. It is recommended to use a virtual environment instead: https://pip.pypa.io/warnings/venv\u001b[0m\u001b[33m\r\n",
      "\u001b[0m"
     ]
    }
   ],
   "source": [
    "!pip install scipy scikit-image torch torchvision pathlib wandb segmentation-models-pytorch timm"
   ]
  },
  {
   "cell_type": "code",
   "execution_count": 3,
   "id": "b7a3c3c9",
   "metadata": {
    "execution": {
     "iopub.execute_input": "2023-12-17T17:32:54.181973Z",
     "iopub.status.busy": "2023-12-17T17:32:54.181616Z",
     "iopub.status.idle": "2023-12-17T17:32:57.108865Z",
     "shell.execute_reply": "2023-12-17T17:32:57.107856Z"
    },
    "papermill": {
     "duration": 2.941773,
     "end_time": "2023-12-17T17:32:57.111488",
     "exception": false,
     "start_time": "2023-12-17T17:32:54.169715",
     "status": "completed"
    },
    "tags": []
   },
   "outputs": [],
   "source": [
    "import os\n",
    "import random\n",
    "import pandas as pd\n",
    "import numpy as np\n",
    "import matplotlib.pyplot as plt\n",
    "plt.style.use(\"ggplot\")\n",
    "%matplotlib inline\n",
    "\n",
    "import torch\n",
    "import torch.nn as nn\n",
    "from torchvision import models, transforms\n",
    "from torch.nn.functional import relu, pad\n",
    "from torch.utils.data import Dataset, DataLoader, random_split\n",
    "\n",
    "from PIL import Image\n",
    "from typing import Tuple\n",
    "from pathlib import Path\n",
    "\n",
    "import torch\n",
    "from torch import nn, Tensor\n",
    "import torch.nn.functional as F\n",
    "import torch.optim as optim\n",
    "\n",
    "from tqdm import tqdm\n",
    "import wandb\n",
    "import logging"
   ]
  },
  {
   "cell_type": "markdown",
   "id": "8e42b97f",
   "metadata": {
    "papermill": {
     "duration": 0.009702,
     "end_time": "2023-12-17T17:32:57.131157",
     "exception": false,
     "start_time": "2023-12-17T17:32:57.121455",
     "status": "completed"
    },
    "tags": []
   },
   "source": [
    "## 设置wandb账号\n",
    "用作统计与数据分析"
   ]
  },
  {
   "cell_type": "code",
   "execution_count": 4,
   "id": "4c922988",
   "metadata": {
    "execution": {
     "iopub.execute_input": "2023-12-17T17:32:57.153049Z",
     "iopub.status.busy": "2023-12-17T17:32:57.152303Z",
     "iopub.status.idle": "2023-12-17T17:32:59.779621Z",
     "shell.execute_reply": "2023-12-17T17:32:59.778337Z"
    },
    "papermill": {
     "duration": 2.641345,
     "end_time": "2023-12-17T17:32:59.782291",
     "exception": false,
     "start_time": "2023-12-17T17:32:57.140946",
     "status": "completed"
    },
    "tags": []
   },
   "outputs": [
    {
     "name": "stdout",
     "output_type": "stream",
     "text": [
      "\u001b[34m\u001b[1mwandb\u001b[0m: Currently logged in as: \u001b[33mtorwayland\u001b[0m (\u001b[33mcupes-wangtao\u001b[0m). Use \u001b[1m`wandb login --relogin`\u001b[0m to force relogin\r\n"
     ]
    }
   ],
   "source": [
    "os.environ['WANDB_API_KEY']='d561f1229ba7c4e207ca34042f29a43552a7447e'\n",
    "!wandb login"
   ]
  },
  {
   "cell_type": "markdown",
   "id": "9b23148d",
   "metadata": {
    "papermill": {
     "duration": 0.009857,
     "end_time": "2023-12-17T17:32:59.802952",
     "exception": false,
     "start_time": "2023-12-17T17:32:59.793095",
     "status": "completed"
    },
    "tags": []
   },
   "source": [
    "## ScConv\n",
    "> https://github.com/XxxxYi/Reproduction_of_ScConv_CVPR2023/blob/main/scconv.py"
   ]
  },
  {
   "cell_type": "code",
   "execution_count": 5,
   "id": "55fb06e3",
   "metadata": {
    "execution": {
     "iopub.execute_input": "2023-12-17T17:32:59.824003Z",
     "iopub.status.busy": "2023-12-17T17:32:59.823693Z",
     "iopub.status.idle": "2023-12-17T17:32:59.858884Z",
     "shell.execute_reply": "2023-12-17T17:32:59.858099Z"
    },
    "papermill": {
     "duration": 0.048235,
     "end_time": "2023-12-17T17:32:59.860862",
     "exception": false,
     "start_time": "2023-12-17T17:32:59.812627",
     "status": "completed"
    },
    "tags": []
   },
   "outputs": [],
   "source": [
    "\n",
    "\n",
    "class GroupNorm2d(nn.Module):\n",
    "\n",
    "    def __init__(self, n_groups: int = 16, n_channels: int = 16, eps: float = 1e-10):\n",
    "        super(GroupNorm2d, self).__init__()  \n",
    "        assert n_channels % n_groups == 0 \n",
    "        self.n_groups = n_groups  \n",
    "        self.gamma = nn.Parameter(torch.randn(n_channels, 1, 1))  # learnable gamma\n",
    "        self.beta = nn.Parameter(torch.zeros(n_channels, 1, 1))  # learnable beta\n",
    "        self.eps = eps \n",
    "\n",
    "    def forward(self, x):\n",
    "        N, C, H, W = x.size()\n",
    "        x = x.reshape(N, self.n_groups, -1) \n",
    "        mean = x.mean(dim=2, keepdim=True)  \n",
    "        std = x.std(dim=2, keepdim=True)\n",
    "        x = (x - mean) / (std + self.eps) \n",
    "        x = x.reshape(N, C, H, W)  \n",
    "        return x * self.gamma + self.beta  \n",
    "\n",
    "\n",
    "# Spatial and Reconstruct Unit\n",
    "class SRU(nn.Module):\n",
    "\n",
    "    def __init__(\n",
    "            self,\n",
    "            n_channels: int,  # in_channels\n",
    "            n_groups: int = 16,  # 16\n",
    "            gate_treshold: float = 0.5,  # 0.5,\n",
    "            torch_gn:bool = True\n",
    "    ):\n",
    "        super().__init__()  \n",
    "\n",
    "        # initialize GroupNorm2d\n",
    "        self.gn = nn.GroupNorm( num_channels = n_channels, num_groups = n_groups ) if torch_gn else GroupNorm2d(n_channels = n_channels, n_groups = n_groups)\n",
    "        # self.gn = GroupNorm2d(n_groups=n_groups, n_channels=n_channels)\n",
    "        self.gate_treshold = gate_treshold  \n",
    "        self.sigomid = nn.Sigmoid()  \n",
    "\n",
    "    def forward(self, x):\n",
    "        gn_x = self.gn(x) \n",
    "        w_gamma = self.gn.gamma / sum(self.gn.gamma)  # cal gamma weight\n",
    "        reweights = self.sigomid(gn_x * w_gamma)  # importance\n",
    "\n",
    "        info_mask = reweights >= self.gate_treshold\n",
    "        noninfo_mask = reweights < self.gate_treshold\n",
    "        x_1 = info_mask * x  \n",
    "        x_2 = noninfo_mask * x  \n",
    "        x = self.reconstruct(x_1, x_2) \n",
    "        return x\n",
    "\n",
    "    def reconstruct(self, x_1, x_2):\n",
    "        x_11, x_12 = torch.split(x_1, x_1.size(1) // 2, dim=1)\n",
    "        x_21, x_22 = torch.split(x_2, x_2.size(1) // 2, dim=1)\n",
    "        return torch.cat([x_11 + x_22, x_12 + x_21], dim=1)\n",
    "\n",
    "\n",
    "# Channel Reduction Unit\n",
    "class CRU(nn.Module):\n",
    "\n",
    "    def __init__(self, in_channels: int, out_channels: int, kernel_size: int = 3, alpha: float = 1 / 2, squeeze_radio: int = 2, groups: int = 2):\n",
    "        super().__init__()\n",
    "\n",
    "        self.up_channel = up_channel = int(alpha * in_channels)\n",
    "        self.low_channel = low_channel = in_channels - up_channel\n",
    "        self.squeeze1 = nn.Conv2d(up_channel, up_channel // squeeze_radio, kernel_size=1, bias=False)\n",
    "        self.squeeze2 = nn.Conv2d(low_channel, low_channel // squeeze_radio, kernel_size=1, bias=False)\n",
    "\n",
    "        in_ch = up_channel // squeeze_radio\n",
    "        out_ch = out_channels\n",
    "        print(\"out_channels:\", out_channels, \"squeeze_radio: \", squeeze_radio, \"up_channel: \",up_channel,\"in_ch (out_channels // squeeze_radio): \", in_ch, \"out_ch(out_channels):\", out_ch)\n",
    "        \n",
    "        \n",
    "        if in_ch >= 16:\n",
    "            groups = 16\n",
    "    \n",
    "        self.GWC = nn.Conv2d(in_ch, out_channels, kernel_size=kernel_size, stride=1, padding=kernel_size // 2, groups=groups) \n",
    "        self.PWC1 = nn.Conv2d(in_ch, out_channels, kernel_size=1, bias=False)\n",
    "\n",
    "        #print(\"in_channels: \", in_channels, \"out_channels: \", out_channels)\n",
    "        #print(\"up_channel: \", self.up_channel, \"low_channel: \", self.low_channel)\n",
    "        in_ch = low_channel // squeeze_radio\n",
    "        out_ch = out_channels - low_channel // squeeze_radio\n",
    "        print(\"out_channels:\", out_channels, \"squeeze_radio: \", squeeze_radio, \"low_channel: \",low_channel,\"in_ch (low_channel // squeeze_radio): \", in_ch, \"out_ch(out_channels - low_channel // squeeze_radio):\", out_ch)\n",
    "        self.PWC2 = nn.Conv2d(in_ch, out_ch, kernel_size=1, bias=False) \n",
    "        #print(\"self.PWC2.weight.shape: \",self.PWC2.weight.shape)\n",
    "        self.pool = nn.AdaptiveAvgPool2d(1)  \n",
    "        \n",
    "    def forward(self, x):\n",
    "\n",
    "        up, low = torch.split(x, [self.up_channel, self.low_channel], dim=1)\n",
    "        up, low = self.squeeze1(up), self.squeeze2(low)\n",
    "\n",
    "        y1 = self.GWC(up) + self.PWC1(up)\n",
    "        \n",
    "        #print(\"low: \",low.shape)\n",
    "        pwc2 = self.PWC2(low)\n",
    "        #print(\"pwc2\", pwc2.shape)\n",
    "        y2 = torch.cat([pwc2, low], dim=1)\n",
    "\n",
    "        s1 = self.pool(y1)\n",
    "        s2 = self.pool(y2)\n",
    "        s = torch.cat([s1, s2], dim=1)\n",
    "        beta = F.softmax(s, dim=1)\n",
    "        beta1, beta2 = torch.split(beta, beta.size(1) // 2, dim=1)\n",
    "        y = beta1 * y1 + beta2 * y2\n",
    "        return y\n",
    "\n",
    "\n",
    "# Squeeze and Channel Reduction Convolution\n",
    "class ScConv(nn.Module):\n",
    "\n",
    "    def __init__(self, in_channels: int, out_channels: int, kernel_size: int = 3, stride: int = 1, padding: int = 1, n_groups: int = 2, gate_treshold: float = 0.5, alpha: float = 1 / 2, squeeze_radio: int = 2, groups: int = 2):\n",
    "        super().__init__()\n",
    "\n",
    "        self.SRU = SRU(in_channels, n_groups=n_groups, gate_treshold=gate_treshold, torch_gn=False) \n",
    "        self.CRU = CRU(in_channels=in_channels, out_channels=out_channels, kernel_size=kernel_size, alpha=alpha, squeeze_radio=squeeze_radio, groups=groups)\n",
    "\n",
    "    def forward(self, x):\n",
    "        x = self.SRU(x)  \n",
    "        x = self.CRU(x) \n",
    "        return x\n",
    "\n",
    "\n"
   ]
  },
  {
   "cell_type": "code",
   "execution_count": 6,
   "id": "f79abdbe",
   "metadata": {
    "execution": {
     "iopub.execute_input": "2023-12-17T17:32:59.884495Z",
     "iopub.status.busy": "2023-12-17T17:32:59.884181Z",
     "iopub.status.idle": "2023-12-17T17:33:00.414970Z",
     "shell.execute_reply": "2023-12-17T17:33:00.414098Z"
    },
    "papermill": {
     "duration": 0.545718,
     "end_time": "2023-12-17T17:33:00.417572",
     "exception": false,
     "start_time": "2023-12-17T17:32:59.871854",
     "status": "completed"
    },
    "tags": []
   },
   "outputs": [],
   "source": [
    "import torch\n",
    "from torch import nn\n",
    "import torch\n",
    "import torchvision\n",
    "from torch import nn\n",
    "from torch.autograd import Variable\n",
    "from torch.utils.data import DataLoader\n",
    "from torchvision import transforms\n",
    "from torchvision.utils import save_image\n",
    "import torch.nn.functional as F\n",
    "import os\n",
    "import matplotlib.pyplot as plt\n",
    "# from utils import *\n",
    "\n",
    "import timm\n",
    "from timm.models.layers import DropPath, to_2tuple, trunc_normal_\n",
    "import types\n",
    "import math\n",
    "from abc import ABCMeta, abstractmethod\n",
    "# from mmcv.cnn import ConvModule\n",
    "import pdb\n",
    "\n",
    "\n",
    "\n",
    "# def conv1x1(in_planes: int, out_planes: int, stride: int = 1) -> nn.Conv2d:\n",
    "#     \"\"\"1x1 convolution\"\"\"\n",
    "#     return nn.Conv2d(in_planes, out_planes, kernel_size=1, stride=1, bias=False)\n",
    "\n",
    "\n",
    "def shift(dim):\n",
    "            x_shift = [ torch.roll(x_c, shift, dim) for x_c, shift in zip(xs, range(-self.pad, self.pad+1))]\n",
    "            x_cat = torch.cat(x_shift, 1)\n",
    "            x_cat = torch.narrow(x_cat, 2, self.pad, H)\n",
    "            x_cat = torch.narrow(x_cat, 3, self.pad, W)\n",
    "            return x_cat\n",
    "\n",
    "class shiftmlp(nn.Module):\n",
    "    def __init__(self, in_features, hidden_features=None, out_features=None, act_layer=nn.GELU, drop=0., shift_size=5):\n",
    "        super().__init__()\n",
    "        out_features = out_features or in_features\n",
    "        hidden_features = hidden_features or in_features\n",
    "        self.dim = in_features\n",
    "        self.fc1 = nn.Linear(in_features, hidden_features)\n",
    "        self.dwconv = DWConv(hidden_features)\n",
    "        self.act = act_layer()\n",
    "        self.fc2 = nn.Linear(hidden_features, out_features)\n",
    "        self.drop = nn.Dropout(drop)\n",
    "\n",
    "        self.shift_size = shift_size\n",
    "        self.pad = shift_size // 2\n",
    "\n",
    "        \n",
    "        self.apply(self._init_weights)\n",
    "\n",
    "    def _init_weights(self, m):\n",
    "        if isinstance(m, nn.Linear):\n",
    "            trunc_normal_(m.weight, std=.02)\n",
    "            if isinstance(m, nn.Linear) and m.bias is not None:\n",
    "                nn.init.constant_(m.bias, 0)\n",
    "        elif isinstance(m, nn.LayerNorm):\n",
    "            nn.init.constant_(m.bias, 0)\n",
    "            nn.init.constant_(m.weight, 1.0)\n",
    "        elif isinstance(m, nn.Conv2d):\n",
    "            fan_out = m.kernel_size[0] * m.kernel_size[1] * m.out_channels\n",
    "            fan_out //= m.groups\n",
    "            m.weight.data.normal_(0, math.sqrt(2.0 / fan_out))\n",
    "            if m.bias is not None:\n",
    "                m.bias.data.zero_()\n",
    "    \n",
    "#     def shift(x, dim):\n",
    "#         x = F.pad(x, \"constant\", 0)\n",
    "#         x = torch.chunk(x, shift_size, 1)\n",
    "#         x = [ torch.roll(x_c, shift, dim) for x_s, shift in zip(x, range(-pad, pad+1))]\n",
    "#         x = torch.cat(x, 1)\n",
    "#         return x[:, :, pad:-pad, pad:-pad]\n",
    "\n",
    "    def forward(self, x, H, W):\n",
    "        # pdb.set_trace()\n",
    "        B, N, C = x.shape\n",
    "\n",
    "        xn = x.transpose(1, 2).view(B, C, H, W).contiguous()\n",
    "        xn = F.pad(xn, (self.pad, self.pad, self.pad, self.pad) , \"constant\", 0)\n",
    "        xs = torch.chunk(xn, self.shift_size, 1)\n",
    "        x_shift = [torch.roll(x_c, shift, 2) for x_c, shift in zip(xs, range(-self.pad, self.pad+1))]\n",
    "        x_cat = torch.cat(x_shift, 1)\n",
    "        x_cat = torch.narrow(x_cat, 2, self.pad, H)\n",
    "        x_s = torch.narrow(x_cat, 3, self.pad, W)\n",
    "\n",
    "\n",
    "        x_s = x_s.reshape(B,C,H*W).contiguous()\n",
    "        x_shift_r = x_s.transpose(1,2)\n",
    "\n",
    "\n",
    "        x = self.fc1(x_shift_r)\n",
    "\n",
    "        x = self.dwconv(x, H, W)\n",
    "        x = self.act(x) \n",
    "        x = self.drop(x)\n",
    "\n",
    "        xn = x.transpose(1, 2).view(B, C, H, W).contiguous()\n",
    "        xn = F.pad(xn, (self.pad, self.pad, self.pad, self.pad) , \"constant\", 0)\n",
    "        xs = torch.chunk(xn, self.shift_size, 1)\n",
    "        x_shift = [torch.roll(x_c, shift, 3) for x_c, shift in zip(xs, range(-self.pad, self.pad+1))]\n",
    "        x_cat = torch.cat(x_shift, 1)\n",
    "        x_cat = torch.narrow(x_cat, 2, self.pad, H)\n",
    "        x_s = torch.narrow(x_cat, 3, self.pad, W)\n",
    "        x_s = x_s.reshape(B,C,H*W).contiguous()\n",
    "        x_shift_c = x_s.transpose(1,2)\n",
    "\n",
    "        x = self.fc2(x_shift_c)\n",
    "        x = self.drop(x)\n",
    "        return x\n",
    "\n",
    "\n",
    "\n",
    "class shiftedBlock(nn.Module):\n",
    "    def __init__(self, dim, num_heads, mlp_ratio=4., qkv_bias=False, qk_scale=None, drop=0., attn_drop=0.,\n",
    "                 drop_path=0., act_layer=nn.GELU, norm_layer=nn.LayerNorm, sr_ratio=1):\n",
    "        super().__init__()\n",
    "\n",
    "\n",
    "        self.drop_path = DropPath(drop_path) if drop_path > 0. else nn.Identity()\n",
    "        self.norm2 = norm_layer(dim)\n",
    "        mlp_hidden_dim = int(dim * mlp_ratio)\n",
    "        self.mlp = shiftmlp(in_features=dim, hidden_features=mlp_hidden_dim, act_layer=act_layer, drop=drop)\n",
    "        self.apply(self._init_weights)\n",
    "\n",
    "    def _init_weights(self, m):\n",
    "        if isinstance(m, nn.Linear):\n",
    "            trunc_normal_(m.weight, std=.02)\n",
    "            if isinstance(m, nn.Linear) and m.bias is not None:\n",
    "                nn.init.constant_(m.bias, 0)\n",
    "        elif isinstance(m, nn.LayerNorm):\n",
    "            nn.init.constant_(m.bias, 0)\n",
    "            nn.init.constant_(m.weight, 1.0)\n",
    "        elif isinstance(m, nn.Conv2d):\n",
    "            fan_out = m.kernel_size[0] * m.kernel_size[1] * m.out_channels\n",
    "            fan_out //= m.groups\n",
    "            m.weight.data.normal_(0, math.sqrt(2.0 / fan_out))\n",
    "            if m.bias is not None:\n",
    "                m.bias.data.zero_()\n",
    "\n",
    "    def forward(self, x, H, W):\n",
    "\n",
    "        x = x + self.drop_path(self.mlp(self.norm2(x), H, W))\n",
    "        return x\n",
    "\n",
    "\n",
    "class DWConv(nn.Module):\n",
    "    def __init__(self, dim=768):\n",
    "        super(DWConv, self).__init__()\n",
    "        self.dwconv = nn.Conv2d(dim, dim, 3, 1, 1, bias=True, groups=dim)\n",
    "\n",
    "    def forward(self, x, H, W):\n",
    "        B, N, C = x.shape\n",
    "        x = x.transpose(1, 2).view(B, C, H, W)\n",
    "        x = self.dwconv(x)\n",
    "        x = x.flatten(2).transpose(1, 2)\n",
    "\n",
    "        return x\n",
    "\n",
    "class OverlapPatchEmbed(nn.Module):\n",
    "    \"\"\" Image to Patch Embedding\n",
    "    \"\"\"\n",
    "\n",
    "    def __init__(self, img_size=224, patch_size=7, stride=4, in_chans=3, embed_dim=768):\n",
    "        super().__init__()\n",
    "        img_size = to_2tuple(img_size)\n",
    "        patch_size = to_2tuple(patch_size)\n",
    "\n",
    "        self.img_size = img_size\n",
    "        self.patch_size = patch_size\n",
    "        self.H, self.W = img_size[0] // patch_size[0], img_size[1] // patch_size[1]\n",
    "        self.num_patches = self.H * self.W\n",
    "        self.proj = nn.Conv2d(in_chans, embed_dim, kernel_size=patch_size, stride=stride,\n",
    "                              padding=(patch_size[0] // 2, patch_size[1] // 2))\n",
    "        self.norm = nn.LayerNorm(embed_dim)\n",
    "\n",
    "        self.apply(self._init_weights)\n",
    "\n",
    "    def _init_weights(self, m):\n",
    "        if isinstance(m, nn.Linear):\n",
    "            trunc_normal_(m.weight, std=.02)\n",
    "            if isinstance(m, nn.Linear) and m.bias is not None:\n",
    "                nn.init.constant_(m.bias, 0)\n",
    "        elif isinstance(m, nn.LayerNorm):\n",
    "            nn.init.constant_(m.bias, 0)\n",
    "            nn.init.constant_(m.weight, 1.0)\n",
    "        elif isinstance(m, nn.Conv2d):\n",
    "            fan_out = m.kernel_size[0] * m.kernel_size[1] * m.out_channels\n",
    "            fan_out //= m.groups\n",
    "            m.weight.data.normal_(0, math.sqrt(2.0 / fan_out))\n",
    "            if m.bias is not None:\n",
    "                m.bias.data.zero_()\n",
    "\n",
    "    def forward(self, x):\n",
    "        x = self.proj(x)\n",
    "        _, _, H, W = x.shape\n",
    "        x = x.flatten(2).transpose(1, 2)\n",
    "        x = self.norm(x)\n",
    "\n",
    "        return x, H, W\n",
    "\n",
    "\n",
    "class UNext(nn.Module):\n",
    "\n",
    "    ## Conv 3 + MLP 2 + shifted MLP\n",
    "    \n",
    "    def __init__(self,  num_classes, input_channels=3, deep_supervision=False,img_size=224, patch_size=16, in_chans=3,  embed_dims=[ 128, 160, 256],\n",
    "                 num_heads=[1, 2, 4, 8], mlp_ratios=[4, 4, 4, 4], qkv_bias=False, qk_scale=None, drop_rate=0.,\n",
    "                 attn_drop_rate=0., drop_path_rate=0., norm_layer=nn.LayerNorm,\n",
    "                 depths=[1, 1, 1], sr_ratios=[8, 4, 2, 1], **kwargs):\n",
    "        super().__init__()\n",
    "        self.num_classes = num_classes\n",
    "        self.input_channels = input_channels\n",
    "        self.encoder1 = nn.Conv2d(3, 16, 3, stride=1, padding=1)  \n",
    "        \n",
    "        self.encoder2 = ScConv(16, 32, 3, stride=1, padding=1)  \n",
    "        self.encoder3 = ScConv(32, 128, 3, stride=1, padding=1)\n",
    "\n",
    "        self.ebn1 = nn.BatchNorm2d(16)\n",
    "        self.ebn2 = nn.BatchNorm2d(32)\n",
    "        self.ebn3 = nn.BatchNorm2d(128)\n",
    "        \n",
    "        self.norm3 = norm_layer(embed_dims[1])\n",
    "        self.norm4 = norm_layer(embed_dims[2])\n",
    "\n",
    "        self.dnorm3 = norm_layer(160)\n",
    "        self.dnorm4 = norm_layer(128)\n",
    "\n",
    "        dpr = [x.item() for x in torch.linspace(0, drop_path_rate, sum(depths))]\n",
    "\n",
    "        self.block1 = nn.ModuleList([shiftedBlock(\n",
    "            dim=embed_dims[1], num_heads=num_heads[0], mlp_ratio=1, qkv_bias=qkv_bias, qk_scale=qk_scale,\n",
    "            drop=drop_rate, attn_drop=attn_drop_rate, drop_path=dpr[0], norm_layer=norm_layer,\n",
    "            sr_ratio=sr_ratios[0])])\n",
    "\n",
    "        self.block2 = nn.ModuleList([shiftedBlock(\n",
    "            dim=embed_dims[2], num_heads=num_heads[0], mlp_ratio=1, qkv_bias=qkv_bias, qk_scale=qk_scale,\n",
    "            drop=drop_rate, attn_drop=attn_drop_rate, drop_path=dpr[1], norm_layer=norm_layer,\n",
    "            sr_ratio=sr_ratios[0])])\n",
    "\n",
    "        self.dblock1 = nn.ModuleList([shiftedBlock(\n",
    "            dim=embed_dims[1], num_heads=num_heads[0], mlp_ratio=1, qkv_bias=qkv_bias, qk_scale=qk_scale,\n",
    "            drop=drop_rate, attn_drop=attn_drop_rate, drop_path=dpr[0], norm_layer=norm_layer,\n",
    "            sr_ratio=sr_ratios[0])])\n",
    "\n",
    "        self.dblock2 = nn.ModuleList([shiftedBlock(\n",
    "            dim=embed_dims[0], num_heads=num_heads[0], mlp_ratio=1, qkv_bias=qkv_bias, qk_scale=qk_scale,\n",
    "            drop=drop_rate, attn_drop=attn_drop_rate, drop_path=dpr[1], norm_layer=norm_layer,\n",
    "            sr_ratio=sr_ratios[0])])\n",
    "\n",
    "        self.patch_embed3 = OverlapPatchEmbed(img_size=img_size // 4, patch_size=3, stride=2, in_chans=embed_dims[0],\n",
    "                                              embed_dim=embed_dims[1])\n",
    "        self.patch_embed4 = OverlapPatchEmbed(img_size=img_size // 8, patch_size=3, stride=2, in_chans=embed_dims[1],\n",
    "                                              embed_dim=embed_dims[2])\n",
    "\n",
    "        self.decoder1 =   ScConv(256, 160, 3, stride=1,padding=1)  \n",
    "        self.decoder2 =   ScConv(160, 128, 3, stride=1, padding=1)  \n",
    "        self.decoder3 =   ScConv(128, 32, 3, stride=1, padding=1) \n",
    "        self.decoder4 =   ScConv(32, 16, 3, stride=1, padding=1)\n",
    "        self.decoder5 =   ScConv(16, 16, 3, stride=1, padding=1)\n",
    "\n",
    "        self.dbn1 = nn.BatchNorm2d(160)\n",
    "        self.dbn2 = nn.BatchNorm2d(128)\n",
    "        self.dbn3 = nn.BatchNorm2d(32)\n",
    "        self.dbn4 = nn.BatchNorm2d(16)\n",
    "        \n",
    "        self.final = nn.Conv2d(16, num_classes, kernel_size=1)\n",
    "\n",
    "        self.soft = nn.Softmax(dim =1)\n",
    "\n",
    "    def forward(self, x):\n",
    "        \n",
    "        B = x.shape[0]\n",
    "        ### Encoder\n",
    "        ### Conv Stage\n",
    "\n",
    "        ### Stage 1\n",
    "        out = F.relu(F.max_pool2d(self.ebn1(self.encoder1(x)),2,2))\n",
    "        t1 = out\n",
    "        ### Stage 2\n",
    "        out = F.relu(F.max_pool2d(self.ebn2(self.encoder2(out)),2,2))\n",
    "        t2 = out\n",
    "        ### Stage 3\n",
    "        out = F.relu(F.max_pool2d(self.ebn3(self.encoder3(out)),2,2))\n",
    "        t3 = out\n",
    "\n",
    "        ### Tokenized MLP Stage\n",
    "        ### Stage 4\n",
    "\n",
    "        out,H,W = self.patch_embed3(out)\n",
    "        for i, blk in enumerate(self.block1):\n",
    "            out = blk(out, H, W)\n",
    "        out = self.norm3(out)\n",
    "        out = out.reshape(B, H, W, -1).permute(0, 3, 1, 2).contiguous()\n",
    "        t4 = out\n",
    "\n",
    "        ### Bottleneck\n",
    "\n",
    "        out ,H,W= self.patch_embed4(out)\n",
    "        for i, blk in enumerate(self.block2):\n",
    "            out = blk(out, H, W)\n",
    "        out = self.norm4(out)\n",
    "        out = out.reshape(B, H, W, -1).permute(0, 3, 1, 2).contiguous()\n",
    "\n",
    "        ### Stage 4\n",
    "\n",
    "        out = F.relu(F.interpolate(self.dbn1(self.decoder1(out)),scale_factor=(2,2),mode ='bilinear'))\n",
    "        \n",
    "        out = torch.add(out,t4)\n",
    "        _,_,H,W = out.shape\n",
    "        out = out.flatten(2).transpose(1,2)\n",
    "        for i, blk in enumerate(self.dblock1):\n",
    "            out = blk(out, H, W)\n",
    "\n",
    "        ### Stage 3\n",
    "        \n",
    "        out = self.dnorm3(out)\n",
    "        out = out.reshape(B, H, W, -1).permute(0, 3, 1, 2).contiguous()\n",
    "        out = F.relu(F.interpolate(self.dbn2(self.decoder2(out)),scale_factor=(2,2),mode ='bilinear'))\n",
    "        out = torch.add(out,t3)\n",
    "        _,_,H,W = out.shape\n",
    "        out = out.flatten(2).transpose(1,2)\n",
    "        \n",
    "        for i, blk in enumerate(self.dblock2):\n",
    "            out = blk(out, H, W)\n",
    "\n",
    "        out = self.dnorm4(out)\n",
    "        out = out.reshape(B, H, W, -1).permute(0, 3, 1, 2).contiguous()\n",
    "\n",
    "        out = F.relu(F.interpolate(self.dbn3(self.decoder3(out)),scale_factor=(2,2),mode ='bilinear'))\n",
    "        out = torch.add(out,t2)\n",
    "        out = F.relu(F.interpolate(self.dbn4(self.decoder4(out)),scale_factor=(2,2),mode ='bilinear'))\n",
    "        out = torch.add(out,t1)\n",
    "        out = F.relu(F.interpolate(self.decoder5(out),scale_factor=(2,2),mode ='bilinear'))\n",
    "\n",
    "        return self.final(out)\n",
    "\n",
    "\n",
    "class UNext_S(nn.Module):\n",
    "\n",
    "    ## Conv 3 + MLP 2 + shifted MLP w less parameters\n",
    "    \n",
    "    def __init__(self,  num_classes, input_channels=3, deep_supervision=False,img_size=224, patch_size=16, in_chans=3,  embed_dims=[32, 64, 128, 512],\n",
    "                 num_heads=[1, 2, 4, 8], mlp_ratios=[4, 4, 4, 4], qkv_bias=False, qk_scale=None, drop_rate=0.,\n",
    "                 attn_drop_rate=0., drop_path_rate=0., norm_layer=nn.LayerNorm,\n",
    "                 depths=[1, 1, 1], sr_ratios=[8, 4, 2, 1], **kwargs):\n",
    "        super().__init__()\n",
    "        self.input_channels = input_channels\n",
    "        self.num_classes = num_classes\n",
    "        self.encoder1 = nn.Conv2d(3, 8, 3, stride=1, padding=1)  \n",
    "        self.encoder2 = ScConv(8, 16, 3, stride=1, padding=1)  \n",
    "        self.encoder3 = ScConv(16, 32, 3, stride=1, padding=1)\n",
    "\n",
    "        self.ebn1 = nn.BatchNorm2d(8)\n",
    "        self.ebn2 = nn.BatchNorm2d(16)\n",
    "        self.ebn3 = nn.BatchNorm2d(32)\n",
    "        \n",
    "        self.norm3 = norm_layer(embed_dims[1])\n",
    "        self.norm4 = norm_layer(embed_dims[2])\n",
    "\n",
    "        self.dnorm3 = norm_layer(64)\n",
    "        self.dnorm4 = norm_layer(32)\n",
    "\n",
    "        dpr = [x.item() for x in torch.linspace(0, drop_path_rate, sum(depths))]\n",
    "\n",
    "        self.block1 = nn.ModuleList([shiftedBlock(\n",
    "            dim=embed_dims[1], num_heads=num_heads[0], mlp_ratio=1, qkv_bias=qkv_bias, qk_scale=qk_scale,\n",
    "            drop=drop_rate, attn_drop=attn_drop_rate, drop_path=dpr[0], norm_layer=norm_layer,\n",
    "            sr_ratio=sr_ratios[0])])\n",
    "\n",
    "        self.block2 = nn.ModuleList([shiftedBlock(\n",
    "            dim=embed_dims[2], num_heads=num_heads[0], mlp_ratio=1, qkv_bias=qkv_bias, qk_scale=qk_scale,\n",
    "            drop=drop_rate, attn_drop=attn_drop_rate, drop_path=dpr[1], norm_layer=norm_layer,\n",
    "            sr_ratio=sr_ratios[0])])\n",
    "\n",
    "        self.dblock1 = nn.ModuleList([shiftedBlock(\n",
    "            dim=embed_dims[1], num_heads=num_heads[0], mlp_ratio=1, qkv_bias=qkv_bias, qk_scale=qk_scale,\n",
    "            drop=drop_rate, attn_drop=attn_drop_rate, drop_path=dpr[0], norm_layer=norm_layer,\n",
    "            sr_ratio=sr_ratios[0])])\n",
    "\n",
    "        self.dblock2 = nn.ModuleList([shiftedBlock(\n",
    "            dim=embed_dims[0], num_heads=num_heads[0], mlp_ratio=1, qkv_bias=qkv_bias, qk_scale=qk_scale,\n",
    "            drop=drop_rate, attn_drop=attn_drop_rate, drop_path=dpr[1], norm_layer=norm_layer,\n",
    "            sr_ratio=sr_ratios[0])])\n",
    "\n",
    "        self.patch_embed3 = OverlapPatchEmbed(img_size=img_size // 4, patch_size=3, stride=2, in_chans=embed_dims[0],\n",
    "                                              embed_dim=embed_dims[1])\n",
    "        self.patch_embed4 = OverlapPatchEmbed(img_size=img_size // 8, patch_size=3, stride=2, in_chans=embed_dims[1],\n",
    "                                              embed_dim=embed_dims[2])\n",
    "\n",
    "        self.decoder1 =  ScConv(128, 64, 3, stride=1,padding=1)  \n",
    "        self.decoder2 =  ScConv(64, 32, 3, stride=1, padding=1)  \n",
    "        self.decoder3 =  ScConv(32, 16, 3, stride=1, padding=1) \n",
    "        self.decoder4 =  ScConv(16, 8, 3, stride=1, padding=1)\n",
    "        self.decoder5 =  ScConv(8, 8, 3, stride=1, padding=1)\n",
    "\n",
    "        self.dbn1 = nn.BatchNorm2d(64)\n",
    "        self.dbn2 = nn.BatchNorm2d(32)\n",
    "        self.dbn3 = nn.BatchNorm2d(16)\n",
    "        self.dbn4 = nn.BatchNorm2d(8)\n",
    "        \n",
    "        self.final = nn.Conv2d(8, num_classes, kernel_size=1)\n",
    "\n",
    "        self.soft = nn.Softmax(dim =1)\n",
    "\n",
    "    def forward(self, x):\n",
    "        \n",
    "        B = x.shape[0]\n",
    "        ### Encoder\n",
    "        ### Conv Stage\n",
    "\n",
    "        ### Stage 1\n",
    "        out = F.relu(F.max_pool2d(self.ebn1(self.encoder1(x)),2,2))\n",
    "        t1 = out\n",
    "        ### Stage 2\n",
    "        out = F.relu(F.max_pool2d(self.ebn2(self.encoder2(out)),2,2))\n",
    "        t2 = out\n",
    "        ### Stage 3\n",
    "        out = F.relu(F.max_pool2d(self.ebn3(self.encoder3(out)),2,2))\n",
    "        t3 = out\n",
    "\n",
    "        ### Tokenized MLP Stage\n",
    "        ### Stage 4\n",
    "\n",
    "        out,H,W = self.patch_embed3(out)\n",
    "        for i, blk in enumerate(self.block1):\n",
    "            out = blk(out, H, W)\n",
    "        out = self.norm3(out)\n",
    "        out = out.reshape(B, H, W, -1).permute(0, 3, 1, 2).contiguous()\n",
    "        t4 = out\n",
    "\n",
    "        ### Bottleneck\n",
    "\n",
    "        out ,H,W= self.patch_embed4(out)\n",
    "        for i, blk in enumerate(self.block2):\n",
    "            out = blk(out, H, W)\n",
    "        out = self.norm4(out)\n",
    "        out = out.reshape(B, H, W, -1).permute(0, 3, 1, 2).contiguous()\n",
    "\n",
    "        ### Stage 4\n",
    "\n",
    "        out = F.relu(F.interpolate(self.dbn1(self.decoder1(out)),scale_factor=(2,2),mode ='bilinear'))\n",
    "        \n",
    "        out = torch.add(out,t4)\n",
    "        _,_,H,W = out.shape\n",
    "        out = out.flatten(2).transpose(1,2)\n",
    "        for i, blk in enumerate(self.dblock1):\n",
    "            out = blk(out, H, W)\n",
    "\n",
    "        ### Stage 3\n",
    "        \n",
    "        out = self.dnorm3(out)\n",
    "        out = out.reshape(B, H, W, -1).permute(0, 3, 1, 2).contiguous()\n",
    "        out = F.relu(F.interpolate(self.dbn2(self.decoder2(out)),scale_factor=(2,2),mode ='bilinear'))\n",
    "        out = torch.add(out,t3)\n",
    "        _,_,H,W = out.shape\n",
    "        out = out.flatten(2).transpose(1,2)\n",
    "        \n",
    "        for i, blk in enumerate(self.dblock2):\n",
    "            out = blk(out, H, W)\n",
    "\n",
    "        out = self.dnorm4(out)\n",
    "        out = out.reshape(B, H, W, -1).permute(0, 3, 1, 2).contiguous()\n",
    "\n",
    "        out = F.relu(F.interpolate(self.dbn3(self.decoder3(out)),scale_factor=(2,2),mode ='bilinear'))\n",
    "        out = torch.add(out,t2)\n",
    "        out = F.relu(F.interpolate(self.dbn4(self.decoder4(out)),scale_factor=(2,2),mode ='bilinear'))\n",
    "        out = torch.add(out,t1)\n",
    "        out = F.relu(F.interpolate(self.decoder5(out),scale_factor=(2,2),mode ='bilinear'))\n",
    "\n",
    "        return self.final(out)\n",
    "\n",
    "\n",
    "#EOF\n",
    "\n",
    "\n",
    "## DataSet"
   ]
  },
  {
   "cell_type": "code",
   "execution_count": 7,
   "id": "23bdf9cb",
   "metadata": {
    "execution": {
     "iopub.execute_input": "2023-12-17T17:33:00.440320Z",
     "iopub.status.busy": "2023-12-17T17:33:00.439987Z",
     "iopub.status.idle": "2023-12-17T17:33:00.452970Z",
     "shell.execute_reply": "2023-12-17T17:33:00.452045Z"
    },
    "papermill": {
     "duration": 0.027119,
     "end_time": "2023-12-17T17:33:00.455243",
     "exception": false,
     "start_time": "2023-12-17T17:33:00.428124",
     "status": "completed"
    },
    "tags": []
   },
   "outputs": [],
   "source": [
    "# TODO: image和mask名称不一样时跳过\n",
    "class APODataSet(Dataset):\n",
    "    # 格式不对的异常数据\n",
    "    invalid_img = [10, 184, 185]\n",
    "    def __init__(self, img_dir, mask_dir: str, size, channels = 3) -> None:\n",
    "        # 获取所有图片路径\n",
    "        self.img_paths = list(Path(img_dir).glob(\"*\"))\n",
    "        self.mask_paths = list(Path(mask_dir).glob(\"*\"))\n",
    "        for idx in self.invalid_img:\n",
    "            del self.img_paths[idx]\n",
    "            del self.mask_paths[idx]\n",
    "        \n",
    "        \n",
    "        transformers = [\n",
    "            transforms.Resize(size),\n",
    "            transforms.ToTensor()\n",
    "        ]\n",
    "        if channels == 1:\n",
    "            transformers.insert(0, transforms.Grayscale(num_output_channels=1))\n",
    "\n",
    "        # 设置 transforms\n",
    "        self.transform = transforms.Compose(transformers)\n",
    "#         self.transform = transforms.Compose([transforms.PILToTensor()])\n",
    "\n",
    "    # 使用函数加载原始图像\n",
    "    def load_orig_image(self, index: int) -> Image.Image:\n",
    "        \"Opens an image via a path and returns it.\"\n",
    "        image_path = self.img_paths[index]\n",
    "        return Image.open(image_path) \n",
    "    \n",
    "    # 使用函数加载tmask图像\n",
    "    def load_mask_image(self, index: int) -> Image.Image:\n",
    "        \"Opens an image via a path and returns it.\"\n",
    "        image_path = self.mask_paths[index]\n",
    "        return Image.open(image_path) \n",
    "\n",
    "    #  重写 __len__() 方法 (optional but recommended for subclasses of torch.utils.data.Dataset)\n",
    "    def __len__(self) -> int:\n",
    "        \"Returns the total number of samples.\"\n",
    "        return len(self.img_paths)\n",
    "\n",
    "    # 重写 __getitem__() 方法 (required for subclasses of torch.utils.data.Dataset)\n",
    "    def __getitem__(self, index: int) -> Tuple[torch.Tensor, torch.Tensor]:\n",
    "        \"Returns one sample of data, image and mask (X, y).\"\n",
    "        orig_img = self.load_orig_image(index)\n",
    "        mask_img = self.load_mask_image(index)\n",
    "        \n",
    "        orig_img = self.transform(orig_img)\n",
    "        mask_img = self.transform(mask_img)\n",
    "#         mask_img = mask_img[0]\n",
    "#         if orig_img.size()[0] != 3:\n",
    "#             print(\"{}: orig_img size: {}\".format(index,orig_img.size()))\n",
    "#             return None\n",
    "        # return data, mask (X, y)\n",
    "        return orig_img, mask_img\n"
   ]
  },
  {
   "cell_type": "code",
   "execution_count": 8,
   "id": "4ccc3563",
   "metadata": {
    "execution": {
     "iopub.execute_input": "2023-12-17T17:33:00.477108Z",
     "iopub.status.busy": "2023-12-17T17:33:00.476812Z",
     "iopub.status.idle": "2023-12-17T17:33:00.625021Z",
     "shell.execute_reply": "2023-12-17T17:33:00.623773Z"
    },
    "papermill": {
     "duration": 0.161583,
     "end_time": "2023-12-17T17:33:00.627260",
     "exception": false,
     "start_time": "2023-12-17T17:33:00.465677",
     "status": "completed"
    },
    "tags": []
   },
   "outputs": [
    {
     "name": "stdout",
     "output_type": "stream",
     "text": [
      "dataset info\n",
      "total: 571, train_size: 456, validate_size: 115\n"
     ]
    }
   ],
   "source": [
    "dataset =  APODataSet(img_dir = \"/kaggle/input/dltrack/apo_images\",\n",
    "                      mask_dir = \"/kaggle/input/dltrack/apo_masks\",\n",
    "                     size = [512, 512])\n",
    "\n",
    "total = len(dataset)\n",
    "train_size = int(0.8*total)\n",
    "validate_size = total - train_size\n",
    "train_data, validate_data = random_split(dataset, [train_size, validate_size])\n",
    "print(\"dataset info\\ntotal: {}, train_size: {}, validate_size: {}\".format(total, len(train_data), len(validate_data)))\n",
    "\n",
    "trainloader = DataLoader(dataset=train_data,\n",
    "                                     batch_size=2,\n",
    "                                     num_workers=0,\n",
    "                                     shuffle=True)\n",
    "\n",
    "valloader = DataLoader(dataset=validate_data,\n",
    "                                    batch_size=1, \n",
    "                                    num_workers=0, \n",
    "                                    shuffle=False)"
   ]
  },
  {
   "cell_type": "markdown",
   "id": "2b5f67b2",
   "metadata": {
    "papermill": {
     "duration": 0.009549,
     "end_time": "2023-12-17T17:33:00.646758",
     "exception": false,
     "start_time": "2023-12-17T17:33:00.637209",
     "status": "completed"
    },
    "tags": []
   },
   "source": [
    "### 检查异常图片\n",
    "要把找到的异常数据去除"
   ]
  },
  {
   "cell_type": "code",
   "execution_count": 9,
   "id": "fde4c2ca",
   "metadata": {
    "execution": {
     "iopub.execute_input": "2023-12-17T17:33:00.668090Z",
     "iopub.status.busy": "2023-12-17T17:33:00.667754Z",
     "iopub.status.idle": "2023-12-17T17:33:14.981584Z",
     "shell.execute_reply": "2023-12-17T17:33:14.980174Z"
    },
    "papermill": {
     "duration": 14.327188,
     "end_time": "2023-12-17T17:33:14.983964",
     "exception": false,
     "start_time": "2023-12-17T17:33:00.656776",
     "status": "completed"
    },
    "tags": []
   },
   "outputs": [
    {
     "name": "stdout",
     "output_type": "stream",
     "text": [
      "[done]\n"
     ]
    }
   ],
   "source": [
    "for index in range(len(dataset)):\n",
    "    orig_img, mask_img = dataset[index]\n",
    "    if orig_img.size()[0] != 3:\n",
    "        print(\"{}: orig_img size: {}\".format(index,orig_img.size()))\n",
    "print(\"[done]\")"
   ]
  },
  {
   "cell_type": "markdown",
   "id": "5afad980",
   "metadata": {
    "papermill": {
     "duration": 0.009959,
     "end_time": "2023-12-17T17:33:15.005682",
     "exception": false,
     "start_time": "2023-12-17T17:33:14.995723",
     "status": "completed"
    },
    "tags": []
   },
   "source": [
    "### 随机显示一张原始图片和其对应的标记图片"
   ]
  },
  {
   "cell_type": "code",
   "execution_count": 10,
   "id": "66c2707a",
   "metadata": {
    "execution": {
     "iopub.execute_input": "2023-12-17T17:33:15.027615Z",
     "iopub.status.busy": "2023-12-17T17:33:15.027301Z",
     "iopub.status.idle": "2023-12-17T17:33:15.569710Z",
     "shell.execute_reply": "2023-12-17T17:33:15.568683Z"
    },
    "papermill": {
     "duration": 0.55833,
     "end_time": "2023-12-17T17:33:15.574233",
     "exception": false,
     "start_time": "2023-12-17T17:33:15.015903",
     "status": "completed"
    },
    "tags": []
   },
   "outputs": [
    {
     "name": "stdout",
     "output_type": "stream",
     "text": [
      "torch.Size([3, 512, 512])\n",
      "showing image of 544: \n"
     ]
    },
    {
     "data": {
      "image/png": "[encoded data removed]",
      "text/plain": [
       "<Figure size 1080x864 with 2 Axes>"
      ]
     },
     "metadata": {
      "needs_background": "light"
     },
     "output_type": "display_data"
    }
   ],
   "source": [
    "idx = random.randint(0, len(dataset))\n",
    "orig_img, mask_img = dataset[idx]\n",
    "print(orig_img.size())\n",
    "\n",
    "transform = transforms.ToPILImage()\n",
    "print(\"showing image of {}: \".format(idx))\n",
    "\n",
    "orig_img = transform(orig_img)\n",
    "mask_img = transform(mask_img)\n",
    "\n",
    "fig, (ax1, ax2) = plt.subplots(1, 2, figsize = (15, 12))\n",
    "\n",
    "ax1.imshow(orig_img)\n",
    "ax1.set_title(\"origin_img\")\n",
    "\n",
    "ax2.imshow(mask_img)\n",
    "ax2.set_title(\"mask_img\")\n",
    "\n",
    "plt.show()"
   ]
  },
  {
   "cell_type": "markdown",
   "id": "0c25f08e",
   "metadata": {
    "papermill": {
     "duration": 0.013968,
     "end_time": "2023-12-17T17:33:15.601428",
     "exception": false,
     "start_time": "2023-12-17T17:33:15.587460",
     "status": "completed"
    },
    "tags": []
   },
   "source": [
    "## 模型训练"
   ]
  },
  {
   "cell_type": "code",
   "execution_count": 11,
   "id": "b73f7c0e",
   "metadata": {
    "execution": {
     "iopub.execute_input": "2023-12-17T17:33:15.632232Z",
     "iopub.status.busy": "2023-12-17T17:33:15.631824Z",
     "iopub.status.idle": "2023-12-17T17:33:15.647263Z",
     "shell.execute_reply": "2023-12-17T17:33:15.646115Z"
    },
    "papermill": {
     "duration": 0.033614,
     "end_time": "2023-12-17T17:33:15.649638",
     "exception": false,
     "start_time": "2023-12-17T17:33:15.616024",
     "status": "completed"
    },
    "tags": []
   },
   "outputs": [],
   "source": [
    "\n",
    "@torch.inference_mode()\n",
    "def evaluate(net, dataloader, device, amp):\n",
    "    net.eval()\n",
    "    num_val_batches = len(dataloader)\n",
    "    dice_score = 0\n",
    "    iou_score = 0\n",
    "\n",
    "    if isinstance(model, nn.DataParallel):\n",
    "        num_classes = net.module.num_classes\n",
    "    else:\n",
    "        num_classes = net.num_classes\n",
    "    criterion = nn.CrossEntropyLoss() if num_classes > 1 else nn.BCEWithLogitsLoss()\n",
    "    dice_loss = smp.losses.DiceLoss(mode='binary', log_loss=True, from_logits = True).cuda()\n",
    "   \n",
    "    \n",
    "    # iterate over the validation set\n",
    "    with torch.autocast(device.type if device.type != 'mps' else 'cpu', enabled=amp):\n",
    "        for batch in tqdm(dataloader, total=num_val_batches, desc='Validation round', unit='batch', position=0 ,leave=True):\n",
    "            image, mask_true = batch\n",
    "\n",
    "            # move images and labels to correct device and type\n",
    "            image = image.to(device=device, dtype=torch.float32, memory_format=torch.channels_last)\n",
    "            mask_true = mask_true.to(device=device, dtype=torch.float32)\n",
    "\n",
    "            # predict the mask\n",
    "            mask_pred = net(image)\n",
    "            dice_score += criterion(mask_pred, mask_true.float())\n",
    "            dice_score += dice_loss(mask_pred, mask_true)\n",
    "            \n",
    "            tp, fp, fn, tn = smp.metrics.get_stats(mask_pred, mask_true.long(), mode='binary', threshold=0.5)\n",
    "            iou_score += smp.metrics.iou_score(tp, fp, fn, tn, reduction=\"micro\")\n",
    "            \n",
    "    dice_loss = (dice_score / max(num_val_batches, 1))\n",
    "    iou_score = (iou_score / max(num_val_batches, 1))\n",
    "    print(\"Validation dice loss: {}, IoU Score {}\".format(dice_loss, iou_score))\n",
    "    return (dice_loss, iou_score)"
   ]
  },
  {
   "cell_type": "code",
   "execution_count": 12,
   "id": "00718721",
   "metadata": {
    "execution": {
     "iopub.execute_input": "2023-12-17T17:33:15.680339Z",
     "iopub.status.busy": "2023-12-17T17:33:15.679996Z",
     "iopub.status.idle": "2023-12-17T17:33:17.126610Z",
     "shell.execute_reply": "2023-12-17T17:33:17.125692Z"
    },
    "papermill": {
     "duration": 1.464895,
     "end_time": "2023-12-17T17:33:17.129143",
     "exception": false,
     "start_time": "2023-12-17T17:33:15.664248",
     "status": "completed"
    },
    "tags": []
   },
   "outputs": [],
   "source": [
    "import time\n",
    "import torch.optim as optim\n",
    "import segmentation_models_pytorch as smp\n",
    "\n",
    "n_train = len(train_data)\n",
    "n_val = len(validate_data)\n",
    "\n",
    "\n",
    "def train(model, device, \n",
    "          project = 'U-Net',\n",
    "          epochs: int = 60,\n",
    "          learning_rate: float = 1e-5, \n",
    "          weight_decay: float = 1e-8,\n",
    "          momentum: float = 0.999,\n",
    "          batch_size: int = 2,\n",
    "          amp: bool = False,\n",
    "          val_percent: float = 0.1,\n",
    "          gradient_clipping: float = 1.0):\n",
    "    \n",
    "    if isinstance(model, nn.DataParallel):\n",
    "        num_classes = model.module.num_classes\n",
    "        input_channels = model.module.input_channels\n",
    "    else:\n",
    "        num_classes = model.num_classes\n",
    "        input_channels = model.input_channels\n",
    "        \n",
    "    # (Initialize logging)\n",
    "    experiment = wandb.init(project=project, resume='allow', anonymous='must')\n",
    "    experiment.config.update(\n",
    "        dict(epochs=epochs, batch_size=batch_size, learning_rate=learning_rate,\n",
    "             val_percent=val_percent, amp=amp)\n",
    "    )\n",
    "\n",
    "    logging.info(f'''Starting training:\n",
    "        Epochs:          {epochs}\n",
    "        Batch size:      {batch_size}\n",
    "        Learning rate:   {learning_rate}\n",
    "        Training size:   {n_train}\n",
    "        Validation size: {n_val}\n",
    "        Device:          {device.type}\n",
    "        Mixed Precision: {amp}\n",
    "    ''')\n",
    "    \n",
    "\n",
    "    optimizer = optim.Adam(model.parameters(), lr=learning_rate)\n",
    "#     optimizer = optim.SGD(params, lr=config['lr'], momentum=config['momentum'],\n",
    "#                               nesterov=config['nesterov'], weight_decay=config['weight_decay'])\n",
    "\n",
    "    scheduler = optim.lr_scheduler.CosineAnnealingWarmRestarts(optimizer, T_0=1, T_mult=2, eta_min=5e-5)\n",
    "    grad_scaler = torch.cuda.amp.GradScaler(enabled=amp)\n",
    "    \n",
    "    criterion = nn.CrossEntropyLoss().cuda()\n",
    "    dice_loss = smp.losses.DiceLoss(mode='binary').cuda()\n",
    "    \n",
    "    global_step = 0\n",
    "    \n",
    "\n",
    "    # 5. Begin training\n",
    "    for epoch in range(1, epochs + 1):\n",
    "        model.train()\n",
    "        epoch_loss = 0\n",
    "        with tqdm(total=n_train, desc=f'Epoch {epoch}/{epochs}', unit='img') as pbar:\n",
    "            for batch in trainloader:\n",
    "                images, true_masks = batch\n",
    "\n",
    "                assert images.shape[1] == input_channels, \\\n",
    "                    f'Network has been defined with {input_channels} input channels, ' \\\n",
    "                    f'but loaded images have {images.shape[1]} channels. Please check that ' \\\n",
    "                    'the images are loaded correctly.'\n",
    "\n",
    "                images = images.to(device=device, dtype=torch.float32, memory_format=torch.channels_last)\n",
    "                \n",
    "                true_masks = true_masks.to(device=device, dtype=torch.long)\n",
    "\n",
    "                with torch.autocast(device.type if device.type != 'mps' else 'cpu', enabled=amp):\n",
    "                    masks_pred = model(images)\n",
    "                    loss = criterion(masks_pred, true_masks.float())\n",
    "                    loss += dice_loss(masks_pred, true_masks)\n",
    "                    tp, fp, fn, tn = smp.metrics.get_stats(masks_pred, true_masks.long(), mode='binary', threshold=0.5)\n",
    "                    iou_score = smp.metrics.iou_score(tp, fp, fn, tn, reduction=\"micro\")\n",
    "    \n",
    "                optimizer.zero_grad(set_to_none=True)\n",
    "                grad_scaler.scale(loss).backward()\n",
    "                torch.nn.utils.clip_grad_norm_(model.parameters(), gradient_clipping)\n",
    "                grad_scaler.step(optimizer)\n",
    "                grad_scaler.update()\n",
    "\n",
    "                pbar.update(images.shape[0])\n",
    "                global_step += 1\n",
    "                epoch_loss += loss.item()\n",
    "                experiment.log({\n",
    "                    'train iou': iou_score,\n",
    "                    'train loss': loss.item(),\n",
    "                    'step': global_step,\n",
    "                    'epoch': epoch\n",
    "                })\n",
    "                pbar.set_postfix(**{'loss (batch)': loss.item()})\n",
    "\n",
    "                # Evaluation round\n",
    "                division_step = (n_train // (5 * batch_size))\n",
    "                if division_step > 0:\n",
    "                    if global_step % division_step == 0:\n",
    "                        histograms = {}\n",
    "                        for tag, value in model.named_parameters():\n",
    "                            tag = tag.replace('/', '.')\n",
    "                            if not (torch.isinf(value) | torch.isnan(value)).any():\n",
    "                                histograms['Weights/' + tag] = wandb.Histogram(value.data.cpu())\n",
    "                            if not (torch.isinf(value.grad) | torch.isnan(value.grad)).any():\n",
    "                                histograms['Gradients/' + tag] = wandb.Histogram(value.grad.data.cpu())\n",
    "\n",
    "                        val_score, iou_score = evaluate(model, valloader, device, amp)\n",
    "                        model.train()\n",
    "                        scheduler.step(val_score)\n",
    "\n",
    "                        logging.info('Validation Dice score: {}'.format(val_score))\n",
    "                        try:\n",
    "                            experiment.log({\n",
    "                                'learning rate': optimizer.param_groups[0]['lr'],\n",
    "                                'validation Dice': val_score,\n",
    "                                'validation IoU Score': iou_score,\n",
    "                                'images': wandb.Image(images[0].cpu()),\n",
    "                                'masks': {\n",
    "                                    'true': wandb.Image(true_masks[0].float().cpu()),\n",
    "                                    'pred': wandb.Image(masks_pred[0].float().cpu()),\n",
    "                                },\n",
    "                                'step': global_step,\n",
    "                                'epoch': epoch,\n",
    "                                **histograms\n",
    "                            })\n",
    "                        except:\n",
    "                            pass\n",
    "            \n"
   ]
  },
  {
   "cell_type": "code",
   "execution_count": 13,
   "id": "0d4aa979",
   "metadata": {
    "execution": {
     "iopub.execute_input": "2023-12-17T17:33:17.157032Z",
     "iopub.status.busy": "2023-12-17T17:33:17.156140Z",
     "iopub.status.idle": "2023-12-17T18:29:55.342145Z",
     "shell.execute_reply": "2023-12-17T18:29:55.340261Z"
    },
    "papermill": {
     "duration": 3398.202563,
     "end_time": "2023-12-17T18:29:55.344815",
     "exception": false,
     "start_time": "2023-12-17T17:33:17.142252",
     "status": "completed"
    },
    "tags": []
   },
   "outputs": [
    {
     "name": "stdout",
     "output_type": "stream",
     "text": [
      "out_channels: 16 squeeze_radio:  2 up_channel:  4 in_ch (out_channels // squeeze_radio):  2 out_ch(out_channels): 16\n",
      "out_channels: 16 squeeze_radio:  2 low_channel:  4 in_ch (low_channel // squeeze_radio):  2 out_ch(out_channels - low_channel // squeeze_radio): 14\n",
      "out_channels: 32 squeeze_radio:  2 up_channel:  8 in_ch (out_channels // squeeze_radio):  4 out_ch(out_channels): 32\n",
      "out_channels: 32 squeeze_radio:  2 low_channel:  8 in_ch (low_channel // squeeze_radio):  4 out_ch(out_channels - low_channel // squeeze_radio): 28\n",
      "out_channels: 64 squeeze_radio:  2 up_channel:  64 in_ch (out_channels // squeeze_radio):  32 out_ch(out_channels): 64\n",
      "out_channels: 64 squeeze_radio:  2 low_channel:  64 in_ch (low_channel // squeeze_radio):  32 out_ch(out_channels - low_channel // squeeze_radio): 32\n",
      "out_channels: 32 squeeze_radio:  2 up_channel:  32 in_ch (out_channels // squeeze_radio):  16 out_ch(out_channels): 32\n",
      "out_channels: 32 squeeze_radio:  2 low_channel:  32 in_ch (low_channel // squeeze_radio):  16 out_ch(out_channels - low_channel // squeeze_radio): 16\n",
      "out_channels: 16 squeeze_radio:  2 up_channel:  16 in_ch (out_channels // squeeze_radio):  8 out_ch(out_channels): 16\n",
      "out_channels: 16 squeeze_radio:  2 low_channel:  16 in_ch (low_channel // squeeze_radio):  8 out_ch(out_channels - low_channel // squeeze_radio): 8\n",
      "out_channels: 8 squeeze_radio:  2 up_channel:  8 in_ch (out_channels // squeeze_radio):  4 out_ch(out_channels): 8\n",
      "out_channels: 8 squeeze_radio:  2 low_channel:  8 in_ch (low_channel // squeeze_radio):  4 out_ch(out_channels - low_channel // squeeze_radio): 4\n",
      "out_channels: 8 squeeze_radio:  2 up_channel:  4 in_ch (out_channels // squeeze_radio):  2 out_ch(out_channels): 8\n",
      "out_channels: 8 squeeze_radio:  2 low_channel:  4 in_ch (low_channel // squeeze_radio):  2 out_ch(out_channels - low_channel // squeeze_radio): 6\n",
      "Let's use 2 GPUs!\n",
      "U-Next-ScConv模型参数量为：162745\n",
      "其详情为：\n",
      "module.encoder1.weight : torch.Size([8, 3, 3, 3])\n",
      "module.encoder1.bias : torch.Size([8])\n",
      "module.encoder2.SRU.gn.gamma : torch.Size([8, 1, 1])\n",
      "module.encoder2.SRU.gn.beta : torch.Size([8, 1, 1])\n",
      "module.encoder2.CRU.squeeze1.weight : torch.Size([2, 4, 1, 1])\n",
      "module.encoder2.CRU.squeeze2.weight : torch.Size([2, 4, 1, 1])\n",
      "module.encoder2.CRU.GWC.weight : torch.Size([16, 1, 3, 3])\n",
      "module.encoder2.CRU.GWC.bias : torch.Size([16])\n",
      "module.encoder2.CRU.PWC1.weight : torch.Size([16, 2, 1, 1])\n",
      "module.encoder2.CRU.PWC2.weight : torch.Size([14, 2, 1, 1])\n",
      "module.encoder3.SRU.gn.gamma : torch.Size([16, 1, 1])\n",
      "module.encoder3.SRU.gn.beta : torch.Size([16, 1, 1])\n",
      "module.encoder3.CRU.squeeze1.weight : torch.Size([4, 8, 1, 1])\n",
      "module.encoder3.CRU.squeeze2.weight : torch.Size([4, 8, 1, 1])\n",
      "module.encoder3.CRU.GWC.weight : torch.Size([32, 2, 3, 3])\n",
      "module.encoder3.CRU.GWC.bias : torch.Size([32])\n",
      "module.encoder3.CRU.PWC1.weight : torch.Size([32, 4, 1, 1])\n",
      "module.encoder3.CRU.PWC2.weight : torch.Size([28, 4, 1, 1])\n",
      "module.ebn1.weight : torch.Size([8])\n",
      "module.ebn1.bias : torch.Size([8])\n",
      "module.ebn2.weight : torch.Size([16])\n",
      "module.ebn2.bias : torch.Size([16])\n",
      "module.ebn3.weight : torch.Size([32])\n",
      "module.ebn3.bias : torch.Size([32])\n",
      "module.norm3.weight : torch.Size([64])\n",
      "module.norm3.bias : torch.Size([64])\n",
      "module.norm4.weight : torch.Size([128])\n",
      "module.norm4.bias : torch.Size([128])\n",
      "module.dnorm3.weight : torch.Size([64])\n",
      "module.dnorm3.bias : torch.Size([64])\n",
      "module.dnorm4.weight : torch.Size([32])\n",
      "module.dnorm4.bias : torch.Size([32])\n",
      "module.block1.0.norm2.weight : torch.Size([64])\n",
      "module.block1.0.norm2.bias : torch.Size([64])\n",
      "module.block1.0.mlp.fc1.weight : torch.Size([64, 64])\n",
      "module.block1.0.mlp.fc1.bias : torch.Size([64])\n",
      "module.block1.0.mlp.dwconv.dwconv.weight : torch.Size([64, 1, 3, 3])\n",
      "module.block1.0.mlp.dwconv.dwconv.bias : torch.Size([64])\n",
      "module.block1.0.mlp.fc2.weight : torch.Size([64, 64])\n",
      "module.block1.0.mlp.fc2.bias : torch.Size([64])\n",
      "module.block2.0.norm2.weight : torch.Size([128])\n",
      "module.block2.0.norm2.bias : torch.Size([128])\n",
      "module.block2.0.mlp.fc1.weight : torch.Size([128, 128])\n",
      "module.block2.0.mlp.fc1.bias : torch.Size([128])\n",
      "module.block2.0.mlp.dwconv.dwconv.weight : torch.Size([128, 1, 3, 3])\n",
      "module.block2.0.mlp.dwconv.dwconv.bias : torch.Size([128])\n",
      "module.block2.0.mlp.fc2.weight : torch.Size([128, 128])\n",
      "module.block2.0.mlp.fc2.bias : torch.Size([128])\n",
      "module.dblock1.0.norm2.weight : torch.Size([64])\n",
      "module.dblock1.0.norm2.bias : torch.Size([64])\n",
      "module.dblock1.0.mlp.fc1.weight : torch.Size([64, 64])\n",
      "module.dblock1.0.mlp.fc1.bias : torch.Size([64])\n",
      "module.dblock1.0.mlp.dwconv.dwconv.weight : torch.Size([64, 1, 3, 3])\n",
      "module.dblock1.0.mlp.dwconv.dwconv.bias : torch.Size([64])\n",
      "module.dblock1.0.mlp.fc2.weight : torch.Size([64, 64])\n",
      "module.dblock1.0.mlp.fc2.bias : torch.Size([64])\n",
      "module.dblock2.0.norm2.weight : torch.Size([32])\n",
      "module.dblock2.0.norm2.bias : torch.Size([32])\n",
      "module.dblock2.0.mlp.fc1.weight : torch.Size([32, 32])\n",
      "module.dblock2.0.mlp.fc1.bias : torch.Size([32])\n",
      "module.dblock2.0.mlp.dwconv.dwconv.weight : torch.Size([32, 1, 3, 3])\n",
      "module.dblock2.0.mlp.dwconv.dwconv.bias : torch.Size([32])\n",
      "module.dblock2.0.mlp.fc2.weight : torch.Size([32, 32])\n",
      "module.dblock2.0.mlp.fc2.bias : torch.Size([32])\n",
      "module.patch_embed3.proj.weight : torch.Size([64, 32, 3, 3])\n",
      "module.patch_embed3.proj.bias : torch.Size([64])\n",
      "module.patch_embed3.norm.weight : torch.Size([64])\n",
      "module.patch_embed3.norm.bias : torch.Size([64])\n",
      "module.patch_embed4.proj.weight : torch.Size([128, 64, 3, 3])\n",
      "module.patch_embed4.proj.bias : torch.Size([128])\n",
      "module.patch_embed4.norm.weight : torch.Size([128])\n",
      "module.patch_embed4.norm.bias : torch.Size([128])\n",
      "module.decoder1.SRU.gn.gamma : torch.Size([128, 1, 1])\n",
      "module.decoder1.SRU.gn.beta : torch.Size([128, 1, 1])\n",
      "module.decoder1.CRU.squeeze1.weight : torch.Size([32, 64, 1, 1])\n",
      "module.decoder1.CRU.squeeze2.weight : torch.Size([32, 64, 1, 1])\n",
      "module.decoder1.CRU.GWC.weight : torch.Size([64, 2, 3, 3])\n",
      "module.decoder1.CRU.GWC.bias : torch.Size([64])\n",
      "module.decoder1.CRU.PWC1.weight : torch.Size([64, 32, 1, 1])\n",
      "module.decoder1.CRU.PWC2.weight : torch.Size([32, 32, 1, 1])\n",
      "module.decoder2.SRU.gn.gamma : torch.Size([64, 1, 1])\n",
      "module.decoder2.SRU.gn.beta : torch.Size([64, 1, 1])\n",
      "module.decoder2.CRU.squeeze1.weight : torch.Size([16, 32, 1, 1])\n",
      "module.decoder2.CRU.squeeze2.weight : torch.Size([16, 32, 1, 1])\n",
      "module.decoder2.CRU.GWC.weight : torch.Size([32, 1, 3, 3])\n",
      "module.decoder2.CRU.GWC.bias : torch.Size([32])\n",
      "module.decoder2.CRU.PWC1.weight : torch.Size([32, 16, 1, 1])\n",
      "module.decoder2.CRU.PWC2.weight : torch.Size([16, 16, 1, 1])\n",
      "module.decoder3.SRU.gn.gamma : torch.Size([32, 1, 1])\n",
      "module.decoder3.SRU.gn.beta : torch.Size([32, 1, 1])\n",
      "module.decoder3.CRU.squeeze1.weight : torch.Size([8, 16, 1, 1])\n",
      "module.decoder3.CRU.squeeze2.weight : torch.Size([8, 16, 1, 1])\n",
      "module.decoder3.CRU.GWC.weight : torch.Size([16, 4, 3, 3])\n",
      "module.decoder3.CRU.GWC.bias : torch.Size([16])\n",
      "module.decoder3.CRU.PWC1.weight : torch.Size([16, 8, 1, 1])\n",
      "module.decoder3.CRU.PWC2.weight : torch.Size([8, 8, 1, 1])\n",
      "module.decoder4.SRU.gn.gamma : torch.Size([16, 1, 1])\n",
      "module.decoder4.SRU.gn.beta : torch.Size([16, 1, 1])\n",
      "module.decoder4.CRU.squeeze1.weight : torch.Size([4, 8, 1, 1])\n",
      "module.decoder4.CRU.squeeze2.weight : torch.Size([4, 8, 1, 1])\n",
      "module.decoder4.CRU.GWC.weight : torch.Size([8, 2, 3, 3])\n",
      "module.decoder4.CRU.GWC.bias : torch.Size([8])\n",
      "module.decoder4.CRU.PWC1.weight : torch.Size([8, 4, 1, 1])\n",
      "module.decoder4.CRU.PWC2.weight : torch.Size([4, 4, 1, 1])\n",
      "module.decoder5.SRU.gn.gamma : torch.Size([8, 1, 1])\n",
      "module.decoder5.SRU.gn.beta : torch.Size([8, 1, 1])\n",
      "module.decoder5.CRU.squeeze1.weight : torch.Size([2, 4, 1, 1])\n",
      "module.decoder5.CRU.squeeze2.weight : torch.Size([2, 4, 1, 1])\n",
      "module.decoder5.CRU.GWC.weight : torch.Size([8, 1, 3, 3])\n",
      "module.decoder5.CRU.GWC.bias : torch.Size([8])\n",
      "module.decoder5.CRU.PWC1.weight : torch.Size([8, 2, 1, 1])\n",
      "module.decoder5.CRU.PWC2.weight : torch.Size([6, 2, 1, 1])\n",
      "module.dbn1.weight : torch.Size([64])\n",
      "module.dbn1.bias : torch.Size([64])\n",
      "module.dbn2.weight : torch.Size([32])\n",
      "module.dbn2.bias : torch.Size([32])\n",
      "module.dbn3.weight : torch.Size([16])\n",
      "module.dbn3.bias : torch.Size([16])\n",
      "module.dbn4.weight : torch.Size([8])\n",
      "module.dbn4.bias : torch.Size([8])\n",
      "module.final.weight : torch.Size([1, 8, 1, 1])\n",
      "module.final.bias : torch.Size([1])\n"
     ]
    },
    {
     "name": "stderr",
     "output_type": "stream",
     "text": [
      "\u001b[34m\u001b[1mwandb\u001b[0m: Currently logged in as: \u001b[33mtorwayland\u001b[0m (\u001b[33mcupes-wangtao\u001b[0m). Use \u001b[1m`wandb login --relogin`\u001b[0m to force relogin\n"
     ]
    },
    {
     "data": {
      "text/html": [
       "wandb version 0.16.1 is available!  To upgrade, please run:\n",
       " $ pip install wandb --upgrade"
      ],
      "text/plain": [
       "<IPython.core.display.HTML object>"
      ]
     },
     "metadata": {},
     "output_type": "display_data"
    },
    {
     "data": {
      "text/html": [
       "Tracking run with wandb version 0.12.21"
      ],
      "text/plain": [
       "<IPython.core.display.HTML object>"
      ]
     },
     "metadata": {},
     "output_type": "display_data"
    },
    {
     "data": {
      "text/html": [
       "Run data is saved locally in <code>/kaggle/working/wandb/run-20231217_173321-oyp982t7</code>"
      ],
      "text/plain": [
       "<IPython.core.display.HTML object>"
      ]
     },
     "metadata": {},
     "output_type": "display_data"
    },
    {
     "data": {
      "text/html": [
       "Syncing run <strong><a href=\"https://wandb.ai/cupes-wangtao/U-Next-ScConv/runs/oyp982t7\" target=\"_blank\">olive-wave-26</a></strong> to <a href=\"https://wandb.ai/cupes-wangtao/U-Next-ScConv\" target=\"_blank\">Weights & Biases</a> (<a href=\"https://wandb.me/run\" target=\"_blank\">docs</a>)<br/>"
      ],
      "text/plain": [
       "<IPython.core.display.HTML object>"
      ]
     },
     "metadata": {},
     "output_type": "display_data"
    },
    {
     "name": "stderr",
     "output_type": "stream",
     "text": [
      "Validation round: 100%|██████████| 115/115 [00:05<00:00, 22.54batch/s]\n"
     ]
    },
    {
     "name": "stdout",
     "output_type": "stream",
     "text": [
      "Validation dice loss: 3.4131510257720947, IoU Score 0.0\n"
     ]
    },
    {
     "name": "stderr",
     "output_type": "stream",
     "text": [
      "Validation round: 100%|██████████| 115/115 [00:05<00:00, 22.12batch/s]\n"
     ]
    },
    {
     "name": "stdout",
     "output_type": "stream",
     "text": [
      "Validation dice loss: 3.4097955226898193, IoU Score 0.0\n"
     ]
    },
    {
     "name": "stderr",
     "output_type": "stream",
     "text": [
      "Validation round: 100%|██████████| 115/115 [00:05<00:00, 22.06batch/s]\n"
     ]
    },
    {
     "name": "stdout",
     "output_type": "stream",
     "text": [
      "Validation dice loss: 3.4083261489868164, IoU Score 0.0\n"
     ]
    },
    {
     "name": "stderr",
     "output_type": "stream",
     "text": [
      "Validation round: 100%|██████████| 115/115 [00:05<00:00, 21.64batch/s]\n"
     ]
    },
    {
     "name": "stdout",
     "output_type": "stream",
     "text": [
      "Validation dice loss: 3.4079649448394775, IoU Score 0.0\n"
     ]
    },
    {
     "name": "stderr",
     "output_type": "stream",
     "text": [
      "Validation round: 100%|██████████| 115/115 [00:05<00:00, 22.77batch/s]\n"
     ]
    },
    {
     "name": "stdout",
     "output_type": "stream",
     "text": [
      "Validation dice loss: 3.406332015991211, IoU Score 0.0\n"
     ]
    },
    {
     "name": "stderr",
     "output_type": "stream",
     "text": [
      "Epoch 1/60: 100%|██████████| 456/456 [01:12<00:00,  6.28img/s, loss (batch)=0.92]\n",
      "Validation round: 100%|██████████| 115/115 [00:04<00:00, 24.77batch/s]\n"
     ]
    },
    {
     "name": "stdout",
     "output_type": "stream",
     "text": [
      "Validation dice loss: 3.405345916748047, IoU Score 0.0\n"
     ]
    },
    {
     "name": "stderr",
     "output_type": "stream",
     "text": [
      "Validation round: 100%|██████████| 115/115 [00:04<00:00, 25.07batch/s]\n"
     ]
    },
    {
     "name": "stdout",
     "output_type": "stream",
     "text": [
      "Validation dice loss: 3.4017930030822754, IoU Score 0.0\n"
     ]
    },
    {
     "name": "stderr",
     "output_type": "stream",
     "text": [
      "Validation round: 100%|██████████| 115/115 [00:04<00:00, 24.89batch/s]\n"
     ]
    },
    {
     "name": "stdout",
     "output_type": "stream",
     "text": [
      "Validation dice loss: 3.4026293754577637, IoU Score 0.0\n"
     ]
    },
    {
     "name": "stderr",
     "output_type": "stream",
     "text": [
      "Validation round: 100%|██████████| 115/115 [00:04<00:00, 24.26batch/s]\n"
     ]
    },
    {
     "name": "stdout",
     "output_type": "stream",
     "text": [
      "Validation dice loss: 3.4002861976623535, IoU Score 0.0\n"
     ]
    },
    {
     "name": "stderr",
     "output_type": "stream",
     "text": [
      "Validation round: 100%|██████████| 115/115 [00:04<00:00, 24.73batch/s]\n"
     ]
    },
    {
     "name": "stdout",
     "output_type": "stream",
     "text": [
      "Validation dice loss: 3.3971385955810547, IoU Score 0.0\n"
     ]
    },
    {
     "name": "stderr",
     "output_type": "stream",
     "text": [
      "Epoch 2/60: 100%|██████████| 456/456 [00:55<00:00,  8.14img/s, loss (batch)=0.918]\n",
      "Validation round: 100%|██████████| 115/115 [00:04<00:00, 24.75batch/s]\n"
     ]
    },
    {
     "name": "stdout",
     "output_type": "stream",
     "text": [
      "Validation dice loss: 3.3960390090942383, IoU Score 0.0\n"
     ]
    },
    {
     "name": "stderr",
     "output_type": "stream",
     "text": [
      "Validation round: 100%|██████████| 115/115 [00:04<00:00, 24.60batch/s]\n"
     ]
    },
    {
     "name": "stdout",
     "output_type": "stream",
     "text": [
      "Validation dice loss: 3.3958003520965576, IoU Score 0.0\n"
     ]
    },
    {
     "name": "stderr",
     "output_type": "stream",
     "text": [
      "Validation round: 100%|██████████| 115/115 [00:04<00:00, 24.84batch/s]\n"
     ]
    },
    {
     "name": "stdout",
     "output_type": "stream",
     "text": [
      "Validation dice loss: 3.3947131633758545, IoU Score 0.0\n"
     ]
    },
    {
     "name": "stderr",
     "output_type": "stream",
     "text": [
      "Validation round: 100%|██████████| 115/115 [00:04<00:00, 23.79batch/s]\n"
     ]
    },
    {
     "name": "stdout",
     "output_type": "stream",
     "text": [
      "Validation dice loss: 3.390850305557251, IoU Score 0.0\n"
     ]
    },
    {
     "name": "stderr",
     "output_type": "stream",
     "text": [
      "Validation round: 100%|██████████| 115/115 [00:04<00:00, 24.19batch/s]\n"
     ]
    },
    {
     "name": "stdout",
     "output_type": "stream",
     "text": [
      "Validation dice loss: 3.3938753604888916, IoU Score 0.0\n"
     ]
    },
    {
     "name": "stderr",
     "output_type": "stream",
     "text": [
      "Epoch 3/60: 100%|██████████| 456/456 [00:56<00:00,  8.10img/s, loss (batch)=0.939]\n",
      "Validation round: 100%|██████████| 115/115 [00:04<00:00, 24.69batch/s]\n"
     ]
    },
    {
     "name": "stdout",
     "output_type": "stream",
     "text": [
      "Validation dice loss: 3.3914694786071777, IoU Score 0.0\n"
     ]
    },
    {
     "name": "stderr",
     "output_type": "stream",
     "text": [
      "Validation round: 100%|██████████| 115/115 [00:04<00:00, 23.32batch/s]\n"
     ]
    },
    {
     "name": "stdout",
     "output_type": "stream",
     "text": [
      "Validation dice loss: 3.3896141052246094, IoU Score 0.0\n"
     ]
    },
    {
     "name": "stderr",
     "output_type": "stream",
     "text": [
      "Validation round: 100%|██████████| 115/115 [00:04<00:00, 24.60batch/s]\n"
     ]
    },
    {
     "name": "stdout",
     "output_type": "stream",
     "text": [
      "Validation dice loss: 3.3919477462768555, IoU Score 0.0\n"
     ]
    },
    {
     "name": "stderr",
     "output_type": "stream",
     "text": [
      "Validation round: 100%|██████████| 115/115 [00:04<00:00, 24.79batch/s]\n"
     ]
    },
    {
     "name": "stdout",
     "output_type": "stream",
     "text": [
      "Validation dice loss: 3.3845138549804688, IoU Score 0.0\n"
     ]
    },
    {
     "name": "stderr",
     "output_type": "stream",
     "text": [
      "Validation round: 100%|██████████| 115/115 [00:04<00:00, 25.16batch/s]\n"
     ]
    },
    {
     "name": "stdout",
     "output_type": "stream",
     "text": [
      "Validation dice loss: 3.3897931575775146, IoU Score 0.0\n"
     ]
    },
    {
     "name": "stderr",
     "output_type": "stream",
     "text": [
      "Epoch 4/60: 100%|██████████| 456/456 [00:56<00:00,  8.14img/s, loss (batch)=0.953]\n",
      "Validation round: 100%|██████████| 115/115 [00:04<00:00, 24.73batch/s]\n"
     ]
    },
    {
     "name": "stdout",
     "output_type": "stream",
     "text": [
      "Validation dice loss: 3.3797028064727783, IoU Score 0.0\n"
     ]
    },
    {
     "name": "stderr",
     "output_type": "stream",
     "text": [
      "Validation round: 100%|██████████| 115/115 [00:04<00:00, 25.15batch/s]\n"
     ]
    },
    {
     "name": "stdout",
     "output_type": "stream",
     "text": [
      "Validation dice loss: 3.3848323822021484, IoU Score 0.0\n"
     ]
    },
    {
     "name": "stderr",
     "output_type": "stream",
     "text": [
      "Validation round: 100%|██████████| 115/115 [00:04<00:00, 24.07batch/s]\n"
     ]
    },
    {
     "name": "stdout",
     "output_type": "stream",
     "text": [
      "Validation dice loss: 3.383690357208252, IoU Score 0.0\n"
     ]
    },
    {
     "name": "stderr",
     "output_type": "stream",
     "text": [
      "Validation round: 100%|██████████| 115/115 [00:04<00:00, 24.83batch/s]\n"
     ]
    },
    {
     "name": "stdout",
     "output_type": "stream",
     "text": [
      "Validation dice loss: 3.3849387168884277, IoU Score 0.0\n"
     ]
    },
    {
     "name": "stderr",
     "output_type": "stream",
     "text": [
      "Validation round: 100%|██████████| 115/115 [00:04<00:00, 24.56batch/s]\n"
     ]
    },
    {
     "name": "stdout",
     "output_type": "stream",
     "text": [
      "Validation dice loss: 3.3840267658233643, IoU Score 0.0\n"
     ]
    },
    {
     "name": "stderr",
     "output_type": "stream",
     "text": [
      "Epoch 5/60: 100%|██████████| 456/456 [00:55<00:00,  8.16img/s, loss (batch)=0.905]\n",
      "Validation round: 100%|██████████| 115/115 [00:04<00:00, 24.78batch/s]\n"
     ]
    },
    {
     "name": "stdout",
     "output_type": "stream",
     "text": [
      "Validation dice loss: 3.3826496601104736, IoU Score 0.0\n"
     ]
    },
    {
     "name": "stderr",
     "output_type": "stream",
     "text": [
      "Validation round: 100%|██████████| 115/115 [00:04<00:00, 24.62batch/s]\n"
     ]
    },
    {
     "name": "stdout",
     "output_type": "stream",
     "text": [
      "Validation dice loss: 3.380626678466797, IoU Score 0.0\n"
     ]
    },
    {
     "name": "stderr",
     "output_type": "stream",
     "text": [
      "Validation round: 100%|██████████| 115/115 [00:04<00:00, 23.64batch/s]\n"
     ]
    },
    {
     "name": "stdout",
     "output_type": "stream",
     "text": [
      "Validation dice loss: 3.370445489883423, IoU Score 0.0\n"
     ]
    },
    {
     "name": "stderr",
     "output_type": "stream",
     "text": [
      "Validation round: 100%|██████████| 115/115 [00:04<00:00, 24.80batch/s]\n"
     ]
    },
    {
     "name": "stdout",
     "output_type": "stream",
     "text": [
      "Validation dice loss: 3.3749899864196777, IoU Score 0.0\n"
     ]
    },
    {
     "name": "stderr",
     "output_type": "stream",
     "text": [
      "Validation round: 100%|██████████| 115/115 [00:04<00:00, 24.92batch/s]\n"
     ]
    },
    {
     "name": "stdout",
     "output_type": "stream",
     "text": [
      "Validation dice loss: 3.3744921684265137, IoU Score 0.0\n"
     ]
    },
    {
     "name": "stderr",
     "output_type": "stream",
     "text": [
      "Epoch 6/60: 100%|██████████| 456/456 [00:56<00:00,  8.12img/s, loss (batch)=0.928]\n",
      "Validation round: 100%|██████████| 115/115 [00:04<00:00, 24.54batch/s]\n"
     ]
    },
    {
     "name": "stdout",
     "output_type": "stream",
     "text": [
      "Validation dice loss: 3.37078595161438, IoU Score 0.0\n"
     ]
    },
    {
     "name": "stderr",
     "output_type": "stream",
     "text": [
      "Validation round: 100%|██████████| 115/115 [00:04<00:00, 24.54batch/s]\n"
     ]
    },
    {
     "name": "stdout",
     "output_type": "stream",
     "text": [
      "Validation dice loss: 3.3756394386291504, IoU Score 0.0\n"
     ]
    },
    {
     "name": "stderr",
     "output_type": "stream",
     "text": [
      "Validation round: 100%|██████████| 115/115 [00:04<00:00, 24.07batch/s]\n"
     ]
    },
    {
     "name": "stdout",
     "output_type": "stream",
     "text": [
      "Validation dice loss: 3.366149425506592, IoU Score 0.0\n"
     ]
    },
    {
     "name": "stderr",
     "output_type": "stream",
     "text": [
      "Validation round: 100%|██████████| 115/115 [00:04<00:00, 24.01batch/s]\n"
     ]
    },
    {
     "name": "stdout",
     "output_type": "stream",
     "text": [
      "Validation dice loss: 3.3676865100860596, IoU Score 0.0\n"
     ]
    },
    {
     "name": "stderr",
     "output_type": "stream",
     "text": [
      "Validation round: 100%|██████████| 115/115 [00:04<00:00, 24.97batch/s]\n"
     ]
    },
    {
     "name": "stdout",
     "output_type": "stream",
     "text": [
      "Validation dice loss: 3.367659330368042, IoU Score 0.0\n"
     ]
    },
    {
     "name": "stderr",
     "output_type": "stream",
     "text": [
      "Epoch 7/60: 100%|██████████| 456/456 [00:55<00:00,  8.16img/s, loss (batch)=0.945]\n",
      "Validation round: 100%|██████████| 115/115 [00:04<00:00, 24.44batch/s]\n"
     ]
    },
    {
     "name": "stdout",
     "output_type": "stream",
     "text": [
      "Validation dice loss: 3.36724853515625, IoU Score 0.0\n"
     ]
    },
    {
     "name": "stderr",
     "output_type": "stream",
     "text": [
      "Validation round: 100%|██████████| 115/115 [00:04<00:00, 23.79batch/s]\n"
     ]
    },
    {
     "name": "stdout",
     "output_type": "stream",
     "text": [
      "Validation dice loss: 3.364102602005005, IoU Score 0.0\n"
     ]
    },
    {
     "name": "stderr",
     "output_type": "stream",
     "text": [
      "Validation round: 100%|██████████| 115/115 [00:04<00:00, 24.55batch/s]\n"
     ]
    },
    {
     "name": "stdout",
     "output_type": "stream",
     "text": [
      "Validation dice loss: 3.361593723297119, IoU Score 0.0\n"
     ]
    },
    {
     "name": "stderr",
     "output_type": "stream",
     "text": [
      "Validation round: 100%|██████████| 115/115 [00:04<00:00, 25.08batch/s]\n"
     ]
    },
    {
     "name": "stdout",
     "output_type": "stream",
     "text": [
      "Validation dice loss: 3.350377321243286, IoU Score 0.0\n"
     ]
    },
    {
     "name": "stderr",
     "output_type": "stream",
     "text": [
      "Validation round: 100%|██████████| 115/115 [00:04<00:00, 24.67batch/s]\n"
     ]
    },
    {
     "name": "stdout",
     "output_type": "stream",
     "text": [
      "Validation dice loss: 3.348898410797119, IoU Score 0.0\n"
     ]
    },
    {
     "name": "stderr",
     "output_type": "stream",
     "text": [
      "Epoch 8/60: 100%|██████████| 456/456 [00:55<00:00,  8.16img/s, loss (batch)=0.958]\n",
      "Validation round: 100%|██████████| 115/115 [00:04<00:00, 25.25batch/s]\n"
     ]
    },
    {
     "name": "stdout",
     "output_type": "stream",
     "text": [
      "Validation dice loss: 3.3479716777801514, IoU Score 0.0\n"
     ]
    },
    {
     "name": "stderr",
     "output_type": "stream",
     "text": [
      "Validation round: 100%|██████████| 115/115 [00:04<00:00, 25.35batch/s]\n"
     ]
    },
    {
     "name": "stdout",
     "output_type": "stream",
     "text": [
      "Validation dice loss: 3.3325302600860596, IoU Score 0.0\n"
     ]
    },
    {
     "name": "stderr",
     "output_type": "stream",
     "text": [
      "Validation round: 100%|██████████| 115/115 [00:04<00:00, 24.14batch/s]\n"
     ]
    },
    {
     "name": "stdout",
     "output_type": "stream",
     "text": [
      "Validation dice loss: 3.3350698947906494, IoU Score 0.0\n"
     ]
    },
    {
     "name": "stderr",
     "output_type": "stream",
     "text": [
      "Validation round: 100%|██████████| 115/115 [00:04<00:00, 24.53batch/s]\n"
     ]
    },
    {
     "name": "stdout",
     "output_type": "stream",
     "text": [
      "Validation dice loss: 3.328792095184326, IoU Score 0.0\n"
     ]
    },
    {
     "name": "stderr",
     "output_type": "stream",
     "text": [
      "Validation round: 100%|██████████| 115/115 [00:04<00:00, 24.25batch/s]\n"
     ]
    },
    {
     "name": "stdout",
     "output_type": "stream",
     "text": [
      "Validation dice loss: 3.3436033725738525, IoU Score 0.0\n"
     ]
    },
    {
     "name": "stderr",
     "output_type": "stream",
     "text": [
      "Epoch 9/60: 100%|██████████| 456/456 [00:55<00:00,  8.16img/s, loss (batch)=0.916]\n",
      "Validation round: 100%|██████████| 115/115 [00:04<00:00, 24.91batch/s]\n"
     ]
    },
    {
     "name": "stdout",
     "output_type": "stream",
     "text": [
      "Validation dice loss: 3.337698459625244, IoU Score 0.0\n"
     ]
    },
    {
     "name": "stderr",
     "output_type": "stream",
     "text": [
      "Validation round: 100%|██████████| 115/115 [00:04<00:00, 24.86batch/s]\n"
     ]
    },
    {
     "name": "stdout",
     "output_type": "stream",
     "text": [
      "Validation dice loss: 3.3336100578308105, IoU Score 0.0\n"
     ]
    },
    {
     "name": "stderr",
     "output_type": "stream",
     "text": [
      "Validation round: 100%|██████████| 115/115 [00:04<00:00, 23.95batch/s]\n"
     ]
    },
    {
     "name": "stdout",
     "output_type": "stream",
     "text": [
      "Validation dice loss: 3.3381712436676025, IoU Score 0.0\n"
     ]
    },
    {
     "name": "stderr",
     "output_type": "stream",
     "text": [
      "Validation round: 100%|██████████| 115/115 [00:04<00:00, 24.98batch/s]\n"
     ]
    },
    {
     "name": "stdout",
     "output_type": "stream",
     "text": [
      "Validation dice loss: 3.3294479846954346, IoU Score 0.0\n"
     ]
    },
    {
     "name": "stderr",
     "output_type": "stream",
     "text": [
      "Validation round: 100%|██████████| 115/115 [00:04<00:00, 25.20batch/s]\n"
     ]
    },
    {
     "name": "stdout",
     "output_type": "stream",
     "text": [
      "Validation dice loss: 3.32368803024292, IoU Score 0.0\n"
     ]
    },
    {
     "name": "stderr",
     "output_type": "stream",
     "text": [
      "Epoch 10/60: 100%|██████████| 456/456 [00:55<00:00,  8.18img/s, loss (batch)=0.952]\n",
      "Validation round: 100%|██████████| 115/115 [00:04<00:00, 23.74batch/s]\n"
     ]
    },
    {
     "name": "stdout",
     "output_type": "stream",
     "text": [
      "Validation dice loss: 3.312943696975708, IoU Score 0.0\n"
     ]
    },
    {
     "name": "stderr",
     "output_type": "stream",
     "text": [
      "Validation round: 100%|██████████| 115/115 [00:04<00:00, 24.56batch/s]\n"
     ]
    },
    {
     "name": "stdout",
     "output_type": "stream",
     "text": [
      "Validation dice loss: 3.3256070613861084, IoU Score 0.0\n"
     ]
    },
    {
     "name": "stderr",
     "output_type": "stream",
     "text": [
      "Validation round: 100%|██████████| 115/115 [00:04<00:00, 24.30batch/s]\n"
     ]
    },
    {
     "name": "stdout",
     "output_type": "stream",
     "text": [
      "Validation dice loss: 3.2985923290252686, IoU Score 0.0\n"
     ]
    },
    {
     "name": "stderr",
     "output_type": "stream",
     "text": [
      "Validation round: 100%|██████████| 115/115 [00:04<00:00, 24.51batch/s]\n"
     ]
    },
    {
     "name": "stdout",
     "output_type": "stream",
     "text": [
      "Validation dice loss: 3.3308303356170654, IoU Score 0.0\n"
     ]
    },
    {
     "name": "stderr",
     "output_type": "stream",
     "text": [
      "Validation round: 100%|██████████| 115/115 [00:04<00:00, 24.09batch/s]\n"
     ]
    },
    {
     "name": "stdout",
     "output_type": "stream",
     "text": [
      "Validation dice loss: 3.3150417804718018, IoU Score 0.0\n"
     ]
    },
    {
     "name": "stderr",
     "output_type": "stream",
     "text": [
      "Epoch 11/60: 100%|██████████| 456/456 [00:56<00:00,  8.14img/s, loss (batch)=0.961]\n",
      "Validation round: 100%|██████████| 115/115 [00:04<00:00, 24.47batch/s]\n"
     ]
    },
    {
     "name": "stdout",
     "output_type": "stream",
     "text": [
      "Validation dice loss: 3.3183460235595703, IoU Score 0.0\n"
     ]
    },
    {
     "name": "stderr",
     "output_type": "stream",
     "text": [
      "Validation round: 100%|██████████| 115/115 [00:04<00:00, 24.76batch/s]\n"
     ]
    },
    {
     "name": "stdout",
     "output_type": "stream",
     "text": [
      "Validation dice loss: 3.288506507873535, IoU Score 0.0\n"
     ]
    },
    {
     "name": "stderr",
     "output_type": "stream",
     "text": [
      "Validation round: 100%|██████████| 115/115 [00:04<00:00, 24.98batch/s]\n"
     ]
    },
    {
     "name": "stdout",
     "output_type": "stream",
     "text": [
      "Validation dice loss: 3.288100481033325, IoU Score 0.0\n"
     ]
    },
    {
     "name": "stderr",
     "output_type": "stream",
     "text": [
      "Validation round: 100%|██████████| 115/115 [00:04<00:00, 25.09batch/s]\n"
     ]
    },
    {
     "name": "stdout",
     "output_type": "stream",
     "text": [
      "Validation dice loss: 3.303758382797241, IoU Score 0.0\n"
     ]
    },
    {
     "name": "stderr",
     "output_type": "stream",
     "text": [
      "Validation round: 100%|██████████| 115/115 [00:04<00:00, 25.06batch/s]\n"
     ]
    },
    {
     "name": "stdout",
     "output_type": "stream",
     "text": [
      "Validation dice loss: 3.3138046264648438, IoU Score 0.0\n"
     ]
    },
    {
     "name": "stderr",
     "output_type": "stream",
     "text": [
      "Epoch 12/60: 100%|██████████| 456/456 [00:55<00:00,  8.17img/s, loss (batch)=0.95]\n",
      "Validation round: 100%|██████████| 115/115 [00:04<00:00, 24.74batch/s]\n"
     ]
    },
    {
     "name": "stdout",
     "output_type": "stream",
     "text": [
      "Validation dice loss: 3.3056275844573975, IoU Score 0.0\n"
     ]
    },
    {
     "name": "stderr",
     "output_type": "stream",
     "text": [
      "Validation round: 100%|██████████| 115/115 [00:04<00:00, 25.07batch/s]\n"
     ]
    },
    {
     "name": "stdout",
     "output_type": "stream",
     "text": [
      "Validation dice loss: 3.2898871898651123, IoU Score 0.0\n"
     ]
    },
    {
     "name": "stderr",
     "output_type": "stream",
     "text": [
      "Validation round: 100%|██████████| 115/115 [00:04<00:00, 24.27batch/s]\n"
     ]
    },
    {
     "name": "stdout",
     "output_type": "stream",
     "text": [
      "Validation dice loss: 3.2859604358673096, IoU Score 0.0\n"
     ]
    },
    {
     "name": "stderr",
     "output_type": "stream",
     "text": [
      "Validation round: 100%|██████████| 115/115 [00:04<00:00, 25.17batch/s]\n"
     ]
    },
    {
     "name": "stdout",
     "output_type": "stream",
     "text": [
      "Validation dice loss: 3.2875146865844727, IoU Score 0.0\n"
     ]
    },
    {
     "name": "stderr",
     "output_type": "stream",
     "text": [
      "Validation round: 100%|██████████| 115/115 [00:04<00:00, 24.60batch/s]\n"
     ]
    },
    {
     "name": "stdout",
     "output_type": "stream",
     "text": [
      "Validation dice loss: 3.283390760421753, IoU Score 0.0\n"
     ]
    },
    {
     "name": "stderr",
     "output_type": "stream",
     "text": [
      "Epoch 13/60: 100%|██████████| 456/456 [00:55<00:00,  8.19img/s, loss (batch)=0.952]\n",
      "Validation round: 100%|██████████| 115/115 [00:04<00:00, 24.82batch/s]\n"
     ]
    },
    {
     "name": "stdout",
     "output_type": "stream",
     "text": [
      "Validation dice loss: 3.285397529602051, IoU Score 0.0\n"
     ]
    },
    {
     "name": "stderr",
     "output_type": "stream",
     "text": [
      "Validation round: 100%|██████████| 115/115 [00:04<00:00, 25.37batch/s]\n"
     ]
    },
    {
     "name": "stdout",
     "output_type": "stream",
     "text": [
      "Validation dice loss: 3.290468454360962, IoU Score 0.0\n"
     ]
    },
    {
     "name": "stderr",
     "output_type": "stream",
     "text": [
      "Validation round: 100%|██████████| 115/115 [00:04<00:00, 24.63batch/s]\n"
     ]
    },
    {
     "name": "stdout",
     "output_type": "stream",
     "text": [
      "Validation dice loss: 3.2838096618652344, IoU Score 0.0\n"
     ]
    },
    {
     "name": "stderr",
     "output_type": "stream",
     "text": [
      "Validation round: 100%|██████████| 115/115 [00:04<00:00, 24.34batch/s]\n"
     ]
    },
    {
     "name": "stdout",
     "output_type": "stream",
     "text": [
      "Validation dice loss: 3.2468466758728027, IoU Score 0.0\n"
     ]
    },
    {
     "name": "stderr",
     "output_type": "stream",
     "text": [
      "Validation round: 100%|██████████| 115/115 [00:04<00:00, 25.05batch/s]\n"
     ]
    },
    {
     "name": "stdout",
     "output_type": "stream",
     "text": [
      "Validation dice loss: 3.2931277751922607, IoU Score 0.0\n"
     ]
    },
    {
     "name": "stderr",
     "output_type": "stream",
     "text": [
      "Epoch 14/60: 100%|██████████| 456/456 [00:55<00:00,  8.24img/s, loss (batch)=0.967]\n",
      "Validation round: 100%|██████████| 115/115 [00:05<00:00, 22.42batch/s]\n"
     ]
    },
    {
     "name": "stdout",
     "output_type": "stream",
     "text": [
      "Validation dice loss: 3.2645699977874756, IoU Score 0.0\n"
     ]
    },
    {
     "name": "stderr",
     "output_type": "stream",
     "text": [
      "Validation round: 100%|██████████| 115/115 [00:04<00:00, 23.17batch/s]\n"
     ]
    },
    {
     "name": "stdout",
     "output_type": "stream",
     "text": [
      "Validation dice loss: 3.2573864459991455, IoU Score 0.0\n"
     ]
    },
    {
     "name": "stderr",
     "output_type": "stream",
     "text": [
      "Validation round: 100%|██████████| 115/115 [00:04<00:00, 23.50batch/s]\n"
     ]
    },
    {
     "name": "stdout",
     "output_type": "stream",
     "text": [
      "Validation dice loss: 3.2687954902648926, IoU Score 0.0\n"
     ]
    },
    {
     "name": "stderr",
     "output_type": "stream",
     "text": [
      "Validation round: 100%|██████████| 115/115 [00:04<00:00, 25.20batch/s]\n"
     ]
    },
    {
     "name": "stdout",
     "output_type": "stream",
     "text": [
      "Validation dice loss: 3.2759244441986084, IoU Score 0.0\n"
     ]
    },
    {
     "name": "stderr",
     "output_type": "stream",
     "text": [
      "Validation round: 100%|██████████| 115/115 [00:04<00:00, 24.92batch/s]\n"
     ]
    },
    {
     "name": "stdout",
     "output_type": "stream",
     "text": [
      "Validation dice loss: 3.2380683422088623, IoU Score 0.0\n"
     ]
    },
    {
     "name": "stderr",
     "output_type": "stream",
     "text": [
      "Validation round: 100%|██████████| 115/115 [00:04<00:00, 24.85batch/s]\n"
     ]
    },
    {
     "name": "stdout",
     "output_type": "stream",
     "text": [
      "Validation dice loss: 3.254018545150757, IoU Score 0.0\n"
     ]
    },
    {
     "name": "stderr",
     "output_type": "stream",
     "text": [
      "Epoch 15/60: 100%|██████████| 456/456 [01:02<00:00,  7.26img/s, loss (batch)=0.919]\n",
      "Validation round: 100%|██████████| 115/115 [00:04<00:00, 25.14batch/s]\n"
     ]
    },
    {
     "name": "stdout",
     "output_type": "stream",
     "text": [
      "Validation dice loss: 3.2659425735473633, IoU Score 0.0\n"
     ]
    },
    {
     "name": "stderr",
     "output_type": "stream",
     "text": [
      "Validation round: 100%|██████████| 115/115 [00:04<00:00, 23.65batch/s]\n"
     ]
    },
    {
     "name": "stdout",
     "output_type": "stream",
     "text": [
      "Validation dice loss: 3.23311710357666, IoU Score 0.0\n"
     ]
    },
    {
     "name": "stderr",
     "output_type": "stream",
     "text": [
      "Validation round: 100%|██████████| 115/115 [00:04<00:00, 24.98batch/s]\n"
     ]
    },
    {
     "name": "stdout",
     "output_type": "stream",
     "text": [
      "Validation dice loss: 3.231440305709839, IoU Score 0.0\n"
     ]
    },
    {
     "name": "stderr",
     "output_type": "stream",
     "text": [
      "Validation round: 100%|██████████| 115/115 [00:04<00:00, 24.67batch/s]\n"
     ]
    },
    {
     "name": "stdout",
     "output_type": "stream",
     "text": [
      "Validation dice loss: 3.222792387008667, IoU Score 0.0\n"
     ]
    },
    {
     "name": "stderr",
     "output_type": "stream",
     "text": [
      "Validation round: 100%|██████████| 115/115 [00:04<00:00, 24.98batch/s]\n"
     ]
    },
    {
     "name": "stdout",
     "output_type": "stream",
     "text": [
      "Validation dice loss: 3.2391815185546875, IoU Score 0.0\n"
     ]
    },
    {
     "name": "stderr",
     "output_type": "stream",
     "text": [
      "Epoch 16/60: 100%|██████████| 456/456 [00:56<00:00,  8.13img/s, loss (batch)=0.931]\n",
      "Validation round: 100%|██████████| 115/115 [00:04<00:00, 24.59batch/s]\n"
     ]
    },
    {
     "name": "stdout",
     "output_type": "stream",
     "text": [
      "Validation dice loss: 3.198147773742676, IoU Score 0.0\n"
     ]
    },
    {
     "name": "stderr",
     "output_type": "stream",
     "text": [
      "Validation round: 100%|██████████| 115/115 [00:04<00:00, 24.48batch/s]\n"
     ]
    },
    {
     "name": "stdout",
     "output_type": "stream",
     "text": [
      "Validation dice loss: 3.223942995071411, IoU Score 0.0\n"
     ]
    },
    {
     "name": "stderr",
     "output_type": "stream",
     "text": [
      "Validation round: 100%|██████████| 115/115 [00:04<00:00, 24.46batch/s]\n"
     ]
    },
    {
     "name": "stdout",
     "output_type": "stream",
     "text": [
      "Validation dice loss: 3.227213144302368, IoU Score 0.0\n"
     ]
    },
    {
     "name": "stderr",
     "output_type": "stream",
     "text": [
      "Validation round: 100%|██████████| 115/115 [00:04<00:00, 23.78batch/s]\n"
     ]
    },
    {
     "name": "stdout",
     "output_type": "stream",
     "text": [
      "Validation dice loss: 3.2265100479125977, IoU Score 0.0\n"
     ]
    },
    {
     "name": "stderr",
     "output_type": "stream",
     "text": [
      "Validation round: 100%|██████████| 115/115 [00:04<00:00, 24.61batch/s]\n"
     ]
    },
    {
     "name": "stdout",
     "output_type": "stream",
     "text": [
      "Validation dice loss: 3.2140517234802246, IoU Score 0.0\n"
     ]
    },
    {
     "name": "stderr",
     "output_type": "stream",
     "text": [
      "Epoch 17/60: 100%|██████████| 456/456 [00:56<00:00,  8.14img/s, loss (batch)=0.951]\n",
      "Validation round: 100%|██████████| 115/115 [00:04<00:00, 24.75batch/s]\n"
     ]
    },
    {
     "name": "stdout",
     "output_type": "stream",
     "text": [
      "Validation dice loss: 3.234589099884033, IoU Score 0.0\n"
     ]
    },
    {
     "name": "stderr",
     "output_type": "stream",
     "text": [
      "Validation round: 100%|██████████| 115/115 [00:04<00:00, 24.23batch/s]\n"
     ]
    },
    {
     "name": "stdout",
     "output_type": "stream",
     "text": [
      "Validation dice loss: 3.2177133560180664, IoU Score 0.0\n"
     ]
    },
    {
     "name": "stderr",
     "output_type": "stream",
     "text": [
      "Validation round: 100%|██████████| 115/115 [00:04<00:00, 24.83batch/s]\n"
     ]
    },
    {
     "name": "stdout",
     "output_type": "stream",
     "text": [
      "Validation dice loss: 3.1822614669799805, IoU Score 0.0\n"
     ]
    },
    {
     "name": "stderr",
     "output_type": "stream",
     "text": [
      "Validation round: 100%|██████████| 115/115 [00:04<00:00, 25.02batch/s]\n"
     ]
    },
    {
     "name": "stdout",
     "output_type": "stream",
     "text": [
      "Validation dice loss: 3.1789746284484863, IoU Score 0.0\n"
     ]
    },
    {
     "name": "stderr",
     "output_type": "stream",
     "text": [
      "Validation round: 100%|██████████| 115/115 [00:04<00:00, 25.25batch/s]\n"
     ]
    },
    {
     "name": "stdout",
     "output_type": "stream",
     "text": [
      "Validation dice loss: 3.1662893295288086, IoU Score 0.0\n"
     ]
    },
    {
     "name": "stderr",
     "output_type": "stream",
     "text": [
      "Epoch 18/60: 100%|██████████| 456/456 [00:55<00:00,  8.16img/s, loss (batch)=0.928]\n",
      "Validation round: 100%|██████████| 115/115 [00:04<00:00, 25.04batch/s]\n"
     ]
    },
    {
     "name": "stdout",
     "output_type": "stream",
     "text": [
      "Validation dice loss: 3.1381940841674805, IoU Score 0.0\n"
     ]
    },
    {
     "name": "stderr",
     "output_type": "stream",
     "text": [
      "Validation round: 100%|██████████| 115/115 [00:04<00:00, 25.32batch/s]\n"
     ]
    },
    {
     "name": "stdout",
     "output_type": "stream",
     "text": [
      "Validation dice loss: 3.153937339782715, IoU Score 0.0\n"
     ]
    },
    {
     "name": "stderr",
     "output_type": "stream",
     "text": [
      "Validation round: 100%|██████████| 115/115 [00:04<00:00, 24.48batch/s]\n"
     ]
    },
    {
     "name": "stdout",
     "output_type": "stream",
     "text": [
      "Validation dice loss: 3.1638002395629883, IoU Score 0.0\n"
     ]
    },
    {
     "name": "stderr",
     "output_type": "stream",
     "text": [
      "Validation round: 100%|██████████| 115/115 [00:04<00:00, 24.38batch/s]\n"
     ]
    },
    {
     "name": "stdout",
     "output_type": "stream",
     "text": [
      "Validation dice loss: 3.1046340465545654, IoU Score 0.0\n"
     ]
    },
    {
     "name": "stderr",
     "output_type": "stream",
     "text": [
      "Validation round: 100%|██████████| 115/115 [00:04<00:00, 24.82batch/s]\n"
     ]
    },
    {
     "name": "stdout",
     "output_type": "stream",
     "text": [
      "Validation dice loss: 3.1474509239196777, IoU Score 0.0\n"
     ]
    },
    {
     "name": "stderr",
     "output_type": "stream",
     "text": [
      "Epoch 19/60: 100%|██████████| 456/456 [00:56<00:00,  8.08img/s, loss (batch)=0.92]\n",
      "Validation round: 100%|██████████| 115/115 [00:04<00:00, 24.01batch/s]\n"
     ]
    },
    {
     "name": "stdout",
     "output_type": "stream",
     "text": [
      "Validation dice loss: 3.142958641052246, IoU Score 0.0\n"
     ]
    },
    {
     "name": "stderr",
     "output_type": "stream",
     "text": [
      "Validation round: 100%|██████████| 115/115 [00:04<00:00, 24.50batch/s]\n"
     ]
    },
    {
     "name": "stdout",
     "output_type": "stream",
     "text": [
      "Validation dice loss: 3.205998182296753, IoU Score 0.0\n"
     ]
    },
    {
     "name": "stderr",
     "output_type": "stream",
     "text": [
      "Validation round: 100%|██████████| 115/115 [00:04<00:00, 23.26batch/s]\n"
     ]
    },
    {
     "name": "stdout",
     "output_type": "stream",
     "text": [
      "Validation dice loss: 3.1560757160186768, IoU Score 0.0\n"
     ]
    },
    {
     "name": "stderr",
     "output_type": "stream",
     "text": [
      "Validation round: 100%|██████████| 115/115 [00:04<00:00, 24.57batch/s]\n"
     ]
    },
    {
     "name": "stdout",
     "output_type": "stream",
     "text": [
      "Validation dice loss: 3.1720101833343506, IoU Score 0.0\n"
     ]
    },
    {
     "name": "stderr",
     "output_type": "stream",
     "text": [
      "Validation round: 100%|██████████| 115/115 [00:04<00:00, 23.99batch/s]\n"
     ]
    },
    {
     "name": "stdout",
     "output_type": "stream",
     "text": [
      "Validation dice loss: 3.074319362640381, IoU Score 0.0\n"
     ]
    },
    {
     "name": "stderr",
     "output_type": "stream",
     "text": [
      "Epoch 20/60: 100%|██████████| 456/456 [00:56<00:00,  8.10img/s, loss (batch)=0.953]\n",
      "Validation round: 100%|██████████| 115/115 [00:04<00:00, 24.05batch/s]\n"
     ]
    },
    {
     "name": "stdout",
     "output_type": "stream",
     "text": [
      "Validation dice loss: 3.103142738342285, IoU Score 0.0\n"
     ]
    },
    {
     "name": "stderr",
     "output_type": "stream",
     "text": [
      "Validation round: 100%|██████████| 115/115 [00:04<00:00, 25.08batch/s]\n"
     ]
    },
    {
     "name": "stdout",
     "output_type": "stream",
     "text": [
      "Validation dice loss: 3.05482816696167, IoU Score 0.0\n"
     ]
    },
    {
     "name": "stderr",
     "output_type": "stream",
     "text": [
      "Validation round: 100%|██████████| 115/115 [00:04<00:00, 25.28batch/s]\n"
     ]
    },
    {
     "name": "stdout",
     "output_type": "stream",
     "text": [
      "Validation dice loss: 3.1363351345062256, IoU Score 0.0\n"
     ]
    },
    {
     "name": "stderr",
     "output_type": "stream",
     "text": [
      "Validation round: 100%|██████████| 115/115 [00:04<00:00, 24.43batch/s]\n"
     ]
    },
    {
     "name": "stdout",
     "output_type": "stream",
     "text": [
      "Validation dice loss: 3.161024332046509, IoU Score 0.0\n"
     ]
    },
    {
     "name": "stderr",
     "output_type": "stream",
     "text": [
      "Validation round: 100%|██████████| 115/115 [00:04<00:00, 23.99batch/s]\n"
     ]
    },
    {
     "name": "stdout",
     "output_type": "stream",
     "text": [
      "Validation dice loss: 3.167090654373169, IoU Score 0.0\n"
     ]
    },
    {
     "name": "stderr",
     "output_type": "stream",
     "text": [
      "Epoch 21/60: 100%|██████████| 456/456 [00:56<00:00,  8.13img/s, loss (batch)=0.921]\n",
      "Validation round: 100%|██████████| 115/115 [00:04<00:00, 24.89batch/s]\n"
     ]
    },
    {
     "name": "stdout",
     "output_type": "stream",
     "text": [
      "Validation dice loss: 3.1526594161987305, IoU Score 0.0\n"
     ]
    },
    {
     "name": "stderr",
     "output_type": "stream",
     "text": [
      "Validation round: 100%|██████████| 115/115 [00:04<00:00, 25.06batch/s]\n"
     ]
    },
    {
     "name": "stdout",
     "output_type": "stream",
     "text": [
      "Validation dice loss: 3.0963120460510254, IoU Score 0.0\n"
     ]
    },
    {
     "name": "stderr",
     "output_type": "stream",
     "text": [
      "Validation round: 100%|██████████| 115/115 [00:04<00:00, 24.86batch/s]\n"
     ]
    },
    {
     "name": "stdout",
     "output_type": "stream",
     "text": [
      "Validation dice loss: 3.0659844875335693, IoU Score 0.0\n"
     ]
    },
    {
     "name": "stderr",
     "output_type": "stream",
     "text": [
      "Validation round: 100%|██████████| 115/115 [00:04<00:00, 25.17batch/s]\n"
     ]
    },
    {
     "name": "stdout",
     "output_type": "stream",
     "text": [
      "Validation dice loss: 3.0989327430725098, IoU Score 0.0\n"
     ]
    },
    {
     "name": "stderr",
     "output_type": "stream",
     "text": [
      "Validation round: 100%|██████████| 115/115 [00:04<00:00, 23.84batch/s]\n"
     ]
    },
    {
     "name": "stdout",
     "output_type": "stream",
     "text": [
      "Validation dice loss: 3.0930566787719727, IoU Score 0.0\n"
     ]
    },
    {
     "name": "stderr",
     "output_type": "stream",
     "text": [
      "Epoch 22/60: 100%|██████████| 456/456 [00:56<00:00,  8.13img/s, loss (batch)=0.932]\n",
      "Validation round: 100%|██████████| 115/115 [00:04<00:00, 24.97batch/s]\n"
     ]
    },
    {
     "name": "stdout",
     "output_type": "stream",
     "text": [
      "Validation dice loss: 3.0039539337158203, IoU Score 0.0\n"
     ]
    },
    {
     "name": "stderr",
     "output_type": "stream",
     "text": [
      "Validation round: 100%|██████████| 115/115 [00:04<00:00, 25.54batch/s]\n"
     ]
    },
    {
     "name": "stdout",
     "output_type": "stream",
     "text": [
      "Validation dice loss: 3.0433666706085205, IoU Score 0.0\n"
     ]
    },
    {
     "name": "stderr",
     "output_type": "stream",
     "text": [
      "Validation round: 100%|██████████| 115/115 [00:04<00:00, 24.80batch/s]\n"
     ]
    },
    {
     "name": "stdout",
     "output_type": "stream",
     "text": [
      "Validation dice loss: 3.0338916778564453, IoU Score 0.0\n"
     ]
    },
    {
     "name": "stderr",
     "output_type": "stream",
     "text": [
      "Validation round: 100%|██████████| 115/115 [00:04<00:00, 24.18batch/s]\n"
     ]
    },
    {
     "name": "stdout",
     "output_type": "stream",
     "text": [
      "Validation dice loss: 2.9322099685668945, IoU Score 0.0\n"
     ]
    },
    {
     "name": "stderr",
     "output_type": "stream",
     "text": [
      "Validation round: 100%|██████████| 115/115 [00:04<00:00, 24.22batch/s]\n"
     ]
    },
    {
     "name": "stdout",
     "output_type": "stream",
     "text": [
      "Validation dice loss: 2.9816930294036865, IoU Score 0.0\n"
     ]
    },
    {
     "name": "stderr",
     "output_type": "stream",
     "text": [
      "Epoch 23/60: 100%|██████████| 456/456 [00:55<00:00,  8.22img/s, loss (batch)=0.944]\n",
      "Validation round: 100%|██████████| 115/115 [00:04<00:00, 24.80batch/s]\n"
     ]
    },
    {
     "name": "stdout",
     "output_type": "stream",
     "text": [
      "Validation dice loss: 2.988604784011841, IoU Score 0.0\n"
     ]
    },
    {
     "name": "stderr",
     "output_type": "stream",
     "text": [
      "Validation round: 100%|██████████| 115/115 [00:04<00:00, 24.89batch/s]\n"
     ]
    },
    {
     "name": "stdout",
     "output_type": "stream",
     "text": [
      "Validation dice loss: 2.868093967437744, IoU Score 0.0\n"
     ]
    },
    {
     "name": "stderr",
     "output_type": "stream",
     "text": [
      "Validation round: 100%|██████████| 115/115 [00:04<00:00, 24.54batch/s]\n"
     ]
    },
    {
     "name": "stdout",
     "output_type": "stream",
     "text": [
      "Validation dice loss: 2.803115129470825, IoU Score 0.0\n"
     ]
    },
    {
     "name": "stderr",
     "output_type": "stream",
     "text": [
      "Validation round: 100%|██████████| 115/115 [00:04<00:00, 25.21batch/s]\n"
     ]
    },
    {
     "name": "stdout",
     "output_type": "stream",
     "text": [
      "Validation dice loss: 2.8728861808776855, IoU Score 0.0\n"
     ]
    },
    {
     "name": "stderr",
     "output_type": "stream",
     "text": [
      "Validation round: 100%|██████████| 115/115 [00:04<00:00, 24.87batch/s]\n"
     ]
    },
    {
     "name": "stdout",
     "output_type": "stream",
     "text": [
      "Validation dice loss: 2.8294479846954346, IoU Score 0.0\n"
     ]
    },
    {
     "name": "stderr",
     "output_type": "stream",
     "text": [
      "Epoch 24/60: 100%|██████████| 456/456 [00:55<00:00,  8.18img/s, loss (batch)=0.909]\n",
      "Validation round: 100%|██████████| 115/115 [00:04<00:00, 24.78batch/s]\n"
     ]
    },
    {
     "name": "stdout",
     "output_type": "stream",
     "text": [
      "Validation dice loss: 2.7809436321258545, IoU Score 0.0\n"
     ]
    },
    {
     "name": "stderr",
     "output_type": "stream",
     "text": [
      "Validation round: 100%|██████████| 115/115 [00:04<00:00, 25.40batch/s]\n"
     ]
    },
    {
     "name": "stdout",
     "output_type": "stream",
     "text": [
      "Validation dice loss: 2.6344292163848877, IoU Score 0.0\n"
     ]
    },
    {
     "name": "stderr",
     "output_type": "stream",
     "text": [
      "Validation round: 100%|██████████| 115/115 [00:04<00:00, 25.35batch/s]\n"
     ]
    },
    {
     "name": "stdout",
     "output_type": "stream",
     "text": [
      "Validation dice loss: 2.682313919067383, IoU Score 0.0011948624160140753\n"
     ]
    },
    {
     "name": "stderr",
     "output_type": "stream",
     "text": [
      "Validation round: 100%|██████████| 115/115 [00:04<00:00, 25.08batch/s]\n"
     ]
    },
    {
     "name": "stdout",
     "output_type": "stream",
     "text": [
      "Validation dice loss: 2.5968644618988037, IoU Score 0.0\n"
     ]
    },
    {
     "name": "stderr",
     "output_type": "stream",
     "text": [
      "Validation round: 100%|██████████| 115/115 [00:04<00:00, 24.89batch/s]\n"
     ]
    },
    {
     "name": "stdout",
     "output_type": "stream",
     "text": [
      "Validation dice loss: 2.553602457046509, IoU Score 0.0\n"
     ]
    },
    {
     "name": "stderr",
     "output_type": "stream",
     "text": [
      "Epoch 25/60: 100%|██████████| 456/456 [00:55<00:00,  8.24img/s, loss (batch)=0.902]\n",
      "Validation round: 100%|██████████| 115/115 [00:04<00:00, 25.12batch/s]\n"
     ]
    },
    {
     "name": "stdout",
     "output_type": "stream",
     "text": [
      "Validation dice loss: 2.701678514480591, IoU Score 0.004982152953743935\n"
     ]
    },
    {
     "name": "stderr",
     "output_type": "stream",
     "text": [
      "Validation round: 100%|██████████| 115/115 [00:04<00:00, 24.87batch/s]\n"
     ]
    },
    {
     "name": "stdout",
     "output_type": "stream",
     "text": [
      "Validation dice loss: 2.4989371299743652, IoU Score 0.0\n"
     ]
    },
    {
     "name": "stderr",
     "output_type": "stream",
     "text": [
      "Validation round: 100%|██████████| 115/115 [00:04<00:00, 24.59batch/s]\n"
     ]
    },
    {
     "name": "stdout",
     "output_type": "stream",
     "text": [
      "Validation dice loss: 2.553542375564575, IoU Score 0.0\n"
     ]
    },
    {
     "name": "stderr",
     "output_type": "stream",
     "text": [
      "Validation round: 100%|██████████| 115/115 [00:04<00:00, 24.90batch/s]\n"
     ]
    },
    {
     "name": "stdout",
     "output_type": "stream",
     "text": [
      "Validation dice loss: 2.4879262447357178, IoU Score 0.0\n"
     ]
    },
    {
     "name": "stderr",
     "output_type": "stream",
     "text": [
      "Validation round: 100%|██████████| 115/115 [00:04<00:00, 23.67batch/s]\n"
     ]
    },
    {
     "name": "stdout",
     "output_type": "stream",
     "text": [
      "Validation dice loss: 2.4375267028808594, IoU Score 0.0\n"
     ]
    },
    {
     "name": "stderr",
     "output_type": "stream",
     "text": [
      "Epoch 26/60: 100%|██████████| 456/456 [00:56<00:00,  8.13img/s, loss (batch)=0.928]\n",
      "Validation round: 100%|██████████| 115/115 [00:04<00:00, 24.47batch/s]\n"
     ]
    },
    {
     "name": "stdout",
     "output_type": "stream",
     "text": [
      "Validation dice loss: 2.3563807010650635, IoU Score 0.0\n"
     ]
    },
    {
     "name": "stderr",
     "output_type": "stream",
     "text": [
      "Validation round: 100%|██████████| 115/115 [00:04<00:00, 24.35batch/s]\n"
     ]
    },
    {
     "name": "stdout",
     "output_type": "stream",
     "text": [
      "Validation dice loss: 2.3917837142944336, IoU Score 0.0\n"
     ]
    },
    {
     "name": "stderr",
     "output_type": "stream",
     "text": [
      "Validation round: 100%|██████████| 115/115 [00:04<00:00, 24.29batch/s]\n"
     ]
    },
    {
     "name": "stdout",
     "output_type": "stream",
     "text": [
      "Validation dice loss: 2.236680269241333, IoU Score 0.0\n"
     ]
    },
    {
     "name": "stderr",
     "output_type": "stream",
     "text": [
      "Validation round: 100%|██████████| 115/115 [00:04<00:00, 24.89batch/s]\n"
     ]
    },
    {
     "name": "stdout",
     "output_type": "stream",
     "text": [
      "Validation dice loss: 2.318497896194458, IoU Score 0.0\n"
     ]
    },
    {
     "name": "stderr",
     "output_type": "stream",
     "text": [
      "Validation round: 100%|██████████| 115/115 [00:05<00:00, 22.56batch/s]\n"
     ]
    },
    {
     "name": "stdout",
     "output_type": "stream",
     "text": [
      "Validation dice loss: 2.3343825340270996, IoU Score 0.0\n"
     ]
    },
    {
     "name": "stderr",
     "output_type": "stream",
     "text": [
      "Epoch 27/60: 100%|██████████| 456/456 [00:55<00:00,  8.18img/s, loss (batch)=0.923]\n",
      "Validation round: 100%|██████████| 115/115 [00:04<00:00, 24.70batch/s]\n"
     ]
    },
    {
     "name": "stdout",
     "output_type": "stream",
     "text": [
      "Validation dice loss: 2.3117966651916504, IoU Score 0.0\n"
     ]
    },
    {
     "name": "stderr",
     "output_type": "stream",
     "text": [
      "Validation round: 100%|██████████| 115/115 [00:04<00:00, 24.86batch/s]\n"
     ]
    },
    {
     "name": "stdout",
     "output_type": "stream",
     "text": [
      "Validation dice loss: 2.2992000579833984, IoU Score 0.0\n"
     ]
    },
    {
     "name": "stderr",
     "output_type": "stream",
     "text": [
      "Validation round: 100%|██████████| 115/115 [00:04<00:00, 23.40batch/s]\n"
     ]
    },
    {
     "name": "stdout",
     "output_type": "stream",
     "text": [
      "Validation dice loss: 2.2789196968078613, IoU Score 0.0\n"
     ]
    },
    {
     "name": "stderr",
     "output_type": "stream",
     "text": [
      "Validation round: 100%|██████████| 115/115 [00:04<00:00, 24.77batch/s]\n"
     ]
    },
    {
     "name": "stdout",
     "output_type": "stream",
     "text": [
      "Validation dice loss: 2.152531385421753, IoU Score 0.0\n"
     ]
    },
    {
     "name": "stderr",
     "output_type": "stream",
     "text": [
      "Validation round: 100%|██████████| 115/115 [00:04<00:00, 24.56batch/s]\n"
     ]
    },
    {
     "name": "stdout",
     "output_type": "stream",
     "text": [
      "Validation dice loss: 2.2965474128723145, IoU Score 0.0\n"
     ]
    },
    {
     "name": "stderr",
     "output_type": "stream",
     "text": [
      "Epoch 28/60: 100%|██████████| 456/456 [00:56<00:00,  8.11img/s, loss (batch)=0.889]\n",
      "Validation round: 100%|██████████| 115/115 [00:04<00:00, 24.63batch/s]\n"
     ]
    },
    {
     "name": "stdout",
     "output_type": "stream",
     "text": [
      "Validation dice loss: 2.2778496742248535, IoU Score 0.0\n"
     ]
    },
    {
     "name": "stderr",
     "output_type": "stream",
     "text": [
      "Validation round: 100%|██████████| 115/115 [00:04<00:00, 25.24batch/s]\n"
     ]
    },
    {
     "name": "stdout",
     "output_type": "stream",
     "text": [
      "Validation dice loss: 2.2351365089416504, IoU Score 0.0\n"
     ]
    },
    {
     "name": "stderr",
     "output_type": "stream",
     "text": [
      "Validation round: 100%|██████████| 115/115 [00:04<00:00, 24.89batch/s]\n"
     ]
    },
    {
     "name": "stdout",
     "output_type": "stream",
     "text": [
      "Validation dice loss: 2.1349713802337646, IoU Score 0.0\n"
     ]
    },
    {
     "name": "stderr",
     "output_type": "stream",
     "text": [
      "Validation round: 100%|██████████| 115/115 [00:04<00:00, 24.87batch/s]\n"
     ]
    },
    {
     "name": "stdout",
     "output_type": "stream",
     "text": [
      "Validation dice loss: 2.1687204837799072, IoU Score 0.0\n"
     ]
    },
    {
     "name": "stderr",
     "output_type": "stream",
     "text": [
      "Validation round: 100%|██████████| 115/115 [00:04<00:00, 25.40batch/s]\n"
     ]
    },
    {
     "name": "stdout",
     "output_type": "stream",
     "text": [
      "Validation dice loss: 2.237358808517456, IoU Score 0.0\n"
     ]
    },
    {
     "name": "stderr",
     "output_type": "stream",
     "text": [
      "Epoch 29/60: 100%|██████████| 456/456 [00:55<00:00,  8.18img/s, loss (batch)=0.892]\n",
      "Validation round: 100%|██████████| 115/115 [00:04<00:00, 25.31batch/s]\n"
     ]
    },
    {
     "name": "stdout",
     "output_type": "stream",
     "text": [
      "Validation dice loss: 2.1773672103881836, IoU Score 0.0\n"
     ]
    },
    {
     "name": "stderr",
     "output_type": "stream",
     "text": [
      "Validation round: 100%|██████████| 115/115 [00:04<00:00, 24.83batch/s]\n"
     ]
    },
    {
     "name": "stdout",
     "output_type": "stream",
     "text": [
      "Validation dice loss: 2.242888927459717, IoU Score 0.0\n"
     ]
    },
    {
     "name": "stderr",
     "output_type": "stream",
     "text": [
      "Validation round: 100%|██████████| 115/115 [00:04<00:00, 25.31batch/s]\n"
     ]
    },
    {
     "name": "stdout",
     "output_type": "stream",
     "text": [
      "Validation dice loss: 2.227987766265869, IoU Score 0.0\n"
     ]
    },
    {
     "name": "stderr",
     "output_type": "stream",
     "text": [
      "Validation round: 100%|██████████| 115/115 [00:04<00:00, 24.18batch/s]\n"
     ]
    },
    {
     "name": "stdout",
     "output_type": "stream",
     "text": [
      "Validation dice loss: 2.158287286758423, IoU Score 0.0\n"
     ]
    },
    {
     "name": "stderr",
     "output_type": "stream",
     "text": [
      "Validation round: 100%|██████████| 115/115 [00:04<00:00, 23.89batch/s]\n"
     ]
    },
    {
     "name": "stdout",
     "output_type": "stream",
     "text": [
      "Validation dice loss: 2.1906235218048096, IoU Score 0.0\n"
     ]
    },
    {
     "name": "stderr",
     "output_type": "stream",
     "text": [
      "Validation round: 100%|██████████| 115/115 [00:04<00:00, 25.04batch/s]\n"
     ]
    },
    {
     "name": "stdout",
     "output_type": "stream",
     "text": [
      "Validation dice loss: 2.2362661361694336, IoU Score 0.0\n"
     ]
    },
    {
     "name": "stderr",
     "output_type": "stream",
     "text": [
      "Epoch 30/60: 100%|██████████| 456/456 [01:00<00:00,  7.49img/s, loss (batch)=0.89]\n",
      "Validation round: 100%|██████████| 115/115 [00:04<00:00, 24.66batch/s]\n"
     ]
    },
    {
     "name": "stdout",
     "output_type": "stream",
     "text": [
      "Validation dice loss: 2.3563551902770996, IoU Score 0.0\n"
     ]
    },
    {
     "name": "stderr",
     "output_type": "stream",
     "text": [
      "Validation round: 100%|██████████| 115/115 [00:05<00:00, 22.31batch/s]\n"
     ]
    },
    {
     "name": "stdout",
     "output_type": "stream",
     "text": [
      "Validation dice loss: 2.2443511486053467, IoU Score 0.0\n"
     ]
    },
    {
     "name": "stderr",
     "output_type": "stream",
     "text": [
      "Validation round: 100%|██████████| 115/115 [00:04<00:00, 25.09batch/s]\n"
     ]
    },
    {
     "name": "stdout",
     "output_type": "stream",
     "text": [
      "Validation dice loss: 2.0539894104003906, IoU Score 0.0\n"
     ]
    },
    {
     "name": "stderr",
     "output_type": "stream",
     "text": [
      "Validation round: 100%|██████████| 115/115 [00:04<00:00, 24.31batch/s]\n"
     ]
    },
    {
     "name": "stdout",
     "output_type": "stream",
     "text": [
      "Validation dice loss: 2.1010496616363525, IoU Score 0.0\n"
     ]
    },
    {
     "name": "stderr",
     "output_type": "stream",
     "text": [
      "Validation round: 100%|██████████| 115/115 [00:04<00:00, 24.58batch/s]\n"
     ]
    },
    {
     "name": "stdout",
     "output_type": "stream",
     "text": [
      "Validation dice loss: 2.1042232513427734, IoU Score 0.0\n"
     ]
    },
    {
     "name": "stderr",
     "output_type": "stream",
     "text": [
      "Epoch 31/60: 100%|██████████| 456/456 [00:56<00:00,  8.13img/s, loss (batch)=0.87]\n",
      "Validation round: 100%|██████████| 115/115 [00:04<00:00, 24.57batch/s]\n"
     ]
    },
    {
     "name": "stdout",
     "output_type": "stream",
     "text": [
      "Validation dice loss: 2.061206340789795, IoU Score 0.0\n"
     ]
    },
    {
     "name": "stderr",
     "output_type": "stream",
     "text": [
      "Validation round: 100%|██████████| 115/115 [00:04<00:00, 24.15batch/s]\n"
     ]
    },
    {
     "name": "stdout",
     "output_type": "stream",
     "text": [
      "Validation dice loss: 2.130673885345459, IoU Score 0.0\n"
     ]
    },
    {
     "name": "stderr",
     "output_type": "stream",
     "text": [
      "Validation round: 100%|██████████| 115/115 [00:04<00:00, 24.15batch/s]\n"
     ]
    },
    {
     "name": "stdout",
     "output_type": "stream",
     "text": [
      "Validation dice loss: 1.9830543994903564, IoU Score 0.0\n"
     ]
    },
    {
     "name": "stderr",
     "output_type": "stream",
     "text": [
      "Validation round: 100%|██████████| 115/115 [00:04<00:00, 24.76batch/s]\n"
     ]
    },
    {
     "name": "stdout",
     "output_type": "stream",
     "text": [
      "Validation dice loss: 1.998278021812439, IoU Score 0.0\n"
     ]
    },
    {
     "name": "stderr",
     "output_type": "stream",
     "text": [
      "Validation round: 100%|██████████| 115/115 [00:04<00:00, 25.12batch/s]\n"
     ]
    },
    {
     "name": "stdout",
     "output_type": "stream",
     "text": [
      "Validation dice loss: 2.148653745651245, IoU Score 0.0\n"
     ]
    },
    {
     "name": "stderr",
     "output_type": "stream",
     "text": [
      "Epoch 32/60: 100%|██████████| 456/456 [00:55<00:00,  8.18img/s, loss (batch)=0.805]\n",
      "Validation round: 100%|██████████| 115/115 [00:04<00:00, 24.94batch/s]\n"
     ]
    },
    {
     "name": "stdout",
     "output_type": "stream",
     "text": [
      "Validation dice loss: 2.0811715126037598, IoU Score 0.0\n"
     ]
    },
    {
     "name": "stderr",
     "output_type": "stream",
     "text": [
      "Validation round: 100%|██████████| 115/115 [00:04<00:00, 24.59batch/s]\n"
     ]
    },
    {
     "name": "stdout",
     "output_type": "stream",
     "text": [
      "Validation dice loss: 2.0583183765411377, IoU Score 0.0\n"
     ]
    },
    {
     "name": "stderr",
     "output_type": "stream",
     "text": [
      "Validation round: 100%|██████████| 115/115 [00:04<00:00, 25.28batch/s]\n"
     ]
    },
    {
     "name": "stdout",
     "output_type": "stream",
     "text": [
      "Validation dice loss: 2.0113847255706787, IoU Score 0.0\n"
     ]
    },
    {
     "name": "stderr",
     "output_type": "stream",
     "text": [
      "Validation round: 100%|██████████| 115/115 [00:04<00:00, 25.34batch/s]\n"
     ]
    },
    {
     "name": "stdout",
     "output_type": "stream",
     "text": [
      "Validation dice loss: 2.2905380725860596, IoU Score 0.0\n"
     ]
    },
    {
     "name": "stderr",
     "output_type": "stream",
     "text": [
      "Validation round: 100%|██████████| 115/115 [00:04<00:00, 25.06batch/s]\n"
     ]
    },
    {
     "name": "stdout",
     "output_type": "stream",
     "text": [
      "Validation dice loss: 2.0318500995635986, IoU Score 0.0\n"
     ]
    },
    {
     "name": "stderr",
     "output_type": "stream",
     "text": [
      "Epoch 33/60: 100%|██████████| 456/456 [00:55<00:00,  8.17img/s, loss (batch)=0.87]\n",
      "Validation round: 100%|██████████| 115/115 [00:04<00:00, 25.08batch/s]\n"
     ]
    },
    {
     "name": "stdout",
     "output_type": "stream",
     "text": [
      "Validation dice loss: 2.049367904663086, IoU Score 0.0\n"
     ]
    },
    {
     "name": "stderr",
     "output_type": "stream",
     "text": [
      "Validation round: 100%|██████████| 115/115 [00:04<00:00, 23.98batch/s]\n"
     ]
    },
    {
     "name": "stdout",
     "output_type": "stream",
     "text": [
      "Validation dice loss: 1.9201695919036865, IoU Score 0.0\n"
     ]
    },
    {
     "name": "stderr",
     "output_type": "stream",
     "text": [
      "Validation round: 100%|██████████| 115/115 [00:04<00:00, 23.32batch/s]\n"
     ]
    },
    {
     "name": "stdout",
     "output_type": "stream",
     "text": [
      "Validation dice loss: 2.09354829788208, IoU Score 0.0\n"
     ]
    },
    {
     "name": "stderr",
     "output_type": "stream",
     "text": [
      "Validation round: 100%|██████████| 115/115 [00:04<00:00, 24.57batch/s]\n"
     ]
    },
    {
     "name": "stdout",
     "output_type": "stream",
     "text": [
      "Validation dice loss: 2.041358470916748, IoU Score 0.0\n"
     ]
    },
    {
     "name": "stderr",
     "output_type": "stream",
     "text": [
      "Validation round: 100%|██████████| 115/115 [00:04<00:00, 24.54batch/s]\n"
     ]
    },
    {
     "name": "stdout",
     "output_type": "stream",
     "text": [
      "Validation dice loss: 2.0838117599487305, IoU Score 0.0\n"
     ]
    },
    {
     "name": "stderr",
     "output_type": "stream",
     "text": [
      "Epoch 34/60: 100%|██████████| 456/456 [00:55<00:00,  8.15img/s, loss (batch)=0.862]\n",
      "Validation round: 100%|██████████| 115/115 [00:04<00:00, 24.44batch/s]\n"
     ]
    },
    {
     "name": "stdout",
     "output_type": "stream",
     "text": [
      "Validation dice loss: 2.135326623916626, IoU Score 0.0\n"
     ]
    },
    {
     "name": "stderr",
     "output_type": "stream",
     "text": [
      "Validation round: 100%|██████████| 115/115 [00:04<00:00, 25.40batch/s]\n"
     ]
    },
    {
     "name": "stdout",
     "output_type": "stream",
     "text": [
      "Validation dice loss: 2.006878137588501, IoU Score 0.0\n"
     ]
    },
    {
     "name": "stderr",
     "output_type": "stream",
     "text": [
      "Validation round: 100%|██████████| 115/115 [00:04<00:00, 25.11batch/s]\n"
     ]
    },
    {
     "name": "stdout",
     "output_type": "stream",
     "text": [
      "Validation dice loss: 1.9062657356262207, IoU Score 0.0\n"
     ]
    },
    {
     "name": "stderr",
     "output_type": "stream",
     "text": [
      "Validation round: 100%|██████████| 115/115 [00:04<00:00, 24.55batch/s]\n"
     ]
    },
    {
     "name": "stdout",
     "output_type": "stream",
     "text": [
      "Validation dice loss: 2.3310887813568115, IoU Score 0.0\n"
     ]
    },
    {
     "name": "stderr",
     "output_type": "stream",
     "text": [
      "Validation round: 100%|██████████| 115/115 [00:04<00:00, 25.03batch/s]\n"
     ]
    },
    {
     "name": "stdout",
     "output_type": "stream",
     "text": [
      "Validation dice loss: 1.8016260862350464, IoU Score 0.0\n"
     ]
    },
    {
     "name": "stderr",
     "output_type": "stream",
     "text": [
      "Epoch 35/60: 100%|██████████| 456/456 [00:55<00:00,  8.15img/s, loss (batch)=0.74]\n",
      "Validation round: 100%|██████████| 115/115 [00:04<00:00, 24.78batch/s]\n"
     ]
    },
    {
     "name": "stdout",
     "output_type": "stream",
     "text": [
      "Validation dice loss: 1.8936406373977661, IoU Score 0.0\n"
     ]
    },
    {
     "name": "stderr",
     "output_type": "stream",
     "text": [
      "Validation round: 100%|██████████| 115/115 [00:04<00:00, 24.79batch/s]\n"
     ]
    },
    {
     "name": "stdout",
     "output_type": "stream",
     "text": [
      "Validation dice loss: 2.03800630569458, IoU Score 0.0\n"
     ]
    },
    {
     "name": "stderr",
     "output_type": "stream",
     "text": [
      "Validation round: 100%|██████████| 115/115 [00:04<00:00, 23.98batch/s]\n"
     ]
    },
    {
     "name": "stdout",
     "output_type": "stream",
     "text": [
      "Validation dice loss: 2.0554006099700928, IoU Score 0.0\n"
     ]
    },
    {
     "name": "stderr",
     "output_type": "stream",
     "text": [
      "Validation round: 100%|██████████| 115/115 [00:04<00:00, 24.20batch/s]\n"
     ]
    },
    {
     "name": "stdout",
     "output_type": "stream",
     "text": [
      "Validation dice loss: 1.9614899158477783, IoU Score 0.0\n"
     ]
    },
    {
     "name": "stderr",
     "output_type": "stream",
     "text": [
      "Validation round: 100%|██████████| 115/115 [00:04<00:00, 24.99batch/s]\n"
     ]
    },
    {
     "name": "stdout",
     "output_type": "stream",
     "text": [
      "Validation dice loss: 2.1053056716918945, IoU Score 0.0\n"
     ]
    },
    {
     "name": "stderr",
     "output_type": "stream",
     "text": [
      "Epoch 36/60: 100%|██████████| 456/456 [00:55<00:00,  8.17img/s, loss (batch)=0.797]\n",
      "Validation round: 100%|██████████| 115/115 [00:04<00:00, 23.51batch/s]\n"
     ]
    },
    {
     "name": "stdout",
     "output_type": "stream",
     "text": [
      "Validation dice loss: 2.1750874519348145, IoU Score 0.0\n"
     ]
    },
    {
     "name": "stderr",
     "output_type": "stream",
     "text": [
      "Validation round: 100%|██████████| 115/115 [00:04<00:00, 25.68batch/s]\n"
     ]
    },
    {
     "name": "stdout",
     "output_type": "stream",
     "text": [
      "Validation dice loss: 1.869922399520874, IoU Score 0.0\n"
     ]
    },
    {
     "name": "stderr",
     "output_type": "stream",
     "text": [
      "Validation round: 100%|██████████| 115/115 [00:04<00:00, 24.54batch/s]\n"
     ]
    },
    {
     "name": "stdout",
     "output_type": "stream",
     "text": [
      "Validation dice loss: 1.7513853311538696, IoU Score 0.0\n"
     ]
    },
    {
     "name": "stderr",
     "output_type": "stream",
     "text": [
      "Validation round: 100%|██████████| 115/115 [00:04<00:00, 23.49batch/s]\n"
     ]
    },
    {
     "name": "stdout",
     "output_type": "stream",
     "text": [
      "Validation dice loss: 1.9106850624084473, IoU Score 0.0\n"
     ]
    },
    {
     "name": "stderr",
     "output_type": "stream",
     "text": [
      "Validation round: 100%|██████████| 115/115 [00:04<00:00, 24.41batch/s]\n"
     ]
    },
    {
     "name": "stdout",
     "output_type": "stream",
     "text": [
      "Validation dice loss: 1.8062496185302734, IoU Score 0.0\n"
     ]
    },
    {
     "name": "stderr",
     "output_type": "stream",
     "text": [
      "Epoch 37/60: 100%|██████████| 456/456 [00:55<00:00,  8.16img/s, loss (batch)=0.73]\n",
      "Validation round: 100%|██████████| 115/115 [00:04<00:00, 25.29batch/s]\n"
     ]
    },
    {
     "name": "stdout",
     "output_type": "stream",
     "text": [
      "Validation dice loss: 1.8083436489105225, IoU Score 0.0\n"
     ]
    },
    {
     "name": "stderr",
     "output_type": "stream",
     "text": [
      "Validation round: 100%|██████████| 115/115 [00:04<00:00, 24.66batch/s]\n"
     ]
    },
    {
     "name": "stdout",
     "output_type": "stream",
     "text": [
      "Validation dice loss: 1.7552534341812134, IoU Score 0.0\n"
     ]
    },
    {
     "name": "stderr",
     "output_type": "stream",
     "text": [
      "Validation round: 100%|██████████| 115/115 [00:04<00:00, 23.38batch/s]\n"
     ]
    },
    {
     "name": "stdout",
     "output_type": "stream",
     "text": [
      "Validation dice loss: 1.9846147298812866, IoU Score 0.0\n"
     ]
    },
    {
     "name": "stderr",
     "output_type": "stream",
     "text": [
      "Validation round: 100%|██████████| 115/115 [00:04<00:00, 24.41batch/s]\n"
     ]
    },
    {
     "name": "stdout",
     "output_type": "stream",
     "text": [
      "Validation dice loss: 1.6512197256088257, IoU Score 0.0005247154622338712\n"
     ]
    },
    {
     "name": "stderr",
     "output_type": "stream",
     "text": [
      "Validation round: 100%|██████████| 115/115 [00:04<00:00, 24.16batch/s]\n"
     ]
    },
    {
     "name": "stdout",
     "output_type": "stream",
     "text": [
      "Validation dice loss: 1.752655267715454, IoU Score 0.0\n"
     ]
    },
    {
     "name": "stderr",
     "output_type": "stream",
     "text": [
      "Epoch 38/60: 100%|██████████| 456/456 [00:55<00:00,  8.25img/s, loss (batch)=0.912]\n",
      "Validation round: 100%|██████████| 115/115 [00:04<00:00, 24.37batch/s]\n"
     ]
    },
    {
     "name": "stdout",
     "output_type": "stream",
     "text": [
      "Validation dice loss: 1.7233917713165283, IoU Score 0.0\n"
     ]
    },
    {
     "name": "stderr",
     "output_type": "stream",
     "text": [
      "Validation round: 100%|██████████| 115/115 [00:04<00:00, 25.39batch/s]\n"
     ]
    },
    {
     "name": "stdout",
     "output_type": "stream",
     "text": [
      "Validation dice loss: 1.7200425863265991, IoU Score 0.0\n"
     ]
    },
    {
     "name": "stderr",
     "output_type": "stream",
     "text": [
      "Validation round: 100%|██████████| 115/115 [00:04<00:00, 24.20batch/s]\n"
     ]
    },
    {
     "name": "stdout",
     "output_type": "stream",
     "text": [
      "Validation dice loss: 1.6871222257614136, IoU Score 0.0\n"
     ]
    },
    {
     "name": "stderr",
     "output_type": "stream",
     "text": [
      "Validation round: 100%|██████████| 115/115 [00:04<00:00, 24.40batch/s]\n"
     ]
    },
    {
     "name": "stdout",
     "output_type": "stream",
     "text": [
      "Validation dice loss: 1.6887134313583374, IoU Score 0.0\n"
     ]
    },
    {
     "name": "stderr",
     "output_type": "stream",
     "text": [
      "Validation round: 100%|██████████| 115/115 [00:04<00:00, 25.13batch/s]\n"
     ]
    },
    {
     "name": "stdout",
     "output_type": "stream",
     "text": [
      "Validation dice loss: 1.6952836513519287, IoU Score 0.0\n"
     ]
    },
    {
     "name": "stderr",
     "output_type": "stream",
     "text": [
      "Epoch 39/60: 100%|██████████| 456/456 [00:55<00:00,  8.16img/s, loss (batch)=0.799]\n",
      "Validation round: 100%|██████████| 115/115 [00:04<00:00, 24.77batch/s]\n"
     ]
    },
    {
     "name": "stdout",
     "output_type": "stream",
     "text": [
      "Validation dice loss: 1.6019105911254883, IoU Score 0.0\n"
     ]
    },
    {
     "name": "stderr",
     "output_type": "stream",
     "text": [
      "Validation round: 100%|██████████| 115/115 [00:04<00:00, 25.39batch/s]\n"
     ]
    },
    {
     "name": "stdout",
     "output_type": "stream",
     "text": [
      "Validation dice loss: 1.6729705333709717, IoU Score 0.0\n"
     ]
    },
    {
     "name": "stderr",
     "output_type": "stream",
     "text": [
      "Validation round: 100%|██████████| 115/115 [00:04<00:00, 24.06batch/s]\n"
     ]
    },
    {
     "name": "stdout",
     "output_type": "stream",
     "text": [
      "Validation dice loss: 1.7936688661575317, IoU Score 0.0\n"
     ]
    },
    {
     "name": "stderr",
     "output_type": "stream",
     "text": [
      "Validation round: 100%|██████████| 115/115 [00:04<00:00, 25.45batch/s]\n"
     ]
    },
    {
     "name": "stdout",
     "output_type": "stream",
     "text": [
      "Validation dice loss: 1.4980409145355225, IoU Score 0.0\n"
     ]
    },
    {
     "name": "stderr",
     "output_type": "stream",
     "text": [
      "Validation round: 100%|██████████| 115/115 [00:04<00:00, 24.44batch/s]\n"
     ]
    },
    {
     "name": "stdout",
     "output_type": "stream",
     "text": [
      "Validation dice loss: 1.700447916984558, IoU Score 0.0\n"
     ]
    },
    {
     "name": "stderr",
     "output_type": "stream",
     "text": [
      "Epoch 40/60: 100%|██████████| 456/456 [00:55<00:00,  8.17img/s, loss (batch)=0.611]\n",
      "Validation round: 100%|██████████| 115/115 [00:04<00:00, 24.49batch/s]\n"
     ]
    },
    {
     "name": "stdout",
     "output_type": "stream",
     "text": [
      "Validation dice loss: 1.7107629776000977, IoU Score 0.0\n"
     ]
    },
    {
     "name": "stderr",
     "output_type": "stream",
     "text": [
      "Validation round: 100%|██████████| 115/115 [00:04<00:00, 24.33batch/s]\n"
     ]
    },
    {
     "name": "stdout",
     "output_type": "stream",
     "text": [
      "Validation dice loss: 1.5378433465957642, IoU Score 0.0\n"
     ]
    },
    {
     "name": "stderr",
     "output_type": "stream",
     "text": [
      "Validation round: 100%|██████████| 115/115 [00:04<00:00, 25.08batch/s]\n"
     ]
    },
    {
     "name": "stdout",
     "output_type": "stream",
     "text": [
      "Validation dice loss: 1.5904384851455688, IoU Score 0.0\n"
     ]
    },
    {
     "name": "stderr",
     "output_type": "stream",
     "text": [
      "Validation round: 100%|██████████| 115/115 [00:04<00:00, 25.20batch/s]\n"
     ]
    },
    {
     "name": "stdout",
     "output_type": "stream",
     "text": [
      "Validation dice loss: 1.5054820775985718, IoU Score 0.0\n"
     ]
    },
    {
     "name": "stderr",
     "output_type": "stream",
     "text": [
      "Validation round: 100%|██████████| 115/115 [00:04<00:00, 23.87batch/s]\n"
     ]
    },
    {
     "name": "stdout",
     "output_type": "stream",
     "text": [
      "Validation dice loss: 1.5777329206466675, IoU Score 0.0\n"
     ]
    },
    {
     "name": "stderr",
     "output_type": "stream",
     "text": [
      "Epoch 41/60: 100%|██████████| 456/456 [00:56<00:00,  8.11img/s, loss (batch)=0.888]\n",
      "Validation round: 100%|██████████| 115/115 [00:04<00:00, 25.32batch/s]\n"
     ]
    },
    {
     "name": "stdout",
     "output_type": "stream",
     "text": [
      "Validation dice loss: 1.5060901641845703, IoU Score 0.0\n"
     ]
    },
    {
     "name": "stderr",
     "output_type": "stream",
     "text": [
      "Validation round: 100%|██████████| 115/115 [00:04<00:00, 25.11batch/s]\n"
     ]
    },
    {
     "name": "stdout",
     "output_type": "stream",
     "text": [
      "Validation dice loss: 1.6458015441894531, IoU Score 0.0\n"
     ]
    },
    {
     "name": "stderr",
     "output_type": "stream",
     "text": [
      "Validation round: 100%|██████████| 115/115 [00:04<00:00, 24.30batch/s]\n"
     ]
    },
    {
     "name": "stdout",
     "output_type": "stream",
     "text": [
      "Validation dice loss: 1.6120185852050781, IoU Score 0.0\n"
     ]
    },
    {
     "name": "stderr",
     "output_type": "stream",
     "text": [
      "Validation round: 100%|██████████| 115/115 [00:04<00:00, 25.21batch/s]\n"
     ]
    },
    {
     "name": "stdout",
     "output_type": "stream",
     "text": [
      "Validation dice loss: 1.5013988018035889, IoU Score 0.0\n"
     ]
    },
    {
     "name": "stderr",
     "output_type": "stream",
     "text": [
      "Validation round: 100%|██████████| 115/115 [00:04<00:00, 25.03batch/s]\n"
     ]
    },
    {
     "name": "stdout",
     "output_type": "stream",
     "text": [
      "Validation dice loss: 1.539914846420288, IoU Score 0.0\n"
     ]
    },
    {
     "name": "stderr",
     "output_type": "stream",
     "text": [
      "Epoch 42/60: 100%|██████████| 456/456 [00:55<00:00,  8.19img/s, loss (batch)=0.601]\n",
      "Validation round: 100%|██████████| 115/115 [00:04<00:00, 25.10batch/s]\n"
     ]
    },
    {
     "name": "stdout",
     "output_type": "stream",
     "text": [
      "Validation dice loss: 1.5748847723007202, IoU Score 0.0\n"
     ]
    },
    {
     "name": "stderr",
     "output_type": "stream",
     "text": [
      "Validation round: 100%|██████████| 115/115 [00:04<00:00, 24.85batch/s]\n"
     ]
    },
    {
     "name": "stdout",
     "output_type": "stream",
     "text": [
      "Validation dice loss: 1.4653772115707397, IoU Score 0.0\n"
     ]
    },
    {
     "name": "stderr",
     "output_type": "stream",
     "text": [
      "Validation round: 100%|██████████| 115/115 [00:04<00:00, 25.17batch/s]\n"
     ]
    },
    {
     "name": "stdout",
     "output_type": "stream",
     "text": [
      "Validation dice loss: 1.6283420324325562, IoU Score 0.0\n"
     ]
    },
    {
     "name": "stderr",
     "output_type": "stream",
     "text": [
      "Validation round: 100%|██████████| 115/115 [00:04<00:00, 24.60batch/s]\n"
     ]
    },
    {
     "name": "stdout",
     "output_type": "stream",
     "text": [
      "Validation dice loss: 1.5380611419677734, IoU Score 0.0\n"
     ]
    },
    {
     "name": "stderr",
     "output_type": "stream",
     "text": [
      "Validation round: 100%|██████████| 115/115 [00:04<00:00, 25.09batch/s]\n"
     ]
    },
    {
     "name": "stdout",
     "output_type": "stream",
     "text": [
      "Validation dice loss: 1.7343778610229492, IoU Score 0.0\n"
     ]
    },
    {
     "name": "stderr",
     "output_type": "stream",
     "text": [
      "Epoch 43/60: 100%|██████████| 456/456 [00:55<00:00,  8.21img/s, loss (batch)=0.629]\n",
      "Validation round: 100%|██████████| 115/115 [00:04<00:00, 25.01batch/s]\n"
     ]
    },
    {
     "name": "stdout",
     "output_type": "stream",
     "text": [
      "Validation dice loss: 1.551971197128296, IoU Score 0.0\n"
     ]
    },
    {
     "name": "stderr",
     "output_type": "stream",
     "text": [
      "Validation round: 100%|██████████| 115/115 [00:04<00:00, 25.19batch/s]\n"
     ]
    },
    {
     "name": "stdout",
     "output_type": "stream",
     "text": [
      "Validation dice loss: 1.5508854389190674, IoU Score 0.0\n"
     ]
    },
    {
     "name": "stderr",
     "output_type": "stream",
     "text": [
      "Validation round: 100%|██████████| 115/115 [00:04<00:00, 25.29batch/s]\n"
     ]
    },
    {
     "name": "stdout",
     "output_type": "stream",
     "text": [
      "Validation dice loss: 1.5421704053878784, IoU Score 0.0\n"
     ]
    },
    {
     "name": "stderr",
     "output_type": "stream",
     "text": [
      "Validation round: 100%|██████████| 115/115 [00:04<00:00, 24.55batch/s]\n"
     ]
    },
    {
     "name": "stdout",
     "output_type": "stream",
     "text": [
      "Validation dice loss: 1.6357033252716064, IoU Score 0.0003447336202953011\n"
     ]
    },
    {
     "name": "stderr",
     "output_type": "stream",
     "text": [
      "Validation round: 100%|██████████| 115/115 [00:04<00:00, 25.66batch/s]\n"
     ]
    },
    {
     "name": "stdout",
     "output_type": "stream",
     "text": [
      "Validation dice loss: 2.0932984352111816, IoU Score 0.00024445640156045556\n"
     ]
    },
    {
     "name": "stderr",
     "output_type": "stream",
     "text": [
      "Epoch 44/60: 100%|██████████| 456/456 [00:56<00:00,  8.14img/s, loss (batch)=0.677]\n",
      "Validation round: 100%|██████████| 115/115 [00:04<00:00, 24.68batch/s]\n"
     ]
    },
    {
     "name": "stdout",
     "output_type": "stream",
     "text": [
      "Validation dice loss: 1.5307128429412842, IoU Score 0.0\n"
     ]
    },
    {
     "name": "stderr",
     "output_type": "stream",
     "text": [
      "Validation round: 100%|██████████| 115/115 [00:04<00:00, 24.06batch/s]\n"
     ]
    },
    {
     "name": "stdout",
     "output_type": "stream",
     "text": [
      "Validation dice loss: 1.453669786453247, IoU Score 0.0\n"
     ]
    },
    {
     "name": "stderr",
     "output_type": "stream",
     "text": [
      "Validation round: 100%|██████████| 115/115 [00:04<00:00, 25.02batch/s]\n"
     ]
    },
    {
     "name": "stdout",
     "output_type": "stream",
     "text": [
      "Validation dice loss: 1.6685856580734253, IoU Score 0.0\n"
     ]
    },
    {
     "name": "stderr",
     "output_type": "stream",
     "text": [
      "Validation round: 100%|██████████| 115/115 [00:04<00:00, 24.59batch/s]\n"
     ]
    },
    {
     "name": "stdout",
     "output_type": "stream",
     "text": [
      "Validation dice loss: 1.613526463508606, IoU Score 0.0\n"
     ]
    },
    {
     "name": "stderr",
     "output_type": "stream",
     "text": [
      "Validation round: 100%|██████████| 115/115 [00:04<00:00, 24.32batch/s]\n"
     ]
    },
    {
     "name": "stdout",
     "output_type": "stream",
     "text": [
      "Validation dice loss: 1.5252759456634521, IoU Score 0.0\n"
     ]
    },
    {
     "name": "stderr",
     "output_type": "stream",
     "text": [
      "Validation round: 100%|██████████| 115/115 [00:04<00:00, 24.39batch/s]\n"
     ]
    },
    {
     "name": "stdout",
     "output_type": "stream",
     "text": [
      "Validation dice loss: 1.5875509977340698, IoU Score 0.0\n"
     ]
    },
    {
     "name": "stderr",
     "output_type": "stream",
     "text": [
      "Epoch 45/60: 100%|██████████| 456/456 [01:00<00:00,  7.52img/s, loss (batch)=0.56]\n",
      "Validation round: 100%|██████████| 115/115 [00:04<00:00, 25.25batch/s]\n"
     ]
    },
    {
     "name": "stdout",
     "output_type": "stream",
     "text": [
      "Validation dice loss: 1.5707522630691528, IoU Score 0.0\n"
     ]
    },
    {
     "name": "stderr",
     "output_type": "stream",
     "text": [
      "Validation round: 100%|██████████| 115/115 [00:04<00:00, 24.28batch/s]\n"
     ]
    },
    {
     "name": "stdout",
     "output_type": "stream",
     "text": [
      "Validation dice loss: 1.6780591011047363, IoU Score 0.0\n"
     ]
    },
    {
     "name": "stderr",
     "output_type": "stream",
     "text": [
      "Validation round: 100%|██████████| 115/115 [00:04<00:00, 24.86batch/s]\n"
     ]
    },
    {
     "name": "stdout",
     "output_type": "stream",
     "text": [
      "Validation dice loss: 1.8225972652435303, IoU Score 0.0\n"
     ]
    },
    {
     "name": "stderr",
     "output_type": "stream",
     "text": [
      "Validation round: 100%|██████████| 115/115 [00:04<00:00, 25.11batch/s]\n"
     ]
    },
    {
     "name": "stdout",
     "output_type": "stream",
     "text": [
      "Validation dice loss: 1.7073748111724854, IoU Score 0.0\n"
     ]
    },
    {
     "name": "stderr",
     "output_type": "stream",
     "text": [
      "Validation round: 100%|██████████| 115/115 [00:04<00:00, 25.15batch/s]\n"
     ]
    },
    {
     "name": "stdout",
     "output_type": "stream",
     "text": [
      "Validation dice loss: 1.5976449251174927, IoU Score 0.0\n"
     ]
    },
    {
     "name": "stderr",
     "output_type": "stream",
     "text": [
      "Epoch 46/60: 100%|██████████| 456/456 [00:55<00:00,  8.19img/s, loss (batch)=0.728]\n",
      "Validation round: 100%|██████████| 115/115 [00:04<00:00, 24.94batch/s]\n"
     ]
    },
    {
     "name": "stdout",
     "output_type": "stream",
     "text": [
      "Validation dice loss: 1.6796975135803223, IoU Score 0.0\n"
     ]
    },
    {
     "name": "stderr",
     "output_type": "stream",
     "text": [
      "Validation round: 100%|██████████| 115/115 [00:04<00:00, 25.20batch/s]\n"
     ]
    },
    {
     "name": "stdout",
     "output_type": "stream",
     "text": [
      "Validation dice loss: 1.6281853914260864, IoU Score 0.0\n"
     ]
    },
    {
     "name": "stderr",
     "output_type": "stream",
     "text": [
      "Validation round: 100%|██████████| 115/115 [00:04<00:00, 25.30batch/s]\n"
     ]
    },
    {
     "name": "stdout",
     "output_type": "stream",
     "text": [
      "Validation dice loss: 1.8537397384643555, IoU Score 0.0\n"
     ]
    },
    {
     "name": "stderr",
     "output_type": "stream",
     "text": [
      "Validation round: 100%|██████████| 115/115 [00:04<00:00, 25.26batch/s]\n"
     ]
    },
    {
     "name": "stdout",
     "output_type": "stream",
     "text": [
      "Validation dice loss: 1.6568388938903809, IoU Score 0.0\n"
     ]
    },
    {
     "name": "stderr",
     "output_type": "stream",
     "text": [
      "Validation round: 100%|██████████| 115/115 [00:04<00:00, 24.84batch/s]\n"
     ]
    },
    {
     "name": "stdout",
     "output_type": "stream",
     "text": [
      "Validation dice loss: 1.7310258150100708, IoU Score 0.0\n"
     ]
    },
    {
     "name": "stderr",
     "output_type": "stream",
     "text": [
      "Epoch 47/60: 100%|██████████| 456/456 [00:55<00:00,  8.25img/s, loss (batch)=0.594]\n",
      "Validation round: 100%|██████████| 115/115 [00:04<00:00, 25.42batch/s]\n"
     ]
    },
    {
     "name": "stdout",
     "output_type": "stream",
     "text": [
      "Validation dice loss: 1.6123818159103394, IoU Score 0.0\n"
     ]
    },
    {
     "name": "stderr",
     "output_type": "stream",
     "text": [
      "Validation round: 100%|██████████| 115/115 [00:04<00:00, 25.17batch/s]\n"
     ]
    },
    {
     "name": "stdout",
     "output_type": "stream",
     "text": [
      "Validation dice loss: 1.6489137411117554, IoU Score 0.0\n"
     ]
    },
    {
     "name": "stderr",
     "output_type": "stream",
     "text": [
      "Validation round: 100%|██████████| 115/115 [00:04<00:00, 25.04batch/s]\n"
     ]
    },
    {
     "name": "stdout",
     "output_type": "stream",
     "text": [
      "Validation dice loss: 1.553236961364746, IoU Score 0.0\n"
     ]
    },
    {
     "name": "stderr",
     "output_type": "stream",
     "text": [
      "Validation round: 100%|██████████| 115/115 [00:04<00:00, 25.11batch/s]\n"
     ]
    },
    {
     "name": "stdout",
     "output_type": "stream",
     "text": [
      "Validation dice loss: 1.9155296087265015, IoU Score 0.0\n"
     ]
    },
    {
     "name": "stderr",
     "output_type": "stream",
     "text": [
      "Validation round: 100%|██████████| 115/115 [00:04<00:00, 24.92batch/s]\n"
     ]
    },
    {
     "name": "stdout",
     "output_type": "stream",
     "text": [
      "Validation dice loss: 1.5551331043243408, IoU Score 0.0\n"
     ]
    },
    {
     "name": "stderr",
     "output_type": "stream",
     "text": [
      "Epoch 48/60: 100%|██████████| 456/456 [00:56<00:00,  8.11img/s, loss (batch)=0.596]\n",
      "Validation round: 100%|██████████| 115/115 [00:04<00:00, 24.13batch/s]\n"
     ]
    },
    {
     "name": "stdout",
     "output_type": "stream",
     "text": [
      "Validation dice loss: 1.601010799407959, IoU Score 0.0\n"
     ]
    },
    {
     "name": "stderr",
     "output_type": "stream",
     "text": [
      "Validation round: 100%|██████████| 115/115 [00:04<00:00, 24.12batch/s]\n"
     ]
    },
    {
     "name": "stdout",
     "output_type": "stream",
     "text": [
      "Validation dice loss: 1.9410690069198608, IoU Score 0.0\n"
     ]
    },
    {
     "name": "stderr",
     "output_type": "stream",
     "text": [
      "Validation round: 100%|██████████| 115/115 [00:04<00:00, 25.00batch/s]\n"
     ]
    },
    {
     "name": "stdout",
     "output_type": "stream",
     "text": [
      "Validation dice loss: 1.671658992767334, IoU Score 0.0\n"
     ]
    },
    {
     "name": "stderr",
     "output_type": "stream",
     "text": [
      "Validation round: 100%|██████████| 115/115 [00:04<00:00, 23.90batch/s]\n"
     ]
    },
    {
     "name": "stdout",
     "output_type": "stream",
     "text": [
      "Validation dice loss: 1.6696385145187378, IoU Score 0.0\n"
     ]
    },
    {
     "name": "stderr",
     "output_type": "stream",
     "text": [
      "Validation round: 100%|██████████| 115/115 [00:04<00:00, 24.65batch/s]\n"
     ]
    },
    {
     "name": "stdout",
     "output_type": "stream",
     "text": [
      "Validation dice loss: 1.4241060018539429, IoU Score 0.0\n"
     ]
    },
    {
     "name": "stderr",
     "output_type": "stream",
     "text": [
      "Epoch 49/60: 100%|██████████| 456/456 [00:56<00:00,  8.13img/s, loss (batch)=0.545]\n",
      "Validation round: 100%|██████████| 115/115 [00:04<00:00, 25.36batch/s]\n"
     ]
    },
    {
     "name": "stdout",
     "output_type": "stream",
     "text": [
      "Validation dice loss: 1.8024874925613403, IoU Score 0.0\n"
     ]
    },
    {
     "name": "stderr",
     "output_type": "stream",
     "text": [
      "Validation round: 100%|██████████| 115/115 [00:04<00:00, 25.37batch/s]\n"
     ]
    },
    {
     "name": "stdout",
     "output_type": "stream",
     "text": [
      "Validation dice loss: 1.4538514614105225, IoU Score 0.0\n"
     ]
    },
    {
     "name": "stderr",
     "output_type": "stream",
     "text": [
      "Validation round: 100%|██████████| 115/115 [00:04<00:00, 25.17batch/s]\n"
     ]
    },
    {
     "name": "stdout",
     "output_type": "stream",
     "text": [
      "Validation dice loss: 1.6344900131225586, IoU Score 0.0\n"
     ]
    },
    {
     "name": "stderr",
     "output_type": "stream",
     "text": [
      "Validation round: 100%|██████████| 115/115 [00:04<00:00, 25.09batch/s]\n"
     ]
    },
    {
     "name": "stdout",
     "output_type": "stream",
     "text": [
      "Validation dice loss: 1.5467662811279297, IoU Score 0.0\n"
     ]
    },
    {
     "name": "stderr",
     "output_type": "stream",
     "text": [
      "Validation round: 100%|██████████| 115/115 [00:04<00:00, 25.20batch/s]\n"
     ]
    },
    {
     "name": "stdout",
     "output_type": "stream",
     "text": [
      "Validation dice loss: 1.4145588874816895, IoU Score 0.0\n"
     ]
    },
    {
     "name": "stderr",
     "output_type": "stream",
     "text": [
      "Epoch 50/60: 100%|██████████| 456/456 [00:55<00:00,  8.15img/s, loss (batch)=0.615]\n",
      "Validation round: 100%|██████████| 115/115 [00:04<00:00, 24.91batch/s]\n"
     ]
    },
    {
     "name": "stdout",
     "output_type": "stream",
     "text": [
      "Validation dice loss: 1.4756413698196411, IoU Score 0.0\n"
     ]
    },
    {
     "name": "stderr",
     "output_type": "stream",
     "text": [
      "Validation round: 100%|██████████| 115/115 [00:04<00:00, 24.47batch/s]\n"
     ]
    },
    {
     "name": "stdout",
     "output_type": "stream",
     "text": [
      "Validation dice loss: 1.4545716047286987, IoU Score 0.0\n"
     ]
    },
    {
     "name": "stderr",
     "output_type": "stream",
     "text": [
      "Validation round: 100%|██████████| 115/115 [00:04<00:00, 25.43batch/s]\n"
     ]
    },
    {
     "name": "stdout",
     "output_type": "stream",
     "text": [
      "Validation dice loss: 1.8894575834274292, IoU Score 0.0\n"
     ]
    },
    {
     "name": "stderr",
     "output_type": "stream",
     "text": [
      "Validation round: 100%|██████████| 115/115 [00:04<00:00, 25.20batch/s]\n"
     ]
    },
    {
     "name": "stdout",
     "output_type": "stream",
     "text": [
      "Validation dice loss: 1.5801622867584229, IoU Score 0.0\n"
     ]
    },
    {
     "name": "stderr",
     "output_type": "stream",
     "text": [
      "Validation round: 100%|██████████| 115/115 [00:04<00:00, 25.39batch/s]\n"
     ]
    },
    {
     "name": "stdout",
     "output_type": "stream",
     "text": [
      "Validation dice loss: 1.9307045936584473, IoU Score 0.0\n"
     ]
    },
    {
     "name": "stderr",
     "output_type": "stream",
     "text": [
      "Epoch 51/60: 100%|██████████| 456/456 [00:55<00:00,  8.15img/s, loss (batch)=0.58]\n",
      "Validation round: 100%|██████████| 115/115 [00:04<00:00, 25.49batch/s]\n"
     ]
    },
    {
     "name": "stdout",
     "output_type": "stream",
     "text": [
      "Validation dice loss: 1.6791529655456543, IoU Score 0.0\n"
     ]
    },
    {
     "name": "stderr",
     "output_type": "stream",
     "text": [
      "Validation round: 100%|██████████| 115/115 [00:04<00:00, 25.54batch/s]\n"
     ]
    },
    {
     "name": "stdout",
     "output_type": "stream",
     "text": [
      "Validation dice loss: 1.4542477130889893, IoU Score 0.0\n"
     ]
    },
    {
     "name": "stderr",
     "output_type": "stream",
     "text": [
      "Validation round: 100%|██████████| 115/115 [00:04<00:00, 24.84batch/s]\n"
     ]
    },
    {
     "name": "stdout",
     "output_type": "stream",
     "text": [
      "Validation dice loss: 1.6413183212280273, IoU Score 0.0\n"
     ]
    },
    {
     "name": "stderr",
     "output_type": "stream",
     "text": [
      "Validation round: 100%|██████████| 115/115 [00:04<00:00, 24.88batch/s]\n"
     ]
    },
    {
     "name": "stdout",
     "output_type": "stream",
     "text": [
      "Validation dice loss: 1.9450303316116333, IoU Score 0.0\n"
     ]
    },
    {
     "name": "stderr",
     "output_type": "stream",
     "text": [
      "Validation round: 100%|██████████| 115/115 [00:04<00:00, 25.12batch/s]\n"
     ]
    },
    {
     "name": "stdout",
     "output_type": "stream",
     "text": [
      "Validation dice loss: 1.9542492628097534, IoU Score 0.0\n"
     ]
    },
    {
     "name": "stderr",
     "output_type": "stream",
     "text": [
      "Epoch 52/60: 100%|██████████| 456/456 [00:55<00:00,  8.27img/s, loss (batch)=0.52]\n",
      "Validation round: 100%|██████████| 115/115 [00:04<00:00, 24.20batch/s]\n"
     ]
    },
    {
     "name": "stdout",
     "output_type": "stream",
     "text": [
      "Validation dice loss: 1.489375352859497, IoU Score 0.0\n"
     ]
    },
    {
     "name": "stderr",
     "output_type": "stream",
     "text": [
      "Validation round: 100%|██████████| 115/115 [00:04<00:00, 25.29batch/s]\n"
     ]
    },
    {
     "name": "stdout",
     "output_type": "stream",
     "text": [
      "Validation dice loss: 1.520039677619934, IoU Score 0.0\n"
     ]
    },
    {
     "name": "stderr",
     "output_type": "stream",
     "text": [
      "Validation round: 100%|██████████| 115/115 [00:04<00:00, 25.20batch/s]\n"
     ]
    },
    {
     "name": "stdout",
     "output_type": "stream",
     "text": [
      "Validation dice loss: 1.7282713651657104, IoU Score 0.0\n"
     ]
    },
    {
     "name": "stderr",
     "output_type": "stream",
     "text": [
      "Validation round: 100%|██████████| 115/115 [00:04<00:00, 23.99batch/s]\n"
     ]
    },
    {
     "name": "stdout",
     "output_type": "stream",
     "text": [
      "Validation dice loss: 1.8604108095169067, IoU Score 0.0\n"
     ]
    },
    {
     "name": "stderr",
     "output_type": "stream",
     "text": [
      "Validation round: 100%|██████████| 115/115 [00:04<00:00, 25.50batch/s]\n"
     ]
    },
    {
     "name": "stdout",
     "output_type": "stream",
     "text": [
      "Validation dice loss: 1.8223828077316284, IoU Score 0.0\n"
     ]
    },
    {
     "name": "stderr",
     "output_type": "stream",
     "text": [
      "Epoch 53/60: 100%|██████████| 456/456 [00:55<00:00,  8.24img/s, loss (batch)=0.554]\n",
      "Validation round: 100%|██████████| 115/115 [00:04<00:00, 24.97batch/s]\n"
     ]
    },
    {
     "name": "stdout",
     "output_type": "stream",
     "text": [
      "Validation dice loss: 1.546717643737793, IoU Score 0.0\n"
     ]
    },
    {
     "name": "stderr",
     "output_type": "stream",
     "text": [
      "Validation round: 100%|██████████| 115/115 [00:04<00:00, 24.02batch/s]\n"
     ]
    },
    {
     "name": "stdout",
     "output_type": "stream",
     "text": [
      "Validation dice loss: 1.660075068473816, IoU Score 0.0\n"
     ]
    },
    {
     "name": "stderr",
     "output_type": "stream",
     "text": [
      "Validation round: 100%|██████████| 115/115 [00:04<00:00, 23.86batch/s]\n"
     ]
    },
    {
     "name": "stdout",
     "output_type": "stream",
     "text": [
      "Validation dice loss: 1.4419747591018677, IoU Score 0.0\n"
     ]
    },
    {
     "name": "stderr",
     "output_type": "stream",
     "text": [
      "Validation round: 100%|██████████| 115/115 [00:04<00:00, 25.32batch/s]\n"
     ]
    },
    {
     "name": "stdout",
     "output_type": "stream",
     "text": [
      "Validation dice loss: 1.5781124830245972, IoU Score 0.0\n"
     ]
    },
    {
     "name": "stderr",
     "output_type": "stream",
     "text": [
      "Validation round: 100%|██████████| 115/115 [00:04<00:00, 23.77batch/s]\n"
     ]
    },
    {
     "name": "stdout",
     "output_type": "stream",
     "text": [
      "Validation dice loss: 1.8247345685958862, IoU Score 0.0\n"
     ]
    },
    {
     "name": "stderr",
     "output_type": "stream",
     "text": [
      "Epoch 54/60: 100%|██████████| 456/456 [00:56<00:00,  8.08img/s, loss (batch)=0.45]\n",
      "Validation round: 100%|██████████| 115/115 [00:04<00:00, 25.02batch/s]\n"
     ]
    },
    {
     "name": "stdout",
     "output_type": "stream",
     "text": [
      "Validation dice loss: 2.0223770141601562, IoU Score 0.0\n"
     ]
    },
    {
     "name": "stderr",
     "output_type": "stream",
     "text": [
      "Validation round: 100%|██████████| 115/115 [00:04<00:00, 24.84batch/s]\n"
     ]
    },
    {
     "name": "stdout",
     "output_type": "stream",
     "text": [
      "Validation dice loss: 1.465085744857788, IoU Score 0.0\n"
     ]
    },
    {
     "name": "stderr",
     "output_type": "stream",
     "text": [
      "Validation round: 100%|██████████| 115/115 [00:04<00:00, 23.83batch/s]\n"
     ]
    },
    {
     "name": "stdout",
     "output_type": "stream",
     "text": [
      "Validation dice loss: 1.5057111978530884, IoU Score 0.0\n"
     ]
    },
    {
     "name": "stderr",
     "output_type": "stream",
     "text": [
      "Validation round: 100%|██████████| 115/115 [00:04<00:00, 25.34batch/s]\n"
     ]
    },
    {
     "name": "stdout",
     "output_type": "stream",
     "text": [
      "Validation dice loss: 1.6568400859832764, IoU Score 0.0\n"
     ]
    },
    {
     "name": "stderr",
     "output_type": "stream",
     "text": [
      "Validation round: 100%|██████████| 115/115 [00:04<00:00, 25.44batch/s]\n"
     ]
    },
    {
     "name": "stdout",
     "output_type": "stream",
     "text": [
      "Validation dice loss: 2.14863920211792, IoU Score 0.0\n"
     ]
    },
    {
     "name": "stderr",
     "output_type": "stream",
     "text": [
      "Epoch 55/60: 100%|██████████| 456/456 [00:55<00:00,  8.24img/s, loss (batch)=0.558]\n",
      "Validation round: 100%|██████████| 115/115 [00:04<00:00, 24.79batch/s]\n"
     ]
    },
    {
     "name": "stdout",
     "output_type": "stream",
     "text": [
      "Validation dice loss: 1.705467700958252, IoU Score 0.0\n"
     ]
    },
    {
     "name": "stderr",
     "output_type": "stream",
     "text": [
      "Validation round: 100%|██████████| 115/115 [00:04<00:00, 24.83batch/s]\n"
     ]
    },
    {
     "name": "stdout",
     "output_type": "stream",
     "text": [
      "Validation dice loss: 1.6350780725479126, IoU Score 0.0\n"
     ]
    },
    {
     "name": "stderr",
     "output_type": "stream",
     "text": [
      "Validation round: 100%|██████████| 115/115 [00:04<00:00, 25.11batch/s]\n"
     ]
    },
    {
     "name": "stdout",
     "output_type": "stream",
     "text": [
      "Validation dice loss: 1.5260062217712402, IoU Score 0.0\n"
     ]
    },
    {
     "name": "stderr",
     "output_type": "stream",
     "text": [
      "Validation round: 100%|██████████| 115/115 [00:04<00:00, 24.39batch/s]\n"
     ]
    },
    {
     "name": "stdout",
     "output_type": "stream",
     "text": [
      "Validation dice loss: 1.5178760290145874, IoU Score 0.0\n"
     ]
    },
    {
     "name": "stderr",
     "output_type": "stream",
     "text": [
      "Validation round: 100%|██████████| 115/115 [00:04<00:00, 25.44batch/s]\n"
     ]
    },
    {
     "name": "stdout",
     "output_type": "stream",
     "text": [
      "Validation dice loss: 1.9795396327972412, IoU Score 0.0\n"
     ]
    },
    {
     "name": "stderr",
     "output_type": "stream",
     "text": [
      "Epoch 56/60: 100%|██████████| 456/456 [00:55<00:00,  8.24img/s, loss (batch)=0.821]\n",
      "Validation round: 100%|██████████| 115/115 [00:04<00:00, 24.61batch/s]\n"
     ]
    },
    {
     "name": "stdout",
     "output_type": "stream",
     "text": [
      "Validation dice loss: 1.5566997528076172, IoU Score 0.0\n"
     ]
    },
    {
     "name": "stderr",
     "output_type": "stream",
     "text": [
      "Validation round: 100%|██████████| 115/115 [00:04<00:00, 24.64batch/s]\n"
     ]
    },
    {
     "name": "stdout",
     "output_type": "stream",
     "text": [
      "Validation dice loss: 2.0489420890808105, IoU Score 0.0\n"
     ]
    },
    {
     "name": "stderr",
     "output_type": "stream",
     "text": [
      "Validation round: 100%|██████████| 115/115 [00:04<00:00, 25.09batch/s]\n"
     ]
    },
    {
     "name": "stdout",
     "output_type": "stream",
     "text": [
      "Validation dice loss: 1.5792567729949951, IoU Score 0.0\n"
     ]
    },
    {
     "name": "stderr",
     "output_type": "stream",
     "text": [
      "Validation round: 100%|██████████| 115/115 [00:04<00:00, 24.86batch/s]\n"
     ]
    },
    {
     "name": "stdout",
     "output_type": "stream",
     "text": [
      "Validation dice loss: 1.6616276502609253, IoU Score 0.0\n"
     ]
    },
    {
     "name": "stderr",
     "output_type": "stream",
     "text": [
      "Validation round: 100%|██████████| 115/115 [00:04<00:00, 24.29batch/s]\n"
     ]
    },
    {
     "name": "stdout",
     "output_type": "stream",
     "text": [
      "Validation dice loss: 1.516297698020935, IoU Score 0.0\n"
     ]
    },
    {
     "name": "stderr",
     "output_type": "stream",
     "text": [
      "Epoch 57/60: 100%|██████████| 456/456 [00:55<00:00,  8.27img/s, loss (batch)=0.56]\n",
      "Validation round: 100%|██████████| 115/115 [00:04<00:00, 25.67batch/s]\n"
     ]
    },
    {
     "name": "stdout",
     "output_type": "stream",
     "text": [
      "Validation dice loss: 1.9419702291488647, IoU Score 0.0\n"
     ]
    },
    {
     "name": "stderr",
     "output_type": "stream",
     "text": [
      "Validation round: 100%|██████████| 115/115 [00:04<00:00, 25.42batch/s]\n"
     ]
    },
    {
     "name": "stdout",
     "output_type": "stream",
     "text": [
      "Validation dice loss: 1.6417973041534424, IoU Score 0.0\n"
     ]
    },
    {
     "name": "stderr",
     "output_type": "stream",
     "text": [
      "Validation round: 100%|██████████| 115/115 [00:04<00:00, 24.24batch/s]\n"
     ]
    },
    {
     "name": "stdout",
     "output_type": "stream",
     "text": [
      "Validation dice loss: 1.8252891302108765, IoU Score 0.0\n"
     ]
    },
    {
     "name": "stderr",
     "output_type": "stream",
     "text": [
      "Validation round: 100%|██████████| 115/115 [00:04<00:00, 25.33batch/s]\n"
     ]
    },
    {
     "name": "stdout",
     "output_type": "stream",
     "text": [
      "Validation dice loss: 1.6073144674301147, IoU Score 0.0\n"
     ]
    },
    {
     "name": "stderr",
     "output_type": "stream",
     "text": [
      "Validation round: 100%|██████████| 115/115 [00:04<00:00, 25.01batch/s]\n"
     ]
    },
    {
     "name": "stdout",
     "output_type": "stream",
     "text": [
      "Validation dice loss: 1.5627329349517822, IoU Score 0.0\n"
     ]
    },
    {
     "name": "stderr",
     "output_type": "stream",
     "text": [
      "Epoch 58/60: 100%|██████████| 456/456 [00:54<00:00,  8.34img/s, loss (batch)=0.645]\n",
      "Validation round: 100%|██████████| 115/115 [00:04<00:00, 23.89batch/s]\n"
     ]
    },
    {
     "name": "stdout",
     "output_type": "stream",
     "text": [
      "Validation dice loss: 1.7276725769042969, IoU Score 0.0\n"
     ]
    },
    {
     "name": "stderr",
     "output_type": "stream",
     "text": [
      "Validation round: 100%|██████████| 115/115 [00:04<00:00, 25.58batch/s]\n"
     ]
    },
    {
     "name": "stdout",
     "output_type": "stream",
     "text": [
      "Validation dice loss: 2.2950685024261475, IoU Score 0.0\n"
     ]
    },
    {
     "name": "stderr",
     "output_type": "stream",
     "text": [
      "Validation round: 100%|██████████| 115/115 [00:04<00:00, 25.83batch/s]\n"
     ]
    },
    {
     "name": "stdout",
     "output_type": "stream",
     "text": [
      "Validation dice loss: 1.6919312477111816, IoU Score 0.0\n"
     ]
    },
    {
     "name": "stderr",
     "output_type": "stream",
     "text": [
      "Validation round: 100%|██████████| 115/115 [00:04<00:00, 24.41batch/s]\n"
     ]
    },
    {
     "name": "stdout",
     "output_type": "stream",
     "text": [
      "Validation dice loss: 1.8551961183547974, IoU Score 0.0\n"
     ]
    },
    {
     "name": "stderr",
     "output_type": "stream",
     "text": [
      "Validation round: 100%|██████████| 115/115 [00:04<00:00, 25.21batch/s]\n"
     ]
    },
    {
     "name": "stdout",
     "output_type": "stream",
     "text": [
      "Validation dice loss: 1.4355865716934204, IoU Score 0.0\n"
     ]
    },
    {
     "name": "stderr",
     "output_type": "stream",
     "text": [
      "Epoch 59/60: 100%|██████████| 456/456 [00:55<00:00,  8.26img/s, loss (batch)=0.501]\n",
      "Validation round: 100%|██████████| 115/115 [00:04<00:00, 25.44batch/s]\n"
     ]
    },
    {
     "name": "stdout",
     "output_type": "stream",
     "text": [
      "Validation dice loss: 1.7115349769592285, IoU Score 0.0\n"
     ]
    },
    {
     "name": "stderr",
     "output_type": "stream",
     "text": [
      "Validation round: 100%|██████████| 115/115 [00:04<00:00, 24.68batch/s]\n"
     ]
    },
    {
     "name": "stdout",
     "output_type": "stream",
     "text": [
      "Validation dice loss: 1.6791912317276, IoU Score 0.0\n"
     ]
    },
    {
     "name": "stderr",
     "output_type": "stream",
     "text": [
      "Validation round: 100%|██████████| 115/115 [00:04<00:00, 25.20batch/s]\n"
     ]
    },
    {
     "name": "stdout",
     "output_type": "stream",
     "text": [
      "Validation dice loss: 2.094125986099243, IoU Score 0.0\n"
     ]
    },
    {
     "name": "stderr",
     "output_type": "stream",
     "text": [
      "Validation round: 100%|██████████| 115/115 [00:04<00:00, 25.08batch/s]\n"
     ]
    },
    {
     "name": "stdout",
     "output_type": "stream",
     "text": [
      "Validation dice loss: 1.3826709985733032, IoU Score 0.0\n"
     ]
    },
    {
     "name": "stderr",
     "output_type": "stream",
     "text": [
      "Validation round: 100%|██████████| 115/115 [00:04<00:00, 25.18batch/s]\n"
     ]
    },
    {
     "name": "stdout",
     "output_type": "stream",
     "text": [
      "Validation dice loss: 1.8162143230438232, IoU Score 0.0\n"
     ]
    },
    {
     "name": "stderr",
     "output_type": "stream",
     "text": [
      "Validation round: 100%|██████████| 115/115 [00:04<00:00, 24.10batch/s]\n"
     ]
    },
    {
     "name": "stdout",
     "output_type": "stream",
     "text": [
      "Validation dice loss: 1.6014834642410278, IoU Score 0.0\n"
     ]
    },
    {
     "name": "stderr",
     "output_type": "stream",
     "text": [
      "Epoch 60/60: 100%|██████████| 456/456 [01:00<00:00,  7.51img/s, loss (batch)=0.445]\n"
     ]
    }
   ],
   "source": [
    "model = UNext_S(input_channels=3, num_classes=1, img_size=512)\n",
    "\n",
    "device = torch.device('cuda' if torch.cuda.is_available() else 'cpu')\n",
    "if torch.cuda.device_count() > 1:\n",
    "    print(\"Let's use\", torch.cuda.device_count(), \"GPUs!\")\n",
    "    model = nn.DataParallel(model)\n",
    "\n",
    "model = model.to(memory_format=torch.channels_last)\n",
    "model.to(device)\n",
    "\n",
    "\n",
    "total_params = sum(p.numel() for p in model.parameters())\n",
    "print(f\"U-Next-ScConv模型参数量为：{total_params}\")\n",
    "print(\"其详情为：\")\n",
    "for name,parameters in model.named_parameters():\n",
    "    print(name,':',parameters.size())\n",
    "\n",
    "train(model, device, project='U-Next-ScConv')\n"
   ]
  }
 ],
 "metadata": {
  "kaggle": {
   "accelerator": "nvidiaTeslaT4",
   "dataSources": [
    {
     "datasetId": 3664633,
     "sourceId": 6361775,
     "sourceType": "datasetVersion"
    }
   ],
   "dockerImageVersionId": 30236,
   "isGpuEnabled": true,
   "isInternetEnabled": true,
   "language": "python",
   "sourceType": "notebook"
  },
  "kernelspec": {
   "display_name": "Python 3",
   "language": "python",
   "name": "python3"
  },
  "language_info": {
   "codemirror_mode": {
    "name": "ipython",
    "version": 3
   },
   "file_extension": ".py",
   "mimetype": "text/x-python",
   "name": "python",
   "nbconvert_exporter": "python",
   "pygments_lexer": "ipython3",
   "version": "3.7.12"
  },
  "papermill": {
   "default_parameters": {},
   "duration": 3456.355937,
   "end_time": "2023-12-17T18:30:01.537836",
   "environment_variables": {},
   "exception": null,
   "input_path": "__notebook__.ipynb",
   "output_path": "__notebook__.ipynb",
   "parameters": {},
   "start_time": "2023-12-17T17:32:25.181899",
   "version": "2.3.4"
  },
  "widgets": {
   "application/vnd.jupyter.widget-state+json": {
    "state": {
     "04f8492988554cd4b8a9d104d8da875b": {
      "model_module": "@jupyter-widgets/controls",
      "model_module_version": "1.5.0",
      "model_name": "ProgressStyleModel",
      "state": {
       "_model_module": "@jupyter-widgets/controls",
       "_model_module_version": "1.5.0",
       "_model_name": "ProgressStyleModel",
       "_view_count": null,
       "_view_module": "@jupyter-widgets/base",
       "_view_module_version": "1.2.0",
       "_view_name": "StyleView",
       "bar_color": null,
       "description_width": ""
      }
     },
     "0503c3af85c04f30bd66fc8cd9c18095": {
      "model_module": "@jupyter-widgets/base",
      "model_module_version": "1.2.0",
      "model_name": "LayoutModel",
      "state": {
       "_model_module": "@jupyter-widgets/base",
       "_model_module_version": "1.2.0",
       "_model_name": "LayoutModel",
       "_view_count": null,
       "_view_module": "@jupyter-widgets/base",
       "_view_module_version": "1.2.0",
       "_view_name": "LayoutView",
       "align_content": null,
       "align_items": null,
       "align_self": null,
       "border": null,
       "bottom": null,
       "display": null,
       "flex": null,
       "flex_flow": null,
       "grid_area": null,
       "grid_auto_columns": null,
       "grid_auto_flow": null,
       "grid_auto_rows": null,
       "grid_column": null,
       "grid_gap": null,
       "grid_row": null,
       "grid_template_areas": null,
       "grid_template_columns": null,
       "grid_template_rows": null,
       "height": null,
       "justify_content": null,
       "justify_items": null,
       "left": null,
       "margin": null,
       "max_height": null,
       "max_width": null,
       "min_height": null,
       "min_width": null,
       "object_fit": null,
       "object_position": null,
       "order": null,
       "overflow": null,
       "overflow_x": null,
       "overflow_y": null,
       "padding": null,
       "right": null,
       "top": null,
       "visibility": null,
       "width": null
      }
     },
     "409b616f9f0e4f13a533d648884da10c": {
      "model_module": "@jupyter-widgets/controls",
      "model_module_version": "1.5.0",
      "model_name": "VBoxModel",
      "state": {
       "_dom_classes": [],
       "_model_module": "@jupyter-widgets/controls",
       "_model_module_version": "1.5.0",
       "_model_name": "VBoxModel",
       "_view_count": null,
       "_view_module": "@jupyter-widgets/controls",
       "_view_module_version": "1.5.0",
       "_view_name": "VBoxView",
       "box_style": "",
       "children": [
        "IPY_MODEL_fca464c466a049f2b3474e80948baed8",
        "IPY_MODEL_ae33bd3cb17c4fe985d969fc33bc0b22"
       ],
       "layout": "IPY_MODEL_e058e13ac31e4fbe82e92a485514e6f3"
      }
     },
     "96fb2985340c4e95bc4d2b46205ee577": {
      "model_module": "@jupyter-widgets/base",
      "model_module_version": "1.2.0",
      "model_name": "LayoutModel",
      "state": {
       "_model_module": "@jupyter-widgets/base",
       "_model_module_version": "1.2.0",
       "_model_name": "LayoutModel",
       "_view_count": null,
       "_view_module": "@jupyter-widgets/base",
       "_view_module_version": "1.2.0",
       "_view_name": "LayoutView",
       "align_content": null,
       "align_items": null,
       "align_self": null,
       "border": null,
       "bottom": null,
       "display": null,
       "flex": null,
       "flex_flow": null,
       "grid_area": null,
       "grid_auto_columns": null,
       "grid_auto_flow": null,
       "grid_auto_rows": null,
       "grid_column": null,
       "grid_gap": null,
       "grid_row": null,
       "grid_template_areas": null,
       "grid_template_columns": null,
       "grid_template_rows": null,
       "height": null,
       "justify_content": null,
       "justify_items": null,
       "left": null,
       "margin": null,
       "max_height": null,
       "max_width": null,
       "min_height": null,
       "min_width": null,
       "object_fit": null,
       "object_position": null,
       "order": null,
       "overflow": null,
       "overflow_x": null,
       "overflow_y": null,
       "padding": null,
       "right": null,
       "top": null,
       "visibility": null,
       "width": null
      }
     },
     "ae33bd3cb17c4fe985d969fc33bc0b22": {
      "model_module": "@jupyter-widgets/controls",
      "model_module_version": "1.5.0",
      "model_name": "FloatProgressModel",
      "state": {
       "_dom_classes": [],
       "_model_module": "@jupyter-widgets/controls",
       "_model_module_version": "1.5.0",
       "_model_name": "FloatProgressModel",
       "_view_count": null,
       "_view_module": "@jupyter-widgets/controls",
       "_view_module_version": "1.5.0",
       "_view_name": "ProgressView",
       "bar_style": "",
       "description": "",
       "description_tooltip": null,
       "layout": "IPY_MODEL_96fb2985340c4e95bc4d2b46205ee577",
       "max": 1.0,
       "min": 0.0,
       "orientation": "horizontal",
       "style": "IPY_MODEL_04f8492988554cd4b8a9d104d8da875b",
       "value": 0.0
      }
     },
     "e058e13ac31e4fbe82e92a485514e6f3": {
      "model_module": "@jupyter-widgets/base",
      "model_module_version": "1.2.0",
      "model_name": "LayoutModel",
      "state": {
       "_model_module": "@jupyter-widgets/base",
       "_model_module_version": "1.2.0",
       "_model_name": "LayoutModel",
       "_view_count": null,
       "_view_module": "@jupyter-widgets/base",
       "_view_module_version": "1.2.0",
       "_view_name": "LayoutView",
       "align_content": null,
       "align_items": null,
       "align_self": null,
       "border": null,
       "bottom": null,
       "display": null,
       "flex": null,
       "flex_flow": null,
       "grid_area": null,
       "grid_auto_columns": null,
       "grid_auto_flow": null,
       "grid_auto_rows": null,
       "grid_column": null,
       "grid_gap": null,
       "grid_row": null,
       "grid_template_areas": null,
       "grid_template_columns": null,
       "grid_template_rows": null,
       "height": null,
       "justify_content": null,
       "justify_items": null,
       "left": null,
       "margin": null,
       "max_height": null,
       "max_width": null,
       "min_height": null,
       "min_width": null,
       "object_fit": null,
       "object_position": null,
       "order": null,
       "overflow": null,
       "overflow_x": null,
       "overflow_y": null,
       "padding": null,
       "right": null,
       "top": null,
       "visibility": null,
       "width": null
      }
     },
     "eabe59f950914a2d8d38854da76bfd73": {
      "model_module": "@jupyter-widgets/controls",
      "model_module_version": "1.5.0",
      "model_name": "DescriptionStyleModel",
      "state": {
       "_model_module": "@jupyter-widgets/controls",
       "_model_module_version": "1.5.0",
       "_model_name": "DescriptionStyleModel",
       "_view_count": null,
       "_view_module": "@jupyter-widgets/base",
       "_view_module_version": "1.2.0",
       "_view_name": "StyleView",
       "description_width": ""
      }
     },
     "fca464c466a049f2b3474e80948baed8": {
      "model_module": "@jupyter-widgets/controls",
      "model_module_version": "1.5.0",
      "model_name": "LabelModel",
      "state": {
       "_dom_classes": [],
       "_model_module": "@jupyter-widgets/controls",
       "_model_module_version": "1.5.0",
       "_model_name": "LabelModel",
       "_view_count": null,
       "_view_module": "@jupyter-widgets/controls",
       "_view_module_version": "1.5.0",
       "_view_name": "LabelView",
       "description": "",
       "description_tooltip": null,
       "layout": "IPY_MODEL_0503c3af85c04f30bd66fc8cd9c18095",
       "placeholder": "​",
       "style": "IPY_MODEL_eabe59f950914a2d8d38854da76bfd73",
       "value": ""
      }
     }
    },
    "version_major": 2,
    "version_minor": 0
   }
  }
 },
 "nbformat": 4,
 "nbformat_minor": 5
}
