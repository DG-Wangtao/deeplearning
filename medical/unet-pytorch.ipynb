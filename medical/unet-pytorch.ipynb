{
 "cells": [
  {
   "cell_type": "markdown",
   "id": "b29149d1",
   "metadata": {
    "papermill": {
     "duration": 0.007132,
     "end_time": "2024-01-17T17:48:35.741398",
     "exception": false,
     "start_time": "2024-01-17T17:48:35.734266",
     "status": "completed"
    },
    "tags": []
   },
   "source": [
    "# 安装依赖"
   ]
  },
  {
   "cell_type": "markdown",
   "id": "7468388c",
   "metadata": {
    "papermill": {
     "duration": 0.006142,
     "end_time": "2024-01-17T17:48:35.753951",
     "exception": false,
     "start_time": "2024-01-17T17:48:35.747809",
     "status": "completed"
    },
    "tags": []
   },
   "source": [
    "- https://github.com/milesial/Pytorch-UNet/tree/master\n",
    "- https://github.com/njcronin/DL_Track\n",
    "- https://github.com/njcronin/DL_Track/blob/master/Labelling_Instructions.pdf"
   ]
  },
  {
   "cell_type": "code",
   "execution_count": 1,
   "id": "025e089f",
   "metadata": {
    "execution": {
     "iopub.execute_input": "2024-01-17T17:48:35.767888Z",
     "iopub.status.busy": "2024-01-17T17:48:35.767532Z",
     "iopub.status.idle": "2024-01-17T17:48:54.067518Z",
     "shell.execute_reply": "2024-01-17T17:48:54.066511Z"
    },
    "papermill": {
     "duration": 18.309769,
     "end_time": "2024-01-17T17:48:54.069951",
     "exception": false,
     "start_time": "2024-01-17T17:48:35.760182",
     "status": "completed"
    },
    "tags": []
   },
   "outputs": [
    {
     "name": "stdout",
     "output_type": "stream",
     "text": [
      "Requirement already satisfied: scipy in /opt/conda/lib/python3.10/site-packages (1.11.1)\r\n",
      "Requirement already satisfied: scikit-image in /opt/conda/lib/python3.10/site-packages (0.21.0)\r\n",
      "Requirement already satisfied: torch in /opt/conda/lib/python3.10/site-packages (2.0.0)\r\n",
      "Requirement already satisfied: torchvision in /opt/conda/lib/python3.10/site-packages (0.15.1)\r\n",
      "Collecting pathlib\r\n",
      "  Downloading pathlib-1.0.1-py3-none-any.whl (14 kB)\r\n",
      "Requirement already satisfied: wandb in /opt/conda/lib/python3.10/site-packages (0.15.5)\r\n",
      "Collecting segmentation-models-pytorch\r\n",
      "  Downloading segmentation_models_pytorch-0.3.3-py3-none-any.whl (106 kB)\r\n",
      "\u001b[2K     \u001b[90m━━━━━━━━━━━━━━━━━━━━━━━━━━━━━━━━━━━━━━━\u001b[0m \u001b[32m106.7/106.7 kB\u001b[0m \u001b[31m1.2 MB/s\u001b[0m eta \u001b[36m0:00:00\u001b[0m\r\n",
      "\u001b[?25hRequirement already satisfied: numpy<1.28.0,>=1.21.6 in /opt/conda/lib/python3.10/site-packages (from scipy) (1.23.5)\r\n",
      "Requirement already satisfied: networkx>=2.8 in /opt/conda/lib/python3.10/site-packages (from scikit-image) (3.1)\r\n",
      "Requirement already satisfied: pillow>=9.0.1 in /opt/conda/lib/python3.10/site-packages (from scikit-image) (9.5.0)\r\n",
      "Requirement already satisfied: imageio>=2.27 in /opt/conda/lib/python3.10/site-packages (from scikit-image) (2.31.1)\r\n",
      "Requirement already satisfied: tifffile>=2022.8.12 in /opt/conda/lib/python3.10/site-packages (from scikit-image) (2023.4.12)\r\n",
      "Requirement already satisfied: PyWavelets>=1.1.1 in /opt/conda/lib/python3.10/site-packages (from scikit-image) (1.4.1)\r\n",
      "Requirement already satisfied: packaging>=21 in /opt/conda/lib/python3.10/site-packages (from scikit-image) (21.3)\r\n",
      "Requirement already satisfied: lazy_loader>=0.2 in /opt/conda/lib/python3.10/site-packages (from scikit-image) (0.2)\r\n",
      "Requirement already satisfied: filelock in /opt/conda/lib/python3.10/site-packages (from torch) (3.12.2)\r\n",
      "Requirement already satisfied: typing-extensions in /opt/conda/lib/python3.10/site-packages (from torch) (4.6.3)\r\n",
      "Requirement already satisfied: sympy in /opt/conda/lib/python3.10/site-packages (from torch) (1.12)\r\n",
      "Requirement already satisfied: jinja2 in /opt/conda/lib/python3.10/site-packages (from torch) (3.1.2)\r\n",
      "Requirement already satisfied: requests in /opt/conda/lib/python3.10/site-packages (from torchvision) (2.31.0)\r\n",
      "Requirement already satisfied: Click!=8.0.0,>=7.1 in /opt/conda/lib/python3.10/site-packages (from wandb) (8.1.3)\r\n",
      "Requirement already satisfied: GitPython!=3.1.29,>=1.0.0 in /opt/conda/lib/python3.10/site-packages (from wandb) (3.1.31)\r\n",
      "Requirement already satisfied: psutil>=5.0.0 in /opt/conda/lib/python3.10/site-packages (from wandb) (5.9.3)\r\n",
      "Requirement already satisfied: sentry-sdk>=1.0.0 in /opt/conda/lib/python3.10/site-packages (from wandb) (1.27.1)\r\n",
      "Requirement already satisfied: docker-pycreds>=0.4.0 in /opt/conda/lib/python3.10/site-packages (from wandb) (0.4.0)\r\n",
      "Requirement already satisfied: PyYAML in /opt/conda/lib/python3.10/site-packages (from wandb) (6.0)\r\n",
      "Requirement already satisfied: pathtools in /opt/conda/lib/python3.10/site-packages (from wandb) (0.1.2)\r\n",
      "Requirement already satisfied: setproctitle in /opt/conda/lib/python3.10/site-packages (from wandb) (1.3.2)\r\n",
      "Requirement already satisfied: setuptools in /opt/conda/lib/python3.10/site-packages (from wandb) (59.8.0)\r\n",
      "Requirement already satisfied: appdirs>=1.4.3 in /opt/conda/lib/python3.10/site-packages (from wandb) (1.4.4)\r\n",
      "Requirement already satisfied: protobuf!=4.21.0,<5,>=3.19.0 in /opt/conda/lib/python3.10/site-packages (from wandb) (3.20.3)\r\n",
      "Collecting pretrainedmodels==0.7.4 (from segmentation-models-pytorch)\r\n",
      "  Downloading pretrainedmodels-0.7.4.tar.gz (58 kB)\r\n",
      "\u001b[2K     \u001b[90m━━━━━━━━━━━━━━━━━━━━━━━━━━━━━━━━━━━━━━━━\u001b[0m \u001b[32m58.8/58.8 kB\u001b[0m \u001b[31m4.1 MB/s\u001b[0m eta \u001b[36m0:00:00\u001b[0m\r\n",
      "\u001b[?25h  Preparing metadata (setup.py) ... \u001b[?25l-\b \b\\\b \bdone\r\n",
      "\u001b[?25hCollecting efficientnet-pytorch==0.7.1 (from segmentation-models-pytorch)\r\n",
      "  Downloading efficientnet_pytorch-0.7.1.tar.gz (21 kB)\r\n",
      "  Preparing metadata (setup.py) ... \u001b[?25l-\b \b\\\b \bdone\r\n",
      "\u001b[?25hRequirement already satisfied: timm==0.9.2 in /opt/conda/lib/python3.10/site-packages (from segmentation-models-pytorch) (0.9.2)\r\n",
      "Requirement already satisfied: tqdm in /opt/conda/lib/python3.10/site-packages (from segmentation-models-pytorch) (4.65.0)\r\n",
      "Collecting munch (from pretrainedmodels==0.7.4->segmentation-models-pytorch)\r\n",
      "  Downloading munch-4.0.0-py2.py3-none-any.whl (9.9 kB)\r\n",
      "Requirement already satisfied: huggingface-hub in /opt/conda/lib/python3.10/site-packages (from timm==0.9.2->segmentation-models-pytorch) (0.16.4)\r\n",
      "Requirement already satisfied: safetensors in /opt/conda/lib/python3.10/site-packages (from timm==0.9.2->segmentation-models-pytorch) (0.3.1)\r\n",
      "Requirement already satisfied: six>=1.4.0 in /opt/conda/lib/python3.10/site-packages (from docker-pycreds>=0.4.0->wandb) (1.16.0)\r\n",
      "Requirement already satisfied: gitdb<5,>=4.0.1 in /opt/conda/lib/python3.10/site-packages (from GitPython!=3.1.29,>=1.0.0->wandb) (4.0.10)\r\n",
      "Requirement already satisfied: pyparsing!=3.0.5,>=2.0.2 in /opt/conda/lib/python3.10/site-packages (from packaging>=21->scikit-image) (3.0.9)\r\n",
      "Requirement already satisfied: charset-normalizer<4,>=2 in /opt/conda/lib/python3.10/site-packages (from requests->torchvision) (3.1.0)\r\n",
      "Requirement already satisfied: idna<4,>=2.5 in /opt/conda/lib/python3.10/site-packages (from requests->torchvision) (3.4)\r\n",
      "Requirement already satisfied: urllib3<3,>=1.21.1 in /opt/conda/lib/python3.10/site-packages (from requests->torchvision) (1.26.15)\r\n",
      "Requirement already satisfied: certifi>=2017.4.17 in /opt/conda/lib/python3.10/site-packages (from requests->torchvision) (2023.5.7)\r\n",
      "Requirement already satisfied: MarkupSafe>=2.0 in /opt/conda/lib/python3.10/site-packages (from jinja2->torch) (2.1.3)\r\n",
      "Requirement already satisfied: mpmath>=0.19 in /opt/conda/lib/python3.10/site-packages (from sympy->torch) (1.3.0)\r\n",
      "Requirement already satisfied: smmap<6,>=3.0.1 in /opt/conda/lib/python3.10/site-packages (from gitdb<5,>=4.0.1->GitPython!=3.1.29,>=1.0.0->wandb) (5.0.0)\r\n",
      "Requirement already satisfied: fsspec in /opt/conda/lib/python3.10/site-packages (from huggingface-hub->timm==0.9.2->segmentation-models-pytorch) (2023.6.0)\r\n",
      "Building wheels for collected packages: efficientnet-pytorch, pretrainedmodels\r\n",
      "  Building wheel for efficientnet-pytorch (setup.py) ... \u001b[?25l-\b \b\\\b \b|\b \bdone\r\n",
      "\u001b[?25h  Created wheel for efficientnet-pytorch: filename=efficientnet_pytorch-0.7.1-py3-none-any.whl size=16446 sha256=a7cc19528d78d9f3b63ebab06b3377a854ea96c061577d07a7f37c836e37effe\r\n",
      "  Stored in directory: /root/.cache/pip/wheels/03/3f/e9/911b1bc46869644912bda90a56bcf7b960f20b5187feea3baf\r\n",
      "  Building wheel for pretrainedmodels (setup.py) ... \u001b[?25l-\b \b\\\b \b|\b \bdone\r\n",
      "\u001b[?25h  Created wheel for pretrainedmodels: filename=pretrainedmodels-0.7.4-py3-none-any.whl size=60966 sha256=0529efadd62c60ea74a56d0bf681f39eedaaa60577021c8956d89025dc327115\r\n",
      "  Stored in directory: /root/.cache/pip/wheels/35/cb/a5/8f534c60142835bfc889f9a482e4a67e0b817032d9c6883b64\r\n",
      "Successfully built efficientnet-pytorch pretrainedmodels\r\n",
      "Installing collected packages: pathlib, munch, efficientnet-pytorch, pretrainedmodels, segmentation-models-pytorch\r\n",
      "Successfully installed efficientnet-pytorch-0.7.1 munch-4.0.0 pathlib-1.0.1 pretrainedmodels-0.7.4 segmentation-models-pytorch-0.3.3\r\n"
     ]
    }
   ],
   "source": [
    "!pip install scipy scikit-image torch torchvision pathlib wandb segmentation-models-pytorch"
   ]
  },
  {
   "cell_type": "markdown",
   "id": "b7851627",
   "metadata": {
    "papermill": {
     "duration": 0.009015,
     "end_time": "2024-01-17T17:48:54.088457",
     "exception": false,
     "start_time": "2024-01-17T17:48:54.079442",
     "status": "completed"
    },
    "tags": []
   },
   "source": [
    "# 引用依赖包"
   ]
  },
  {
   "cell_type": "code",
   "execution_count": 2,
   "id": "03d96ca0",
   "metadata": {
    "execution": {
     "iopub.execute_input": "2024-01-17T17:48:54.107909Z",
     "iopub.status.busy": "2024-01-17T17:48:54.107589Z",
     "iopub.status.idle": "2024-01-17T17:48:54.116742Z",
     "shell.execute_reply": "2024-01-17T17:48:54.115785Z"
    },
    "papermill": {
     "duration": 0.021376,
     "end_time": "2024-01-17T17:48:54.118804",
     "exception": false,
     "start_time": "2024-01-17T17:48:54.097428",
     "status": "completed"
    },
    "tags": []
   },
   "outputs": [],
   "source": [
    "%config Completer.use_jedi = False"
   ]
  },
  {
   "cell_type": "code",
   "execution_count": 3,
   "id": "0501b48f",
   "metadata": {
    "execution": {
     "iopub.execute_input": "2024-01-17T17:48:54.138719Z",
     "iopub.status.busy": "2024-01-17T17:48:54.138400Z",
     "iopub.status.idle": "2024-01-17T17:48:59.201524Z",
     "shell.execute_reply": "2024-01-17T17:48:59.200765Z"
    },
    "papermill": {
     "duration": 5.075634,
     "end_time": "2024-01-17T17:48:59.203834",
     "exception": false,
     "start_time": "2024-01-17T17:48:54.128200",
     "status": "completed"
    },
    "tags": []
   },
   "outputs": [
    {
     "name": "stderr",
     "output_type": "stream",
     "text": [
      "/opt/conda/lib/python3.10/site-packages/torchvision/datapoints/__init__.py:12: UserWarning: The torchvision.datapoints and torchvision.transforms.v2 namespaces are still Beta. While we do not expect major breaking changes, some APIs may still change according to user feedback. Please submit any feedback you may have in this issue: https://github.com/pytorch/vision/issues/6753, and you can also check out https://github.com/pytorch/vision/issues/7319 to learn more about the APIs that we suspect might involve future changes. You can silence this warning by calling torchvision.disable_beta_transforms_warning().\n",
      "  warnings.warn(_BETA_TRANSFORMS_WARNING)\n",
      "/opt/conda/lib/python3.10/site-packages/torchvision/transforms/v2/__init__.py:54: UserWarning: The torchvision.datapoints and torchvision.transforms.v2 namespaces are still Beta. While we do not expect major breaking changes, some APIs may still change according to user feedback. Please submit any feedback you may have in this issue: https://github.com/pytorch/vision/issues/6753, and you can also check out https://github.com/pytorch/vision/issues/7319 to learn more about the APIs that we suspect might involve future changes. You can silence this warning by calling torchvision.disable_beta_transforms_warning().\n",
      "  warnings.warn(_BETA_TRANSFORMS_WARNING)\n"
     ]
    }
   ],
   "source": [
    "import os\n",
    "import random\n",
    "import pandas as pd\n",
    "import numpy as np\n",
    "import matplotlib.pyplot as plt\n",
    "plt.style.use(\"ggplot\")\n",
    "%matplotlib inline\n",
    "\n",
    "import torch\n",
    "import torch.nn as nn\n",
    "from torchvision import models\n",
    "from torchvision.transforms import v2\n",
    "from torch.nn.functional import relu, pad\n",
    "from torch.utils.data import Dataset, DataLoader, random_split\n",
    "\n",
    "from PIL import Image\n",
    "from typing import Tuple\n",
    "from pathlib import Path\n",
    "\n",
    "import torch\n",
    "from torch import nn, Tensor\n",
    "import torch.nn.functional as F\n",
    "import torch.optim as optim\n",
    "\n",
    "from tqdm import tqdm\n",
    "import wandb\n",
    "import logging"
   ]
  },
  {
   "cell_type": "markdown",
   "id": "2608867e",
   "metadata": {
    "papermill": {
     "duration": 0.00893,
     "end_time": "2024-01-17T17:48:59.221907",
     "exception": false,
     "start_time": "2024-01-17T17:48:59.212977",
     "status": "completed"
    },
    "tags": []
   },
   "source": [
    "## U-Net 网络"
   ]
  },
  {
   "cell_type": "code",
   "execution_count": 4,
   "id": "bf2c179c",
   "metadata": {
    "execution": {
     "iopub.execute_input": "2024-01-17T17:48:59.240833Z",
     "iopub.status.busy": "2024-01-17T17:48:59.240554Z",
     "iopub.status.idle": "2024-01-17T17:48:59.261715Z",
     "shell.execute_reply": "2024-01-17T17:48:59.260955Z"
    },
    "papermill": {
     "duration": 0.033024,
     "end_time": "2024-01-17T17:48:59.263585",
     "exception": false,
     "start_time": "2024-01-17T17:48:59.230561",
     "status": "completed"
    },
    "tags": []
   },
   "outputs": [],
   "source": [
    "\n",
    "class DoubleConv(nn.Module):\n",
    "    \"\"\"(convolution => [BN] => ReLU) * 2\"\"\"\n",
    "\n",
    "    def __init__(self, in_channels, out_channels, kernel_size=3):\n",
    "        super(DoubleConv,self).__init__()\n",
    "        self.double_conv = nn.Sequential(\n",
    "            nn.Conv2d(in_channels, out_channels, kernel_size=kernel_size, padding=1),\n",
    "            nn.BatchNorm2d(out_channels),\n",
    "            nn.ReLU(inplace=True),\n",
    "            nn.Conv2d(out_channels, out_channels, kernel_size=kernel_size, padding=1),\n",
    "            nn.BatchNorm2d(out_channels),\n",
    "            nn.ReLU(inplace=True)\n",
    "        )\n",
    "\n",
    "    def forward(self, x):\n",
    "        return self.double_conv(x)\n",
    "\n",
    "\n",
    "class Down(nn.Module):\n",
    "    \"\"\"Downscaling with maxpool then double conv\"\"\"\n",
    "\n",
    "    def __init__(self, in_channels, out_channels, kernel_size=3, dropout = 0.1):\n",
    "        super(Down, self).__init__()\n",
    "        self.double_conv = DoubleConv(in_channels, out_channels, kernel_size)\n",
    "        self.maxpool_conv = nn.Sequential(\n",
    "            nn.MaxPool2d(2),\n",
    "            nn.Dropout2d(p=dropout),\n",
    "        )\n",
    "\n",
    "    def forward(self, x):\n",
    "        skip_out = self.double_conv(x)\n",
    "        down_output = self.maxpool_conv(skip_out)\n",
    "        return (down_output, skip_out)\n",
    "\n",
    "\n",
    "class Up(nn.Module):\n",
    "    \"\"\"Upscaling then double conv\"\"\"\n",
    "\n",
    "    def __init__(self, in_channels, out_channels, kernel_size = 2, dropout = 0.1, stride = 2):\n",
    "        super().__init__()\n",
    "        \n",
    "        self.up = nn.ConvTranspose2d(in_channels, out_channels, kernel_size = kernel_size, stride = stride)\n",
    "        \n",
    "        self.conv = nn.Sequential(\n",
    "            nn.Dropout2d(p=dropout),\n",
    "            DoubleConv(in_channels, out_channels)\n",
    "        )\n",
    "\n",
    "    def forward(self, x1, x2):\n",
    "        x = self.up(x1)\n",
    "        x = torch.cat([x, x2], dim = 1)\n",
    "        return self.conv(x)\n",
    "    \n",
    "\n",
    "class UNet(nn.Module):\n",
    "    def __init__(self, n_channels, n_classes, n_filters = 64, bilinear=False):\n",
    "        super(UNet, self).__init__()\n",
    "        self.n_classes = n_classes\n",
    "        self.n_channels = n_channels\n",
    "        kernel_size = 3\n",
    "        dropout = 0.25\n",
    "\n",
    "        self.down1 = Down(n_channels, n_filters, kernel_size, dropout)\n",
    "        self.down2 = Down(n_filters, n_filters * 2, kernel_size, dropout)\n",
    "        self.down3 = Down(n_filters * 2, n_filters * 4, kernel_size, dropout)\n",
    "        self.down4 = Down(n_filters * 4, n_filters * 8, kernel_size, dropout)\n",
    "        \n",
    "        self.bottle_conv = DoubleConv(n_filters * 8, n_filters * 16, kernel_size)\n",
    "        \n",
    "        kernel_size = kernel_size - 1\n",
    "        self.up4 = Up(n_filters * 16, n_filters * 8, kernel_size, dropout)\n",
    "        self.up3 = Up(n_filters * 8, n_filters * 4, kernel_size, dropout)\n",
    "        self.up2 = Up(n_filters * 4, n_filters * 2, kernel_size, dropout)\n",
    "        self.up1 = Up(n_filters * 2, n_filters, kernel_size, dropout)\n",
    "        \n",
    "        self.outc = nn.Conv2d(n_filters, n_classes, kernel_size=1)\n",
    "        \n",
    "\n",
    "    def forward(self, x):\n",
    "        \n",
    "        x, skip1 = self.down1(x)\n",
    "        x, skip2 = self.down2(x)\n",
    "        x, skip3 = self.down3(x)\n",
    "        x, skip4 = self.down4(x)\n",
    "        \n",
    "        x = self.bottle_conv(x)\n",
    "        \n",
    "        x = self.up4(x, skip4)\n",
    "        x = self.up3(x, skip3)\n",
    "        x = self.up2(x, skip2)\n",
    "        x = self.up1(x, skip1)\n",
    "        \n",
    "        logits = self.outc(x)\n",
    "        return logits\n",
    "\n",
    "    def use_checkpointing(self):\n",
    "        self.down1 = torch.utils.checkpoint(self.down1)\n",
    "        self.down2 = torch.utils.checkpoint(self.down2)\n",
    "        self.down3 = torch.utils.checkpoint(self.down3)\n",
    "        self.down4 = torch.utils.checkpoint(self.down4)\n",
    "        self.bottle_conv = torch.utils.checkpoint(self.bottle_conv)\n",
    "        self.up1 = torch.utils.checkpoint(self.up1)\n",
    "        self.up2 = torch.utils.checkpoint(self.up2)\n",
    "        self.up3 = torch.utils.checkpoint(self.up3)\n",
    "        self.up4 = torch.utils.checkpoint(self.up4)\n",
    "        self.outc = torch.utils.checkpoint(self.outc)"
   ]
  },
  {
   "cell_type": "markdown",
   "id": "b48c1b67",
   "metadata": {
    "papermill": {
     "duration": 0.00883,
     "end_time": "2024-01-17T17:48:59.281034",
     "exception": false,
     "start_time": "2024-01-17T17:48:59.272204",
     "status": "completed"
    },
    "tags": []
   },
   "source": [
    "# 定义数据集加载器"
   ]
  },
  {
   "cell_type": "code",
   "execution_count": 5,
   "id": "bc3c2f36",
   "metadata": {
    "execution": {
     "iopub.execute_input": "2024-01-17T17:48:59.300022Z",
     "iopub.status.busy": "2024-01-17T17:48:59.299732Z",
     "iopub.status.idle": "2024-01-17T17:48:59.310637Z",
     "shell.execute_reply": "2024-01-17T17:48:59.309852Z"
    },
    "papermill": {
     "duration": 0.022587,
     "end_time": "2024-01-17T17:48:59.312583",
     "exception": false,
     "start_time": "2024-01-17T17:48:59.289996",
     "status": "completed"
    },
    "tags": []
   },
   "outputs": [],
   "source": [
    "# TODO: image和mask名称不一样时跳过\n",
    "class APODataSet(Dataset):\n",
    "    # 格式不对的异常数据\n",
    "    invalid_img = [10, 184, 185]\n",
    "    def __init__(self, img_dir, mask_dir: str, size) -> None:\n",
    "        # 获取所有图片路径\n",
    "        self.img_paths = list(Path(img_dir).glob(\"*\"))\n",
    "        self.mask_paths = list(Path(mask_dir).glob(\"*\"))\n",
    "        for idx in self.invalid_img:\n",
    "            del self.img_paths[idx]\n",
    "            del self.mask_paths[idx]\n",
    "        \n",
    "        \n",
    "        # 设置 transforms\n",
    "        self.transform = v2.Compose([     v2.Resize(size), \n",
    "                                             v2.RandomHorizontalFlip(),\n",
    "                                             v2.RandomVerticalFlip(),\n",
    "                                             v2.RandomRotation(180) , \n",
    "                                             v2.ToImageTensor(), v2.ConvertImageDtype()])\n",
    "#         self.transform = transforms.Compose([transforms.PILToTensor()])\n",
    "\n",
    "    # 使用函数加载原始图像\n",
    "    def load_orig_image(self, index: int) -> Image.Image:\n",
    "        \"Opens an image via a path and returns it.\"\n",
    "        image_path = self.img_paths[index]\n",
    "        return Image.open(image_path) \n",
    "    \n",
    "    # 使用函数加载tmask图像\n",
    "    def load_mask_image(self, index: int) -> Image.Image:\n",
    "        \"Opens an image via a path and returns it.\"\n",
    "        image_path = self.mask_paths[index]\n",
    "        return Image.open(image_path) \n",
    "\n",
    "    #  重写 __len__() 方法 (optional but recommended for subclasses of torch.utils.data.Dataset)\n",
    "    def __len__(self) -> int:\n",
    "        \"Returns the total number of samples.\"\n",
    "        return len(self.img_paths)\n",
    "\n",
    "    # 重写 __getitem__() 方法 (required for subclasses of torch.utils.data.Dataset)\n",
    "    def __getitem__(self, index: int) -> Tuple[torch.Tensor, torch.Tensor]:\n",
    "        \"Returns one sample of data, image and mask (X, y).\"\n",
    "        orig_img = self.load_orig_image(index)\n",
    "        mask_img = self.load_mask_image(index)\n",
    "        \n",
    "        seed = np.random.randint(2147483647)\n",
    "        torch.manual_seed(seed)\n",
    "        orig_img = self.transform(orig_img)\n",
    "        torch.manual_seed(seed)\n",
    "        mask_img = self.transform(mask_img)\n",
    "#         mask_img = mask_img[0]\n",
    "#         if orig_img.size()[0] != 3:\n",
    "#             print(\"{}: orig_img size: {}\".format(index,orig_img.size()))\n",
    "#             return None\n",
    "        # return data, mask (X, y)\n",
    "        return orig_img, mask_img\n"
   ]
  },
  {
   "cell_type": "markdown",
   "id": "cd8b933a",
   "metadata": {
    "papermill": {
     "duration": 0.008517,
     "end_time": "2024-01-17T17:48:59.329912",
     "exception": false,
     "start_time": "2024-01-17T17:48:59.321395",
     "status": "completed"
    },
    "tags": []
   },
   "source": [
    "# 加载数据集"
   ]
  },
  {
   "cell_type": "code",
   "execution_count": 6,
   "id": "46ce25ca",
   "metadata": {
    "execution": {
     "iopub.execute_input": "2024-01-17T17:48:59.349941Z",
     "iopub.status.busy": "2024-01-17T17:48:59.349081Z",
     "iopub.status.idle": "2024-01-17T17:48:59.647705Z",
     "shell.execute_reply": "2024-01-17T17:48:59.646701Z"
    },
    "papermill": {
     "duration": 0.311164,
     "end_time": "2024-01-17T17:48:59.649958",
     "exception": false,
     "start_time": "2024-01-17T17:48:59.338794",
     "status": "completed"
    },
    "tags": []
   },
   "outputs": [
    {
     "name": "stdout",
     "output_type": "stream",
     "text": [
      "dataset info\n",
      "total: 571, train_size: 456, validate_size: 115\n"
     ]
    }
   ],
   "source": [
    "dataset =  APODataSet(img_dir = \"/kaggle/input/dltrack/apo_images\",\n",
    "                      mask_dir = \"/kaggle/input/dltrack/apo_masks\",\n",
    "                     size = [512, 512])\n",
    "\n",
    "total = len(dataset)\n",
    "train_size = int(0.8*total)\n",
    "validate_size = total - train_size\n",
    "train_data, validate_data = random_split(dataset, [train_size, validate_size])\n",
    "print(\"dataset info\\ntotal: {}, train_size: {}, validate_size: {}\".format(total, len(train_data), len(validate_data)))\n",
    "\n",
    "trainloader = DataLoader(dataset=train_data,\n",
    "                                     batch_size=2,\n",
    "                                     num_workers=0,\n",
    "                                     shuffle=True)\n",
    "\n",
    "valloader = DataLoader(dataset=validate_data,\n",
    "                                    batch_size=1, \n",
    "                                    num_workers=0, \n",
    "                                    shuffle=False)"
   ]
  },
  {
   "cell_type": "markdown",
   "id": "ced4a581",
   "metadata": {
    "papermill": {
     "duration": 0.009044,
     "end_time": "2024-01-17T17:48:59.668259",
     "exception": false,
     "start_time": "2024-01-17T17:48:59.659215",
     "status": "completed"
    },
    "tags": []
   },
   "source": [
    "## 检查异常图片\n",
    "要把找到的异常数据去除"
   ]
  },
  {
   "cell_type": "code",
   "execution_count": 7,
   "id": "04e4a10f",
   "metadata": {
    "execution": {
     "iopub.execute_input": "2024-01-17T17:48:59.687601Z",
     "iopub.status.busy": "2024-01-17T17:48:59.687250Z",
     "iopub.status.idle": "2024-01-17T17:49:15.913312Z",
     "shell.execute_reply": "2024-01-17T17:49:15.911987Z"
    },
    "papermill": {
     "duration": 16.23848,
     "end_time": "2024-01-17T17:49:15.916075",
     "exception": false,
     "start_time": "2024-01-17T17:48:59.677595",
     "status": "completed"
    },
    "tags": []
   },
   "outputs": [
    {
     "name": "stdout",
     "output_type": "stream",
     "text": [
      "[done]\n"
     ]
    }
   ],
   "source": [
    "for index in range(len(dataset)):\n",
    "    orig_img, mask_img = dataset[index]\n",
    "    if orig_img.size()[0] != 3:\n",
    "        print(\"{}: orig_img size: {}\".format(index,orig_img.size()))\n",
    "print(\"[done]\")"
   ]
  },
  {
   "cell_type": "markdown",
   "id": "f711113e",
   "metadata": {
    "papermill": {
     "duration": 0.010144,
     "end_time": "2024-01-17T17:49:15.936750",
     "exception": false,
     "start_time": "2024-01-17T17:49:15.926606",
     "status": "completed"
    },
    "tags": []
   },
   "source": [
    "### 随机显示一张原始图片和其对应的标记图片"
   ]
  },
  {
   "cell_type": "code",
   "execution_count": 8,
   "id": "8d94266a",
   "metadata": {
    "execution": {
     "iopub.execute_input": "2024-01-17T17:49:15.958708Z",
     "iopub.status.busy": "2024-01-17T17:49:15.957835Z",
     "iopub.status.idle": "2024-01-17T17:49:16.680438Z",
     "shell.execute_reply": "2024-01-17T17:49:16.679535Z"
    },
    "papermill": {
     "duration": 0.739208,
     "end_time": "2024-01-17T17:49:16.685969",
     "exception": false,
     "start_time": "2024-01-17T17:49:15.946761",
     "status": "completed"
    },
    "tags": []
   },
   "outputs": [
    {
     "name": "stdout",
     "output_type": "stream",
     "text": [
      "torch.Size([3, 512, 512])\n",
      "showing image of 28: \n"
     ]
    },
    {
     "data": {
      "image/png": "[encoded data removed]",
      "text/plain": [
       "<Figure size 1500x1200 with 2 Axes>"
      ]
     },
     "metadata": {},
     "output_type": "display_data"
    }
   ],
   "source": [
    "idx = random.randint(0, len(dataset))\n",
    "orig_img, mask_img = dataset[idx]\n",
    "print(orig_img.size())\n",
    "\n",
    "transform = v2.ToPILImage()\n",
    "print(\"showing image of {}: \".format(idx))\n",
    "\n",
    "orig_img = transform(orig_img)\n",
    "mask_img = transform(mask_img)\n",
    "\n",
    "fig, (ax1, ax2) = plt.subplots(1, 2, figsize = (15, 12))\n",
    "\n",
    "ax1.imshow(orig_img)\n",
    "ax1.set_title(\"origin_img\")\n",
    "\n",
    "ax2.imshow(mask_img)\n",
    "ax2.set_title(\"mask_img\")\n",
    "\n",
    "plt.show()"
   ]
  },
  {
   "cell_type": "markdown",
   "id": "8c83d91c",
   "metadata": {
    "papermill": {
     "duration": 0.014061,
     "end_time": "2024-01-17T17:49:16.714049",
     "exception": false,
     "start_time": "2024-01-17T17:49:16.699988",
     "status": "completed"
    },
    "tags": []
   },
   "source": [
    "# 训练网络"
   ]
  },
  {
   "cell_type": "code",
   "execution_count": 9,
   "id": "201f9c93",
   "metadata": {
    "execution": {
     "iopub.execute_input": "2024-01-17T17:49:16.744626Z",
     "iopub.status.busy": "2024-01-17T17:49:16.744264Z",
     "iopub.status.idle": "2024-01-17T17:49:16.756773Z",
     "shell.execute_reply": "2024-01-17T17:49:16.755689Z"
    },
    "papermill": {
     "duration": 0.030564,
     "end_time": "2024-01-17T17:49:16.758885",
     "exception": false,
     "start_time": "2024-01-17T17:49:16.728321",
     "status": "completed"
    },
    "tags": []
   },
   "outputs": [],
   "source": [
    "\n",
    "@torch.inference_mode()\n",
    "def evaluate(net, dataloader, device, amp):\n",
    "    net.eval()\n",
    "    num_val_batches = len(dataloader)\n",
    "    dice_score = 0\n",
    "    iou_score = 0\n",
    "\n",
    "    if isinstance(model, nn.DataParallel):\n",
    "        n_classes = net.module.n_classes\n",
    "    else:\n",
    "        n_classes = net.n_classes\n",
    "    criterion = nn.CrossEntropyLoss() if n_classes > 1 else nn.BCEWithLogitsLoss()\n",
    "    dice_loss = smp.losses.DiceLoss(mode='binary', log_loss=True, from_logits = True).cuda()\n",
    "   \n",
    "    \n",
    "    print(\"Validation round\")\n",
    "    # iterate over the validation set\n",
    "    with torch.autocast(device.type if device.type != 'mps' else 'cpu', enabled=amp):\n",
    "        for batch in tqdm(dataloader, total=num_val_batches, desc='Validation round', unit='batch', position=0 ,leave=True):\n",
    "            image, mask_true = batch\n",
    "\n",
    "            # move images and labels to correct device and type\n",
    "            image = image.to(device=device, dtype=torch.float32, memory_format=torch.channels_last)\n",
    "            mask_true = mask_true.to(device=device, dtype=torch.float32)\n",
    "\n",
    "            # predict the mask\n",
    "            mask_pred = net(image)\n",
    "            dice_score += criterion(mask_pred, mask_true.float())\n",
    "            dice_score += dice_loss(mask_pred, mask_true)\n",
    "            \n",
    "            tp, fp, fn, tn = smp.metrics.get_stats(mask_pred, mask_true.long(), mode='binary', threshold=0.5)\n",
    "            iou_score += smp.metrics.iou_score(tp, fp, fn, tn, reduction=\"micro\")\n",
    "            \n",
    "    dice_loss = (dice_score / max(num_val_batches, 1))\n",
    "    iou_score = (iou_score / max(num_val_batches, 1))\n",
    "    print(\"Validation dice loss: {}, IoU Score {}\".format(dice_loss, iou_score))\n",
    "    return (dice_loss, iou_score)"
   ]
  },
  {
   "cell_type": "markdown",
   "id": "ec9ad666",
   "metadata": {
    "papermill": {
     "duration": 0.013227,
     "end_time": "2024-01-17T17:49:16.786476",
     "exception": false,
     "start_time": "2024-01-17T17:49:16.773249",
     "status": "completed"
    },
    "tags": []
   },
   "source": [
    "## 设置wandb账号\n",
    "用作统计与数据分析"
   ]
  },
  {
   "cell_type": "code",
   "execution_count": 10,
   "id": "e1203e08",
   "metadata": {
    "execution": {
     "iopub.execute_input": "2024-01-17T17:49:16.814343Z",
     "iopub.status.busy": "2024-01-17T17:49:16.814065Z",
     "iopub.status.idle": "2024-01-17T17:49:21.341527Z",
     "shell.execute_reply": "2024-01-17T17:49:21.340312Z"
    },
    "papermill": {
     "duration": 4.544441,
     "end_time": "2024-01-17T17:49:21.344027",
     "exception": false,
     "start_time": "2024-01-17T17:49:16.799586",
     "status": "completed"
    },
    "tags": []
   },
   "outputs": [
    {
     "name": "stdout",
     "output_type": "stream",
     "text": [
      "\u001b[34m\u001b[1mwandb\u001b[0m: Currently logged in as: \u001b[33mtorwayland\u001b[0m (\u001b[33mcupes-wangtao\u001b[0m). Use \u001b[1m`wandb login --relogin`\u001b[0m to force relogin\r\n"
     ]
    }
   ],
   "source": [
    "os.environ['WANDB_API_KEY']='d561f1229ba7c4e207ca34042f29a43552a7447e'\n",
    "!wandb login"
   ]
  },
  {
   "cell_type": "code",
   "execution_count": 11,
   "id": "c5c54713",
   "metadata": {
    "execution": {
     "iopub.execute_input": "2024-01-17T17:49:21.376153Z",
     "iopub.status.busy": "2024-01-17T17:49:21.375549Z",
     "iopub.status.idle": "2024-01-17T20:22:47.146926Z",
     "shell.execute_reply": "2024-01-17T20:22:47.145987Z"
    },
    "papermill": {
     "duration": 9205.790431,
     "end_time": "2024-01-17T20:22:47.149123",
     "exception": false,
     "start_time": "2024-01-17T17:49:21.358692",
     "status": "completed"
    },
    "tags": []
   },
   "outputs": [
    {
     "name": "stdout",
     "output_type": "stream",
     "text": [
      "Let's use 2 GPUs!\n",
      "模型参数量为：31043521\n",
      "其详情为：\n",
      "module.down1.double_conv.double_conv.0.weight : torch.Size([64, 3, 3, 3])\n",
      "module.down1.double_conv.double_conv.0.bias : torch.Size([64])\n",
      "module.down1.double_conv.double_conv.1.weight : torch.Size([64])\n",
      "module.down1.double_conv.double_conv.1.bias : torch.Size([64])\n",
      "module.down1.double_conv.double_conv.3.weight : torch.Size([64, 64, 3, 3])\n",
      "module.down1.double_conv.double_conv.3.bias : torch.Size([64])\n",
      "module.down1.double_conv.double_conv.4.weight : torch.Size([64])\n",
      "module.down1.double_conv.double_conv.4.bias : torch.Size([64])\n",
      "module.down2.double_conv.double_conv.0.weight : torch.Size([128, 64, 3, 3])\n",
      "module.down2.double_conv.double_conv.0.bias : torch.Size([128])\n",
      "module.down2.double_conv.double_conv.1.weight : torch.Size([128])\n",
      "module.down2.double_conv.double_conv.1.bias : torch.Size([128])\n",
      "module.down2.double_conv.double_conv.3.weight : torch.Size([128, 128, 3, 3])\n",
      "module.down2.double_conv.double_conv.3.bias : torch.Size([128])\n",
      "module.down2.double_conv.double_conv.4.weight : torch.Size([128])\n",
      "module.down2.double_conv.double_conv.4.bias : torch.Size([128])\n",
      "module.down3.double_conv.double_conv.0.weight : torch.Size([256, 128, 3, 3])\n",
      "module.down3.double_conv.double_conv.0.bias : torch.Size([256])\n",
      "module.down3.double_conv.double_conv.1.weight : torch.Size([256])\n",
      "module.down3.double_conv.double_conv.1.bias : torch.Size([256])\n",
      "module.down3.double_conv.double_conv.3.weight : torch.Size([256, 256, 3, 3])\n",
      "module.down3.double_conv.double_conv.3.bias : torch.Size([256])\n",
      "module.down3.double_conv.double_conv.4.weight : torch.Size([256])\n",
      "module.down3.double_conv.double_conv.4.bias : torch.Size([256])\n",
      "module.down4.double_conv.double_conv.0.weight : torch.Size([512, 256, 3, 3])\n",
      "module.down4.double_conv.double_conv.0.bias : torch.Size([512])\n",
      "module.down4.double_conv.double_conv.1.weight : torch.Size([512])\n",
      "module.down4.double_conv.double_conv.1.bias : torch.Size([512])\n",
      "module.down4.double_conv.double_conv.3.weight : torch.Size([512, 512, 3, 3])\n",
      "module.down4.double_conv.double_conv.3.bias : torch.Size([512])\n",
      "module.down4.double_conv.double_conv.4.weight : torch.Size([512])\n",
      "module.down4.double_conv.double_conv.4.bias : torch.Size([512])\n",
      "module.bottle_conv.double_conv.0.weight : torch.Size([1024, 512, 3, 3])\n",
      "module.bottle_conv.double_conv.0.bias : torch.Size([1024])\n",
      "module.bottle_conv.double_conv.1.weight : torch.Size([1024])\n",
      "module.bottle_conv.double_conv.1.bias : torch.Size([1024])\n",
      "module.bottle_conv.double_conv.3.weight : torch.Size([1024, 1024, 3, 3])\n",
      "module.bottle_conv.double_conv.3.bias : torch.Size([1024])\n",
      "module.bottle_conv.double_conv.4.weight : torch.Size([1024])\n",
      "module.bottle_conv.double_conv.4.bias : torch.Size([1024])\n",
      "module.up4.up.weight : torch.Size([1024, 512, 2, 2])\n",
      "module.up4.up.bias : torch.Size([512])\n",
      "module.up4.conv.1.double_conv.0.weight : torch.Size([512, 1024, 3, 3])\n",
      "module.up4.conv.1.double_conv.0.bias : torch.Size([512])\n",
      "module.up4.conv.1.double_conv.1.weight : torch.Size([512])\n",
      "module.up4.conv.1.double_conv.1.bias : torch.Size([512])\n",
      "module.up4.conv.1.double_conv.3.weight : torch.Size([512, 512, 3, 3])\n",
      "module.up4.conv.1.double_conv.3.bias : torch.Size([512])\n",
      "module.up4.conv.1.double_conv.4.weight : torch.Size([512])\n",
      "module.up4.conv.1.double_conv.4.bias : torch.Size([512])\n",
      "module.up3.up.weight : torch.Size([512, 256, 2, 2])\n",
      "module.up3.up.bias : torch.Size([256])\n",
      "module.up3.conv.1.double_conv.0.weight : torch.Size([256, 512, 3, 3])\n",
      "module.up3.conv.1.double_conv.0.bias : torch.Size([256])\n",
      "module.up3.conv.1.double_conv.1.weight : torch.Size([256])\n",
      "module.up3.conv.1.double_conv.1.bias : torch.Size([256])\n",
      "module.up3.conv.1.double_conv.3.weight : torch.Size([256, 256, 3, 3])\n",
      "module.up3.conv.1.double_conv.3.bias : torch.Size([256])\n",
      "module.up3.conv.1.double_conv.4.weight : torch.Size([256])\n",
      "module.up3.conv.1.double_conv.4.bias : torch.Size([256])\n",
      "module.up2.up.weight : torch.Size([256, 128, 2, 2])\n",
      "module.up2.up.bias : torch.Size([128])\n",
      "module.up2.conv.1.double_conv.0.weight : torch.Size([128, 256, 3, 3])\n",
      "module.up2.conv.1.double_conv.0.bias : torch.Size([128])\n",
      "module.up2.conv.1.double_conv.1.weight : torch.Size([128])\n",
      "module.up2.conv.1.double_conv.1.bias : torch.Size([128])\n",
      "module.up2.conv.1.double_conv.3.weight : torch.Size([128, 128, 3, 3])\n",
      "module.up2.conv.1.double_conv.3.bias : torch.Size([128])\n",
      "module.up2.conv.1.double_conv.4.weight : torch.Size([128])\n",
      "module.up2.conv.1.double_conv.4.bias : torch.Size([128])\n",
      "module.up1.up.weight : torch.Size([128, 64, 2, 2])\n",
      "module.up1.up.bias : torch.Size([64])\n",
      "module.up1.conv.1.double_conv.0.weight : torch.Size([64, 128, 3, 3])\n",
      "module.up1.conv.1.double_conv.0.bias : torch.Size([64])\n",
      "module.up1.conv.1.double_conv.1.weight : torch.Size([64])\n",
      "module.up1.conv.1.double_conv.1.bias : torch.Size([64])\n",
      "module.up1.conv.1.double_conv.3.weight : torch.Size([64, 64, 3, 3])\n",
      "module.up1.conv.1.double_conv.3.bias : torch.Size([64])\n",
      "module.up1.conv.1.double_conv.4.weight : torch.Size([64])\n",
      "module.up1.conv.1.double_conv.4.bias : torch.Size([64])\n",
      "module.outc.weight : torch.Size([1, 64, 1, 1])\n",
      "module.outc.bias : torch.Size([1])\n"
     ]
    },
    {
     "name": "stderr",
     "output_type": "stream",
     "text": [
      "\u001b[34m\u001b[1mwandb\u001b[0m: Currently logged in as: \u001b[33mtorwayland\u001b[0m (\u001b[33mcupes-wangtao\u001b[0m). Use \u001b[1m`wandb login --relogin`\u001b[0m to force relogin\n",
      "\u001b[34m\u001b[1mwandb\u001b[0m: wandb version 0.16.2 is available!  To upgrade, please run:\n",
      "\u001b[34m\u001b[1mwandb\u001b[0m:  $ pip install wandb --upgrade\n",
      "\u001b[34m\u001b[1mwandb\u001b[0m: Tracking run with wandb version 0.15.5\n",
      "\u001b[34m\u001b[1mwandb\u001b[0m: Run data is saved locally in \u001b[35m\u001b[1m/kaggle/working/wandb/run-20240117_174925-fnmdidxn\u001b[0m\n",
      "\u001b[34m\u001b[1mwandb\u001b[0m: Run \u001b[1m`wandb offline`\u001b[0m to turn off syncing.\n",
      "\u001b[34m\u001b[1mwandb\u001b[0m: Syncing run \u001b[33mbumbling-rain-17\u001b[0m\n",
      "\u001b[34m\u001b[1mwandb\u001b[0m: ⭐️ View project at \u001b[34m\u001b[4mhttps://wandb.ai/cupes-wangtao/U-Net\u001b[0m\n",
      "\u001b[34m\u001b[1mwandb\u001b[0m: 🚀 View run at \u001b[34m\u001b[4mhttps://wandb.ai/cupes-wangtao/U-Net/runs/fnmdidxn\u001b[0m\n",
      "Epoch 1/60:  20%|█▉        | 90/456 [00:17<01:02,  5.86img/s, loss (batch)=0.908]"
     ]
    },
    {
     "name": "stdout",
     "output_type": "stream",
     "text": [
      "Validation round\n"
     ]
    },
    {
     "name": "stderr",
     "output_type": "stream",
     "text": [
      "Validation round: 100%|██████████| 115/115 [00:12<00:00,  8.86batch/s]\n"
     ]
    },
    {
     "name": "stdout",
     "output_type": "stream",
     "text": [
      "Validation dice loss: 2.9403557777404785, IoU Score 0.25520506501197815\n"
     ]
    },
    {
     "name": "stderr",
     "output_type": "stream",
     "text": [
      "Epoch 1/60:  39%|███▉      | 180/456 [00:47<00:48,  5.75img/s, loss (batch)=0.797]"
     ]
    },
    {
     "name": "stdout",
     "output_type": "stream",
     "text": [
      "Validation round\n"
     ]
    },
    {
     "name": "stderr",
     "output_type": "stream",
     "text": [
      "Validation round: 100%|██████████| 115/115 [00:12<00:00,  8.88batch/s]\n"
     ]
    },
    {
     "name": "stdout",
     "output_type": "stream",
     "text": [
      "Validation dice loss: 2.6331164836883545, IoU Score 0.21363402903079987\n"
     ]
    },
    {
     "name": "stderr",
     "output_type": "stream",
     "text": [
      "Epoch 1/60:  59%|█████▉    | 270/456 [01:17<00:32,  5.72img/s, loss (batch)=0.881]"
     ]
    },
    {
     "name": "stdout",
     "output_type": "stream",
     "text": [
      "Validation round\n"
     ]
    },
    {
     "name": "stderr",
     "output_type": "stream",
     "text": [
      "Validation round: 100%|██████████| 115/115 [00:13<00:00,  8.66batch/s]\n"
     ]
    },
    {
     "name": "stdout",
     "output_type": "stream",
     "text": [
      "Validation dice loss: 2.4539005756378174, IoU Score 0.26081860065460205\n"
     ]
    },
    {
     "name": "stderr",
     "output_type": "stream",
     "text": [
      "Epoch 1/60:  79%|███████▉  | 360/456 [01:47<00:16,  5.70img/s, loss (batch)=0.806]"
     ]
    },
    {
     "name": "stdout",
     "output_type": "stream",
     "text": [
      "Validation round\n"
     ]
    },
    {
     "name": "stderr",
     "output_type": "stream",
     "text": [
      "Validation round: 100%|██████████| 115/115 [00:13<00:00,  8.74batch/s]\n"
     ]
    },
    {
     "name": "stdout",
     "output_type": "stream",
     "text": [
      "Validation dice loss: 2.2909603118896484, IoU Score 0.3227575421333313\n"
     ]
    },
    {
     "name": "stderr",
     "output_type": "stream",
     "text": [
      "Epoch 1/60:  99%|█████████▊| 450/456 [02:17<00:01,  5.78img/s, loss (batch)=0.799]"
     ]
    },
    {
     "name": "stdout",
     "output_type": "stream",
     "text": [
      "Validation round\n"
     ]
    },
    {
     "name": "stderr",
     "output_type": "stream",
     "text": [
      "Validation round: 100%|██████████| 115/115 [00:13<00:00,  8.80batch/s]\n"
     ]
    },
    {
     "name": "stdout",
     "output_type": "stream",
     "text": [
      "Validation dice loss: 2.484475612640381, IoU Score 0.2574288547039032\n"
     ]
    },
    {
     "name": "stderr",
     "output_type": "stream",
     "text": [
      "Epoch 1/60: 100%|██████████| 456/456 [02:33<00:00,  2.97img/s, loss (batch)=0.879]\n",
      "Epoch 2/60:  18%|█▊        | 84/456 [00:14<01:04,  5.74img/s, loss (batch)=0.891]"
     ]
    },
    {
     "name": "stdout",
     "output_type": "stream",
     "text": [
      "Validation round\n"
     ]
    },
    {
     "name": "stderr",
     "output_type": "stream",
     "text": [
      "Validation round: 100%|██████████| 115/115 [00:13<00:00,  8.78batch/s]\n"
     ]
    },
    {
     "name": "stdout",
     "output_type": "stream",
     "text": [
      "Validation dice loss: 2.2110142707824707, IoU Score 0.37715137004852295\n"
     ]
    },
    {
     "name": "stderr",
     "output_type": "stream",
     "text": [
      "Epoch 2/60:  38%|███▊      | 174/456 [00:44<00:48,  5.82img/s, loss (batch)=0.89] "
     ]
    },
    {
     "name": "stdout",
     "output_type": "stream",
     "text": [
      "Validation round\n"
     ]
    },
    {
     "name": "stderr",
     "output_type": "stream",
     "text": [
      "Validation round: 100%|██████████| 115/115 [00:13<00:00,  8.81batch/s]\n"
     ]
    },
    {
     "name": "stdout",
     "output_type": "stream",
     "text": [
      "Validation dice loss: 2.1733152866363525, IoU Score 0.3861159384250641\n"
     ]
    },
    {
     "name": "stderr",
     "output_type": "stream",
     "text": [
      "Epoch 2/60:  58%|█████▊    | 264/456 [01:14<00:33,  5.73img/s, loss (batch)=0.874]"
     ]
    },
    {
     "name": "stdout",
     "output_type": "stream",
     "text": [
      "Validation round\n"
     ]
    },
    {
     "name": "stderr",
     "output_type": "stream",
     "text": [
      "Validation round: 100%|██████████| 115/115 [00:13<00:00,  8.81batch/s]\n"
     ]
    },
    {
     "name": "stdout",
     "output_type": "stream",
     "text": [
      "Validation dice loss: 2.046420097351074, IoU Score 0.4052048921585083\n"
     ]
    },
    {
     "name": "stderr",
     "output_type": "stream",
     "text": [
      "Epoch 2/60:  78%|███████▊  | 354/456 [01:44<00:17,  5.85img/s, loss (batch)=0.778]"
     ]
    },
    {
     "name": "stdout",
     "output_type": "stream",
     "text": [
      "Validation round\n"
     ]
    },
    {
     "name": "stderr",
     "output_type": "stream",
     "text": [
      "Validation round: 100%|██████████| 115/115 [00:13<00:00,  8.77batch/s]\n"
     ]
    },
    {
     "name": "stdout",
     "output_type": "stream",
     "text": [
      "Validation dice loss: 2.1650607585906982, IoU Score 0.3395538628101349\n"
     ]
    },
    {
     "name": "stderr",
     "output_type": "stream",
     "text": [
      "Epoch 2/60:  97%|█████████▋| 444/456 [02:14<00:02,  5.77img/s, loss (batch)=0.757]"
     ]
    },
    {
     "name": "stdout",
     "output_type": "stream",
     "text": [
      "Validation round\n"
     ]
    },
    {
     "name": "stderr",
     "output_type": "stream",
     "text": [
      "Validation round: 100%|██████████| 115/115 [00:13<00:00,  8.81batch/s]\n"
     ]
    },
    {
     "name": "stdout",
     "output_type": "stream",
     "text": [
      "Validation dice loss: 2.385580539703369, IoU Score 0.25502872467041016\n"
     ]
    },
    {
     "name": "stderr",
     "output_type": "stream",
     "text": [
      "Epoch 2/60: 100%|██████████| 456/456 [02:31<00:00,  3.01img/s, loss (batch)=0.818]\n",
      "Epoch 3/60:  17%|█▋        | 78/456 [00:13<01:05,  5.78img/s, loss (batch)=0.876]"
     ]
    },
    {
     "name": "stdout",
     "output_type": "stream",
     "text": [
      "Validation round\n"
     ]
    },
    {
     "name": "stderr",
     "output_type": "stream",
     "text": [
      "Validation round: 100%|██████████| 115/115 [00:13<00:00,  8.81batch/s]\n"
     ]
    },
    {
     "name": "stdout",
     "output_type": "stream",
     "text": [
      "Validation dice loss: 1.9216232299804688, IoU Score 0.40939605236053467\n"
     ]
    },
    {
     "name": "stderr",
     "output_type": "stream",
     "text": [
      "Epoch 3/60:  37%|███▋      | 168/456 [00:43<00:50,  5.71img/s, loss (batch)=0.847]"
     ]
    },
    {
     "name": "stdout",
     "output_type": "stream",
     "text": [
      "Validation round\n"
     ]
    },
    {
     "name": "stderr",
     "output_type": "stream",
     "text": [
      "Validation round: 100%|██████████| 115/115 [00:13<00:00,  8.81batch/s]\n"
     ]
    },
    {
     "name": "stdout",
     "output_type": "stream",
     "text": [
      "Validation dice loss: 1.9226056337356567, IoU Score 0.3865697383880615\n"
     ]
    },
    {
     "name": "stderr",
     "output_type": "stream",
     "text": [
      "Epoch 3/60:  57%|█████▋    | 258/456 [01:13<00:33,  5.84img/s, loss (batch)=0.788]"
     ]
    },
    {
     "name": "stdout",
     "output_type": "stream",
     "text": [
      "Validation round\n"
     ]
    },
    {
     "name": "stderr",
     "output_type": "stream",
     "text": [
      "Validation round: 100%|██████████| 115/115 [00:13<00:00,  8.78batch/s]\n"
     ]
    },
    {
     "name": "stdout",
     "output_type": "stream",
     "text": [
      "Validation dice loss: 1.9590283632278442, IoU Score 0.35738399624824524\n"
     ]
    },
    {
     "name": "stderr",
     "output_type": "stream",
     "text": [
      "Epoch 3/60:  76%|███████▋  | 348/456 [01:43<00:18,  5.71img/s, loss (batch)=0.798]"
     ]
    },
    {
     "name": "stdout",
     "output_type": "stream",
     "text": [
      "Validation round\n"
     ]
    },
    {
     "name": "stderr",
     "output_type": "stream",
     "text": [
      "Validation round: 100%|██████████| 115/115 [00:13<00:00,  8.77batch/s]\n"
     ]
    },
    {
     "name": "stdout",
     "output_type": "stream",
     "text": [
      "Validation dice loss: 1.8967530727386475, IoU Score 0.38651242852211\n"
     ]
    },
    {
     "name": "stderr",
     "output_type": "stream",
     "text": [
      "Epoch 3/60:  96%|█████████▌| 438/456 [02:13<00:03,  5.81img/s, loss (batch)=0.747]"
     ]
    },
    {
     "name": "stdout",
     "output_type": "stream",
     "text": [
      "Validation round\n"
     ]
    },
    {
     "name": "stderr",
     "output_type": "stream",
     "text": [
      "Validation round: 100%|██████████| 115/115 [00:13<00:00,  8.78batch/s]\n"
     ]
    },
    {
     "name": "stdout",
     "output_type": "stream",
     "text": [
      "Validation dice loss: 1.9224199056625366, IoU Score 0.4049941599369049\n"
     ]
    },
    {
     "name": "stderr",
     "output_type": "stream",
     "text": [
      "Epoch 3/60: 100%|██████████| 456/456 [02:31<00:00,  3.01img/s, loss (batch)=0.716]\n",
      "Epoch 4/60:  16%|█▌        | 72/456 [00:12<01:06,  5.81img/s, loss (batch)=0.681]"
     ]
    },
    {
     "name": "stdout",
     "output_type": "stream",
     "text": [
      "Validation round\n"
     ]
    },
    {
     "name": "stderr",
     "output_type": "stream",
     "text": [
      "Validation round: 100%|██████████| 115/115 [00:13<00:00,  8.82batch/s]\n"
     ]
    },
    {
     "name": "stdout",
     "output_type": "stream",
     "text": [
      "Validation dice loss: 1.8060730695724487, IoU Score 0.4328889846801758\n"
     ]
    },
    {
     "name": "stderr",
     "output_type": "stream",
     "text": [
      "Epoch 4/60:  36%|███▌      | 162/456 [00:42<00:51,  5.66img/s, loss (batch)=0.826]"
     ]
    },
    {
     "name": "stdout",
     "output_type": "stream",
     "text": [
      "Validation round\n"
     ]
    },
    {
     "name": "stderr",
     "output_type": "stream",
     "text": [
      "Validation round: 100%|██████████| 115/115 [00:13<00:00,  8.81batch/s]\n"
     ]
    },
    {
     "name": "stdout",
     "output_type": "stream",
     "text": [
      "Validation dice loss: 1.7933517694473267, IoU Score 0.4480190575122833\n"
     ]
    },
    {
     "name": "stderr",
     "output_type": "stream",
     "text": [
      "Epoch 4/60:  55%|█████▌    | 252/456 [01:12<00:34,  5.86img/s, loss (batch)=0.725]"
     ]
    },
    {
     "name": "stdout",
     "output_type": "stream",
     "text": [
      "Validation round\n"
     ]
    },
    {
     "name": "stderr",
     "output_type": "stream",
     "text": [
      "Validation round: 100%|██████████| 115/115 [00:13<00:00,  8.81batch/s]\n"
     ]
    },
    {
     "name": "stdout",
     "output_type": "stream",
     "text": [
      "Validation dice loss: 1.7885487079620361, IoU Score 0.4394398331642151\n"
     ]
    },
    {
     "name": "stderr",
     "output_type": "stream",
     "text": [
      "Epoch 4/60:  75%|███████▌  | 342/456 [01:43<00:19,  5.70img/s, loss (batch)=0.835]"
     ]
    },
    {
     "name": "stdout",
     "output_type": "stream",
     "text": [
      "Validation round\n"
     ]
    },
    {
     "name": "stderr",
     "output_type": "stream",
     "text": [
      "Validation round: 100%|██████████| 115/115 [00:13<00:00,  8.82batch/s]\n"
     ]
    },
    {
     "name": "stdout",
     "output_type": "stream",
     "text": [
      "Validation dice loss: 1.7521535158157349, IoU Score 0.46844449639320374\n"
     ]
    },
    {
     "name": "stderr",
     "output_type": "stream",
     "text": [
      "Epoch 4/60:  95%|█████████▍| 432/456 [02:13<00:04,  5.73img/s, loss (batch)=0.745]"
     ]
    },
    {
     "name": "stdout",
     "output_type": "stream",
     "text": [
      "Validation round\n"
     ]
    },
    {
     "name": "stderr",
     "output_type": "stream",
     "text": [
      "Validation round: 100%|██████████| 115/115 [00:13<00:00,  8.74batch/s]\n"
     ]
    },
    {
     "name": "stdout",
     "output_type": "stream",
     "text": [
      "Validation dice loss: 1.708408236503601, IoU Score 0.45081788301467896\n"
     ]
    },
    {
     "name": "stderr",
     "output_type": "stream",
     "text": [
      "Epoch 4/60: 100%|██████████| 456/456 [02:32<00:00,  3.00img/s, loss (batch)=0.85]\n",
      "Epoch 5/60:  14%|█▍        | 66/456 [00:11<01:08,  5.65img/s, loss (batch)=0.859]"
     ]
    },
    {
     "name": "stdout",
     "output_type": "stream",
     "text": [
      "Validation round\n"
     ]
    },
    {
     "name": "stderr",
     "output_type": "stream",
     "text": [
      "Validation round: 100%|██████████| 115/115 [00:13<00:00,  8.75batch/s]\n"
     ]
    },
    {
     "name": "stdout",
     "output_type": "stream",
     "text": [
      "Validation dice loss: 1.8126146793365479, IoU Score 0.4060620963573456\n"
     ]
    },
    {
     "name": "stderr",
     "output_type": "stream",
     "text": [
      "Epoch 5/60:  34%|███▍      | 156/456 [00:41<00:52,  5.71img/s, loss (batch)=0.734]"
     ]
    },
    {
     "name": "stdout",
     "output_type": "stream",
     "text": [
      "Validation round\n"
     ]
    },
    {
     "name": "stderr",
     "output_type": "stream",
     "text": [
      "Validation round: 100%|██████████| 115/115 [00:13<00:00,  8.79batch/s]\n"
     ]
    },
    {
     "name": "stdout",
     "output_type": "stream",
     "text": [
      "Validation dice loss: 1.746488094329834, IoU Score 0.4398302733898163\n"
     ]
    },
    {
     "name": "stderr",
     "output_type": "stream",
     "text": [
      "Epoch 5/60:  54%|█████▍    | 246/456 [01:11<00:36,  5.82img/s, loss (batch)=0.839]"
     ]
    },
    {
     "name": "stdout",
     "output_type": "stream",
     "text": [
      "Validation round\n"
     ]
    },
    {
     "name": "stderr",
     "output_type": "stream",
     "text": [
      "Validation round: 100%|██████████| 115/115 [00:13<00:00,  8.73batch/s]\n"
     ]
    },
    {
     "name": "stdout",
     "output_type": "stream",
     "text": [
      "Validation dice loss: 1.7309859991073608, IoU Score 0.4326072633266449\n"
     ]
    },
    {
     "name": "stderr",
     "output_type": "stream",
     "text": [
      "Epoch 5/60:  74%|███████▎  | 336/456 [01:42<00:21,  5.61img/s, loss (batch)=0.801]"
     ]
    },
    {
     "name": "stdout",
     "output_type": "stream",
     "text": [
      "Validation round\n"
     ]
    },
    {
     "name": "stderr",
     "output_type": "stream",
     "text": [
      "Validation round: 100%|██████████| 115/115 [00:13<00:00,  8.81batch/s]\n"
     ]
    },
    {
     "name": "stdout",
     "output_type": "stream",
     "text": [
      "Validation dice loss: 1.6823325157165527, IoU Score 0.4509184956550598\n"
     ]
    },
    {
     "name": "stderr",
     "output_type": "stream",
     "text": [
      "Epoch 5/60:  93%|█████████▎| 426/456 [02:12<00:05,  5.74img/s, loss (batch)=0.591]"
     ]
    },
    {
     "name": "stdout",
     "output_type": "stream",
     "text": [
      "Validation round\n"
     ]
    },
    {
     "name": "stderr",
     "output_type": "stream",
     "text": [
      "Validation round: 100%|██████████| 115/115 [00:13<00:00,  8.79batch/s]\n"
     ]
    },
    {
     "name": "stdout",
     "output_type": "stream",
     "text": [
      "Validation dice loss: 1.660768747329712, IoU Score 0.45523902773857117\n"
     ]
    },
    {
     "name": "stderr",
     "output_type": "stream",
     "text": [
      "Epoch 5/60: 100%|██████████| 456/456 [02:32<00:00,  2.99img/s, loss (batch)=0.672]\n",
      "Epoch 6/60:  13%|█▎        | 60/456 [00:10<01:08,  5.79img/s, loss (batch)=0.728]"
     ]
    },
    {
     "name": "stdout",
     "output_type": "stream",
     "text": [
      "Validation round\n"
     ]
    },
    {
     "name": "stderr",
     "output_type": "stream",
     "text": [
      "Validation round: 100%|██████████| 115/115 [00:13<00:00,  8.82batch/s]\n"
     ]
    },
    {
     "name": "stdout",
     "output_type": "stream",
     "text": [
      "Validation dice loss: 1.660321593284607, IoU Score 0.4688461124897003\n"
     ]
    },
    {
     "name": "stderr",
     "output_type": "stream",
     "text": [
      "Epoch 6/60:  33%|███▎      | 150/456 [00:40<00:52,  5.83img/s, loss (batch)=0.635]"
     ]
    },
    {
     "name": "stdout",
     "output_type": "stream",
     "text": [
      "Validation round\n"
     ]
    },
    {
     "name": "stderr",
     "output_type": "stream",
     "text": [
      "Validation round: 100%|██████████| 115/115 [00:13<00:00,  8.77batch/s]\n"
     ]
    },
    {
     "name": "stdout",
     "output_type": "stream",
     "text": [
      "Validation dice loss: 1.643447756767273, IoU Score 0.45708346366882324\n"
     ]
    },
    {
     "name": "stderr",
     "output_type": "stream",
     "text": [
      "Epoch 6/60:  53%|█████▎    | 240/456 [01:10<00:37,  5.71img/s, loss (batch)=0.706]"
     ]
    },
    {
     "name": "stdout",
     "output_type": "stream",
     "text": [
      "Validation round\n"
     ]
    },
    {
     "name": "stderr",
     "output_type": "stream",
     "text": [
      "Validation round: 100%|██████████| 115/115 [00:13<00:00,  8.75batch/s]\n"
     ]
    },
    {
     "name": "stdout",
     "output_type": "stream",
     "text": [
      "Validation dice loss: 1.66539466381073, IoU Score 0.45671018958091736\n"
     ]
    },
    {
     "name": "stderr",
     "output_type": "stream",
     "text": [
      "Epoch 6/60:  72%|███████▏  | 330/456 [01:41<00:22,  5.65img/s, loss (batch)=0.686]"
     ]
    },
    {
     "name": "stdout",
     "output_type": "stream",
     "text": [
      "Validation round\n"
     ]
    },
    {
     "name": "stderr",
     "output_type": "stream",
     "text": [
      "Validation round: 100%|██████████| 115/115 [00:13<00:00,  8.76batch/s]\n"
     ]
    },
    {
     "name": "stdout",
     "output_type": "stream",
     "text": [
      "Validation dice loss: 1.57753324508667, IoU Score 0.4802135229110718\n"
     ]
    },
    {
     "name": "stderr",
     "output_type": "stream",
     "text": [
      "Epoch 6/60:  92%|█████████▏| 420/456 [02:11<00:06,  5.72img/s, loss (batch)=0.689]"
     ]
    },
    {
     "name": "stdout",
     "output_type": "stream",
     "text": [
      "Validation round\n"
     ]
    },
    {
     "name": "stderr",
     "output_type": "stream",
     "text": [
      "Validation round: 100%|██████████| 115/115 [00:13<00:00,  8.80batch/s]\n"
     ]
    },
    {
     "name": "stdout",
     "output_type": "stream",
     "text": [
      "Validation dice loss: 1.5669358968734741, IoU Score 0.4690207242965698\n"
     ]
    },
    {
     "name": "stderr",
     "output_type": "stream",
     "text": [
      "Epoch 6/60: 100%|██████████| 456/456 [02:32<00:00,  2.99img/s, loss (batch)=0.786]\n",
      "Epoch 7/60:  12%|█▏        | 54/456 [00:09<01:08,  5.84img/s, loss (batch)=0.621]"
     ]
    },
    {
     "name": "stdout",
     "output_type": "stream",
     "text": [
      "Validation round\n"
     ]
    },
    {
     "name": "stderr",
     "output_type": "stream",
     "text": [
      "Validation round: 100%|██████████| 115/115 [00:13<00:00,  8.78batch/s]\n"
     ]
    },
    {
     "name": "stdout",
     "output_type": "stream",
     "text": [
      "Validation dice loss: 1.5608806610107422, IoU Score 0.4846985340118408\n"
     ]
    },
    {
     "name": "stderr",
     "output_type": "stream",
     "text": [
      "Epoch 7/60:  32%|███▏      | 144/456 [00:39<00:54,  5.73img/s, loss (batch)=0.774]"
     ]
    },
    {
     "name": "stdout",
     "output_type": "stream",
     "text": [
      "Validation round\n"
     ]
    },
    {
     "name": "stderr",
     "output_type": "stream",
     "text": [
      "Validation round: 100%|██████████| 115/115 [00:13<00:00,  8.80batch/s]\n"
     ]
    },
    {
     "name": "stdout",
     "output_type": "stream",
     "text": [
      "Validation dice loss: 1.5986570119857788, IoU Score 0.4625239372253418\n"
     ]
    },
    {
     "name": "stderr",
     "output_type": "stream",
     "text": [
      "Epoch 7/60:  51%|█████▏    | 234/456 [01:09<00:38,  5.78img/s, loss (batch)=0.723]"
     ]
    },
    {
     "name": "stdout",
     "output_type": "stream",
     "text": [
      "Validation round\n"
     ]
    },
    {
     "name": "stderr",
     "output_type": "stream",
     "text": [
      "Validation round: 100%|██████████| 115/115 [00:13<00:00,  8.77batch/s]\n"
     ]
    },
    {
     "name": "stdout",
     "output_type": "stream",
     "text": [
      "Validation dice loss: 1.5466183423995972, IoU Score 0.4845987856388092\n"
     ]
    },
    {
     "name": "stderr",
     "output_type": "stream",
     "text": [
      "Epoch 7/60:  71%|███████   | 324/456 [01:40<00:23,  5.60img/s, loss (batch)=0.68] "
     ]
    },
    {
     "name": "stdout",
     "output_type": "stream",
     "text": [
      "Validation round\n"
     ]
    },
    {
     "name": "stderr",
     "output_type": "stream",
     "text": [
      "Validation round: 100%|██████████| 115/115 [00:13<00:00,  8.79batch/s]\n"
     ]
    },
    {
     "name": "stdout",
     "output_type": "stream",
     "text": [
      "Validation dice loss: 1.5104573965072632, IoU Score 0.4739949405193329\n"
     ]
    },
    {
     "name": "stderr",
     "output_type": "stream",
     "text": [
      "Epoch 7/60:  91%|█████████ | 414/456 [02:10<00:07,  5.78img/s, loss (batch)=0.687]"
     ]
    },
    {
     "name": "stdout",
     "output_type": "stream",
     "text": [
      "Validation round\n"
     ]
    },
    {
     "name": "stderr",
     "output_type": "stream",
     "text": [
      "Validation round: 100%|██████████| 115/115 [00:13<00:00,  8.76batch/s]\n"
     ]
    },
    {
     "name": "stdout",
     "output_type": "stream",
     "text": [
      "Validation dice loss: 1.4921594858169556, IoU Score 0.48509952425956726\n"
     ]
    },
    {
     "name": "stderr",
     "output_type": "stream",
     "text": [
      "Epoch 7/60: 100%|██████████| 456/456 [02:32<00:00,  2.99img/s, loss (batch)=0.737]\n",
      "Epoch 8/60:  11%|█         | 48/456 [00:08<01:10,  5.79img/s, loss (batch)=0.598]"
     ]
    },
    {
     "name": "stdout",
     "output_type": "stream",
     "text": [
      "Validation round\n"
     ]
    },
    {
     "name": "stderr",
     "output_type": "stream",
     "text": [
      "Validation round: 100%|██████████| 115/115 [00:13<00:00,  8.77batch/s]\n"
     ]
    },
    {
     "name": "stdout",
     "output_type": "stream",
     "text": [
      "Validation dice loss: 1.4704610109329224, IoU Score 0.48033225536346436\n"
     ]
    },
    {
     "name": "stderr",
     "output_type": "stream",
     "text": [
      "Epoch 8/60:  30%|███       | 138/456 [00:38<00:56,  5.64img/s, loss (batch)=0.788]"
     ]
    },
    {
     "name": "stdout",
     "output_type": "stream",
     "text": [
      "Validation round\n"
     ]
    },
    {
     "name": "stderr",
     "output_type": "stream",
     "text": [
      "Validation round: 100%|██████████| 115/115 [00:13<00:00,  8.79batch/s]\n"
     ]
    },
    {
     "name": "stdout",
     "output_type": "stream",
     "text": [
      "Validation dice loss: 1.5013384819030762, IoU Score 0.5066236853599548\n"
     ]
    },
    {
     "name": "stderr",
     "output_type": "stream",
     "text": [
      "Epoch 8/60:  50%|█████     | 228/456 [01:08<00:39,  5.75img/s, loss (batch)=0.808]"
     ]
    },
    {
     "name": "stdout",
     "output_type": "stream",
     "text": [
      "Validation round\n"
     ]
    },
    {
     "name": "stderr",
     "output_type": "stream",
     "text": [
      "Validation round: 100%|██████████| 115/115 [00:13<00:00,  8.81batch/s]\n"
     ]
    },
    {
     "name": "stdout",
     "output_type": "stream",
     "text": [
      "Validation dice loss: 1.4877969026565552, IoU Score 0.49290603399276733\n"
     ]
    },
    {
     "name": "stderr",
     "output_type": "stream",
     "text": [
      "Epoch 8/60:  70%|██████▉   | 318/456 [01:38<00:24,  5.60img/s, loss (batch)=0.613]"
     ]
    },
    {
     "name": "stdout",
     "output_type": "stream",
     "text": [
      "Validation round\n"
     ]
    },
    {
     "name": "stderr",
     "output_type": "stream",
     "text": [
      "Validation round: 100%|██████████| 115/115 [00:13<00:00,  8.78batch/s]\n"
     ]
    },
    {
     "name": "stdout",
     "output_type": "stream",
     "text": [
      "Validation dice loss: 1.4856748580932617, IoU Score 0.49424418807029724\n"
     ]
    },
    {
     "name": "stderr",
     "output_type": "stream",
     "text": [
      "Epoch 8/60:  89%|████████▉ | 408/456 [02:09<00:08,  5.79img/s, loss (batch)=0.618]"
     ]
    },
    {
     "name": "stdout",
     "output_type": "stream",
     "text": [
      "Validation round\n"
     ]
    },
    {
     "name": "stderr",
     "output_type": "stream",
     "text": [
      "Validation round: 100%|██████████| 115/115 [00:13<00:00,  8.78batch/s]\n"
     ]
    },
    {
     "name": "stdout",
     "output_type": "stream",
     "text": [
      "Validation dice loss: 1.5010383129119873, IoU Score 0.4844861626625061\n"
     ]
    },
    {
     "name": "stderr",
     "output_type": "stream",
     "text": [
      "Epoch 8/60: 100%|██████████| 456/456 [02:32<00:00,  3.00img/s, loss (batch)=0.647]\n",
      "Epoch 9/60:   9%|▉         | 42/456 [00:07<01:11,  5.79img/s, loss (batch)=0.605]"
     ]
    },
    {
     "name": "stdout",
     "output_type": "stream",
     "text": [
      "Validation round\n"
     ]
    },
    {
     "name": "stderr",
     "output_type": "stream",
     "text": [
      "Validation round: 100%|██████████| 115/115 [00:13<00:00,  8.79batch/s]\n"
     ]
    },
    {
     "name": "stdout",
     "output_type": "stream",
     "text": [
      "Validation dice loss: 1.4450594186782837, IoU Score 0.49497124552726746\n"
     ]
    },
    {
     "name": "stderr",
     "output_type": "stream",
     "text": [
      "Epoch 9/60:  29%|██▉       | 132/456 [00:37<00:56,  5.74img/s, loss (batch)=0.791]"
     ]
    },
    {
     "name": "stdout",
     "output_type": "stream",
     "text": [
      "Validation round\n"
     ]
    },
    {
     "name": "stderr",
     "output_type": "stream",
     "text": [
      "Validation round: 100%|██████████| 115/115 [00:13<00:00,  8.79batch/s]\n"
     ]
    },
    {
     "name": "stdout",
     "output_type": "stream",
     "text": [
      "Validation dice loss: 1.4794809818267822, IoU Score 0.48336148262023926\n"
     ]
    },
    {
     "name": "stderr",
     "output_type": "stream",
     "text": [
      "Epoch 9/60:  49%|████▊     | 222/456 [01:07<00:40,  5.84img/s, loss (batch)=0.641]"
     ]
    },
    {
     "name": "stdout",
     "output_type": "stream",
     "text": [
      "Validation round\n"
     ]
    },
    {
     "name": "stderr",
     "output_type": "stream",
     "text": [
      "Validation round: 100%|██████████| 115/115 [00:13<00:00,  8.80batch/s]\n"
     ]
    },
    {
     "name": "stdout",
     "output_type": "stream",
     "text": [
      "Validation dice loss: 1.4165781736373901, IoU Score 0.46297428011894226\n"
     ]
    },
    {
     "name": "stderr",
     "output_type": "stream",
     "text": [
      "Epoch 9/60:  68%|██████▊   | 312/456 [01:37<00:25,  5.76img/s, loss (batch)=0.692]"
     ]
    },
    {
     "name": "stdout",
     "output_type": "stream",
     "text": [
      "Validation round\n"
     ]
    },
    {
     "name": "stderr",
     "output_type": "stream",
     "text": [
      "Validation round: 100%|██████████| 115/115 [00:13<00:00,  8.82batch/s]\n"
     ]
    },
    {
     "name": "stdout",
     "output_type": "stream",
     "text": [
      "Validation dice loss: 1.4278887510299683, IoU Score 0.4959598183631897\n"
     ]
    },
    {
     "name": "stderr",
     "output_type": "stream",
     "text": [
      "Epoch 9/60:  88%|████████▊ | 402/456 [02:07<00:09,  5.76img/s, loss (batch)=0.599]"
     ]
    },
    {
     "name": "stdout",
     "output_type": "stream",
     "text": [
      "Validation round\n"
     ]
    },
    {
     "name": "stderr",
     "output_type": "stream",
     "text": [
      "Validation round: 100%|██████████| 115/115 [00:12<00:00,  8.86batch/s]\n"
     ]
    },
    {
     "name": "stdout",
     "output_type": "stream",
     "text": [
      "Validation dice loss: 1.4532285928726196, IoU Score 0.4952374994754791\n"
     ]
    },
    {
     "name": "stderr",
     "output_type": "stream",
     "text": [
      "Epoch 9/60: 100%|██████████| 456/456 [02:31<00:00,  3.01img/s, loss (batch)=0.724]\n",
      "Epoch 10/60:   8%|▊         | 36/456 [00:06<01:12,  5.82img/s, loss (batch)=0.54] "
     ]
    },
    {
     "name": "stdout",
     "output_type": "stream",
     "text": [
      "Validation round\n"
     ]
    },
    {
     "name": "stderr",
     "output_type": "stream",
     "text": [
      "Validation round: 100%|██████████| 115/115 [00:13<00:00,  8.81batch/s]\n"
     ]
    },
    {
     "name": "stdout",
     "output_type": "stream",
     "text": [
      "Validation dice loss: 1.4067878723144531, IoU Score 0.5056631565093994\n"
     ]
    },
    {
     "name": "stderr",
     "output_type": "stream",
     "text": [
      "Epoch 10/60:  28%|██▊       | 126/456 [00:36<00:57,  5.73img/s, loss (batch)=0.626]"
     ]
    },
    {
     "name": "stdout",
     "output_type": "stream",
     "text": [
      "Validation round\n"
     ]
    },
    {
     "name": "stderr",
     "output_type": "stream",
     "text": [
      "Validation round: 100%|██████████| 115/115 [00:12<00:00,  8.86batch/s]\n"
     ]
    },
    {
     "name": "stdout",
     "output_type": "stream",
     "text": [
      "Validation dice loss: 1.4162501096725464, IoU Score 0.5208455324172974\n"
     ]
    },
    {
     "name": "stderr",
     "output_type": "stream",
     "text": [
      "Epoch 10/60:  47%|████▋     | 216/456 [01:06<00:41,  5.74img/s, loss (batch)=0.661]"
     ]
    },
    {
     "name": "stdout",
     "output_type": "stream",
     "text": [
      "Validation round\n"
     ]
    },
    {
     "name": "stderr",
     "output_type": "stream",
     "text": [
      "Validation round: 100%|██████████| 115/115 [00:13<00:00,  8.82batch/s]\n"
     ]
    },
    {
     "name": "stdout",
     "output_type": "stream",
     "text": [
      "Validation dice loss: 1.4209831953048706, IoU Score 0.4906310439109802\n"
     ]
    },
    {
     "name": "stderr",
     "output_type": "stream",
     "text": [
      "Epoch 10/60:  67%|██████▋   | 306/456 [01:36<00:26,  5.67img/s, loss (batch)=0.771]"
     ]
    },
    {
     "name": "stdout",
     "output_type": "stream",
     "text": [
      "Validation round\n"
     ]
    },
    {
     "name": "stderr",
     "output_type": "stream",
     "text": [
      "Validation round: 100%|██████████| 115/115 [00:13<00:00,  8.82batch/s]\n"
     ]
    },
    {
     "name": "stdout",
     "output_type": "stream",
     "text": [
      "Validation dice loss: 1.4104949235916138, IoU Score 0.4880079925060272\n"
     ]
    },
    {
     "name": "stderr",
     "output_type": "stream",
     "text": [
      "Epoch 10/60:  87%|████████▋ | 396/456 [02:06<00:10,  5.79img/s, loss (batch)=0.639]"
     ]
    },
    {
     "name": "stdout",
     "output_type": "stream",
     "text": [
      "Validation round\n"
     ]
    },
    {
     "name": "stderr",
     "output_type": "stream",
     "text": [
      "Validation round: 100%|██████████| 115/115 [00:13<00:00,  8.81batch/s]\n"
     ]
    },
    {
     "name": "stdout",
     "output_type": "stream",
     "text": [
      "Validation dice loss: 1.366185188293457, IoU Score 0.5049330592155457\n"
     ]
    },
    {
     "name": "stderr",
     "output_type": "stream",
     "text": [
      "Epoch 10/60: 100%|██████████| 456/456 [02:31<00:00,  3.01img/s, loss (batch)=0.757]\n",
      "Epoch 11/60:   7%|▋         | 30/456 [00:05<01:13,  5.80img/s, loss (batch)=0.594]"
     ]
    },
    {
     "name": "stdout",
     "output_type": "stream",
     "text": [
      "Validation round\n"
     ]
    },
    {
     "name": "stderr",
     "output_type": "stream",
     "text": [
      "Validation round: 100%|██████████| 115/115 [00:13<00:00,  8.84batch/s]\n"
     ]
    },
    {
     "name": "stdout",
     "output_type": "stream",
     "text": [
      "Validation dice loss: 1.3372632265090942, IoU Score 0.5104023814201355\n"
     ]
    },
    {
     "name": "stderr",
     "output_type": "stream",
     "text": [
      "Epoch 11/60:  26%|██▋       | 120/456 [00:35<00:58,  5.79img/s, loss (batch)=0.541]"
     ]
    },
    {
     "name": "stdout",
     "output_type": "stream",
     "text": [
      "Validation round\n"
     ]
    },
    {
     "name": "stderr",
     "output_type": "stream",
     "text": [
      "Validation round: 100%|██████████| 115/115 [00:13<00:00,  8.79batch/s]\n"
     ]
    },
    {
     "name": "stdout",
     "output_type": "stream",
     "text": [
      "Validation dice loss: 1.3220528364181519, IoU Score 0.5040309429168701\n"
     ]
    },
    {
     "name": "stderr",
     "output_type": "stream",
     "text": [
      "Epoch 11/60:  46%|████▌     | 210/456 [01:05<00:42,  5.75img/s, loss (batch)=0.576]"
     ]
    },
    {
     "name": "stdout",
     "output_type": "stream",
     "text": [
      "Validation round\n"
     ]
    },
    {
     "name": "stderr",
     "output_type": "stream",
     "text": [
      "Validation round: 100%|██████████| 115/115 [00:12<00:00,  8.87batch/s]\n"
     ]
    },
    {
     "name": "stdout",
     "output_type": "stream",
     "text": [
      "Validation dice loss: 1.3283390998840332, IoU Score 0.5133379101753235\n"
     ]
    },
    {
     "name": "stderr",
     "output_type": "stream",
     "text": [
      "Epoch 11/60:  66%|██████▌   | 300/456 [01:35<00:27,  5.73img/s, loss (batch)=0.616]"
     ]
    },
    {
     "name": "stdout",
     "output_type": "stream",
     "text": [
      "Validation round\n"
     ]
    },
    {
     "name": "stderr",
     "output_type": "stream",
     "text": [
      "Validation round: 100%|██████████| 115/115 [00:13<00:00,  8.77batch/s]\n"
     ]
    },
    {
     "name": "stdout",
     "output_type": "stream",
     "text": [
      "Validation dice loss: 1.407711386680603, IoU Score 0.4915028214454651\n"
     ]
    },
    {
     "name": "stderr",
     "output_type": "stream",
     "text": [
      "Epoch 11/60:  86%|████████▌ | 390/456 [02:05<00:11,  5.71img/s, loss (batch)=0.623]"
     ]
    },
    {
     "name": "stdout",
     "output_type": "stream",
     "text": [
      "Validation round\n"
     ]
    },
    {
     "name": "stderr",
     "output_type": "stream",
     "text": [
      "Validation round: 100%|██████████| 115/115 [00:13<00:00,  8.83batch/s]\n"
     ]
    },
    {
     "name": "stdout",
     "output_type": "stream",
     "text": [
      "Validation dice loss: 1.3506232500076294, IoU Score 0.5064183473587036\n"
     ]
    },
    {
     "name": "stderr",
     "output_type": "stream",
     "text": [
      "Epoch 11/60: 100%|██████████| 456/456 [02:31<00:00,  3.01img/s, loss (batch)=0.795]\n",
      "Epoch 12/60:   5%|▌         | 24/456 [00:04<01:15,  5.70img/s, loss (batch)=0.601]"
     ]
    },
    {
     "name": "stdout",
     "output_type": "stream",
     "text": [
      "Validation round\n"
     ]
    },
    {
     "name": "stderr",
     "output_type": "stream",
     "text": [
      "Validation round: 100%|██████████| 115/115 [00:13<00:00,  8.74batch/s]\n"
     ]
    },
    {
     "name": "stdout",
     "output_type": "stream",
     "text": [
      "Validation dice loss: 1.4114034175872803, IoU Score 0.5016510486602783\n"
     ]
    },
    {
     "name": "stderr",
     "output_type": "stream",
     "text": [
      "Epoch 12/60:  25%|██▌       | 114/456 [00:34<00:58,  5.80img/s, loss (batch)=0.634]"
     ]
    },
    {
     "name": "stdout",
     "output_type": "stream",
     "text": [
      "Validation round\n"
     ]
    },
    {
     "name": "stderr",
     "output_type": "stream",
     "text": [
      "Validation round: 100%|██████████| 115/115 [00:13<00:00,  8.79batch/s]\n"
     ]
    },
    {
     "name": "stdout",
     "output_type": "stream",
     "text": [
      "Validation dice loss: 1.4644416570663452, IoU Score 0.44064968824386597\n"
     ]
    },
    {
     "name": "stderr",
     "output_type": "stream",
     "text": [
      "Epoch 12/60:  45%|████▍     | 204/456 [01:04<00:43,  5.83img/s, loss (batch)=0.58] "
     ]
    },
    {
     "name": "stdout",
     "output_type": "stream",
     "text": [
      "Validation round\n"
     ]
    },
    {
     "name": "stderr",
     "output_type": "stream",
     "text": [
      "Validation round: 100%|██████████| 115/115 [00:13<00:00,  8.76batch/s]\n"
     ]
    },
    {
     "name": "stdout",
     "output_type": "stream",
     "text": [
      "Validation dice loss: 1.3040306568145752, IoU Score 0.5029802918434143\n"
     ]
    },
    {
     "name": "stderr",
     "output_type": "stream",
     "text": [
      "Epoch 12/60:  64%|██████▍   | 294/456 [01:34<00:28,  5.79img/s, loss (batch)=0.708]"
     ]
    },
    {
     "name": "stdout",
     "output_type": "stream",
     "text": [
      "Validation round\n"
     ]
    },
    {
     "name": "stderr",
     "output_type": "stream",
     "text": [
      "Validation round: 100%|██████████| 115/115 [00:13<00:00,  8.83batch/s]\n"
     ]
    },
    {
     "name": "stdout",
     "output_type": "stream",
     "text": [
      "Validation dice loss: 1.3150250911712646, IoU Score 0.5126822590827942\n"
     ]
    },
    {
     "name": "stderr",
     "output_type": "stream",
     "text": [
      "Epoch 12/60:  84%|████████▍ | 384/456 [02:04<00:12,  5.79img/s, loss (batch)=0.517]"
     ]
    },
    {
     "name": "stdout",
     "output_type": "stream",
     "text": [
      "Validation round\n"
     ]
    },
    {
     "name": "stderr",
     "output_type": "stream",
     "text": [
      "Validation round: 100%|██████████| 115/115 [00:13<00:00,  8.83batch/s]\n"
     ]
    },
    {
     "name": "stdout",
     "output_type": "stream",
     "text": [
      "Validation dice loss: 1.30630624294281, IoU Score 0.5108790397644043\n"
     ]
    },
    {
     "name": "stderr",
     "output_type": "stream",
     "text": [
      "Epoch 12/60: 100%|██████████| 456/456 [02:31<00:00,  3.01img/s, loss (batch)=0.55]\n",
      "Epoch 13/60:   4%|▍         | 18/456 [00:03<01:15,  5.84img/s, loss (batch)=0.563]"
     ]
    },
    {
     "name": "stdout",
     "output_type": "stream",
     "text": [
      "Validation round\n"
     ]
    },
    {
     "name": "stderr",
     "output_type": "stream",
     "text": [
      "Validation round: 100%|██████████| 115/115 [00:13<00:00,  8.81batch/s]\n"
     ]
    },
    {
     "name": "stdout",
     "output_type": "stream",
     "text": [
      "Validation dice loss: 1.3393174409866333, IoU Score 0.48958587646484375\n"
     ]
    },
    {
     "name": "stderr",
     "output_type": "stream",
     "text": [
      "Epoch 13/60:  24%|██▎       | 108/456 [00:33<00:59,  5.86img/s, loss (batch)=0.515]"
     ]
    },
    {
     "name": "stdout",
     "output_type": "stream",
     "text": [
      "Validation round\n"
     ]
    },
    {
     "name": "stderr",
     "output_type": "stream",
     "text": [
      "Validation round: 100%|██████████| 115/115 [00:12<00:00,  8.86batch/s]\n"
     ]
    },
    {
     "name": "stdout",
     "output_type": "stream",
     "text": [
      "Validation dice loss: 1.3867465257644653, IoU Score 0.48367592692375183\n"
     ]
    },
    {
     "name": "stderr",
     "output_type": "stream",
     "text": [
      "Epoch 13/60:  43%|████▎     | 198/456 [01:03<00:45,  5.73img/s, loss (batch)=0.684]"
     ]
    },
    {
     "name": "stdout",
     "output_type": "stream",
     "text": [
      "Validation round\n"
     ]
    },
    {
     "name": "stderr",
     "output_type": "stream",
     "text": [
      "Validation round: 100%|██████████| 115/115 [00:12<00:00,  8.87batch/s]\n"
     ]
    },
    {
     "name": "stdout",
     "output_type": "stream",
     "text": [
      "Validation dice loss: 1.2893917560577393, IoU Score 0.515462338924408\n"
     ]
    },
    {
     "name": "stderr",
     "output_type": "stream",
     "text": [
      "Epoch 13/60:  63%|██████▎   | 288/456 [01:33<00:29,  5.76img/s, loss (batch)=0.658]"
     ]
    },
    {
     "name": "stdout",
     "output_type": "stream",
     "text": [
      "Validation round\n"
     ]
    },
    {
     "name": "stderr",
     "output_type": "stream",
     "text": [
      "Validation round: 100%|██████████| 115/115 [00:12<00:00,  8.86batch/s]\n"
     ]
    },
    {
     "name": "stdout",
     "output_type": "stream",
     "text": [
      "Validation dice loss: 1.2987174987792969, IoU Score 0.5117507576942444\n"
     ]
    },
    {
     "name": "stderr",
     "output_type": "stream",
     "text": [
      "Epoch 13/60:  83%|████████▎ | 378/456 [02:03<00:13,  5.80img/s, loss (batch)=0.711]"
     ]
    },
    {
     "name": "stdout",
     "output_type": "stream",
     "text": [
      "Validation round\n"
     ]
    },
    {
     "name": "stderr",
     "output_type": "stream",
     "text": [
      "Validation round: 100%|██████████| 115/115 [00:12<00:00,  8.85batch/s]\n"
     ]
    },
    {
     "name": "stdout",
     "output_type": "stream",
     "text": [
      "Validation dice loss: 1.282036542892456, IoU Score 0.5117260217666626\n"
     ]
    },
    {
     "name": "stderr",
     "output_type": "stream",
     "text": [
      "Epoch 13/60: 100%|██████████| 456/456 [02:30<00:00,  3.02img/s, loss (batch)=0.487]\n",
      "Epoch 14/60:   3%|▎         | 12/456 [00:02<01:17,  5.73img/s, loss (batch)=0.701]"
     ]
    },
    {
     "name": "stdout",
     "output_type": "stream",
     "text": [
      "Validation round\n"
     ]
    },
    {
     "name": "stderr",
     "output_type": "stream",
     "text": [
      "Validation round: 100%|██████████| 115/115 [00:12<00:00,  8.85batch/s]\n"
     ]
    },
    {
     "name": "stdout",
     "output_type": "stream",
     "text": [
      "Validation dice loss: 1.2871780395507812, IoU Score 0.4952239692211151\n"
     ]
    },
    {
     "name": "stderr",
     "output_type": "stream",
     "text": [
      "Epoch 14/60:  22%|██▏       | 102/456 [00:32<01:01,  5.74img/s, loss (batch)=0.544]"
     ]
    },
    {
     "name": "stdout",
     "output_type": "stream",
     "text": [
      "Validation round\n"
     ]
    },
    {
     "name": "stderr",
     "output_type": "stream",
     "text": [
      "Validation round: 100%|██████████| 115/115 [00:13<00:00,  8.84batch/s]\n"
     ]
    },
    {
     "name": "stdout",
     "output_type": "stream",
     "text": [
      "Validation dice loss: 1.3279945850372314, IoU Score 0.5047945976257324\n"
     ]
    },
    {
     "name": "stderr",
     "output_type": "stream",
     "text": [
      "Epoch 14/60:  42%|████▏     | 192/456 [01:02<00:44,  5.93img/s, loss (batch)=0.5]  "
     ]
    },
    {
     "name": "stdout",
     "output_type": "stream",
     "text": [
      "Validation round\n"
     ]
    },
    {
     "name": "stderr",
     "output_type": "stream",
     "text": [
      "Validation round: 100%|██████████| 115/115 [00:13<00:00,  8.83batch/s]\n"
     ]
    },
    {
     "name": "stdout",
     "output_type": "stream",
     "text": [
      "Validation dice loss: 1.2195589542388916, IoU Score 0.5180909633636475\n"
     ]
    },
    {
     "name": "stderr",
     "output_type": "stream",
     "text": [
      "Epoch 14/60:  62%|██████▏   | 282/456 [01:32<00:30,  5.77img/s, loss (batch)=0.712]"
     ]
    },
    {
     "name": "stdout",
     "output_type": "stream",
     "text": [
      "Validation round\n"
     ]
    },
    {
     "name": "stderr",
     "output_type": "stream",
     "text": [
      "Validation round: 100%|██████████| 115/115 [00:13<00:00,  8.82batch/s]\n"
     ]
    },
    {
     "name": "stdout",
     "output_type": "stream",
     "text": [
      "Validation dice loss: 1.3236331939697266, IoU Score 0.48840975761413574\n"
     ]
    },
    {
     "name": "stderr",
     "output_type": "stream",
     "text": [
      "Epoch 14/60:  82%|████████▏ | 372/456 [02:02<00:14,  5.77img/s, loss (batch)=0.513]"
     ]
    },
    {
     "name": "stdout",
     "output_type": "stream",
     "text": [
      "Validation round\n"
     ]
    },
    {
     "name": "stderr",
     "output_type": "stream",
     "text": [
      "Validation round: 100%|██████████| 115/115 [00:13<00:00,  8.80batch/s]\n"
     ]
    },
    {
     "name": "stdout",
     "output_type": "stream",
     "text": [
      "Validation dice loss: 1.2989979982376099, IoU Score 0.5060210824012756\n"
     ]
    },
    {
     "name": "stderr",
     "output_type": "stream",
     "text": [
      "Epoch 14/60: 100%|██████████| 456/456 [02:31<00:00,  3.01img/s, loss (batch)=0.526]\n",
      "Epoch 15/60:   1%|▏         | 6/456 [00:01<01:15,  5.99img/s, loss (batch)=0.517]"
     ]
    },
    {
     "name": "stdout",
     "output_type": "stream",
     "text": [
      "Validation round\n"
     ]
    },
    {
     "name": "stderr",
     "output_type": "stream",
     "text": [
      "Validation round: 100%|██████████| 115/115 [00:13<00:00,  8.82batch/s]\n"
     ]
    },
    {
     "name": "stdout",
     "output_type": "stream",
     "text": [
      "Validation dice loss: 1.276984691619873, IoU Score 0.5013989210128784\n"
     ]
    },
    {
     "name": "stderr",
     "output_type": "stream",
     "text": [
      "Epoch 15/60:  21%|██        | 96/456 [00:30<01:02,  5.73img/s, loss (batch)=0.612]"
     ]
    },
    {
     "name": "stdout",
     "output_type": "stream",
     "text": [
      "Validation round\n"
     ]
    },
    {
     "name": "stderr",
     "output_type": "stream",
     "text": [
      "Validation round: 100%|██████████| 115/115 [00:13<00:00,  8.82batch/s]\n"
     ]
    },
    {
     "name": "stdout",
     "output_type": "stream",
     "text": [
      "Validation dice loss: 1.32630455493927, IoU Score 0.4970192611217499\n"
     ]
    },
    {
     "name": "stderr",
     "output_type": "stream",
     "text": [
      "Epoch 15/60:  41%|████      | 186/456 [01:01<00:46,  5.85img/s, loss (batch)=0.498]"
     ]
    },
    {
     "name": "stdout",
     "output_type": "stream",
     "text": [
      "Validation round\n"
     ]
    },
    {
     "name": "stderr",
     "output_type": "stream",
     "text": [
      "Validation round: 100%|██████████| 115/115 [00:13<00:00,  8.84batch/s]\n"
     ]
    },
    {
     "name": "stdout",
     "output_type": "stream",
     "text": [
      "Validation dice loss: 1.3034999370574951, IoU Score 0.49972566962242126\n"
     ]
    },
    {
     "name": "stderr",
     "output_type": "stream",
     "text": [
      "Epoch 15/60:  61%|██████    | 276/456 [01:31<00:31,  5.68img/s, loss (batch)=0.599]"
     ]
    },
    {
     "name": "stdout",
     "output_type": "stream",
     "text": [
      "Validation round\n"
     ]
    },
    {
     "name": "stderr",
     "output_type": "stream",
     "text": [
      "Validation round: 100%|██████████| 115/115 [00:13<00:00,  8.84batch/s]\n"
     ]
    },
    {
     "name": "stdout",
     "output_type": "stream",
     "text": [
      "Validation dice loss: 1.273295283317566, IoU Score 0.5061200857162476\n"
     ]
    },
    {
     "name": "stderr",
     "output_type": "stream",
     "text": [
      "Epoch 15/60:  80%|████████  | 366/456 [02:01<00:16,  5.61img/s, loss (batch)=0.836]"
     ]
    },
    {
     "name": "stdout",
     "output_type": "stream",
     "text": [
      "Validation round\n"
     ]
    },
    {
     "name": "stderr",
     "output_type": "stream",
     "text": [
      "Validation round: 100%|██████████| 115/115 [00:13<00:00,  8.84batch/s]\n"
     ]
    },
    {
     "name": "stdout",
     "output_type": "stream",
     "text": [
      "Validation dice loss: 1.275899887084961, IoU Score 0.5099976062774658\n"
     ]
    },
    {
     "name": "stderr",
     "output_type": "stream",
     "text": [
      "Epoch 15/60: 100%|██████████| 456/456 [02:31<00:00,  5.79img/s, loss (batch)=0.45]"
     ]
    },
    {
     "name": "stdout",
     "output_type": "stream",
     "text": [
      "Validation round\n"
     ]
    },
    {
     "name": "stderr",
     "output_type": "stream",
     "text": [
      "Validation round: 100%|██████████| 115/115 [00:13<00:00,  8.79batch/s]\n",
      "Epoch 15/60: 100%|██████████| 456/456 [02:45<00:00,  2.75img/s, loss (batch)=0.45]\n"
     ]
    },
    {
     "name": "stdout",
     "output_type": "stream",
     "text": [
      "Validation dice loss: 1.2105151414871216, IoU Score 0.5240448713302612\n"
     ]
    },
    {
     "name": "stderr",
     "output_type": "stream",
     "text": [
      "Epoch 16/60:  20%|█▉        | 90/456 [00:15<01:02,  5.84img/s, loss (batch)=0.441]"
     ]
    },
    {
     "name": "stdout",
     "output_type": "stream",
     "text": [
      "Validation round\n"
     ]
    },
    {
     "name": "stderr",
     "output_type": "stream",
     "text": [
      "Validation round: 100%|██████████| 115/115 [00:13<00:00,  8.79batch/s]\n"
     ]
    },
    {
     "name": "stdout",
     "output_type": "stream",
     "text": [
      "Validation dice loss: 1.1961631774902344, IoU Score 0.5168284773826599\n"
     ]
    },
    {
     "name": "stderr",
     "output_type": "stream",
     "text": [
      "Epoch 16/60:  39%|███▉      | 180/456 [00:45<00:49,  5.60img/s, loss (batch)=0.67] "
     ]
    },
    {
     "name": "stdout",
     "output_type": "stream",
     "text": [
      "Validation round\n"
     ]
    },
    {
     "name": "stderr",
     "output_type": "stream",
     "text": [
      "Validation round: 100%|██████████| 115/115 [00:13<00:00,  8.77batch/s]\n"
     ]
    },
    {
     "name": "stdout",
     "output_type": "stream",
     "text": [
      "Validation dice loss: 1.3311914205551147, IoU Score 0.4658140540122986\n"
     ]
    },
    {
     "name": "stderr",
     "output_type": "stream",
     "text": [
      "Epoch 16/60:  59%|█████▉    | 270/456 [01:15<00:31,  5.84img/s, loss (batch)=0.514]"
     ]
    },
    {
     "name": "stdout",
     "output_type": "stream",
     "text": [
      "Validation round\n"
     ]
    },
    {
     "name": "stderr",
     "output_type": "stream",
     "text": [
      "Validation round: 100%|██████████| 115/115 [00:13<00:00,  8.78batch/s]\n"
     ]
    },
    {
     "name": "stdout",
     "output_type": "stream",
     "text": [
      "Validation dice loss: 1.1267622709274292, IoU Score 0.5532578229904175\n"
     ]
    },
    {
     "name": "stderr",
     "output_type": "stream",
     "text": [
      "Epoch 16/60:  79%|███████▉  | 360/456 [01:46<00:16,  5.94img/s, loss (batch)=0.459]"
     ]
    },
    {
     "name": "stdout",
     "output_type": "stream",
     "text": [
      "Validation round\n"
     ]
    },
    {
     "name": "stderr",
     "output_type": "stream",
     "text": [
      "Validation round: 100%|██████████| 115/115 [00:13<00:00,  8.81batch/s]\n"
     ]
    },
    {
     "name": "stdout",
     "output_type": "stream",
     "text": [
      "Validation dice loss: 1.3018131256103516, IoU Score 0.49032357335090637\n"
     ]
    },
    {
     "name": "stderr",
     "output_type": "stream",
     "text": [
      "Epoch 16/60:  99%|█████████▊| 450/456 [02:16<00:01,  5.79img/s, loss (batch)=0.512]"
     ]
    },
    {
     "name": "stdout",
     "output_type": "stream",
     "text": [
      "Validation round\n"
     ]
    },
    {
     "name": "stderr",
     "output_type": "stream",
     "text": [
      "Validation round: 100%|██████████| 115/115 [00:13<00:00,  8.77batch/s]\n"
     ]
    },
    {
     "name": "stdout",
     "output_type": "stream",
     "text": [
      "Validation dice loss: 1.2822589874267578, IoU Score 0.49344390630722046\n"
     ]
    },
    {
     "name": "stderr",
     "output_type": "stream",
     "text": [
      "Epoch 16/60: 100%|██████████| 456/456 [02:31<00:00,  3.00img/s, loss (batch)=0.571]\n",
      "Epoch 17/60:  18%|█▊        | 84/456 [00:14<01:03,  5.85img/s, loss (batch)=0.517]"
     ]
    },
    {
     "name": "stdout",
     "output_type": "stream",
     "text": [
      "Validation round\n"
     ]
    },
    {
     "name": "stderr",
     "output_type": "stream",
     "text": [
      "Validation round: 100%|██████████| 115/115 [00:13<00:00,  8.82batch/s]\n"
     ]
    },
    {
     "name": "stdout",
     "output_type": "stream",
     "text": [
      "Validation dice loss: 1.2346465587615967, IoU Score 0.518506646156311\n"
     ]
    },
    {
     "name": "stderr",
     "output_type": "stream",
     "text": [
      "Epoch 17/60:  38%|███▊      | 174/456 [00:44<00:48,  5.83img/s, loss (batch)=0.528]"
     ]
    },
    {
     "name": "stdout",
     "output_type": "stream",
     "text": [
      "Validation round\n"
     ]
    },
    {
     "name": "stderr",
     "output_type": "stream",
     "text": [
      "Validation round: 100%|██████████| 115/115 [00:13<00:00,  8.84batch/s]\n"
     ]
    },
    {
     "name": "stdout",
     "output_type": "stream",
     "text": [
      "Validation dice loss: 1.2227143049240112, IoU Score 0.5062897801399231\n"
     ]
    },
    {
     "name": "stderr",
     "output_type": "stream",
     "text": [
      "Epoch 17/60:  58%|█████▊    | 264/456 [01:14<00:33,  5.66img/s, loss (batch)=0.615]"
     ]
    },
    {
     "name": "stdout",
     "output_type": "stream",
     "text": [
      "Validation round\n"
     ]
    },
    {
     "name": "stderr",
     "output_type": "stream",
     "text": [
      "Validation round: 100%|██████████| 115/115 [00:13<00:00,  8.84batch/s]\n"
     ]
    },
    {
     "name": "stdout",
     "output_type": "stream",
     "text": [
      "Validation dice loss: 1.1788506507873535, IoU Score 0.5049786567687988\n"
     ]
    },
    {
     "name": "stderr",
     "output_type": "stream",
     "text": [
      "Epoch 17/60:  78%|███████▊  | 354/456 [01:44<00:17,  5.87img/s, loss (batch)=0.459]"
     ]
    },
    {
     "name": "stdout",
     "output_type": "stream",
     "text": [
      "Validation round\n"
     ]
    },
    {
     "name": "stderr",
     "output_type": "stream",
     "text": [
      "Validation round: 100%|██████████| 115/115 [00:12<00:00,  8.85batch/s]\n"
     ]
    },
    {
     "name": "stdout",
     "output_type": "stream",
     "text": [
      "Validation dice loss: 1.342330813407898, IoU Score 0.4494840204715729\n"
     ]
    },
    {
     "name": "stderr",
     "output_type": "stream",
     "text": [
      "Epoch 17/60:  97%|█████████▋| 444/456 [02:14<00:02,  5.73img/s, loss (batch)=0.514]"
     ]
    },
    {
     "name": "stdout",
     "output_type": "stream",
     "text": [
      "Validation round\n"
     ]
    },
    {
     "name": "stderr",
     "output_type": "stream",
     "text": [
      "Validation round: 100%|██████████| 115/115 [00:13<00:00,  8.81batch/s]\n"
     ]
    },
    {
     "name": "stdout",
     "output_type": "stream",
     "text": [
      "Validation dice loss: 1.2267837524414062, IoU Score 0.4995415210723877\n"
     ]
    },
    {
     "name": "stderr",
     "output_type": "stream",
     "text": [
      "Epoch 17/60: 100%|██████████| 456/456 [02:31<00:00,  3.01img/s, loss (batch)=0.563]\n",
      "Epoch 18/60:  17%|█▋        | 78/456 [00:13<01:05,  5.81img/s, loss (batch)=0.441]"
     ]
    },
    {
     "name": "stdout",
     "output_type": "stream",
     "text": [
      "Validation round\n"
     ]
    },
    {
     "name": "stderr",
     "output_type": "stream",
     "text": [
      "Validation round: 100%|██████████| 115/115 [00:13<00:00,  8.80batch/s]\n"
     ]
    },
    {
     "name": "stdout",
     "output_type": "stream",
     "text": [
      "Validation dice loss: 1.2343519926071167, IoU Score 0.5066179633140564\n"
     ]
    },
    {
     "name": "stderr",
     "output_type": "stream",
     "text": [
      "Epoch 18/60:  37%|███▋      | 168/456 [00:43<00:49,  5.80img/s, loss (batch)=0.538]"
     ]
    },
    {
     "name": "stdout",
     "output_type": "stream",
     "text": [
      "Validation round\n"
     ]
    },
    {
     "name": "stderr",
     "output_type": "stream",
     "text": [
      "Validation round: 100%|██████████| 115/115 [00:13<00:00,  8.81batch/s]\n"
     ]
    },
    {
     "name": "stdout",
     "output_type": "stream",
     "text": [
      "Validation dice loss: 1.3510586023330688, IoU Score 0.4509783685207367\n"
     ]
    },
    {
     "name": "stderr",
     "output_type": "stream",
     "text": [
      "Epoch 18/60:  57%|█████▋    | 258/456 [01:13<00:33,  5.88img/s, loss (batch)=0.402]"
     ]
    },
    {
     "name": "stdout",
     "output_type": "stream",
     "text": [
      "Validation round\n"
     ]
    },
    {
     "name": "stderr",
     "output_type": "stream",
     "text": [
      "Validation round: 100%|██████████| 115/115 [00:13<00:00,  8.83batch/s]\n"
     ]
    },
    {
     "name": "stdout",
     "output_type": "stream",
     "text": [
      "Validation dice loss: 1.163743019104004, IoU Score 0.49971461296081543\n"
     ]
    },
    {
     "name": "stderr",
     "output_type": "stream",
     "text": [
      "Epoch 18/60:  76%|███████▋  | 348/456 [01:43<00:18,  5.82img/s, loss (batch)=0.471]"
     ]
    },
    {
     "name": "stdout",
     "output_type": "stream",
     "text": [
      "Validation round\n"
     ]
    },
    {
     "name": "stderr",
     "output_type": "stream",
     "text": [
      "Validation round: 100%|██████████| 115/115 [00:13<00:00,  8.82batch/s]\n"
     ]
    },
    {
     "name": "stdout",
     "output_type": "stream",
     "text": [
      "Validation dice loss: 1.1176255941390991, IoU Score 0.5348241925239563\n"
     ]
    },
    {
     "name": "stderr",
     "output_type": "stream",
     "text": [
      "Epoch 18/60:  96%|█████████▌| 438/456 [02:14<00:03,  5.72img/s, loss (batch)=0.665]"
     ]
    },
    {
     "name": "stdout",
     "output_type": "stream",
     "text": [
      "Validation round\n"
     ]
    },
    {
     "name": "stderr",
     "output_type": "stream",
     "text": [
      "Validation round: 100%|██████████| 115/115 [00:12<00:00,  8.86batch/s]\n"
     ]
    },
    {
     "name": "stdout",
     "output_type": "stream",
     "text": [
      "Validation dice loss: 1.0873069763183594, IoU Score 0.5315004587173462\n"
     ]
    },
    {
     "name": "stderr",
     "output_type": "stream",
     "text": [
      "Epoch 18/60: 100%|██████████| 456/456 [02:31<00:00,  3.01img/s, loss (batch)=0.415]\n",
      "Epoch 19/60:  16%|█▌        | 72/456 [00:12<01:06,  5.77img/s, loss (batch)=0.463]"
     ]
    },
    {
     "name": "stdout",
     "output_type": "stream",
     "text": [
      "Validation round\n"
     ]
    },
    {
     "name": "stderr",
     "output_type": "stream",
     "text": [
      "Validation round: 100%|██████████| 115/115 [00:13<00:00,  8.79batch/s]\n"
     ]
    },
    {
     "name": "stdout",
     "output_type": "stream",
     "text": [
      "Validation dice loss: 1.1559245586395264, IoU Score 0.5310115218162537\n"
     ]
    },
    {
     "name": "stderr",
     "output_type": "stream",
     "text": [
      "Epoch 19/60:  36%|███▌      | 162/456 [00:42<00:50,  5.77img/s, loss (batch)=0.548]"
     ]
    },
    {
     "name": "stdout",
     "output_type": "stream",
     "text": [
      "Validation round\n"
     ]
    },
    {
     "name": "stderr",
     "output_type": "stream",
     "text": [
      "Validation round: 100%|██████████| 115/115 [00:12<00:00,  8.86batch/s]\n"
     ]
    },
    {
     "name": "stdout",
     "output_type": "stream",
     "text": [
      "Validation dice loss: 1.102381944656372, IoU Score 0.5321685671806335\n"
     ]
    },
    {
     "name": "stderr",
     "output_type": "stream",
     "text": [
      "Epoch 19/60:  55%|█████▌    | 252/456 [01:12<00:35,  5.71img/s, loss (batch)=0.575]"
     ]
    },
    {
     "name": "stdout",
     "output_type": "stream",
     "text": [
      "Validation round\n"
     ]
    },
    {
     "name": "stderr",
     "output_type": "stream",
     "text": [
      "Validation round: 100%|██████████| 115/115 [00:13<00:00,  8.84batch/s]\n"
     ]
    },
    {
     "name": "stdout",
     "output_type": "stream",
     "text": [
      "Validation dice loss: 1.1745985746383667, IoU Score 0.5020256638526917\n"
     ]
    },
    {
     "name": "stderr",
     "output_type": "stream",
     "text": [
      "Epoch 19/60:  75%|███████▌  | 342/456 [01:42<00:19,  5.77img/s, loss (batch)=0.524]"
     ]
    },
    {
     "name": "stdout",
     "output_type": "stream",
     "text": [
      "Validation round\n"
     ]
    },
    {
     "name": "stderr",
     "output_type": "stream",
     "text": [
      "Validation round: 100%|██████████| 115/115 [00:13<00:00,  8.81batch/s]\n"
     ]
    },
    {
     "name": "stdout",
     "output_type": "stream",
     "text": [
      "Validation dice loss: 1.3378480672836304, IoU Score 0.42466792464256287\n"
     ]
    },
    {
     "name": "stderr",
     "output_type": "stream",
     "text": [
      "Epoch 19/60:  95%|█████████▍| 432/456 [02:12<00:04,  5.67img/s, loss (batch)=0.541]"
     ]
    },
    {
     "name": "stdout",
     "output_type": "stream",
     "text": [
      "Validation round\n"
     ]
    },
    {
     "name": "stderr",
     "output_type": "stream",
     "text": [
      "Validation round: 100%|██████████| 115/115 [00:13<00:00,  8.78batch/s]\n"
     ]
    },
    {
     "name": "stdout",
     "output_type": "stream",
     "text": [
      "Validation dice loss: 1.2513347864151, IoU Score 0.4647863507270813\n"
     ]
    },
    {
     "name": "stderr",
     "output_type": "stream",
     "text": [
      "Epoch 19/60: 100%|██████████| 456/456 [02:31<00:00,  3.01img/s, loss (batch)=0.445]\n",
      "Epoch 20/60:  14%|█▍        | 66/456 [00:11<01:08,  5.71img/s, loss (batch)=0.587]"
     ]
    },
    {
     "name": "stdout",
     "output_type": "stream",
     "text": [
      "Validation round\n"
     ]
    },
    {
     "name": "stderr",
     "output_type": "stream",
     "text": [
      "Validation round: 100%|██████████| 115/115 [00:13<00:00,  8.84batch/s]\n"
     ]
    },
    {
     "name": "stdout",
     "output_type": "stream",
     "text": [
      "Validation dice loss: 1.3428034782409668, IoU Score 0.4446028470993042\n"
     ]
    },
    {
     "name": "stderr",
     "output_type": "stream",
     "text": [
      "Epoch 20/60:  34%|███▍      | 156/456 [00:41<00:52,  5.66img/s, loss (batch)=0.589]"
     ]
    },
    {
     "name": "stdout",
     "output_type": "stream",
     "text": [
      "Validation round\n"
     ]
    },
    {
     "name": "stderr",
     "output_type": "stream",
     "text": [
      "Validation round: 100%|██████████| 115/115 [00:13<00:00,  8.82batch/s]\n"
     ]
    },
    {
     "name": "stdout",
     "output_type": "stream",
     "text": [
      "Validation dice loss: 1.222877025604248, IoU Score 0.4878183901309967\n"
     ]
    },
    {
     "name": "stderr",
     "output_type": "stream",
     "text": [
      "Epoch 20/60:  54%|█████▍    | 246/456 [01:11<00:35,  5.87img/s, loss (batch)=0.769]"
     ]
    },
    {
     "name": "stdout",
     "output_type": "stream",
     "text": [
      "Validation round\n"
     ]
    },
    {
     "name": "stderr",
     "output_type": "stream",
     "text": [
      "Validation round: 100%|██████████| 115/115 [00:12<00:00,  8.85batch/s]\n"
     ]
    },
    {
     "name": "stdout",
     "output_type": "stream",
     "text": [
      "Validation dice loss: 1.2507988214492798, IoU Score 0.4672392010688782\n"
     ]
    },
    {
     "name": "stderr",
     "output_type": "stream",
     "text": [
      "Epoch 20/60:  74%|███████▎  | 336/456 [01:41<00:20,  5.72img/s, loss (batch)=0.669]"
     ]
    },
    {
     "name": "stdout",
     "output_type": "stream",
     "text": [
      "Validation round\n"
     ]
    },
    {
     "name": "stderr",
     "output_type": "stream",
     "text": [
      "Validation round: 100%|██████████| 115/115 [00:13<00:00,  8.82batch/s]\n"
     ]
    },
    {
     "name": "stdout",
     "output_type": "stream",
     "text": [
      "Validation dice loss: 1.3334251642227173, IoU Score 0.4600439965724945\n"
     ]
    },
    {
     "name": "stderr",
     "output_type": "stream",
     "text": [
      "Epoch 20/60:  93%|█████████▎| 426/456 [02:11<00:05,  5.87img/s, loss (batch)=0.432]"
     ]
    },
    {
     "name": "stdout",
     "output_type": "stream",
     "text": [
      "Validation round\n"
     ]
    },
    {
     "name": "stderr",
     "output_type": "stream",
     "text": [
      "Validation round: 100%|██████████| 115/115 [00:13<00:00,  8.82batch/s]\n"
     ]
    },
    {
     "name": "stdout",
     "output_type": "stream",
     "text": [
      "Validation dice loss: 1.3101249933242798, IoU Score 0.4533490538597107\n"
     ]
    },
    {
     "name": "stderr",
     "output_type": "stream",
     "text": [
      "Epoch 20/60: 100%|██████████| 456/456 [02:31<00:00,  3.02img/s, loss (batch)=0.529]\n",
      "Epoch 21/60:  13%|█▎        | 60/456 [00:10<01:07,  5.89img/s, loss (batch)=0.358]"
     ]
    },
    {
     "name": "stdout",
     "output_type": "stream",
     "text": [
      "Validation round\n"
     ]
    },
    {
     "name": "stderr",
     "output_type": "stream",
     "text": [
      "Validation round: 100%|██████████| 115/115 [00:13<00:00,  8.84batch/s]\n"
     ]
    },
    {
     "name": "stdout",
     "output_type": "stream",
     "text": [
      "Validation dice loss: 1.186439037322998, IoU Score 0.5026267766952515\n"
     ]
    },
    {
     "name": "stderr",
     "output_type": "stream",
     "text": [
      "Epoch 21/60:  33%|███▎      | 150/456 [00:40<00:53,  5.77img/s, loss (batch)=0.942]"
     ]
    },
    {
     "name": "stdout",
     "output_type": "stream",
     "text": [
      "Validation round\n"
     ]
    },
    {
     "name": "stderr",
     "output_type": "stream",
     "text": [
      "Validation round: 100%|██████████| 115/115 [00:13<00:00,  8.83batch/s]\n"
     ]
    },
    {
     "name": "stdout",
     "output_type": "stream",
     "text": [
      "Validation dice loss: 1.319976568222046, IoU Score 0.4422096312046051\n"
     ]
    },
    {
     "name": "stderr",
     "output_type": "stream",
     "text": [
      "Epoch 21/60:  53%|█████▎    | 240/456 [01:10<00:36,  5.91img/s, loss (batch)=0.471]"
     ]
    },
    {
     "name": "stdout",
     "output_type": "stream",
     "text": [
      "Validation round\n"
     ]
    },
    {
     "name": "stderr",
     "output_type": "stream",
     "text": [
      "Validation round: 100%|██████████| 115/115 [00:13<00:00,  8.79batch/s]\n"
     ]
    },
    {
     "name": "stdout",
     "output_type": "stream",
     "text": [
      "Validation dice loss: 1.0844906568527222, IoU Score 0.5345561504364014\n"
     ]
    },
    {
     "name": "stderr",
     "output_type": "stream",
     "text": [
      "Epoch 21/60:  72%|███████▏  | 330/456 [01:40<00:21,  5.77img/s, loss (batch)=0.662]"
     ]
    },
    {
     "name": "stdout",
     "output_type": "stream",
     "text": [
      "Validation round\n"
     ]
    },
    {
     "name": "stderr",
     "output_type": "stream",
     "text": [
      "Validation round: 100%|██████████| 115/115 [00:13<00:00,  8.83batch/s]\n"
     ]
    },
    {
     "name": "stdout",
     "output_type": "stream",
     "text": [
      "Validation dice loss: 1.418095350265503, IoU Score 0.41193798184394836\n"
     ]
    },
    {
     "name": "stderr",
     "output_type": "stream",
     "text": [
      "Epoch 21/60:  92%|█████████▏| 420/456 [02:10<00:06,  5.84img/s, loss (batch)=0.381]"
     ]
    },
    {
     "name": "stdout",
     "output_type": "stream",
     "text": [
      "Validation round\n"
     ]
    },
    {
     "name": "stderr",
     "output_type": "stream",
     "text": [
      "Validation round: 100%|██████████| 115/115 [00:13<00:00,  8.72batch/s]\n"
     ]
    },
    {
     "name": "stdout",
     "output_type": "stream",
     "text": [
      "Validation dice loss: 1.3421645164489746, IoU Score 0.42541345953941345\n"
     ]
    },
    {
     "name": "stderr",
     "output_type": "stream",
     "text": [
      "Epoch 21/60: 100%|██████████| 456/456 [02:31<00:00,  3.01img/s, loss (batch)=0.398]\n",
      "Epoch 22/60:  12%|█▏        | 54/456 [00:09<01:10,  5.74img/s, loss (batch)=0.541]"
     ]
    },
    {
     "name": "stdout",
     "output_type": "stream",
     "text": [
      "Validation round\n"
     ]
    },
    {
     "name": "stderr",
     "output_type": "stream",
     "text": [
      "Validation round: 100%|██████████| 115/115 [00:13<00:00,  8.79batch/s]\n"
     ]
    },
    {
     "name": "stdout",
     "output_type": "stream",
     "text": [
      "Validation dice loss: 1.3325461149215698, IoU Score 0.4086017906665802\n"
     ]
    },
    {
     "name": "stderr",
     "output_type": "stream",
     "text": [
      "Epoch 22/60:  32%|███▏      | 144/456 [00:39<00:54,  5.76img/s, loss (batch)=0.705]"
     ]
    },
    {
     "name": "stdout",
     "output_type": "stream",
     "text": [
      "Validation round\n"
     ]
    },
    {
     "name": "stderr",
     "output_type": "stream",
     "text": [
      "Validation round: 100%|██████████| 115/115 [00:13<00:00,  8.77batch/s]\n"
     ]
    },
    {
     "name": "stdout",
     "output_type": "stream",
     "text": [
      "Validation dice loss: 1.3703263998031616, IoU Score 0.415351539850235\n"
     ]
    },
    {
     "name": "stderr",
     "output_type": "stream",
     "text": [
      "Epoch 22/60:  51%|█████▏    | 234/456 [01:10<00:37,  5.87img/s, loss (batch)=0.428]"
     ]
    },
    {
     "name": "stdout",
     "output_type": "stream",
     "text": [
      "Validation round\n"
     ]
    },
    {
     "name": "stderr",
     "output_type": "stream",
     "text": [
      "Validation round: 100%|██████████| 115/115 [00:13<00:00,  8.82batch/s]\n"
     ]
    },
    {
     "name": "stdout",
     "output_type": "stream",
     "text": [
      "Validation dice loss: 1.2648097276687622, IoU Score 0.4643072783946991\n"
     ]
    },
    {
     "name": "stderr",
     "output_type": "stream",
     "text": [
      "Epoch 22/60:  71%|███████   | 324/456 [01:40<00:22,  5.76img/s, loss (batch)=0.386]"
     ]
    },
    {
     "name": "stdout",
     "output_type": "stream",
     "text": [
      "Validation round\n"
     ]
    },
    {
     "name": "stderr",
     "output_type": "stream",
     "text": [
      "Validation round: 100%|██████████| 115/115 [00:13<00:00,  8.81batch/s]\n"
     ]
    },
    {
     "name": "stdout",
     "output_type": "stream",
     "text": [
      "Validation dice loss: 1.1223124265670776, IoU Score 0.5044751167297363\n"
     ]
    },
    {
     "name": "stderr",
     "output_type": "stream",
     "text": [
      "Epoch 22/60:  91%|█████████ | 414/456 [02:10<00:07,  5.72img/s, loss (batch)=0.55] "
     ]
    },
    {
     "name": "stdout",
     "output_type": "stream",
     "text": [
      "Validation round\n"
     ]
    },
    {
     "name": "stderr",
     "output_type": "stream",
     "text": [
      "Validation round: 100%|██████████| 115/115 [00:13<00:00,  8.83batch/s]\n"
     ]
    },
    {
     "name": "stdout",
     "output_type": "stream",
     "text": [
      "Validation dice loss: 1.3194689750671387, IoU Score 0.4594458043575287\n"
     ]
    },
    {
     "name": "stderr",
     "output_type": "stream",
     "text": [
      "Epoch 22/60: 100%|██████████| 456/456 [02:31<00:00,  3.00img/s, loss (batch)=0.391]\n",
      "Epoch 23/60:  11%|█         | 48/456 [00:08<01:11,  5.73img/s, loss (batch)=0.56] "
     ]
    },
    {
     "name": "stdout",
     "output_type": "stream",
     "text": [
      "Validation round\n"
     ]
    },
    {
     "name": "stderr",
     "output_type": "stream",
     "text": [
      "Validation round: 100%|██████████| 115/115 [00:13<00:00,  8.80batch/s]\n"
     ]
    },
    {
     "name": "stdout",
     "output_type": "stream",
     "text": [
      "Validation dice loss: 1.1853159666061401, IoU Score 0.5025068521499634\n"
     ]
    },
    {
     "name": "stderr",
     "output_type": "stream",
     "text": [
      "Epoch 23/60:  30%|███       | 138/456 [00:38<00:54,  5.85img/s, loss (batch)=0.507]"
     ]
    },
    {
     "name": "stdout",
     "output_type": "stream",
     "text": [
      "Validation round\n"
     ]
    },
    {
     "name": "stderr",
     "output_type": "stream",
     "text": [
      "Validation round: 100%|██████████| 115/115 [00:13<00:00,  8.83batch/s]\n"
     ]
    },
    {
     "name": "stdout",
     "output_type": "stream",
     "text": [
      "Validation dice loss: 1.1119071245193481, IoU Score 0.5082654356956482\n"
     ]
    },
    {
     "name": "stderr",
     "output_type": "stream",
     "text": [
      "Epoch 23/60:  50%|█████     | 228/456 [01:08<00:38,  5.86img/s, loss (batch)=0.34] "
     ]
    },
    {
     "name": "stdout",
     "output_type": "stream",
     "text": [
      "Validation round\n"
     ]
    },
    {
     "name": "stderr",
     "output_type": "stream",
     "text": [
      "Validation round: 100%|██████████| 115/115 [00:13<00:00,  8.80batch/s]\n"
     ]
    },
    {
     "name": "stdout",
     "output_type": "stream",
     "text": [
      "Validation dice loss: 1.1648656129837036, IoU Score 0.4884086847305298\n"
     ]
    },
    {
     "name": "stderr",
     "output_type": "stream",
     "text": [
      "Epoch 23/60:  70%|██████▉   | 318/456 [01:38<00:23,  5.82img/s, loss (batch)=0.585]"
     ]
    },
    {
     "name": "stdout",
     "output_type": "stream",
     "text": [
      "Validation round\n"
     ]
    },
    {
     "name": "stderr",
     "output_type": "stream",
     "text": [
      "Validation round: 100%|██████████| 115/115 [00:13<00:00,  8.82batch/s]\n"
     ]
    },
    {
     "name": "stdout",
     "output_type": "stream",
     "text": [
      "Validation dice loss: 1.1103729009628296, IoU Score 0.5156897306442261\n"
     ]
    },
    {
     "name": "stderr",
     "output_type": "stream",
     "text": [
      "Epoch 23/60:  89%|████████▉ | 408/456 [02:08<00:08,  5.78img/s, loss (batch)=0.523]"
     ]
    },
    {
     "name": "stdout",
     "output_type": "stream",
     "text": [
      "Validation round\n"
     ]
    },
    {
     "name": "stderr",
     "output_type": "stream",
     "text": [
      "Validation round: 100%|██████████| 115/115 [00:13<00:00,  8.75batch/s]\n"
     ]
    },
    {
     "name": "stdout",
     "output_type": "stream",
     "text": [
      "Validation dice loss: 1.2030442953109741, IoU Score 0.4554971754550934\n"
     ]
    },
    {
     "name": "stderr",
     "output_type": "stream",
     "text": [
      "Epoch 23/60: 100%|██████████| 456/456 [02:31<00:00,  3.02img/s, loss (batch)=0.374]\n",
      "Epoch 24/60:   9%|▉         | 42/456 [00:07<01:12,  5.74img/s, loss (batch)=0.54] "
     ]
    },
    {
     "name": "stdout",
     "output_type": "stream",
     "text": [
      "Validation round\n"
     ]
    },
    {
     "name": "stderr",
     "output_type": "stream",
     "text": [
      "Validation round: 100%|██████████| 115/115 [00:13<00:00,  8.80batch/s]\n"
     ]
    },
    {
     "name": "stdout",
     "output_type": "stream",
     "text": [
      "Validation dice loss: 1.1870826482772827, IoU Score 0.49305543303489685\n"
     ]
    },
    {
     "name": "stderr",
     "output_type": "stream",
     "text": [
      "Epoch 24/60:  29%|██▉       | 132/456 [00:37<00:56,  5.75img/s, loss (batch)=0.467]"
     ]
    },
    {
     "name": "stdout",
     "output_type": "stream",
     "text": [
      "Validation round\n"
     ]
    },
    {
     "name": "stderr",
     "output_type": "stream",
     "text": [
      "Validation round: 100%|██████████| 115/115 [00:13<00:00,  8.79batch/s]\n"
     ]
    },
    {
     "name": "stdout",
     "output_type": "stream",
     "text": [
      "Validation dice loss: 1.6801464557647705, IoU Score 0.32498887181282043\n"
     ]
    },
    {
     "name": "stderr",
     "output_type": "stream",
     "text": [
      "Epoch 24/60:  49%|████▊     | 222/456 [01:07<00:39,  5.91img/s, loss (batch)=0.4]  "
     ]
    },
    {
     "name": "stdout",
     "output_type": "stream",
     "text": [
      "Validation round\n"
     ]
    },
    {
     "name": "stderr",
     "output_type": "stream",
     "text": [
      "Validation round: 100%|██████████| 115/115 [00:12<00:00,  8.85batch/s]\n"
     ]
    },
    {
     "name": "stdout",
     "output_type": "stream",
     "text": [
      "Validation dice loss: 0.9947779774665833, IoU Score 0.5437353253364563\n"
     ]
    },
    {
     "name": "stderr",
     "output_type": "stream",
     "text": [
      "Epoch 24/60:  68%|██████▊   | 312/456 [01:37<00:24,  5.81img/s, loss (batch)=0.465]"
     ]
    },
    {
     "name": "stdout",
     "output_type": "stream",
     "text": [
      "Validation round\n"
     ]
    },
    {
     "name": "stderr",
     "output_type": "stream",
     "text": [
      "Validation round: 100%|██████████| 115/115 [00:12<00:00,  8.85batch/s]\n"
     ]
    },
    {
     "name": "stdout",
     "output_type": "stream",
     "text": [
      "Validation dice loss: 1.1727961301803589, IoU Score 0.4781586527824402\n"
     ]
    },
    {
     "name": "stderr",
     "output_type": "stream",
     "text": [
      "Epoch 24/60:  88%|████████▊ | 402/456 [02:07<00:09,  5.70img/s, loss (batch)=0.484]"
     ]
    },
    {
     "name": "stdout",
     "output_type": "stream",
     "text": [
      "Validation round\n"
     ]
    },
    {
     "name": "stderr",
     "output_type": "stream",
     "text": [
      "Validation round: 100%|██████████| 115/115 [00:13<00:00,  8.82batch/s]\n"
     ]
    },
    {
     "name": "stdout",
     "output_type": "stream",
     "text": [
      "Validation dice loss: 1.4093211889266968, IoU Score 0.40679460763931274\n"
     ]
    },
    {
     "name": "stderr",
     "output_type": "stream",
     "text": [
      "Epoch 24/60: 100%|██████████| 456/456 [02:31<00:00,  3.01img/s, loss (batch)=0.4]\n",
      "Epoch 25/60:   8%|▊         | 36/456 [00:06<01:13,  5.72img/s, loss (batch)=0.523]"
     ]
    },
    {
     "name": "stdout",
     "output_type": "stream",
     "text": [
      "Validation round\n"
     ]
    },
    {
     "name": "stderr",
     "output_type": "stream",
     "text": [
      "Validation round: 100%|██████████| 115/115 [00:13<00:00,  8.76batch/s]\n"
     ]
    },
    {
     "name": "stdout",
     "output_type": "stream",
     "text": [
      "Validation dice loss: 1.3165380954742432, IoU Score 0.43268436193466187\n"
     ]
    },
    {
     "name": "stderr",
     "output_type": "stream",
     "text": [
      "Epoch 25/60:  28%|██▊       | 126/456 [00:36<00:57,  5.74img/s, loss (batch)=0.546]"
     ]
    },
    {
     "name": "stdout",
     "output_type": "stream",
     "text": [
      "Validation round\n"
     ]
    },
    {
     "name": "stderr",
     "output_type": "stream",
     "text": [
      "Validation round: 100%|██████████| 115/115 [00:13<00:00,  8.84batch/s]\n"
     ]
    },
    {
     "name": "stdout",
     "output_type": "stream",
     "text": [
      "Validation dice loss: 1.6984955072402954, IoU Score 0.3292935788631439\n"
     ]
    },
    {
     "name": "stderr",
     "output_type": "stream",
     "text": [
      "Epoch 25/60:  47%|████▋     | 216/456 [01:06<00:42,  5.69img/s, loss (batch)=0.453]"
     ]
    },
    {
     "name": "stdout",
     "output_type": "stream",
     "text": [
      "Validation round\n"
     ]
    },
    {
     "name": "stderr",
     "output_type": "stream",
     "text": [
      "Validation round: 100%|██████████| 115/115 [00:13<00:00,  8.84batch/s]\n"
     ]
    },
    {
     "name": "stdout",
     "output_type": "stream",
     "text": [
      "Validation dice loss: 1.1094125509262085, IoU Score 0.5132115483283997\n"
     ]
    },
    {
     "name": "stderr",
     "output_type": "stream",
     "text": [
      "Epoch 25/60:  67%|██████▋   | 306/456 [01:36<00:28,  5.34img/s, loss (batch)=0.492]"
     ]
    },
    {
     "name": "stdout",
     "output_type": "stream",
     "text": [
      "Validation round\n"
     ]
    },
    {
     "name": "stderr",
     "output_type": "stream",
     "text": [
      "Validation round: 100%|██████████| 115/115 [00:13<00:00,  8.82batch/s]\n"
     ]
    },
    {
     "name": "stdout",
     "output_type": "stream",
     "text": [
      "Validation dice loss: 1.4387367963790894, IoU Score 0.38528552651405334\n"
     ]
    },
    {
     "name": "stderr",
     "output_type": "stream",
     "text": [
      "Epoch 25/60:  87%|████████▋ | 396/456 [02:06<00:10,  5.79img/s, loss (batch)=0.335]"
     ]
    },
    {
     "name": "stdout",
     "output_type": "stream",
     "text": [
      "Validation round\n"
     ]
    },
    {
     "name": "stderr",
     "output_type": "stream",
     "text": [
      "Validation round: 100%|██████████| 115/115 [00:13<00:00,  8.77batch/s]\n"
     ]
    },
    {
     "name": "stdout",
     "output_type": "stream",
     "text": [
      "Validation dice loss: 1.1867595911026, IoU Score 0.46145081520080566\n"
     ]
    },
    {
     "name": "stderr",
     "output_type": "stream",
     "text": [
      "Epoch 25/60: 100%|██████████| 456/456 [02:31<00:00,  3.00img/s, loss (batch)=0.436]\n",
      "Epoch 26/60:   7%|▋         | 30/456 [00:05<01:14,  5.73img/s, loss (batch)=0.472]"
     ]
    },
    {
     "name": "stdout",
     "output_type": "stream",
     "text": [
      "Validation round\n"
     ]
    },
    {
     "name": "stderr",
     "output_type": "stream",
     "text": [
      "Validation round: 100%|██████████| 115/115 [00:13<00:00,  8.83batch/s]\n"
     ]
    },
    {
     "name": "stdout",
     "output_type": "stream",
     "text": [
      "Validation dice loss: 1.1341983079910278, IoU Score 0.4797722399234772\n"
     ]
    },
    {
     "name": "stderr",
     "output_type": "stream",
     "text": [
      "Epoch 26/60:  26%|██▋       | 120/456 [00:35<00:57,  5.85img/s, loss (batch)=0.439]"
     ]
    },
    {
     "name": "stdout",
     "output_type": "stream",
     "text": [
      "Validation round\n"
     ]
    },
    {
     "name": "stderr",
     "output_type": "stream",
     "text": [
      "Validation round: 100%|██████████| 115/115 [00:13<00:00,  8.77batch/s]\n"
     ]
    },
    {
     "name": "stdout",
     "output_type": "stream",
     "text": [
      "Validation dice loss: 1.0747501850128174, IoU Score 0.5028085708618164\n"
     ]
    },
    {
     "name": "stderr",
     "output_type": "stream",
     "text": [
      "Epoch 26/60:  46%|████▌     | 210/456 [01:05<00:42,  5.79img/s, loss (batch)=0.318]"
     ]
    },
    {
     "name": "stdout",
     "output_type": "stream",
     "text": [
      "Validation round\n"
     ]
    },
    {
     "name": "stderr",
     "output_type": "stream",
     "text": [
      "Validation round: 100%|██████████| 115/115 [00:13<00:00,  8.80batch/s]\n"
     ]
    },
    {
     "name": "stdout",
     "output_type": "stream",
     "text": [
      "Validation dice loss: 1.063002347946167, IoU Score 0.5146734118461609\n"
     ]
    },
    {
     "name": "stderr",
     "output_type": "stream",
     "text": [
      "Epoch 26/60:  66%|██████▌   | 300/456 [01:35<00:26,  5.83img/s, loss (batch)=0.411]"
     ]
    },
    {
     "name": "stdout",
     "output_type": "stream",
     "text": [
      "Validation round\n"
     ]
    },
    {
     "name": "stderr",
     "output_type": "stream",
     "text": [
      "Validation round: 100%|██████████| 115/115 [00:13<00:00,  8.77batch/s]\n"
     ]
    },
    {
     "name": "stdout",
     "output_type": "stream",
     "text": [
      "Validation dice loss: 1.21048104763031, IoU Score 0.4594593048095703\n"
     ]
    },
    {
     "name": "stderr",
     "output_type": "stream",
     "text": [
      "Epoch 26/60:  86%|████████▌ | 390/456 [02:05<00:11,  5.86img/s, loss (batch)=0.334]"
     ]
    },
    {
     "name": "stdout",
     "output_type": "stream",
     "text": [
      "Validation round\n"
     ]
    },
    {
     "name": "stderr",
     "output_type": "stream",
     "text": [
      "Validation round: 100%|██████████| 115/115 [00:13<00:00,  8.80batch/s]\n"
     ]
    },
    {
     "name": "stdout",
     "output_type": "stream",
     "text": [
      "Validation dice loss: 1.2666834592819214, IoU Score 0.439107745885849\n"
     ]
    },
    {
     "name": "stderr",
     "output_type": "stream",
     "text": [
      "Epoch 26/60: 100%|██████████| 456/456 [02:31<00:00,  3.01img/s, loss (batch)=0.354]\n",
      "Epoch 27/60:   5%|▌         | 24/456 [00:04<01:15,  5.74img/s, loss (batch)=0.456]"
     ]
    },
    {
     "name": "stdout",
     "output_type": "stream",
     "text": [
      "Validation round\n"
     ]
    },
    {
     "name": "stderr",
     "output_type": "stream",
     "text": [
      "Validation round: 100%|██████████| 115/115 [00:13<00:00,  8.76batch/s]\n"
     ]
    },
    {
     "name": "stdout",
     "output_type": "stream",
     "text": [
      "Validation dice loss: 1.2923089265823364, IoU Score 0.4247094690799713\n"
     ]
    },
    {
     "name": "stderr",
     "output_type": "stream",
     "text": [
      "Epoch 27/60:  25%|██▌       | 114/456 [00:34<00:59,  5.70img/s, loss (batch)=0.422]"
     ]
    },
    {
     "name": "stdout",
     "output_type": "stream",
     "text": [
      "Validation round\n"
     ]
    },
    {
     "name": "stderr",
     "output_type": "stream",
     "text": [
      "Validation round: 100%|██████████| 115/115 [00:12<00:00,  8.87batch/s]\n"
     ]
    },
    {
     "name": "stdout",
     "output_type": "stream",
     "text": [
      "Validation dice loss: 1.569651484489441, IoU Score 0.37028566002845764\n"
     ]
    },
    {
     "name": "stderr",
     "output_type": "stream",
     "text": [
      "Epoch 27/60:  45%|████▍     | 204/456 [01:04<00:43,  5.86img/s, loss (batch)=0.432]"
     ]
    },
    {
     "name": "stdout",
     "output_type": "stream",
     "text": [
      "Validation round\n"
     ]
    },
    {
     "name": "stderr",
     "output_type": "stream",
     "text": [
      "Validation round: 100%|██████████| 115/115 [00:13<00:00,  8.80batch/s]\n"
     ]
    },
    {
     "name": "stdout",
     "output_type": "stream",
     "text": [
      "Validation dice loss: 1.267688274383545, IoU Score 0.43795859813690186\n"
     ]
    },
    {
     "name": "stderr",
     "output_type": "stream",
     "text": [
      "Epoch 27/60:  64%|██████▍   | 294/456 [01:34<00:28,  5.77img/s, loss (batch)=0.389]"
     ]
    },
    {
     "name": "stdout",
     "output_type": "stream",
     "text": [
      "Validation round\n"
     ]
    },
    {
     "name": "stderr",
     "output_type": "stream",
     "text": [
      "Validation round: 100%|██████████| 115/115 [00:13<00:00,  8.85batch/s]\n"
     ]
    },
    {
     "name": "stdout",
     "output_type": "stream",
     "text": [
      "Validation dice loss: 1.2000025510787964, IoU Score 0.46930864453315735\n"
     ]
    },
    {
     "name": "stderr",
     "output_type": "stream",
     "text": [
      "Epoch 27/60:  84%|████████▍ | 384/456 [02:04<00:12,  5.93img/s, loss (batch)=0.371]"
     ]
    },
    {
     "name": "stdout",
     "output_type": "stream",
     "text": [
      "Validation round\n"
     ]
    },
    {
     "name": "stderr",
     "output_type": "stream",
     "text": [
      "Validation round: 100%|██████████| 115/115 [00:13<00:00,  8.79batch/s]\n"
     ]
    },
    {
     "name": "stdout",
     "output_type": "stream",
     "text": [
      "Validation dice loss: 1.130929946899414, IoU Score 0.4628729522228241\n"
     ]
    },
    {
     "name": "stderr",
     "output_type": "stream",
     "text": [
      "Epoch 27/60: 100%|██████████| 456/456 [02:31<00:00,  3.01img/s, loss (batch)=0.375]\n",
      "Epoch 28/60:   4%|▍         | 18/456 [00:03<01:15,  5.80img/s, loss (batch)=0.393]"
     ]
    },
    {
     "name": "stdout",
     "output_type": "stream",
     "text": [
      "Validation round\n"
     ]
    },
    {
     "name": "stderr",
     "output_type": "stream",
     "text": [
      "Validation round: 100%|██████████| 115/115 [00:13<00:00,  8.80batch/s]\n"
     ]
    },
    {
     "name": "stdout",
     "output_type": "stream",
     "text": [
      "Validation dice loss: 1.4442692995071411, IoU Score 0.36621057987213135\n"
     ]
    },
    {
     "name": "stderr",
     "output_type": "stream",
     "text": [
      "Epoch 28/60:  24%|██▎       | 108/456 [00:33<00:59,  5.84img/s, loss (batch)=0.287]"
     ]
    },
    {
     "name": "stdout",
     "output_type": "stream",
     "text": [
      "Validation round\n"
     ]
    },
    {
     "name": "stderr",
     "output_type": "stream",
     "text": [
      "Validation round: 100%|██████████| 115/115 [00:13<00:00,  8.72batch/s]\n"
     ]
    },
    {
     "name": "stdout",
     "output_type": "stream",
     "text": [
      "Validation dice loss: 1.0586581230163574, IoU Score 0.48341184854507446\n"
     ]
    },
    {
     "name": "stderr",
     "output_type": "stream",
     "text": [
      "Epoch 28/60:  43%|████▎     | 198/456 [01:03<00:44,  5.81img/s, loss (batch)=0.394]"
     ]
    },
    {
     "name": "stdout",
     "output_type": "stream",
     "text": [
      "Validation round\n"
     ]
    },
    {
     "name": "stderr",
     "output_type": "stream",
     "text": [
      "Validation round: 100%|██████████| 115/115 [00:13<00:00,  8.71batch/s]\n"
     ]
    },
    {
     "name": "stdout",
     "output_type": "stream",
     "text": [
      "Validation dice loss: 1.5045950412750244, IoU Score 0.36023223400115967\n"
     ]
    },
    {
     "name": "stderr",
     "output_type": "stream",
     "text": [
      "Epoch 28/60:  63%|██████▎   | 288/456 [01:33<00:29,  5.76img/s, loss (batch)=0.463]"
     ]
    },
    {
     "name": "stdout",
     "output_type": "stream",
     "text": [
      "Validation round\n"
     ]
    },
    {
     "name": "stderr",
     "output_type": "stream",
     "text": [
      "Validation round: 100%|██████████| 115/115 [00:13<00:00,  8.74batch/s]\n"
     ]
    },
    {
     "name": "stdout",
     "output_type": "stream",
     "text": [
      "Validation dice loss: 1.4404350519180298, IoU Score 0.4136509299278259\n"
     ]
    },
    {
     "name": "stderr",
     "output_type": "stream",
     "text": [
      "Epoch 28/60:  83%|████████▎ | 378/456 [02:03<00:13,  5.94img/s, loss (batch)=0.351]"
     ]
    },
    {
     "name": "stdout",
     "output_type": "stream",
     "text": [
      "Validation round\n"
     ]
    },
    {
     "name": "stderr",
     "output_type": "stream",
     "text": [
      "Validation round: 100%|██████████| 115/115 [00:13<00:00,  8.78batch/s]\n"
     ]
    },
    {
     "name": "stdout",
     "output_type": "stream",
     "text": [
      "Validation dice loss: 1.1208597421646118, IoU Score 0.4781646430492401\n"
     ]
    },
    {
     "name": "stderr",
     "output_type": "stream",
     "text": [
      "Epoch 28/60: 100%|██████████| 456/456 [02:31<00:00,  3.00img/s, loss (batch)=0.361]\n",
      "Epoch 29/60:   3%|▎         | 12/456 [00:02<01:16,  5.80img/s, loss (batch)=0.374]"
     ]
    },
    {
     "name": "stdout",
     "output_type": "stream",
     "text": [
      "Validation round\n"
     ]
    },
    {
     "name": "stderr",
     "output_type": "stream",
     "text": [
      "Validation round: 100%|██████████| 115/115 [00:13<00:00,  8.75batch/s]\n"
     ]
    },
    {
     "name": "stdout",
     "output_type": "stream",
     "text": [
      "Validation dice loss: 1.3445334434509277, IoU Score 0.39744022488594055\n"
     ]
    },
    {
     "name": "stderr",
     "output_type": "stream",
     "text": [
      "Epoch 29/60:  22%|██▏       | 102/456 [00:32<01:00,  5.82img/s, loss (batch)=0.284]"
     ]
    },
    {
     "name": "stdout",
     "output_type": "stream",
     "text": [
      "Validation round\n"
     ]
    },
    {
     "name": "stderr",
     "output_type": "stream",
     "text": [
      "Validation round: 100%|██████████| 115/115 [00:13<00:00,  8.73batch/s]\n"
     ]
    },
    {
     "name": "stdout",
     "output_type": "stream",
     "text": [
      "Validation dice loss: 1.2860443592071533, IoU Score 0.4181077778339386\n"
     ]
    },
    {
     "name": "stderr",
     "output_type": "stream",
     "text": [
      "Epoch 29/60:  42%|████▏     | 192/456 [01:02<00:46,  5.66img/s, loss (batch)=0.436]"
     ]
    },
    {
     "name": "stdout",
     "output_type": "stream",
     "text": [
      "Validation round\n"
     ]
    },
    {
     "name": "stderr",
     "output_type": "stream",
     "text": [
      "Validation round: 100%|██████████| 115/115 [00:13<00:00,  8.76batch/s]\n"
     ]
    },
    {
     "name": "stdout",
     "output_type": "stream",
     "text": [
      "Validation dice loss: 1.1807626485824585, IoU Score 0.4601219892501831\n"
     ]
    },
    {
     "name": "stderr",
     "output_type": "stream",
     "text": [
      "Epoch 29/60:  62%|██████▏   | 282/456 [01:32<00:29,  5.83img/s, loss (batch)=0.319]"
     ]
    },
    {
     "name": "stdout",
     "output_type": "stream",
     "text": [
      "Validation round\n"
     ]
    },
    {
     "name": "stderr",
     "output_type": "stream",
     "text": [
      "Validation round: 100%|██████████| 115/115 [00:13<00:00,  8.81batch/s]\n"
     ]
    },
    {
     "name": "stdout",
     "output_type": "stream",
     "text": [
      "Validation dice loss: 1.0506397485733032, IoU Score 0.4869171679019928\n"
     ]
    },
    {
     "name": "stderr",
     "output_type": "stream",
     "text": [
      "Epoch 29/60:  82%|████████▏ | 372/456 [02:02<00:14,  5.73img/s, loss (batch)=0.613]"
     ]
    },
    {
     "name": "stdout",
     "output_type": "stream",
     "text": [
      "Validation round\n"
     ]
    },
    {
     "name": "stderr",
     "output_type": "stream",
     "text": [
      "Validation round: 100%|██████████| 115/115 [00:13<00:00,  8.75batch/s]\n"
     ]
    },
    {
     "name": "stdout",
     "output_type": "stream",
     "text": [
      "Validation dice loss: 1.4455697536468506, IoU Score 0.37640678882598877\n"
     ]
    },
    {
     "name": "stderr",
     "output_type": "stream",
     "text": [
      "Epoch 29/60: 100%|██████████| 456/456 [02:32<00:00,  3.00img/s, loss (batch)=0.318]\n",
      "Epoch 30/60:   1%|▏         | 6/456 [00:01<01:31,  4.94img/s, loss (batch)=0.284]"
     ]
    },
    {
     "name": "stdout",
     "output_type": "stream",
     "text": [
      "Validation round\n"
     ]
    },
    {
     "name": "stderr",
     "output_type": "stream",
     "text": [
      "Validation round: 100%|██████████| 115/115 [00:13<00:00,  8.81batch/s]\n"
     ]
    },
    {
     "name": "stdout",
     "output_type": "stream",
     "text": [
      "Validation dice loss: 1.0106054544448853, IoU Score 0.5105161070823669\n"
     ]
    },
    {
     "name": "stderr",
     "output_type": "stream",
     "text": [
      "Epoch 30/60:  21%|██        | 96/456 [00:31<01:02,  5.74img/s, loss (batch)=0.369]"
     ]
    },
    {
     "name": "stdout",
     "output_type": "stream",
     "text": [
      "Validation round\n"
     ]
    },
    {
     "name": "stderr",
     "output_type": "stream",
     "text": [
      "Validation round: 100%|██████████| 115/115 [00:13<00:00,  8.80batch/s]\n"
     ]
    },
    {
     "name": "stdout",
     "output_type": "stream",
     "text": [
      "Validation dice loss: 1.3860315084457397, IoU Score 0.42582282423973083\n"
     ]
    },
    {
     "name": "stderr",
     "output_type": "stream",
     "text": [
      "Epoch 30/60:  41%|████      | 186/456 [01:01<00:46,  5.84img/s, loss (batch)=0.384]"
     ]
    },
    {
     "name": "stdout",
     "output_type": "stream",
     "text": [
      "Validation round\n"
     ]
    },
    {
     "name": "stderr",
     "output_type": "stream",
     "text": [
      "Validation round: 100%|██████████| 115/115 [00:12<00:00,  8.88batch/s]\n"
     ]
    },
    {
     "name": "stdout",
     "output_type": "stream",
     "text": [
      "Validation dice loss: 1.663636326789856, IoU Score 0.32757702469825745\n"
     ]
    },
    {
     "name": "stderr",
     "output_type": "stream",
     "text": [
      "Epoch 30/60:  61%|██████    | 276/456 [01:31<00:31,  5.65img/s, loss (batch)=0.535]"
     ]
    },
    {
     "name": "stdout",
     "output_type": "stream",
     "text": [
      "Validation round\n"
     ]
    },
    {
     "name": "stderr",
     "output_type": "stream",
     "text": [
      "Validation round: 100%|██████████| 115/115 [00:13<00:00,  8.82batch/s]\n"
     ]
    },
    {
     "name": "stdout",
     "output_type": "stream",
     "text": [
      "Validation dice loss: 1.0358942747116089, IoU Score 0.4910309910774231\n"
     ]
    },
    {
     "name": "stderr",
     "output_type": "stream",
     "text": [
      "Epoch 30/60:  80%|████████  | 366/456 [02:01<00:15,  5.74img/s, loss (batch)=0.297]"
     ]
    },
    {
     "name": "stdout",
     "output_type": "stream",
     "text": [
      "Validation round\n"
     ]
    },
    {
     "name": "stderr",
     "output_type": "stream",
     "text": [
      "Validation round: 100%|██████████| 115/115 [00:13<00:00,  8.74batch/s]\n"
     ]
    },
    {
     "name": "stdout",
     "output_type": "stream",
     "text": [
      "Validation dice loss: 1.2490606307983398, IoU Score 0.4212542772293091\n"
     ]
    },
    {
     "name": "stderr",
     "output_type": "stream",
     "text": [
      "Epoch 30/60: 100%|██████████| 456/456 [02:31<00:00,  5.70img/s, loss (batch)=0.419]"
     ]
    },
    {
     "name": "stdout",
     "output_type": "stream",
     "text": [
      "Validation round\n"
     ]
    },
    {
     "name": "stderr",
     "output_type": "stream",
     "text": [
      "Validation round: 100%|██████████| 115/115 [00:13<00:00,  8.73batch/s]\n",
      "Epoch 30/60: 100%|██████████| 456/456 [02:46<00:00,  2.74img/s, loss (batch)=0.419]\n"
     ]
    },
    {
     "name": "stdout",
     "output_type": "stream",
     "text": [
      "Validation dice loss: 1.794285774230957, IoU Score 0.3025358021259308\n"
     ]
    },
    {
     "name": "stderr",
     "output_type": "stream",
     "text": [
      "Epoch 31/60:  20%|█▉        | 90/456 [00:15<01:03,  5.81img/s, loss (batch)=0.441]"
     ]
    },
    {
     "name": "stdout",
     "output_type": "stream",
     "text": [
      "Validation round\n"
     ]
    },
    {
     "name": "stderr",
     "output_type": "stream",
     "text": [
      "Validation round: 100%|██████████| 115/115 [00:13<00:00,  8.73batch/s]\n"
     ]
    },
    {
     "name": "stdout",
     "output_type": "stream",
     "text": [
      "Validation dice loss: 1.0039862394332886, IoU Score 0.49975743889808655\n"
     ]
    },
    {
     "name": "stderr",
     "output_type": "stream",
     "text": [
      "Epoch 31/60:  39%|███▉      | 180/456 [00:45<00:48,  5.68img/s, loss (batch)=0.294]"
     ]
    },
    {
     "name": "stdout",
     "output_type": "stream",
     "text": [
      "Validation round\n"
     ]
    },
    {
     "name": "stderr",
     "output_type": "stream",
     "text": [
      "Validation round: 100%|██████████| 115/115 [00:13<00:00,  8.71batch/s]\n"
     ]
    },
    {
     "name": "stdout",
     "output_type": "stream",
     "text": [
      "Validation dice loss: 1.2555913925170898, IoU Score 0.4257104992866516\n"
     ]
    },
    {
     "name": "stderr",
     "output_type": "stream",
     "text": [
      "Epoch 31/60:  59%|█████▉    | 270/456 [01:16<00:32,  5.69img/s, loss (batch)=0.427]"
     ]
    },
    {
     "name": "stdout",
     "output_type": "stream",
     "text": [
      "Validation round\n"
     ]
    },
    {
     "name": "stderr",
     "output_type": "stream",
     "text": [
      "Validation round: 100%|██████████| 115/115 [00:13<00:00,  8.73batch/s]\n"
     ]
    },
    {
     "name": "stdout",
     "output_type": "stream",
     "text": [
      "Validation dice loss: 1.1927522420883179, IoU Score 0.45223626494407654\n"
     ]
    },
    {
     "name": "stderr",
     "output_type": "stream",
     "text": [
      "Epoch 31/60:  79%|███████▉  | 360/456 [01:46<00:16,  5.65img/s, loss (batch)=0.452]"
     ]
    },
    {
     "name": "stdout",
     "output_type": "stream",
     "text": [
      "Validation round\n"
     ]
    },
    {
     "name": "stderr",
     "output_type": "stream",
     "text": [
      "Validation round: 100%|██████████| 115/115 [00:13<00:00,  8.76batch/s]\n"
     ]
    },
    {
     "name": "stdout",
     "output_type": "stream",
     "text": [
      "Validation dice loss: 1.4099252223968506, IoU Score 0.3800341784954071\n"
     ]
    },
    {
     "name": "stderr",
     "output_type": "stream",
     "text": [
      "Epoch 31/60:  99%|█████████▊| 450/456 [02:16<00:01,  5.82img/s, loss (batch)=0.334]"
     ]
    },
    {
     "name": "stdout",
     "output_type": "stream",
     "text": [
      "Validation round\n"
     ]
    },
    {
     "name": "stderr",
     "output_type": "stream",
     "text": [
      "Validation round: 100%|██████████| 115/115 [00:13<00:00,  8.80batch/s]\n"
     ]
    },
    {
     "name": "stdout",
     "output_type": "stream",
     "text": [
      "Validation dice loss: 1.085105538368225, IoU Score 0.4787147045135498\n"
     ]
    },
    {
     "name": "stderr",
     "output_type": "stream",
     "text": [
      "Epoch 31/60: 100%|██████████| 456/456 [02:32<00:00,  2.99img/s, loss (batch)=0.373]\n",
      "Epoch 32/60:  18%|█▊        | 84/456 [00:14<01:03,  5.85img/s, loss (batch)=0.252]"
     ]
    },
    {
     "name": "stdout",
     "output_type": "stream",
     "text": [
      "Validation round\n"
     ]
    },
    {
     "name": "stderr",
     "output_type": "stream",
     "text": [
      "Validation round: 100%|██████████| 115/115 [00:13<00:00,  8.81batch/s]\n"
     ]
    },
    {
     "name": "stdout",
     "output_type": "stream",
     "text": [
      "Validation dice loss: 1.194274663925171, IoU Score 0.4641626477241516\n"
     ]
    },
    {
     "name": "stderr",
     "output_type": "stream",
     "text": [
      "Epoch 32/60:  38%|███▊      | 174/456 [00:44<00:48,  5.76img/s, loss (batch)=0.252]"
     ]
    },
    {
     "name": "stdout",
     "output_type": "stream",
     "text": [
      "Validation round\n"
     ]
    },
    {
     "name": "stderr",
     "output_type": "stream",
     "text": [
      "Validation round: 100%|██████████| 115/115 [00:13<00:00,  8.78batch/s]\n"
     ]
    },
    {
     "name": "stdout",
     "output_type": "stream",
     "text": [
      "Validation dice loss: 1.5870035886764526, IoU Score 0.3337686061859131\n"
     ]
    },
    {
     "name": "stderr",
     "output_type": "stream",
     "text": [
      "Epoch 32/60:  58%|█████▊    | 264/456 [01:15<00:33,  5.75img/s, loss (batch)=0.352]"
     ]
    },
    {
     "name": "stdout",
     "output_type": "stream",
     "text": [
      "Validation round\n"
     ]
    },
    {
     "name": "stderr",
     "output_type": "stream",
     "text": [
      "Validation round: 100%|██████████| 115/115 [00:13<00:00,  8.75batch/s]\n"
     ]
    },
    {
     "name": "stdout",
     "output_type": "stream",
     "text": [
      "Validation dice loss: 0.9976276159286499, IoU Score 0.5061012506484985\n"
     ]
    },
    {
     "name": "stderr",
     "output_type": "stream",
     "text": [
      "Epoch 32/60:  78%|███████▊  | 354/456 [01:45<00:17,  5.72img/s, loss (batch)=0.337]"
     ]
    },
    {
     "name": "stdout",
     "output_type": "stream",
     "text": [
      "Validation round\n"
     ]
    },
    {
     "name": "stderr",
     "output_type": "stream",
     "text": [
      "Validation round: 100%|██████████| 115/115 [00:13<00:00,  8.79batch/s]\n"
     ]
    },
    {
     "name": "stdout",
     "output_type": "stream",
     "text": [
      "Validation dice loss: 1.1903817653656006, IoU Score 0.42023876309394836\n"
     ]
    },
    {
     "name": "stderr",
     "output_type": "stream",
     "text": [
      "Epoch 32/60:  97%|█████████▋| 444/456 [02:15<00:02,  5.66img/s, loss (batch)=0.268]"
     ]
    },
    {
     "name": "stdout",
     "output_type": "stream",
     "text": [
      "Validation round\n"
     ]
    },
    {
     "name": "stderr",
     "output_type": "stream",
     "text": [
      "Validation round: 100%|██████████| 115/115 [00:13<00:00,  8.69batch/s]\n"
     ]
    },
    {
     "name": "stdout",
     "output_type": "stream",
     "text": [
      "Validation dice loss: 1.5395811796188354, IoU Score 0.3623045086860657\n"
     ]
    },
    {
     "name": "stderr",
     "output_type": "stream",
     "text": [
      "Epoch 32/60: 100%|██████████| 456/456 [02:32<00:00,  3.00img/s, loss (batch)=0.23]\n",
      "Epoch 33/60:  17%|█▋        | 78/456 [00:13<01:03,  5.94img/s, loss (batch)=0.321]"
     ]
    },
    {
     "name": "stdout",
     "output_type": "stream",
     "text": [
      "Validation round\n"
     ]
    },
    {
     "name": "stderr",
     "output_type": "stream",
     "text": [
      "Validation round: 100%|██████████| 115/115 [00:13<00:00,  8.74batch/s]\n"
     ]
    },
    {
     "name": "stdout",
     "output_type": "stream",
     "text": [
      "Validation dice loss: 0.9901544451713562, IoU Score 0.5112056732177734\n"
     ]
    },
    {
     "name": "stderr",
     "output_type": "stream",
     "text": [
      "Epoch 33/60:  37%|███▋      | 168/456 [00:43<00:49,  5.81img/s, loss (batch)=0.425]"
     ]
    },
    {
     "name": "stdout",
     "output_type": "stream",
     "text": [
      "Validation round\n"
     ]
    },
    {
     "name": "stderr",
     "output_type": "stream",
     "text": [
      "Validation round: 100%|██████████| 115/115 [00:13<00:00,  8.75batch/s]\n"
     ]
    },
    {
     "name": "stdout",
     "output_type": "stream",
     "text": [
      "Validation dice loss: 1.4023783206939697, IoU Score 0.3978542983531952\n"
     ]
    },
    {
     "name": "stderr",
     "output_type": "stream",
     "text": [
      "Epoch 33/60:  57%|█████▋    | 258/456 [01:13<00:34,  5.68img/s, loss (batch)=0.458]"
     ]
    },
    {
     "name": "stdout",
     "output_type": "stream",
     "text": [
      "Validation round\n"
     ]
    },
    {
     "name": "stderr",
     "output_type": "stream",
     "text": [
      "Validation round: 100%|██████████| 115/115 [00:13<00:00,  8.72batch/s]\n"
     ]
    },
    {
     "name": "stdout",
     "output_type": "stream",
     "text": [
      "Validation dice loss: 1.1952052116394043, IoU Score 0.4276817739009857\n"
     ]
    },
    {
     "name": "stderr",
     "output_type": "stream",
     "text": [
      "Epoch 33/60:  76%|███████▋  | 348/456 [01:43<00:18,  5.78img/s, loss (batch)=0.305]"
     ]
    },
    {
     "name": "stdout",
     "output_type": "stream",
     "text": [
      "Validation round\n"
     ]
    },
    {
     "name": "stderr",
     "output_type": "stream",
     "text": [
      "Validation round: 100%|██████████| 115/115 [00:13<00:00,  8.69batch/s]\n"
     ]
    },
    {
     "name": "stdout",
     "output_type": "stream",
     "text": [
      "Validation dice loss: 1.0901098251342773, IoU Score 0.48112502694129944\n"
     ]
    },
    {
     "name": "stderr",
     "output_type": "stream",
     "text": [
      "Epoch 33/60:  96%|█████████▌| 438/456 [02:14<00:03,  5.78img/s, loss (batch)=0.279]"
     ]
    },
    {
     "name": "stdout",
     "output_type": "stream",
     "text": [
      "Validation round\n"
     ]
    },
    {
     "name": "stderr",
     "output_type": "stream",
     "text": [
      "Validation round: 100%|██████████| 115/115 [00:13<00:00,  8.74batch/s]\n"
     ]
    },
    {
     "name": "stdout",
     "output_type": "stream",
     "text": [
      "Validation dice loss: 1.1714918613433838, IoU Score 0.44464123249053955\n"
     ]
    },
    {
     "name": "stderr",
     "output_type": "stream",
     "text": [
      "Epoch 33/60: 100%|██████████| 456/456 [02:31<00:00,  3.00img/s, loss (batch)=0.4]\n",
      "Epoch 34/60:  16%|█▌        | 72/456 [00:12<01:06,  5.74img/s, loss (batch)=0.357]"
     ]
    },
    {
     "name": "stdout",
     "output_type": "stream",
     "text": [
      "Validation round\n"
     ]
    },
    {
     "name": "stderr",
     "output_type": "stream",
     "text": [
      "Validation round: 100%|██████████| 115/115 [00:13<00:00,  8.76batch/s]\n"
     ]
    },
    {
     "name": "stdout",
     "output_type": "stream",
     "text": [
      "Validation dice loss: 1.2846558094024658, IoU Score 0.41797515749931335\n"
     ]
    },
    {
     "name": "stderr",
     "output_type": "stream",
     "text": [
      "Epoch 34/60:  36%|███▌      | 162/456 [00:42<00:51,  5.72img/s, loss (batch)=0.368]"
     ]
    },
    {
     "name": "stdout",
     "output_type": "stream",
     "text": [
      "Validation round\n"
     ]
    },
    {
     "name": "stderr",
     "output_type": "stream",
     "text": [
      "Validation round: 100%|██████████| 115/115 [00:13<00:00,  8.76batch/s]\n"
     ]
    },
    {
     "name": "stdout",
     "output_type": "stream",
     "text": [
      "Validation dice loss: 1.121168851852417, IoU Score 0.4634275436401367\n"
     ]
    },
    {
     "name": "stderr",
     "output_type": "stream",
     "text": [
      "Epoch 34/60:  55%|█████▌    | 252/456 [01:12<00:35,  5.78img/s, loss (batch)=0.57] "
     ]
    },
    {
     "name": "stdout",
     "output_type": "stream",
     "text": [
      "Validation round\n"
     ]
    },
    {
     "name": "stderr",
     "output_type": "stream",
     "text": [
      "Validation round: 100%|██████████| 115/115 [00:13<00:00,  8.80batch/s]\n"
     ]
    },
    {
     "name": "stdout",
     "output_type": "stream",
     "text": [
      "Validation dice loss: 1.4385544061660767, IoU Score 0.37852054834365845\n"
     ]
    },
    {
     "name": "stderr",
     "output_type": "stream",
     "text": [
      "Epoch 34/60:  75%|███████▌  | 342/456 [01:42<00:19,  5.82img/s, loss (batch)=0.311]"
     ]
    },
    {
     "name": "stdout",
     "output_type": "stream",
     "text": [
      "Validation round\n"
     ]
    },
    {
     "name": "stderr",
     "output_type": "stream",
     "text": [
      "Validation round: 100%|██████████| 115/115 [00:13<00:00,  8.84batch/s]\n"
     ]
    },
    {
     "name": "stdout",
     "output_type": "stream",
     "text": [
      "Validation dice loss: 1.019556999206543, IoU Score 0.4855600893497467\n"
     ]
    },
    {
     "name": "stderr",
     "output_type": "stream",
     "text": [
      "Epoch 34/60:  95%|█████████▍| 432/456 [02:12<00:04,  5.84img/s, loss (batch)=0.29] "
     ]
    },
    {
     "name": "stdout",
     "output_type": "stream",
     "text": [
      "Validation round\n"
     ]
    },
    {
     "name": "stderr",
     "output_type": "stream",
     "text": [
      "Validation round: 100%|██████████| 115/115 [00:12<00:00,  8.86batch/s]\n"
     ]
    },
    {
     "name": "stdout",
     "output_type": "stream",
     "text": [
      "Validation dice loss: 1.2853617668151855, IoU Score 0.41568389534950256\n"
     ]
    },
    {
     "name": "stderr",
     "output_type": "stream",
     "text": [
      "Epoch 34/60: 100%|██████████| 456/456 [02:31<00:00,  3.01img/s, loss (batch)=0.374]\n",
      "Epoch 35/60:  14%|█▍        | 66/456 [00:11<01:06,  5.85img/s, loss (batch)=0.212]"
     ]
    },
    {
     "name": "stdout",
     "output_type": "stream",
     "text": [
      "Validation round\n"
     ]
    },
    {
     "name": "stderr",
     "output_type": "stream",
     "text": [
      "Validation round: 100%|██████████| 115/115 [00:13<00:00,  8.81batch/s]\n"
     ]
    },
    {
     "name": "stdout",
     "output_type": "stream",
     "text": [
      "Validation dice loss: 1.008918285369873, IoU Score 0.49978548288345337\n"
     ]
    },
    {
     "name": "stderr",
     "output_type": "stream",
     "text": [
      "Epoch 35/60:  34%|███▍      | 156/456 [00:41<00:52,  5.76img/s, loss (batch)=0.266]"
     ]
    },
    {
     "name": "stdout",
     "output_type": "stream",
     "text": [
      "Validation round\n"
     ]
    },
    {
     "name": "stderr",
     "output_type": "stream",
     "text": [
      "Validation round: 100%|██████████| 115/115 [00:13<00:00,  8.75batch/s]\n"
     ]
    },
    {
     "name": "stdout",
     "output_type": "stream",
     "text": [
      "Validation dice loss: 1.2009121179580688, IoU Score 0.430212140083313\n"
     ]
    },
    {
     "name": "stderr",
     "output_type": "stream",
     "text": [
      "Epoch 35/60:  54%|█████▍    | 246/456 [01:11<00:36,  5.77img/s, loss (batch)=0.37] "
     ]
    },
    {
     "name": "stdout",
     "output_type": "stream",
     "text": [
      "Validation round\n"
     ]
    },
    {
     "name": "stderr",
     "output_type": "stream",
     "text": [
      "Validation round: 100%|██████████| 115/115 [00:13<00:00,  8.74batch/s]\n"
     ]
    },
    {
     "name": "stdout",
     "output_type": "stream",
     "text": [
      "Validation dice loss: 1.4201009273529053, IoU Score 0.3775063157081604\n"
     ]
    },
    {
     "name": "stderr",
     "output_type": "stream",
     "text": [
      "Epoch 35/60:  74%|███████▎  | 336/456 [01:42<00:20,  5.79img/s, loss (batch)=0.436]"
     ]
    },
    {
     "name": "stdout",
     "output_type": "stream",
     "text": [
      "Validation round\n"
     ]
    },
    {
     "name": "stderr",
     "output_type": "stream",
     "text": [
      "Validation round: 100%|██████████| 115/115 [00:13<00:00,  8.71batch/s]\n"
     ]
    },
    {
     "name": "stdout",
     "output_type": "stream",
     "text": [
      "Validation dice loss: 1.2263479232788086, IoU Score 0.4142868220806122\n"
     ]
    },
    {
     "name": "stderr",
     "output_type": "stream",
     "text": [
      "Epoch 35/60:  93%|█████████▎| 426/456 [02:12<00:05,  5.68img/s, loss (batch)=0.395]"
     ]
    },
    {
     "name": "stdout",
     "output_type": "stream",
     "text": [
      "Validation round\n"
     ]
    },
    {
     "name": "stderr",
     "output_type": "stream",
     "text": [
      "Validation round: 100%|██████████| 115/115 [00:13<00:00,  8.71batch/s]\n"
     ]
    },
    {
     "name": "stdout",
     "output_type": "stream",
     "text": [
      "Validation dice loss: 1.3136826753616333, IoU Score 0.39889052510261536\n"
     ]
    },
    {
     "name": "stderr",
     "output_type": "stream",
     "text": [
      "Epoch 35/60: 100%|██████████| 456/456 [02:32<00:00,  2.99img/s, loss (batch)=0.289]\n",
      "Epoch 36/60:  13%|█▎        | 60/456 [00:10<01:09,  5.66img/s, loss (batch)=0.279]"
     ]
    },
    {
     "name": "stdout",
     "output_type": "stream",
     "text": [
      "Validation round\n"
     ]
    },
    {
     "name": "stderr",
     "output_type": "stream",
     "text": [
      "Validation round: 100%|██████████| 115/115 [00:13<00:00,  8.77batch/s]\n"
     ]
    },
    {
     "name": "stdout",
     "output_type": "stream",
     "text": [
      "Validation dice loss: 1.387176275253296, IoU Score 0.39705222845077515\n"
     ]
    },
    {
     "name": "stderr",
     "output_type": "stream",
     "text": [
      "Epoch 36/60:  33%|███▎      | 150/456 [00:40<00:52,  5.88img/s, loss (batch)=0.257]"
     ]
    },
    {
     "name": "stdout",
     "output_type": "stream",
     "text": [
      "Validation round\n"
     ]
    },
    {
     "name": "stderr",
     "output_type": "stream",
     "text": [
      "Validation round: 100%|██████████| 115/115 [00:12<00:00,  8.86batch/s]\n"
     ]
    },
    {
     "name": "stdout",
     "output_type": "stream",
     "text": [
      "Validation dice loss: 1.1630289554595947, IoU Score 0.44346675276756287\n"
     ]
    },
    {
     "name": "stderr",
     "output_type": "stream",
     "text": [
      "Epoch 36/60:  53%|█████▎    | 240/456 [01:10<00:37,  5.75img/s, loss (batch)=0.403]"
     ]
    },
    {
     "name": "stdout",
     "output_type": "stream",
     "text": [
      "Validation round\n"
     ]
    },
    {
     "name": "stderr",
     "output_type": "stream",
     "text": [
      "Validation round: 100%|██████████| 115/115 [00:13<00:00,  8.84batch/s]\n"
     ]
    },
    {
     "name": "stdout",
     "output_type": "stream",
     "text": [
      "Validation dice loss: 1.1293339729309082, IoU Score 0.43597152829170227\n"
     ]
    },
    {
     "name": "stderr",
     "output_type": "stream",
     "text": [
      "Epoch 36/60:  72%|███████▏  | 330/456 [01:40<00:21,  5.77img/s, loss (batch)=0.679]"
     ]
    },
    {
     "name": "stdout",
     "output_type": "stream",
     "text": [
      "Validation round\n"
     ]
    },
    {
     "name": "stderr",
     "output_type": "stream",
     "text": [
      "Validation round: 100%|██████████| 115/115 [00:13<00:00,  8.68batch/s]\n"
     ]
    },
    {
     "name": "stdout",
     "output_type": "stream",
     "text": [
      "Validation dice loss: 1.5305835008621216, IoU Score 0.3453042805194855\n"
     ]
    },
    {
     "name": "stderr",
     "output_type": "stream",
     "text": [
      "Epoch 36/60:  92%|█████████▏| 420/456 [02:11<00:06,  5.83img/s, loss (batch)=0.296]"
     ]
    },
    {
     "name": "stdout",
     "output_type": "stream",
     "text": [
      "Validation round\n"
     ]
    },
    {
     "name": "stderr",
     "output_type": "stream",
     "text": [
      "Validation round: 100%|██████████| 115/115 [00:13<00:00,  8.70batch/s]\n"
     ]
    },
    {
     "name": "stdout",
     "output_type": "stream",
     "text": [
      "Validation dice loss: 1.0375337600708008, IoU Score 0.5006477236747742\n"
     ]
    },
    {
     "name": "stderr",
     "output_type": "stream",
     "text": [
      "Epoch 36/60: 100%|██████████| 456/456 [02:32<00:00,  3.00img/s, loss (batch)=0.239]\n",
      "Epoch 37/60:  12%|█▏        | 54/456 [00:09<01:08,  5.91img/s, loss (batch)=0.288]"
     ]
    },
    {
     "name": "stdout",
     "output_type": "stream",
     "text": [
      "Validation round\n"
     ]
    },
    {
     "name": "stderr",
     "output_type": "stream",
     "text": [
      "Validation round: 100%|██████████| 115/115 [00:13<00:00,  8.76batch/s]\n"
     ]
    },
    {
     "name": "stdout",
     "output_type": "stream",
     "text": [
      "Validation dice loss: 1.375031590461731, IoU Score 0.3954920470714569\n"
     ]
    },
    {
     "name": "stderr",
     "output_type": "stream",
     "text": [
      "Epoch 37/60:  32%|███▏      | 144/456 [00:39<00:54,  5.75img/s, loss (batch)=0.231]"
     ]
    },
    {
     "name": "stdout",
     "output_type": "stream",
     "text": [
      "Validation round\n"
     ]
    },
    {
     "name": "stderr",
     "output_type": "stream",
     "text": [
      "Validation round: 100%|██████████| 115/115 [00:13<00:00,  8.72batch/s]\n"
     ]
    },
    {
     "name": "stdout",
     "output_type": "stream",
     "text": [
      "Validation dice loss: 1.04196298122406, IoU Score 0.4837237000465393\n"
     ]
    },
    {
     "name": "stderr",
     "output_type": "stream",
     "text": [
      "Epoch 37/60:  51%|█████▏    | 234/456 [01:09<00:38,  5.73img/s, loss (batch)=0.407]"
     ]
    },
    {
     "name": "stdout",
     "output_type": "stream",
     "text": [
      "Validation round\n"
     ]
    },
    {
     "name": "stderr",
     "output_type": "stream",
     "text": [
      "Validation round: 100%|██████████| 115/115 [00:13<00:00,  8.68batch/s]\n"
     ]
    },
    {
     "name": "stdout",
     "output_type": "stream",
     "text": [
      "Validation dice loss: 1.9098633527755737, IoU Score 0.29228606820106506\n"
     ]
    },
    {
     "name": "stderr",
     "output_type": "stream",
     "text": [
      "Epoch 37/60:  71%|███████   | 324/456 [01:40<00:22,  5.80img/s, loss (batch)=0.315]"
     ]
    },
    {
     "name": "stdout",
     "output_type": "stream",
     "text": [
      "Validation round\n"
     ]
    },
    {
     "name": "stderr",
     "output_type": "stream",
     "text": [
      "Validation round: 100%|██████████| 115/115 [00:13<00:00,  8.63batch/s]\n"
     ]
    },
    {
     "name": "stdout",
     "output_type": "stream",
     "text": [
      "Validation dice loss: 2.4620590209960938, IoU Score 0.19795966148376465\n"
     ]
    },
    {
     "name": "stderr",
     "output_type": "stream",
     "text": [
      "Epoch 37/60:  91%|█████████ | 414/456 [02:10<00:07,  5.68img/s, loss (batch)=0.333]"
     ]
    },
    {
     "name": "stdout",
     "output_type": "stream",
     "text": [
      "Validation round\n"
     ]
    },
    {
     "name": "stderr",
     "output_type": "stream",
     "text": [
      "Validation round: 100%|██████████| 115/115 [00:13<00:00,  8.74batch/s]\n"
     ]
    },
    {
     "name": "stdout",
     "output_type": "stream",
     "text": [
      "Validation dice loss: 1.3926045894622803, IoU Score 0.3827514350414276\n"
     ]
    },
    {
     "name": "stderr",
     "output_type": "stream",
     "text": [
      "Epoch 37/60: 100%|██████████| 456/456 [02:32<00:00,  2.99img/s, loss (batch)=0.262]\n",
      "Epoch 38/60:  11%|█         | 48/456 [00:08<01:12,  5.65img/s, loss (batch)=0.317]"
     ]
    },
    {
     "name": "stdout",
     "output_type": "stream",
     "text": [
      "Validation round\n"
     ]
    },
    {
     "name": "stderr",
     "output_type": "stream",
     "text": [
      "Validation round: 100%|██████████| 115/115 [00:13<00:00,  8.72batch/s]\n"
     ]
    },
    {
     "name": "stdout",
     "output_type": "stream",
     "text": [
      "Validation dice loss: 1.182274580001831, IoU Score 0.4429225027561188\n"
     ]
    },
    {
     "name": "stderr",
     "output_type": "stream",
     "text": [
      "Epoch 38/60:  30%|███       | 138/456 [00:38<00:55,  5.74img/s, loss (batch)=0.222]"
     ]
    },
    {
     "name": "stdout",
     "output_type": "stream",
     "text": [
      "Validation round\n"
     ]
    },
    {
     "name": "stderr",
     "output_type": "stream",
     "text": [
      "Validation round: 100%|██████████| 115/115 [00:13<00:00,  8.80batch/s]\n"
     ]
    },
    {
     "name": "stdout",
     "output_type": "stream",
     "text": [
      "Validation dice loss: 1.2466964721679688, IoU Score 0.42680689692497253\n"
     ]
    },
    {
     "name": "stderr",
     "output_type": "stream",
     "text": [
      "Epoch 38/60:  50%|█████     | 228/456 [01:08<00:38,  5.85img/s, loss (batch)=0.251]"
     ]
    },
    {
     "name": "stdout",
     "output_type": "stream",
     "text": [
      "Validation round\n"
     ]
    },
    {
     "name": "stderr",
     "output_type": "stream",
     "text": [
      "Validation round: 100%|██████████| 115/115 [00:13<00:00,  8.69batch/s]\n"
     ]
    },
    {
     "name": "stdout",
     "output_type": "stream",
     "text": [
      "Validation dice loss: 1.1770597696304321, IoU Score 0.43621283769607544\n"
     ]
    },
    {
     "name": "stderr",
     "output_type": "stream",
     "text": [
      "Epoch 38/60:  70%|██████▉   | 318/456 [01:39<00:23,  5.85img/s, loss (batch)=0.221]"
     ]
    },
    {
     "name": "stdout",
     "output_type": "stream",
     "text": [
      "Validation round\n"
     ]
    },
    {
     "name": "stderr",
     "output_type": "stream",
     "text": [
      "Validation round: 100%|██████████| 115/115 [00:13<00:00,  8.77batch/s]\n"
     ]
    },
    {
     "name": "stdout",
     "output_type": "stream",
     "text": [
      "Validation dice loss: 1.2965425252914429, IoU Score 0.4159911870956421\n"
     ]
    },
    {
     "name": "stderr",
     "output_type": "stream",
     "text": [
      "Epoch 38/60:  89%|████████▉ | 408/456 [02:09<00:08,  5.74img/s, loss (batch)=0.298]"
     ]
    },
    {
     "name": "stdout",
     "output_type": "stream",
     "text": [
      "Validation round\n"
     ]
    },
    {
     "name": "stderr",
     "output_type": "stream",
     "text": [
      "Validation round: 100%|██████████| 115/115 [00:13<00:00,  8.80batch/s]\n"
     ]
    },
    {
     "name": "stdout",
     "output_type": "stream",
     "text": [
      "Validation dice loss: 1.9627766609191895, IoU Score 0.2655174732208252\n"
     ]
    },
    {
     "name": "stderr",
     "output_type": "stream",
     "text": [
      "Epoch 38/60: 100%|██████████| 456/456 [02:32<00:00,  2.99img/s, loss (batch)=0.377]\n",
      "Epoch 39/60:   9%|▉         | 42/456 [00:07<01:12,  5.74img/s, loss (batch)=0.286]"
     ]
    },
    {
     "name": "stdout",
     "output_type": "stream",
     "text": [
      "Validation round\n"
     ]
    },
    {
     "name": "stderr",
     "output_type": "stream",
     "text": [
      "Validation round: 100%|██████████| 115/115 [00:13<00:00,  8.75batch/s]\n"
     ]
    },
    {
     "name": "stdout",
     "output_type": "stream",
     "text": [
      "Validation dice loss: 1.6198852062225342, IoU Score 0.36929288506507874\n"
     ]
    },
    {
     "name": "stderr",
     "output_type": "stream",
     "text": [
      "Epoch 39/60:  29%|██▉       | 132/456 [00:37<00:56,  5.76img/s, loss (batch)=0.309]"
     ]
    },
    {
     "name": "stdout",
     "output_type": "stream",
     "text": [
      "Validation round\n"
     ]
    },
    {
     "name": "stderr",
     "output_type": "stream",
     "text": [
      "Validation round: 100%|██████████| 115/115 [00:13<00:00,  8.64batch/s]\n"
     ]
    },
    {
     "name": "stdout",
     "output_type": "stream",
     "text": [
      "Validation dice loss: 1.8158003091812134, IoU Score 0.2967241108417511\n"
     ]
    },
    {
     "name": "stderr",
     "output_type": "stream",
     "text": [
      "Epoch 39/60:  49%|████▊     | 222/456 [01:07<00:40,  5.75img/s, loss (batch)=0.239]"
     ]
    },
    {
     "name": "stdout",
     "output_type": "stream",
     "text": [
      "Validation round\n"
     ]
    },
    {
     "name": "stderr",
     "output_type": "stream",
     "text": [
      "Validation round: 100%|██████████| 115/115 [00:13<00:00,  8.67batch/s]\n"
     ]
    },
    {
     "name": "stdout",
     "output_type": "stream",
     "text": [
      "Validation dice loss: 1.100616455078125, IoU Score 0.47812020778656006\n"
     ]
    },
    {
     "name": "stderr",
     "output_type": "stream",
     "text": [
      "Epoch 39/60:  68%|██████▊   | 312/456 [01:38<00:25,  5.68img/s, loss (batch)=0.281]"
     ]
    },
    {
     "name": "stdout",
     "output_type": "stream",
     "text": [
      "Validation round\n"
     ]
    },
    {
     "name": "stderr",
     "output_type": "stream",
     "text": [
      "Validation round: 100%|██████████| 115/115 [00:13<00:00,  8.72batch/s]\n"
     ]
    },
    {
     "name": "stdout",
     "output_type": "stream",
     "text": [
      "Validation dice loss: 1.2980602979660034, IoU Score 0.40817147493362427\n"
     ]
    },
    {
     "name": "stderr",
     "output_type": "stream",
     "text": [
      "Epoch 39/60:  88%|████████▊ | 402/456 [02:08<00:09,  5.67img/s, loss (batch)=0.446]"
     ]
    },
    {
     "name": "stdout",
     "output_type": "stream",
     "text": [
      "Validation round\n"
     ]
    },
    {
     "name": "stderr",
     "output_type": "stream",
     "text": [
      "Validation round: 100%|██████████| 115/115 [00:13<00:00,  8.69batch/s]\n"
     ]
    },
    {
     "name": "stdout",
     "output_type": "stream",
     "text": [
      "Validation dice loss: 1.3315321207046509, IoU Score 0.38150396943092346\n"
     ]
    },
    {
     "name": "stderr",
     "output_type": "stream",
     "text": [
      "Epoch 39/60: 100%|██████████| 456/456 [02:32<00:00,  2.99img/s, loss (batch)=0.369]\n",
      "Epoch 40/60:   8%|▊         | 36/456 [00:06<01:13,  5.70img/s, loss (batch)=0.281]"
     ]
    },
    {
     "name": "stdout",
     "output_type": "stream",
     "text": [
      "Validation round\n"
     ]
    },
    {
     "name": "stderr",
     "output_type": "stream",
     "text": [
      "Validation round: 100%|██████████| 115/115 [00:13<00:00,  8.69batch/s]\n"
     ]
    },
    {
     "name": "stdout",
     "output_type": "stream",
     "text": [
      "Validation dice loss: 1.5153257846832275, IoU Score 0.34710410237312317\n"
     ]
    },
    {
     "name": "stderr",
     "output_type": "stream",
     "text": [
      "Epoch 40/60:  28%|██▊       | 126/456 [00:36<00:57,  5.73img/s, loss (batch)=0.359]"
     ]
    },
    {
     "name": "stdout",
     "output_type": "stream",
     "text": [
      "Validation round\n"
     ]
    },
    {
     "name": "stderr",
     "output_type": "stream",
     "text": [
      "Validation round: 100%|██████████| 115/115 [00:13<00:00,  8.81batch/s]\n"
     ]
    },
    {
     "name": "stdout",
     "output_type": "stream",
     "text": [
      "Validation dice loss: 1.2038543224334717, IoU Score 0.43944045901298523\n"
     ]
    },
    {
     "name": "stderr",
     "output_type": "stream",
     "text": [
      "Epoch 40/60:  47%|████▋     | 216/456 [01:06<00:41,  5.77img/s, loss (batch)=0.209]"
     ]
    },
    {
     "name": "stdout",
     "output_type": "stream",
     "text": [
      "Validation round\n"
     ]
    },
    {
     "name": "stderr",
     "output_type": "stream",
     "text": [
      "Validation round: 100%|██████████| 115/115 [00:13<00:00,  8.74batch/s]\n"
     ]
    },
    {
     "name": "stdout",
     "output_type": "stream",
     "text": [
      "Validation dice loss: 2.0609188079833984, IoU Score 0.2727127969264984\n"
     ]
    },
    {
     "name": "stderr",
     "output_type": "stream",
     "text": [
      "Epoch 40/60:  67%|██████▋   | 306/456 [01:37<00:25,  5.82img/s, loss (batch)=0.199]"
     ]
    },
    {
     "name": "stdout",
     "output_type": "stream",
     "text": [
      "Validation round\n"
     ]
    },
    {
     "name": "stderr",
     "output_type": "stream",
     "text": [
      "Validation round: 100%|██████████| 115/115 [00:13<00:00,  8.78batch/s]\n"
     ]
    },
    {
     "name": "stdout",
     "output_type": "stream",
     "text": [
      "Validation dice loss: 1.5859026908874512, IoU Score 0.3375122547149658\n"
     ]
    },
    {
     "name": "stderr",
     "output_type": "stream",
     "text": [
      "Epoch 40/60:  87%|████████▋ | 396/456 [02:07<00:10,  5.61img/s, loss (batch)=0.294]"
     ]
    },
    {
     "name": "stdout",
     "output_type": "stream",
     "text": [
      "Validation round\n"
     ]
    },
    {
     "name": "stderr",
     "output_type": "stream",
     "text": [
      "Validation round: 100%|██████████| 115/115 [00:13<00:00,  8.80batch/s]\n"
     ]
    },
    {
     "name": "stdout",
     "output_type": "stream",
     "text": [
      "Validation dice loss: 1.9565775394439697, IoU Score 0.2817992568016052\n"
     ]
    },
    {
     "name": "stderr",
     "output_type": "stream",
     "text": [
      "Epoch 40/60: 100%|██████████| 456/456 [02:32<00:00,  3.00img/s, loss (batch)=0.321]\n",
      "Epoch 41/60:   7%|▋         | 30/456 [00:05<01:13,  5.80img/s, loss (batch)=0.261]"
     ]
    },
    {
     "name": "stdout",
     "output_type": "stream",
     "text": [
      "Validation round\n"
     ]
    },
    {
     "name": "stderr",
     "output_type": "stream",
     "text": [
      "Validation round: 100%|██████████| 115/115 [00:13<00:00,  8.78batch/s]\n"
     ]
    },
    {
     "name": "stdout",
     "output_type": "stream",
     "text": [
      "Validation dice loss: 1.3995482921600342, IoU Score 0.3890390992164612\n"
     ]
    },
    {
     "name": "stderr",
     "output_type": "stream",
     "text": [
      "Epoch 41/60:  26%|██▋       | 120/456 [00:35<00:57,  5.89img/s, loss (batch)=0.236]"
     ]
    },
    {
     "name": "stdout",
     "output_type": "stream",
     "text": [
      "Validation round\n"
     ]
    },
    {
     "name": "stderr",
     "output_type": "stream",
     "text": [
      "Validation round: 100%|██████████| 115/115 [00:13<00:00,  8.77batch/s]\n"
     ]
    },
    {
     "name": "stdout",
     "output_type": "stream",
     "text": [
      "Validation dice loss: 1.4053295850753784, IoU Score 0.3615841269493103\n"
     ]
    },
    {
     "name": "stderr",
     "output_type": "stream",
     "text": [
      "Epoch 41/60:  46%|████▌     | 210/456 [01:05<00:43,  5.69img/s, loss (batch)=0.332]"
     ]
    },
    {
     "name": "stdout",
     "output_type": "stream",
     "text": [
      "Validation round\n"
     ]
    },
    {
     "name": "stderr",
     "output_type": "stream",
     "text": [
      "Validation round: 100%|██████████| 115/115 [00:13<00:00,  8.76batch/s]\n"
     ]
    },
    {
     "name": "stdout",
     "output_type": "stream",
     "text": [
      "Validation dice loss: 1.313641905784607, IoU Score 0.4058215618133545\n"
     ]
    },
    {
     "name": "stderr",
     "output_type": "stream",
     "text": [
      "Epoch 41/60:  66%|██████▌   | 300/456 [01:35<00:27,  5.64img/s, loss (batch)=0.204]"
     ]
    },
    {
     "name": "stdout",
     "output_type": "stream",
     "text": [
      "Validation round\n"
     ]
    },
    {
     "name": "stderr",
     "output_type": "stream",
     "text": [
      "Validation round: 100%|██████████| 115/115 [00:13<00:00,  8.76batch/s]\n"
     ]
    },
    {
     "name": "stdout",
     "output_type": "stream",
     "text": [
      "Validation dice loss: 1.1696568727493286, IoU Score 0.44359248876571655\n"
     ]
    },
    {
     "name": "stderr",
     "output_type": "stream",
     "text": [
      "Epoch 41/60:  86%|████████▌ | 390/456 [02:05<00:11,  5.73img/s, loss (batch)=0.213]"
     ]
    },
    {
     "name": "stdout",
     "output_type": "stream",
     "text": [
      "Validation round\n"
     ]
    },
    {
     "name": "stderr",
     "output_type": "stream",
     "text": [
      "Validation round: 100%|██████████| 115/115 [00:13<00:00,  8.84batch/s]\n"
     ]
    },
    {
     "name": "stdout",
     "output_type": "stream",
     "text": [
      "Validation dice loss: 1.615234613418579, IoU Score 0.3495636284351349\n"
     ]
    },
    {
     "name": "stderr",
     "output_type": "stream",
     "text": [
      "Epoch 41/60: 100%|██████████| 456/456 [02:31<00:00,  3.00img/s, loss (batch)=0.402]\n",
      "Epoch 42/60:   5%|▌         | 24/456 [00:04<01:15,  5.73img/s, loss (batch)=0.231]"
     ]
    },
    {
     "name": "stdout",
     "output_type": "stream",
     "text": [
      "Validation round\n"
     ]
    },
    {
     "name": "stderr",
     "output_type": "stream",
     "text": [
      "Validation round: 100%|██████████| 115/115 [00:13<00:00,  8.71batch/s]\n"
     ]
    },
    {
     "name": "stdout",
     "output_type": "stream",
     "text": [
      "Validation dice loss: 1.5852792263031006, IoU Score 0.35314318537712097\n"
     ]
    },
    {
     "name": "stderr",
     "output_type": "stream",
     "text": [
      "Epoch 42/60:  25%|██▌       | 114/456 [00:34<00:59,  5.74img/s, loss (batch)=0.252]"
     ]
    },
    {
     "name": "stdout",
     "output_type": "stream",
     "text": [
      "Validation round\n"
     ]
    },
    {
     "name": "stderr",
     "output_type": "stream",
     "text": [
      "Validation round: 100%|██████████| 115/115 [00:13<00:00,  8.76batch/s]\n"
     ]
    },
    {
     "name": "stdout",
     "output_type": "stream",
     "text": [
      "Validation dice loss: 1.9185166358947754, IoU Score 0.3261810541152954\n"
     ]
    },
    {
     "name": "stderr",
     "output_type": "stream",
     "text": [
      "Epoch 42/60:  45%|████▍     | 204/456 [01:04<00:43,  5.74img/s, loss (batch)=0.259]"
     ]
    },
    {
     "name": "stdout",
     "output_type": "stream",
     "text": [
      "Validation round\n"
     ]
    },
    {
     "name": "stderr",
     "output_type": "stream",
     "text": [
      "Validation round: 100%|██████████| 115/115 [00:13<00:00,  8.77batch/s]\n"
     ]
    },
    {
     "name": "stdout",
     "output_type": "stream",
     "text": [
      "Validation dice loss: 2.153038740158081, IoU Score 0.23116181790828705\n"
     ]
    },
    {
     "name": "stderr",
     "output_type": "stream",
     "text": [
      "Epoch 42/60:  64%|██████▍   | 294/456 [01:35<00:28,  5.64img/s, loss (batch)=0.325]"
     ]
    },
    {
     "name": "stdout",
     "output_type": "stream",
     "text": [
      "Validation round\n"
     ]
    },
    {
     "name": "stderr",
     "output_type": "stream",
     "text": [
      "Validation round: 100%|██████████| 115/115 [00:13<00:00,  8.78batch/s]\n"
     ]
    },
    {
     "name": "stdout",
     "output_type": "stream",
     "text": [
      "Validation dice loss: 1.1466103792190552, IoU Score 0.4194106459617615\n"
     ]
    },
    {
     "name": "stderr",
     "output_type": "stream",
     "text": [
      "Epoch 42/60:  84%|████████▍ | 384/456 [02:05<00:12,  5.95img/s, loss (batch)=0.199]"
     ]
    },
    {
     "name": "stdout",
     "output_type": "stream",
     "text": [
      "Validation round\n"
     ]
    },
    {
     "name": "stderr",
     "output_type": "stream",
     "text": [
      "Validation round: 100%|██████████| 115/115 [00:13<00:00,  8.74batch/s]\n"
     ]
    },
    {
     "name": "stdout",
     "output_type": "stream",
     "text": [
      "Validation dice loss: 1.5567610263824463, IoU Score 0.31881147623062134\n"
     ]
    },
    {
     "name": "stderr",
     "output_type": "stream",
     "text": [
      "Epoch 42/60: 100%|██████████| 456/456 [02:32<00:00,  3.00img/s, loss (batch)=0.199]\n",
      "Epoch 43/60:   4%|▍         | 18/456 [00:03<01:16,  5.76img/s, loss (batch)=0.292]"
     ]
    },
    {
     "name": "stdout",
     "output_type": "stream",
     "text": [
      "Validation round\n"
     ]
    },
    {
     "name": "stderr",
     "output_type": "stream",
     "text": [
      "Validation round: 100%|██████████| 115/115 [00:13<00:00,  8.75batch/s]\n"
     ]
    },
    {
     "name": "stdout",
     "output_type": "stream",
     "text": [
      "Validation dice loss: 1.270632266998291, IoU Score 0.4183070659637451\n"
     ]
    },
    {
     "name": "stderr",
     "output_type": "stream",
     "text": [
      "Epoch 43/60:  24%|██▎       | 108/456 [00:33<00:58,  5.93img/s, loss (batch)=0.255]"
     ]
    },
    {
     "name": "stdout",
     "output_type": "stream",
     "text": [
      "Validation round\n"
     ]
    },
    {
     "name": "stderr",
     "output_type": "stream",
     "text": [
      "Validation round: 100%|██████████| 115/115 [00:13<00:00,  8.81batch/s]\n"
     ]
    },
    {
     "name": "stdout",
     "output_type": "stream",
     "text": [
      "Validation dice loss: 1.4673212766647339, IoU Score 0.3660741150379181\n"
     ]
    },
    {
     "name": "stderr",
     "output_type": "stream",
     "text": [
      "Epoch 43/60:  43%|████▎     | 198/456 [01:03<00:44,  5.75img/s, loss (batch)=0.323]"
     ]
    },
    {
     "name": "stdout",
     "output_type": "stream",
     "text": [
      "Validation round\n"
     ]
    },
    {
     "name": "stderr",
     "output_type": "stream",
     "text": [
      "Validation round: 100%|██████████| 115/115 [00:13<00:00,  8.82batch/s]\n"
     ]
    },
    {
     "name": "stdout",
     "output_type": "stream",
     "text": [
      "Validation dice loss: 1.2271864414215088, IoU Score 0.42532771825790405\n"
     ]
    },
    {
     "name": "stderr",
     "output_type": "stream",
     "text": [
      "Epoch 43/60:  63%|██████▎   | 288/456 [01:33<00:29,  5.74img/s, loss (batch)=0.242]"
     ]
    },
    {
     "name": "stdout",
     "output_type": "stream",
     "text": [
      "Validation round\n"
     ]
    },
    {
     "name": "stderr",
     "output_type": "stream",
     "text": [
      "Validation round: 100%|██████████| 115/115 [00:13<00:00,  8.83batch/s]\n"
     ]
    },
    {
     "name": "stdout",
     "output_type": "stream",
     "text": [
      "Validation dice loss: 1.300317645072937, IoU Score 0.4032175838947296\n"
     ]
    },
    {
     "name": "stderr",
     "output_type": "stream",
     "text": [
      "Epoch 43/60:  83%|████████▎ | 378/456 [02:03<00:13,  5.80img/s, loss (batch)=0.42] "
     ]
    },
    {
     "name": "stdout",
     "output_type": "stream",
     "text": [
      "Validation round\n"
     ]
    },
    {
     "name": "stderr",
     "output_type": "stream",
     "text": [
      "Validation round: 100%|██████████| 115/115 [00:13<00:00,  8.81batch/s]\n"
     ]
    },
    {
     "name": "stdout",
     "output_type": "stream",
     "text": [
      "Validation dice loss: 1.4530342817306519, IoU Score 0.387106329202652\n"
     ]
    },
    {
     "name": "stderr",
     "output_type": "stream",
     "text": [
      "Epoch 43/60: 100%|██████████| 456/456 [02:31<00:00,  3.01img/s, loss (batch)=0.211]\n",
      "Epoch 44/60:   3%|▎         | 12/456 [00:02<01:15,  5.86img/s, loss (batch)=0.201]"
     ]
    },
    {
     "name": "stdout",
     "output_type": "stream",
     "text": [
      "Validation round\n"
     ]
    },
    {
     "name": "stderr",
     "output_type": "stream",
     "text": [
      "Validation round: 100%|██████████| 115/115 [00:13<00:00,  8.80batch/s]\n"
     ]
    },
    {
     "name": "stdout",
     "output_type": "stream",
     "text": [
      "Validation dice loss: 1.7983123064041138, IoU Score 0.32439208030700684\n"
     ]
    },
    {
     "name": "stderr",
     "output_type": "stream",
     "text": [
      "Epoch 44/60:  22%|██▏       | 102/456 [00:32<01:01,  5.77img/s, loss (batch)=0.489]"
     ]
    },
    {
     "name": "stdout",
     "output_type": "stream",
     "text": [
      "Validation round\n"
     ]
    },
    {
     "name": "stderr",
     "output_type": "stream",
     "text": [
      "Validation round: 100%|██████████| 115/115 [00:13<00:00,  8.81batch/s]\n"
     ]
    },
    {
     "name": "stdout",
     "output_type": "stream",
     "text": [
      "Validation dice loss: 1.8576624393463135, IoU Score 0.3231891393661499\n"
     ]
    },
    {
     "name": "stderr",
     "output_type": "stream",
     "text": [
      "Epoch 44/60:  42%|████▏     | 192/456 [01:02<00:48,  5.42img/s, loss (batch)=0.153]"
     ]
    },
    {
     "name": "stdout",
     "output_type": "stream",
     "text": [
      "Validation round\n"
     ]
    },
    {
     "name": "stderr",
     "output_type": "stream",
     "text": [
      "Validation round: 100%|██████████| 115/115 [00:13<00:00,  8.79batch/s]\n"
     ]
    },
    {
     "name": "stdout",
     "output_type": "stream",
     "text": [
      "Validation dice loss: 1.8340986967086792, IoU Score 0.29050418734550476\n"
     ]
    },
    {
     "name": "stderr",
     "output_type": "stream",
     "text": [
      "Epoch 44/60:  62%|██████▏   | 282/456 [01:32<00:30,  5.75img/s, loss (batch)=0.251]"
     ]
    },
    {
     "name": "stdout",
     "output_type": "stream",
     "text": [
      "Validation round\n"
     ]
    },
    {
     "name": "stderr",
     "output_type": "stream",
     "text": [
      "Validation round: 100%|██████████| 115/115 [00:13<00:00,  8.78batch/s]\n"
     ]
    },
    {
     "name": "stdout",
     "output_type": "stream",
     "text": [
      "Validation dice loss: 2.614814519882202, IoU Score 0.2422143518924713\n"
     ]
    },
    {
     "name": "stderr",
     "output_type": "stream",
     "text": [
      "Epoch 44/60:  82%|████████▏ | 372/456 [02:02<00:14,  5.73img/s, loss (batch)=0.471]"
     ]
    },
    {
     "name": "stdout",
     "output_type": "stream",
     "text": [
      "Validation round\n"
     ]
    },
    {
     "name": "stderr",
     "output_type": "stream",
     "text": [
      "Validation round: 100%|██████████| 115/115 [00:13<00:00,  8.80batch/s]\n"
     ]
    },
    {
     "name": "stdout",
     "output_type": "stream",
     "text": [
      "Validation dice loss: 1.7681726217269897, IoU Score 0.31437069177627563\n"
     ]
    },
    {
     "name": "stderr",
     "output_type": "stream",
     "text": [
      "Epoch 44/60: 100%|██████████| 456/456 [02:31<00:00,  3.01img/s, loss (batch)=0.273]\n",
      "Epoch 45/60:   1%|▏         | 6/456 [00:01<01:16,  5.85img/s, loss (batch)=0.262]"
     ]
    },
    {
     "name": "stdout",
     "output_type": "stream",
     "text": [
      "Validation round\n"
     ]
    },
    {
     "name": "stderr",
     "output_type": "stream",
     "text": [
      "Validation round: 100%|██████████| 115/115 [00:13<00:00,  8.78batch/s]\n"
     ]
    },
    {
     "name": "stdout",
     "output_type": "stream",
     "text": [
      "Validation dice loss: 1.443686604499817, IoU Score 0.36199405789375305\n"
     ]
    },
    {
     "name": "stderr",
     "output_type": "stream",
     "text": [
      "Epoch 45/60:  21%|██        | 96/456 [00:31<01:01,  5.89img/s, loss (batch)=0.232]"
     ]
    },
    {
     "name": "stdout",
     "output_type": "stream",
     "text": [
      "Validation round\n"
     ]
    },
    {
     "name": "stderr",
     "output_type": "stream",
     "text": [
      "Validation round: 100%|██████████| 115/115 [00:13<00:00,  8.81batch/s]\n"
     ]
    },
    {
     "name": "stdout",
     "output_type": "stream",
     "text": [
      "Validation dice loss: 1.5131676197052002, IoU Score 0.3693440556526184\n"
     ]
    },
    {
     "name": "stderr",
     "output_type": "stream",
     "text": [
      "Epoch 45/60:  41%|████      | 186/456 [01:01<00:46,  5.76img/s, loss (batch)=0.539]"
     ]
    },
    {
     "name": "stdout",
     "output_type": "stream",
     "text": [
      "Validation round\n"
     ]
    },
    {
     "name": "stderr",
     "output_type": "stream",
     "text": [
      "Validation round: 100%|██████████| 115/115 [00:13<00:00,  8.84batch/s]\n"
     ]
    },
    {
     "name": "stdout",
     "output_type": "stream",
     "text": [
      "Validation dice loss: 2.517807722091675, IoU Score 0.231504887342453\n"
     ]
    },
    {
     "name": "stderr",
     "output_type": "stream",
     "text": [
      "Epoch 45/60:  61%|██████    | 276/456 [01:31<00:30,  5.84img/s, loss (batch)=0.24] "
     ]
    },
    {
     "name": "stdout",
     "output_type": "stream",
     "text": [
      "Validation round\n"
     ]
    },
    {
     "name": "stderr",
     "output_type": "stream",
     "text": [
      "Validation round: 100%|██████████| 115/115 [00:13<00:00,  8.81batch/s]\n"
     ]
    },
    {
     "name": "stdout",
     "output_type": "stream",
     "text": [
      "Validation dice loss: 1.1250461339950562, IoU Score 0.43617549538612366\n"
     ]
    },
    {
     "name": "stderr",
     "output_type": "stream",
     "text": [
      "Epoch 45/60:  80%|████████  | 366/456 [02:01<00:15,  5.76img/s, loss (batch)=0.206]"
     ]
    },
    {
     "name": "stdout",
     "output_type": "stream",
     "text": [
      "Validation round\n"
     ]
    },
    {
     "name": "stderr",
     "output_type": "stream",
     "text": [
      "Validation round: 100%|██████████| 115/115 [00:13<00:00,  8.80batch/s]\n"
     ]
    },
    {
     "name": "stdout",
     "output_type": "stream",
     "text": [
      "Validation dice loss: 1.7160136699676514, IoU Score 0.35290855169296265\n"
     ]
    },
    {
     "name": "stderr",
     "output_type": "stream",
     "text": [
      "Epoch 45/60: 100%|██████████| 456/456 [02:31<00:00,  5.75img/s, loss (batch)=0.203]"
     ]
    },
    {
     "name": "stdout",
     "output_type": "stream",
     "text": [
      "Validation round\n"
     ]
    },
    {
     "name": "stderr",
     "output_type": "stream",
     "text": [
      "Validation round: 100%|██████████| 115/115 [00:13<00:00,  8.75batch/s]\n",
      "Epoch 45/60: 100%|██████████| 456/456 [02:45<00:00,  2.75img/s, loss (batch)=0.203]\n"
     ]
    },
    {
     "name": "stdout",
     "output_type": "stream",
     "text": [
      "Validation dice loss: 1.3608564138412476, IoU Score 0.4072214365005493\n"
     ]
    },
    {
     "name": "stderr",
     "output_type": "stream",
     "text": [
      "Epoch 46/60:  20%|█▉        | 90/456 [00:15<01:03,  5.77img/s, loss (batch)=0.201]"
     ]
    },
    {
     "name": "stdout",
     "output_type": "stream",
     "text": [
      "Validation round\n"
     ]
    },
    {
     "name": "stderr",
     "output_type": "stream",
     "text": [
      "Validation round: 100%|██████████| 115/115 [00:13<00:00,  8.76batch/s]\n"
     ]
    },
    {
     "name": "stdout",
     "output_type": "stream",
     "text": [
      "Validation dice loss: 1.377376914024353, IoU Score 0.39659079909324646\n"
     ]
    },
    {
     "name": "stderr",
     "output_type": "stream",
     "text": [
      "Epoch 46/60:  39%|███▉      | 180/456 [00:45<00:46,  5.91img/s, loss (batch)=0.285]"
     ]
    },
    {
     "name": "stdout",
     "output_type": "stream",
     "text": [
      "Validation round\n"
     ]
    },
    {
     "name": "stderr",
     "output_type": "stream",
     "text": [
      "Validation round: 100%|██████████| 115/115 [00:13<00:00,  8.74batch/s]\n"
     ]
    },
    {
     "name": "stdout",
     "output_type": "stream",
     "text": [
      "Validation dice loss: 1.4487701654434204, IoU Score 0.38759684562683105\n"
     ]
    },
    {
     "name": "stderr",
     "output_type": "stream",
     "text": [
      "Epoch 46/60:  59%|█████▉    | 270/456 [01:15<00:31,  5.91img/s, loss (batch)=0.295]"
     ]
    },
    {
     "name": "stdout",
     "output_type": "stream",
     "text": [
      "Validation round\n"
     ]
    },
    {
     "name": "stderr",
     "output_type": "stream",
     "text": [
      "Validation round: 100%|██████████| 115/115 [00:13<00:00,  8.75batch/s]\n"
     ]
    },
    {
     "name": "stdout",
     "output_type": "stream",
     "text": [
      "Validation dice loss: 1.5126713514328003, IoU Score 0.3662160336971283\n"
     ]
    },
    {
     "name": "stderr",
     "output_type": "stream",
     "text": [
      "Epoch 46/60:  79%|███████▉  | 360/456 [01:46<00:16,  5.72img/s, loss (batch)=0.26] "
     ]
    },
    {
     "name": "stdout",
     "output_type": "stream",
     "text": [
      "Validation round\n"
     ]
    },
    {
     "name": "stderr",
     "output_type": "stream",
     "text": [
      "Validation round: 100%|██████████| 115/115 [00:13<00:00,  8.78batch/s]\n"
     ]
    },
    {
     "name": "stdout",
     "output_type": "stream",
     "text": [
      "Validation dice loss: 1.8176138401031494, IoU Score 0.31351038813591003\n"
     ]
    },
    {
     "name": "stderr",
     "output_type": "stream",
     "text": [
      "Epoch 46/60:  99%|█████████▊| 450/456 [02:16<00:01,  5.95img/s, loss (batch)=0.291]"
     ]
    },
    {
     "name": "stdout",
     "output_type": "stream",
     "text": [
      "Validation round\n"
     ]
    },
    {
     "name": "stderr",
     "output_type": "stream",
     "text": [
      "Validation round: 100%|██████████| 115/115 [00:13<00:00,  8.81batch/s]\n"
     ]
    },
    {
     "name": "stdout",
     "output_type": "stream",
     "text": [
      "Validation dice loss: 1.1542701721191406, IoU Score 0.45079970359802246\n"
     ]
    },
    {
     "name": "stderr",
     "output_type": "stream",
     "text": [
      "Epoch 46/60: 100%|██████████| 456/456 [02:31<00:00,  3.00img/s, loss (batch)=0.335]\n",
      "Epoch 47/60:  18%|█▊        | 84/456 [00:14<01:03,  5.87img/s, loss (batch)=0.181]"
     ]
    },
    {
     "name": "stdout",
     "output_type": "stream",
     "text": [
      "Validation round\n"
     ]
    },
    {
     "name": "stderr",
     "output_type": "stream",
     "text": [
      "Validation round: 100%|██████████| 115/115 [00:13<00:00,  8.80batch/s]\n"
     ]
    },
    {
     "name": "stdout",
     "output_type": "stream",
     "text": [
      "Validation dice loss: 1.6337049007415771, IoU Score 0.34044134616851807\n"
     ]
    },
    {
     "name": "stderr",
     "output_type": "stream",
     "text": [
      "Epoch 47/60:  38%|███▊      | 174/456 [00:44<00:48,  5.84img/s, loss (batch)=0.169]"
     ]
    },
    {
     "name": "stdout",
     "output_type": "stream",
     "text": [
      "Validation round\n"
     ]
    },
    {
     "name": "stderr",
     "output_type": "stream",
     "text": [
      "Validation round: 100%|██████████| 115/115 [00:13<00:00,  8.83batch/s]\n"
     ]
    },
    {
     "name": "stdout",
     "output_type": "stream",
     "text": [
      "Validation dice loss: 1.4265363216400146, IoU Score 0.3697809875011444\n"
     ]
    },
    {
     "name": "stderr",
     "output_type": "stream",
     "text": [
      "Epoch 47/60:  58%|█████▊    | 264/456 [01:14<00:33,  5.71img/s, loss (batch)=0.234]"
     ]
    },
    {
     "name": "stdout",
     "output_type": "stream",
     "text": [
      "Validation round\n"
     ]
    },
    {
     "name": "stderr",
     "output_type": "stream",
     "text": [
      "Validation round: 100%|██████████| 115/115 [00:13<00:00,  8.80batch/s]\n"
     ]
    },
    {
     "name": "stdout",
     "output_type": "stream",
     "text": [
      "Validation dice loss: 1.2698503732681274, IoU Score 0.42857593297958374\n"
     ]
    },
    {
     "name": "stderr",
     "output_type": "stream",
     "text": [
      "Epoch 47/60:  78%|███████▊  | 354/456 [01:44<00:17,  5.88img/s, loss (batch)=0.228]"
     ]
    },
    {
     "name": "stdout",
     "output_type": "stream",
     "text": [
      "Validation round\n"
     ]
    },
    {
     "name": "stderr",
     "output_type": "stream",
     "text": [
      "Validation round: 100%|██████████| 115/115 [00:13<00:00,  8.78batch/s]\n"
     ]
    },
    {
     "name": "stdout",
     "output_type": "stream",
     "text": [
      "Validation dice loss: 2.1882388591766357, IoU Score 0.2854797840118408\n"
     ]
    },
    {
     "name": "stderr",
     "output_type": "stream",
     "text": [
      "Epoch 47/60:  97%|█████████▋| 444/456 [02:14<00:02,  5.77img/s, loss (batch)=0.195]"
     ]
    },
    {
     "name": "stdout",
     "output_type": "stream",
     "text": [
      "Validation round\n"
     ]
    },
    {
     "name": "stderr",
     "output_type": "stream",
     "text": [
      "Validation round: 100%|██████████| 115/115 [00:13<00:00,  8.83batch/s]\n"
     ]
    },
    {
     "name": "stdout",
     "output_type": "stream",
     "text": [
      "Validation dice loss: 2.1133370399475098, IoU Score 0.2787550091743469\n"
     ]
    },
    {
     "name": "stderr",
     "output_type": "stream",
     "text": [
      "Epoch 47/60: 100%|██████████| 456/456 [02:31<00:00,  3.01img/s, loss (batch)=0.183]\n",
      "Epoch 48/60:  17%|█▋        | 78/456 [00:13<01:04,  5.85img/s, loss (batch)=0.236]"
     ]
    },
    {
     "name": "stdout",
     "output_type": "stream",
     "text": [
      "Validation round\n"
     ]
    },
    {
     "name": "stderr",
     "output_type": "stream",
     "text": [
      "Validation round: 100%|██████████| 115/115 [00:13<00:00,  8.77batch/s]\n"
     ]
    },
    {
     "name": "stdout",
     "output_type": "stream",
     "text": [
      "Validation dice loss: 1.55747389793396, IoU Score 0.35150980949401855\n"
     ]
    },
    {
     "name": "stderr",
     "output_type": "stream",
     "text": [
      "Epoch 48/60:  37%|███▋      | 168/456 [00:43<00:49,  5.82img/s, loss (batch)=0.183]"
     ]
    },
    {
     "name": "stdout",
     "output_type": "stream",
     "text": [
      "Validation round\n"
     ]
    },
    {
     "name": "stderr",
     "output_type": "stream",
     "text": [
      "Validation round: 100%|██████████| 115/115 [00:13<00:00,  8.83batch/s]\n"
     ]
    },
    {
     "name": "stdout",
     "output_type": "stream",
     "text": [
      "Validation dice loss: 1.5282219648361206, IoU Score 0.3621639907360077\n"
     ]
    },
    {
     "name": "stderr",
     "output_type": "stream",
     "text": [
      "Epoch 48/60:  57%|█████▋    | 258/456 [01:13<00:34,  5.72img/s, loss (batch)=0.218]"
     ]
    },
    {
     "name": "stdout",
     "output_type": "stream",
     "text": [
      "Validation round\n"
     ]
    },
    {
     "name": "stderr",
     "output_type": "stream",
     "text": [
      "Validation round: 100%|██████████| 115/115 [00:13<00:00,  8.83batch/s]\n"
     ]
    },
    {
     "name": "stdout",
     "output_type": "stream",
     "text": [
      "Validation dice loss: 1.4412058591842651, IoU Score 0.3632034361362457\n"
     ]
    },
    {
     "name": "stderr",
     "output_type": "stream",
     "text": [
      "Epoch 48/60:  76%|███████▋  | 348/456 [01:44<00:18,  5.76img/s, loss (batch)=0.31] "
     ]
    },
    {
     "name": "stdout",
     "output_type": "stream",
     "text": [
      "Validation round\n"
     ]
    },
    {
     "name": "stderr",
     "output_type": "stream",
     "text": [
      "Validation round: 100%|██████████| 115/115 [00:13<00:00,  8.83batch/s]\n"
     ]
    },
    {
     "name": "stdout",
     "output_type": "stream",
     "text": [
      "Validation dice loss: 1.708601951599121, IoU Score 0.3339589238166809\n"
     ]
    },
    {
     "name": "stderr",
     "output_type": "stream",
     "text": [
      "Epoch 48/60:  96%|█████████▌| 438/456 [02:14<00:03,  5.80img/s, loss (batch)=0.375]"
     ]
    },
    {
     "name": "stdout",
     "output_type": "stream",
     "text": [
      "Validation round\n"
     ]
    },
    {
     "name": "stderr",
     "output_type": "stream",
     "text": [
      "Validation round: 100%|██████████| 115/115 [00:13<00:00,  8.82batch/s]\n"
     ]
    },
    {
     "name": "stdout",
     "output_type": "stream",
     "text": [
      "Validation dice loss: 1.530874252319336, IoU Score 0.3522258698940277\n"
     ]
    },
    {
     "name": "stderr",
     "output_type": "stream",
     "text": [
      "Epoch 48/60: 100%|██████████| 456/456 [02:31<00:00,  3.01img/s, loss (batch)=0.219]\n",
      "Epoch 49/60:  16%|█▌        | 72/456 [00:12<01:06,  5.75img/s, loss (batch)=0.254]"
     ]
    },
    {
     "name": "stdout",
     "output_type": "stream",
     "text": [
      "Validation round\n"
     ]
    },
    {
     "name": "stderr",
     "output_type": "stream",
     "text": [
      "Validation round: 100%|██████████| 115/115 [00:13<00:00,  8.79batch/s]\n"
     ]
    },
    {
     "name": "stdout",
     "output_type": "stream",
     "text": [
      "Validation dice loss: 1.1504334211349487, IoU Score 0.4583472013473511\n"
     ]
    },
    {
     "name": "stderr",
     "output_type": "stream",
     "text": [
      "Epoch 49/60:  36%|███▌      | 162/456 [00:42<00:51,  5.73img/s, loss (batch)=0.6]  "
     ]
    },
    {
     "name": "stdout",
     "output_type": "stream",
     "text": [
      "Validation round\n"
     ]
    },
    {
     "name": "stderr",
     "output_type": "stream",
     "text": [
      "Validation round: 100%|██████████| 115/115 [00:13<00:00,  8.78batch/s]\n"
     ]
    },
    {
     "name": "stdout",
     "output_type": "stream",
     "text": [
      "Validation dice loss: 1.7686876058578491, IoU Score 0.29040393233299255\n"
     ]
    },
    {
     "name": "stderr",
     "output_type": "stream",
     "text": [
      "Epoch 49/60:  55%|█████▌    | 252/456 [01:12<00:35,  5.73img/s, loss (batch)=0.239]"
     ]
    },
    {
     "name": "stdout",
     "output_type": "stream",
     "text": [
      "Validation round\n"
     ]
    },
    {
     "name": "stderr",
     "output_type": "stream",
     "text": [
      "Validation round: 100%|██████████| 115/115 [00:13<00:00,  8.77batch/s]\n"
     ]
    },
    {
     "name": "stdout",
     "output_type": "stream",
     "text": [
      "Validation dice loss: 1.0810062885284424, IoU Score 0.4929603636264801\n"
     ]
    },
    {
     "name": "stderr",
     "output_type": "stream",
     "text": [
      "Epoch 49/60:  75%|███████▌  | 342/456 [01:42<00:19,  5.86img/s, loss (batch)=0.292]"
     ]
    },
    {
     "name": "stdout",
     "output_type": "stream",
     "text": [
      "Validation round\n"
     ]
    },
    {
     "name": "stderr",
     "output_type": "stream",
     "text": [
      "Validation round: 100%|██████████| 115/115 [00:12<00:00,  8.85batch/s]\n"
     ]
    },
    {
     "name": "stdout",
     "output_type": "stream",
     "text": [
      "Validation dice loss: 1.9650534391403198, IoU Score 0.32760173082351685\n"
     ]
    },
    {
     "name": "stderr",
     "output_type": "stream",
     "text": [
      "Epoch 49/60:  95%|█████████▍| 432/456 [02:12<00:04,  5.84img/s, loss (batch)=0.258]"
     ]
    },
    {
     "name": "stdout",
     "output_type": "stream",
     "text": [
      "Validation round\n"
     ]
    },
    {
     "name": "stderr",
     "output_type": "stream",
     "text": [
      "Validation round: 100%|██████████| 115/115 [00:13<00:00,  8.83batch/s]\n"
     ]
    },
    {
     "name": "stdout",
     "output_type": "stream",
     "text": [
      "Validation dice loss: 1.3066295385360718, IoU Score 0.438804030418396\n"
     ]
    },
    {
     "name": "stderr",
     "output_type": "stream",
     "text": [
      "Epoch 49/60: 100%|██████████| 456/456 [02:31<00:00,  3.02img/s, loss (batch)=0.241]\n",
      "Epoch 50/60:  14%|█▍        | 66/456 [00:11<01:08,  5.73img/s, loss (batch)=0.234]"
     ]
    },
    {
     "name": "stdout",
     "output_type": "stream",
     "text": [
      "Validation round\n"
     ]
    },
    {
     "name": "stderr",
     "output_type": "stream",
     "text": [
      "Validation round: 100%|██████████| 115/115 [00:13<00:00,  8.83batch/s]\n"
     ]
    },
    {
     "name": "stdout",
     "output_type": "stream",
     "text": [
      "Validation dice loss: 1.4219517707824707, IoU Score 0.38421139121055603\n"
     ]
    },
    {
     "name": "stderr",
     "output_type": "stream",
     "text": [
      "Epoch 50/60:  34%|███▍      | 156/456 [00:41<00:51,  5.77img/s, loss (batch)=0.224]"
     ]
    },
    {
     "name": "stdout",
     "output_type": "stream",
     "text": [
      "Validation round\n"
     ]
    },
    {
     "name": "stderr",
     "output_type": "stream",
     "text": [
      "Validation round: 100%|██████████| 115/115 [00:12<00:00,  8.85batch/s]\n"
     ]
    },
    {
     "name": "stdout",
     "output_type": "stream",
     "text": [
      "Validation dice loss: 2.048649787902832, IoU Score 0.2958052456378937\n"
     ]
    },
    {
     "name": "stderr",
     "output_type": "stream",
     "text": [
      "Epoch 50/60:  54%|█████▍    | 246/456 [01:11<00:36,  5.75img/s, loss (batch)=0.18] "
     ]
    },
    {
     "name": "stdout",
     "output_type": "stream",
     "text": [
      "Validation round\n"
     ]
    },
    {
     "name": "stderr",
     "output_type": "stream",
     "text": [
      "Validation round: 100%|██████████| 115/115 [00:13<00:00,  8.79batch/s]\n"
     ]
    },
    {
     "name": "stdout",
     "output_type": "stream",
     "text": [
      "Validation dice loss: 2.423525810241699, IoU Score 0.2706608772277832\n"
     ]
    },
    {
     "name": "stderr",
     "output_type": "stream",
     "text": [
      "Epoch 50/60:  74%|███████▎  | 336/456 [01:41<00:20,  5.82img/s, loss (batch)=0.295]"
     ]
    },
    {
     "name": "stdout",
     "output_type": "stream",
     "text": [
      "Validation round\n"
     ]
    },
    {
     "name": "stderr",
     "output_type": "stream",
     "text": [
      "Validation round: 100%|██████████| 115/115 [00:13<00:00,  8.75batch/s]\n"
     ]
    },
    {
     "name": "stdout",
     "output_type": "stream",
     "text": [
      "Validation dice loss: 1.1920541524887085, IoU Score 0.43846365809440613\n"
     ]
    },
    {
     "name": "stderr",
     "output_type": "stream",
     "text": [
      "Epoch 50/60:  93%|█████████▎| 426/456 [02:11<00:05,  5.87img/s, loss (batch)=0.182]"
     ]
    },
    {
     "name": "stdout",
     "output_type": "stream",
     "text": [
      "Validation round\n"
     ]
    },
    {
     "name": "stderr",
     "output_type": "stream",
     "text": [
      "Validation round: 100%|██████████| 115/115 [00:13<00:00,  8.75batch/s]\n"
     ]
    },
    {
     "name": "stdout",
     "output_type": "stream",
     "text": [
      "Validation dice loss: 1.2696372270584106, IoU Score 0.40285927057266235\n"
     ]
    },
    {
     "name": "stderr",
     "output_type": "stream",
     "text": [
      "Epoch 50/60: 100%|██████████| 456/456 [02:31<00:00,  3.01img/s, loss (batch)=0.292]\n",
      "Epoch 51/60:  13%|█▎        | 60/456 [00:10<01:07,  5.84img/s, loss (batch)=0.139]"
     ]
    },
    {
     "name": "stdout",
     "output_type": "stream",
     "text": [
      "Validation round\n"
     ]
    },
    {
     "name": "stderr",
     "output_type": "stream",
     "text": [
      "Validation round: 100%|██████████| 115/115 [00:13<00:00,  8.77batch/s]\n"
     ]
    },
    {
     "name": "stdout",
     "output_type": "stream",
     "text": [
      "Validation dice loss: 1.3097245693206787, IoU Score 0.3971191942691803\n"
     ]
    },
    {
     "name": "stderr",
     "output_type": "stream",
     "text": [
      "Epoch 51/60:  33%|███▎      | 150/456 [00:40<00:53,  5.75img/s, loss (batch)=0.228]"
     ]
    },
    {
     "name": "stdout",
     "output_type": "stream",
     "text": [
      "Validation round\n"
     ]
    },
    {
     "name": "stderr",
     "output_type": "stream",
     "text": [
      "Validation round: 100%|██████████| 115/115 [00:13<00:00,  8.79batch/s]\n"
     ]
    },
    {
     "name": "stdout",
     "output_type": "stream",
     "text": [
      "Validation dice loss: 1.419365406036377, IoU Score 0.3863828182220459\n"
     ]
    },
    {
     "name": "stderr",
     "output_type": "stream",
     "text": [
      "Epoch 51/60:  53%|█████▎    | 240/456 [01:10<00:37,  5.79img/s, loss (batch)=0.143]"
     ]
    },
    {
     "name": "stdout",
     "output_type": "stream",
     "text": [
      "Validation round\n"
     ]
    },
    {
     "name": "stderr",
     "output_type": "stream",
     "text": [
      "Validation round: 100%|██████████| 115/115 [00:13<00:00,  8.80batch/s]\n"
     ]
    },
    {
     "name": "stdout",
     "output_type": "stream",
     "text": [
      "Validation dice loss: 1.358216404914856, IoU Score 0.4116206169128418\n"
     ]
    },
    {
     "name": "stderr",
     "output_type": "stream",
     "text": [
      "Epoch 51/60:  72%|███████▏  | 330/456 [01:40<00:21,  5.80img/s, loss (batch)=0.294]"
     ]
    },
    {
     "name": "stdout",
     "output_type": "stream",
     "text": [
      "Validation round\n"
     ]
    },
    {
     "name": "stderr",
     "output_type": "stream",
     "text": [
      "Validation round: 100%|██████████| 115/115 [00:13<00:00,  8.79batch/s]\n"
     ]
    },
    {
     "name": "stdout",
     "output_type": "stream",
     "text": [
      "Validation dice loss: 1.2426763772964478, IoU Score 0.4343319535255432\n"
     ]
    },
    {
     "name": "stderr",
     "output_type": "stream",
     "text": [
      "Epoch 51/60:  92%|█████████▏| 420/456 [02:11<00:06,  5.67img/s, loss (batch)=0.195]"
     ]
    },
    {
     "name": "stdout",
     "output_type": "stream",
     "text": [
      "Validation round\n"
     ]
    },
    {
     "name": "stderr",
     "output_type": "stream",
     "text": [
      "Validation round: 100%|██████████| 115/115 [00:13<00:00,  8.79batch/s]\n"
     ]
    },
    {
     "name": "stdout",
     "output_type": "stream",
     "text": [
      "Validation dice loss: 1.2795696258544922, IoU Score 0.434820294380188\n"
     ]
    },
    {
     "name": "stderr",
     "output_type": "stream",
     "text": [
      "Epoch 51/60: 100%|██████████| 456/456 [02:31<00:00,  3.00img/s, loss (batch)=0.276]\n",
      "Epoch 52/60:  12%|█▏        | 54/456 [00:09<01:08,  5.84img/s, loss (batch)=0.219]"
     ]
    },
    {
     "name": "stdout",
     "output_type": "stream",
     "text": [
      "Validation round\n"
     ]
    },
    {
     "name": "stderr",
     "output_type": "stream",
     "text": [
      "Validation round: 100%|██████████| 115/115 [00:13<00:00,  8.76batch/s]\n"
     ]
    },
    {
     "name": "stdout",
     "output_type": "stream",
     "text": [
      "Validation dice loss: 1.7068265676498413, IoU Score 0.35085245966911316\n"
     ]
    },
    {
     "name": "stderr",
     "output_type": "stream",
     "text": [
      "Epoch 52/60:  32%|███▏      | 144/456 [00:39<00:53,  5.84img/s, loss (batch)=0.162]"
     ]
    },
    {
     "name": "stdout",
     "output_type": "stream",
     "text": [
      "Validation round\n"
     ]
    },
    {
     "name": "stderr",
     "output_type": "stream",
     "text": [
      "Validation round: 100%|██████████| 115/115 [00:13<00:00,  8.77batch/s]\n"
     ]
    },
    {
     "name": "stdout",
     "output_type": "stream",
     "text": [
      "Validation dice loss: 2.508535146713257, IoU Score 0.2581581771373749\n"
     ]
    },
    {
     "name": "stderr",
     "output_type": "stream",
     "text": [
      "Epoch 52/60:  51%|█████▏    | 234/456 [01:09<00:37,  5.84img/s, loss (batch)=0.164]"
     ]
    },
    {
     "name": "stdout",
     "output_type": "stream",
     "text": [
      "Validation round\n"
     ]
    },
    {
     "name": "stderr",
     "output_type": "stream",
     "text": [
      "Validation round: 100%|██████████| 115/115 [00:13<00:00,  8.76batch/s]\n"
     ]
    },
    {
     "name": "stdout",
     "output_type": "stream",
     "text": [
      "Validation dice loss: 1.186368465423584, IoU Score 0.4451560974121094\n"
     ]
    },
    {
     "name": "stderr",
     "output_type": "stream",
     "text": [
      "Epoch 52/60:  71%|███████   | 324/456 [01:39<00:22,  5.81img/s, loss (batch)=0.562]"
     ]
    },
    {
     "name": "stdout",
     "output_type": "stream",
     "text": [
      "Validation round\n"
     ]
    },
    {
     "name": "stderr",
     "output_type": "stream",
     "text": [
      "Validation round: 100%|██████████| 115/115 [00:13<00:00,  8.84batch/s]\n"
     ]
    },
    {
     "name": "stdout",
     "output_type": "stream",
     "text": [
      "Validation dice loss: 1.9456928968429565, IoU Score 0.33203133940696716\n"
     ]
    },
    {
     "name": "stderr",
     "output_type": "stream",
     "text": [
      "Epoch 52/60:  91%|█████████ | 414/456 [02:09<00:07,  5.78img/s, loss (batch)=0.229]"
     ]
    },
    {
     "name": "stdout",
     "output_type": "stream",
     "text": [
      "Validation round\n"
     ]
    },
    {
     "name": "stderr",
     "output_type": "stream",
     "text": [
      "Validation round: 100%|██████████| 115/115 [00:13<00:00,  8.83batch/s]\n"
     ]
    },
    {
     "name": "stdout",
     "output_type": "stream",
     "text": [
      "Validation dice loss: 1.1827596426010132, IoU Score 0.43978995084762573\n"
     ]
    },
    {
     "name": "stderr",
     "output_type": "stream",
     "text": [
      "Epoch 52/60: 100%|██████████| 456/456 [02:31<00:00,  3.01img/s, loss (batch)=0.241]\n",
      "Epoch 53/60:  11%|█         | 48/456 [00:08<01:09,  5.89img/s, loss (batch)=0.153]"
     ]
    },
    {
     "name": "stdout",
     "output_type": "stream",
     "text": [
      "Validation round\n"
     ]
    },
    {
     "name": "stderr",
     "output_type": "stream",
     "text": [
      "Validation round: 100%|██████████| 115/115 [00:13<00:00,  8.82batch/s]\n"
     ]
    },
    {
     "name": "stdout",
     "output_type": "stream",
     "text": [
      "Validation dice loss: 1.1515843868255615, IoU Score 0.4433909058570862\n"
     ]
    },
    {
     "name": "stderr",
     "output_type": "stream",
     "text": [
      "Epoch 53/60:  30%|███       | 138/456 [00:38<00:55,  5.78img/s, loss (batch)=0.189]"
     ]
    },
    {
     "name": "stdout",
     "output_type": "stream",
     "text": [
      "Validation round\n"
     ]
    },
    {
     "name": "stderr",
     "output_type": "stream",
     "text": [
      "Validation round: 100%|██████████| 115/115 [00:12<00:00,  8.86batch/s]\n"
     ]
    },
    {
     "name": "stdout",
     "output_type": "stream",
     "text": [
      "Validation dice loss: 1.3432375192642212, IoU Score 0.39783912897109985\n"
     ]
    },
    {
     "name": "stderr",
     "output_type": "stream",
     "text": [
      "Epoch 53/60:  50%|█████     | 228/456 [01:08<00:39,  5.76img/s, loss (batch)=0.121]"
     ]
    },
    {
     "name": "stdout",
     "output_type": "stream",
     "text": [
      "Validation round\n"
     ]
    },
    {
     "name": "stderr",
     "output_type": "stream",
     "text": [
      "Validation round: 100%|██████████| 115/115 [00:12<00:00,  8.86batch/s]\n"
     ]
    },
    {
     "name": "stdout",
     "output_type": "stream",
     "text": [
      "Validation dice loss: 1.61163330078125, IoU Score 0.3271370232105255\n"
     ]
    },
    {
     "name": "stderr",
     "output_type": "stream",
     "text": [
      "Epoch 53/60:  70%|██████▉   | 318/456 [01:38<00:24,  5.75img/s, loss (batch)=0.22] "
     ]
    },
    {
     "name": "stdout",
     "output_type": "stream",
     "text": [
      "Validation round\n"
     ]
    },
    {
     "name": "stderr",
     "output_type": "stream",
     "text": [
      "Validation round: 100%|██████████| 115/115 [00:13<00:00,  8.77batch/s]\n"
     ]
    },
    {
     "name": "stdout",
     "output_type": "stream",
     "text": [
      "Validation dice loss: 1.7007759809494019, IoU Score 0.35073432326316833\n"
     ]
    },
    {
     "name": "stderr",
     "output_type": "stream",
     "text": [
      "Epoch 53/60:  89%|████████▉ | 408/456 [02:08<00:08,  5.66img/s, loss (batch)=0.154]"
     ]
    },
    {
     "name": "stdout",
     "output_type": "stream",
     "text": [
      "Validation round\n"
     ]
    },
    {
     "name": "stderr",
     "output_type": "stream",
     "text": [
      "Validation round: 100%|██████████| 115/115 [00:13<00:00,  8.78batch/s]\n"
     ]
    },
    {
     "name": "stdout",
     "output_type": "stream",
     "text": [
      "Validation dice loss: 1.3419265747070312, IoU Score 0.3932188153266907\n"
     ]
    },
    {
     "name": "stderr",
     "output_type": "stream",
     "text": [
      "Epoch 53/60: 100%|██████████| 456/456 [02:31<00:00,  3.01img/s, loss (batch)=0.386]\n",
      "Epoch 54/60:   9%|▉         | 42/456 [00:07<01:11,  5.76img/s, loss (batch)=0.299]"
     ]
    },
    {
     "name": "stdout",
     "output_type": "stream",
     "text": [
      "Validation round\n"
     ]
    },
    {
     "name": "stderr",
     "output_type": "stream",
     "text": [
      "Validation round: 100%|██████████| 115/115 [00:12<00:00,  8.85batch/s]\n"
     ]
    },
    {
     "name": "stdout",
     "output_type": "stream",
     "text": [
      "Validation dice loss: 1.8300434350967407, IoU Score 0.3383309543132782\n"
     ]
    },
    {
     "name": "stderr",
     "output_type": "stream",
     "text": [
      "Epoch 54/60:  29%|██▉       | 132/456 [00:37<00:56,  5.74img/s, loss (batch)=0.156]"
     ]
    },
    {
     "name": "stdout",
     "output_type": "stream",
     "text": [
      "Validation round\n"
     ]
    },
    {
     "name": "stderr",
     "output_type": "stream",
     "text": [
      "Validation round: 100%|██████████| 115/115 [00:12<00:00,  8.90batch/s]\n"
     ]
    },
    {
     "name": "stdout",
     "output_type": "stream",
     "text": [
      "Validation dice loss: 1.5153393745422363, IoU Score 0.3993529677391052\n"
     ]
    },
    {
     "name": "stderr",
     "output_type": "stream",
     "text": [
      "Epoch 54/60:  49%|████▊     | 222/456 [01:07<00:39,  5.91img/s, loss (batch)=0.16] "
     ]
    },
    {
     "name": "stdout",
     "output_type": "stream",
     "text": [
      "Validation round\n"
     ]
    },
    {
     "name": "stderr",
     "output_type": "stream",
     "text": [
      "Validation round: 100%|██████████| 115/115 [00:12<00:00,  8.87batch/s]\n"
     ]
    },
    {
     "name": "stdout",
     "output_type": "stream",
     "text": [
      "Validation dice loss: 1.5465419292449951, IoU Score 0.3672371208667755\n"
     ]
    },
    {
     "name": "stderr",
     "output_type": "stream",
     "text": [
      "Epoch 54/60:  68%|██████▊   | 312/456 [01:37<00:25,  5.74img/s, loss (batch)=0.171]"
     ]
    },
    {
     "name": "stdout",
     "output_type": "stream",
     "text": [
      "Validation round\n"
     ]
    },
    {
     "name": "stderr",
     "output_type": "stream",
     "text": [
      "Validation round: 100%|██████████| 115/115 [00:12<00:00,  8.87batch/s]\n"
     ]
    },
    {
     "name": "stdout",
     "output_type": "stream",
     "text": [
      "Validation dice loss: 2.1560988426208496, IoU Score 0.2870243191719055\n"
     ]
    },
    {
     "name": "stderr",
     "output_type": "stream",
     "text": [
      "Epoch 54/60:  88%|████████▊ | 402/456 [02:07<00:09,  5.62img/s, loss (batch)=0.257]"
     ]
    },
    {
     "name": "stdout",
     "output_type": "stream",
     "text": [
      "Validation round\n"
     ]
    },
    {
     "name": "stderr",
     "output_type": "stream",
     "text": [
      "Validation round: 100%|██████████| 115/115 [00:13<00:00,  8.80batch/s]\n"
     ]
    },
    {
     "name": "stdout",
     "output_type": "stream",
     "text": [
      "Validation dice loss: 1.4233148097991943, IoU Score 0.3997270464897156\n"
     ]
    },
    {
     "name": "stderr",
     "output_type": "stream",
     "text": [
      "Epoch 54/60: 100%|██████████| 456/456 [02:31<00:00,  3.02img/s, loss (batch)=0.188]\n",
      "Epoch 55/60:   8%|▊         | 36/456 [00:06<01:11,  5.83img/s, loss (batch)=0.175]"
     ]
    },
    {
     "name": "stdout",
     "output_type": "stream",
     "text": [
      "Validation round\n"
     ]
    },
    {
     "name": "stderr",
     "output_type": "stream",
     "text": [
      "Validation round: 100%|██████████| 115/115 [00:13<00:00,  8.81batch/s]\n"
     ]
    },
    {
     "name": "stdout",
     "output_type": "stream",
     "text": [
      "Validation dice loss: 1.9605296850204468, IoU Score 0.28662264347076416\n"
     ]
    },
    {
     "name": "stderr",
     "output_type": "stream",
     "text": [
      "Epoch 55/60:  28%|██▊       | 126/456 [00:36<00:56,  5.84img/s, loss (batch)=0.173]"
     ]
    },
    {
     "name": "stdout",
     "output_type": "stream",
     "text": [
      "Validation round\n"
     ]
    },
    {
     "name": "stderr",
     "output_type": "stream",
     "text": [
      "Validation round: 100%|██████████| 115/115 [00:13<00:00,  8.79batch/s]\n"
     ]
    },
    {
     "name": "stdout",
     "output_type": "stream",
     "text": [
      "Validation dice loss: 3.1397922039031982, IoU Score 0.18497350811958313\n"
     ]
    },
    {
     "name": "stderr",
     "output_type": "stream",
     "text": [
      "Epoch 55/60:  47%|████▋     | 216/456 [01:06<00:41,  5.75img/s, loss (batch)=0.124]"
     ]
    },
    {
     "name": "stdout",
     "output_type": "stream",
     "text": [
      "Validation round\n"
     ]
    },
    {
     "name": "stderr",
     "output_type": "stream",
     "text": [
      "Validation round: 100%|██████████| 115/115 [00:12<00:00,  8.88batch/s]\n"
     ]
    },
    {
     "name": "stdout",
     "output_type": "stream",
     "text": [
      "Validation dice loss: 1.7309157848358154, IoU Score 0.32430773973464966\n"
     ]
    },
    {
     "name": "stderr",
     "output_type": "stream",
     "text": [
      "Epoch 55/60:  67%|██████▋   | 306/456 [01:36<00:26,  5.73img/s, loss (batch)=0.151]"
     ]
    },
    {
     "name": "stdout",
     "output_type": "stream",
     "text": [
      "Validation round\n"
     ]
    },
    {
     "name": "stderr",
     "output_type": "stream",
     "text": [
      "Validation round: 100%|██████████| 115/115 [00:12<00:00,  8.88batch/s]\n"
     ]
    },
    {
     "name": "stdout",
     "output_type": "stream",
     "text": [
      "Validation dice loss: 1.6742844581604004, IoU Score 0.33474013209342957\n"
     ]
    },
    {
     "name": "stderr",
     "output_type": "stream",
     "text": [
      "Epoch 55/60:  87%|████████▋ | 396/456 [02:06<00:10,  5.73img/s, loss (batch)=0.185]"
     ]
    },
    {
     "name": "stdout",
     "output_type": "stream",
     "text": [
      "Validation round\n"
     ]
    },
    {
     "name": "stderr",
     "output_type": "stream",
     "text": [
      "Validation round: 100%|██████████| 115/115 [00:13<00:00,  8.84batch/s]\n"
     ]
    },
    {
     "name": "stdout",
     "output_type": "stream",
     "text": [
      "Validation dice loss: 1.5604532957077026, IoU Score 0.39152905344963074\n"
     ]
    },
    {
     "name": "stderr",
     "output_type": "stream",
     "text": [
      "Epoch 55/60: 100%|██████████| 456/456 [02:31<00:00,  3.01img/s, loss (batch)=0.252]\n",
      "Epoch 56/60:   7%|▋         | 30/456 [00:05<01:12,  5.87img/s, loss (batch)=0.267]"
     ]
    },
    {
     "name": "stdout",
     "output_type": "stream",
     "text": [
      "Validation round\n"
     ]
    },
    {
     "name": "stderr",
     "output_type": "stream",
     "text": [
      "Validation round: 100%|██████████| 115/115 [00:13<00:00,  8.81batch/s]\n"
     ]
    },
    {
     "name": "stdout",
     "output_type": "stream",
     "text": [
      "Validation dice loss: 1.6286309957504272, IoU Score 0.3497057259082794\n"
     ]
    },
    {
     "name": "stderr",
     "output_type": "stream",
     "text": [
      "Epoch 56/60:  26%|██▋       | 120/456 [00:35<00:58,  5.75img/s, loss (batch)=0.246]"
     ]
    },
    {
     "name": "stdout",
     "output_type": "stream",
     "text": [
      "Validation round\n"
     ]
    },
    {
     "name": "stderr",
     "output_type": "stream",
     "text": [
      "Validation round: 100%|██████████| 115/115 [00:13<00:00,  8.76batch/s]\n"
     ]
    },
    {
     "name": "stdout",
     "output_type": "stream",
     "text": [
      "Validation dice loss: 2.098863363265991, IoU Score 0.31366002559661865\n"
     ]
    },
    {
     "name": "stderr",
     "output_type": "stream",
     "text": [
      "Epoch 56/60:  46%|████▌     | 210/456 [01:05<00:41,  5.88img/s, loss (batch)=0.246]"
     ]
    },
    {
     "name": "stdout",
     "output_type": "stream",
     "text": [
      "Validation round\n"
     ]
    },
    {
     "name": "stderr",
     "output_type": "stream",
     "text": [
      "Validation round: 100%|██████████| 115/115 [00:13<00:00,  8.73batch/s]\n"
     ]
    },
    {
     "name": "stdout",
     "output_type": "stream",
     "text": [
      "Validation dice loss: 1.2134736776351929, IoU Score 0.4037059545516968\n"
     ]
    },
    {
     "name": "stderr",
     "output_type": "stream",
     "text": [
      "Epoch 56/60:  66%|██████▌   | 300/456 [01:35<00:26,  5.79img/s, loss (batch)=0.145]"
     ]
    },
    {
     "name": "stdout",
     "output_type": "stream",
     "text": [
      "Validation round\n"
     ]
    },
    {
     "name": "stderr",
     "output_type": "stream",
     "text": [
      "Validation round: 100%|██████████| 115/115 [00:13<00:00,  8.76batch/s]\n"
     ]
    },
    {
     "name": "stdout",
     "output_type": "stream",
     "text": [
      "Validation dice loss: 1.7469309568405151, IoU Score 0.3356587588787079\n"
     ]
    },
    {
     "name": "stderr",
     "output_type": "stream",
     "text": [
      "Epoch 56/60:  86%|████████▌ | 390/456 [02:05<00:11,  5.64img/s, loss (batch)=0.185]"
     ]
    },
    {
     "name": "stdout",
     "output_type": "stream",
     "text": [
      "Validation round\n"
     ]
    },
    {
     "name": "stderr",
     "output_type": "stream",
     "text": [
      "Validation round: 100%|██████████| 115/115 [00:13<00:00,  8.82batch/s]\n"
     ]
    },
    {
     "name": "stdout",
     "output_type": "stream",
     "text": [
      "Validation dice loss: 2.085186719894409, IoU Score 0.32288193702697754\n"
     ]
    },
    {
     "name": "stderr",
     "output_type": "stream",
     "text": [
      "Epoch 56/60: 100%|██████████| 456/456 [02:31<00:00,  3.01img/s, loss (batch)=0.32]\n",
      "Epoch 57/60:   5%|▌         | 24/456 [00:04<01:13,  5.88img/s, loss (batch)=0.323]"
     ]
    },
    {
     "name": "stdout",
     "output_type": "stream",
     "text": [
      "Validation round\n"
     ]
    },
    {
     "name": "stderr",
     "output_type": "stream",
     "text": [
      "Validation round: 100%|██████████| 115/115 [00:13<00:00,  8.83batch/s]\n"
     ]
    },
    {
     "name": "stdout",
     "output_type": "stream",
     "text": [
      "Validation dice loss: 1.074033498764038, IoU Score 0.49400973320007324\n"
     ]
    },
    {
     "name": "stderr",
     "output_type": "stream",
     "text": [
      "Epoch 57/60:  25%|██▌       | 114/456 [00:34<00:58,  5.86img/s, loss (batch)=0.153]"
     ]
    },
    {
     "name": "stdout",
     "output_type": "stream",
     "text": [
      "Validation round\n"
     ]
    },
    {
     "name": "stderr",
     "output_type": "stream",
     "text": [
      "Validation round: 100%|██████████| 115/115 [00:13<00:00,  8.77batch/s]\n"
     ]
    },
    {
     "name": "stdout",
     "output_type": "stream",
     "text": [
      "Validation dice loss: 1.8796340227127075, IoU Score 0.34771692752838135\n"
     ]
    },
    {
     "name": "stderr",
     "output_type": "stream",
     "text": [
      "Epoch 57/60:  45%|████▍     | 204/456 [01:04<00:44,  5.62img/s, loss (batch)=0.528]"
     ]
    },
    {
     "name": "stdout",
     "output_type": "stream",
     "text": [
      "Validation round\n"
     ]
    },
    {
     "name": "stderr",
     "output_type": "stream",
     "text": [
      "Validation round: 100%|██████████| 115/115 [00:12<00:00,  8.85batch/s]\n"
     ]
    },
    {
     "name": "stdout",
     "output_type": "stream",
     "text": [
      "Validation dice loss: 1.8633360862731934, IoU Score 0.32618746161460876\n"
     ]
    },
    {
     "name": "stderr",
     "output_type": "stream",
     "text": [
      "Epoch 57/60:  64%|██████▍   | 294/456 [01:34<00:28,  5.77img/s, loss (batch)=0.21] "
     ]
    },
    {
     "name": "stdout",
     "output_type": "stream",
     "text": [
      "Validation round\n"
     ]
    },
    {
     "name": "stderr",
     "output_type": "stream",
     "text": [
      "Validation round: 100%|██████████| 115/115 [00:13<00:00,  8.72batch/s]\n"
     ]
    },
    {
     "name": "stdout",
     "output_type": "stream",
     "text": [
      "Validation dice loss: 1.6957403421401978, IoU Score 0.28923070430755615\n"
     ]
    },
    {
     "name": "stderr",
     "output_type": "stream",
     "text": [
      "Epoch 57/60:  84%|████████▍ | 384/456 [02:04<00:12,  5.71img/s, loss (batch)=0.176]"
     ]
    },
    {
     "name": "stdout",
     "output_type": "stream",
     "text": [
      "Validation round\n"
     ]
    },
    {
     "name": "stderr",
     "output_type": "stream",
     "text": [
      "Validation round: 100%|██████████| 115/115 [00:13<00:00,  8.76batch/s]\n"
     ]
    },
    {
     "name": "stdout",
     "output_type": "stream",
     "text": [
      "Validation dice loss: 3.4517929553985596, IoU Score 0.2188231348991394\n"
     ]
    },
    {
     "name": "stderr",
     "output_type": "stream",
     "text": [
      "Epoch 57/60: 100%|██████████| 456/456 [02:31<00:00,  3.01img/s, loss (batch)=0.154]\n",
      "Epoch 58/60:   4%|▍         | 18/456 [00:03<01:15,  5.78img/s, loss (batch)=0.292]"
     ]
    },
    {
     "name": "stdout",
     "output_type": "stream",
     "text": [
      "Validation round\n"
     ]
    },
    {
     "name": "stderr",
     "output_type": "stream",
     "text": [
      "Validation round: 100%|██████████| 115/115 [00:13<00:00,  8.70batch/s]\n"
     ]
    },
    {
     "name": "stdout",
     "output_type": "stream",
     "text": [
      "Validation dice loss: 2.6045217514038086, IoU Score 0.29554489254951477\n"
     ]
    },
    {
     "name": "stderr",
     "output_type": "stream",
     "text": [
      "Epoch 58/60:  24%|██▎       | 108/456 [00:33<00:59,  5.84img/s, loss (batch)=0.582]"
     ]
    },
    {
     "name": "stdout",
     "output_type": "stream",
     "text": [
      "Validation round\n"
     ]
    },
    {
     "name": "stderr",
     "output_type": "stream",
     "text": [
      "Validation round: 100%|██████████| 115/115 [00:13<00:00,  8.79batch/s]\n"
     ]
    },
    {
     "name": "stdout",
     "output_type": "stream",
     "text": [
      "Validation dice loss: 1.1522388458251953, IoU Score 0.4655265808105469\n"
     ]
    },
    {
     "name": "stderr",
     "output_type": "stream",
     "text": [
      "Epoch 58/60:  43%|████▎     | 198/456 [01:03<00:44,  5.74img/s, loss (batch)=0.262]"
     ]
    },
    {
     "name": "stdout",
     "output_type": "stream",
     "text": [
      "Validation round\n"
     ]
    },
    {
     "name": "stderr",
     "output_type": "stream",
     "text": [
      "Validation round: 100%|██████████| 115/115 [00:13<00:00,  8.76batch/s]\n"
     ]
    },
    {
     "name": "stdout",
     "output_type": "stream",
     "text": [
      "Validation dice loss: 1.7289522886276245, IoU Score 0.37464404106140137\n"
     ]
    },
    {
     "name": "stderr",
     "output_type": "stream",
     "text": [
      "Epoch 58/60:  63%|██████▎   | 288/456 [01:33<00:29,  5.79img/s, loss (batch)=0.136]"
     ]
    },
    {
     "name": "stdout",
     "output_type": "stream",
     "text": [
      "Validation round\n"
     ]
    },
    {
     "name": "stderr",
     "output_type": "stream",
     "text": [
      "Validation round: 100%|██████████| 115/115 [00:13<00:00,  8.82batch/s]\n"
     ]
    },
    {
     "name": "stdout",
     "output_type": "stream",
     "text": [
      "Validation dice loss: 1.8674148321151733, IoU Score 0.32996055483818054\n"
     ]
    },
    {
     "name": "stderr",
     "output_type": "stream",
     "text": [
      "Epoch 58/60:  83%|████████▎ | 378/456 [02:04<00:13,  5.75img/s, loss (batch)=0.174]"
     ]
    },
    {
     "name": "stdout",
     "output_type": "stream",
     "text": [
      "Validation round\n"
     ]
    },
    {
     "name": "stderr",
     "output_type": "stream",
     "text": [
      "Validation round: 100%|██████████| 115/115 [00:13<00:00,  8.79batch/s]\n"
     ]
    },
    {
     "name": "stdout",
     "output_type": "stream",
     "text": [
      "Validation dice loss: 1.3670213222503662, IoU Score 0.4079042673110962\n"
     ]
    },
    {
     "name": "stderr",
     "output_type": "stream",
     "text": [
      "Epoch 58/60: 100%|██████████| 456/456 [02:32<00:00,  3.00img/s, loss (batch)=0.204]\n",
      "Epoch 59/60:   3%|▎         | 12/456 [00:02<01:14,  5.93img/s, loss (batch)=0.206]"
     ]
    },
    {
     "name": "stdout",
     "output_type": "stream",
     "text": [
      "Validation round\n"
     ]
    },
    {
     "name": "stderr",
     "output_type": "stream",
     "text": [
      "Validation round: 100%|██████████| 115/115 [00:13<00:00,  8.75batch/s]\n"
     ]
    },
    {
     "name": "stdout",
     "output_type": "stream",
     "text": [
      "Validation dice loss: 1.176826000213623, IoU Score 0.44210851192474365\n"
     ]
    },
    {
     "name": "stderr",
     "output_type": "stream",
     "text": [
      "Epoch 59/60:  22%|██▏       | 102/456 [00:32<01:01,  5.80img/s, loss (batch)=0.129]"
     ]
    },
    {
     "name": "stdout",
     "output_type": "stream",
     "text": [
      "Validation round\n"
     ]
    },
    {
     "name": "stderr",
     "output_type": "stream",
     "text": [
      "Validation round: 100%|██████████| 115/115 [00:13<00:00,  8.75batch/s]\n"
     ]
    },
    {
     "name": "stdout",
     "output_type": "stream",
     "text": [
      "Validation dice loss: 1.4199802875518799, IoU Score 0.3921113908290863\n"
     ]
    },
    {
     "name": "stderr",
     "output_type": "stream",
     "text": [
      "Epoch 59/60:  42%|████▏     | 192/456 [01:02<00:45,  5.74img/s, loss (batch)=0.222]"
     ]
    },
    {
     "name": "stdout",
     "output_type": "stream",
     "text": [
      "Validation round\n"
     ]
    },
    {
     "name": "stderr",
     "output_type": "stream",
     "text": [
      "Validation round: 100%|██████████| 115/115 [00:13<00:00,  8.79batch/s]\n"
     ]
    },
    {
     "name": "stdout",
     "output_type": "stream",
     "text": [
      "Validation dice loss: 2.5929031372070312, IoU Score 0.23844927549362183\n"
     ]
    },
    {
     "name": "stderr",
     "output_type": "stream",
     "text": [
      "Epoch 59/60:  62%|██████▏   | 282/456 [01:32<00:30,  5.74img/s, loss (batch)=0.269]"
     ]
    },
    {
     "name": "stdout",
     "output_type": "stream",
     "text": [
      "Validation round\n"
     ]
    },
    {
     "name": "stderr",
     "output_type": "stream",
     "text": [
      "Validation round: 100%|██████████| 115/115 [00:13<00:00,  8.82batch/s]\n"
     ]
    },
    {
     "name": "stdout",
     "output_type": "stream",
     "text": [
      "Validation dice loss: 1.1031659841537476, IoU Score 0.4356743395328522\n"
     ]
    },
    {
     "name": "stderr",
     "output_type": "stream",
     "text": [
      "Epoch 59/60:  82%|████████▏ | 372/456 [02:02<00:14,  5.78img/s, loss (batch)=0.175]"
     ]
    },
    {
     "name": "stdout",
     "output_type": "stream",
     "text": [
      "Validation round\n"
     ]
    },
    {
     "name": "stderr",
     "output_type": "stream",
     "text": [
      "Validation round: 100%|██████████| 115/115 [00:12<00:00,  8.87batch/s]\n"
     ]
    },
    {
     "name": "stdout",
     "output_type": "stream",
     "text": [
      "Validation dice loss: 1.2502963542938232, IoU Score 0.4131160080432892\n"
     ]
    },
    {
     "name": "stderr",
     "output_type": "stream",
     "text": [
      "Epoch 59/60: 100%|██████████| 456/456 [02:31<00:00,  3.00img/s, loss (batch)=0.568]\n",
      "Epoch 60/60:   1%|▏         | 6/456 [00:01<01:18,  5.71img/s, loss (batch)=0.187]"
     ]
    },
    {
     "name": "stdout",
     "output_type": "stream",
     "text": [
      "Validation round\n"
     ]
    },
    {
     "name": "stderr",
     "output_type": "stream",
     "text": [
      "Validation round: 100%|██████████| 115/115 [00:13<00:00,  8.82batch/s]\n"
     ]
    },
    {
     "name": "stdout",
     "output_type": "stream",
     "text": [
      "Validation dice loss: 1.8183401823043823, IoU Score 0.3131241500377655\n"
     ]
    },
    {
     "name": "stderr",
     "output_type": "stream",
     "text": [
      "Epoch 60/60:  21%|██        | 96/456 [00:31<01:01,  5.89img/s, loss (batch)=0.173]"
     ]
    },
    {
     "name": "stdout",
     "output_type": "stream",
     "text": [
      "Validation round\n"
     ]
    },
    {
     "name": "stderr",
     "output_type": "stream",
     "text": [
      "Validation round: 100%|██████████| 115/115 [00:13<00:00,  8.78batch/s]\n"
     ]
    },
    {
     "name": "stdout",
     "output_type": "stream",
     "text": [
      "Validation dice loss: 1.9057643413543701, IoU Score 0.3216547667980194\n"
     ]
    },
    {
     "name": "stderr",
     "output_type": "stream",
     "text": [
      "Epoch 60/60:  41%|████      | 186/456 [01:01<00:46,  5.84img/s, loss (batch)=0.163]"
     ]
    },
    {
     "name": "stdout",
     "output_type": "stream",
     "text": [
      "Validation round\n"
     ]
    },
    {
     "name": "stderr",
     "output_type": "stream",
     "text": [
      "Validation round: 100%|██████████| 115/115 [00:13<00:00,  8.78batch/s]\n"
     ]
    },
    {
     "name": "stdout",
     "output_type": "stream",
     "text": [
      "Validation dice loss: 1.3581312894821167, IoU Score 0.428608238697052\n"
     ]
    },
    {
     "name": "stderr",
     "output_type": "stream",
     "text": [
      "Epoch 60/60:  61%|██████    | 276/456 [01:31<00:30,  5.83img/s, loss (batch)=0.206]"
     ]
    },
    {
     "name": "stdout",
     "output_type": "stream",
     "text": [
      "Validation round\n"
     ]
    },
    {
     "name": "stderr",
     "output_type": "stream",
     "text": [
      "Validation round: 100%|██████████| 115/115 [00:13<00:00,  8.80batch/s]\n"
     ]
    },
    {
     "name": "stdout",
     "output_type": "stream",
     "text": [
      "Validation dice loss: 1.4080723524093628, IoU Score 0.40963879227638245\n"
     ]
    },
    {
     "name": "stderr",
     "output_type": "stream",
     "text": [
      "Epoch 60/60:  80%|████████  | 366/456 [02:01<00:15,  5.70img/s, loss (batch)=0.783]"
     ]
    },
    {
     "name": "stdout",
     "output_type": "stream",
     "text": [
      "Validation round\n"
     ]
    },
    {
     "name": "stderr",
     "output_type": "stream",
     "text": [
      "Validation round: 100%|██████████| 115/115 [00:13<00:00,  8.84batch/s]\n"
     ]
    },
    {
     "name": "stdout",
     "output_type": "stream",
     "text": [
      "Validation dice loss: 1.753790259361267, IoU Score 0.34607788920402527\n"
     ]
    },
    {
     "name": "stderr",
     "output_type": "stream",
     "text": [
      "Epoch 60/60: 100%|██████████| 456/456 [02:31<00:00,  5.86img/s, loss (batch)=0.247]"
     ]
    },
    {
     "name": "stdout",
     "output_type": "stream",
     "text": [
      "Validation round\n"
     ]
    },
    {
     "name": "stderr",
     "output_type": "stream",
     "text": [
      "Validation round: 100%|██████████| 115/115 [00:13<00:00,  8.85batch/s]\n",
      "Epoch 60/60: 100%|██████████| 456/456 [02:45<00:00,  2.75img/s, loss (batch)=0.247]\n",
      "\u001b[34m\u001b[1mwandb\u001b[0m: Waiting for W&B process to finish... \u001b[32m(success).\u001b[0m\n"
     ]
    },
    {
     "name": "stdout",
     "output_type": "stream",
     "text": [
      "Validation dice loss: 2.6713614463806152, IoU Score 0.2769550383090973\n"
     ]
    },
    {
     "name": "stderr",
     "output_type": "stream",
     "text": [
      "\u001b[34m\u001b[1mwandb\u001b[0m: \n",
      "\u001b[34m\u001b[1mwandb\u001b[0m: Run history:\n",
      "\u001b[34m\u001b[1mwandb\u001b[0m:                epoch ▁▁▁▁▂▂▂▂▂▃▃▃▃▃▃▄▄▄▄▄▅▅▅▅▅▆▆▆▆▆▆▇▇▇▇▇▇███\n",
      "\u001b[34m\u001b[1mwandb\u001b[0m:        learning rate ▇▅▄▃▂▂▂▂▁▁▁▁▁▁▁▁▃▁▂▁▁█▁▁▂▁▂▃▁▂▂▂▄▂▁▂▃▃▂▃\n",
      "\u001b[34m\u001b[1mwandb\u001b[0m:                 step ▁▁▁▂▂▂▂▂▂▃▃▃▃▃▃▄▄▄▄▄▅▅▅▅▅▅▆▆▆▆▆▇▇▇▇▇▇███\n",
      "\u001b[34m\u001b[1mwandb\u001b[0m:            train iou ▂▄▄▅▅▅▅▅▅▄▅▄▅▇▆▆█▅▅▆▄▇▇▇▆▁▅▇█▆▅▅▆▆▆▆▆▇▇▆\n",
      "\u001b[34m\u001b[1mwandb\u001b[0m:           train loss █▇▆▆▇▆▆▆▆▆▆▆▄▃▄▃▂▄▃▃▄▂▂▂▃▇▃▂▁▂▃▃▂▂▂▂▂▁▁▂\n",
      "\u001b[34m\u001b[1mwandb\u001b[0m:      validation Dice ▅▄▃▃▃▂▂▂▂▂▂▂▁▁▂▁▁▂▂▂▂▂▂▁▁▂▂▂▂▂▃▂▂▂▁▄▄█▅▆\n",
      "\u001b[34m\u001b[1mwandb\u001b[0m: validation IoU Score ▃▅▆▆▆▇▇▇▇▇▇▆▆█▅▆█▆▅▆▅▅▅▆▆▅▄▄▅▄▃▄▆▅▆▃▃▁▁▂\n",
      "\u001b[34m\u001b[1mwandb\u001b[0m: \n",
      "\u001b[34m\u001b[1mwandb\u001b[0m: Run summary:\n",
      "\u001b[34m\u001b[1mwandb\u001b[0m:                epoch 60\n",
      "\u001b[34m\u001b[1mwandb\u001b[0m:        learning rate 2e-05\n",
      "\u001b[34m\u001b[1mwandb\u001b[0m:                 step 13680\n",
      "\u001b[34m\u001b[1mwandb\u001b[0m:            train iou 0.61803\n",
      "\u001b[34m\u001b[1mwandb\u001b[0m:           train loss 0.24736\n",
      "\u001b[34m\u001b[1mwandb\u001b[0m:      validation Dice 2.67136\n",
      "\u001b[34m\u001b[1mwandb\u001b[0m: validation IoU Score 0.27696\n",
      "\u001b[34m\u001b[1mwandb\u001b[0m: \n",
      "\u001b[34m\u001b[1mwandb\u001b[0m: 🚀 View run \u001b[33mbumbling-rain-17\u001b[0m at: \u001b[34m\u001b[4mhttps://wandb.ai/cupes-wangtao/U-Net/runs/fnmdidxn\u001b[0m\n",
      "\u001b[34m\u001b[1mwandb\u001b[0m: Synced 6 W&B file(s), 912 media file(s), 0 artifact file(s) and 0 other file(s)\n",
      "\u001b[34m\u001b[1mwandb\u001b[0m: Find logs at: \u001b[35m\u001b[1m./wandb/run-20240117_174925-fnmdidxn/logs\u001b[0m\n"
     ]
    }
   ],
   "source": [
    "import time\n",
    "import torch.optim as optim\n",
    "import segmentation_models_pytorch as smp\n",
    "\n",
    "n_train = len(train_data)\n",
    "n_val = len(validate_data)\n",
    "\n",
    "\n",
    "def train(model, device, \n",
    "          epochs: int = 60,\n",
    "          learning_rate: float = 1e-5, \n",
    "          weight_decay: float = 1e-8,\n",
    "          momentum: float = 0.999,\n",
    "          batch_size: int = 2,\n",
    "          amp: bool = False,\n",
    "          val_percent: float = 0.1,\n",
    "          gradient_clipping: float = 1.0):\n",
    "    if isinstance(model, nn.DataParallel):\n",
    "        n_classes = model.module.n_classes\n",
    "        n_channels = model.module.n_channels\n",
    "    else:\n",
    "        n_classes = model.n_classes\n",
    "        n_channels = model.n_channels\n",
    "        \n",
    "    # (Initialize logging)\n",
    "    experiment = wandb.init(project='U-Net', resume='allow', anonymous='must')\n",
    "    experiment.config.update(\n",
    "        dict(epochs=epochs, batch_size=batch_size, learning_rate=learning_rate,\n",
    "             val_percent=val_percent, amp=amp)\n",
    "    )\n",
    "\n",
    "    logging.info(f'''Starting training:\n",
    "        Epochs:          {epochs}\n",
    "        Batch size:      {batch_size}\n",
    "        Learning rate:   {learning_rate}\n",
    "        Training size:   {n_train}\n",
    "        Validation size: {n_val}\n",
    "        Device:          {device.type}\n",
    "        Mixed Precision: {amp}\n",
    "    ''')\n",
    "\n",
    "     # Set up the optimizer, the loss, the learning rate scheduler and the loss scaling for AMP\n",
    "#     optimizer = optim.RMSprop(model.parameters(),\n",
    "#                               lr=learning_rate, weight_decay=weight_decay, momentum=momentum, foreach=True)\n",
    "    optimizer = optim.Adam(model.parameters(), lr=learning_rate)\n",
    "    scheduler = optim.lr_scheduler.CosineAnnealingWarmRestarts(optimizer, T_0=1, T_mult=2, eta_min=5e-5)  # goal: maximize Dice score\n",
    "    grad_scaler = torch.cuda.amp.GradScaler(enabled=amp)\n",
    "    criterion = nn.CrossEntropyLoss().cuda()\n",
    "    dice_loss = smp.losses.DiceLoss(mode='binary')\n",
    "    \n",
    "    global_step = 0\n",
    "    \n",
    "#     iou_metric = IoU\n",
    "\n",
    "    # 5. Begin training\n",
    "    for epoch in range(1, epochs + 1):\n",
    "        model.train()\n",
    "        epoch_loss = 0\n",
    "        with tqdm(total=n_train, desc=f'Epoch {epoch}/{epochs}', unit='img') as pbar:\n",
    "            for batch in trainloader:\n",
    "                images, true_masks = batch\n",
    "\n",
    "                assert images.shape[1] == n_channels, \\\n",
    "                    f'Network has been defined with {n_channels} input channels, ' \\\n",
    "                    f'but loaded images have {images.shape[1]} channels. Please check that ' \\\n",
    "                    'the images are loaded correctly.'\n",
    "\n",
    "                images = images.to(device=device, dtype=torch.float32, memory_format=torch.channels_last)\n",
    "                \n",
    "                true_masks = true_masks.to(device=device, dtype=torch.long)\n",
    "\n",
    "                with torch.autocast(device.type if device.type != 'mps' else 'cpu', enabled=amp):\n",
    "                    masks_pred = model(images)\n",
    "                    loss = criterion(masks_pred, true_masks.float())\n",
    "                    loss += dice_loss(masks_pred, true_masks)\n",
    "                    tp, fp, fn, tn = smp.metrics.get_stats(masks_pred, true_masks.long(), mode='binary', threshold=0.5)\n",
    "                    iou_score = smp.metrics.iou_score(tp, fp, fn, tn, reduction=\"micro\")\n",
    "    \n",
    "                optimizer.zero_grad(set_to_none=True)\n",
    "                grad_scaler.scale(loss).backward()\n",
    "                torch.nn.utils.clip_grad_norm_(model.parameters(), gradient_clipping)\n",
    "                grad_scaler.step(optimizer)\n",
    "                grad_scaler.update()\n",
    "\n",
    "                pbar.update(images.shape[0])\n",
    "                global_step += 1\n",
    "                epoch_loss += loss.item()\n",
    "                experiment.log({\n",
    "                    'train iou': iou_score,\n",
    "                    'train loss': loss.item(),\n",
    "                    'step': global_step,\n",
    "                    'epoch': epoch\n",
    "                })\n",
    "                pbar.set_postfix(**{'loss (batch)': loss.item()})\n",
    "\n",
    "                # Evaluation round\n",
    "                division_step = (n_train // (5 * batch_size))\n",
    "                if division_step > 0:\n",
    "                    if global_step % division_step == 0:\n",
    "                        histograms = {}\n",
    "                        for tag, value in model.named_parameters():\n",
    "                            tag = tag.replace('/', '.')\n",
    "                            if not (torch.isinf(value) | torch.isnan(value)).any():\n",
    "                                histograms['Weights/' + tag] = wandb.Histogram(value.data.cpu())\n",
    "                            if not (torch.isinf(value.grad) | torch.isnan(value.grad)).any():\n",
    "                                histograms['Gradients/' + tag] = wandb.Histogram(value.grad.data.cpu())\n",
    "\n",
    "                        val_score, iou_score = evaluate(model, valloader, device, amp)\n",
    "                        logging.info('Validation Dice score: {}'.format(val_score))\n",
    "                        try:\n",
    "                            experiment.log({\n",
    "                                'learning rate': optimizer.param_groups[0]['lr'],\n",
    "                                'validation Dice': val_score,\n",
    "                                'validation IoU Score': iou_score,\n",
    "                                'images': wandb.Image(images[0].cpu()),\n",
    "                                'masks': {\n",
    "                                    'true': wandb.Image(true_masks[0].float().cpu()),\n",
    "                                    'pred': wandb.Image(masks_pred[0].float().cpu()),\n",
    "                                },\n",
    "                                'step': global_step,\n",
    "                                'epoch': epoch,\n",
    "                                **histograms\n",
    "                            })\n",
    "                        except:\n",
    "                            pass\n",
    "                        \n",
    "                        model.train()\n",
    "                        scheduler.step(val_score)\n",
    "    experiment.finish()\n",
    "\n",
    "if __name__ == '__main__':\n",
    "    model = UNet(n_channels=3, n_classes=1, bilinear=False)\n",
    "    \n",
    "    device = torch.device('cuda' if torch.cuda.is_available() else 'cpu')\n",
    "    if torch.cuda.device_count() > 1:\n",
    "        print(\"Let's use\", torch.cuda.device_count(), \"GPUs!\")\n",
    "        model = nn.DataParallel(model)\n",
    "\n",
    "    model = model.to(memory_format=torch.channels_last)\n",
    "    model.to(device)\n",
    "    total_params = sum(p.numel() for p in model.parameters())\n",
    "    print(f\"模型参数量为：{total_params}\")\n",
    "    print(\"其详情为：\")\n",
    "    for name,parameters in model.named_parameters():\n",
    "        print(name,':',parameters.size())\n",
    "    train(model, device)\n",
    "\n",
    "    "
   ]
  },
  {
   "cell_type": "markdown",
   "id": "d49c5431",
   "metadata": {
    "papermill": {
     "duration": 5.172949,
     "end_time": "2024-01-17T20:22:57.418272",
     "exception": false,
     "start_time": "2024-01-17T20:22:52.245323",
     "status": "completed"
    },
    "tags": []
   },
   "source": [
    "# 推理"
   ]
  }
 ],
 "metadata": {
  "kaggle": {
   "accelerator": "nvidiaTeslaT4",
   "dataSources": [
    {
     "datasetId": 3664633,
     "sourceId": 6361775,
     "sourceType": "datasetVersion"
    }
   ],
   "dockerImageVersionId": 30528,
   "isGpuEnabled": true,
   "isInternetEnabled": true,
   "language": "python",
   "sourceType": "notebook"
  },
  "kernelspec": {
   "display_name": "Python 3",
   "language": "python",
   "name": "python3"
  },
  "language_info": {
   "codemirror_mode": {
    "name": "ipython",
    "version": 3
   },
   "file_extension": ".py",
   "mimetype": "text/x-python",
   "name": "python",
   "nbconvert_exporter": "python",
   "pygments_lexer": "ipython3",
   "version": "3.10.12"
  },
  "papermill": {
   "default_parameters": {},
   "duration": 9281.332714,
   "end_time": "2024-01-17T20:23:06.217035",
   "environment_variables": {},
   "exception": null,
   "input_path": "__notebook__.ipynb",
   "output_path": "__notebook__.ipynb",
   "parameters": {},
   "start_time": "2024-01-17T17:48:24.884321",
   "version": "2.4.0"
  }
 },
 "nbformat": 4,
 "nbformat_minor": 5
}
