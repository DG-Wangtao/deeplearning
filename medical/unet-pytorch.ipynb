{
 "cells": [
  {
   "cell_type": "markdown",
   "id": "5c96cbfc",
   "metadata": {
    "papermill": {
     "duration": 0.007179,
     "end_time": "2024-01-18T10:14:10.420338",
     "exception": false,
     "start_time": "2024-01-18T10:14:10.413159",
     "status": "completed"
    },
    "tags": []
   },
   "source": [
    "# 安装依赖"
   ]
  },
  {
   "cell_type": "markdown",
   "id": "595831be",
   "metadata": {
    "papermill": {
     "duration": 0.00614,
     "end_time": "2024-01-18T10:14:10.432861",
     "exception": false,
     "start_time": "2024-01-18T10:14:10.426721",
     "status": "completed"
    },
    "tags": []
   },
   "source": [
    "- https://github.com/milesial/Pytorch-UNet/tree/master\n",
    "- https://github.com/njcronin/DL_Track\n",
    "- https://github.com/njcronin/DL_Track/blob/master/Labelling_Instructions.pdf"
   ]
  },
  {
   "cell_type": "code",
   "execution_count": 1,
   "id": "5f203994",
   "metadata": {
    "execution": {
     "iopub.execute_input": "2024-01-18T10:14:10.446495Z",
     "iopub.status.busy": "2024-01-18T10:14:10.446157Z",
     "iopub.status.idle": "2024-01-18T10:14:28.698067Z",
     "shell.execute_reply": "2024-01-18T10:14:28.696883Z"
    },
    "papermill": {
     "duration": 18.261669,
     "end_time": "2024-01-18T10:14:28.700686",
     "exception": false,
     "start_time": "2024-01-18T10:14:10.439017",
     "status": "completed"
    },
    "tags": []
   },
   "outputs": [
    {
     "name": "stdout",
     "output_type": "stream",
     "text": [
      "Requirement already satisfied: scipy in /opt/conda/lib/python3.10/site-packages (1.11.1)\r\n",
      "Requirement already satisfied: scikit-image in /opt/conda/lib/python3.10/site-packages (0.21.0)\r\n",
      "Requirement already satisfied: torch in /opt/conda/lib/python3.10/site-packages (2.0.0)\r\n",
      "Requirement already satisfied: torchvision in /opt/conda/lib/python3.10/site-packages (0.15.1)\r\n",
      "Collecting pathlib\r\n",
      "  Downloading pathlib-1.0.1-py3-none-any.whl (14 kB)\r\n",
      "Requirement already satisfied: wandb in /opt/conda/lib/python3.10/site-packages (0.15.5)\r\n",
      "Collecting segmentation-models-pytorch\r\n",
      "  Downloading segmentation_models_pytorch-0.3.3-py3-none-any.whl (106 kB)\r\n",
      "\u001b[2K     \u001b[90m━━━━━━━━━━━━━━━━━━━━━━━━━━━━━━━━━━━━━━━\u001b[0m \u001b[32m106.7/106.7 kB\u001b[0m \u001b[31m1.4 MB/s\u001b[0m eta \u001b[36m0:00:00\u001b[0m\r\n",
      "\u001b[?25hRequirement already satisfied: numpy<1.28.0,>=1.21.6 in /opt/conda/lib/python3.10/site-packages (from scipy) (1.23.5)\r\n",
      "Requirement already satisfied: networkx>=2.8 in /opt/conda/lib/python3.10/site-packages (from scikit-image) (3.1)\r\n",
      "Requirement already satisfied: pillow>=9.0.1 in /opt/conda/lib/python3.10/site-packages (from scikit-image) (9.5.0)\r\n",
      "Requirement already satisfied: imageio>=2.27 in /opt/conda/lib/python3.10/site-packages (from scikit-image) (2.31.1)\r\n",
      "Requirement already satisfied: tifffile>=2022.8.12 in /opt/conda/lib/python3.10/site-packages (from scikit-image) (2023.4.12)\r\n",
      "Requirement already satisfied: PyWavelets>=1.1.1 in /opt/conda/lib/python3.10/site-packages (from scikit-image) (1.4.1)\r\n",
      "Requirement already satisfied: packaging>=21 in /opt/conda/lib/python3.10/site-packages (from scikit-image) (21.3)\r\n",
      "Requirement already satisfied: lazy_loader>=0.2 in /opt/conda/lib/python3.10/site-packages (from scikit-image) (0.2)\r\n",
      "Requirement already satisfied: filelock in /opt/conda/lib/python3.10/site-packages (from torch) (3.12.2)\r\n",
      "Requirement already satisfied: typing-extensions in /opt/conda/lib/python3.10/site-packages (from torch) (4.6.3)\r\n",
      "Requirement already satisfied: sympy in /opt/conda/lib/python3.10/site-packages (from torch) (1.12)\r\n",
      "Requirement already satisfied: jinja2 in /opt/conda/lib/python3.10/site-packages (from torch) (3.1.2)\r\n",
      "Requirement already satisfied: requests in /opt/conda/lib/python3.10/site-packages (from torchvision) (2.31.0)\r\n",
      "Requirement already satisfied: Click!=8.0.0,>=7.1 in /opt/conda/lib/python3.10/site-packages (from wandb) (8.1.3)\r\n",
      "Requirement already satisfied: GitPython!=3.1.29,>=1.0.0 in /opt/conda/lib/python3.10/site-packages (from wandb) (3.1.31)\r\n",
      "Requirement already satisfied: psutil>=5.0.0 in /opt/conda/lib/python3.10/site-packages (from wandb) (5.9.3)\r\n",
      "Requirement already satisfied: sentry-sdk>=1.0.0 in /opt/conda/lib/python3.10/site-packages (from wandb) (1.27.1)\r\n",
      "Requirement already satisfied: docker-pycreds>=0.4.0 in /opt/conda/lib/python3.10/site-packages (from wandb) (0.4.0)\r\n",
      "Requirement already satisfied: PyYAML in /opt/conda/lib/python3.10/site-packages (from wandb) (6.0)\r\n",
      "Requirement already satisfied: pathtools in /opt/conda/lib/python3.10/site-packages (from wandb) (0.1.2)\r\n",
      "Requirement already satisfied: setproctitle in /opt/conda/lib/python3.10/site-packages (from wandb) (1.3.2)\r\n",
      "Requirement already satisfied: setuptools in /opt/conda/lib/python3.10/site-packages (from wandb) (59.8.0)\r\n",
      "Requirement already satisfied: appdirs>=1.4.3 in /opt/conda/lib/python3.10/site-packages (from wandb) (1.4.4)\r\n",
      "Requirement already satisfied: protobuf!=4.21.0,<5,>=3.19.0 in /opt/conda/lib/python3.10/site-packages (from wandb) (3.20.3)\r\n",
      "Collecting pretrainedmodels==0.7.4 (from segmentation-models-pytorch)\r\n",
      "  Downloading pretrainedmodels-0.7.4.tar.gz (58 kB)\r\n",
      "\u001b[2K     \u001b[90m━━━━━━━━━━━━━━━━━━━━━━━━━━━━━━━━━━━━━━━━\u001b[0m \u001b[32m58.8/58.8 kB\u001b[0m \u001b[31m4.8 MB/s\u001b[0m eta \u001b[36m0:00:00\u001b[0m\r\n",
      "\u001b[?25h  Preparing metadata (setup.py) ... \u001b[?25l-\b \b\\\b \bdone\r\n",
      "\u001b[?25hCollecting efficientnet-pytorch==0.7.1 (from segmentation-models-pytorch)\r\n",
      "  Downloading efficientnet_pytorch-0.7.1.tar.gz (21 kB)\r\n",
      "  Preparing metadata (setup.py) ... \u001b[?25l-\b \b\\\b \bdone\r\n",
      "\u001b[?25hRequirement already satisfied: timm==0.9.2 in /opt/conda/lib/python3.10/site-packages (from segmentation-models-pytorch) (0.9.2)\r\n",
      "Requirement already satisfied: tqdm in /opt/conda/lib/python3.10/site-packages (from segmentation-models-pytorch) (4.65.0)\r\n",
      "Collecting munch (from pretrainedmodels==0.7.4->segmentation-models-pytorch)\r\n",
      "  Downloading munch-4.0.0-py2.py3-none-any.whl (9.9 kB)\r\n",
      "Requirement already satisfied: huggingface-hub in /opt/conda/lib/python3.10/site-packages (from timm==0.9.2->segmentation-models-pytorch) (0.16.4)\r\n",
      "Requirement already satisfied: safetensors in /opt/conda/lib/python3.10/site-packages (from timm==0.9.2->segmentation-models-pytorch) (0.3.1)\r\n",
      "Requirement already satisfied: six>=1.4.0 in /opt/conda/lib/python3.10/site-packages (from docker-pycreds>=0.4.0->wandb) (1.16.0)\r\n",
      "Requirement already satisfied: gitdb<5,>=4.0.1 in /opt/conda/lib/python3.10/site-packages (from GitPython!=3.1.29,>=1.0.0->wandb) (4.0.10)\r\n",
      "Requirement already satisfied: pyparsing!=3.0.5,>=2.0.2 in /opt/conda/lib/python3.10/site-packages (from packaging>=21->scikit-image) (3.0.9)\r\n",
      "Requirement already satisfied: charset-normalizer<4,>=2 in /opt/conda/lib/python3.10/site-packages (from requests->torchvision) (3.1.0)\r\n",
      "Requirement already satisfied: idna<4,>=2.5 in /opt/conda/lib/python3.10/site-packages (from requests->torchvision) (3.4)\r\n",
      "Requirement already satisfied: urllib3<3,>=1.21.1 in /opt/conda/lib/python3.10/site-packages (from requests->torchvision) (1.26.15)\r\n",
      "Requirement already satisfied: certifi>=2017.4.17 in /opt/conda/lib/python3.10/site-packages (from requests->torchvision) (2023.5.7)\r\n",
      "Requirement already satisfied: MarkupSafe>=2.0 in /opt/conda/lib/python3.10/site-packages (from jinja2->torch) (2.1.3)\r\n",
      "Requirement already satisfied: mpmath>=0.19 in /opt/conda/lib/python3.10/site-packages (from sympy->torch) (1.3.0)\r\n",
      "Requirement already satisfied: smmap<6,>=3.0.1 in /opt/conda/lib/python3.10/site-packages (from gitdb<5,>=4.0.1->GitPython!=3.1.29,>=1.0.0->wandb) (5.0.0)\r\n",
      "Requirement already satisfied: fsspec in /opt/conda/lib/python3.10/site-packages (from huggingface-hub->timm==0.9.2->segmentation-models-pytorch) (2023.6.0)\r\n",
      "Building wheels for collected packages: efficientnet-pytorch, pretrainedmodels\r\n",
      "  Building wheel for efficientnet-pytorch (setup.py) ... \u001b[?25l-\b \b\\\b \bdone\r\n",
      "\u001b[?25h  Created wheel for efficientnet-pytorch: filename=efficientnet_pytorch-0.7.1-py3-none-any.whl size=16446 sha256=4626206e5f1330256f41fa403b43482ae6d57435de22fbf66d6b70730bea4933\r\n",
      "  Stored in directory: /root/.cache/pip/wheels/03/3f/e9/911b1bc46869644912bda90a56bcf7b960f20b5187feea3baf\r\n",
      "  Building wheel for pretrainedmodels (setup.py) ... \u001b[?25l-\b \b\\\b \b|\b \bdone\r\n",
      "\u001b[?25h  Created wheel for pretrainedmodels: filename=pretrainedmodels-0.7.4-py3-none-any.whl size=60966 sha256=0505bf5ae44a63a415d778b1b98d27357476ad38e9228446a49390e4cf14f330\r\n",
      "  Stored in directory: /root/.cache/pip/wheels/35/cb/a5/8f534c60142835bfc889f9a482e4a67e0b817032d9c6883b64\r\n",
      "Successfully built efficientnet-pytorch pretrainedmodels\r\n",
      "Installing collected packages: pathlib, munch, efficientnet-pytorch, pretrainedmodels, segmentation-models-pytorch\r\n",
      "Successfully installed efficientnet-pytorch-0.7.1 munch-4.0.0 pathlib-1.0.1 pretrainedmodels-0.7.4 segmentation-models-pytorch-0.3.3\r\n"
     ]
    }
   ],
   "source": [
    "!pip install scipy scikit-image torch torchvision pathlib wandb segmentation-models-pytorch"
   ]
  },
  {
   "cell_type": "markdown",
   "id": "8914abfb",
   "metadata": {
    "papermill": {
     "duration": 0.00856,
     "end_time": "2024-01-18T10:14:28.718363",
     "exception": false,
     "start_time": "2024-01-18T10:14:28.709803",
     "status": "completed"
    },
    "tags": []
   },
   "source": [
    "# 引用依赖包"
   ]
  },
  {
   "cell_type": "code",
   "execution_count": 2,
   "id": "518be078",
   "metadata": {
    "execution": {
     "iopub.execute_input": "2024-01-18T10:14:28.737014Z",
     "iopub.status.busy": "2024-01-18T10:14:28.736687Z",
     "iopub.status.idle": "2024-01-18T10:14:28.745346Z",
     "shell.execute_reply": "2024-01-18T10:14:28.744432Z"
    },
    "papermill": {
     "duration": 0.020293,
     "end_time": "2024-01-18T10:14:28.747185",
     "exception": false,
     "start_time": "2024-01-18T10:14:28.726892",
     "status": "completed"
    },
    "tags": []
   },
   "outputs": [],
   "source": [
    "%config Completer.use_jedi = False"
   ]
  },
  {
   "cell_type": "code",
   "execution_count": 3,
   "id": "e079d94a",
   "metadata": {
    "execution": {
     "iopub.execute_input": "2024-01-18T10:14:28.765428Z",
     "iopub.status.busy": "2024-01-18T10:14:28.765168Z",
     "iopub.status.idle": "2024-01-18T10:14:33.596995Z",
     "shell.execute_reply": "2024-01-18T10:14:33.596241Z"
    },
    "papermill": {
     "duration": 4.843516,
     "end_time": "2024-01-18T10:14:33.599296",
     "exception": false,
     "start_time": "2024-01-18T10:14:28.755780",
     "status": "completed"
    },
    "tags": []
   },
   "outputs": [
    {
     "name": "stderr",
     "output_type": "stream",
     "text": [
      "/opt/conda/lib/python3.10/site-packages/torchvision/datapoints/__init__.py:12: UserWarning: The torchvision.datapoints and torchvision.transforms.v2 namespaces are still Beta. While we do not expect major breaking changes, some APIs may still change according to user feedback. Please submit any feedback you may have in this issue: https://github.com/pytorch/vision/issues/6753, and you can also check out https://github.com/pytorch/vision/issues/7319 to learn more about the APIs that we suspect might involve future changes. You can silence this warning by calling torchvision.disable_beta_transforms_warning().\n",
      "  warnings.warn(_BETA_TRANSFORMS_WARNING)\n",
      "/opt/conda/lib/python3.10/site-packages/torchvision/transforms/v2/__init__.py:54: UserWarning: The torchvision.datapoints and torchvision.transforms.v2 namespaces are still Beta. While we do not expect major breaking changes, some APIs may still change according to user feedback. Please submit any feedback you may have in this issue: https://github.com/pytorch/vision/issues/6753, and you can also check out https://github.com/pytorch/vision/issues/7319 to learn more about the APIs that we suspect might involve future changes. You can silence this warning by calling torchvision.disable_beta_transforms_warning().\n",
      "  warnings.warn(_BETA_TRANSFORMS_WARNING)\n"
     ]
    }
   ],
   "source": [
    "import os\n",
    "import random\n",
    "import pandas as pd\n",
    "import numpy as np\n",
    "import matplotlib.pyplot as plt\n",
    "plt.style.use(\"ggplot\")\n",
    "%matplotlib inline\n",
    "\n",
    "import torch\n",
    "import torch.nn as nn\n",
    "from torchvision import models\n",
    "from torchvision.transforms import v2\n",
    "from torch.nn.functional import relu, pad\n",
    "from torch.utils.data import Dataset, DataLoader, random_split\n",
    "\n",
    "from PIL import Image\n",
    "from typing import Tuple\n",
    "from pathlib import Path\n",
    "\n",
    "import torch\n",
    "from torch import nn, Tensor\n",
    "import torch.nn.functional as F\n",
    "import torch.optim as optim\n",
    "\n",
    "from tqdm import tqdm\n",
    "import wandb\n",
    "import logging"
   ]
  },
  {
   "cell_type": "markdown",
   "id": "f1c251e2",
   "metadata": {
    "papermill": {
     "duration": 0.008915,
     "end_time": "2024-01-18T10:14:33.618173",
     "exception": false,
     "start_time": "2024-01-18T10:14:33.609258",
     "status": "completed"
    },
    "tags": []
   },
   "source": [
    "## U-Net 网络"
   ]
  },
  {
   "cell_type": "code",
   "execution_count": 4,
   "id": "b7a1f329",
   "metadata": {
    "execution": {
     "iopub.execute_input": "2024-01-18T10:14:33.637825Z",
     "iopub.status.busy": "2024-01-18T10:14:33.637487Z",
     "iopub.status.idle": "2024-01-18T10:14:33.658713Z",
     "shell.execute_reply": "2024-01-18T10:14:33.657908Z"
    },
    "papermill": {
     "duration": 0.03336,
     "end_time": "2024-01-18T10:14:33.660692",
     "exception": false,
     "start_time": "2024-01-18T10:14:33.627332",
     "status": "completed"
    },
    "tags": []
   },
   "outputs": [],
   "source": [
    "\n",
    "class DoubleConv(nn.Module):\n",
    "    \"\"\"(convolution => [BN] => ReLU) * 2\"\"\"\n",
    "\n",
    "    def __init__(self, in_channels, out_channels, kernel_size=3):\n",
    "        super(DoubleConv,self).__init__()\n",
    "        self.double_conv = nn.Sequential(\n",
    "            nn.Conv2d(in_channels, out_channels, kernel_size=kernel_size, padding=1),\n",
    "            nn.BatchNorm2d(out_channels),\n",
    "            nn.ReLU(inplace=True),\n",
    "            nn.Conv2d(out_channels, out_channels, kernel_size=kernel_size, padding=1),\n",
    "            nn.BatchNorm2d(out_channels),\n",
    "            nn.ReLU(inplace=True)\n",
    "        )\n",
    "\n",
    "    def forward(self, x):\n",
    "        return self.double_conv(x)\n",
    "\n",
    "\n",
    "class Down(nn.Module):\n",
    "    \"\"\"Downscaling with maxpool then double conv\"\"\"\n",
    "\n",
    "    def __init__(self, in_channels, out_channels, kernel_size=3, dropout = 0.1):\n",
    "        super(Down, self).__init__()\n",
    "        self.double_conv = DoubleConv(in_channels, out_channels, kernel_size)\n",
    "        self.maxpool_conv = nn.Sequential(\n",
    "            nn.MaxPool2d(2),\n",
    "            nn.Dropout2d(p=dropout),\n",
    "        )\n",
    "\n",
    "    def forward(self, x):\n",
    "        skip_out = self.double_conv(x)\n",
    "        down_output = self.maxpool_conv(skip_out)\n",
    "        return (down_output, skip_out)\n",
    "\n",
    "\n",
    "class Up(nn.Module):\n",
    "    \"\"\"Upscaling then double conv\"\"\"\n",
    "\n",
    "    def __init__(self, in_channels, out_channels, kernel_size = 2, dropout = 0.1, stride = 2):\n",
    "        super().__init__()\n",
    "        \n",
    "        self.up = nn.ConvTranspose2d(in_channels, out_channels, kernel_size = kernel_size, stride = stride)\n",
    "        \n",
    "        self.conv = nn.Sequential(\n",
    "            nn.Dropout2d(p=dropout),\n",
    "            DoubleConv(in_channels, out_channels)\n",
    "        )\n",
    "\n",
    "    def forward(self, x1, x2):\n",
    "        x = self.up(x1)\n",
    "        x = torch.cat([x, x2], dim = 1)\n",
    "        return self.conv(x)\n",
    "    \n",
    "\n",
    "class UNet(nn.Module):\n",
    "    def __init__(self, n_channels, n_classes, n_filters = 64, bilinear=False):\n",
    "        super(UNet, self).__init__()\n",
    "        self.n_classes = n_classes\n",
    "        self.n_channels = n_channels\n",
    "        kernel_size = 3\n",
    "        dropout = 0.25\n",
    "\n",
    "        self.down1 = Down(n_channels, n_filters, kernel_size, dropout)\n",
    "        self.down2 = Down(n_filters, n_filters * 2, kernel_size, dropout)\n",
    "        self.down3 = Down(n_filters * 2, n_filters * 4, kernel_size, dropout)\n",
    "        self.down4 = Down(n_filters * 4, n_filters * 8, kernel_size, dropout)\n",
    "        \n",
    "        self.bottle_conv = DoubleConv(n_filters * 8, n_filters * 16, kernel_size)\n",
    "        \n",
    "        kernel_size = kernel_size - 1\n",
    "        self.up4 = Up(n_filters * 16, n_filters * 8, kernel_size, dropout)\n",
    "        self.up3 = Up(n_filters * 8, n_filters * 4, kernel_size, dropout)\n",
    "        self.up2 = Up(n_filters * 4, n_filters * 2, kernel_size, dropout)\n",
    "        self.up1 = Up(n_filters * 2, n_filters, kernel_size, dropout)\n",
    "        \n",
    "        self.outc = nn.Conv2d(n_filters, n_classes, kernel_size=1)\n",
    "        \n",
    "\n",
    "    def forward(self, x):\n",
    "        \n",
    "        x, skip1 = self.down1(x)\n",
    "        x, skip2 = self.down2(x)\n",
    "        x, skip3 = self.down3(x)\n",
    "        x, skip4 = self.down4(x)\n",
    "        \n",
    "        x = self.bottle_conv(x)\n",
    "        \n",
    "        x = self.up4(x, skip4)\n",
    "        x = self.up3(x, skip3)\n",
    "        x = self.up2(x, skip2)\n",
    "        x = self.up1(x, skip1)\n",
    "        \n",
    "        logits = self.outc(x)\n",
    "        return logits\n",
    "\n",
    "    def use_checkpointing(self):\n",
    "        self.down1 = torch.utils.checkpoint(self.down1)\n",
    "        self.down2 = torch.utils.checkpoint(self.down2)\n",
    "        self.down3 = torch.utils.checkpoint(self.down3)\n",
    "        self.down4 = torch.utils.checkpoint(self.down4)\n",
    "        self.bottle_conv = torch.utils.checkpoint(self.bottle_conv)\n",
    "        self.up1 = torch.utils.checkpoint(self.up1)\n",
    "        self.up2 = torch.utils.checkpoint(self.up2)\n",
    "        self.up3 = torch.utils.checkpoint(self.up3)\n",
    "        self.up4 = torch.utils.checkpoint(self.up4)\n",
    "        self.outc = torch.utils.checkpoint(self.outc)"
   ]
  },
  {
   "cell_type": "markdown",
   "id": "ce151f29",
   "metadata": {
    "papermill": {
     "duration": 0.008783,
     "end_time": "2024-01-18T10:14:33.678594",
     "exception": false,
     "start_time": "2024-01-18T10:14:33.669811",
     "status": "completed"
    },
    "tags": []
   },
   "source": [
    "# 定义数据集加载器"
   ]
  },
  {
   "cell_type": "code",
   "execution_count": 5,
   "id": "067021ce",
   "metadata": {
    "execution": {
     "iopub.execute_input": "2024-01-18T10:14:33.698619Z",
     "iopub.status.busy": "2024-01-18T10:14:33.698301Z",
     "iopub.status.idle": "2024-01-18T10:14:33.708761Z",
     "shell.execute_reply": "2024-01-18T10:14:33.708036Z"
    },
    "papermill": {
     "duration": 0.023127,
     "end_time": "2024-01-18T10:14:33.710828",
     "exception": false,
     "start_time": "2024-01-18T10:14:33.687701",
     "status": "completed"
    },
    "tags": []
   },
   "outputs": [],
   "source": [
    "# TODO: image和mask名称不一样时跳过\n",
    "class APODataSet(Dataset):\n",
    "    # 格式不对的异常数据\n",
    "    invalid_img = [10, 184, 185]\n",
    "    def __init__(self, img_dir, mask_dir: str, size) -> None:\n",
    "        # 获取所有图片路径\n",
    "        self.img_paths = list(Path(img_dir).glob(\"*\"))\n",
    "        self.mask_paths = list(Path(mask_dir).glob(\"*\"))\n",
    "        for idx in self.invalid_img:\n",
    "            del self.img_paths[idx]\n",
    "            del self.mask_paths[idx]\n",
    "        \n",
    "        \n",
    "        # 设置 transforms\n",
    "        self.transform = v2.Compose([     v2.Resize(size), \n",
    "                                             #v2.RandomHorizontalFlip(),  # 随机水平翻转\n",
    "                                             #v2.RandomVerticalFlip(),    # 随机垂直旋转\n",
    "                                             #v2.RandomRotation(10) ,     # 随机旋转 （-10,10）度\n",
    "                                             v2.ToImageTensor(), v2.ConvertImageDtype()])\n",
    "#         self.transform = transforms.Compose([transforms.PILToTensor()])\n",
    "\n",
    "    # 使用函数加载原始图像\n",
    "    def load_orig_image(self, index: int) -> Image.Image:\n",
    "        \"Opens an image via a path and returns it.\"\n",
    "        image_path = self.img_paths[index]\n",
    "        return Image.open(image_path) \n",
    "    \n",
    "    # 使用函数加载tmask图像\n",
    "    def load_mask_image(self, index: int) -> Image.Image:\n",
    "        \"Opens an image via a path and returns it.\"\n",
    "        image_path = self.mask_paths[index]\n",
    "        return Image.open(image_path) \n",
    "\n",
    "    #  重写 __len__() 方法 (optional but recommended for subclasses of torch.utils.data.Dataset)\n",
    "    def __len__(self) -> int:\n",
    "        \"Returns the total number of samples.\"\n",
    "        return len(self.img_paths)\n",
    "\n",
    "    # 重写 __getitem__() 方法 (required for subclasses of torch.utils.data.Dataset)\n",
    "    def __getitem__(self, index: int) -> Tuple[torch.Tensor, torch.Tensor]:\n",
    "        \"Returns one sample of data, image and mask (X, y).\"\n",
    "        orig_img = self.load_orig_image(index)\n",
    "        mask_img = self.load_mask_image(index)\n",
    "        \n",
    "        #seed = np.random.randint(2147483647)\n",
    "        #torch.manual_seed(seed)   # 指定同样的随机种子，以保证图片和label的旋转（水平、垂直和rotation）一致\n",
    "        orig_img = self.transform(orig_img)\n",
    "        #torch.manual_seed(seed)  # 指定同样的随机种子，以保证图片和label的旋转（水平、垂直和rotation）一致\n",
    "        mask_img = self.transform(mask_img)\n",
    "#         mask_img = mask_img[0]\n",
    "#         if orig_img.size()[0] != 3:\n",
    "#             print(\"{}: orig_img size: {}\".format(index,orig_img.size()))\n",
    "#             return None\n",
    "        # return data, mask (X, y)\n",
    "        return orig_img, mask_img\n"
   ]
  },
  {
   "cell_type": "markdown",
   "id": "6fd37eaf",
   "metadata": {
    "papermill": {
     "duration": 0.009217,
     "end_time": "2024-01-18T10:14:33.729178",
     "exception": false,
     "start_time": "2024-01-18T10:14:33.719961",
     "status": "completed"
    },
    "tags": []
   },
   "source": [
    "# 加载数据集"
   ]
  },
  {
   "cell_type": "code",
   "execution_count": 6,
   "id": "b6ffeb47",
   "metadata": {
    "execution": {
     "iopub.execute_input": "2024-01-18T10:14:33.748223Z",
     "iopub.status.busy": "2024-01-18T10:14:33.747937Z",
     "iopub.status.idle": "2024-01-18T10:14:34.060503Z",
     "shell.execute_reply": "2024-01-18T10:14:34.059598Z"
    },
    "papermill": {
     "duration": 0.324717,
     "end_time": "2024-01-18T10:14:34.062699",
     "exception": false,
     "start_time": "2024-01-18T10:14:33.737982",
     "status": "completed"
    },
    "tags": []
   },
   "outputs": [
    {
     "name": "stdout",
     "output_type": "stream",
     "text": [
      "dataset info\n",
      "total: 571, train_size: 456, validate_size: 115\n"
     ]
    }
   ],
   "source": [
    "dataset =  APODataSet(img_dir = \"/kaggle/input/dltrack/apo_images\",\n",
    "                      mask_dir = \"/kaggle/input/dltrack/apo_masks\",\n",
    "                     size = [512, 512])\n",
    "\n",
    "total = len(dataset)\n",
    "train_size = int(0.8*total)\n",
    "validate_size = total - train_size\n",
    "train_data, validate_data = random_split(dataset, [train_size, validate_size])\n",
    "print(\"dataset info\\ntotal: {}, train_size: {}, validate_size: {}\".format(total, len(train_data), len(validate_data)))\n",
    "\n",
    "trainloader = DataLoader(dataset=train_data,\n",
    "                                     batch_size=2,\n",
    "                                     num_workers=0,\n",
    "                                     shuffle=True)\n",
    "\n",
    "valloader = DataLoader(dataset=validate_data,\n",
    "                                    batch_size=1, \n",
    "                                    num_workers=0, \n",
    "                                    shuffle=False)"
   ]
  },
  {
   "cell_type": "markdown",
   "id": "9c5d8e3c",
   "metadata": {
    "papermill": {
     "duration": 0.008933,
     "end_time": "2024-01-18T10:14:34.080924",
     "exception": false,
     "start_time": "2024-01-18T10:14:34.071991",
     "status": "completed"
    },
    "tags": []
   },
   "source": [
    "## 检查异常图片\n",
    "要把找到的异常数据去除"
   ]
  },
  {
   "cell_type": "code",
   "execution_count": 7,
   "id": "c467630e",
   "metadata": {
    "execution": {
     "iopub.execute_input": "2024-01-18T10:14:34.100249Z",
     "iopub.status.busy": "2024-01-18T10:14:34.099948Z",
     "iopub.status.idle": "2024-01-18T10:14:49.226786Z",
     "shell.execute_reply": "2024-01-18T10:14:49.225741Z"
    },
    "papermill": {
     "duration": 15.139035,
     "end_time": "2024-01-18T10:14:49.228877",
     "exception": false,
     "start_time": "2024-01-18T10:14:34.089842",
     "status": "completed"
    },
    "tags": []
   },
   "outputs": [
    {
     "name": "stdout",
     "output_type": "stream",
     "text": [
      "[done]\n"
     ]
    }
   ],
   "source": [
    "for index in range(len(dataset)):\n",
    "    orig_img, mask_img = dataset[index]\n",
    "    if orig_img.size()[0] != 3:\n",
    "        print(\"{}: orig_img size: {}\".format(index,orig_img.size()))\n",
    "print(\"[done]\")"
   ]
  },
  {
   "cell_type": "markdown",
   "id": "9c1f341d",
   "metadata": {
    "papermill": {
     "duration": 0.009153,
     "end_time": "2024-01-18T10:14:49.247513",
     "exception": false,
     "start_time": "2024-01-18T10:14:49.238360",
     "status": "completed"
    },
    "tags": []
   },
   "source": [
    "### 随机显示一张原始图片和其对应的标记图片"
   ]
  },
  {
   "cell_type": "code",
   "execution_count": 8,
   "id": "89f922e4",
   "metadata": {
    "execution": {
     "iopub.execute_input": "2024-01-18T10:14:49.267629Z",
     "iopub.status.busy": "2024-01-18T10:14:49.267316Z",
     "iopub.status.idle": "2024-01-18T10:14:49.949539Z",
     "shell.execute_reply": "2024-01-18T10:14:49.948597Z"
    },
    "papermill": {
     "duration": 0.697356,
     "end_time": "2024-01-18T10:14:49.954177",
     "exception": false,
     "start_time": "2024-01-18T10:14:49.256821",
     "status": "completed"
    },
    "tags": []
   },
   "outputs": [
    {
     "name": "stdout",
     "output_type": "stream",
     "text": [
      "torch.Size([3, 512, 512])\n",
      "showing image of 38: \n"
     ]
    },
    {
     "data": {
      "image/png": "[encoded data removed]",
      "text/plain": [
       "<Figure size 1500x1200 with 2 Axes>"
      ]
     },
     "metadata": {},
     "output_type": "display_data"
    }
   ],
   "source": [
    "idx = random.randint(0, len(dataset))\n",
    "orig_img, mask_img = dataset[idx]\n",
    "print(orig_img.size())\n",
    "\n",
    "transform = v2.ToPILImage()\n",
    "print(\"showing image of {}: \".format(idx))\n",
    "\n",
    "orig_img = transform(orig_img)\n",
    "mask_img = transform(mask_img)\n",
    "\n",
    "fig, (ax1, ax2) = plt.subplots(1, 2, figsize = (15, 12))\n",
    "\n",
    "ax1.imshow(orig_img)\n",
    "ax1.set_title(\"origin_img\")\n",
    "\n",
    "ax2.imshow(mask_img)\n",
    "ax2.set_title(\"mask_img\")\n",
    "\n",
    "plt.show()"
   ]
  },
  {
   "cell_type": "markdown",
   "id": "24f784c4",
   "metadata": {
    "papermill": {
     "duration": 0.012525,
     "end_time": "2024-01-18T10:14:49.980008",
     "exception": false,
     "start_time": "2024-01-18T10:14:49.967483",
     "status": "completed"
    },
    "tags": []
   },
   "source": [
    "# 训练网络"
   ]
  },
  {
   "cell_type": "code",
   "execution_count": 9,
   "id": "8f8b756c",
   "metadata": {
    "execution": {
     "iopub.execute_input": "2024-01-18T10:14:50.008107Z",
     "iopub.status.busy": "2024-01-18T10:14:50.007782Z",
     "iopub.status.idle": "2024-01-18T10:14:50.018821Z",
     "shell.execute_reply": "2024-01-18T10:14:50.017957Z"
    },
    "papermill": {
     "duration": 0.02804,
     "end_time": "2024-01-18T10:14:50.020701",
     "exception": false,
     "start_time": "2024-01-18T10:14:49.992661",
     "status": "completed"
    },
    "tags": []
   },
   "outputs": [],
   "source": [
    "\n",
    "@torch.inference_mode()\n",
    "def evaluate(net, dataloader, device, amp):\n",
    "    net.eval()\n",
    "    num_val_batches = len(dataloader)\n",
    "    dice_score = 0\n",
    "    iou_score = 0\n",
    "\n",
    "    if isinstance(model, nn.DataParallel):\n",
    "        n_classes = net.module.n_classes\n",
    "    else:\n",
    "        n_classes = net.n_classes\n",
    "    criterion = nn.BCEWithLogitsLoss().cuda()\n",
    "    dice_loss = smp.losses.DiceLoss(mode='binary', log_loss=True, from_logits = True).cuda()\n",
    "   \n",
    "    \n",
    "    print(\"Validation round\")\n",
    "    # iterate over the validation set\n",
    "    with torch.autocast(device.type if device.type != 'mps' else 'cpu', enabled=amp):\n",
    "        for batch in tqdm(dataloader, total=num_val_batches, desc='Validation round', unit='batch', position=0 ,leave=True):\n",
    "            image, mask_true = batch\n",
    "\n",
    "            # move images and labels to correct device and type\n",
    "            image = image.to(device=device, dtype=torch.float32, memory_format=torch.channels_last)\n",
    "            mask_true = mask_true.to(device=device, dtype=torch.float32)\n",
    "\n",
    "            # predict the mask\n",
    "            mask_pred = net(image)\n",
    "            dice_score += criterion(mask_pred, mask_true.float())\n",
    "            dice_score += dice_loss(mask_pred, mask_true)\n",
    "            \n",
    "            tp, fp, fn, tn = smp.metrics.get_stats(mask_pred, mask_true.long(), mode='binary', threshold=0.5)\n",
    "            iou_score += smp.metrics.iou_score(tp, fp, fn, tn, reduction=\"micro\")\n",
    "            \n",
    "    dice_loss = (dice_score / max(num_val_batches, 1))\n",
    "    iou_score = (iou_score / max(num_val_batches, 1))\n",
    "    print(\"Validation dice loss: {}, IoU Score {}\".format(dice_loss, iou_score))\n",
    "    return (dice_loss, iou_score)"
   ]
  },
  {
   "cell_type": "markdown",
   "id": "21b19879",
   "metadata": {
    "papermill": {
     "duration": 0.012239,
     "end_time": "2024-01-18T10:14:50.045468",
     "exception": false,
     "start_time": "2024-01-18T10:14:50.033229",
     "status": "completed"
    },
    "tags": []
   },
   "source": [
    "## 设置wandb账号\n",
    "用作统计与数据分析"
   ]
  },
  {
   "cell_type": "code",
   "execution_count": 10,
   "id": "cef75564",
   "metadata": {
    "execution": {
     "iopub.execute_input": "2024-01-18T10:14:50.071592Z",
     "iopub.status.busy": "2024-01-18T10:14:50.071293Z",
     "iopub.status.idle": "2024-01-18T10:14:54.300019Z",
     "shell.execute_reply": "2024-01-18T10:14:54.298902Z"
    },
    "papermill": {
     "duration": 4.244627,
     "end_time": "2024-01-18T10:14:54.302534",
     "exception": false,
     "start_time": "2024-01-18T10:14:50.057907",
     "status": "completed"
    },
    "tags": []
   },
   "outputs": [
    {
     "name": "stdout",
     "output_type": "stream",
     "text": [
      "\u001b[34m\u001b[1mwandb\u001b[0m: Currently logged in as: \u001b[33mtorwayland\u001b[0m (\u001b[33mcupes-wangtao\u001b[0m). Use \u001b[1m`wandb login --relogin`\u001b[0m to force relogin\r\n"
     ]
    }
   ],
   "source": [
    "os.environ['WANDB_API_KEY']='d561f1229ba7c4e207ca34042f29a43552a7447e'\n",
    "!wandb login"
   ]
  },
  {
   "cell_type": "code",
   "execution_count": 11,
   "id": "c8935825",
   "metadata": {
    "execution": {
     "iopub.execute_input": "2024-01-18T10:14:54.331165Z",
     "iopub.status.busy": "2024-01-18T10:14:54.330863Z",
     "iopub.status.idle": "2024-01-18T12:50:18.325508Z",
     "shell.execute_reply": "2024-01-18T12:50:18.324541Z"
    },
    "papermill": {
     "duration": 9324.011616,
     "end_time": "2024-01-18T12:50:18.327735",
     "exception": false,
     "start_time": "2024-01-18T10:14:54.316119",
     "status": "completed"
    },
    "tags": []
   },
   "outputs": [
    {
     "name": "stdout",
     "output_type": "stream",
     "text": [
      "Let's use 2 GPUs!\n",
      "模型参数量为：31043521\n",
      "其详情为：\n",
      "module.down1.double_conv.double_conv.0.weight : torch.Size([64, 3, 3, 3])\n",
      "module.down1.double_conv.double_conv.0.bias : torch.Size([64])\n",
      "module.down1.double_conv.double_conv.1.weight : torch.Size([64])\n",
      "module.down1.double_conv.double_conv.1.bias : torch.Size([64])\n",
      "module.down1.double_conv.double_conv.3.weight : torch.Size([64, 64, 3, 3])\n",
      "module.down1.double_conv.double_conv.3.bias : torch.Size([64])\n",
      "module.down1.double_conv.double_conv.4.weight : torch.Size([64])\n",
      "module.down1.double_conv.double_conv.4.bias : torch.Size([64])\n",
      "module.down2.double_conv.double_conv.0.weight : torch.Size([128, 64, 3, 3])\n",
      "module.down2.double_conv.double_conv.0.bias : torch.Size([128])\n",
      "module.down2.double_conv.double_conv.1.weight : torch.Size([128])\n",
      "module.down2.double_conv.double_conv.1.bias : torch.Size([128])\n",
      "module.down2.double_conv.double_conv.3.weight : torch.Size([128, 128, 3, 3])\n",
      "module.down2.double_conv.double_conv.3.bias : torch.Size([128])\n",
      "module.down2.double_conv.double_conv.4.weight : torch.Size([128])\n",
      "module.down2.double_conv.double_conv.4.bias : torch.Size([128])\n",
      "module.down3.double_conv.double_conv.0.weight : torch.Size([256, 128, 3, 3])\n",
      "module.down3.double_conv.double_conv.0.bias : torch.Size([256])\n",
      "module.down3.double_conv.double_conv.1.weight : torch.Size([256])\n",
      "module.down3.double_conv.double_conv.1.bias : torch.Size([256])\n",
      "module.down3.double_conv.double_conv.3.weight : torch.Size([256, 256, 3, 3])\n",
      "module.down3.double_conv.double_conv.3.bias : torch.Size([256])\n",
      "module.down3.double_conv.double_conv.4.weight : torch.Size([256])\n",
      "module.down3.double_conv.double_conv.4.bias : torch.Size([256])\n",
      "module.down4.double_conv.double_conv.0.weight : torch.Size([512, 256, 3, 3])\n",
      "module.down4.double_conv.double_conv.0.bias : torch.Size([512])\n",
      "module.down4.double_conv.double_conv.1.weight : torch.Size([512])\n",
      "module.down4.double_conv.double_conv.1.bias : torch.Size([512])\n",
      "module.down4.double_conv.double_conv.3.weight : torch.Size([512, 512, 3, 3])\n",
      "module.down4.double_conv.double_conv.3.bias : torch.Size([512])\n",
      "module.down4.double_conv.double_conv.4.weight : torch.Size([512])\n",
      "module.down4.double_conv.double_conv.4.bias : torch.Size([512])\n",
      "module.bottle_conv.double_conv.0.weight : torch.Size([1024, 512, 3, 3])\n",
      "module.bottle_conv.double_conv.0.bias : torch.Size([1024])\n",
      "module.bottle_conv.double_conv.1.weight : torch.Size([1024])\n",
      "module.bottle_conv.double_conv.1.bias : torch.Size([1024])\n",
      "module.bottle_conv.double_conv.3.weight : torch.Size([1024, 1024, 3, 3])\n",
      "module.bottle_conv.double_conv.3.bias : torch.Size([1024])\n",
      "module.bottle_conv.double_conv.4.weight : torch.Size([1024])\n",
      "module.bottle_conv.double_conv.4.bias : torch.Size([1024])\n",
      "module.up4.up.weight : torch.Size([1024, 512, 2, 2])\n",
      "module.up4.up.bias : torch.Size([512])\n",
      "module.up4.conv.1.double_conv.0.weight : torch.Size([512, 1024, 3, 3])\n",
      "module.up4.conv.1.double_conv.0.bias : torch.Size([512])\n",
      "module.up4.conv.1.double_conv.1.weight : torch.Size([512])\n",
      "module.up4.conv.1.double_conv.1.bias : torch.Size([512])\n",
      "module.up4.conv.1.double_conv.3.weight : torch.Size([512, 512, 3, 3])\n",
      "module.up4.conv.1.double_conv.3.bias : torch.Size([512])\n",
      "module.up4.conv.1.double_conv.4.weight : torch.Size([512])\n",
      "module.up4.conv.1.double_conv.4.bias : torch.Size([512])\n",
      "module.up3.up.weight : torch.Size([512, 256, 2, 2])\n",
      "module.up3.up.bias : torch.Size([256])\n",
      "module.up3.conv.1.double_conv.0.weight : torch.Size([256, 512, 3, 3])\n",
      "module.up3.conv.1.double_conv.0.bias : torch.Size([256])\n",
      "module.up3.conv.1.double_conv.1.weight : torch.Size([256])\n",
      "module.up3.conv.1.double_conv.1.bias : torch.Size([256])\n",
      "module.up3.conv.1.double_conv.3.weight : torch.Size([256, 256, 3, 3])\n",
      "module.up3.conv.1.double_conv.3.bias : torch.Size([256])\n",
      "module.up3.conv.1.double_conv.4.weight : torch.Size([256])\n",
      "module.up3.conv.1.double_conv.4.bias : torch.Size([256])\n",
      "module.up2.up.weight : torch.Size([256, 128, 2, 2])\n",
      "module.up2.up.bias : torch.Size([128])\n",
      "module.up2.conv.1.double_conv.0.weight : torch.Size([128, 256, 3, 3])\n",
      "module.up2.conv.1.double_conv.0.bias : torch.Size([128])\n",
      "module.up2.conv.1.double_conv.1.weight : torch.Size([128])\n",
      "module.up2.conv.1.double_conv.1.bias : torch.Size([128])\n",
      "module.up2.conv.1.double_conv.3.weight : torch.Size([128, 128, 3, 3])\n",
      "module.up2.conv.1.double_conv.3.bias : torch.Size([128])\n",
      "module.up2.conv.1.double_conv.4.weight : torch.Size([128])\n",
      "module.up2.conv.1.double_conv.4.bias : torch.Size([128])\n",
      "module.up1.up.weight : torch.Size([128, 64, 2, 2])\n",
      "module.up1.up.bias : torch.Size([64])\n",
      "module.up1.conv.1.double_conv.0.weight : torch.Size([64, 128, 3, 3])\n",
      "module.up1.conv.1.double_conv.0.bias : torch.Size([64])\n",
      "module.up1.conv.1.double_conv.1.weight : torch.Size([64])\n",
      "module.up1.conv.1.double_conv.1.bias : torch.Size([64])\n",
      "module.up1.conv.1.double_conv.3.weight : torch.Size([64, 64, 3, 3])\n",
      "module.up1.conv.1.double_conv.3.bias : torch.Size([64])\n",
      "module.up1.conv.1.double_conv.4.weight : torch.Size([64])\n",
      "module.up1.conv.1.double_conv.4.bias : torch.Size([64])\n",
      "module.outc.weight : torch.Size([1, 64, 1, 1])\n",
      "module.outc.bias : torch.Size([1])\n"
     ]
    },
    {
     "name": "stderr",
     "output_type": "stream",
     "text": [
      "\u001b[34m\u001b[1mwandb\u001b[0m: Currently logged in as: \u001b[33mtorwayland\u001b[0m (\u001b[33mcupes-wangtao\u001b[0m). Use \u001b[1m`wandb login --relogin`\u001b[0m to force relogin\n",
      "\u001b[34m\u001b[1mwandb\u001b[0m: wandb version 0.16.2 is available!  To upgrade, please run:\n",
      "\u001b[34m\u001b[1mwandb\u001b[0m:  $ pip install wandb --upgrade\n",
      "\u001b[34m\u001b[1mwandb\u001b[0m: Tracking run with wandb version 0.15.5\n",
      "\u001b[34m\u001b[1mwandb\u001b[0m: Run data is saved locally in \u001b[35m\u001b[1m/kaggle/working/wandb/run-20240118_101458-p96t3dq1\u001b[0m\n",
      "\u001b[34m\u001b[1mwandb\u001b[0m: Run \u001b[1m`wandb offline`\u001b[0m to turn off syncing.\n",
      "\u001b[34m\u001b[1mwandb\u001b[0m: Syncing run \u001b[33mjolly-snowball-23\u001b[0m\n",
      "\u001b[34m\u001b[1mwandb\u001b[0m: ⭐️ View project at \u001b[34m\u001b[4mhttps://wandb.ai/cupes-wangtao/U-Net\u001b[0m\n",
      "\u001b[34m\u001b[1mwandb\u001b[0m: 🚀 View run at \u001b[34m\u001b[4mhttps://wandb.ai/cupes-wangtao/U-Net/runs/p96t3dq1\u001b[0m\n",
      "Epoch 1/60:  20%|█▉        | 90/456 [00:17<01:01,  5.91img/s, loss (batch)=1.52]"
     ]
    },
    {
     "name": "stdout",
     "output_type": "stream",
     "text": [
      "Validation round\n"
     ]
    },
    {
     "name": "stderr",
     "output_type": "stream",
     "text": [
      "Validation round: 100%|██████████| 115/115 [00:12<00:00,  8.90batch/s]\n"
     ]
    },
    {
     "name": "stdout",
     "output_type": "stream",
     "text": [
      "Validation dice loss: 2.8890140056610107, IoU Score 0.26447874307632446\n"
     ]
    },
    {
     "name": "stderr",
     "output_type": "stream",
     "text": [
      "Epoch 1/60:  39%|███▉      | 180/456 [00:47<00:47,  5.82img/s, loss (batch)=1.24]"
     ]
    },
    {
     "name": "stdout",
     "output_type": "stream",
     "text": [
      "Validation round\n"
     ]
    },
    {
     "name": "stderr",
     "output_type": "stream",
     "text": [
      "Validation round: 100%|██████████| 115/115 [00:13<00:00,  8.74batch/s]\n"
     ]
    },
    {
     "name": "stdout",
     "output_type": "stream",
     "text": [
      "Validation dice loss: 2.406412124633789, IoU Score 0.35236912965774536\n"
     ]
    },
    {
     "name": "stderr",
     "output_type": "stream",
     "text": [
      "Epoch 1/60:  59%|█████▉    | 270/456 [01:17<00:33,  5.59img/s, loss (batch)=1.13]"
     ]
    },
    {
     "name": "stdout",
     "output_type": "stream",
     "text": [
      "Validation round\n"
     ]
    },
    {
     "name": "stderr",
     "output_type": "stream",
     "text": [
      "Validation round: 100%|██████████| 115/115 [00:13<00:00,  8.52batch/s]\n"
     ]
    },
    {
     "name": "stdout",
     "output_type": "stream",
     "text": [
      "Validation dice loss: 2.1007165908813477, IoU Score 0.5687796473503113\n"
     ]
    },
    {
     "name": "stderr",
     "output_type": "stream",
     "text": [
      "Epoch 1/60:  79%|███████▉  | 360/456 [01:48<00:16,  5.65img/s, loss (batch)=1.14]"
     ]
    },
    {
     "name": "stdout",
     "output_type": "stream",
     "text": [
      "Validation round\n"
     ]
    },
    {
     "name": "stderr",
     "output_type": "stream",
     "text": [
      "Validation round: 100%|██████████| 115/115 [00:13<00:00,  8.66batch/s]\n"
     ]
    },
    {
     "name": "stdout",
     "output_type": "stream",
     "text": [
      "Validation dice loss: 2.028954029083252, IoU Score 0.5869616866111755\n"
     ]
    },
    {
     "name": "stderr",
     "output_type": "stream",
     "text": [
      "Epoch 1/60:  99%|█████████▊| 450/456 [02:18<00:01,  5.67img/s, loss (batch)=1.26]"
     ]
    },
    {
     "name": "stdout",
     "output_type": "stream",
     "text": [
      "Validation round\n"
     ]
    },
    {
     "name": "stderr",
     "output_type": "stream",
     "text": [
      "Validation round: 100%|██████████| 115/115 [00:13<00:00,  8.70batch/s]\n"
     ]
    },
    {
     "name": "stdout",
     "output_type": "stream",
     "text": [
      "Validation dice loss: 2.0622551441192627, IoU Score 0.5675877928733826\n"
     ]
    },
    {
     "name": "stderr",
     "output_type": "stream",
     "text": [
      "Epoch 1/60: 100%|██████████| 456/456 [02:34<00:00,  2.95img/s, loss (batch)=1.2]\n",
      "Epoch 2/60:  18%|█▊        | 84/456 [00:15<01:10,  5.30img/s, loss (batch)=1.03]"
     ]
    },
    {
     "name": "stdout",
     "output_type": "stream",
     "text": [
      "Validation round\n"
     ]
    },
    {
     "name": "stderr",
     "output_type": "stream",
     "text": [
      "Validation round: 100%|██████████| 115/115 [00:14<00:00,  8.05batch/s]\n"
     ]
    },
    {
     "name": "stdout",
     "output_type": "stream",
     "text": [
      "Validation dice loss: 2.0931625366210938, IoU Score 0.5593296885490417\n"
     ]
    },
    {
     "name": "stderr",
     "output_type": "stream",
     "text": [
      "Epoch 2/60:  38%|███▊      | 174/456 [00:47<00:52,  5.41img/s, loss (batch)=1.07]"
     ]
    },
    {
     "name": "stdout",
     "output_type": "stream",
     "text": [
      "Validation round\n"
     ]
    },
    {
     "name": "stderr",
     "output_type": "stream",
     "text": [
      "Validation round: 100%|██████████| 115/115 [00:13<00:00,  8.52batch/s]\n"
     ]
    },
    {
     "name": "stdout",
     "output_type": "stream",
     "text": [
      "Validation dice loss: 1.9822959899902344, IoU Score 0.6045436859130859\n"
     ]
    },
    {
     "name": "stderr",
     "output_type": "stream",
     "text": [
      "Epoch 2/60:  58%|█████▊    | 264/456 [01:18<00:34,  5.62img/s, loss (batch)=1.13]"
     ]
    },
    {
     "name": "stdout",
     "output_type": "stream",
     "text": [
      "Validation round\n"
     ]
    },
    {
     "name": "stderr",
     "output_type": "stream",
     "text": [
      "Validation round: 100%|██████████| 115/115 [00:13<00:00,  8.69batch/s]\n"
     ]
    },
    {
     "name": "stdout",
     "output_type": "stream",
     "text": [
      "Validation dice loss: 1.8887838125228882, IoU Score 0.5733188986778259\n"
     ]
    },
    {
     "name": "stderr",
     "output_type": "stream",
     "text": [
      "Epoch 2/60:  78%|███████▊  | 354/456 [01:49<00:18,  5.57img/s, loss (batch)=1.25]"
     ]
    },
    {
     "name": "stdout",
     "output_type": "stream",
     "text": [
      "Validation round\n"
     ]
    },
    {
     "name": "stderr",
     "output_type": "stream",
     "text": [
      "Validation round: 100%|██████████| 115/115 [00:13<00:00,  8.70batch/s]\n"
     ]
    },
    {
     "name": "stdout",
     "output_type": "stream",
     "text": [
      "Validation dice loss: 2.0008091926574707, IoU Score 0.5622835159301758\n"
     ]
    },
    {
     "name": "stderr",
     "output_type": "stream",
     "text": [
      "Epoch 2/60:  97%|█████████▋| 444/456 [02:20<00:02,  5.72img/s, loss (batch)=1.05]"
     ]
    },
    {
     "name": "stdout",
     "output_type": "stream",
     "text": [
      "Validation round\n"
     ]
    },
    {
     "name": "stderr",
     "output_type": "stream",
     "text": [
      "Validation round: 100%|██████████| 115/115 [00:13<00:00,  8.69batch/s]\n"
     ]
    },
    {
     "name": "stdout",
     "output_type": "stream",
     "text": [
      "Validation dice loss: 1.866156816482544, IoU Score 0.5812129378318787\n"
     ]
    },
    {
     "name": "stderr",
     "output_type": "stream",
     "text": [
      "Epoch 2/60: 100%|██████████| 456/456 [02:36<00:00,  2.91img/s, loss (batch)=1.03]\n",
      "Epoch 3/60:  17%|█▋        | 78/456 [00:13<01:06,  5.69img/s, loss (batch)=1.14]"
     ]
    },
    {
     "name": "stdout",
     "output_type": "stream",
     "text": [
      "Validation round\n"
     ]
    },
    {
     "name": "stderr",
     "output_type": "stream",
     "text": [
      "Validation round: 100%|██████████| 115/115 [00:13<00:00,  8.71batch/s]\n"
     ]
    },
    {
     "name": "stdout",
     "output_type": "stream",
     "text": [
      "Validation dice loss: 1.8321117162704468, IoU Score 0.6084315180778503\n"
     ]
    },
    {
     "name": "stderr",
     "output_type": "stream",
     "text": [
      "Epoch 3/60:  37%|███▋      | 168/456 [00:44<00:50,  5.72img/s, loss (batch)=0.962]"
     ]
    },
    {
     "name": "stdout",
     "output_type": "stream",
     "text": [
      "Validation round\n"
     ]
    },
    {
     "name": "stderr",
     "output_type": "stream",
     "text": [
      "Validation round: 100%|██████████| 115/115 [00:13<00:00,  8.70batch/s]\n"
     ]
    },
    {
     "name": "stdout",
     "output_type": "stream",
     "text": [
      "Validation dice loss: 1.8235039710998535, IoU Score 0.6272271871566772\n"
     ]
    },
    {
     "name": "stderr",
     "output_type": "stream",
     "text": [
      "Epoch 3/60:  57%|█████▋    | 258/456 [01:14<00:35,  5.63img/s, loss (batch)=1.11]"
     ]
    },
    {
     "name": "stdout",
     "output_type": "stream",
     "text": [
      "Validation round\n"
     ]
    },
    {
     "name": "stderr",
     "output_type": "stream",
     "text": [
      "Validation round: 100%|██████████| 115/115 [00:13<00:00,  8.65batch/s]\n"
     ]
    },
    {
     "name": "stdout",
     "output_type": "stream",
     "text": [
      "Validation dice loss: 1.7163974046707153, IoU Score 0.6158031821250916\n"
     ]
    },
    {
     "name": "stderr",
     "output_type": "stream",
     "text": [
      "Epoch 3/60:  76%|███████▋  | 348/456 [01:45<00:19,  5.68img/s, loss (batch)=0.965]"
     ]
    },
    {
     "name": "stdout",
     "output_type": "stream",
     "text": [
      "Validation round\n"
     ]
    },
    {
     "name": "stderr",
     "output_type": "stream",
     "text": [
      "Validation round: 100%|██████████| 115/115 [00:13<00:00,  8.69batch/s]\n"
     ]
    },
    {
     "name": "stdout",
     "output_type": "stream",
     "text": [
      "Validation dice loss: 1.7684093713760376, IoU Score 0.6407814025878906\n"
     ]
    },
    {
     "name": "stderr",
     "output_type": "stream",
     "text": [
      "Epoch 3/60:  96%|█████████▌| 438/456 [02:15<00:03,  5.66img/s, loss (batch)=1.01]"
     ]
    },
    {
     "name": "stdout",
     "output_type": "stream",
     "text": [
      "Validation round\n"
     ]
    },
    {
     "name": "stderr",
     "output_type": "stream",
     "text": [
      "Validation round: 100%|██████████| 115/115 [00:13<00:00,  8.70batch/s]\n"
     ]
    },
    {
     "name": "stdout",
     "output_type": "stream",
     "text": [
      "Validation dice loss: 1.7165311574935913, IoU Score 0.6095302700996399\n"
     ]
    },
    {
     "name": "stderr",
     "output_type": "stream",
     "text": [
      "Epoch 3/60: 100%|██████████| 456/456 [02:33<00:00,  2.97img/s, loss (batch)=1.05]\n",
      "Epoch 4/60:  16%|█▌        | 72/456 [00:12<01:06,  5.74img/s, loss (batch)=0.929]"
     ]
    },
    {
     "name": "stdout",
     "output_type": "stream",
     "text": [
      "Validation round\n"
     ]
    },
    {
     "name": "stderr",
     "output_type": "stream",
     "text": [
      "Validation round: 100%|██████████| 115/115 [00:13<00:00,  8.73batch/s]\n"
     ]
    },
    {
     "name": "stdout",
     "output_type": "stream",
     "text": [
      "Validation dice loss: 1.7751786708831787, IoU Score 0.6322506070137024\n"
     ]
    },
    {
     "name": "stderr",
     "output_type": "stream",
     "text": [
      "Epoch 4/60:  36%|███▌      | 162/456 [00:43<00:51,  5.66img/s, loss (batch)=1.03] "
     ]
    },
    {
     "name": "stdout",
     "output_type": "stream",
     "text": [
      "Validation round\n"
     ]
    },
    {
     "name": "stderr",
     "output_type": "stream",
     "text": [
      "Validation round: 100%|██████████| 115/115 [00:13<00:00,  8.74batch/s]\n"
     ]
    },
    {
     "name": "stdout",
     "output_type": "stream",
     "text": [
      "Validation dice loss: 1.777405858039856, IoU Score 0.6214128136634827\n"
     ]
    },
    {
     "name": "stderr",
     "output_type": "stream",
     "text": [
      "Epoch 4/60:  55%|█████▌    | 252/456 [01:13<00:35,  5.68img/s, loss (batch)=1.32] "
     ]
    },
    {
     "name": "stdout",
     "output_type": "stream",
     "text": [
      "Validation round\n"
     ]
    },
    {
     "name": "stderr",
     "output_type": "stream",
     "text": [
      "Validation round: 100%|██████████| 115/115 [00:13<00:00,  8.75batch/s]\n"
     ]
    },
    {
     "name": "stdout",
     "output_type": "stream",
     "text": [
      "Validation dice loss: 1.6898611783981323, IoU Score 0.6475783586502075\n"
     ]
    },
    {
     "name": "stderr",
     "output_type": "stream",
     "text": [
      "Epoch 4/60:  75%|███████▌  | 342/456 [01:44<00:20,  5.55img/s, loss (batch)=0.971]"
     ]
    },
    {
     "name": "stdout",
     "output_type": "stream",
     "text": [
      "Validation round\n"
     ]
    },
    {
     "name": "stderr",
     "output_type": "stream",
     "text": [
      "Validation round: 100%|██████████| 115/115 [00:13<00:00,  8.75batch/s]\n"
     ]
    },
    {
     "name": "stdout",
     "output_type": "stream",
     "text": [
      "Validation dice loss: 1.6246598958969116, IoU Score 0.5908021926879883\n"
     ]
    },
    {
     "name": "stderr",
     "output_type": "stream",
     "text": [
      "Epoch 4/60:  95%|█████████▍| 432/456 [02:14<00:04,  5.65img/s, loss (batch)=1.04] "
     ]
    },
    {
     "name": "stdout",
     "output_type": "stream",
     "text": [
      "Validation round\n"
     ]
    },
    {
     "name": "stderr",
     "output_type": "stream",
     "text": [
      "Validation round: 100%|██████████| 115/115 [00:13<00:00,  8.73batch/s]\n"
     ]
    },
    {
     "name": "stdout",
     "output_type": "stream",
     "text": [
      "Validation dice loss: 1.6515289545059204, IoU Score 0.5805683135986328\n"
     ]
    },
    {
     "name": "stderr",
     "output_type": "stream",
     "text": [
      "Epoch 4/60: 100%|██████████| 456/456 [02:33<00:00,  2.97img/s, loss (batch)=0.962]\n",
      "Epoch 5/60:  14%|█▍        | 66/456 [00:11<01:09,  5.64img/s, loss (batch)=0.988]"
     ]
    },
    {
     "name": "stdout",
     "output_type": "stream",
     "text": [
      "Validation round\n"
     ]
    },
    {
     "name": "stderr",
     "output_type": "stream",
     "text": [
      "Validation round: 100%|██████████| 115/115 [00:13<00:00,  8.77batch/s]\n"
     ]
    },
    {
     "name": "stdout",
     "output_type": "stream",
     "text": [
      "Validation dice loss: 1.6694058179855347, IoU Score 0.5904048085212708\n"
     ]
    },
    {
     "name": "stderr",
     "output_type": "stream",
     "text": [
      "Epoch 5/60:  34%|███▍      | 156/456 [00:41<00:52,  5.67img/s, loss (batch)=0.878]"
     ]
    },
    {
     "name": "stdout",
     "output_type": "stream",
     "text": [
      "Validation round\n"
     ]
    },
    {
     "name": "stderr",
     "output_type": "stream",
     "text": [
      "Validation round: 100%|██████████| 115/115 [00:13<00:00,  8.75batch/s]\n"
     ]
    },
    {
     "name": "stdout",
     "output_type": "stream",
     "text": [
      "Validation dice loss: 1.6375211477279663, IoU Score 0.6178268790245056\n"
     ]
    },
    {
     "name": "stderr",
     "output_type": "stream",
     "text": [
      "Epoch 5/60:  54%|█████▍    | 246/456 [01:12<00:36,  5.69img/s, loss (batch)=1.05] "
     ]
    },
    {
     "name": "stdout",
     "output_type": "stream",
     "text": [
      "Validation round\n"
     ]
    },
    {
     "name": "stderr",
     "output_type": "stream",
     "text": [
      "Validation round: 100%|██████████| 115/115 [00:13<00:00,  8.74batch/s]\n"
     ]
    },
    {
     "name": "stdout",
     "output_type": "stream",
     "text": [
      "Validation dice loss: 1.6196613311767578, IoU Score 0.6356110572814941\n"
     ]
    },
    {
     "name": "stderr",
     "output_type": "stream",
     "text": [
      "Epoch 5/60:  74%|███████▎  | 336/456 [01:42<00:21,  5.70img/s, loss (batch)=0.855]"
     ]
    },
    {
     "name": "stdout",
     "output_type": "stream",
     "text": [
      "Validation round\n"
     ]
    },
    {
     "name": "stderr",
     "output_type": "stream",
     "text": [
      "Validation round: 100%|██████████| 115/115 [00:13<00:00,  8.77batch/s]\n"
     ]
    },
    {
     "name": "stdout",
     "output_type": "stream",
     "text": [
      "Validation dice loss: 1.6063576936721802, IoU Score 0.634510338306427\n"
     ]
    },
    {
     "name": "stderr",
     "output_type": "stream",
     "text": [
      "Epoch 5/60:  93%|█████████▎| 426/456 [02:13<00:05,  5.73img/s, loss (batch)=0.838]"
     ]
    },
    {
     "name": "stdout",
     "output_type": "stream",
     "text": [
      "Validation round\n"
     ]
    },
    {
     "name": "stderr",
     "output_type": "stream",
     "text": [
      "Validation round: 100%|██████████| 115/115 [00:13<00:00,  8.75batch/s]\n"
     ]
    },
    {
     "name": "stdout",
     "output_type": "stream",
     "text": [
      "Validation dice loss: 1.5586495399475098, IoU Score 0.6079704761505127\n"
     ]
    },
    {
     "name": "stderr",
     "output_type": "stream",
     "text": [
      "Epoch 5/60: 100%|██████████| 456/456 [02:33<00:00,  2.98img/s, loss (batch)=1.05]\n",
      "Epoch 6/60:  13%|█▎        | 60/456 [00:10<01:10,  5.63img/s, loss (batch)=0.966]"
     ]
    },
    {
     "name": "stdout",
     "output_type": "stream",
     "text": [
      "Validation round\n"
     ]
    },
    {
     "name": "stderr",
     "output_type": "stream",
     "text": [
      "Validation round: 100%|██████████| 115/115 [00:13<00:00,  8.75batch/s]\n"
     ]
    },
    {
     "name": "stdout",
     "output_type": "stream",
     "text": [
      "Validation dice loss: 1.5249286890029907, IoU Score 0.6280637383460999\n"
     ]
    },
    {
     "name": "stderr",
     "output_type": "stream",
     "text": [
      "Epoch 6/60:  33%|███▎      | 150/456 [00:40<00:53,  5.68img/s, loss (batch)=0.951]"
     ]
    },
    {
     "name": "stdout",
     "output_type": "stream",
     "text": [
      "Validation round\n"
     ]
    },
    {
     "name": "stderr",
     "output_type": "stream",
     "text": [
      "Validation round: 100%|██████████| 115/115 [00:13<00:00,  8.75batch/s]\n"
     ]
    },
    {
     "name": "stdout",
     "output_type": "stream",
     "text": [
      "Validation dice loss: 1.5344032049179077, IoU Score 0.6261970400810242\n"
     ]
    },
    {
     "name": "stderr",
     "output_type": "stream",
     "text": [
      "Epoch 6/60:  53%|█████▎    | 240/456 [01:11<00:37,  5.79img/s, loss (batch)=0.859]"
     ]
    },
    {
     "name": "stdout",
     "output_type": "stream",
     "text": [
      "Validation round\n"
     ]
    },
    {
     "name": "stderr",
     "output_type": "stream",
     "text": [
      "Validation round: 100%|██████████| 115/115 [00:13<00:00,  8.73batch/s]\n"
     ]
    },
    {
     "name": "stdout",
     "output_type": "stream",
     "text": [
      "Validation dice loss: 1.4776808023452759, IoU Score 0.6454391479492188\n"
     ]
    },
    {
     "name": "stderr",
     "output_type": "stream",
     "text": [
      "Epoch 6/60:  72%|███████▏  | 330/456 [01:41<00:22,  5.64img/s, loss (batch)=0.83]"
     ]
    },
    {
     "name": "stdout",
     "output_type": "stream",
     "text": [
      "Validation round\n"
     ]
    },
    {
     "name": "stderr",
     "output_type": "stream",
     "text": [
      "Validation round: 100%|██████████| 115/115 [00:13<00:00,  8.77batch/s]\n"
     ]
    },
    {
     "name": "stdout",
     "output_type": "stream",
     "text": [
      "Validation dice loss: 1.523249626159668, IoU Score 0.6530167460441589\n"
     ]
    },
    {
     "name": "stderr",
     "output_type": "stream",
     "text": [
      "Epoch 6/60:  92%|█████████▏| 420/456 [02:12<00:06,  5.62img/s, loss (batch)=1]    "
     ]
    },
    {
     "name": "stdout",
     "output_type": "stream",
     "text": [
      "Validation round\n"
     ]
    },
    {
     "name": "stderr",
     "output_type": "stream",
     "text": [
      "Validation round: 100%|██████████| 115/115 [00:13<00:00,  8.75batch/s]\n"
     ]
    },
    {
     "name": "stdout",
     "output_type": "stream",
     "text": [
      "Validation dice loss: 1.4676998853683472, IoU Score 0.6271231174468994\n"
     ]
    },
    {
     "name": "stderr",
     "output_type": "stream",
     "text": [
      "Epoch 6/60: 100%|██████████| 456/456 [02:33<00:00,  2.98img/s, loss (batch)=0.93]\n",
      "Epoch 7/60:  12%|█▏        | 54/456 [00:09<01:11,  5.61img/s, loss (batch)=0.94] "
     ]
    },
    {
     "name": "stdout",
     "output_type": "stream",
     "text": [
      "Validation round\n"
     ]
    },
    {
     "name": "stderr",
     "output_type": "stream",
     "text": [
      "Validation round: 100%|██████████| 115/115 [00:13<00:00,  8.75batch/s]\n"
     ]
    },
    {
     "name": "stdout",
     "output_type": "stream",
     "text": [
      "Validation dice loss: 1.5527862310409546, IoU Score 0.6430974006652832\n"
     ]
    },
    {
     "name": "stderr",
     "output_type": "stream",
     "text": [
      "Epoch 7/60:  32%|███▏      | 144/456 [00:39<00:54,  5.71img/s, loss (batch)=0.889]"
     ]
    },
    {
     "name": "stdout",
     "output_type": "stream",
     "text": [
      "Validation round\n"
     ]
    },
    {
     "name": "stderr",
     "output_type": "stream",
     "text": [
      "Validation round: 100%|██████████| 115/115 [00:13<00:00,  8.74batch/s]\n"
     ]
    },
    {
     "name": "stdout",
     "output_type": "stream",
     "text": [
      "Validation dice loss: 1.4937975406646729, IoU Score 0.6318394541740417\n"
     ]
    },
    {
     "name": "stderr",
     "output_type": "stream",
     "text": [
      "Epoch 7/60:  51%|█████▏    | 234/456 [01:10<00:39,  5.68img/s, loss (batch)=0.947]"
     ]
    },
    {
     "name": "stdout",
     "output_type": "stream",
     "text": [
      "Validation round\n"
     ]
    },
    {
     "name": "stderr",
     "output_type": "stream",
     "text": [
      "Validation round: 100%|██████████| 115/115 [00:13<00:00,  8.72batch/s]\n"
     ]
    },
    {
     "name": "stdout",
     "output_type": "stream",
     "text": [
      "Validation dice loss: 1.5704089403152466, IoU Score 0.6094055771827698\n"
     ]
    },
    {
     "name": "stderr",
     "output_type": "stream",
     "text": [
      "Epoch 7/60:  71%|███████   | 324/456 [01:41<00:23,  5.61img/s, loss (batch)=0.952]"
     ]
    },
    {
     "name": "stdout",
     "output_type": "stream",
     "text": [
      "Validation round\n"
     ]
    },
    {
     "name": "stderr",
     "output_type": "stream",
     "text": [
      "Validation round: 100%|██████████| 115/115 [00:13<00:00,  8.67batch/s]\n"
     ]
    },
    {
     "name": "stdout",
     "output_type": "stream",
     "text": [
      "Validation dice loss: 1.4789737462997437, IoU Score 0.6501070857048035\n"
     ]
    },
    {
     "name": "stderr",
     "output_type": "stream",
     "text": [
      "Epoch 7/60:  91%|█████████ | 414/456 [02:11<00:07,  5.71img/s, loss (batch)=0.909]"
     ]
    },
    {
     "name": "stdout",
     "output_type": "stream",
     "text": [
      "Validation round\n"
     ]
    },
    {
     "name": "stderr",
     "output_type": "stream",
     "text": [
      "Validation round: 100%|██████████| 115/115 [00:13<00:00,  8.36batch/s]\n"
     ]
    },
    {
     "name": "stdout",
     "output_type": "stream",
     "text": [
      "Validation dice loss: 1.3985837697982788, IoU Score 0.6463556885719299\n"
     ]
    },
    {
     "name": "stderr",
     "output_type": "stream",
     "text": [
      "Epoch 7/60: 100%|██████████| 456/456 [02:34<00:00,  2.95img/s, loss (batch)=0.983]\n",
      "Epoch 8/60:  11%|█         | 48/456 [00:08<01:17,  5.29img/s, loss (batch)=0.953]"
     ]
    },
    {
     "name": "stdout",
     "output_type": "stream",
     "text": [
      "Validation round\n"
     ]
    },
    {
     "name": "stderr",
     "output_type": "stream",
     "text": [
      "Validation round: 100%|██████████| 115/115 [00:13<00:00,  8.75batch/s]\n"
     ]
    },
    {
     "name": "stdout",
     "output_type": "stream",
     "text": [
      "Validation dice loss: 1.4157941341400146, IoU Score 0.6577608585357666\n"
     ]
    },
    {
     "name": "stderr",
     "output_type": "stream",
     "text": [
      "Epoch 8/60:  30%|███       | 138/456 [00:39<00:56,  5.66img/s, loss (batch)=0.854]"
     ]
    },
    {
     "name": "stdout",
     "output_type": "stream",
     "text": [
      "Validation round\n"
     ]
    },
    {
     "name": "stderr",
     "output_type": "stream",
     "text": [
      "Validation round: 100%|██████████| 115/115 [00:13<00:00,  8.76batch/s]\n"
     ]
    },
    {
     "name": "stdout",
     "output_type": "stream",
     "text": [
      "Validation dice loss: 1.422303557395935, IoU Score 0.6413571834564209\n"
     ]
    },
    {
     "name": "stderr",
     "output_type": "stream",
     "text": [
      "Epoch 8/60:  50%|█████     | 228/456 [01:09<00:40,  5.65img/s, loss (batch)=0.792]"
     ]
    },
    {
     "name": "stdout",
     "output_type": "stream",
     "text": [
      "Validation round\n"
     ]
    },
    {
     "name": "stderr",
     "output_type": "stream",
     "text": [
      "Validation round: 100%|██████████| 115/115 [00:13<00:00,  8.74batch/s]\n"
     ]
    },
    {
     "name": "stdout",
     "output_type": "stream",
     "text": [
      "Validation dice loss: 1.3871573209762573, IoU Score 0.6383041143417358\n"
     ]
    },
    {
     "name": "stderr",
     "output_type": "stream",
     "text": [
      "Epoch 8/60:  70%|██████▉   | 318/456 [01:40<00:24,  5.69img/s, loss (batch)=0.744]"
     ]
    },
    {
     "name": "stdout",
     "output_type": "stream",
     "text": [
      "Validation round\n"
     ]
    },
    {
     "name": "stderr",
     "output_type": "stream",
     "text": [
      "Validation round: 100%|██████████| 115/115 [00:13<00:00,  8.75batch/s]\n"
     ]
    },
    {
     "name": "stdout",
     "output_type": "stream",
     "text": [
      "Validation dice loss: 1.3792144060134888, IoU Score 0.6252127885818481\n"
     ]
    },
    {
     "name": "stderr",
     "output_type": "stream",
     "text": [
      "Epoch 8/60:  89%|████████▉ | 408/456 [02:10<00:08,  5.54img/s, loss (batch)=0.923]"
     ]
    },
    {
     "name": "stdout",
     "output_type": "stream",
     "text": [
      "Validation round\n"
     ]
    },
    {
     "name": "stderr",
     "output_type": "stream",
     "text": [
      "Validation round: 100%|██████████| 115/115 [00:13<00:00,  8.75batch/s]\n"
     ]
    },
    {
     "name": "stdout",
     "output_type": "stream",
     "text": [
      "Validation dice loss: 1.3821723461151123, IoU Score 0.6461713314056396\n"
     ]
    },
    {
     "name": "stderr",
     "output_type": "stream",
     "text": [
      "Epoch 8/60: 100%|██████████| 456/456 [02:33<00:00,  2.97img/s, loss (batch)=0.88]\n",
      "Epoch 9/60:   9%|▉         | 42/456 [00:07<01:12,  5.68img/s, loss (batch)=0.828]"
     ]
    },
    {
     "name": "stdout",
     "output_type": "stream",
     "text": [
      "Validation round\n"
     ]
    },
    {
     "name": "stderr",
     "output_type": "stream",
     "text": [
      "Validation round: 100%|██████████| 115/115 [00:13<00:00,  8.76batch/s]\n"
     ]
    },
    {
     "name": "stdout",
     "output_type": "stream",
     "text": [
      "Validation dice loss: 1.3483257293701172, IoU Score 0.6505758166313171\n"
     ]
    },
    {
     "name": "stderr",
     "output_type": "stream",
     "text": [
      "Epoch 9/60:  29%|██▉       | 132/456 [00:37<00:57,  5.64img/s, loss (batch)=0.763]"
     ]
    },
    {
     "name": "stdout",
     "output_type": "stream",
     "text": [
      "Validation round\n"
     ]
    },
    {
     "name": "stderr",
     "output_type": "stream",
     "text": [
      "Validation round: 100%|██████████| 115/115 [00:13<00:00,  8.76batch/s]\n"
     ]
    },
    {
     "name": "stdout",
     "output_type": "stream",
     "text": [
      "Validation dice loss: 1.3150067329406738, IoU Score 0.6519789099693298\n"
     ]
    },
    {
     "name": "stderr",
     "output_type": "stream",
     "text": [
      "Epoch 9/60:  49%|████▊     | 222/456 [01:08<00:41,  5.69img/s, loss (batch)=0.82] "
     ]
    },
    {
     "name": "stdout",
     "output_type": "stream",
     "text": [
      "Validation round\n"
     ]
    },
    {
     "name": "stderr",
     "output_type": "stream",
     "text": [
      "Validation round: 100%|██████████| 115/115 [00:13<00:00,  8.78batch/s]\n"
     ]
    },
    {
     "name": "stdout",
     "output_type": "stream",
     "text": [
      "Validation dice loss: 1.3569040298461914, IoU Score 0.6474609971046448\n"
     ]
    },
    {
     "name": "stderr",
     "output_type": "stream",
     "text": [
      "Epoch 9/60:  68%|██████▊   | 312/456 [01:38<00:25,  5.64img/s, loss (batch)=0.796]"
     ]
    },
    {
     "name": "stdout",
     "output_type": "stream",
     "text": [
      "Validation round\n"
     ]
    },
    {
     "name": "stderr",
     "output_type": "stream",
     "text": [
      "Validation round: 100%|██████████| 115/115 [00:13<00:00,  8.77batch/s]\n"
     ]
    },
    {
     "name": "stdout",
     "output_type": "stream",
     "text": [
      "Validation dice loss: 1.3193508386611938, IoU Score 0.6299371123313904\n"
     ]
    },
    {
     "name": "stderr",
     "output_type": "stream",
     "text": [
      "Epoch 9/60:  88%|████████▊ | 402/456 [02:09<00:09,  5.66img/s, loss (batch)=0.913]"
     ]
    },
    {
     "name": "stdout",
     "output_type": "stream",
     "text": [
      "Validation round\n"
     ]
    },
    {
     "name": "stderr",
     "output_type": "stream",
     "text": [
      "Validation round: 100%|██████████| 115/115 [00:13<00:00,  8.75batch/s]\n"
     ]
    },
    {
     "name": "stdout",
     "output_type": "stream",
     "text": [
      "Validation dice loss: 1.2837177515029907, IoU Score 0.6559581160545349\n"
     ]
    },
    {
     "name": "stderr",
     "output_type": "stream",
     "text": [
      "Epoch 9/60: 100%|██████████| 456/456 [02:33<00:00,  2.97img/s, loss (batch)=1.03]\n",
      "Epoch 10/60:   8%|▊         | 36/456 [00:06<01:16,  5.52img/s, loss (batch)=0.86] "
     ]
    },
    {
     "name": "stdout",
     "output_type": "stream",
     "text": [
      "Validation round\n"
     ]
    },
    {
     "name": "stderr",
     "output_type": "stream",
     "text": [
      "Validation round: 100%|██████████| 115/115 [00:13<00:00,  8.73batch/s]\n"
     ]
    },
    {
     "name": "stdout",
     "output_type": "stream",
     "text": [
      "Validation dice loss: 1.348877191543579, IoU Score 0.6304217576980591\n"
     ]
    },
    {
     "name": "stderr",
     "output_type": "stream",
     "text": [
      "Epoch 10/60:  28%|██▊       | 126/456 [00:36<00:58,  5.64img/s, loss (batch)=0.722]"
     ]
    },
    {
     "name": "stdout",
     "output_type": "stream",
     "text": [
      "Validation round\n"
     ]
    },
    {
     "name": "stderr",
     "output_type": "stream",
     "text": [
      "Validation round: 100%|██████████| 115/115 [00:13<00:00,  8.72batch/s]\n"
     ]
    },
    {
     "name": "stdout",
     "output_type": "stream",
     "text": [
      "Validation dice loss: 1.3103861808776855, IoU Score 0.6378291845321655\n"
     ]
    },
    {
     "name": "stderr",
     "output_type": "stream",
     "text": [
      "Epoch 10/60:  47%|████▋     | 216/456 [01:07<00:41,  5.73img/s, loss (batch)=0.864]"
     ]
    },
    {
     "name": "stdout",
     "output_type": "stream",
     "text": [
      "Validation round\n"
     ]
    },
    {
     "name": "stderr",
     "output_type": "stream",
     "text": [
      "Validation round: 100%|██████████| 115/115 [00:13<00:00,  8.75batch/s]\n"
     ]
    },
    {
     "name": "stdout",
     "output_type": "stream",
     "text": [
      "Validation dice loss: 1.258608102798462, IoU Score 0.6261782050132751\n"
     ]
    },
    {
     "name": "stderr",
     "output_type": "stream",
     "text": [
      "Epoch 10/60:  67%|██████▋   | 306/456 [01:38<00:26,  5.72img/s, loss (batch)=0.76] "
     ]
    },
    {
     "name": "stdout",
     "output_type": "stream",
     "text": [
      "Validation round\n"
     ]
    },
    {
     "name": "stderr",
     "output_type": "stream",
     "text": [
      "Validation round: 100%|██████████| 115/115 [00:13<00:00,  8.31batch/s]\n"
     ]
    },
    {
     "name": "stdout",
     "output_type": "stream",
     "text": [
      "Validation dice loss: 1.2837638854980469, IoU Score 0.6341524720191956\n"
     ]
    },
    {
     "name": "stderr",
     "output_type": "stream",
     "text": [
      "Epoch 10/60:  87%|████████▋ | 396/456 [02:09<00:10,  5.66img/s, loss (batch)=0.953]"
     ]
    },
    {
     "name": "stdout",
     "output_type": "stream",
     "text": [
      "Validation round\n"
     ]
    },
    {
     "name": "stderr",
     "output_type": "stream",
     "text": [
      "Validation round: 100%|██████████| 115/115 [00:13<00:00,  8.72batch/s]\n"
     ]
    },
    {
     "name": "stdout",
     "output_type": "stream",
     "text": [
      "Validation dice loss: 1.2763296365737915, IoU Score 0.6567655801773071\n"
     ]
    },
    {
     "name": "stderr",
     "output_type": "stream",
     "text": [
      "Epoch 10/60: 100%|██████████| 456/456 [02:34<00:00,  2.95img/s, loss (batch)=0.834]\n",
      "Epoch 11/60:   7%|▋         | 30/456 [00:05<01:14,  5.68img/s, loss (batch)=0.8]"
     ]
    },
    {
     "name": "stdout",
     "output_type": "stream",
     "text": [
      "Validation round\n"
     ]
    },
    {
     "name": "stderr",
     "output_type": "stream",
     "text": [
      "Validation round: 100%|██████████| 115/115 [00:13<00:00,  8.73batch/s]\n"
     ]
    },
    {
     "name": "stdout",
     "output_type": "stream",
     "text": [
      "Validation dice loss: 1.2337515354156494, IoU Score 0.6545000672340393\n"
     ]
    },
    {
     "name": "stderr",
     "output_type": "stream",
     "text": [
      "Epoch 11/60:  26%|██▋       | 120/456 [00:35<00:59,  5.66img/s, loss (batch)=0.767]"
     ]
    },
    {
     "name": "stdout",
     "output_type": "stream",
     "text": [
      "Validation round\n"
     ]
    },
    {
     "name": "stderr",
     "output_type": "stream",
     "text": [
      "Validation round: 100%|██████████| 115/115 [00:13<00:00,  8.71batch/s]\n"
     ]
    },
    {
     "name": "stdout",
     "output_type": "stream",
     "text": [
      "Validation dice loss: 1.2451692819595337, IoU Score 0.6705397963523865\n"
     ]
    },
    {
     "name": "stderr",
     "output_type": "stream",
     "text": [
      "Epoch 11/60:  46%|████▌     | 210/456 [01:06<00:43,  5.71img/s, loss (batch)=0.661]"
     ]
    },
    {
     "name": "stdout",
     "output_type": "stream",
     "text": [
      "Validation round\n"
     ]
    },
    {
     "name": "stderr",
     "output_type": "stream",
     "text": [
      "Validation round: 100%|██████████| 115/115 [00:13<00:00,  8.73batch/s]\n"
     ]
    },
    {
     "name": "stdout",
     "output_type": "stream",
     "text": [
      "Validation dice loss: 1.2708343267440796, IoU Score 0.6489484310150146\n"
     ]
    },
    {
     "name": "stderr",
     "output_type": "stream",
     "text": [
      "Epoch 11/60:  66%|██████▌   | 300/456 [01:36<00:27,  5.62img/s, loss (batch)=0.899]"
     ]
    },
    {
     "name": "stdout",
     "output_type": "stream",
     "text": [
      "Validation round\n"
     ]
    },
    {
     "name": "stderr",
     "output_type": "stream",
     "text": [
      "Validation round: 100%|██████████| 115/115 [00:13<00:00,  8.77batch/s]\n"
     ]
    },
    {
     "name": "stdout",
     "output_type": "stream",
     "text": [
      "Validation dice loss: 1.2440533638000488, IoU Score 0.6532043814659119\n"
     ]
    },
    {
     "name": "stderr",
     "output_type": "stream",
     "text": [
      "Epoch 11/60:  86%|████████▌ | 390/456 [02:07<00:11,  5.63img/s, loss (batch)=0.734]"
     ]
    },
    {
     "name": "stdout",
     "output_type": "stream",
     "text": [
      "Validation round\n"
     ]
    },
    {
     "name": "stderr",
     "output_type": "stream",
     "text": [
      "Validation round: 100%|██████████| 115/115 [00:13<00:00,  8.70batch/s]\n"
     ]
    },
    {
     "name": "stdout",
     "output_type": "stream",
     "text": [
      "Validation dice loss: 1.275938868522644, IoU Score 0.6455535888671875\n"
     ]
    },
    {
     "name": "stderr",
     "output_type": "stream",
     "text": [
      "Epoch 11/60: 100%|██████████| 456/456 [02:33<00:00,  2.97img/s, loss (batch)=0.794]\n",
      "Epoch 12/60:   5%|▌         | 24/456 [00:04<01:28,  4.90img/s, loss (batch)=0.589]"
     ]
    },
    {
     "name": "stdout",
     "output_type": "stream",
     "text": [
      "Validation round\n"
     ]
    },
    {
     "name": "stderr",
     "output_type": "stream",
     "text": [
      "Validation round: 100%|██████████| 115/115 [00:13<00:00,  8.76batch/s]\n"
     ]
    },
    {
     "name": "stdout",
     "output_type": "stream",
     "text": [
      "Validation dice loss: 1.2420293092727661, IoU Score 0.6588109731674194\n"
     ]
    },
    {
     "name": "stderr",
     "output_type": "stream",
     "text": [
      "Epoch 12/60:  25%|██▌       | 114/456 [00:34<00:59,  5.72img/s, loss (batch)=0.658]"
     ]
    },
    {
     "name": "stdout",
     "output_type": "stream",
     "text": [
      "Validation round\n"
     ]
    },
    {
     "name": "stderr",
     "output_type": "stream",
     "text": [
      "Validation round: 100%|██████████| 115/115 [00:13<00:00,  8.72batch/s]\n"
     ]
    },
    {
     "name": "stdout",
     "output_type": "stream",
     "text": [
      "Validation dice loss: 1.221793532371521, IoU Score 0.6478086113929749\n"
     ]
    },
    {
     "name": "stderr",
     "output_type": "stream",
     "text": [
      "Epoch 12/60:  45%|████▍     | 204/456 [01:05<00:44,  5.66img/s, loss (batch)=1.06] "
     ]
    },
    {
     "name": "stdout",
     "output_type": "stream",
     "text": [
      "Validation round\n"
     ]
    },
    {
     "name": "stderr",
     "output_type": "stream",
     "text": [
      "Validation round: 100%|██████████| 115/115 [00:13<00:00,  8.75batch/s]\n"
     ]
    },
    {
     "name": "stdout",
     "output_type": "stream",
     "text": [
      "Validation dice loss: 1.2716658115386963, IoU Score 0.6390852332115173\n"
     ]
    },
    {
     "name": "stderr",
     "output_type": "stream",
     "text": [
      "Epoch 12/60:  64%|██████▍   | 294/456 [01:35<00:28,  5.76img/s, loss (batch)=0.7]  "
     ]
    },
    {
     "name": "stdout",
     "output_type": "stream",
     "text": [
      "Validation round\n"
     ]
    },
    {
     "name": "stderr",
     "output_type": "stream",
     "text": [
      "Validation round: 100%|██████████| 115/115 [00:13<00:00,  8.76batch/s]\n"
     ]
    },
    {
     "name": "stdout",
     "output_type": "stream",
     "text": [
      "Validation dice loss: 1.1643368005752563, IoU Score 0.6643169522285461\n"
     ]
    },
    {
     "name": "stderr",
     "output_type": "stream",
     "text": [
      "Epoch 12/60:  84%|████████▍ | 384/456 [02:06<00:12,  5.68img/s, loss (batch)=0.722]"
     ]
    },
    {
     "name": "stdout",
     "output_type": "stream",
     "text": [
      "Validation round\n"
     ]
    },
    {
     "name": "stderr",
     "output_type": "stream",
     "text": [
      "Validation round: 100%|██████████| 115/115 [00:13<00:00,  8.75batch/s]\n"
     ]
    },
    {
     "name": "stdout",
     "output_type": "stream",
     "text": [
      "Validation dice loss: 1.179121732711792, IoU Score 0.6624706983566284\n"
     ]
    },
    {
     "name": "stderr",
     "output_type": "stream",
     "text": [
      "Epoch 12/60: 100%|██████████| 456/456 [02:33<00:00,  2.97img/s, loss (batch)=0.858]\n",
      "Epoch 13/60:   4%|▍         | 18/456 [00:03<01:18,  5.61img/s, loss (batch)=0.899]"
     ]
    },
    {
     "name": "stdout",
     "output_type": "stream",
     "text": [
      "Validation round\n"
     ]
    },
    {
     "name": "stderr",
     "output_type": "stream",
     "text": [
      "Validation round: 100%|██████████| 115/115 [00:13<00:00,  8.74batch/s]\n"
     ]
    },
    {
     "name": "stdout",
     "output_type": "stream",
     "text": [
      "Validation dice loss: 1.1890838146209717, IoU Score 0.6473669409751892\n"
     ]
    },
    {
     "name": "stderr",
     "output_type": "stream",
     "text": [
      "Epoch 13/60:  24%|██▎       | 108/456 [00:33<01:01,  5.69img/s, loss (batch)=0.715]"
     ]
    },
    {
     "name": "stdout",
     "output_type": "stream",
     "text": [
      "Validation round\n"
     ]
    },
    {
     "name": "stderr",
     "output_type": "stream",
     "text": [
      "Validation round: 100%|██████████| 115/115 [00:13<00:00,  8.73batch/s]\n"
     ]
    },
    {
     "name": "stdout",
     "output_type": "stream",
     "text": [
      "Validation dice loss: 1.1704262495040894, IoU Score 0.6247275471687317\n"
     ]
    },
    {
     "name": "stderr",
     "output_type": "stream",
     "text": [
      "Epoch 13/60:  43%|████▎     | 198/456 [01:03<00:44,  5.74img/s, loss (batch)=0.756]"
     ]
    },
    {
     "name": "stdout",
     "output_type": "stream",
     "text": [
      "Validation round\n"
     ]
    },
    {
     "name": "stderr",
     "output_type": "stream",
     "text": [
      "Validation round: 100%|██████████| 115/115 [00:13<00:00,  8.75batch/s]\n"
     ]
    },
    {
     "name": "stdout",
     "output_type": "stream",
     "text": [
      "Validation dice loss: 1.173459529876709, IoU Score 0.6510160565376282\n"
     ]
    },
    {
     "name": "stderr",
     "output_type": "stream",
     "text": [
      "Epoch 13/60:  63%|██████▎   | 288/456 [01:34<00:29,  5.68img/s, loss (batch)=0.634]"
     ]
    },
    {
     "name": "stdout",
     "output_type": "stream",
     "text": [
      "Validation round\n"
     ]
    },
    {
     "name": "stderr",
     "output_type": "stream",
     "text": [
      "Validation round: 100%|██████████| 115/115 [00:13<00:00,  8.73batch/s]\n"
     ]
    },
    {
     "name": "stdout",
     "output_type": "stream",
     "text": [
      "Validation dice loss: 1.1884444952011108, IoU Score 0.6469093561172485\n"
     ]
    },
    {
     "name": "stderr",
     "output_type": "stream",
     "text": [
      "Epoch 13/60:  83%|████████▎ | 378/456 [02:04<00:13,  5.65img/s, loss (batch)=0.808]"
     ]
    },
    {
     "name": "stdout",
     "output_type": "stream",
     "text": [
      "Validation round\n"
     ]
    },
    {
     "name": "stderr",
     "output_type": "stream",
     "text": [
      "Validation round: 100%|██████████| 115/115 [00:13<00:00,  8.76batch/s]\n"
     ]
    },
    {
     "name": "stdout",
     "output_type": "stream",
     "text": [
      "Validation dice loss: 1.156192660331726, IoU Score 0.6445508003234863\n"
     ]
    },
    {
     "name": "stderr",
     "output_type": "stream",
     "text": [
      "Epoch 13/60: 100%|██████████| 456/456 [02:33<00:00,  2.98img/s, loss (batch)=0.629]\n",
      "Epoch 14/60:   3%|▎         | 12/456 [00:02<01:18,  5.68img/s, loss (batch)=0.747]"
     ]
    },
    {
     "name": "stdout",
     "output_type": "stream",
     "text": [
      "Validation round\n"
     ]
    },
    {
     "name": "stderr",
     "output_type": "stream",
     "text": [
      "Validation round: 100%|██████████| 115/115 [00:13<00:00,  8.74batch/s]\n"
     ]
    },
    {
     "name": "stdout",
     "output_type": "stream",
     "text": [
      "Validation dice loss: 1.1310054063796997, IoU Score 0.6647085547447205\n"
     ]
    },
    {
     "name": "stderr",
     "output_type": "stream",
     "text": [
      "Epoch 14/60:  22%|██▏       | 102/456 [00:32<01:02,  5.70img/s, loss (batch)=0.825]"
     ]
    },
    {
     "name": "stdout",
     "output_type": "stream",
     "text": [
      "Validation round\n"
     ]
    },
    {
     "name": "stderr",
     "output_type": "stream",
     "text": [
      "Validation round: 100%|██████████| 115/115 [00:13<00:00,  8.72batch/s]\n"
     ]
    },
    {
     "name": "stdout",
     "output_type": "stream",
     "text": [
      "Validation dice loss: 1.1641359329223633, IoU Score 0.656138002872467\n"
     ]
    },
    {
     "name": "stderr",
     "output_type": "stream",
     "text": [
      "Epoch 14/60:  42%|████▏     | 192/456 [01:02<00:46,  5.70img/s, loss (batch)=0.783]"
     ]
    },
    {
     "name": "stdout",
     "output_type": "stream",
     "text": [
      "Validation round\n"
     ]
    },
    {
     "name": "stderr",
     "output_type": "stream",
     "text": [
      "Validation round: 100%|██████████| 115/115 [00:13<00:00,  8.71batch/s]\n"
     ]
    },
    {
     "name": "stdout",
     "output_type": "stream",
     "text": [
      "Validation dice loss: 1.1499720811843872, IoU Score 0.6534928679466248\n"
     ]
    },
    {
     "name": "stderr",
     "output_type": "stream",
     "text": [
      "Epoch 14/60:  62%|██████▏   | 282/456 [01:33<00:31,  5.61img/s, loss (batch)=0.745]"
     ]
    },
    {
     "name": "stdout",
     "output_type": "stream",
     "text": [
      "Validation round\n"
     ]
    },
    {
     "name": "stderr",
     "output_type": "stream",
     "text": [
      "Validation round: 100%|██████████| 115/115 [00:13<00:00,  8.74batch/s]\n"
     ]
    },
    {
     "name": "stdout",
     "output_type": "stream",
     "text": [
      "Validation dice loss: 1.2495439052581787, IoU Score 0.588346540927887\n"
     ]
    },
    {
     "name": "stderr",
     "output_type": "stream",
     "text": [
      "Epoch 14/60:  82%|████████▏ | 372/456 [02:03<00:14,  5.77img/s, loss (batch)=0.707]"
     ]
    },
    {
     "name": "stdout",
     "output_type": "stream",
     "text": [
      "Validation round\n"
     ]
    },
    {
     "name": "stderr",
     "output_type": "stream",
     "text": [
      "Validation round: 100%|██████████| 115/115 [00:13<00:00,  8.74batch/s]\n"
     ]
    },
    {
     "name": "stdout",
     "output_type": "stream",
     "text": [
      "Validation dice loss: 1.1100925207138062, IoU Score 0.6622453927993774\n"
     ]
    },
    {
     "name": "stderr",
     "output_type": "stream",
     "text": [
      "Epoch 14/60: 100%|██████████| 456/456 [02:33<00:00,  2.97img/s, loss (batch)=0.795]\n",
      "Epoch 15/60:   1%|▏         | 6/456 [00:01<01:19,  5.69img/s, loss (batch)=0.729]"
     ]
    },
    {
     "name": "stdout",
     "output_type": "stream",
     "text": [
      "Validation round\n"
     ]
    },
    {
     "name": "stderr",
     "output_type": "stream",
     "text": [
      "Validation round: 100%|██████████| 115/115 [00:13<00:00,  8.74batch/s]\n"
     ]
    },
    {
     "name": "stdout",
     "output_type": "stream",
     "text": [
      "Validation dice loss: 1.1180022954940796, IoU Score 0.6657528281211853\n"
     ]
    },
    {
     "name": "stderr",
     "output_type": "stream",
     "text": [
      "Epoch 15/60:  21%|██        | 96/456 [00:31<01:04,  5.62img/s, loss (batch)=0.644]"
     ]
    },
    {
     "name": "stdout",
     "output_type": "stream",
     "text": [
      "Validation round\n"
     ]
    },
    {
     "name": "stderr",
     "output_type": "stream",
     "text": [
      "Validation round: 100%|██████████| 115/115 [00:13<00:00,  8.77batch/s]\n"
     ]
    },
    {
     "name": "stdout",
     "output_type": "stream",
     "text": [
      "Validation dice loss: 1.1111737489700317, IoU Score 0.6444360017776489\n"
     ]
    },
    {
     "name": "stderr",
     "output_type": "stream",
     "text": [
      "Epoch 15/60:  41%|████      | 186/456 [01:01<00:47,  5.66img/s, loss (batch)=0.67] "
     ]
    },
    {
     "name": "stdout",
     "output_type": "stream",
     "text": [
      "Validation round\n"
     ]
    },
    {
     "name": "stderr",
     "output_type": "stream",
     "text": [
      "Validation round: 100%|██████████| 115/115 [00:13<00:00,  8.73batch/s]\n"
     ]
    },
    {
     "name": "stdout",
     "output_type": "stream",
     "text": [
      "Validation dice loss: 1.1041486263275146, IoU Score 0.6548981070518494\n"
     ]
    },
    {
     "name": "stderr",
     "output_type": "stream",
     "text": [
      "Epoch 15/60:  61%|██████    | 276/456 [01:32<00:31,  5.66img/s, loss (batch)=0.95] "
     ]
    },
    {
     "name": "stdout",
     "output_type": "stream",
     "text": [
      "Validation round\n"
     ]
    },
    {
     "name": "stderr",
     "output_type": "stream",
     "text": [
      "Validation round: 100%|██████████| 115/115 [00:13<00:00,  8.78batch/s]\n"
     ]
    },
    {
     "name": "stdout",
     "output_type": "stream",
     "text": [
      "Validation dice loss: 1.1025192737579346, IoU Score 0.6577038168907166\n"
     ]
    },
    {
     "name": "stderr",
     "output_type": "stream",
     "text": [
      "Epoch 15/60:  80%|████████  | 366/456 [02:02<00:15,  5.66img/s, loss (batch)=0.722]"
     ]
    },
    {
     "name": "stdout",
     "output_type": "stream",
     "text": [
      "Validation round\n"
     ]
    },
    {
     "name": "stderr",
     "output_type": "stream",
     "text": [
      "Validation round: 100%|██████████| 115/115 [00:13<00:00,  8.74batch/s]\n"
     ]
    },
    {
     "name": "stdout",
     "output_type": "stream",
     "text": [
      "Validation dice loss: 1.0875004529953003, IoU Score 0.6546592712402344\n"
     ]
    },
    {
     "name": "stderr",
     "output_type": "stream",
     "text": [
      "Epoch 15/60: 100%|██████████| 456/456 [02:33<00:00,  5.63img/s, loss (batch)=0.788]"
     ]
    },
    {
     "name": "stdout",
     "output_type": "stream",
     "text": [
      "Validation round\n"
     ]
    },
    {
     "name": "stderr",
     "output_type": "stream",
     "text": [
      "Validation round: 100%|██████████| 115/115 [00:13<00:00,  8.76batch/s]\n",
      "Epoch 15/60: 100%|██████████| 456/456 [02:47<00:00,  2.72img/s, loss (batch)=0.788]\n"
     ]
    },
    {
     "name": "stdout",
     "output_type": "stream",
     "text": [
      "Validation dice loss: 1.1752793788909912, IoU Score 0.639350175857544\n"
     ]
    },
    {
     "name": "stderr",
     "output_type": "stream",
     "text": [
      "Epoch 16/60:  20%|█▉        | 90/456 [00:16<01:05,  5.61img/s, loss (batch)=0.861]"
     ]
    },
    {
     "name": "stdout",
     "output_type": "stream",
     "text": [
      "Validation round\n"
     ]
    },
    {
     "name": "stderr",
     "output_type": "stream",
     "text": [
      "Validation round: 100%|██████████| 115/115 [00:13<00:00,  8.76batch/s]\n"
     ]
    },
    {
     "name": "stdout",
     "output_type": "stream",
     "text": [
      "Validation dice loss: 1.1328743696212769, IoU Score 0.6464351415634155\n"
     ]
    },
    {
     "name": "stderr",
     "output_type": "stream",
     "text": [
      "Epoch 16/60:  39%|███▉      | 180/456 [00:46<00:48,  5.71img/s, loss (batch)=0.679]"
     ]
    },
    {
     "name": "stdout",
     "output_type": "stream",
     "text": [
      "Validation round\n"
     ]
    },
    {
     "name": "stderr",
     "output_type": "stream",
     "text": [
      "Validation round: 100%|██████████| 115/115 [00:13<00:00,  8.78batch/s]\n"
     ]
    },
    {
     "name": "stdout",
     "output_type": "stream",
     "text": [
      "Validation dice loss: 1.0774208307266235, IoU Score 0.6535389423370361\n"
     ]
    },
    {
     "name": "stderr",
     "output_type": "stream",
     "text": [
      "Epoch 16/60:  59%|█████▉    | 270/456 [01:16<00:33,  5.60img/s, loss (batch)=0.668]"
     ]
    },
    {
     "name": "stdout",
     "output_type": "stream",
     "text": [
      "Validation round\n"
     ]
    },
    {
     "name": "stderr",
     "output_type": "stream",
     "text": [
      "Validation round: 100%|██████████| 115/115 [00:13<00:00,  8.75batch/s]\n"
     ]
    },
    {
     "name": "stdout",
     "output_type": "stream",
     "text": [
      "Validation dice loss: 1.1352152824401855, IoU Score 0.6255888938903809\n"
     ]
    },
    {
     "name": "stderr",
     "output_type": "stream",
     "text": [
      "Epoch 16/60:  79%|███████▉  | 360/456 [01:47<00:18,  5.12img/s, loss (batch)=0.62]"
     ]
    },
    {
     "name": "stdout",
     "output_type": "stream",
     "text": [
      "Validation round\n"
     ]
    },
    {
     "name": "stderr",
     "output_type": "stream",
     "text": [
      "Validation round: 100%|██████████| 115/115 [00:13<00:00,  8.77batch/s]\n"
     ]
    },
    {
     "name": "stdout",
     "output_type": "stream",
     "text": [
      "Validation dice loss: 1.1438696384429932, IoU Score 0.6104139685630798\n"
     ]
    },
    {
     "name": "stderr",
     "output_type": "stream",
     "text": [
      "Epoch 16/60:  99%|█████████▊| 450/456 [02:17<00:01,  5.34img/s, loss (batch)=0.624]"
     ]
    },
    {
     "name": "stdout",
     "output_type": "stream",
     "text": [
      "Validation round\n"
     ]
    },
    {
     "name": "stderr",
     "output_type": "stream",
     "text": [
      "Validation round: 100%|██████████| 115/115 [00:13<00:00,  8.58batch/s]\n"
     ]
    },
    {
     "name": "stdout",
     "output_type": "stream",
     "text": [
      "Validation dice loss: 1.0307291746139526, IoU Score 0.6635577082633972\n"
     ]
    },
    {
     "name": "stderr",
     "output_type": "stream",
     "text": [
      "Epoch 16/60: 100%|██████████| 456/456 [02:33<00:00,  2.97img/s, loss (batch)=0.8]\n",
      "Epoch 17/60:  18%|█▊        | 84/456 [00:14<01:05,  5.71img/s, loss (batch)=0.792]"
     ]
    },
    {
     "name": "stdout",
     "output_type": "stream",
     "text": [
      "Validation round\n"
     ]
    },
    {
     "name": "stderr",
     "output_type": "stream",
     "text": [
      "Validation round: 100%|██████████| 115/115 [00:13<00:00,  8.76batch/s]\n"
     ]
    },
    {
     "name": "stdout",
     "output_type": "stream",
     "text": [
      "Validation dice loss: 1.047806739807129, IoU Score 0.6698055267333984\n"
     ]
    },
    {
     "name": "stderr",
     "output_type": "stream",
     "text": [
      "Epoch 17/60:  38%|███▊      | 174/456 [00:45<00:49,  5.67img/s, loss (batch)=0.573]"
     ]
    },
    {
     "name": "stdout",
     "output_type": "stream",
     "text": [
      "Validation round\n"
     ]
    },
    {
     "name": "stderr",
     "output_type": "stream",
     "text": [
      "Validation round: 100%|██████████| 115/115 [00:13<00:00,  8.75batch/s]\n"
     ]
    },
    {
     "name": "stdout",
     "output_type": "stream",
     "text": [
      "Validation dice loss: 1.042483925819397, IoU Score 0.6672142148017883\n"
     ]
    },
    {
     "name": "stderr",
     "output_type": "stream",
     "text": [
      "Epoch 17/60:  58%|█████▊    | 264/456 [01:15<00:34,  5.64img/s, loss (batch)=0.661]"
     ]
    },
    {
     "name": "stdout",
     "output_type": "stream",
     "text": [
      "Validation round\n"
     ]
    },
    {
     "name": "stderr",
     "output_type": "stream",
     "text": [
      "Validation round: 100%|██████████| 115/115 [00:13<00:00,  8.74batch/s]\n"
     ]
    },
    {
     "name": "stdout",
     "output_type": "stream",
     "text": [
      "Validation dice loss: 1.017628788948059, IoU Score 0.6494576930999756\n"
     ]
    },
    {
     "name": "stderr",
     "output_type": "stream",
     "text": [
      "Epoch 17/60:  78%|███████▊  | 354/456 [01:46<00:18,  5.65img/s, loss (batch)=0.788]"
     ]
    },
    {
     "name": "stdout",
     "output_type": "stream",
     "text": [
      "Validation round\n"
     ]
    },
    {
     "name": "stderr",
     "output_type": "stream",
     "text": [
      "Validation round: 100%|██████████| 115/115 [00:13<00:00,  8.71batch/s]\n"
     ]
    },
    {
     "name": "stdout",
     "output_type": "stream",
     "text": [
      "Validation dice loss: 1.04023015499115, IoU Score 0.6642170548439026\n"
     ]
    },
    {
     "name": "stderr",
     "output_type": "stream",
     "text": [
      "Epoch 17/60:  97%|█████████▋| 444/456 [02:16<00:02,  5.74img/s, loss (batch)=0.628]"
     ]
    },
    {
     "name": "stdout",
     "output_type": "stream",
     "text": [
      "Validation round\n"
     ]
    },
    {
     "name": "stderr",
     "output_type": "stream",
     "text": [
      "Validation round: 100%|██████████| 115/115 [00:13<00:00,  8.73batch/s]\n"
     ]
    },
    {
     "name": "stdout",
     "output_type": "stream",
     "text": [
      "Validation dice loss: 1.0222711563110352, IoU Score 0.6655001044273376\n"
     ]
    },
    {
     "name": "stderr",
     "output_type": "stream",
     "text": [
      "Epoch 17/60: 100%|██████████| 456/456 [02:33<00:00,  2.98img/s, loss (batch)=0.772]\n",
      "Epoch 18/60:  17%|█▋        | 78/456 [00:13<01:05,  5.74img/s, loss (batch)=0.588]"
     ]
    },
    {
     "name": "stdout",
     "output_type": "stream",
     "text": [
      "Validation round\n"
     ]
    },
    {
     "name": "stderr",
     "output_type": "stream",
     "text": [
      "Validation round: 100%|██████████| 115/115 [00:13<00:00,  8.74batch/s]\n"
     ]
    },
    {
     "name": "stdout",
     "output_type": "stream",
     "text": [
      "Validation dice loss: 1.0930105447769165, IoU Score 0.6051302552223206\n"
     ]
    },
    {
     "name": "stderr",
     "output_type": "stream",
     "text": [
      "Epoch 18/60:  37%|███▋      | 168/456 [00:44<00:50,  5.70img/s, loss (batch)=0.651]"
     ]
    },
    {
     "name": "stdout",
     "output_type": "stream",
     "text": [
      "Validation round\n"
     ]
    },
    {
     "name": "stderr",
     "output_type": "stream",
     "text": [
      "Validation round: 100%|██████████| 115/115 [00:13<00:00,  8.77batch/s]\n"
     ]
    },
    {
     "name": "stdout",
     "output_type": "stream",
     "text": [
      "Validation dice loss: 1.076239824295044, IoU Score 0.6303744316101074\n"
     ]
    },
    {
     "name": "stderr",
     "output_type": "stream",
     "text": [
      "Epoch 18/60:  57%|█████▋    | 258/456 [01:14<00:34,  5.71img/s, loss (batch)=0.893]"
     ]
    },
    {
     "name": "stdout",
     "output_type": "stream",
     "text": [
      "Validation round\n"
     ]
    },
    {
     "name": "stderr",
     "output_type": "stream",
     "text": [
      "Validation round: 100%|██████████| 115/115 [00:13<00:00,  8.77batch/s]\n"
     ]
    },
    {
     "name": "stdout",
     "output_type": "stream",
     "text": [
      "Validation dice loss: 0.9927301406860352, IoU Score 0.651277482509613\n"
     ]
    },
    {
     "name": "stderr",
     "output_type": "stream",
     "text": [
      "Epoch 18/60:  76%|███████▋  | 348/456 [01:44<00:19,  5.67img/s, loss (batch)=0.689]"
     ]
    },
    {
     "name": "stdout",
     "output_type": "stream",
     "text": [
      "Validation round\n"
     ]
    },
    {
     "name": "stderr",
     "output_type": "stream",
     "text": [
      "Validation round: 100%|██████████| 115/115 [00:13<00:00,  8.77batch/s]\n"
     ]
    },
    {
     "name": "stdout",
     "output_type": "stream",
     "text": [
      "Validation dice loss: 1.1833220720291138, IoU Score 0.536893367767334\n"
     ]
    },
    {
     "name": "stderr",
     "output_type": "stream",
     "text": [
      "Epoch 18/60:  96%|█████████▌| 438/456 [02:15<00:03,  5.67img/s, loss (batch)=0.726]"
     ]
    },
    {
     "name": "stdout",
     "output_type": "stream",
     "text": [
      "Validation round\n"
     ]
    },
    {
     "name": "stderr",
     "output_type": "stream",
     "text": [
      "Validation round: 100%|██████████| 115/115 [00:13<00:00,  8.77batch/s]\n"
     ]
    },
    {
     "name": "stdout",
     "output_type": "stream",
     "text": [
      "Validation dice loss: 1.1048235893249512, IoU Score 0.5922350287437439\n"
     ]
    },
    {
     "name": "stderr",
     "output_type": "stream",
     "text": [
      "Epoch 18/60: 100%|██████████| 456/456 [02:32<00:00,  2.98img/s, loss (batch)=0.638]\n",
      "Epoch 19/60:  16%|█▌        | 72/456 [00:12<01:08,  5.58img/s, loss (batch)=0.619]"
     ]
    },
    {
     "name": "stdout",
     "output_type": "stream",
     "text": [
      "Validation round\n"
     ]
    },
    {
     "name": "stderr",
     "output_type": "stream",
     "text": [
      "Validation round: 100%|██████████| 115/115 [00:13<00:00,  8.78batch/s]\n"
     ]
    },
    {
     "name": "stdout",
     "output_type": "stream",
     "text": [
      "Validation dice loss: 1.0624741315841675, IoU Score 0.6335084438323975\n"
     ]
    },
    {
     "name": "stderr",
     "output_type": "stream",
     "text": [
      "Epoch 19/60:  36%|███▌      | 162/456 [00:42<00:52,  5.63img/s, loss (batch)=0.605]"
     ]
    },
    {
     "name": "stdout",
     "output_type": "stream",
     "text": [
      "Validation round\n"
     ]
    },
    {
     "name": "stderr",
     "output_type": "stream",
     "text": [
      "Validation round: 100%|██████████| 115/115 [00:13<00:00,  8.79batch/s]\n"
     ]
    },
    {
     "name": "stdout",
     "output_type": "stream",
     "text": [
      "Validation dice loss: 0.9557493329048157, IoU Score 0.6720775365829468\n"
     ]
    },
    {
     "name": "stderr",
     "output_type": "stream",
     "text": [
      "Epoch 19/60:  55%|█████▌    | 252/456 [01:13<00:35,  5.70img/s, loss (batch)=0.545]"
     ]
    },
    {
     "name": "stdout",
     "output_type": "stream",
     "text": [
      "Validation round\n"
     ]
    },
    {
     "name": "stderr",
     "output_type": "stream",
     "text": [
      "Validation round: 100%|██████████| 115/115 [00:13<00:00,  8.70batch/s]\n"
     ]
    },
    {
     "name": "stdout",
     "output_type": "stream",
     "text": [
      "Validation dice loss: 1.1676374673843384, IoU Score 0.5570701956748962\n"
     ]
    },
    {
     "name": "stderr",
     "output_type": "stream",
     "text": [
      "Epoch 19/60:  75%|███████▌  | 342/456 [01:43<00:19,  5.74img/s, loss (batch)=0.557]"
     ]
    },
    {
     "name": "stdout",
     "output_type": "stream",
     "text": [
      "Validation round\n"
     ]
    },
    {
     "name": "stderr",
     "output_type": "stream",
     "text": [
      "Validation round: 100%|██████████| 115/115 [00:13<00:00,  8.80batch/s]\n"
     ]
    },
    {
     "name": "stdout",
     "output_type": "stream",
     "text": [
      "Validation dice loss: 0.9478265047073364, IoU Score 0.6625255346298218\n"
     ]
    },
    {
     "name": "stderr",
     "output_type": "stream",
     "text": [
      "Epoch 19/60:  95%|█████████▍| 432/456 [02:14<00:04,  5.65img/s, loss (batch)=0.65] "
     ]
    },
    {
     "name": "stdout",
     "output_type": "stream",
     "text": [
      "Validation round\n"
     ]
    },
    {
     "name": "stderr",
     "output_type": "stream",
     "text": [
      "Validation round: 100%|██████████| 115/115 [00:13<00:00,  8.76batch/s]\n"
     ]
    },
    {
     "name": "stdout",
     "output_type": "stream",
     "text": [
      "Validation dice loss: 0.9218149781227112, IoU Score 0.6024896502494812\n"
     ]
    },
    {
     "name": "stderr",
     "output_type": "stream",
     "text": [
      "Epoch 19/60: 100%|██████████| 456/456 [02:32<00:00,  2.98img/s, loss (batch)=0.556]\n",
      "Epoch 20/60:  14%|█▍        | 66/456 [00:11<01:08,  5.66img/s, loss (batch)=0.709]"
     ]
    },
    {
     "name": "stdout",
     "output_type": "stream",
     "text": [
      "Validation round\n"
     ]
    },
    {
     "name": "stderr",
     "output_type": "stream",
     "text": [
      "Validation round: 100%|██████████| 115/115 [00:13<00:00,  8.64batch/s]\n"
     ]
    },
    {
     "name": "stdout",
     "output_type": "stream",
     "text": [
      "Validation dice loss: 0.9279760122299194, IoU Score 0.6161145567893982\n"
     ]
    },
    {
     "name": "stderr",
     "output_type": "stream",
     "text": [
      "Epoch 20/60:  34%|███▍      | 156/456 [00:42<00:54,  5.47img/s, loss (batch)=0.72] "
     ]
    },
    {
     "name": "stdout",
     "output_type": "stream",
     "text": [
      "Validation round\n"
     ]
    },
    {
     "name": "stderr",
     "output_type": "stream",
     "text": [
      "Validation round: 100%|██████████| 115/115 [00:13<00:00,  8.62batch/s]\n"
     ]
    },
    {
     "name": "stdout",
     "output_type": "stream",
     "text": [
      "Validation dice loss: 0.9291204810142517, IoU Score 0.6268696188926697\n"
     ]
    },
    {
     "name": "stderr",
     "output_type": "stream",
     "text": [
      "Epoch 20/60:  54%|█████▍    | 246/456 [01:13<00:37,  5.60img/s, loss (batch)=0.884]"
     ]
    },
    {
     "name": "stdout",
     "output_type": "stream",
     "text": [
      "Validation round\n"
     ]
    },
    {
     "name": "stderr",
     "output_type": "stream",
     "text": [
      "Validation round: 100%|██████████| 115/115 [00:13<00:00,  8.72batch/s]\n"
     ]
    },
    {
     "name": "stdout",
     "output_type": "stream",
     "text": [
      "Validation dice loss: 0.9427065253257751, IoU Score 0.58817058801651\n"
     ]
    },
    {
     "name": "stderr",
     "output_type": "stream",
     "text": [
      "Epoch 20/60:  74%|███████▎  | 336/456 [01:43<00:21,  5.62img/s, loss (batch)=0.437]"
     ]
    },
    {
     "name": "stdout",
     "output_type": "stream",
     "text": [
      "Validation round\n"
     ]
    },
    {
     "name": "stderr",
     "output_type": "stream",
     "text": [
      "Validation round: 100%|██████████| 115/115 [00:13<00:00,  8.75batch/s]\n"
     ]
    },
    {
     "name": "stdout",
     "output_type": "stream",
     "text": [
      "Validation dice loss: 0.811283528804779, IoU Score 0.6131322383880615\n"
     ]
    },
    {
     "name": "stderr",
     "output_type": "stream",
     "text": [
      "Epoch 20/60:  93%|█████████▎| 426/456 [02:13<00:05,  5.69img/s, loss (batch)=0.479]"
     ]
    },
    {
     "name": "stdout",
     "output_type": "stream",
     "text": [
      "Validation round\n"
     ]
    },
    {
     "name": "stderr",
     "output_type": "stream",
     "text": [
      "Validation round: 100%|██████████| 115/115 [00:13<00:00,  8.77batch/s]\n"
     ]
    },
    {
     "name": "stdout",
     "output_type": "stream",
     "text": [
      "Validation dice loss: 0.8520556688308716, IoU Score 0.6317527890205383\n"
     ]
    },
    {
     "name": "stderr",
     "output_type": "stream",
     "text": [
      "Epoch 20/60: 100%|██████████| 456/456 [02:33<00:00,  2.97img/s, loss (batch)=0.651]\n",
      "Epoch 21/60:  13%|█▎        | 60/456 [00:10<01:10,  5.61img/s, loss (batch)=0.668]"
     ]
    },
    {
     "name": "stdout",
     "output_type": "stream",
     "text": [
      "Validation round\n"
     ]
    },
    {
     "name": "stderr",
     "output_type": "stream",
     "text": [
      "Validation round: 100%|██████████| 115/115 [00:13<00:00,  8.75batch/s]\n"
     ]
    },
    {
     "name": "stdout",
     "output_type": "stream",
     "text": [
      "Validation dice loss: 0.8674371242523193, IoU Score 0.636002242565155\n"
     ]
    },
    {
     "name": "stderr",
     "output_type": "stream",
     "text": [
      "Epoch 21/60:  33%|███▎      | 150/456 [00:40<00:54,  5.64img/s, loss (batch)=0.438]"
     ]
    },
    {
     "name": "stdout",
     "output_type": "stream",
     "text": [
      "Validation round\n"
     ]
    },
    {
     "name": "stderr",
     "output_type": "stream",
     "text": [
      "Validation round: 100%|██████████| 115/115 [00:13<00:00,  8.75batch/s]\n"
     ]
    },
    {
     "name": "stdout",
     "output_type": "stream",
     "text": [
      "Validation dice loss: 0.9774565100669861, IoU Score 0.5307605862617493\n"
     ]
    },
    {
     "name": "stderr",
     "output_type": "stream",
     "text": [
      "Epoch 21/60:  53%|█████▎    | 240/456 [01:11<00:38,  5.64img/s, loss (batch)=0.516]"
     ]
    },
    {
     "name": "stdout",
     "output_type": "stream",
     "text": [
      "Validation round\n"
     ]
    },
    {
     "name": "stderr",
     "output_type": "stream",
     "text": [
      "Validation round: 100%|██████████| 115/115 [00:13<00:00,  8.66batch/s]\n"
     ]
    },
    {
     "name": "stdout",
     "output_type": "stream",
     "text": [
      "Validation dice loss: 0.9132649302482605, IoU Score 0.5845114588737488\n"
     ]
    },
    {
     "name": "stderr",
     "output_type": "stream",
     "text": [
      "Epoch 21/60:  72%|███████▏  | 330/456 [01:41<00:21,  5.75img/s, loss (batch)=0.476]"
     ]
    },
    {
     "name": "stdout",
     "output_type": "stream",
     "text": [
      "Validation round\n"
     ]
    },
    {
     "name": "stderr",
     "output_type": "stream",
     "text": [
      "Validation round: 100%|██████████| 115/115 [00:13<00:00,  8.68batch/s]\n"
     ]
    },
    {
     "name": "stdout",
     "output_type": "stream",
     "text": [
      "Validation dice loss: 0.751587986946106, IoU Score 0.6424845457077026\n"
     ]
    },
    {
     "name": "stderr",
     "output_type": "stream",
     "text": [
      "Epoch 21/60:  92%|█████████▏| 420/456 [02:12<00:06,  5.69img/s, loss (batch)=0.408]"
     ]
    },
    {
     "name": "stdout",
     "output_type": "stream",
     "text": [
      "Validation round\n"
     ]
    },
    {
     "name": "stderr",
     "output_type": "stream",
     "text": [
      "Validation round: 100%|██████████| 115/115 [00:13<00:00,  8.73batch/s]\n"
     ]
    },
    {
     "name": "stdout",
     "output_type": "stream",
     "text": [
      "Validation dice loss: 0.7524922490119934, IoU Score 0.6361610293388367\n"
     ]
    },
    {
     "name": "stderr",
     "output_type": "stream",
     "text": [
      "Epoch 21/60: 100%|██████████| 456/456 [02:33<00:00,  2.98img/s, loss (batch)=0.472]\n",
      "Epoch 22/60:  12%|█▏        | 54/456 [00:09<01:10,  5.68img/s, loss (batch)=0.429]"
     ]
    },
    {
     "name": "stdout",
     "output_type": "stream",
     "text": [
      "Validation round\n"
     ]
    },
    {
     "name": "stderr",
     "output_type": "stream",
     "text": [
      "Validation round: 100%|██████████| 115/115 [00:13<00:00,  8.74batch/s]\n"
     ]
    },
    {
     "name": "stdout",
     "output_type": "stream",
     "text": [
      "Validation dice loss: 0.7280768752098083, IoU Score 0.6540877223014832\n"
     ]
    },
    {
     "name": "stderr",
     "output_type": "stream",
     "text": [
      "Epoch 22/60:  32%|███▏      | 144/456 [00:39<00:55,  5.65img/s, loss (batch)=0.646]"
     ]
    },
    {
     "name": "stdout",
     "output_type": "stream",
     "text": [
      "Validation round\n"
     ]
    },
    {
     "name": "stderr",
     "output_type": "stream",
     "text": [
      "Validation round: 100%|██████████| 115/115 [00:13<00:00,  8.68batch/s]\n"
     ]
    },
    {
     "name": "stdout",
     "output_type": "stream",
     "text": [
      "Validation dice loss: 0.7320646047592163, IoU Score 0.6160314679145813\n"
     ]
    },
    {
     "name": "stderr",
     "output_type": "stream",
     "text": [
      "Epoch 22/60:  51%|█████▏    | 234/456 [01:10<00:38,  5.72img/s, loss (batch)=0.442]"
     ]
    },
    {
     "name": "stdout",
     "output_type": "stream",
     "text": [
      "Validation round\n"
     ]
    },
    {
     "name": "stderr",
     "output_type": "stream",
     "text": [
      "Validation round: 100%|██████████| 115/115 [00:13<00:00,  8.74batch/s]\n"
     ]
    },
    {
     "name": "stdout",
     "output_type": "stream",
     "text": [
      "Validation dice loss: 0.6865068078041077, IoU Score 0.6627270579338074\n"
     ]
    },
    {
     "name": "stderr",
     "output_type": "stream",
     "text": [
      "Epoch 22/60:  71%|███████   | 324/456 [01:40<00:23,  5.68img/s, loss (batch)=0.455]"
     ]
    },
    {
     "name": "stdout",
     "output_type": "stream",
     "text": [
      "Validation round\n"
     ]
    },
    {
     "name": "stderr",
     "output_type": "stream",
     "text": [
      "Validation round: 100%|██████████| 115/115 [00:13<00:00,  8.73batch/s]\n"
     ]
    },
    {
     "name": "stdout",
     "output_type": "stream",
     "text": [
      "Validation dice loss: 0.9651892781257629, IoU Score 0.511824369430542\n"
     ]
    },
    {
     "name": "stderr",
     "output_type": "stream",
     "text": [
      "Epoch 22/60:  91%|█████████ | 414/456 [02:11<00:07,  5.58img/s, loss (batch)=0.398]"
     ]
    },
    {
     "name": "stdout",
     "output_type": "stream",
     "text": [
      "Validation round\n"
     ]
    },
    {
     "name": "stderr",
     "output_type": "stream",
     "text": [
      "Validation round: 100%|██████████| 115/115 [00:13<00:00,  8.72batch/s]\n"
     ]
    },
    {
     "name": "stdout",
     "output_type": "stream",
     "text": [
      "Validation dice loss: 0.7271432280540466, IoU Score 0.58951336145401\n"
     ]
    },
    {
     "name": "stderr",
     "output_type": "stream",
     "text": [
      "Epoch 22/60: 100%|██████████| 456/456 [02:33<00:00,  2.98img/s, loss (batch)=0.439]\n",
      "Epoch 23/60:  11%|█         | 48/456 [00:08<01:11,  5.72img/s, loss (batch)=0.462]"
     ]
    },
    {
     "name": "stdout",
     "output_type": "stream",
     "text": [
      "Validation round\n"
     ]
    },
    {
     "name": "stderr",
     "output_type": "stream",
     "text": [
      "Validation round: 100%|██████████| 115/115 [00:13<00:00,  8.73batch/s]\n"
     ]
    },
    {
     "name": "stdout",
     "output_type": "stream",
     "text": [
      "Validation dice loss: 0.6992757320404053, IoU Score 0.6265367269515991\n"
     ]
    },
    {
     "name": "stderr",
     "output_type": "stream",
     "text": [
      "Epoch 23/60:  30%|███       | 138/456 [00:38<00:56,  5.66img/s, loss (batch)=0.719]"
     ]
    },
    {
     "name": "stdout",
     "output_type": "stream",
     "text": [
      "Validation round\n"
     ]
    },
    {
     "name": "stderr",
     "output_type": "stream",
     "text": [
      "Validation round: 100%|██████████| 115/115 [00:13<00:00,  8.76batch/s]\n"
     ]
    },
    {
     "name": "stdout",
     "output_type": "stream",
     "text": [
      "Validation dice loss: 0.6935204267501831, IoU Score 0.606861412525177\n"
     ]
    },
    {
     "name": "stderr",
     "output_type": "stream",
     "text": [
      "Epoch 23/60:  50%|█████     | 228/456 [01:09<00:40,  5.61img/s, loss (batch)=0.556]"
     ]
    },
    {
     "name": "stdout",
     "output_type": "stream",
     "text": [
      "Validation round\n"
     ]
    },
    {
     "name": "stderr",
     "output_type": "stream",
     "text": [
      "Validation round: 100%|██████████| 115/115 [00:13<00:00,  8.82batch/s]\n"
     ]
    },
    {
     "name": "stdout",
     "output_type": "stream",
     "text": [
      "Validation dice loss: 0.5949110388755798, IoU Score 0.6450930237770081\n"
     ]
    },
    {
     "name": "stderr",
     "output_type": "stream",
     "text": [
      "Epoch 23/60:  70%|██████▉   | 318/456 [01:39<00:24,  5.72img/s, loss (batch)=0.388]"
     ]
    },
    {
     "name": "stdout",
     "output_type": "stream",
     "text": [
      "Validation round\n"
     ]
    },
    {
     "name": "stderr",
     "output_type": "stream",
     "text": [
      "Validation round: 100%|██████████| 115/115 [00:13<00:00,  8.75batch/s]\n"
     ]
    },
    {
     "name": "stdout",
     "output_type": "stream",
     "text": [
      "Validation dice loss: 0.7058165073394775, IoU Score 0.6150872111320496\n"
     ]
    },
    {
     "name": "stderr",
     "output_type": "stream",
     "text": [
      "Epoch 23/60:  89%|████████▉ | 408/456 [02:10<00:08,  5.58img/s, loss (batch)=0.513]"
     ]
    },
    {
     "name": "stdout",
     "output_type": "stream",
     "text": [
      "Validation round\n"
     ]
    },
    {
     "name": "stderr",
     "output_type": "stream",
     "text": [
      "Validation round: 100%|██████████| 115/115 [00:13<00:00,  8.74batch/s]\n"
     ]
    },
    {
     "name": "stdout",
     "output_type": "stream",
     "text": [
      "Validation dice loss: 0.5804612040519714, IoU Score 0.6544562578201294\n"
     ]
    },
    {
     "name": "stderr",
     "output_type": "stream",
     "text": [
      "Epoch 23/60: 100%|██████████| 456/456 [02:33<00:00,  2.97img/s, loss (batch)=0.385]\n",
      "Epoch 24/60:   9%|▉         | 42/456 [00:07<01:13,  5.64img/s, loss (batch)=0.325]"
     ]
    },
    {
     "name": "stdout",
     "output_type": "stream",
     "text": [
      "Validation round\n"
     ]
    },
    {
     "name": "stderr",
     "output_type": "stream",
     "text": [
      "Validation round: 100%|██████████| 115/115 [00:13<00:00,  8.79batch/s]\n"
     ]
    },
    {
     "name": "stdout",
     "output_type": "stream",
     "text": [
      "Validation dice loss: 0.5657737851142883, IoU Score 0.6503688097000122\n"
     ]
    },
    {
     "name": "stderr",
     "output_type": "stream",
     "text": [
      "Epoch 24/60:  29%|██▉       | 132/456 [00:37<00:57,  5.62img/s, loss (batch)=0.344]"
     ]
    },
    {
     "name": "stdout",
     "output_type": "stream",
     "text": [
      "Validation round\n"
     ]
    },
    {
     "name": "stderr",
     "output_type": "stream",
     "text": [
      "Validation round: 100%|██████████| 115/115 [00:13<00:00,  8.80batch/s]\n"
     ]
    },
    {
     "name": "stdout",
     "output_type": "stream",
     "text": [
      "Validation dice loss: 0.5796176791191101, IoU Score 0.6424619555473328\n"
     ]
    },
    {
     "name": "stderr",
     "output_type": "stream",
     "text": [
      "Epoch 24/60:  49%|████▊     | 222/456 [01:07<00:41,  5.68img/s, loss (batch)=0.272]"
     ]
    },
    {
     "name": "stdout",
     "output_type": "stream",
     "text": [
      "Validation round\n"
     ]
    },
    {
     "name": "stderr",
     "output_type": "stream",
     "text": [
      "Validation round: 100%|██████████| 115/115 [00:13<00:00,  8.74batch/s]\n"
     ]
    },
    {
     "name": "stdout",
     "output_type": "stream",
     "text": [
      "Validation dice loss: 0.5560697317123413, IoU Score 0.6428247094154358\n"
     ]
    },
    {
     "name": "stderr",
     "output_type": "stream",
     "text": [
      "Epoch 24/60:  68%|██████▊   | 312/456 [01:38<00:25,  5.66img/s, loss (batch)=0.317]"
     ]
    },
    {
     "name": "stdout",
     "output_type": "stream",
     "text": [
      "Validation round\n"
     ]
    },
    {
     "name": "stderr",
     "output_type": "stream",
     "text": [
      "Validation round: 100%|██████████| 115/115 [00:13<00:00,  8.75batch/s]\n"
     ]
    },
    {
     "name": "stdout",
     "output_type": "stream",
     "text": [
      "Validation dice loss: 0.5636575818061829, IoU Score 0.6526451706886292\n"
     ]
    },
    {
     "name": "stderr",
     "output_type": "stream",
     "text": [
      "Epoch 24/60:  88%|████████▊ | 402/456 [02:08<00:09,  5.58img/s, loss (batch)=0.454]"
     ]
    },
    {
     "name": "stdout",
     "output_type": "stream",
     "text": [
      "Validation round\n"
     ]
    },
    {
     "name": "stderr",
     "output_type": "stream",
     "text": [
      "Validation round: 100%|██████████| 115/115 [00:13<00:00,  8.75batch/s]\n"
     ]
    },
    {
     "name": "stdout",
     "output_type": "stream",
     "text": [
      "Validation dice loss: 0.5451223850250244, IoU Score 0.6494578123092651\n"
     ]
    },
    {
     "name": "stderr",
     "output_type": "stream",
     "text": [
      "Epoch 24/60: 100%|██████████| 456/456 [02:32<00:00,  2.98img/s, loss (batch)=0.32]\n",
      "Epoch 25/60:   8%|▊         | 36/456 [00:06<01:13,  5.69img/s, loss (batch)=0.745]"
     ]
    },
    {
     "name": "stdout",
     "output_type": "stream",
     "text": [
      "Validation round\n"
     ]
    },
    {
     "name": "stderr",
     "output_type": "stream",
     "text": [
      "Validation round: 100%|██████████| 115/115 [00:13<00:00,  8.78batch/s]\n"
     ]
    },
    {
     "name": "stdout",
     "output_type": "stream",
     "text": [
      "Validation dice loss: 0.6069192290306091, IoU Score 0.6170693039894104\n"
     ]
    },
    {
     "name": "stderr",
     "output_type": "stream",
     "text": [
      "Epoch 25/60:  28%|██▊       | 126/456 [00:36<00:58,  5.69img/s, loss (batch)=0.312]"
     ]
    },
    {
     "name": "stdout",
     "output_type": "stream",
     "text": [
      "Validation round\n"
     ]
    },
    {
     "name": "stderr",
     "output_type": "stream",
     "text": [
      "Validation round: 100%|██████████| 115/115 [00:13<00:00,  8.73batch/s]\n"
     ]
    },
    {
     "name": "stdout",
     "output_type": "stream",
     "text": [
      "Validation dice loss: 0.5736002922058105, IoU Score 0.6539027690887451\n"
     ]
    },
    {
     "name": "stderr",
     "output_type": "stream",
     "text": [
      "Epoch 25/60:  47%|████▋     | 216/456 [01:07<00:42,  5.64img/s, loss (batch)=0.365]"
     ]
    },
    {
     "name": "stdout",
     "output_type": "stream",
     "text": [
      "Validation round\n"
     ]
    },
    {
     "name": "stderr",
     "output_type": "stream",
     "text": [
      "Validation round: 100%|██████████| 115/115 [00:13<00:00,  8.75batch/s]\n"
     ]
    },
    {
     "name": "stdout",
     "output_type": "stream",
     "text": [
      "Validation dice loss: 0.7207194566726685, IoU Score 0.5696778297424316\n"
     ]
    },
    {
     "name": "stderr",
     "output_type": "stream",
     "text": [
      "Epoch 25/60:  67%|██████▋   | 306/456 [01:37<00:26,  5.67img/s, loss (batch)=0.333]"
     ]
    },
    {
     "name": "stdout",
     "output_type": "stream",
     "text": [
      "Validation round\n"
     ]
    },
    {
     "name": "stderr",
     "output_type": "stream",
     "text": [
      "Validation round: 100%|██████████| 115/115 [00:13<00:00,  8.72batch/s]\n"
     ]
    },
    {
     "name": "stdout",
     "output_type": "stream",
     "text": [
      "Validation dice loss: 0.516464352607727, IoU Score 0.6435692310333252\n"
     ]
    },
    {
     "name": "stderr",
     "output_type": "stream",
     "text": [
      "Epoch 25/60:  87%|████████▋ | 396/456 [02:08<00:10,  5.62img/s, loss (batch)=0.315]"
     ]
    },
    {
     "name": "stdout",
     "output_type": "stream",
     "text": [
      "Validation round\n"
     ]
    },
    {
     "name": "stderr",
     "output_type": "stream",
     "text": [
      "Validation round: 100%|██████████| 115/115 [00:13<00:00,  8.71batch/s]\n"
     ]
    },
    {
     "name": "stdout",
     "output_type": "stream",
     "text": [
      "Validation dice loss: 0.5221770405769348, IoU Score 0.6430861353874207\n"
     ]
    },
    {
     "name": "stderr",
     "output_type": "stream",
     "text": [
      "Epoch 25/60: 100%|██████████| 456/456 [02:33<00:00,  2.98img/s, loss (batch)=0.245]\n",
      "Epoch 26/60:   7%|▋         | 30/456 [00:05<01:14,  5.68img/s, loss (batch)=0.38] "
     ]
    },
    {
     "name": "stdout",
     "output_type": "stream",
     "text": [
      "Validation round\n"
     ]
    },
    {
     "name": "stderr",
     "output_type": "stream",
     "text": [
      "Validation round: 100%|██████████| 115/115 [00:13<00:00,  8.78batch/s]\n"
     ]
    },
    {
     "name": "stdout",
     "output_type": "stream",
     "text": [
      "Validation dice loss: 0.49608802795410156, IoU Score 0.6690645813941956\n"
     ]
    },
    {
     "name": "stderr",
     "output_type": "stream",
     "text": [
      "Epoch 26/60:  26%|██▋       | 120/456 [00:35<00:59,  5.62img/s, loss (batch)=0.394]"
     ]
    },
    {
     "name": "stdout",
     "output_type": "stream",
     "text": [
      "Validation round\n"
     ]
    },
    {
     "name": "stderr",
     "output_type": "stream",
     "text": [
      "Validation round: 100%|██████████| 115/115 [00:13<00:00,  8.75batch/s]\n"
     ]
    },
    {
     "name": "stdout",
     "output_type": "stream",
     "text": [
      "Validation dice loss: 0.5268145799636841, IoU Score 0.645691990852356\n"
     ]
    },
    {
     "name": "stderr",
     "output_type": "stream",
     "text": [
      "Epoch 26/60:  46%|████▌     | 210/456 [01:06<00:43,  5.67img/s, loss (batch)=0.295]"
     ]
    },
    {
     "name": "stdout",
     "output_type": "stream",
     "text": [
      "Validation round\n"
     ]
    },
    {
     "name": "stderr",
     "output_type": "stream",
     "text": [
      "Validation round: 100%|██████████| 115/115 [00:13<00:00,  8.76batch/s]\n"
     ]
    },
    {
     "name": "stdout",
     "output_type": "stream",
     "text": [
      "Validation dice loss: 0.5632537007331848, IoU Score 0.6508831977844238\n"
     ]
    },
    {
     "name": "stderr",
     "output_type": "stream",
     "text": [
      "Epoch 26/60:  66%|██████▌   | 300/456 [01:36<00:27,  5.66img/s, loss (batch)=0.288]"
     ]
    },
    {
     "name": "stdout",
     "output_type": "stream",
     "text": [
      "Validation round\n"
     ]
    },
    {
     "name": "stderr",
     "output_type": "stream",
     "text": [
      "Validation round: 100%|██████████| 115/115 [00:13<00:00,  8.77batch/s]\n"
     ]
    },
    {
     "name": "stdout",
     "output_type": "stream",
     "text": [
      "Validation dice loss: 0.5714784264564514, IoU Score 0.60209721326828\n"
     ]
    },
    {
     "name": "stderr",
     "output_type": "stream",
     "text": [
      "Epoch 26/60:  86%|████████▌ | 390/456 [02:06<00:11,  5.63img/s, loss (batch)=0.279]"
     ]
    },
    {
     "name": "stdout",
     "output_type": "stream",
     "text": [
      "Validation round\n"
     ]
    },
    {
     "name": "stderr",
     "output_type": "stream",
     "text": [
      "Validation round: 100%|██████████| 115/115 [00:13<00:00,  8.77batch/s]\n"
     ]
    },
    {
     "name": "stdout",
     "output_type": "stream",
     "text": [
      "Validation dice loss: 0.5324403643608093, IoU Score 0.6139338612556458\n"
     ]
    },
    {
     "name": "stderr",
     "output_type": "stream",
     "text": [
      "Epoch 26/60: 100%|██████████| 456/456 [02:32<00:00,  2.98img/s, loss (batch)=0.213]\n",
      "Epoch 27/60:   5%|▌         | 24/456 [00:04<01:15,  5.74img/s, loss (batch)=0.301]"
     ]
    },
    {
     "name": "stdout",
     "output_type": "stream",
     "text": [
      "Validation round\n"
     ]
    },
    {
     "name": "stderr",
     "output_type": "stream",
     "text": [
      "Validation round: 100%|██████████| 115/115 [00:13<00:00,  8.76batch/s]\n"
     ]
    },
    {
     "name": "stdout",
     "output_type": "stream",
     "text": [
      "Validation dice loss: 0.5191317200660706, IoU Score 0.6394972801208496\n"
     ]
    },
    {
     "name": "stderr",
     "output_type": "stream",
     "text": [
      "Epoch 27/60:  25%|██▌       | 114/456 [00:34<01:01,  5.60img/s, loss (batch)=0.248]"
     ]
    },
    {
     "name": "stdout",
     "output_type": "stream",
     "text": [
      "Validation round\n"
     ]
    },
    {
     "name": "stderr",
     "output_type": "stream",
     "text": [
      "Validation round: 100%|██████████| 115/115 [00:13<00:00,  8.79batch/s]\n"
     ]
    },
    {
     "name": "stdout",
     "output_type": "stream",
     "text": [
      "Validation dice loss: 0.48006537556648254, IoU Score 0.6615064144134521\n"
     ]
    },
    {
     "name": "stderr",
     "output_type": "stream",
     "text": [
      "Epoch 27/60:  45%|████▍     | 204/456 [01:05<00:45,  5.56img/s, loss (batch)=0.375]"
     ]
    },
    {
     "name": "stdout",
     "output_type": "stream",
     "text": [
      "Validation round\n"
     ]
    },
    {
     "name": "stderr",
     "output_type": "stream",
     "text": [
      "Validation round: 100%|██████████| 115/115 [00:13<00:00,  8.33batch/s]\n"
     ]
    },
    {
     "name": "stdout",
     "output_type": "stream",
     "text": [
      "Validation dice loss: 0.5374676585197449, IoU Score 0.6186694502830505\n"
     ]
    },
    {
     "name": "stderr",
     "output_type": "stream",
     "text": [
      "Epoch 27/60:  64%|██████▍   | 294/456 [01:37<00:29,  5.53img/s, loss (batch)=0.292]"
     ]
    },
    {
     "name": "stdout",
     "output_type": "stream",
     "text": [
      "Validation round\n"
     ]
    },
    {
     "name": "stderr",
     "output_type": "stream",
     "text": [
      "Validation round: 100%|██████████| 115/115 [00:13<00:00,  8.33batch/s]\n"
     ]
    },
    {
     "name": "stdout",
     "output_type": "stream",
     "text": [
      "Validation dice loss: 0.4718589782714844, IoU Score 0.6584968566894531\n"
     ]
    },
    {
     "name": "stderr",
     "output_type": "stream",
     "text": [
      "Epoch 27/60:  84%|████████▍ | 384/456 [02:08<00:12,  5.67img/s, loss (batch)=0.264]"
     ]
    },
    {
     "name": "stdout",
     "output_type": "stream",
     "text": [
      "Validation round\n"
     ]
    },
    {
     "name": "stderr",
     "output_type": "stream",
     "text": [
      "Validation round: 100%|██████████| 115/115 [00:14<00:00,  7.96batch/s]\n"
     ]
    },
    {
     "name": "stdout",
     "output_type": "stream",
     "text": [
      "Validation dice loss: 0.5135276317596436, IoU Score 0.6287462711334229\n"
     ]
    },
    {
     "name": "stderr",
     "output_type": "stream",
     "text": [
      "Epoch 27/60: 100%|██████████| 456/456 [02:38<00:00,  2.88img/s, loss (batch)=0.24]\n",
      "Epoch 28/60:   4%|▍         | 18/456 [00:03<01:21,  5.38img/s, loss (batch)=0.229]"
     ]
    },
    {
     "name": "stdout",
     "output_type": "stream",
     "text": [
      "Validation round\n"
     ]
    },
    {
     "name": "stderr",
     "output_type": "stream",
     "text": [
      "Validation round: 100%|██████████| 115/115 [00:13<00:00,  8.41batch/s]\n"
     ]
    },
    {
     "name": "stdout",
     "output_type": "stream",
     "text": [
      "Validation dice loss: 0.6552336812019348, IoU Score 0.5638762712478638\n"
     ]
    },
    {
     "name": "stderr",
     "output_type": "stream",
     "text": [
      "Epoch 28/60:  24%|██▎       | 108/456 [00:34<01:00,  5.71img/s, loss (batch)=0.212]"
     ]
    },
    {
     "name": "stdout",
     "output_type": "stream",
     "text": [
      "Validation round\n"
     ]
    },
    {
     "name": "stderr",
     "output_type": "stream",
     "text": [
      "Validation round: 100%|██████████| 115/115 [00:13<00:00,  8.70batch/s]\n"
     ]
    },
    {
     "name": "stdout",
     "output_type": "stream",
     "text": [
      "Validation dice loss: 0.6045668125152588, IoU Score 0.6019259095191956\n"
     ]
    },
    {
     "name": "stderr",
     "output_type": "stream",
     "text": [
      "Epoch 28/60:  43%|████▎     | 198/456 [01:04<00:45,  5.66img/s, loss (batch)=0.281]"
     ]
    },
    {
     "name": "stdout",
     "output_type": "stream",
     "text": [
      "Validation round\n"
     ]
    },
    {
     "name": "stderr",
     "output_type": "stream",
     "text": [
      "Validation round: 100%|██████████| 115/115 [00:13<00:00,  8.71batch/s]\n"
     ]
    },
    {
     "name": "stdout",
     "output_type": "stream",
     "text": [
      "Validation dice loss: 0.515042781829834, IoU Score 0.6502282619476318\n"
     ]
    },
    {
     "name": "stderr",
     "output_type": "stream",
     "text": [
      "Epoch 28/60:  63%|██████▎   | 288/456 [01:35<00:29,  5.61img/s, loss (batch)=0.805]"
     ]
    },
    {
     "name": "stdout",
     "output_type": "stream",
     "text": [
      "Validation round\n"
     ]
    },
    {
     "name": "stderr",
     "output_type": "stream",
     "text": [
      "Validation round: 100%|██████████| 115/115 [00:13<00:00,  8.75batch/s]\n"
     ]
    },
    {
     "name": "stdout",
     "output_type": "stream",
     "text": [
      "Validation dice loss: 0.5576407313346863, IoU Score 0.6296800971031189\n"
     ]
    },
    {
     "name": "stderr",
     "output_type": "stream",
     "text": [
      "Epoch 28/60:  83%|████████▎ | 378/456 [02:05<00:14,  5.53img/s, loss (batch)=0.3] "
     ]
    },
    {
     "name": "stdout",
     "output_type": "stream",
     "text": [
      "Validation round\n"
     ]
    },
    {
     "name": "stderr",
     "output_type": "stream",
     "text": [
      "Validation round: 100%|██████████| 115/115 [00:13<00:00,  8.71batch/s]\n"
     ]
    },
    {
     "name": "stdout",
     "output_type": "stream",
     "text": [
      "Validation dice loss: 0.42172151803970337, IoU Score 0.6634747385978699\n"
     ]
    },
    {
     "name": "stderr",
     "output_type": "stream",
     "text": [
      "Epoch 28/60: 100%|██████████| 456/456 [02:33<00:00,  2.96img/s, loss (batch)=0.305]\n",
      "Epoch 29/60:   3%|▎         | 12/456 [00:02<01:19,  5.59img/s, loss (batch)=0.274]"
     ]
    },
    {
     "name": "stdout",
     "output_type": "stream",
     "text": [
      "Validation round\n"
     ]
    },
    {
     "name": "stderr",
     "output_type": "stream",
     "text": [
      "Validation round: 100%|██████████| 115/115 [00:13<00:00,  8.68batch/s]\n"
     ]
    },
    {
     "name": "stdout",
     "output_type": "stream",
     "text": [
      "Validation dice loss: 0.5352430939674377, IoU Score 0.6065024137496948\n"
     ]
    },
    {
     "name": "stderr",
     "output_type": "stream",
     "text": [
      "Epoch 29/60:  22%|██▏       | 102/456 [00:32<01:02,  5.65img/s, loss (batch)=0.229]"
     ]
    },
    {
     "name": "stdout",
     "output_type": "stream",
     "text": [
      "Validation round\n"
     ]
    },
    {
     "name": "stderr",
     "output_type": "stream",
     "text": [
      "Validation round: 100%|██████████| 115/115 [00:13<00:00,  8.72batch/s]\n"
     ]
    },
    {
     "name": "stdout",
     "output_type": "stream",
     "text": [
      "Validation dice loss: 0.42693275213241577, IoU Score 0.6647207736968994\n"
     ]
    },
    {
     "name": "stderr",
     "output_type": "stream",
     "text": [
      "Epoch 29/60:  42%|████▏     | 192/456 [01:03<00:45,  5.79img/s, loss (batch)=0.224]"
     ]
    },
    {
     "name": "stdout",
     "output_type": "stream",
     "text": [
      "Validation round\n"
     ]
    },
    {
     "name": "stderr",
     "output_type": "stream",
     "text": [
      "Validation round: 100%|██████████| 115/115 [00:13<00:00,  8.74batch/s]\n"
     ]
    },
    {
     "name": "stdout",
     "output_type": "stream",
     "text": [
      "Validation dice loss: 0.5218959450721741, IoU Score 0.5959227681159973\n"
     ]
    },
    {
     "name": "stderr",
     "output_type": "stream",
     "text": [
      "Epoch 29/60:  62%|██████▏   | 282/456 [01:33<00:30,  5.67img/s, loss (batch)=0.232]"
     ]
    },
    {
     "name": "stdout",
     "output_type": "stream",
     "text": [
      "Validation round\n"
     ]
    },
    {
     "name": "stderr",
     "output_type": "stream",
     "text": [
      "Validation round: 100%|██████████| 115/115 [00:13<00:00,  8.73batch/s]\n"
     ]
    },
    {
     "name": "stdout",
     "output_type": "stream",
     "text": [
      "Validation dice loss: 0.4565889537334442, IoU Score 0.6395015120506287\n"
     ]
    },
    {
     "name": "stderr",
     "output_type": "stream",
     "text": [
      "Epoch 29/60:  82%|████████▏ | 372/456 [02:04<00:14,  5.69img/s, loss (batch)=0.255]"
     ]
    },
    {
     "name": "stdout",
     "output_type": "stream",
     "text": [
      "Validation round\n"
     ]
    },
    {
     "name": "stderr",
     "output_type": "stream",
     "text": [
      "Validation round: 100%|██████████| 115/115 [00:13<00:00,  8.70batch/s]\n"
     ]
    },
    {
     "name": "stdout",
     "output_type": "stream",
     "text": [
      "Validation dice loss: 0.5551652312278748, IoU Score 0.584807276725769\n"
     ]
    },
    {
     "name": "stderr",
     "output_type": "stream",
     "text": [
      "Epoch 29/60: 100%|██████████| 456/456 [02:33<00:00,  2.97img/s, loss (batch)=0.257]\n",
      "Epoch 30/60:   1%|▏         | 6/456 [00:01<01:18,  5.72img/s, loss (batch)=0.335]"
     ]
    },
    {
     "name": "stdout",
     "output_type": "stream",
     "text": [
      "Validation round\n"
     ]
    },
    {
     "name": "stderr",
     "output_type": "stream",
     "text": [
      "Validation round: 100%|██████████| 115/115 [00:13<00:00,  8.74batch/s]\n"
     ]
    },
    {
     "name": "stdout",
     "output_type": "stream",
     "text": [
      "Validation dice loss: 0.6029772758483887, IoU Score 0.5823118686676025\n"
     ]
    },
    {
     "name": "stderr",
     "output_type": "stream",
     "text": [
      "Epoch 30/60:  21%|██        | 96/456 [00:31<01:04,  5.61img/s, loss (batch)=0.189]"
     ]
    },
    {
     "name": "stdout",
     "output_type": "stream",
     "text": [
      "Validation round\n"
     ]
    },
    {
     "name": "stderr",
     "output_type": "stream",
     "text": [
      "Validation round: 100%|██████████| 115/115 [00:13<00:00,  8.69batch/s]\n"
     ]
    },
    {
     "name": "stdout",
     "output_type": "stream",
     "text": [
      "Validation dice loss: 0.49244415760040283, IoU Score 0.6572173833847046\n"
     ]
    },
    {
     "name": "stderr",
     "output_type": "stream",
     "text": [
      "Epoch 30/60:  41%|████      | 186/456 [01:02<00:48,  5.62img/s, loss (batch)=0.202]"
     ]
    },
    {
     "name": "stdout",
     "output_type": "stream",
     "text": [
      "Validation round\n"
     ]
    },
    {
     "name": "stderr",
     "output_type": "stream",
     "text": [
      "Validation round: 100%|██████████| 115/115 [00:13<00:00,  8.72batch/s]\n"
     ]
    },
    {
     "name": "stdout",
     "output_type": "stream",
     "text": [
      "Validation dice loss: 0.5393654704093933, IoU Score 0.6229396462440491\n"
     ]
    },
    {
     "name": "stderr",
     "output_type": "stream",
     "text": [
      "Epoch 30/60:  61%|██████    | 276/456 [01:32<00:31,  5.66img/s, loss (batch)=0.252]"
     ]
    },
    {
     "name": "stdout",
     "output_type": "stream",
     "text": [
      "Validation round\n"
     ]
    },
    {
     "name": "stderr",
     "output_type": "stream",
     "text": [
      "Validation round: 100%|██████████| 115/115 [00:13<00:00,  8.72batch/s]\n"
     ]
    },
    {
     "name": "stdout",
     "output_type": "stream",
     "text": [
      "Validation dice loss: 0.5964788198471069, IoU Score 0.5808888673782349\n"
     ]
    },
    {
     "name": "stderr",
     "output_type": "stream",
     "text": [
      "Epoch 30/60:  80%|████████  | 366/456 [02:03<00:15,  5.66img/s, loss (batch)=0.169]"
     ]
    },
    {
     "name": "stdout",
     "output_type": "stream",
     "text": [
      "Validation round\n"
     ]
    },
    {
     "name": "stderr",
     "output_type": "stream",
     "text": [
      "Validation round: 100%|██████████| 115/115 [00:13<00:00,  8.71batch/s]\n"
     ]
    },
    {
     "name": "stdout",
     "output_type": "stream",
     "text": [
      "Validation dice loss: 0.46046996116638184, IoU Score 0.6504442095756531\n"
     ]
    },
    {
     "name": "stderr",
     "output_type": "stream",
     "text": [
      "Epoch 30/60: 100%|██████████| 456/456 [02:33<00:00,  5.58img/s, loss (batch)=0.175]"
     ]
    },
    {
     "name": "stdout",
     "output_type": "stream",
     "text": [
      "Validation round\n"
     ]
    },
    {
     "name": "stderr",
     "output_type": "stream",
     "text": [
      "Validation round: 100%|██████████| 115/115 [00:13<00:00,  8.69batch/s]\n",
      "Epoch 30/60: 100%|██████████| 456/456 [02:48<00:00,  2.71img/s, loss (batch)=0.175]\n"
     ]
    },
    {
     "name": "stdout",
     "output_type": "stream",
     "text": [
      "Validation dice loss: 0.4363345801830292, IoU Score 0.663737416267395\n"
     ]
    },
    {
     "name": "stderr",
     "output_type": "stream",
     "text": [
      "Epoch 31/60:  20%|█▉        | 90/456 [00:15<01:04,  5.70img/s, loss (batch)=0.524]"
     ]
    },
    {
     "name": "stdout",
     "output_type": "stream",
     "text": [
      "Validation round\n"
     ]
    },
    {
     "name": "stderr",
     "output_type": "stream",
     "text": [
      "Validation round: 100%|██████████| 115/115 [00:13<00:00,  8.69batch/s]\n"
     ]
    },
    {
     "name": "stdout",
     "output_type": "stream",
     "text": [
      "Validation dice loss: 0.42963942885398865, IoU Score 0.6643067002296448\n"
     ]
    },
    {
     "name": "stderr",
     "output_type": "stream",
     "text": [
      "Epoch 31/60:  39%|███▉      | 180/456 [00:46<00:49,  5.59img/s, loss (batch)=0.18]"
     ]
    },
    {
     "name": "stdout",
     "output_type": "stream",
     "text": [
      "Validation round\n"
     ]
    },
    {
     "name": "stderr",
     "output_type": "stream",
     "text": [
      "Validation round: 100%|██████████| 115/115 [00:13<00:00,  8.71batch/s]\n"
     ]
    },
    {
     "name": "stdout",
     "output_type": "stream",
     "text": [
      "Validation dice loss: 0.502396821975708, IoU Score 0.6048343777656555\n"
     ]
    },
    {
     "name": "stderr",
     "output_type": "stream",
     "text": [
      "Epoch 31/60:  59%|█████▉    | 270/456 [01:17<00:32,  5.65img/s, loss (batch)=0.214]"
     ]
    },
    {
     "name": "stdout",
     "output_type": "stream",
     "text": [
      "Validation round\n"
     ]
    },
    {
     "name": "stderr",
     "output_type": "stream",
     "text": [
      "Validation round: 100%|██████████| 115/115 [00:13<00:00,  8.69batch/s]\n"
     ]
    },
    {
     "name": "stdout",
     "output_type": "stream",
     "text": [
      "Validation dice loss: 0.6615622639656067, IoU Score 0.5305095314979553\n"
     ]
    },
    {
     "name": "stderr",
     "output_type": "stream",
     "text": [
      "Epoch 31/60:  79%|███████▉  | 360/456 [01:47<00:16,  5.73img/s, loss (batch)=0.229]"
     ]
    },
    {
     "name": "stdout",
     "output_type": "stream",
     "text": [
      "Validation round\n"
     ]
    },
    {
     "name": "stderr",
     "output_type": "stream",
     "text": [
      "Validation round: 100%|██████████| 115/115 [00:13<00:00,  8.70batch/s]\n"
     ]
    },
    {
     "name": "stdout",
     "output_type": "stream",
     "text": [
      "Validation dice loss: 0.4446675181388855, IoU Score 0.6350662112236023\n"
     ]
    },
    {
     "name": "stderr",
     "output_type": "stream",
     "text": [
      "Epoch 31/60:  99%|█████████▊| 450/456 [02:17<00:01,  5.60img/s, loss (batch)=0.623]"
     ]
    },
    {
     "name": "stdout",
     "output_type": "stream",
     "text": [
      "Validation round\n"
     ]
    },
    {
     "name": "stderr",
     "output_type": "stream",
     "text": [
      "Validation round: 100%|██████████| 115/115 [00:13<00:00,  8.73batch/s]\n"
     ]
    },
    {
     "name": "stdout",
     "output_type": "stream",
     "text": [
      "Validation dice loss: 0.41165265440940857, IoU Score 0.6720973253250122\n"
     ]
    },
    {
     "name": "stderr",
     "output_type": "stream",
     "text": [
      "Epoch 31/60: 100%|██████████| 456/456 [02:33<00:00,  2.97img/s, loss (batch)=0.238]\n",
      "Epoch 32/60:  18%|█▊        | 84/456 [00:14<01:05,  5.66img/s, loss (batch)=0.271]"
     ]
    },
    {
     "name": "stdout",
     "output_type": "stream",
     "text": [
      "Validation round\n"
     ]
    },
    {
     "name": "stderr",
     "output_type": "stream",
     "text": [
      "Validation round: 100%|██████████| 115/115 [00:13<00:00,  8.73batch/s]\n"
     ]
    },
    {
     "name": "stdout",
     "output_type": "stream",
     "text": [
      "Validation dice loss: 0.40886926651000977, IoU Score 0.668439507484436\n"
     ]
    },
    {
     "name": "stderr",
     "output_type": "stream",
     "text": [
      "Epoch 32/60:  38%|███▊      | 174/456 [00:45<00:50,  5.64img/s, loss (batch)=0.197]"
     ]
    },
    {
     "name": "stdout",
     "output_type": "stream",
     "text": [
      "Validation round\n"
     ]
    },
    {
     "name": "stderr",
     "output_type": "stream",
     "text": [
      "Validation round: 100%|██████████| 115/115 [00:13<00:00,  8.75batch/s]\n"
     ]
    },
    {
     "name": "stdout",
     "output_type": "stream",
     "text": [
      "Validation dice loss: 0.42376700043678284, IoU Score 0.6664392352104187\n"
     ]
    },
    {
     "name": "stderr",
     "output_type": "stream",
     "text": [
      "Epoch 32/60:  58%|█████▊    | 264/456 [01:15<00:33,  5.67img/s, loss (batch)=0.213]"
     ]
    },
    {
     "name": "stdout",
     "output_type": "stream",
     "text": [
      "Validation round\n"
     ]
    },
    {
     "name": "stderr",
     "output_type": "stream",
     "text": [
      "Validation round: 100%|██████████| 115/115 [00:13<00:00,  8.74batch/s]\n"
     ]
    },
    {
     "name": "stdout",
     "output_type": "stream",
     "text": [
      "Validation dice loss: 0.465292364358902, IoU Score 0.6288353800773621\n"
     ]
    },
    {
     "name": "stderr",
     "output_type": "stream",
     "text": [
      "Epoch 32/60:  78%|███████▊  | 354/456 [01:46<00:17,  5.68img/s, loss (batch)=0.203]"
     ]
    },
    {
     "name": "stdout",
     "output_type": "stream",
     "text": [
      "Validation round\n"
     ]
    },
    {
     "name": "stderr",
     "output_type": "stream",
     "text": [
      "Validation round: 100%|██████████| 115/115 [00:13<00:00,  8.69batch/s]\n"
     ]
    },
    {
     "name": "stdout",
     "output_type": "stream",
     "text": [
      "Validation dice loss: 0.39431649446487427, IoU Score 0.6670692563056946\n"
     ]
    },
    {
     "name": "stderr",
     "output_type": "stream",
     "text": [
      "Epoch 32/60:  97%|█████████▋| 444/456 [02:16<00:02,  5.56img/s, loss (batch)=0.19] "
     ]
    },
    {
     "name": "stdout",
     "output_type": "stream",
     "text": [
      "Validation round\n"
     ]
    },
    {
     "name": "stderr",
     "output_type": "stream",
     "text": [
      "Validation round: 100%|██████████| 115/115 [00:13<00:00,  8.67batch/s]\n"
     ]
    },
    {
     "name": "stdout",
     "output_type": "stream",
     "text": [
      "Validation dice loss: 0.5078244805335999, IoU Score 0.604324221611023\n"
     ]
    },
    {
     "name": "stderr",
     "output_type": "stream",
     "text": [
      "Epoch 32/60: 100%|██████████| 456/456 [02:33<00:00,  2.97img/s, loss (batch)=0.311]\n",
      "Epoch 33/60:  17%|█▋        | 78/456 [00:13<01:07,  5.62img/s, loss (batch)=0.375]"
     ]
    },
    {
     "name": "stdout",
     "output_type": "stream",
     "text": [
      "Validation round\n"
     ]
    },
    {
     "name": "stderr",
     "output_type": "stream",
     "text": [
      "Validation round: 100%|██████████| 115/115 [00:13<00:00,  8.73batch/s]\n"
     ]
    },
    {
     "name": "stdout",
     "output_type": "stream",
     "text": [
      "Validation dice loss: 0.3969813883304596, IoU Score 0.6628729701042175\n"
     ]
    },
    {
     "name": "stderr",
     "output_type": "stream",
     "text": [
      "Epoch 33/60:  37%|███▋      | 168/456 [00:44<00:50,  5.65img/s, loss (batch)=0.175]"
     ]
    },
    {
     "name": "stdout",
     "output_type": "stream",
     "text": [
      "Validation round\n"
     ]
    },
    {
     "name": "stderr",
     "output_type": "stream",
     "text": [
      "Validation round: 100%|██████████| 115/115 [00:13<00:00,  8.71batch/s]\n"
     ]
    },
    {
     "name": "stdout",
     "output_type": "stream",
     "text": [
      "Validation dice loss: 0.4320219159126282, IoU Score 0.6365779042243958\n"
     ]
    },
    {
     "name": "stderr",
     "output_type": "stream",
     "text": [
      "Epoch 33/60:  57%|█████▋    | 258/456 [01:14<00:35,  5.65img/s, loss (batch)=0.206]"
     ]
    },
    {
     "name": "stdout",
     "output_type": "stream",
     "text": [
      "Validation round\n"
     ]
    },
    {
     "name": "stderr",
     "output_type": "stream",
     "text": [
      "Validation round: 100%|██████████| 115/115 [00:13<00:00,  8.73batch/s]\n"
     ]
    },
    {
     "name": "stdout",
     "output_type": "stream",
     "text": [
      "Validation dice loss: 0.4253452718257904, IoU Score 0.6493896245956421\n"
     ]
    },
    {
     "name": "stderr",
     "output_type": "stream",
     "text": [
      "Epoch 33/60:  76%|███████▋  | 348/456 [01:45<00:19,  5.59img/s, loss (batch)=0.122]"
     ]
    },
    {
     "name": "stdout",
     "output_type": "stream",
     "text": [
      "Validation round\n"
     ]
    },
    {
     "name": "stderr",
     "output_type": "stream",
     "text": [
      "Validation round: 100%|██████████| 115/115 [00:13<00:00,  8.73batch/s]\n"
     ]
    },
    {
     "name": "stdout",
     "output_type": "stream",
     "text": [
      "Validation dice loss: 0.4998578131198883, IoU Score 0.6013302803039551\n"
     ]
    },
    {
     "name": "stderr",
     "output_type": "stream",
     "text": [
      "Epoch 33/60:  96%|█████████▌| 438/456 [02:15<00:03,  5.69img/s, loss (batch)=0.198]"
     ]
    },
    {
     "name": "stdout",
     "output_type": "stream",
     "text": [
      "Validation round\n"
     ]
    },
    {
     "name": "stderr",
     "output_type": "stream",
     "text": [
      "Validation round: 100%|██████████| 115/115 [00:13<00:00,  8.73batch/s]\n"
     ]
    },
    {
     "name": "stdout",
     "output_type": "stream",
     "text": [
      "Validation dice loss: 0.4541996419429779, IoU Score 0.6268383264541626\n"
     ]
    },
    {
     "name": "stderr",
     "output_type": "stream",
     "text": [
      "Epoch 33/60: 100%|██████████| 456/456 [02:33<00:00,  2.98img/s, loss (batch)=0.165]\n",
      "Epoch 34/60:  16%|█▌        | 72/456 [00:12<01:07,  5.68img/s, loss (batch)=0.296]"
     ]
    },
    {
     "name": "stdout",
     "output_type": "stream",
     "text": [
      "Validation round\n"
     ]
    },
    {
     "name": "stderr",
     "output_type": "stream",
     "text": [
      "Validation round: 100%|██████████| 115/115 [00:13<00:00,  8.72batch/s]\n"
     ]
    },
    {
     "name": "stdout",
     "output_type": "stream",
     "text": [
      "Validation dice loss: 0.42606621980667114, IoU Score 0.6397004127502441\n"
     ]
    },
    {
     "name": "stderr",
     "output_type": "stream",
     "text": [
      "Epoch 34/60:  36%|███▌      | 162/456 [00:43<00:51,  5.69img/s, loss (batch)=0.167]"
     ]
    },
    {
     "name": "stdout",
     "output_type": "stream",
     "text": [
      "Validation round\n"
     ]
    },
    {
     "name": "stderr",
     "output_type": "stream",
     "text": [
      "Validation round: 100%|██████████| 115/115 [00:13<00:00,  8.72batch/s]\n"
     ]
    },
    {
     "name": "stdout",
     "output_type": "stream",
     "text": [
      "Validation dice loss: 0.4207553565502167, IoU Score 0.6561568379402161\n"
     ]
    },
    {
     "name": "stderr",
     "output_type": "stream",
     "text": [
      "Epoch 34/60:  55%|█████▌    | 252/456 [01:13<00:35,  5.71img/s, loss (batch)=0.155]"
     ]
    },
    {
     "name": "stdout",
     "output_type": "stream",
     "text": [
      "Validation round\n"
     ]
    },
    {
     "name": "stderr",
     "output_type": "stream",
     "text": [
      "Validation round: 100%|██████████| 115/115 [00:13<00:00,  8.70batch/s]\n"
     ]
    },
    {
     "name": "stdout",
     "output_type": "stream",
     "text": [
      "Validation dice loss: 0.43627095222473145, IoU Score 0.6700833439826965\n"
     ]
    },
    {
     "name": "stderr",
     "output_type": "stream",
     "text": [
      "Epoch 34/60:  75%|███████▌  | 342/456 [01:44<00:20,  5.57img/s, loss (batch)=0.244]"
     ]
    },
    {
     "name": "stdout",
     "output_type": "stream",
     "text": [
      "Validation round\n"
     ]
    },
    {
     "name": "stderr",
     "output_type": "stream",
     "text": [
      "Validation round: 100%|██████████| 115/115 [00:13<00:00,  8.70batch/s]\n"
     ]
    },
    {
     "name": "stdout",
     "output_type": "stream",
     "text": [
      "Validation dice loss: 0.4591057598590851, IoU Score 0.6511197090148926\n"
     ]
    },
    {
     "name": "stderr",
     "output_type": "stream",
     "text": [
      "Epoch 34/60:  95%|█████████▍| 432/456 [02:14<00:04,  5.67img/s, loss (batch)=0.191]"
     ]
    },
    {
     "name": "stdout",
     "output_type": "stream",
     "text": [
      "Validation round\n"
     ]
    },
    {
     "name": "stderr",
     "output_type": "stream",
     "text": [
      "Validation round: 100%|██████████| 115/115 [00:13<00:00,  8.71batch/s]\n"
     ]
    },
    {
     "name": "stdout",
     "output_type": "stream",
     "text": [
      "Validation dice loss: 0.6100578308105469, IoU Score 0.5360680222511292\n"
     ]
    },
    {
     "name": "stderr",
     "output_type": "stream",
     "text": [
      "Epoch 34/60: 100%|██████████| 456/456 [02:33<00:00,  2.97img/s, loss (batch)=0.609]\n",
      "Epoch 35/60:  14%|█▍        | 66/456 [00:11<01:08,  5.66img/s, loss (batch)=0.164]"
     ]
    },
    {
     "name": "stdout",
     "output_type": "stream",
     "text": [
      "Validation round\n"
     ]
    },
    {
     "name": "stderr",
     "output_type": "stream",
     "text": [
      "Validation round: 100%|██████████| 115/115 [00:13<00:00,  8.71batch/s]\n"
     ]
    },
    {
     "name": "stdout",
     "output_type": "stream",
     "text": [
      "Validation dice loss: 0.4275052547454834, IoU Score 0.6475245952606201\n"
     ]
    },
    {
     "name": "stderr",
     "output_type": "stream",
     "text": [
      "Epoch 35/60:  34%|███▍      | 156/456 [00:42<00:54,  5.50img/s, loss (batch)=0.138]"
     ]
    },
    {
     "name": "stdout",
     "output_type": "stream",
     "text": [
      "Validation round\n"
     ]
    },
    {
     "name": "stderr",
     "output_type": "stream",
     "text": [
      "Validation round: 100%|██████████| 115/115 [00:13<00:00,  8.52batch/s]\n"
     ]
    },
    {
     "name": "stdout",
     "output_type": "stream",
     "text": [
      "Validation dice loss: 0.41675418615341187, IoU Score 0.6471690535545349\n"
     ]
    },
    {
     "name": "stderr",
     "output_type": "stream",
     "text": [
      "Epoch 35/60:  54%|█████▍    | 246/456 [01:13<00:37,  5.54img/s, loss (batch)=0.225]"
     ]
    },
    {
     "name": "stdout",
     "output_type": "stream",
     "text": [
      "Validation round\n"
     ]
    },
    {
     "name": "stderr",
     "output_type": "stream",
     "text": [
      "Validation round: 100%|██████████| 115/115 [00:13<00:00,  8.71batch/s]\n"
     ]
    },
    {
     "name": "stdout",
     "output_type": "stream",
     "text": [
      "Validation dice loss: 0.4055631160736084, IoU Score 0.6536783576011658\n"
     ]
    },
    {
     "name": "stderr",
     "output_type": "stream",
     "text": [
      "Epoch 35/60:  74%|███████▎  | 336/456 [01:43<00:21,  5.65img/s, loss (batch)=0.144]"
     ]
    },
    {
     "name": "stdout",
     "output_type": "stream",
     "text": [
      "Validation round\n"
     ]
    },
    {
     "name": "stderr",
     "output_type": "stream",
     "text": [
      "Validation round: 100%|██████████| 115/115 [00:13<00:00,  8.75batch/s]\n"
     ]
    },
    {
     "name": "stdout",
     "output_type": "stream",
     "text": [
      "Validation dice loss: 0.41103869676589966, IoU Score 0.6535865068435669\n"
     ]
    },
    {
     "name": "stderr",
     "output_type": "stream",
     "text": [
      "Epoch 35/60:  93%|█████████▎| 426/456 [02:14<00:05,  5.72img/s, loss (batch)=0.306]"
     ]
    },
    {
     "name": "stdout",
     "output_type": "stream",
     "text": [
      "Validation round\n"
     ]
    },
    {
     "name": "stderr",
     "output_type": "stream",
     "text": [
      "Validation round: 100%|██████████| 115/115 [00:13<00:00,  8.72batch/s]\n"
     ]
    },
    {
     "name": "stdout",
     "output_type": "stream",
     "text": [
      "Validation dice loss: 0.4063468277454376, IoU Score 0.6490220427513123\n"
     ]
    },
    {
     "name": "stderr",
     "output_type": "stream",
     "text": [
      "Epoch 35/60: 100%|██████████| 456/456 [02:34<00:00,  2.96img/s, loss (batch)=0.125]\n",
      "Epoch 36/60:  13%|█▎        | 60/456 [00:10<01:09,  5.69img/s, loss (batch)=0.156]"
     ]
    },
    {
     "name": "stdout",
     "output_type": "stream",
     "text": [
      "Validation round\n"
     ]
    },
    {
     "name": "stderr",
     "output_type": "stream",
     "text": [
      "Validation round: 100%|██████████| 115/115 [00:13<00:00,  8.73batch/s]\n"
     ]
    },
    {
     "name": "stdout",
     "output_type": "stream",
     "text": [
      "Validation dice loss: 0.4199874997138977, IoU Score 0.6470916867256165\n"
     ]
    },
    {
     "name": "stderr",
     "output_type": "stream",
     "text": [
      "Epoch 36/60:  33%|███▎      | 150/456 [00:40<00:53,  5.77img/s, loss (batch)=0.134]"
     ]
    },
    {
     "name": "stdout",
     "output_type": "stream",
     "text": [
      "Validation round\n"
     ]
    },
    {
     "name": "stderr",
     "output_type": "stream",
     "text": [
      "Validation round: 100%|██████████| 115/115 [00:13<00:00,  8.75batch/s]\n"
     ]
    },
    {
     "name": "stdout",
     "output_type": "stream",
     "text": [
      "Validation dice loss: 0.3948063254356384, IoU Score 0.666420042514801\n"
     ]
    },
    {
     "name": "stderr",
     "output_type": "stream",
     "text": [
      "Epoch 36/60:  53%|█████▎    | 240/456 [01:11<00:38,  5.67img/s, loss (batch)=0.174]"
     ]
    },
    {
     "name": "stdout",
     "output_type": "stream",
     "text": [
      "Validation round\n"
     ]
    },
    {
     "name": "stderr",
     "output_type": "stream",
     "text": [
      "Validation round: 100%|██████████| 115/115 [00:13<00:00,  8.66batch/s]\n"
     ]
    },
    {
     "name": "stdout",
     "output_type": "stream",
     "text": [
      "Validation dice loss: 0.3830600678920746, IoU Score 0.6694700121879578\n"
     ]
    },
    {
     "name": "stderr",
     "output_type": "stream",
     "text": [
      "Epoch 36/60:  72%|███████▏  | 330/456 [01:41<00:22,  5.66img/s, loss (batch)=0.142]"
     ]
    },
    {
     "name": "stdout",
     "output_type": "stream",
     "text": [
      "Validation round\n"
     ]
    },
    {
     "name": "stderr",
     "output_type": "stream",
     "text": [
      "Validation round: 100%|██████████| 115/115 [00:13<00:00,  8.72batch/s]\n"
     ]
    },
    {
     "name": "stdout",
     "output_type": "stream",
     "text": [
      "Validation dice loss: 0.4423142969608307, IoU Score 0.6369317173957825\n"
     ]
    },
    {
     "name": "stderr",
     "output_type": "stream",
     "text": [
      "Epoch 36/60:  92%|█████████▏| 420/456 [02:12<00:06,  5.69img/s, loss (batch)=0.196]"
     ]
    },
    {
     "name": "stdout",
     "output_type": "stream",
     "text": [
      "Validation round\n"
     ]
    },
    {
     "name": "stderr",
     "output_type": "stream",
     "text": [
      "Validation round: 100%|██████████| 115/115 [00:13<00:00,  8.76batch/s]\n"
     ]
    },
    {
     "name": "stdout",
     "output_type": "stream",
     "text": [
      "Validation dice loss: 0.49128976464271545, IoU Score 0.5893481373786926\n"
     ]
    },
    {
     "name": "stderr",
     "output_type": "stream",
     "text": [
      "Epoch 36/60: 100%|██████████| 456/456 [02:33<00:00,  2.98img/s, loss (batch)=0.195]\n",
      "Epoch 37/60:  12%|█▏        | 54/456 [00:09<01:10,  5.69img/s, loss (batch)=0.186]"
     ]
    },
    {
     "name": "stdout",
     "output_type": "stream",
     "text": [
      "Validation round\n"
     ]
    },
    {
     "name": "stderr",
     "output_type": "stream",
     "text": [
      "Validation round: 100%|██████████| 115/115 [00:13<00:00,  8.78batch/s]\n"
     ]
    },
    {
     "name": "stdout",
     "output_type": "stream",
     "text": [
      "Validation dice loss: 0.41151246428489685, IoU Score 0.6523590683937073\n"
     ]
    },
    {
     "name": "stderr",
     "output_type": "stream",
     "text": [
      "Epoch 37/60:  32%|███▏      | 144/456 [00:39<00:54,  5.68img/s, loss (batch)=0.141]"
     ]
    },
    {
     "name": "stdout",
     "output_type": "stream",
     "text": [
      "Validation round\n"
     ]
    },
    {
     "name": "stderr",
     "output_type": "stream",
     "text": [
      "Validation round: 100%|██████████| 115/115 [00:13<00:00,  8.64batch/s]\n"
     ]
    },
    {
     "name": "stdout",
     "output_type": "stream",
     "text": [
      "Validation dice loss: 0.4140966534614563, IoU Score 0.6444846987724304\n"
     ]
    },
    {
     "name": "stderr",
     "output_type": "stream",
     "text": [
      "Epoch 37/60:  51%|█████▏    | 234/456 [01:10<00:38,  5.71img/s, loss (batch)=0.12] "
     ]
    },
    {
     "name": "stdout",
     "output_type": "stream",
     "text": [
      "Validation round\n"
     ]
    },
    {
     "name": "stderr",
     "output_type": "stream",
     "text": [
      "Validation round: 100%|██████████| 115/115 [00:13<00:00,  8.76batch/s]\n"
     ]
    },
    {
     "name": "stdout",
     "output_type": "stream",
     "text": [
      "Validation dice loss: 0.38334110379219055, IoU Score 0.6707131862640381\n"
     ]
    },
    {
     "name": "stderr",
     "output_type": "stream",
     "text": [
      "Epoch 37/60:  71%|███████   | 324/456 [01:41<00:23,  5.63img/s, loss (batch)=0.154]"
     ]
    },
    {
     "name": "stdout",
     "output_type": "stream",
     "text": [
      "Validation round\n"
     ]
    },
    {
     "name": "stderr",
     "output_type": "stream",
     "text": [
      "Validation round: 100%|██████████| 115/115 [00:13<00:00,  8.74batch/s]\n"
     ]
    },
    {
     "name": "stdout",
     "output_type": "stream",
     "text": [
      "Validation dice loss: 0.4878613352775574, IoU Score 0.5953112244606018\n"
     ]
    },
    {
     "name": "stderr",
     "output_type": "stream",
     "text": [
      "Epoch 37/60:  91%|█████████ | 414/456 [02:12<00:07,  5.49img/s, loss (batch)=0.25] "
     ]
    },
    {
     "name": "stdout",
     "output_type": "stream",
     "text": [
      "Validation round\n"
     ]
    },
    {
     "name": "stderr",
     "output_type": "stream",
     "text": [
      "Validation round: 100%|██████████| 115/115 [00:13<00:00,  8.65batch/s]\n"
     ]
    },
    {
     "name": "stdout",
     "output_type": "stream",
     "text": [
      "Validation dice loss: 0.38906335830688477, IoU Score 0.6583712100982666\n"
     ]
    },
    {
     "name": "stderr",
     "output_type": "stream",
     "text": [
      "Epoch 37/60: 100%|██████████| 456/456 [02:34<00:00,  2.95img/s, loss (batch)=0.137]\n",
      "Epoch 38/60:  11%|█         | 48/456 [00:08<01:12,  5.63img/s, loss (batch)=0.548]"
     ]
    },
    {
     "name": "stdout",
     "output_type": "stream",
     "text": [
      "Validation round\n"
     ]
    },
    {
     "name": "stderr",
     "output_type": "stream",
     "text": [
      "Validation round: 100%|██████████| 115/115 [00:13<00:00,  8.53batch/s]\n"
     ]
    },
    {
     "name": "stdout",
     "output_type": "stream",
     "text": [
      "Validation dice loss: 0.4537803530693054, IoU Score 0.6286837458610535\n"
     ]
    },
    {
     "name": "stderr",
     "output_type": "stream",
     "text": [
      "Epoch 38/60:  30%|███       | 138/456 [00:39<00:56,  5.58img/s, loss (batch)=0.157]"
     ]
    },
    {
     "name": "stdout",
     "output_type": "stream",
     "text": [
      "Validation round\n"
     ]
    },
    {
     "name": "stderr",
     "output_type": "stream",
     "text": [
      "Validation round: 100%|██████████| 115/115 [00:13<00:00,  8.67batch/s]\n"
     ]
    },
    {
     "name": "stdout",
     "output_type": "stream",
     "text": [
      "Validation dice loss: 0.3975321650505066, IoU Score 0.6525824069976807\n"
     ]
    },
    {
     "name": "stderr",
     "output_type": "stream",
     "text": [
      "Epoch 38/60:  50%|█████     | 228/456 [01:10<00:40,  5.58img/s, loss (batch)=0.195]"
     ]
    },
    {
     "name": "stdout",
     "output_type": "stream",
     "text": [
      "Validation round\n"
     ]
    },
    {
     "name": "stderr",
     "output_type": "stream",
     "text": [
      "Validation round: 100%|██████████| 115/115 [00:13<00:00,  8.67batch/s]\n"
     ]
    },
    {
     "name": "stdout",
     "output_type": "stream",
     "text": [
      "Validation dice loss: 0.4171074628829956, IoU Score 0.6425235867500305\n"
     ]
    },
    {
     "name": "stderr",
     "output_type": "stream",
     "text": [
      "Epoch 38/60:  70%|██████▉   | 318/456 [01:40<00:24,  5.57img/s, loss (batch)=0.57] "
     ]
    },
    {
     "name": "stdout",
     "output_type": "stream",
     "text": [
      "Validation round\n"
     ]
    },
    {
     "name": "stderr",
     "output_type": "stream",
     "text": [
      "Validation round: 100%|██████████| 115/115 [00:13<00:00,  8.67batch/s]\n"
     ]
    },
    {
     "name": "stdout",
     "output_type": "stream",
     "text": [
      "Validation dice loss: 0.4693048894405365, IoU Score 0.602186381816864\n"
     ]
    },
    {
     "name": "stderr",
     "output_type": "stream",
     "text": [
      "Epoch 38/60:  89%|████████▉ | 408/456 [02:11<00:08,  5.60img/s, loss (batch)=0.381]"
     ]
    },
    {
     "name": "stdout",
     "output_type": "stream",
     "text": [
      "Validation round\n"
     ]
    },
    {
     "name": "stderr",
     "output_type": "stream",
     "text": [
      "Validation round: 100%|██████████| 115/115 [00:13<00:00,  8.67batch/s]\n"
     ]
    },
    {
     "name": "stdout",
     "output_type": "stream",
     "text": [
      "Validation dice loss: 0.3837926685810089, IoU Score 0.6655120253562927\n"
     ]
    },
    {
     "name": "stderr",
     "output_type": "stream",
     "text": [
      "Epoch 38/60: 100%|██████████| 456/456 [02:34<00:00,  2.95img/s, loss (batch)=0.161]\n",
      "Epoch 39/60:   9%|▉         | 42/456 [00:07<01:13,  5.64img/s, loss (batch)=0.549]"
     ]
    },
    {
     "name": "stdout",
     "output_type": "stream",
     "text": [
      "Validation round\n"
     ]
    },
    {
     "name": "stderr",
     "output_type": "stream",
     "text": [
      "Validation round: 100%|██████████| 115/115 [00:13<00:00,  8.72batch/s]\n"
     ]
    },
    {
     "name": "stdout",
     "output_type": "stream",
     "text": [
      "Validation dice loss: 0.36722105741500854, IoU Score 0.6712770462036133\n"
     ]
    },
    {
     "name": "stderr",
     "output_type": "stream",
     "text": [
      "Epoch 39/60:  29%|██▉       | 132/456 [00:37<00:58,  5.53img/s, loss (batch)=0.395]"
     ]
    },
    {
     "name": "stdout",
     "output_type": "stream",
     "text": [
      "Validation round\n"
     ]
    },
    {
     "name": "stderr",
     "output_type": "stream",
     "text": [
      "Validation round: 100%|██████████| 115/115 [00:13<00:00,  8.67batch/s]\n"
     ]
    },
    {
     "name": "stdout",
     "output_type": "stream",
     "text": [
      "Validation dice loss: 0.44972914457321167, IoU Score 0.6156637668609619\n"
     ]
    },
    {
     "name": "stderr",
     "output_type": "stream",
     "text": [
      "Epoch 39/60:  49%|████▊     | 222/456 [01:08<00:41,  5.60img/s, loss (batch)=0.174]"
     ]
    },
    {
     "name": "stdout",
     "output_type": "stream",
     "text": [
      "Validation round\n"
     ]
    },
    {
     "name": "stderr",
     "output_type": "stream",
     "text": [
      "Validation round: 100%|██████████| 115/115 [00:13<00:00,  8.70batch/s]\n"
     ]
    },
    {
     "name": "stdout",
     "output_type": "stream",
     "text": [
      "Validation dice loss: 0.40575072169303894, IoU Score 0.6523886322975159\n"
     ]
    },
    {
     "name": "stderr",
     "output_type": "stream",
     "text": [
      "Epoch 39/60:  68%|██████▊   | 312/456 [01:38<00:24,  5.76img/s, loss (batch)=0.126]"
     ]
    },
    {
     "name": "stdout",
     "output_type": "stream",
     "text": [
      "Validation round\n"
     ]
    },
    {
     "name": "stderr",
     "output_type": "stream",
     "text": [
      "Validation round: 100%|██████████| 115/115 [00:13<00:00,  8.68batch/s]\n"
     ]
    },
    {
     "name": "stdout",
     "output_type": "stream",
     "text": [
      "Validation dice loss: 0.40061596035957336, IoU Score 0.6510059237480164\n"
     ]
    },
    {
     "name": "stderr",
     "output_type": "stream",
     "text": [
      "Epoch 39/60:  88%|████████▊ | 402/456 [02:09<00:09,  5.64img/s, loss (batch)=0.116]"
     ]
    },
    {
     "name": "stdout",
     "output_type": "stream",
     "text": [
      "Validation round\n"
     ]
    },
    {
     "name": "stderr",
     "output_type": "stream",
     "text": [
      "Validation round: 100%|██████████| 115/115 [00:13<00:00,  8.70batch/s]\n"
     ]
    },
    {
     "name": "stdout",
     "output_type": "stream",
     "text": [
      "Validation dice loss: 0.39982232451438904, IoU Score 0.6466531753540039\n"
     ]
    },
    {
     "name": "stderr",
     "output_type": "stream",
     "text": [
      "Epoch 39/60: 100%|██████████| 456/456 [02:33<00:00,  2.97img/s, loss (batch)=0.143]\n",
      "Epoch 40/60:   8%|▊         | 36/456 [00:06<01:15,  5.53img/s, loss (batch)=0.202]"
     ]
    },
    {
     "name": "stdout",
     "output_type": "stream",
     "text": [
      "Validation round\n"
     ]
    },
    {
     "name": "stderr",
     "output_type": "stream",
     "text": [
      "Validation round: 100%|██████████| 115/115 [00:13<00:00,  8.67batch/s]\n"
     ]
    },
    {
     "name": "stdout",
     "output_type": "stream",
     "text": [
      "Validation dice loss: 0.4173711836338043, IoU Score 0.6503504514694214\n"
     ]
    },
    {
     "name": "stderr",
     "output_type": "stream",
     "text": [
      "Epoch 40/60:  28%|██▊       | 126/456 [00:36<00:58,  5.67img/s, loss (batch)=0.134]"
     ]
    },
    {
     "name": "stdout",
     "output_type": "stream",
     "text": [
      "Validation round\n"
     ]
    },
    {
     "name": "stderr",
     "output_type": "stream",
     "text": [
      "Validation round: 100%|██████████| 115/115 [00:13<00:00,  8.58batch/s]\n"
     ]
    },
    {
     "name": "stdout",
     "output_type": "stream",
     "text": [
      "Validation dice loss: 0.3844251036643982, IoU Score 0.6723071932792664\n"
     ]
    },
    {
     "name": "stderr",
     "output_type": "stream",
     "text": [
      "Epoch 40/60:  47%|████▋     | 216/456 [01:07<00:44,  5.36img/s, loss (batch)=0.148]"
     ]
    },
    {
     "name": "stdout",
     "output_type": "stream",
     "text": [
      "Validation round\n"
     ]
    },
    {
     "name": "stderr",
     "output_type": "stream",
     "text": [
      "Validation round: 100%|██████████| 115/115 [00:13<00:00,  8.62batch/s]\n"
     ]
    },
    {
     "name": "stdout",
     "output_type": "stream",
     "text": [
      "Validation dice loss: 0.40136805176734924, IoU Score 0.6494064927101135\n"
     ]
    },
    {
     "name": "stderr",
     "output_type": "stream",
     "text": [
      "Epoch 40/60:  67%|██████▋   | 306/456 [01:38<00:26,  5.67img/s, loss (batch)=0.163]"
     ]
    },
    {
     "name": "stdout",
     "output_type": "stream",
     "text": [
      "Validation round\n"
     ]
    },
    {
     "name": "stderr",
     "output_type": "stream",
     "text": [
      "Validation round: 100%|██████████| 115/115 [00:13<00:00,  8.71batch/s]\n"
     ]
    },
    {
     "name": "stdout",
     "output_type": "stream",
     "text": [
      "Validation dice loss: 0.5552814602851868, IoU Score 0.5641353130340576\n"
     ]
    },
    {
     "name": "stderr",
     "output_type": "stream",
     "text": [
      "Epoch 40/60:  87%|████████▋ | 396/456 [02:08<00:10,  5.75img/s, loss (batch)=0.293]"
     ]
    },
    {
     "name": "stdout",
     "output_type": "stream",
     "text": [
      "Validation round\n"
     ]
    },
    {
     "name": "stderr",
     "output_type": "stream",
     "text": [
      "Validation round: 100%|██████████| 115/115 [00:13<00:00,  8.66batch/s]\n"
     ]
    },
    {
     "name": "stdout",
     "output_type": "stream",
     "text": [
      "Validation dice loss: 0.47002437710762024, IoU Score 0.6090670228004456\n"
     ]
    },
    {
     "name": "stderr",
     "output_type": "stream",
     "text": [
      "Epoch 40/60: 100%|██████████| 456/456 [02:33<00:00,  2.96img/s, loss (batch)=0.173]\n",
      "Epoch 41/60:   7%|▋         | 30/456 [00:05<01:15,  5.68img/s, loss (batch)=0.125]"
     ]
    },
    {
     "name": "stdout",
     "output_type": "stream",
     "text": [
      "Validation round\n"
     ]
    },
    {
     "name": "stderr",
     "output_type": "stream",
     "text": [
      "Validation round: 100%|██████████| 115/115 [00:13<00:00,  8.64batch/s]\n"
     ]
    },
    {
     "name": "stdout",
     "output_type": "stream",
     "text": [
      "Validation dice loss: 0.41448715329170227, IoU Score 0.6354609131813049\n"
     ]
    },
    {
     "name": "stderr",
     "output_type": "stream",
     "text": [
      "Epoch 41/60:  26%|██▋       | 120/456 [00:35<00:59,  5.64img/s, loss (batch)=0.191]"
     ]
    },
    {
     "name": "stdout",
     "output_type": "stream",
     "text": [
      "Validation round\n"
     ]
    },
    {
     "name": "stderr",
     "output_type": "stream",
     "text": [
      "Validation round: 100%|██████████| 115/115 [00:13<00:00,  8.66batch/s]\n"
     ]
    },
    {
     "name": "stdout",
     "output_type": "stream",
     "text": [
      "Validation dice loss: 0.6510254144668579, IoU Score 0.5054925680160522\n"
     ]
    },
    {
     "name": "stderr",
     "output_type": "stream",
     "text": [
      "Epoch 41/60:  46%|████▌     | 210/456 [01:06<00:43,  5.62img/s, loss (batch)=0.151]"
     ]
    },
    {
     "name": "stdout",
     "output_type": "stream",
     "text": [
      "Validation round\n"
     ]
    },
    {
     "name": "stderr",
     "output_type": "stream",
     "text": [
      "Validation round: 100%|██████████| 115/115 [00:13<00:00,  8.68batch/s]\n"
     ]
    },
    {
     "name": "stdout",
     "output_type": "stream",
     "text": [
      "Validation dice loss: 0.3833254873752594, IoU Score 0.6548495888710022\n"
     ]
    },
    {
     "name": "stderr",
     "output_type": "stream",
     "text": [
      "Epoch 41/60:  66%|██████▌   | 300/456 [01:36<00:27,  5.62img/s, loss (batch)=0.142]"
     ]
    },
    {
     "name": "stdout",
     "output_type": "stream",
     "text": [
      "Validation round\n"
     ]
    },
    {
     "name": "stderr",
     "output_type": "stream",
     "text": [
      "Validation round: 100%|██████████| 115/115 [00:13<00:00,  8.65batch/s]\n"
     ]
    },
    {
     "name": "stdout",
     "output_type": "stream",
     "text": [
      "Validation dice loss: 0.48031821846961975, IoU Score 0.593230128288269\n"
     ]
    },
    {
     "name": "stderr",
     "output_type": "stream",
     "text": [
      "Epoch 41/60:  86%|████████▌ | 390/456 [02:07<00:11,  5.68img/s, loss (batch)=0.161]"
     ]
    },
    {
     "name": "stdout",
     "output_type": "stream",
     "text": [
      "Validation round\n"
     ]
    },
    {
     "name": "stderr",
     "output_type": "stream",
     "text": [
      "Validation round: 100%|██████████| 115/115 [00:13<00:00,  8.67batch/s]\n"
     ]
    },
    {
     "name": "stdout",
     "output_type": "stream",
     "text": [
      "Validation dice loss: 0.46862319111824036, IoU Score 0.6034515500068665\n"
     ]
    },
    {
     "name": "stderr",
     "output_type": "stream",
     "text": [
      "Epoch 41/60: 100%|██████████| 456/456 [02:33<00:00,  2.97img/s, loss (batch)=0.18]\n",
      "Epoch 42/60:   5%|▌         | 24/456 [00:04<01:16,  5.61img/s, loss (batch)=0.133]"
     ]
    },
    {
     "name": "stdout",
     "output_type": "stream",
     "text": [
      "Validation round\n"
     ]
    },
    {
     "name": "stderr",
     "output_type": "stream",
     "text": [
      "Validation round: 100%|██████████| 115/115 [00:13<00:00,  8.71batch/s]\n"
     ]
    },
    {
     "name": "stdout",
     "output_type": "stream",
     "text": [
      "Validation dice loss: 0.5183671116828918, IoU Score 0.5724384188652039\n"
     ]
    },
    {
     "name": "stderr",
     "output_type": "stream",
     "text": [
      "Epoch 42/60:  25%|██▌       | 114/456 [00:34<00:59,  5.73img/s, loss (batch)=0.145]"
     ]
    },
    {
     "name": "stdout",
     "output_type": "stream",
     "text": [
      "Validation round\n"
     ]
    },
    {
     "name": "stderr",
     "output_type": "stream",
     "text": [
      "Validation round: 100%|██████████| 115/115 [00:13<00:00,  8.68batch/s]\n"
     ]
    },
    {
     "name": "stdout",
     "output_type": "stream",
     "text": [
      "Validation dice loss: 0.4707072377204895, IoU Score 0.5988922119140625\n"
     ]
    },
    {
     "name": "stderr",
     "output_type": "stream",
     "text": [
      "Epoch 42/60:  45%|████▍     | 204/456 [01:05<00:44,  5.71img/s, loss (batch)=0.112]"
     ]
    },
    {
     "name": "stdout",
     "output_type": "stream",
     "text": [
      "Validation round\n"
     ]
    },
    {
     "name": "stderr",
     "output_type": "stream",
     "text": [
      "Validation round: 100%|██████████| 115/115 [00:13<00:00,  8.69batch/s]\n"
     ]
    },
    {
     "name": "stdout",
     "output_type": "stream",
     "text": [
      "Validation dice loss: 0.4469679296016693, IoU Score 0.6206228733062744\n"
     ]
    },
    {
     "name": "stderr",
     "output_type": "stream",
     "text": [
      "Epoch 42/60:  64%|██████▍   | 294/456 [01:35<00:28,  5.65img/s, loss (batch)=0.136]"
     ]
    },
    {
     "name": "stdout",
     "output_type": "stream",
     "text": [
      "Validation round\n"
     ]
    },
    {
     "name": "stderr",
     "output_type": "stream",
     "text": [
      "Validation round: 100%|██████████| 115/115 [00:13<00:00,  8.65batch/s]\n"
     ]
    },
    {
     "name": "stdout",
     "output_type": "stream",
     "text": [
      "Validation dice loss: 0.4476165175437927, IoU Score 0.6246194243431091\n"
     ]
    },
    {
     "name": "stderr",
     "output_type": "stream",
     "text": [
      "Epoch 42/60:  84%|████████▍ | 384/456 [02:06<00:12,  5.77img/s, loss (batch)=0.123]"
     ]
    },
    {
     "name": "stdout",
     "output_type": "stream",
     "text": [
      "Validation round\n"
     ]
    },
    {
     "name": "stderr",
     "output_type": "stream",
     "text": [
      "Validation round: 100%|██████████| 115/115 [00:13<00:00,  8.64batch/s]\n"
     ]
    },
    {
     "name": "stdout",
     "output_type": "stream",
     "text": [
      "Validation dice loss: 0.361776739358902, IoU Score 0.6673986911773682\n"
     ]
    },
    {
     "name": "stderr",
     "output_type": "stream",
     "text": [
      "Epoch 42/60: 100%|██████████| 456/456 [02:33<00:00,  2.97img/s, loss (batch)=0.15]\n",
      "Epoch 43/60:   4%|▍         | 18/456 [00:03<01:16,  5.73img/s, loss (batch)=0.116]"
     ]
    },
    {
     "name": "stdout",
     "output_type": "stream",
     "text": [
      "Validation round\n"
     ]
    },
    {
     "name": "stderr",
     "output_type": "stream",
     "text": [
      "Validation round: 100%|██████████| 115/115 [00:13<00:00,  8.70batch/s]\n"
     ]
    },
    {
     "name": "stdout",
     "output_type": "stream",
     "text": [
      "Validation dice loss: 0.4648802876472473, IoU Score 0.597310483455658\n"
     ]
    },
    {
     "name": "stderr",
     "output_type": "stream",
     "text": [
      "Epoch 43/60:  24%|██▎       | 108/456 [00:33<01:00,  5.75img/s, loss (batch)=0.101] "
     ]
    },
    {
     "name": "stdout",
     "output_type": "stream",
     "text": [
      "Validation round\n"
     ]
    },
    {
     "name": "stderr",
     "output_type": "stream",
     "text": [
      "Validation round: 100%|██████████| 115/115 [00:13<00:00,  8.70batch/s]\n"
     ]
    },
    {
     "name": "stdout",
     "output_type": "stream",
     "text": [
      "Validation dice loss: 0.5107904076576233, IoU Score 0.5851966738700867\n"
     ]
    },
    {
     "name": "stderr",
     "output_type": "stream",
     "text": [
      "Epoch 43/60:  43%|████▎     | 198/456 [01:03<00:45,  5.63img/s, loss (batch)=0.37] "
     ]
    },
    {
     "name": "stdout",
     "output_type": "stream",
     "text": [
      "Validation round\n"
     ]
    },
    {
     "name": "stderr",
     "output_type": "stream",
     "text": [
      "Validation round: 100%|██████████| 115/115 [00:13<00:00,  8.75batch/s]\n"
     ]
    },
    {
     "name": "stdout",
     "output_type": "stream",
     "text": [
      "Validation dice loss: 0.39377740025520325, IoU Score 0.6466526985168457\n"
     ]
    },
    {
     "name": "stderr",
     "output_type": "stream",
     "text": [
      "Epoch 43/60:  63%|██████▎   | 288/456 [01:34<00:29,  5.68img/s, loss (batch)=0.159]"
     ]
    },
    {
     "name": "stdout",
     "output_type": "stream",
     "text": [
      "Validation round\n"
     ]
    },
    {
     "name": "stderr",
     "output_type": "stream",
     "text": [
      "Validation round: 100%|██████████| 115/115 [00:13<00:00,  8.72batch/s]\n"
     ]
    },
    {
     "name": "stdout",
     "output_type": "stream",
     "text": [
      "Validation dice loss: 0.4075305461883545, IoU Score 0.6388985514640808\n"
     ]
    },
    {
     "name": "stderr",
     "output_type": "stream",
     "text": [
      "Epoch 43/60:  83%|████████▎ | 378/456 [02:05<00:13,  5.58img/s, loss (batch)=0.22] "
     ]
    },
    {
     "name": "stdout",
     "output_type": "stream",
     "text": [
      "Validation round\n"
     ]
    },
    {
     "name": "stderr",
     "output_type": "stream",
     "text": [
      "Validation round: 100%|██████████| 115/115 [00:13<00:00,  8.74batch/s]\n"
     ]
    },
    {
     "name": "stdout",
     "output_type": "stream",
     "text": [
      "Validation dice loss: 0.40322256088256836, IoU Score 0.6376960873603821\n"
     ]
    },
    {
     "name": "stderr",
     "output_type": "stream",
     "text": [
      "Epoch 43/60: 100%|██████████| 456/456 [02:33<00:00,  2.97img/s, loss (batch)=0.161]\n",
      "Epoch 44/60:   3%|▎         | 12/456 [00:02<01:19,  5.57img/s, loss (batch)=0.165]"
     ]
    },
    {
     "name": "stdout",
     "output_type": "stream",
     "text": [
      "Validation round\n"
     ]
    },
    {
     "name": "stderr",
     "output_type": "stream",
     "text": [
      "Validation round: 100%|██████████| 115/115 [00:13<00:00,  8.69batch/s]\n"
     ]
    },
    {
     "name": "stdout",
     "output_type": "stream",
     "text": [
      "Validation dice loss: 0.45163798332214355, IoU Score 0.6100884079933167\n"
     ]
    },
    {
     "name": "stderr",
     "output_type": "stream",
     "text": [
      "Epoch 44/60:  22%|██▏       | 102/456 [00:32<01:02,  5.67img/s, loss (batch)=0.322]"
     ]
    },
    {
     "name": "stdout",
     "output_type": "stream",
     "text": [
      "Validation round\n"
     ]
    },
    {
     "name": "stderr",
     "output_type": "stream",
     "text": [
      "Validation round: 100%|██████████| 115/115 [00:13<00:00,  8.71batch/s]\n"
     ]
    },
    {
     "name": "stdout",
     "output_type": "stream",
     "text": [
      "Validation dice loss: 0.41044896841049194, IoU Score 0.6586278676986694\n"
     ]
    },
    {
     "name": "stderr",
     "output_type": "stream",
     "text": [
      "Epoch 44/60:  42%|████▏     | 192/456 [01:03<00:46,  5.70img/s, loss (batch)=0.12] "
     ]
    },
    {
     "name": "stdout",
     "output_type": "stream",
     "text": [
      "Validation round\n"
     ]
    },
    {
     "name": "stderr",
     "output_type": "stream",
     "text": [
      "Validation round: 100%|██████████| 115/115 [00:13<00:00,  8.73batch/s]\n"
     ]
    },
    {
     "name": "stdout",
     "output_type": "stream",
     "text": [
      "Validation dice loss: 0.4348064064979553, IoU Score 0.6223875880241394\n"
     ]
    },
    {
     "name": "stderr",
     "output_type": "stream",
     "text": [
      "Epoch 44/60:  62%|██████▏   | 282/456 [01:33<00:30,  5.69img/s, loss (batch)=0.12] "
     ]
    },
    {
     "name": "stdout",
     "output_type": "stream",
     "text": [
      "Validation round\n"
     ]
    },
    {
     "name": "stderr",
     "output_type": "stream",
     "text": [
      "Validation round: 100%|██████████| 115/115 [00:13<00:00,  8.69batch/s]\n"
     ]
    },
    {
     "name": "stdout",
     "output_type": "stream",
     "text": [
      "Validation dice loss: 0.417483925819397, IoU Score 0.6373496651649475\n"
     ]
    },
    {
     "name": "stderr",
     "output_type": "stream",
     "text": [
      "Epoch 44/60:  82%|████████▏ | 372/456 [02:03<00:14,  5.62img/s, loss (batch)=0.177]"
     ]
    },
    {
     "name": "stdout",
     "output_type": "stream",
     "text": [
      "Validation round\n"
     ]
    },
    {
     "name": "stderr",
     "output_type": "stream",
     "text": [
      "Validation round: 100%|██████████| 115/115 [00:13<00:00,  8.77batch/s]\n"
     ]
    },
    {
     "name": "stdout",
     "output_type": "stream",
     "text": [
      "Validation dice loss: 0.4558940827846527, IoU Score 0.601392388343811\n"
     ]
    },
    {
     "name": "stderr",
     "output_type": "stream",
     "text": [
      "Epoch 44/60: 100%|██████████| 456/456 [02:33<00:00,  2.98img/s, loss (batch)=0.0955]\n",
      "Epoch 45/60:   1%|▏         | 6/456 [00:01<01:18,  5.72img/s, loss (batch)=0.111]"
     ]
    },
    {
     "name": "stdout",
     "output_type": "stream",
     "text": [
      "Validation round\n"
     ]
    },
    {
     "name": "stderr",
     "output_type": "stream",
     "text": [
      "Validation round: 100%|██████████| 115/115 [00:13<00:00,  8.74batch/s]\n"
     ]
    },
    {
     "name": "stdout",
     "output_type": "stream",
     "text": [
      "Validation dice loss: 0.40935418009757996, IoU Score 0.6379492282867432\n"
     ]
    },
    {
     "name": "stderr",
     "output_type": "stream",
     "text": [
      "Epoch 45/60:  21%|██        | 96/456 [00:31<01:04,  5.62img/s, loss (batch)=0.154]"
     ]
    },
    {
     "name": "stdout",
     "output_type": "stream",
     "text": [
      "Validation round\n"
     ]
    },
    {
     "name": "stderr",
     "output_type": "stream",
     "text": [
      "Validation round: 100%|██████████| 115/115 [00:13<00:00,  8.72batch/s]\n"
     ]
    },
    {
     "name": "stdout",
     "output_type": "stream",
     "text": [
      "Validation dice loss: 0.4196518659591675, IoU Score 0.629454493522644\n"
     ]
    },
    {
     "name": "stderr",
     "output_type": "stream",
     "text": [
      "Epoch 45/60:  41%|████      | 186/456 [01:02<00:47,  5.73img/s, loss (batch)=0.105]"
     ]
    },
    {
     "name": "stdout",
     "output_type": "stream",
     "text": [
      "Validation round\n"
     ]
    },
    {
     "name": "stderr",
     "output_type": "stream",
     "text": [
      "Validation round: 100%|██████████| 115/115 [00:13<00:00,  8.72batch/s]\n"
     ]
    },
    {
     "name": "stdout",
     "output_type": "stream",
     "text": [
      "Validation dice loss: 0.38046666979789734, IoU Score 0.6655939221382141\n"
     ]
    },
    {
     "name": "stderr",
     "output_type": "stream",
     "text": [
      "Epoch 45/60:  61%|██████    | 276/456 [01:32<00:31,  5.69img/s, loss (batch)=0.193]"
     ]
    },
    {
     "name": "stdout",
     "output_type": "stream",
     "text": [
      "Validation round\n"
     ]
    },
    {
     "name": "stderr",
     "output_type": "stream",
     "text": [
      "Validation round: 100%|██████████| 115/115 [00:13<00:00,  8.72batch/s]\n"
     ]
    },
    {
     "name": "stdout",
     "output_type": "stream",
     "text": [
      "Validation dice loss: 0.45256534218788147, IoU Score 0.6142166256904602\n"
     ]
    },
    {
     "name": "stderr",
     "output_type": "stream",
     "text": [
      "Epoch 45/60:  80%|████████  | 366/456 [02:03<00:16,  5.61img/s, loss (batch)=0.124]"
     ]
    },
    {
     "name": "stdout",
     "output_type": "stream",
     "text": [
      "Validation round\n"
     ]
    },
    {
     "name": "stderr",
     "output_type": "stream",
     "text": [
      "Validation round: 100%|██████████| 115/115 [00:13<00:00,  8.73batch/s]\n"
     ]
    },
    {
     "name": "stdout",
     "output_type": "stream",
     "text": [
      "Validation dice loss: 0.3739349842071533, IoU Score 0.6740566492080688\n"
     ]
    },
    {
     "name": "stderr",
     "output_type": "stream",
     "text": [
      "Epoch 45/60: 100%|██████████| 456/456 [02:33<00:00,  5.68img/s, loss (batch)=0.113]"
     ]
    },
    {
     "name": "stdout",
     "output_type": "stream",
     "text": [
      "Validation round\n"
     ]
    },
    {
     "name": "stderr",
     "output_type": "stream",
     "text": [
      "Validation round: 100%|██████████| 115/115 [00:13<00:00,  8.68batch/s]\n",
      "Epoch 45/60: 100%|██████████| 456/456 [02:48<00:00,  2.71img/s, loss (batch)=0.113]\n"
     ]
    },
    {
     "name": "stdout",
     "output_type": "stream",
     "text": [
      "Validation dice loss: 0.43528062105178833, IoU Score 0.6314293742179871\n"
     ]
    },
    {
     "name": "stderr",
     "output_type": "stream",
     "text": [
      "Epoch 46/60:  20%|█▉        | 90/456 [00:15<01:04,  5.71img/s, loss (batch)=0.116]"
     ]
    },
    {
     "name": "stdout",
     "output_type": "stream",
     "text": [
      "Validation round\n"
     ]
    },
    {
     "name": "stderr",
     "output_type": "stream",
     "text": [
      "Validation round: 100%|██████████| 115/115 [00:13<00:00,  8.69batch/s]\n"
     ]
    },
    {
     "name": "stdout",
     "output_type": "stream",
     "text": [
      "Validation dice loss: 0.3666234314441681, IoU Score 0.6700895428657532\n"
     ]
    },
    {
     "name": "stderr",
     "output_type": "stream",
     "text": [
      "Epoch 46/60:  39%|███▉      | 180/456 [00:46<00:49,  5.62img/s, loss (batch)=0.128] "
     ]
    },
    {
     "name": "stdout",
     "output_type": "stream",
     "text": [
      "Validation round\n"
     ]
    },
    {
     "name": "stderr",
     "output_type": "stream",
     "text": [
      "Validation round: 100%|██████████| 115/115 [00:13<00:00,  8.68batch/s]\n"
     ]
    },
    {
     "name": "stdout",
     "output_type": "stream",
     "text": [
      "Validation dice loss: 0.420343816280365, IoU Score 0.6452813148498535\n"
     ]
    },
    {
     "name": "stderr",
     "output_type": "stream",
     "text": [
      "Epoch 46/60:  59%|█████▉    | 270/456 [01:17<00:33,  5.63img/s, loss (batch)=0.129]"
     ]
    },
    {
     "name": "stdout",
     "output_type": "stream",
     "text": [
      "Validation round\n"
     ]
    },
    {
     "name": "stderr",
     "output_type": "stream",
     "text": [
      "Validation round: 100%|██████████| 115/115 [00:13<00:00,  8.69batch/s]\n"
     ]
    },
    {
     "name": "stdout",
     "output_type": "stream",
     "text": [
      "Validation dice loss: 0.6704410910606384, IoU Score 0.501142144203186\n"
     ]
    },
    {
     "name": "stderr",
     "output_type": "stream",
     "text": [
      "Epoch 46/60:  79%|███████▉  | 360/456 [01:47<00:17,  5.63img/s, loss (batch)=0.138]"
     ]
    },
    {
     "name": "stdout",
     "output_type": "stream",
     "text": [
      "Validation round\n"
     ]
    },
    {
     "name": "stderr",
     "output_type": "stream",
     "text": [
      "Validation round: 100%|██████████| 115/115 [00:13<00:00,  8.74batch/s]\n"
     ]
    },
    {
     "name": "stdout",
     "output_type": "stream",
     "text": [
      "Validation dice loss: 0.36647266149520874, IoU Score 0.6741219758987427\n"
     ]
    },
    {
     "name": "stderr",
     "output_type": "stream",
     "text": [
      "Epoch 46/60:  99%|█████████▊| 450/456 [02:18<00:01,  5.71img/s, loss (batch)=0.151]"
     ]
    },
    {
     "name": "stdout",
     "output_type": "stream",
     "text": [
      "Validation round\n"
     ]
    },
    {
     "name": "stderr",
     "output_type": "stream",
     "text": [
      "Validation round: 100%|██████████| 115/115 [00:13<00:00,  8.71batch/s]\n"
     ]
    },
    {
     "name": "stdout",
     "output_type": "stream",
     "text": [
      "Validation dice loss: 0.3962653875350952, IoU Score 0.649114191532135\n"
     ]
    },
    {
     "name": "stderr",
     "output_type": "stream",
     "text": [
      "Epoch 46/60: 100%|██████████| 456/456 [02:33<00:00,  2.97img/s, loss (batch)=0.114]\n",
      "Epoch 47/60:  18%|█▊        | 84/456 [00:14<01:06,  5.62img/s, loss (batch)=0.151] "
     ]
    },
    {
     "name": "stdout",
     "output_type": "stream",
     "text": [
      "Validation round\n"
     ]
    },
    {
     "name": "stderr",
     "output_type": "stream",
     "text": [
      "Validation round: 100%|██████████| 115/115 [00:13<00:00,  8.68batch/s]\n"
     ]
    },
    {
     "name": "stdout",
     "output_type": "stream",
     "text": [
      "Validation dice loss: 0.4365150034427643, IoU Score 0.623605489730835\n"
     ]
    },
    {
     "name": "stderr",
     "output_type": "stream",
     "text": [
      "Epoch 47/60:  38%|███▊      | 174/456 [00:45<00:50,  5.59img/s, loss (batch)=0.0949]"
     ]
    },
    {
     "name": "stdout",
     "output_type": "stream",
     "text": [
      "Validation round\n"
     ]
    },
    {
     "name": "stderr",
     "output_type": "stream",
     "text": [
      "Validation round: 100%|██████████| 115/115 [00:13<00:00,  8.68batch/s]\n"
     ]
    },
    {
     "name": "stdout",
     "output_type": "stream",
     "text": [
      "Validation dice loss: 0.41440442204475403, IoU Score 0.6287668943405151\n"
     ]
    },
    {
     "name": "stderr",
     "output_type": "stream",
     "text": [
      "Epoch 47/60:  58%|█████▊    | 264/456 [01:16<00:33,  5.67img/s, loss (batch)=0.125]"
     ]
    },
    {
     "name": "stdout",
     "output_type": "stream",
     "text": [
      "Validation round\n"
     ]
    },
    {
     "name": "stderr",
     "output_type": "stream",
     "text": [
      "Validation round: 100%|██████████| 115/115 [00:13<00:00,  8.71batch/s]\n"
     ]
    },
    {
     "name": "stdout",
     "output_type": "stream",
     "text": [
      "Validation dice loss: 0.3959483802318573, IoU Score 0.6484495401382446\n"
     ]
    },
    {
     "name": "stderr",
     "output_type": "stream",
     "text": [
      "Epoch 47/60:  78%|███████▊  | 354/456 [01:46<00:18,  5.63img/s, loss (batch)=0.229]"
     ]
    },
    {
     "name": "stdout",
     "output_type": "stream",
     "text": [
      "Validation round\n"
     ]
    },
    {
     "name": "stderr",
     "output_type": "stream",
     "text": [
      "Validation round: 100%|██████████| 115/115 [00:13<00:00,  8.71batch/s]\n"
     ]
    },
    {
     "name": "stdout",
     "output_type": "stream",
     "text": [
      "Validation dice loss: 0.5152194499969482, IoU Score 0.5710498690605164\n"
     ]
    },
    {
     "name": "stderr",
     "output_type": "stream",
     "text": [
      "Epoch 47/60:  97%|█████████▋| 444/456 [02:16<00:02,  5.65img/s, loss (batch)=0.102]"
     ]
    },
    {
     "name": "stdout",
     "output_type": "stream",
     "text": [
      "Validation round\n"
     ]
    },
    {
     "name": "stderr",
     "output_type": "stream",
     "text": [
      "Validation round: 100%|██████████| 115/115 [00:13<00:00,  8.61batch/s]\n"
     ]
    },
    {
     "name": "stdout",
     "output_type": "stream",
     "text": [
      "Validation dice loss: 0.4083949327468872, IoU Score 0.6355563998222351\n"
     ]
    },
    {
     "name": "stderr",
     "output_type": "stream",
     "text": [
      "Epoch 47/60: 100%|██████████| 456/456 [02:34<00:00,  2.96img/s, loss (batch)=0.118]\n",
      "Epoch 48/60:  17%|█▋        | 78/456 [00:13<01:07,  5.59img/s, loss (batch)=0.081]"
     ]
    },
    {
     "name": "stdout",
     "output_type": "stream",
     "text": [
      "Validation round\n"
     ]
    },
    {
     "name": "stderr",
     "output_type": "stream",
     "text": [
      "Validation round: 100%|██████████| 115/115 [00:13<00:00,  8.71batch/s]\n"
     ]
    },
    {
     "name": "stdout",
     "output_type": "stream",
     "text": [
      "Validation dice loss: 0.5026764869689941, IoU Score 0.5764570832252502\n"
     ]
    },
    {
     "name": "stderr",
     "output_type": "stream",
     "text": [
      "Epoch 48/60:  37%|███▋      | 168/456 [00:44<00:50,  5.68img/s, loss (batch)=0.109]"
     ]
    },
    {
     "name": "stdout",
     "output_type": "stream",
     "text": [
      "Validation round\n"
     ]
    },
    {
     "name": "stderr",
     "output_type": "stream",
     "text": [
      "Validation round: 100%|██████████| 115/115 [00:13<00:00,  8.70batch/s]\n"
     ]
    },
    {
     "name": "stdout",
     "output_type": "stream",
     "text": [
      "Validation dice loss: 0.4195171892642975, IoU Score 0.6563501954078674\n"
     ]
    },
    {
     "name": "stderr",
     "output_type": "stream",
     "text": [
      "Epoch 48/60:  57%|█████▋    | 258/456 [01:14<00:34,  5.75img/s, loss (batch)=0.104]"
     ]
    },
    {
     "name": "stdout",
     "output_type": "stream",
     "text": [
      "Validation round\n"
     ]
    },
    {
     "name": "stderr",
     "output_type": "stream",
     "text": [
      "Validation round: 100%|██████████| 115/115 [00:13<00:00,  8.71batch/s]\n"
     ]
    },
    {
     "name": "stdout",
     "output_type": "stream",
     "text": [
      "Validation dice loss: 0.40129804611206055, IoU Score 0.6370752453804016\n"
     ]
    },
    {
     "name": "stderr",
     "output_type": "stream",
     "text": [
      "Epoch 48/60:  76%|███████▋  | 348/456 [01:45<00:19,  5.64img/s, loss (batch)=0.106]"
     ]
    },
    {
     "name": "stdout",
     "output_type": "stream",
     "text": [
      "Validation round\n"
     ]
    },
    {
     "name": "stderr",
     "output_type": "stream",
     "text": [
      "Validation round: 100%|██████████| 115/115 [00:13<00:00,  8.71batch/s]\n"
     ]
    },
    {
     "name": "stdout",
     "output_type": "stream",
     "text": [
      "Validation dice loss: 0.437124103307724, IoU Score 0.6179771423339844\n"
     ]
    },
    {
     "name": "stderr",
     "output_type": "stream",
     "text": [
      "Epoch 48/60:  96%|█████████▌| 438/456 [02:15<00:03,  5.67img/s, loss (batch)=0.266]"
     ]
    },
    {
     "name": "stdout",
     "output_type": "stream",
     "text": [
      "Validation round\n"
     ]
    },
    {
     "name": "stderr",
     "output_type": "stream",
     "text": [
      "Validation round: 100%|██████████| 115/115 [00:13<00:00,  8.56batch/s]\n"
     ]
    },
    {
     "name": "stdout",
     "output_type": "stream",
     "text": [
      "Validation dice loss: 0.38067612051963806, IoU Score 0.6619774103164673\n"
     ]
    },
    {
     "name": "stderr",
     "output_type": "stream",
     "text": [
      "Epoch 48/60: 100%|██████████| 456/456 [02:33<00:00,  2.96img/s, loss (batch)=0.113]\n",
      "Epoch 49/60:  16%|█▌        | 72/456 [00:12<01:07,  5.66img/s, loss (batch)=0.1]  "
     ]
    },
    {
     "name": "stdout",
     "output_type": "stream",
     "text": [
      "Validation round\n"
     ]
    },
    {
     "name": "stderr",
     "output_type": "stream",
     "text": [
      "Validation round: 100%|██████████| 115/115 [00:13<00:00,  8.66batch/s]\n"
     ]
    },
    {
     "name": "stdout",
     "output_type": "stream",
     "text": [
      "Validation dice loss: 0.3919975161552429, IoU Score 0.6502228379249573\n"
     ]
    },
    {
     "name": "stderr",
     "output_type": "stream",
     "text": [
      "Epoch 49/60:  36%|███▌      | 162/456 [00:43<00:51,  5.74img/s, loss (batch)=0.177]"
     ]
    },
    {
     "name": "stdout",
     "output_type": "stream",
     "text": [
      "Validation round\n"
     ]
    },
    {
     "name": "stderr",
     "output_type": "stream",
     "text": [
      "Validation round: 100%|██████████| 115/115 [00:13<00:00,  8.68batch/s]\n"
     ]
    },
    {
     "name": "stdout",
     "output_type": "stream",
     "text": [
      "Validation dice loss: 0.4780489206314087, IoU Score 0.5921302437782288\n"
     ]
    },
    {
     "name": "stderr",
     "output_type": "stream",
     "text": [
      "Epoch 49/60:  55%|█████▌    | 252/456 [01:13<00:35,  5.70img/s, loss (batch)=0.122] "
     ]
    },
    {
     "name": "stdout",
     "output_type": "stream",
     "text": [
      "Validation round\n"
     ]
    },
    {
     "name": "stderr",
     "output_type": "stream",
     "text": [
      "Validation round: 100%|██████████| 115/115 [00:13<00:00,  8.65batch/s]\n"
     ]
    },
    {
     "name": "stdout",
     "output_type": "stream",
     "text": [
      "Validation dice loss: 0.3982267677783966, IoU Score 0.6413939595222473\n"
     ]
    },
    {
     "name": "stderr",
     "output_type": "stream",
     "text": [
      "Epoch 49/60:  75%|███████▌  | 342/456 [01:44<00:20,  5.64img/s, loss (batch)=0.187]"
     ]
    },
    {
     "name": "stdout",
     "output_type": "stream",
     "text": [
      "Validation round\n"
     ]
    },
    {
     "name": "stderr",
     "output_type": "stream",
     "text": [
      "Validation round: 100%|██████████| 115/115 [00:13<00:00,  8.67batch/s]\n"
     ]
    },
    {
     "name": "stdout",
     "output_type": "stream",
     "text": [
      "Validation dice loss: 0.47471898794174194, IoU Score 0.6009154915809631\n"
     ]
    },
    {
     "name": "stderr",
     "output_type": "stream",
     "text": [
      "Epoch 49/60:  95%|█████████▍| 432/456 [02:14<00:04,  5.69img/s, loss (batch)=0.164]"
     ]
    },
    {
     "name": "stdout",
     "output_type": "stream",
     "text": [
      "Validation round\n"
     ]
    },
    {
     "name": "stderr",
     "output_type": "stream",
     "text": [
      "Validation round: 100%|██████████| 115/115 [00:13<00:00,  8.70batch/s]\n"
     ]
    },
    {
     "name": "stdout",
     "output_type": "stream",
     "text": [
      "Validation dice loss: 0.38485243916511536, IoU Score 0.6552718281745911\n"
     ]
    },
    {
     "name": "stderr",
     "output_type": "stream",
     "text": [
      "Epoch 49/60: 100%|██████████| 456/456 [02:33<00:00,  2.96img/s, loss (batch)=0.0966]\n",
      "Epoch 50/60:  14%|█▍        | 66/456 [00:11<01:08,  5.72img/s, loss (batch)=0.109]"
     ]
    },
    {
     "name": "stdout",
     "output_type": "stream",
     "text": [
      "Validation round\n"
     ]
    },
    {
     "name": "stderr",
     "output_type": "stream",
     "text": [
      "Validation round: 100%|██████████| 115/115 [00:13<00:00,  8.71batch/s]\n"
     ]
    },
    {
     "name": "stdout",
     "output_type": "stream",
     "text": [
      "Validation dice loss: 0.41396740078926086, IoU Score 0.6350787878036499\n"
     ]
    },
    {
     "name": "stderr",
     "output_type": "stream",
     "text": [
      "Epoch 50/60:  34%|███▍      | 156/456 [00:42<00:53,  5.62img/s, loss (batch)=0.112]"
     ]
    },
    {
     "name": "stdout",
     "output_type": "stream",
     "text": [
      "Validation round\n"
     ]
    },
    {
     "name": "stderr",
     "output_type": "stream",
     "text": [
      "Validation round: 100%|██████████| 115/115 [00:13<00:00,  8.69batch/s]\n"
     ]
    },
    {
     "name": "stdout",
     "output_type": "stream",
     "text": [
      "Validation dice loss: 0.3968433141708374, IoU Score 0.645479142665863\n"
     ]
    },
    {
     "name": "stderr",
     "output_type": "stream",
     "text": [
      "Epoch 50/60:  54%|█████▍    | 246/456 [01:12<00:37,  5.61img/s, loss (batch)=0.125]"
     ]
    },
    {
     "name": "stdout",
     "output_type": "stream",
     "text": [
      "Validation round\n"
     ]
    },
    {
     "name": "stderr",
     "output_type": "stream",
     "text": [
      "Validation round: 100%|██████████| 115/115 [00:13<00:00,  8.69batch/s]\n"
     ]
    },
    {
     "name": "stdout",
     "output_type": "stream",
     "text": [
      "Validation dice loss: 0.40849941968917847, IoU Score 0.6408516764640808\n"
     ]
    },
    {
     "name": "stderr",
     "output_type": "stream",
     "text": [
      "Epoch 50/60:  74%|███████▎  | 336/456 [01:43<00:20,  5.72img/s, loss (batch)=0.11]  "
     ]
    },
    {
     "name": "stdout",
     "output_type": "stream",
     "text": [
      "Validation round\n"
     ]
    },
    {
     "name": "stderr",
     "output_type": "stream",
     "text": [
      "Validation round: 100%|██████████| 115/115 [00:13<00:00,  8.71batch/s]\n"
     ]
    },
    {
     "name": "stdout",
     "output_type": "stream",
     "text": [
      "Validation dice loss: 0.3741466701030731, IoU Score 0.6650583744049072\n"
     ]
    },
    {
     "name": "stderr",
     "output_type": "stream",
     "text": [
      "Epoch 50/60:  93%|█████████▎| 426/456 [02:13<00:05,  5.67img/s, loss (batch)=0.169]"
     ]
    },
    {
     "name": "stdout",
     "output_type": "stream",
     "text": [
      "Validation round\n"
     ]
    },
    {
     "name": "stderr",
     "output_type": "stream",
     "text": [
      "Validation round: 100%|██████████| 115/115 [00:13<00:00,  8.69batch/s]\n"
     ]
    },
    {
     "name": "stdout",
     "output_type": "stream",
     "text": [
      "Validation dice loss: 0.4399031400680542, IoU Score 0.6125267744064331\n"
     ]
    },
    {
     "name": "stderr",
     "output_type": "stream",
     "text": [
      "Epoch 50/60: 100%|██████████| 456/456 [02:33<00:00,  2.97img/s, loss (batch)=0.12]\n",
      "Epoch 51/60:  13%|█▎        | 60/456 [00:10<01:09,  5.68img/s, loss (batch)=0.129]"
     ]
    },
    {
     "name": "stdout",
     "output_type": "stream",
     "text": [
      "Validation round\n"
     ]
    },
    {
     "name": "stderr",
     "output_type": "stream",
     "text": [
      "Validation round: 100%|██████████| 115/115 [00:13<00:00,  8.61batch/s]\n"
     ]
    },
    {
     "name": "stdout",
     "output_type": "stream",
     "text": [
      "Validation dice loss: 0.4126564860343933, IoU Score 0.6351085305213928\n"
     ]
    },
    {
     "name": "stderr",
     "output_type": "stream",
     "text": [
      "Epoch 51/60:  33%|███▎      | 150/456 [00:41<00:54,  5.64img/s, loss (batch)=0.125]"
     ]
    },
    {
     "name": "stdout",
     "output_type": "stream",
     "text": [
      "Validation round\n"
     ]
    },
    {
     "name": "stderr",
     "output_type": "stream",
     "text": [
      "Validation round: 100%|██████████| 115/115 [00:13<00:00,  8.62batch/s]\n"
     ]
    },
    {
     "name": "stdout",
     "output_type": "stream",
     "text": [
      "Validation dice loss: 0.3852519094944, IoU Score 0.6541145443916321\n"
     ]
    },
    {
     "name": "stderr",
     "output_type": "stream",
     "text": [
      "Epoch 51/60:  53%|█████▎    | 240/456 [01:11<00:38,  5.65img/s, loss (batch)=0.382]"
     ]
    },
    {
     "name": "stdout",
     "output_type": "stream",
     "text": [
      "Validation round\n"
     ]
    },
    {
     "name": "stderr",
     "output_type": "stream",
     "text": [
      "Validation round: 100%|██████████| 115/115 [00:13<00:00,  8.66batch/s]\n"
     ]
    },
    {
     "name": "stdout",
     "output_type": "stream",
     "text": [
      "Validation dice loss: 0.4323451519012451, IoU Score 0.6218679547309875\n"
     ]
    },
    {
     "name": "stderr",
     "output_type": "stream",
     "text": [
      "Epoch 51/60:  72%|███████▏  | 330/456 [01:42<00:22,  5.63img/s, loss (batch)=0.102]"
     ]
    },
    {
     "name": "stdout",
     "output_type": "stream",
     "text": [
      "Validation round\n"
     ]
    },
    {
     "name": "stderr",
     "output_type": "stream",
     "text": [
      "Validation round: 100%|██████████| 115/115 [00:13<00:00,  8.65batch/s]\n"
     ]
    },
    {
     "name": "stdout",
     "output_type": "stream",
     "text": [
      "Validation dice loss: 0.49574604630470276, IoU Score 0.5835751891136169\n"
     ]
    },
    {
     "name": "stderr",
     "output_type": "stream",
     "text": [
      "Epoch 51/60:  92%|█████████▏| 420/456 [02:12<00:06,  5.59img/s, loss (batch)=0.176]"
     ]
    },
    {
     "name": "stdout",
     "output_type": "stream",
     "text": [
      "Validation round\n"
     ]
    },
    {
     "name": "stderr",
     "output_type": "stream",
     "text": [
      "Validation round: 100%|██████████| 115/115 [00:13<00:00,  8.70batch/s]\n"
     ]
    },
    {
     "name": "stdout",
     "output_type": "stream",
     "text": [
      "Validation dice loss: 0.4178583025932312, IoU Score 0.6306142807006836\n"
     ]
    },
    {
     "name": "stderr",
     "output_type": "stream",
     "text": [
      "Epoch 51/60: 100%|██████████| 456/456 [02:33<00:00,  2.97img/s, loss (batch)=0.093]\n",
      "Epoch 52/60:  12%|█▏        | 54/456 [00:09<01:10,  5.73img/s, loss (batch)=0.0964]"
     ]
    },
    {
     "name": "stdout",
     "output_type": "stream",
     "text": [
      "Validation round\n"
     ]
    },
    {
     "name": "stderr",
     "output_type": "stream",
     "text": [
      "Validation round: 100%|██████████| 115/115 [00:13<00:00,  8.72batch/s]\n"
     ]
    },
    {
     "name": "stdout",
     "output_type": "stream",
     "text": [
      "Validation dice loss: 0.38857460021972656, IoU Score 0.646658182144165\n"
     ]
    },
    {
     "name": "stderr",
     "output_type": "stream",
     "text": [
      "Epoch 52/60:  32%|███▏      | 144/456 [00:39<00:54,  5.68img/s, loss (batch)=0.105]"
     ]
    },
    {
     "name": "stdout",
     "output_type": "stream",
     "text": [
      "Validation round\n"
     ]
    },
    {
     "name": "stderr",
     "output_type": "stream",
     "text": [
      "Validation round: 100%|██████████| 115/115 [00:13<00:00,  8.71batch/s]\n"
     ]
    },
    {
     "name": "stdout",
     "output_type": "stream",
     "text": [
      "Validation dice loss: 0.4041112959384918, IoU Score 0.6366000771522522\n"
     ]
    },
    {
     "name": "stderr",
     "output_type": "stream",
     "text": [
      "Epoch 52/60:  51%|█████▏    | 234/456 [01:10<00:39,  5.56img/s, loss (batch)=0.655]"
     ]
    },
    {
     "name": "stdout",
     "output_type": "stream",
     "text": [
      "Validation round\n"
     ]
    },
    {
     "name": "stderr",
     "output_type": "stream",
     "text": [
      "Validation round: 100%|██████████| 115/115 [00:13<00:00,  8.71batch/s]\n"
     ]
    },
    {
     "name": "stdout",
     "output_type": "stream",
     "text": [
      "Validation dice loss: 0.3895488977432251, IoU Score 0.6453952193260193\n"
     ]
    },
    {
     "name": "stderr",
     "output_type": "stream",
     "text": [
      "Epoch 52/60:  71%|███████   | 324/456 [01:40<00:23,  5.67img/s, loss (batch)=0.108]"
     ]
    },
    {
     "name": "stdout",
     "output_type": "stream",
     "text": [
      "Validation round\n"
     ]
    },
    {
     "name": "stderr",
     "output_type": "stream",
     "text": [
      "Validation round: 100%|██████████| 115/115 [00:13<00:00,  8.63batch/s]\n"
     ]
    },
    {
     "name": "stdout",
     "output_type": "stream",
     "text": [
      "Validation dice loss: 0.4274398684501648, IoU Score 0.6207150816917419\n"
     ]
    },
    {
     "name": "stderr",
     "output_type": "stream",
     "text": [
      "Epoch 52/60:  91%|█████████ | 414/456 [02:11<00:07,  5.61img/s, loss (batch)=0.101]"
     ]
    },
    {
     "name": "stdout",
     "output_type": "stream",
     "text": [
      "Validation round\n"
     ]
    },
    {
     "name": "stderr",
     "output_type": "stream",
     "text": [
      "Validation round: 100%|██████████| 115/115 [00:13<00:00,  8.65batch/s]\n"
     ]
    },
    {
     "name": "stdout",
     "output_type": "stream",
     "text": [
      "Validation dice loss: 0.6002600789070129, IoU Score 0.5246610045433044\n"
     ]
    },
    {
     "name": "stderr",
     "output_type": "stream",
     "text": [
      "Epoch 52/60: 100%|██████████| 456/456 [02:33<00:00,  2.97img/s, loss (batch)=0.124]\n",
      "Epoch 53/60:  11%|█         | 48/456 [00:08<01:12,  5.63img/s, loss (batch)=0.142] "
     ]
    },
    {
     "name": "stdout",
     "output_type": "stream",
     "text": [
      "Validation round\n"
     ]
    },
    {
     "name": "stderr",
     "output_type": "stream",
     "text": [
      "Validation round: 100%|██████████| 115/115 [00:13<00:00,  8.68batch/s]\n"
     ]
    },
    {
     "name": "stdout",
     "output_type": "stream",
     "text": [
      "Validation dice loss: 0.5329922437667847, IoU Score 0.5696842074394226\n"
     ]
    },
    {
     "name": "stderr",
     "output_type": "stream",
     "text": [
      "Epoch 53/60:  30%|███       | 138/456 [00:39<00:56,  5.62img/s, loss (batch)=0.126]"
     ]
    },
    {
     "name": "stdout",
     "output_type": "stream",
     "text": [
      "Validation round\n"
     ]
    },
    {
     "name": "stderr",
     "output_type": "stream",
     "text": [
      "Validation round: 100%|██████████| 115/115 [00:13<00:00,  8.68batch/s]\n"
     ]
    },
    {
     "name": "stdout",
     "output_type": "stream",
     "text": [
      "Validation dice loss: 0.38261574506759644, IoU Score 0.6692479252815247\n"
     ]
    },
    {
     "name": "stderr",
     "output_type": "stream",
     "text": [
      "Epoch 53/60:  50%|█████     | 228/456 [01:10<00:40,  5.60img/s, loss (batch)=0.433]"
     ]
    },
    {
     "name": "stdout",
     "output_type": "stream",
     "text": [
      "Validation round\n"
     ]
    },
    {
     "name": "stderr",
     "output_type": "stream",
     "text": [
      "Validation round: 100%|██████████| 115/115 [00:13<00:00,  8.70batch/s]\n"
     ]
    },
    {
     "name": "stdout",
     "output_type": "stream",
     "text": [
      "Validation dice loss: 0.3982953727245331, IoU Score 0.6478083729743958\n"
     ]
    },
    {
     "name": "stderr",
     "output_type": "stream",
     "text": [
      "Epoch 53/60:  70%|██████▉   | 318/456 [01:40<00:24,  5.57img/s, loss (batch)=0.109]"
     ]
    },
    {
     "name": "stdout",
     "output_type": "stream",
     "text": [
      "Validation round\n"
     ]
    },
    {
     "name": "stderr",
     "output_type": "stream",
     "text": [
      "Validation round: 100%|██████████| 115/115 [00:13<00:00,  8.72batch/s]\n"
     ]
    },
    {
     "name": "stdout",
     "output_type": "stream",
     "text": [
      "Validation dice loss: 0.4753432273864746, IoU Score 0.5944688320159912\n"
     ]
    },
    {
     "name": "stderr",
     "output_type": "stream",
     "text": [
      "Epoch 53/60:  89%|████████▉ | 408/456 [02:11<00:08,  5.59img/s, loss (batch)=0.125]"
     ]
    },
    {
     "name": "stdout",
     "output_type": "stream",
     "text": [
      "Validation round\n"
     ]
    },
    {
     "name": "stderr",
     "output_type": "stream",
     "text": [
      "Validation round: 100%|██████████| 115/115 [00:13<00:00,  8.71batch/s]\n"
     ]
    },
    {
     "name": "stdout",
     "output_type": "stream",
     "text": [
      "Validation dice loss: 0.4915180802345276, IoU Score 0.5909066200256348\n"
     ]
    },
    {
     "name": "stderr",
     "output_type": "stream",
     "text": [
      "Epoch 53/60: 100%|██████████| 456/456 [02:34<00:00,  2.96img/s, loss (batch)=0.158]\n",
      "Epoch 54/60:   9%|▉         | 42/456 [00:07<01:13,  5.61img/s, loss (batch)=0.11] "
     ]
    },
    {
     "name": "stdout",
     "output_type": "stream",
     "text": [
      "Validation round\n"
     ]
    },
    {
     "name": "stderr",
     "output_type": "stream",
     "text": [
      "Validation round: 100%|██████████| 115/115 [00:13<00:00,  8.70batch/s]\n"
     ]
    },
    {
     "name": "stdout",
     "output_type": "stream",
     "text": [
      "Validation dice loss: 0.6208534240722656, IoU Score 0.5377222895622253\n"
     ]
    },
    {
     "name": "stderr",
     "output_type": "stream",
     "text": [
      "Epoch 54/60:  29%|██▉       | 132/456 [00:37<00:57,  5.68img/s, loss (batch)=0.108] "
     ]
    },
    {
     "name": "stdout",
     "output_type": "stream",
     "text": [
      "Validation round\n"
     ]
    },
    {
     "name": "stderr",
     "output_type": "stream",
     "text": [
      "Validation round: 100%|██████████| 115/115 [00:13<00:00,  8.66batch/s]\n"
     ]
    },
    {
     "name": "stdout",
     "output_type": "stream",
     "text": [
      "Validation dice loss: 0.4794556200504303, IoU Score 0.6392513513565063\n"
     ]
    },
    {
     "name": "stderr",
     "output_type": "stream",
     "text": [
      "Epoch 54/60:  49%|████▊     | 222/456 [01:08<00:41,  5.62img/s, loss (batch)=0.0948]"
     ]
    },
    {
     "name": "stdout",
     "output_type": "stream",
     "text": [
      "Validation round\n"
     ]
    },
    {
     "name": "stderr",
     "output_type": "stream",
     "text": [
      "Validation round: 100%|██████████| 115/115 [00:13<00:00,  8.71batch/s]\n"
     ]
    },
    {
     "name": "stdout",
     "output_type": "stream",
     "text": [
      "Validation dice loss: 0.41267186403274536, IoU Score 0.6426010727882385\n"
     ]
    },
    {
     "name": "stderr",
     "output_type": "stream",
     "text": [
      "Epoch 54/60:  68%|██████▊   | 312/456 [01:38<00:25,  5.68img/s, loss (batch)=0.0928]"
     ]
    },
    {
     "name": "stdout",
     "output_type": "stream",
     "text": [
      "Validation round\n"
     ]
    },
    {
     "name": "stderr",
     "output_type": "stream",
     "text": [
      "Validation round: 100%|██████████| 115/115 [00:13<00:00,  8.70batch/s]\n"
     ]
    },
    {
     "name": "stdout",
     "output_type": "stream",
     "text": [
      "Validation dice loss: 0.3927828073501587, IoU Score 0.6563911437988281\n"
     ]
    },
    {
     "name": "stderr",
     "output_type": "stream",
     "text": [
      "Epoch 54/60:  88%|████████▊ | 402/456 [02:09<00:09,  5.69img/s, loss (batch)=0.187]"
     ]
    },
    {
     "name": "stdout",
     "output_type": "stream",
     "text": [
      "Validation round\n"
     ]
    },
    {
     "name": "stderr",
     "output_type": "stream",
     "text": [
      "Validation round: 100%|██████████| 115/115 [00:13<00:00,  8.73batch/s]\n"
     ]
    },
    {
     "name": "stdout",
     "output_type": "stream",
     "text": [
      "Validation dice loss: 0.4410489797592163, IoU Score 0.645407497882843\n"
     ]
    },
    {
     "name": "stderr",
     "output_type": "stream",
     "text": [
      "Epoch 54/60: 100%|██████████| 456/456 [02:33<00:00,  2.97img/s, loss (batch)=0.145]\n",
      "Epoch 55/60:   8%|▊         | 36/456 [00:06<01:13,  5.72img/s, loss (batch)=0.0908]"
     ]
    },
    {
     "name": "stdout",
     "output_type": "stream",
     "text": [
      "Validation round\n"
     ]
    },
    {
     "name": "stderr",
     "output_type": "stream",
     "text": [
      "Validation round: 100%|██████████| 115/115 [00:13<00:00,  8.73batch/s]\n"
     ]
    },
    {
     "name": "stdout",
     "output_type": "stream",
     "text": [
      "Validation dice loss: 0.3890758454799652, IoU Score 0.6551133990287781\n"
     ]
    },
    {
     "name": "stderr",
     "output_type": "stream",
     "text": [
      "Epoch 55/60:  28%|██▊       | 126/456 [00:36<00:57,  5.73img/s, loss (batch)=0.103]"
     ]
    },
    {
     "name": "stdout",
     "output_type": "stream",
     "text": [
      "Validation round\n"
     ]
    },
    {
     "name": "stderr",
     "output_type": "stream",
     "text": [
      "Validation round: 100%|██████████| 115/115 [00:13<00:00,  8.74batch/s]\n"
     ]
    },
    {
     "name": "stdout",
     "output_type": "stream",
     "text": [
      "Validation dice loss: 0.4234435260295868, IoU Score 0.6312041282653809\n"
     ]
    },
    {
     "name": "stderr",
     "output_type": "stream",
     "text": [
      "Epoch 55/60:  47%|████▋     | 216/456 [01:07<00:43,  5.52img/s, loss (batch)=0.49]  "
     ]
    },
    {
     "name": "stdout",
     "output_type": "stream",
     "text": [
      "Validation round\n"
     ]
    },
    {
     "name": "stderr",
     "output_type": "stream",
     "text": [
      "Validation round: 100%|██████████| 115/115 [00:13<00:00,  8.73batch/s]\n"
     ]
    },
    {
     "name": "stdout",
     "output_type": "stream",
     "text": [
      "Validation dice loss: 0.4370223879814148, IoU Score 0.6229374408721924\n"
     ]
    },
    {
     "name": "stderr",
     "output_type": "stream",
     "text": [
      "Epoch 55/60:  67%|██████▋   | 306/456 [01:37<00:26,  5.70img/s, loss (batch)=0.114]"
     ]
    },
    {
     "name": "stdout",
     "output_type": "stream",
     "text": [
      "Validation round\n"
     ]
    },
    {
     "name": "stderr",
     "output_type": "stream",
     "text": [
      "Validation round: 100%|██████████| 115/115 [00:13<00:00,  8.68batch/s]\n"
     ]
    },
    {
     "name": "stdout",
     "output_type": "stream",
     "text": [
      "Validation dice loss: 0.4153422713279724, IoU Score 0.6593798398971558\n"
     ]
    },
    {
     "name": "stderr",
     "output_type": "stream",
     "text": [
      "Epoch 55/60:  87%|████████▋ | 396/456 [02:08<00:10,  5.69img/s, loss (batch)=0.112]"
     ]
    },
    {
     "name": "stdout",
     "output_type": "stream",
     "text": [
      "Validation round\n"
     ]
    },
    {
     "name": "stderr",
     "output_type": "stream",
     "text": [
      "Validation round: 100%|██████████| 115/115 [00:13<00:00,  8.67batch/s]\n"
     ]
    },
    {
     "name": "stdout",
     "output_type": "stream",
     "text": [
      "Validation dice loss: 0.37970298528671265, IoU Score 0.6638451218605042\n"
     ]
    },
    {
     "name": "stderr",
     "output_type": "stream",
     "text": [
      "Epoch 55/60: 100%|██████████| 456/456 [02:33<00:00,  2.97img/s, loss (batch)=0.164]\n",
      "Epoch 56/60:   7%|▋         | 30/456 [00:05<01:14,  5.74img/s, loss (batch)=0.296] "
     ]
    },
    {
     "name": "stdout",
     "output_type": "stream",
     "text": [
      "Validation round\n"
     ]
    },
    {
     "name": "stderr",
     "output_type": "stream",
     "text": [
      "Validation round: 100%|██████████| 115/115 [00:13<00:00,  8.50batch/s]\n"
     ]
    },
    {
     "name": "stdout",
     "output_type": "stream",
     "text": [
      "Validation dice loss: 0.4450342655181885, IoU Score 0.6201714277267456\n"
     ]
    },
    {
     "name": "stderr",
     "output_type": "stream",
     "text": [
      "Epoch 56/60:  26%|██▋       | 120/456 [00:36<00:59,  5.68img/s, loss (batch)=0.0995]"
     ]
    },
    {
     "name": "stdout",
     "output_type": "stream",
     "text": [
      "Validation round\n"
     ]
    },
    {
     "name": "stderr",
     "output_type": "stream",
     "text": [
      "Validation round: 100%|██████████| 115/115 [00:13<00:00,  8.70batch/s]\n"
     ]
    },
    {
     "name": "stdout",
     "output_type": "stream",
     "text": [
      "Validation dice loss: 0.3828495740890503, IoU Score 0.6693658828735352\n"
     ]
    },
    {
     "name": "stderr",
     "output_type": "stream",
     "text": [
      "Epoch 56/60:  46%|████▌     | 210/456 [01:07<00:44,  5.59img/s, loss (batch)=0.107]"
     ]
    },
    {
     "name": "stdout",
     "output_type": "stream",
     "text": [
      "Validation round\n"
     ]
    },
    {
     "name": "stderr",
     "output_type": "stream",
     "text": [
      "Validation round: 100%|██████████| 115/115 [00:13<00:00,  8.72batch/s]\n"
     ]
    },
    {
     "name": "stdout",
     "output_type": "stream",
     "text": [
      "Validation dice loss: 0.43528226017951965, IoU Score 0.6324923634529114\n"
     ]
    },
    {
     "name": "stderr",
     "output_type": "stream",
     "text": [
      "Epoch 56/60:  66%|██████▌   | 300/456 [01:37<00:27,  5.72img/s, loss (batch)=0.106]"
     ]
    },
    {
     "name": "stdout",
     "output_type": "stream",
     "text": [
      "Validation round\n"
     ]
    },
    {
     "name": "stderr",
     "output_type": "stream",
     "text": [
      "Validation round: 100%|██████████| 115/115 [00:13<00:00,  8.74batch/s]\n"
     ]
    },
    {
     "name": "stdout",
     "output_type": "stream",
     "text": [
      "Validation dice loss: 0.416979044675827, IoU Score 0.6572257280349731\n"
     ]
    },
    {
     "name": "stderr",
     "output_type": "stream",
     "text": [
      "Epoch 56/60:  86%|████████▌ | 390/456 [02:08<00:11,  5.61img/s, loss (batch)=0.0889]"
     ]
    },
    {
     "name": "stdout",
     "output_type": "stream",
     "text": [
      "Validation round\n"
     ]
    },
    {
     "name": "stderr",
     "output_type": "stream",
     "text": [
      "Validation round: 100%|██████████| 115/115 [00:13<00:00,  8.72batch/s]\n"
     ]
    },
    {
     "name": "stdout",
     "output_type": "stream",
     "text": [
      "Validation dice loss: 0.5336305499076843, IoU Score 0.5627133250236511\n"
     ]
    },
    {
     "name": "stderr",
     "output_type": "stream",
     "text": [
      "Epoch 56/60: 100%|██████████| 456/456 [02:34<00:00,  2.95img/s, loss (batch)=0.0934]\n",
      "Epoch 57/60:   5%|▌         | 24/456 [00:04<01:17,  5.57img/s, loss (batch)=0.106]"
     ]
    },
    {
     "name": "stdout",
     "output_type": "stream",
     "text": [
      "Validation round\n"
     ]
    },
    {
     "name": "stderr",
     "output_type": "stream",
     "text": [
      "Validation round: 100%|██████████| 115/115 [00:13<00:00,  8.71batch/s]\n"
     ]
    },
    {
     "name": "stdout",
     "output_type": "stream",
     "text": [
      "Validation dice loss: 0.4156741499900818, IoU Score 0.6376791000366211\n"
     ]
    },
    {
     "name": "stderr",
     "output_type": "stream",
     "text": [
      "Epoch 57/60:  25%|██▌       | 114/456 [00:34<01:00,  5.67img/s, loss (batch)=0.0661]"
     ]
    },
    {
     "name": "stdout",
     "output_type": "stream",
     "text": [
      "Validation round\n"
     ]
    },
    {
     "name": "stderr",
     "output_type": "stream",
     "text": [
      "Validation round: 100%|██████████| 115/115 [00:13<00:00,  8.72batch/s]\n"
     ]
    },
    {
     "name": "stdout",
     "output_type": "stream",
     "text": [
      "Validation dice loss: 0.3878852427005768, IoU Score 0.652719259262085\n"
     ]
    },
    {
     "name": "stderr",
     "output_type": "stream",
     "text": [
      "Epoch 57/60:  45%|████▍     | 204/456 [01:05<00:44,  5.69img/s, loss (batch)=0.0967]"
     ]
    },
    {
     "name": "stdout",
     "output_type": "stream",
     "text": [
      "Validation round\n"
     ]
    },
    {
     "name": "stderr",
     "output_type": "stream",
     "text": [
      "Validation round: 100%|██████████| 115/115 [00:13<00:00,  8.71batch/s]\n"
     ]
    },
    {
     "name": "stdout",
     "output_type": "stream",
     "text": [
      "Validation dice loss: 0.3902161717414856, IoU Score 0.6463502645492554\n"
     ]
    },
    {
     "name": "stderr",
     "output_type": "stream",
     "text": [
      "Epoch 57/60:  64%|██████▍   | 294/456 [01:35<00:29,  5.47img/s, loss (batch)=0.113]"
     ]
    },
    {
     "name": "stdout",
     "output_type": "stream",
     "text": [
      "Validation round\n"
     ]
    },
    {
     "name": "stderr",
     "output_type": "stream",
     "text": [
      "Validation round: 100%|██████████| 115/115 [00:13<00:00,  8.61batch/s]\n"
     ]
    },
    {
     "name": "stdout",
     "output_type": "stream",
     "text": [
      "Validation dice loss: 0.4165356755256653, IoU Score 0.6340162754058838\n"
     ]
    },
    {
     "name": "stderr",
     "output_type": "stream",
     "text": [
      "Epoch 57/60:  84%|████████▍ | 384/456 [02:06<00:13,  5.51img/s, loss (batch)=0.116] "
     ]
    },
    {
     "name": "stdout",
     "output_type": "stream",
     "text": [
      "Validation round\n"
     ]
    },
    {
     "name": "stderr",
     "output_type": "stream",
     "text": [
      "Validation round: 100%|██████████| 115/115 [00:13<00:00,  8.64batch/s]\n"
     ]
    },
    {
     "name": "stdout",
     "output_type": "stream",
     "text": [
      "Validation dice loss: 0.3918648660182953, IoU Score 0.6555719375610352\n"
     ]
    },
    {
     "name": "stderr",
     "output_type": "stream",
     "text": [
      "Epoch 57/60: 100%|██████████| 456/456 [02:33<00:00,  2.96img/s, loss (batch)=0.0741]\n",
      "Epoch 58/60:   4%|▍         | 18/456 [00:03<01:18,  5.58img/s, loss (batch)=0.106]"
     ]
    },
    {
     "name": "stdout",
     "output_type": "stream",
     "text": [
      "Validation round\n"
     ]
    },
    {
     "name": "stderr",
     "output_type": "stream",
     "text": [
      "Validation round: 100%|██████████| 115/115 [00:13<00:00,  8.76batch/s]\n"
     ]
    },
    {
     "name": "stdout",
     "output_type": "stream",
     "text": [
      "Validation dice loss: 0.5660021901130676, IoU Score 0.5870984196662903\n"
     ]
    },
    {
     "name": "stderr",
     "output_type": "stream",
     "text": [
      "Epoch 58/60:  24%|██▎       | 108/456 [00:33<01:01,  5.65img/s, loss (batch)=0.116]"
     ]
    },
    {
     "name": "stdout",
     "output_type": "stream",
     "text": [
      "Validation round\n"
     ]
    },
    {
     "name": "stderr",
     "output_type": "stream",
     "text": [
      "Validation round: 100%|██████████| 115/115 [00:13<00:00,  8.72batch/s]\n"
     ]
    },
    {
     "name": "stdout",
     "output_type": "stream",
     "text": [
      "Validation dice loss: 0.4628380835056305, IoU Score 0.6054615378379822\n"
     ]
    },
    {
     "name": "stderr",
     "output_type": "stream",
     "text": [
      "Epoch 58/60:  43%|████▎     | 198/456 [01:04<00:46,  5.58img/s, loss (batch)=0.0747]"
     ]
    },
    {
     "name": "stdout",
     "output_type": "stream",
     "text": [
      "Validation round\n"
     ]
    },
    {
     "name": "stderr",
     "output_type": "stream",
     "text": [
      "Validation round: 100%|██████████| 115/115 [00:13<00:00,  8.74batch/s]\n"
     ]
    },
    {
     "name": "stdout",
     "output_type": "stream",
     "text": [
      "Validation dice loss: 0.4311266243457794, IoU Score 0.652302086353302\n"
     ]
    },
    {
     "name": "stderr",
     "output_type": "stream",
     "text": [
      "Epoch 58/60:  63%|██████▎   | 288/456 [01:34<00:29,  5.72img/s, loss (batch)=0.103] "
     ]
    },
    {
     "name": "stdout",
     "output_type": "stream",
     "text": [
      "Validation round\n"
     ]
    },
    {
     "name": "stderr",
     "output_type": "stream",
     "text": [
      "Validation round: 100%|██████████| 115/115 [00:13<00:00,  8.66batch/s]\n"
     ]
    },
    {
     "name": "stdout",
     "output_type": "stream",
     "text": [
      "Validation dice loss: 0.3888116478919983, IoU Score 0.661872386932373\n"
     ]
    },
    {
     "name": "stderr",
     "output_type": "stream",
     "text": [
      "Epoch 58/60:  83%|████████▎ | 378/456 [02:05<00:14,  5.29img/s, loss (batch)=0.123] "
     ]
    },
    {
     "name": "stdout",
     "output_type": "stream",
     "text": [
      "Validation round\n"
     ]
    },
    {
     "name": "stderr",
     "output_type": "stream",
     "text": [
      "Validation round: 100%|██████████| 115/115 [00:13<00:00,  8.68batch/s]\n"
     ]
    },
    {
     "name": "stdout",
     "output_type": "stream",
     "text": [
      "Validation dice loss: 0.45647186040878296, IoU Score 0.6127583980560303\n"
     ]
    },
    {
     "name": "stderr",
     "output_type": "stream",
     "text": [
      "Epoch 58/60: 100%|██████████| 456/456 [02:34<00:00,  2.96img/s, loss (batch)=0.0954]\n",
      "Epoch 59/60:   3%|▎         | 12/456 [00:02<01:19,  5.61img/s, loss (batch)=0.0787]"
     ]
    },
    {
     "name": "stdout",
     "output_type": "stream",
     "text": [
      "Validation round\n"
     ]
    },
    {
     "name": "stderr",
     "output_type": "stream",
     "text": [
      "Validation round: 100%|██████████| 115/115 [00:13<00:00,  8.66batch/s]\n"
     ]
    },
    {
     "name": "stdout",
     "output_type": "stream",
     "text": [
      "Validation dice loss: 0.4108215570449829, IoU Score 0.6365209817886353\n"
     ]
    },
    {
     "name": "stderr",
     "output_type": "stream",
     "text": [
      "Epoch 59/60:  22%|██▏       | 102/456 [00:32<01:02,  5.68img/s, loss (batch)=0.0948]"
     ]
    },
    {
     "name": "stdout",
     "output_type": "stream",
     "text": [
      "Validation round\n"
     ]
    },
    {
     "name": "stderr",
     "output_type": "stream",
     "text": [
      "Validation round: 100%|██████████| 115/115 [00:13<00:00,  8.43batch/s]\n"
     ]
    },
    {
     "name": "stdout",
     "output_type": "stream",
     "text": [
      "Validation dice loss: 0.4321463108062744, IoU Score 0.6232196688652039\n"
     ]
    },
    {
     "name": "stderr",
     "output_type": "stream",
     "text": [
      "Epoch 59/60:  42%|████▏     | 192/456 [01:03<00:49,  5.36img/s, loss (batch)=0.114]"
     ]
    },
    {
     "name": "stdout",
     "output_type": "stream",
     "text": [
      "Validation round\n"
     ]
    },
    {
     "name": "stderr",
     "output_type": "stream",
     "text": [
      "Validation round: 100%|██████████| 115/115 [00:13<00:00,  8.72batch/s]\n"
     ]
    },
    {
     "name": "stdout",
     "output_type": "stream",
     "text": [
      "Validation dice loss: 0.4339739680290222, IoU Score 0.6234995722770691\n"
     ]
    },
    {
     "name": "stderr",
     "output_type": "stream",
     "text": [
      "Epoch 59/60:  62%|██████▏   | 282/456 [01:34<00:30,  5.73img/s, loss (batch)=0.78] "
     ]
    },
    {
     "name": "stdout",
     "output_type": "stream",
     "text": [
      "Validation round\n"
     ]
    },
    {
     "name": "stderr",
     "output_type": "stream",
     "text": [
      "Validation round: 100%|██████████| 115/115 [00:13<00:00,  8.51batch/s]\n"
     ]
    },
    {
     "name": "stdout",
     "output_type": "stream",
     "text": [
      "Validation dice loss: 0.40351560711860657, IoU Score 0.6436070799827576\n"
     ]
    },
    {
     "name": "stderr",
     "output_type": "stream",
     "text": [
      "Epoch 59/60:  82%|████████▏ | 372/456 [02:05<00:14,  5.68img/s, loss (batch)=0.0732]"
     ]
    },
    {
     "name": "stdout",
     "output_type": "stream",
     "text": [
      "Validation round\n"
     ]
    },
    {
     "name": "stderr",
     "output_type": "stream",
     "text": [
      "Validation round: 100%|██████████| 115/115 [00:13<00:00,  8.71batch/s]\n"
     ]
    },
    {
     "name": "stdout",
     "output_type": "stream",
     "text": [
      "Validation dice loss: 0.38492029905319214, IoU Score 0.6614261269569397\n"
     ]
    },
    {
     "name": "stderr",
     "output_type": "stream",
     "text": [
      "Epoch 59/60: 100%|██████████| 456/456 [02:34<00:00,  2.94img/s, loss (batch)=0.0693]\n",
      "Epoch 60/60:   1%|▏         | 6/456 [00:01<01:19,  5.70img/s, loss (batch)=0.106] "
     ]
    },
    {
     "name": "stdout",
     "output_type": "stream",
     "text": [
      "Validation round\n"
     ]
    },
    {
     "name": "stderr",
     "output_type": "stream",
     "text": [
      "Validation round: 100%|██████████| 115/115 [00:13<00:00,  8.68batch/s]\n"
     ]
    },
    {
     "name": "stdout",
     "output_type": "stream",
     "text": [
      "Validation dice loss: 0.3942388892173767, IoU Score 0.6517401337623596\n"
     ]
    },
    {
     "name": "stderr",
     "output_type": "stream",
     "text": [
      "Epoch 60/60:  21%|██        | 96/456 [00:31<01:04,  5.62img/s, loss (batch)=0.0899]"
     ]
    },
    {
     "name": "stdout",
     "output_type": "stream",
     "text": [
      "Validation round\n"
     ]
    },
    {
     "name": "stderr",
     "output_type": "stream",
     "text": [
      "Validation round: 100%|██████████| 115/115 [00:13<00:00,  8.52batch/s]\n"
     ]
    },
    {
     "name": "stdout",
     "output_type": "stream",
     "text": [
      "Validation dice loss: 0.4365868866443634, IoU Score 0.6203628778457642\n"
     ]
    },
    {
     "name": "stderr",
     "output_type": "stream",
     "text": [
      "Epoch 60/60:  41%|████      | 186/456 [01:02<00:47,  5.68img/s, loss (batch)=0.0668]"
     ]
    },
    {
     "name": "stdout",
     "output_type": "stream",
     "text": [
      "Validation round\n"
     ]
    },
    {
     "name": "stderr",
     "output_type": "stream",
     "text": [
      "Validation round: 100%|██████████| 115/115 [00:13<00:00,  8.65batch/s]\n"
     ]
    },
    {
     "name": "stdout",
     "output_type": "stream",
     "text": [
      "Validation dice loss: 0.3700271546840668, IoU Score 0.6653627753257751\n"
     ]
    },
    {
     "name": "stderr",
     "output_type": "stream",
     "text": [
      "Epoch 60/60:  61%|██████    | 276/456 [01:32<00:31,  5.76img/s, loss (batch)=0.568]"
     ]
    },
    {
     "name": "stdout",
     "output_type": "stream",
     "text": [
      "Validation round\n"
     ]
    },
    {
     "name": "stderr",
     "output_type": "stream",
     "text": [
      "Validation round: 100%|██████████| 115/115 [00:13<00:00,  8.70batch/s]\n"
     ]
    },
    {
     "name": "stdout",
     "output_type": "stream",
     "text": [
      "Validation dice loss: 0.3936944007873535, IoU Score 0.6504290699958801\n"
     ]
    },
    {
     "name": "stderr",
     "output_type": "stream",
     "text": [
      "Epoch 60/60:  80%|████████  | 366/456 [02:03<00:15,  5.66img/s, loss (batch)=0.213] "
     ]
    },
    {
     "name": "stdout",
     "output_type": "stream",
     "text": [
      "Validation round\n"
     ]
    },
    {
     "name": "stderr",
     "output_type": "stream",
     "text": [
      "Validation round: 100%|██████████| 115/115 [00:13<00:00,  8.67batch/s]\n"
     ]
    },
    {
     "name": "stdout",
     "output_type": "stream",
     "text": [
      "Validation dice loss: 0.4847147464752197, IoU Score 0.5931447148323059\n"
     ]
    },
    {
     "name": "stderr",
     "output_type": "stream",
     "text": [
      "Epoch 60/60: 100%|██████████| 456/456 [02:34<00:00,  5.68img/s, loss (batch)=0.359]"
     ]
    },
    {
     "name": "stdout",
     "output_type": "stream",
     "text": [
      "Validation round\n"
     ]
    },
    {
     "name": "stderr",
     "output_type": "stream",
     "text": [
      "Validation round: 100%|██████████| 115/115 [00:13<00:00,  8.68batch/s]\n",
      "Epoch 60/60: 100%|██████████| 456/456 [02:48<00:00,  2.70img/s, loss (batch)=0.359]\n",
      "\u001b[34m\u001b[1mwandb\u001b[0m: Waiting for W&B process to finish... \u001b[32m(success).\u001b[0m\n"
     ]
    },
    {
     "name": "stdout",
     "output_type": "stream",
     "text": [
      "Validation dice loss: 0.4116411805152893, IoU Score 0.6579997539520264\n"
     ]
    },
    {
     "name": "stderr",
     "output_type": "stream",
     "text": [
      "\u001b[34m\u001b[1mwandb\u001b[0m: \n",
      "\u001b[34m\u001b[1mwandb\u001b[0m: Run history:\n",
      "\u001b[34m\u001b[1mwandb\u001b[0m:                epoch ▁▁▁▁▂▂▂▂▂▃▃▃▃▃▃▄▄▄▄▄▅▅▅▅▅▆▆▆▆▆▆▇▇▇▇▇▇███\n",
      "\u001b[34m\u001b[1mwandb\u001b[0m:        learning rate ▅▄▃▃▂▂▁▁▁▁▁▁██▇▇▅▅▅▆▆▃▄▃▃▃▄▄▃▃▆▅▄▃▆▄▄▄▄▄\n",
      "\u001b[34m\u001b[1mwandb\u001b[0m:                 step ▁▁▁▂▂▂▂▂▂▃▃▃▃▃▃▄▄▄▄▄▅▅▅▅▅▅▆▆▆▆▆▇▇▇▇▇▇███\n",
      "\u001b[34m\u001b[1mwandb\u001b[0m:            train iou ▅▅▁▆▇▇▇▆▆▆▆▆▇▃▆▇▆█▇▇█▆▅▇▇▇█▆█████▅██▄▇██\n",
      "\u001b[34m\u001b[1mwandb\u001b[0m:           train loss ███▆▅▅▆▆▅▅▄▅▄▅▄▃▃▂▂▂▁▂▃▂▁▂▁▂▁▁▁▁▁▃▁▁▄▁▁▁\n",
      "\u001b[34m\u001b[1mwandb\u001b[0m:      validation Dice █▇▇▆▆▅▅▅▄▄▄▄▃▃▃▂▂▂▂▂▁▁▂▁▁▁▂▂▁▁▁▁▁▁▂▁▁▁▁▁\n",
      "\u001b[34m\u001b[1mwandb\u001b[0m: validation IoU Score ▄▄▆▆▆▇▆▇▇▇▅▆▅▄▆▇▄▇▆▇▆▆▂█▆▇▁▄▇▆█▇▇▆▄▇█▇▆▇\n",
      "\u001b[34m\u001b[1mwandb\u001b[0m: \n",
      "\u001b[34m\u001b[1mwandb\u001b[0m: Run summary:\n",
      "\u001b[34m\u001b[1mwandb\u001b[0m:                epoch 60\n",
      "\u001b[34m\u001b[1mwandb\u001b[0m:        learning rate 3e-05\n",
      "\u001b[34m\u001b[1mwandb\u001b[0m:                 step 13680\n",
      "\u001b[34m\u001b[1mwandb\u001b[0m:            train iou 0.55871\n",
      "\u001b[34m\u001b[1mwandb\u001b[0m:           train loss 0.3587\n",
      "\u001b[34m\u001b[1mwandb\u001b[0m:      validation Dice 0.41164\n",
      "\u001b[34m\u001b[1mwandb\u001b[0m: validation IoU Score 0.658\n",
      "\u001b[34m\u001b[1mwandb\u001b[0m: \n",
      "\u001b[34m\u001b[1mwandb\u001b[0m: 🚀 View run \u001b[33mjolly-snowball-23\u001b[0m at: \u001b[34m\u001b[4mhttps://wandb.ai/cupes-wangtao/U-Net/runs/p96t3dq1\u001b[0m\n",
      "\u001b[34m\u001b[1mwandb\u001b[0m: Synced 6 W&B file(s), 912 media file(s), 0 artifact file(s) and 0 other file(s)\n",
      "\u001b[34m\u001b[1mwandb\u001b[0m: Find logs at: \u001b[35m\u001b[1m./wandb/run-20240118_101458-p96t3dq1/logs\u001b[0m\n"
     ]
    }
   ],
   "source": [
    "import time\n",
    "import torch.optim as optim\n",
    "import segmentation_models_pytorch as smp\n",
    "\n",
    "n_train = len(train_data)\n",
    "n_val = len(validate_data)\n",
    "\n",
    "sigmoid = nn.Sigmoid()\n",
    "\n",
    "def train(model, device, \n",
    "          epochs: int = 60,\n",
    "          learning_rate: float = 1e-5, \n",
    "          weight_decay: float = 1e-8,\n",
    "          momentum: float = 0.999,\n",
    "          batch_size: int = 2,\n",
    "          amp: bool = False,\n",
    "          val_percent: float = 0.1,\n",
    "          gradient_clipping: float = 1.0):\n",
    "    if isinstance(model, nn.DataParallel):\n",
    "        n_classes = model.module.n_classes\n",
    "        n_channels = model.module.n_channels\n",
    "    else:\n",
    "        n_classes = model.n_classes\n",
    "        n_channels = model.n_channels\n",
    "        \n",
    "    # (Initialize logging)\n",
    "    experiment = wandb.init(project='U-Net', resume='allow', anonymous='must')\n",
    "    experiment.config.update(\n",
    "        dict(epochs=epochs, batch_size=batch_size, learning_rate=learning_rate,\n",
    "             val_percent=val_percent, amp=amp)\n",
    "    )\n",
    "\n",
    "    logging.info(f'''Starting training:\n",
    "        Epochs:          {epochs}\n",
    "        Batch size:      {batch_size}\n",
    "        Learning rate:   {learning_rate}\n",
    "        Training size:   {n_train}\n",
    "        Validation size: {n_val}\n",
    "        Device:          {device.type}\n",
    "        Mixed Precision: {amp}\n",
    "    ''')\n",
    "\n",
    "     # Set up the optimizer, the loss, the learning rate scheduler and the loss scaling for AMP\n",
    "#     optimizer = optim.RMSprop(model.parameters(),\n",
    "#                               lr=learning_rate, weight_decay=weight_decay, momentum=momentum, foreach=True)\n",
    "    optimizer = optim.Adam(model.parameters(), lr=learning_rate)\n",
    "    scheduler = optim.lr_scheduler.CosineAnnealingWarmRestarts(optimizer, T_0=1, T_mult=2, eta_min=5e-5)  # goal: maximize Dice score\n",
    "    grad_scaler = torch.cuda.amp.GradScaler(enabled=amp)\n",
    "    criterion = nn.BCEWithLogitsLoss().cuda()\n",
    "    dice_loss = smp.losses.DiceLoss(mode='binary')\n",
    "    \n",
    "    global_step = 0\n",
    "    \n",
    "#     iou_metric = IoU\n",
    "\n",
    "    # 5. Begin training\n",
    "    for epoch in range(1, epochs + 1):\n",
    "        model.train()\n",
    "        epoch_loss = 0\n",
    "        with tqdm(total=n_train, desc=f'Epoch {epoch}/{epochs}', unit='img') as pbar:\n",
    "            for batch in trainloader:\n",
    "                images, true_masks = batch\n",
    "\n",
    "                assert images.shape[1] == n_channels, \\\n",
    "                    f'Network has been defined with {n_channels} input channels, ' \\\n",
    "                    f'but loaded images have {images.shape[1]} channels. Please check that ' \\\n",
    "                    'the images are loaded correctly.'\n",
    "\n",
    "                images = images.to(device=device, dtype=torch.float32, memory_format=torch.channels_last)\n",
    "                \n",
    "                true_masks = true_masks.to(device=device, dtype=torch.long)\n",
    "\n",
    "                with torch.autocast(device.type if device.type != 'mps' else 'cpu', enabled=amp):\n",
    "                    masks_pred = model(images)\n",
    "                    loss = criterion(masks_pred, true_masks.float())\n",
    "                    loss += dice_loss(masks_pred, true_masks)\n",
    "                    tp, fp, fn, tn = smp.metrics.get_stats(masks_pred, true_masks.long(), mode='binary', threshold=0.5)\n",
    "                    iou_score = smp.metrics.iou_score(tp, fp, fn, tn, reduction=\"micro\")\n",
    "    \n",
    "                optimizer.zero_grad(set_to_none=True)\n",
    "                grad_scaler.scale(loss).backward()\n",
    "                torch.nn.utils.clip_grad_norm_(model.parameters(), gradient_clipping)\n",
    "                grad_scaler.step(optimizer)\n",
    "                grad_scaler.update()\n",
    "\n",
    "                pbar.update(images.shape[0])\n",
    "                global_step += 1\n",
    "                epoch_loss += loss.item()\n",
    "                experiment.log({\n",
    "                    'train iou': iou_score,\n",
    "                    'train loss': loss.item(),\n",
    "                    'step': global_step,\n",
    "                    'epoch': epoch\n",
    "                })\n",
    "                pbar.set_postfix(**{'loss (batch)': loss.item()})\n",
    "\n",
    "                # Evaluation round\n",
    "                division_step = (n_train // (5 * batch_size))\n",
    "                if division_step > 0:\n",
    "                    if global_step % division_step == 0:\n",
    "                        histograms = {}\n",
    "                        for tag, value in model.named_parameters():\n",
    "                            tag = tag.replace('/', '.')\n",
    "                            if not (torch.isinf(value) | torch.isnan(value)).any():\n",
    "                                histograms['Weights/' + tag] = wandb.Histogram(value.data.cpu())\n",
    "                            if not (torch.isinf(value.grad) | torch.isnan(value.grad)).any():\n",
    "                                histograms['Gradients/' + tag] = wandb.Histogram(value.grad.data.cpu())\n",
    "\n",
    "                        val_score, iou_score = evaluate(model, valloader, device, amp)\n",
    "                        logging.info('Validation Dice score: {}'.format(val_score))\n",
    "                        \n",
    "                        predict = sigmoid(masks_pred[0])\n",
    "                        predict = torch.where(predict>0.5,torch.ones_like(predict),torch.zeros_like(predict))\n",
    "\n",
    "                        try:\n",
    "                            experiment.log({\n",
    "                                'learning rate': optimizer.param_groups[0]['lr'],\n",
    "                                'validation Dice': val_score,\n",
    "                                'validation IoU Score': iou_score,\n",
    "                                'images': wandb.Image(images[0].cpu()),\n",
    "                                'masks': {\n",
    "                                    'true': wandb.Image(true_masks[0].float().cpu()),\n",
    "                                    'pred': wandb.Image(predict.float().cpu()),\n",
    "                                },\n",
    "                                'step': global_step,\n",
    "                                'epoch': epoch,\n",
    "                                **histograms\n",
    "                            })\n",
    "                        except:\n",
    "                            pass\n",
    "                        \n",
    "                        model.train()\n",
    "                        scheduler.step(val_score)\n",
    "    experiment.finish()\n",
    "\n",
    "if __name__ == '__main__':\n",
    "    model = UNet(n_channels=3, n_classes=1, bilinear=False)\n",
    "    \n",
    "    device = torch.device('cuda' if torch.cuda.is_available() else 'cpu')\n",
    "    if torch.cuda.device_count() > 1:\n",
    "        print(\"Let's use\", torch.cuda.device_count(), \"GPUs!\")\n",
    "        model = nn.DataParallel(model)\n",
    "\n",
    "    model = model.to(memory_format=torch.channels_last)\n",
    "    model.to(device)\n",
    "    total_params = sum(p.numel() for p in model.parameters())\n",
    "    print(f\"模型参数量为：{total_params}\")\n",
    "    print(\"其详情为：\")\n",
    "    for name,parameters in model.named_parameters():\n",
    "        print(name,':',parameters.size())\n",
    "    train(model, device)\n",
    "\n",
    "    "
   ]
  },
  {
   "cell_type": "markdown",
   "id": "c15af1ed",
   "metadata": {
    "papermill": {
     "duration": 5.156954,
     "end_time": "2024-01-18T12:50:28.564319",
     "exception": false,
     "start_time": "2024-01-18T12:50:23.407365",
     "status": "completed"
    },
    "tags": []
   },
   "source": [
    "# 推理"
   ]
  }
 ],
 "metadata": {
  "kaggle": {
   "accelerator": "nvidiaTeslaT4",
   "dataSources": [
    {
     "datasetId": 3664633,
     "sourceId": 6361775,
     "sourceType": "datasetVersion"
    }
   ],
   "dockerImageVersionId": 30528,
   "isGpuEnabled": true,
   "isInternetEnabled": true,
   "language": "python",
   "sourceType": "notebook"
  },
  "kernelspec": {
   "display_name": "Python 3",
   "language": "python",
   "name": "python3"
  },
  "language_info": {
   "codemirror_mode": {
    "name": "ipython",
    "version": 3
   },
   "file_extension": ".py",
   "mimetype": "text/x-python",
   "name": "python",
   "nbconvert_exporter": "python",
   "pygments_lexer": "ipython3",
   "version": "3.10.12"
  },
  "papermill": {
   "default_parameters": {},
   "duration": 9396.802766,
   "end_time": "2024-01-18T12:50:36.510324",
   "environment_variables": {},
   "exception": null,
   "input_path": "__notebook__.ipynb",
   "output_path": "__notebook__.ipynb",
   "parameters": {},
   "start_time": "2024-01-18T10:13:59.707558",
   "version": "2.4.0"
  }
 },
 "nbformat": 4,
 "nbformat_minor": 5
}
