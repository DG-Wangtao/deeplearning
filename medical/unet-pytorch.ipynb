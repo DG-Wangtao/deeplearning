{
 "cells": [
  {
   "cell_type": "markdown",
   "id": "0ce9380a",
   "metadata": {
    "papermill": {
     "duration": 0.003672,
     "end_time": "2024-03-18T01:52:20.759982",
     "exception": false,
     "start_time": "2024-03-18T01:52:20.756310",
     "status": "completed"
    },
    "tags": []
   },
   "source": [
    "# 安装依赖"
   ]
  },
  {
   "cell_type": "markdown",
   "id": "215fe6b1",
   "metadata": {
    "papermill": {
     "duration": 0.002813,
     "end_time": "2024-03-18T01:52:20.766104",
     "exception": false,
     "start_time": "2024-03-18T01:52:20.763291",
     "status": "completed"
    },
    "tags": []
   },
   "source": [
    "- https://github.com/milesial/Pytorch-UNet/tree/master\n",
    "- https://github.com/njcronin/DL_Track\n",
    "- https://github.com/njcronin/DL_Track/blob/master/Labelling_Instructions.pdf"
   ]
  },
  {
   "cell_type": "code",
   "execution_count": 1,
   "id": "d90c937a",
   "metadata": {
    "execution": {
     "iopub.execute_input": "2024-03-18T01:52:20.774154Z",
     "iopub.status.busy": "2024-03-18T01:52:20.773342Z",
     "iopub.status.idle": "2024-03-18T01:52:58.055767Z",
     "shell.execute_reply": "2024-03-18T01:52:58.054888Z"
    },
    "papermill": {
     "duration": 37.289136,
     "end_time": "2024-03-18T01:52:58.058170",
     "exception": false,
     "start_time": "2024-03-18T01:52:20.769034",
     "status": "completed"
    },
    "tags": []
   },
   "outputs": [
    {
     "name": "stdout",
     "output_type": "stream",
     "text": [
      "Requirement already satisfied: scipy in /opt/conda/lib/python3.10/site-packages (1.11.4)\r\n",
      "Requirement already satisfied: scikit-image in /opt/conda/lib/python3.10/site-packages (0.22.0)\r\n",
      "Requirement already satisfied: torch in /opt/conda/lib/python3.10/site-packages (2.1.2)\r\n",
      "Requirement already satisfied: torchvision in /opt/conda/lib/python3.10/site-packages (0.16.2)\r\n",
      "Collecting pathlib\r\n",
      "  Downloading pathlib-1.0.1-py3-none-any.whl.metadata (5.1 kB)\r\n",
      "Collecting segmentation-models-pytorch\r\n",
      "  Downloading segmentation_models_pytorch-0.3.3-py3-none-any.whl.metadata (30 kB)\r\n",
      "Requirement already satisfied: numpy<1.28.0,>=1.21.6 in /opt/conda/lib/python3.10/site-packages (from scipy) (1.26.4)\r\n",
      "Requirement already satisfied: networkx>=2.8 in /opt/conda/lib/python3.10/site-packages (from scikit-image) (3.2.1)\r\n",
      "Requirement already satisfied: pillow>=9.0.1 in /opt/conda/lib/python3.10/site-packages (from scikit-image) (9.5.0)\r\n",
      "Requirement already satisfied: imageio>=2.27 in /opt/conda/lib/python3.10/site-packages (from scikit-image) (2.33.1)\r\n",
      "Requirement already satisfied: tifffile>=2022.8.12 in /opt/conda/lib/python3.10/site-packages (from scikit-image) (2023.12.9)\r\n",
      "Requirement already satisfied: packaging>=21 in /opt/conda/lib/python3.10/site-packages (from scikit-image) (21.3)\r\n",
      "Requirement already satisfied: lazy_loader>=0.3 in /opt/conda/lib/python3.10/site-packages (from scikit-image) (0.3)\r\n",
      "Requirement already satisfied: filelock in /opt/conda/lib/python3.10/site-packages (from torch) (3.13.1)\r\n",
      "Requirement already satisfied: typing-extensions in /opt/conda/lib/python3.10/site-packages (from torch) (4.9.0)\r\n",
      "Requirement already satisfied: sympy in /opt/conda/lib/python3.10/site-packages (from torch) (1.12)\r\n",
      "Requirement already satisfied: jinja2 in /opt/conda/lib/python3.10/site-packages (from torch) (3.1.2)\r\n",
      "Requirement already satisfied: fsspec in /opt/conda/lib/python3.10/site-packages (from torch) (2024.2.0)\r\n",
      "Requirement already satisfied: requests in /opt/conda/lib/python3.10/site-packages (from torchvision) (2.31.0)\r\n",
      "Collecting pretrainedmodels==0.7.4 (from segmentation-models-pytorch)\r\n",
      "  Downloading pretrainedmodels-0.7.4.tar.gz (58 kB)\r\n",
      "\u001b[2K     \u001b[90m━━━━━━━━━━━━━━━━━━━━━━━━━━━━━━━━━━━━━━━━\u001b[0m \u001b[32m58.8/58.8 kB\u001b[0m \u001b[31m2.4 MB/s\u001b[0m eta \u001b[36m0:00:00\u001b[0m\r\n",
      "\u001b[?25h  Preparing metadata (setup.py) ... \u001b[?25l-\b \b\\\b \bdone\r\n",
      "\u001b[?25hCollecting efficientnet-pytorch==0.7.1 (from segmentation-models-pytorch)\r\n",
      "  Downloading efficientnet_pytorch-0.7.1.tar.gz (21 kB)\r\n",
      "  Preparing metadata (setup.py) ... \u001b[?25l-\b \bdone\r\n",
      "\u001b[?25hCollecting timm==0.9.2 (from segmentation-models-pytorch)\r\n",
      "  Downloading timm-0.9.2-py3-none-any.whl.metadata (68 kB)\r\n",
      "\u001b[2K     \u001b[90m━━━━━━━━━━━━━━━━━━━━━━━━━━━━━━━━━━━━━━━━\u001b[0m \u001b[32m68.5/68.5 kB\u001b[0m \u001b[31m4.4 MB/s\u001b[0m eta \u001b[36m0:00:00\u001b[0m\r\n",
      "\u001b[?25hRequirement already satisfied: tqdm in /opt/conda/lib/python3.10/site-packages (from segmentation-models-pytorch) (4.66.1)\r\n",
      "Collecting munch (from pretrainedmodels==0.7.4->segmentation-models-pytorch)\r\n",
      "  Downloading munch-4.0.0-py2.py3-none-any.whl.metadata (5.9 kB)\r\n",
      "Requirement already satisfied: pyyaml in /opt/conda/lib/python3.10/site-packages (from timm==0.9.2->segmentation-models-pytorch) (6.0.1)\r\n",
      "Requirement already satisfied: huggingface-hub in /opt/conda/lib/python3.10/site-packages (from timm==0.9.2->segmentation-models-pytorch) (0.20.3)\r\n",
      "Requirement already satisfied: safetensors in /opt/conda/lib/python3.10/site-packages (from timm==0.9.2->segmentation-models-pytorch) (0.4.2)\r\n",
      "Requirement already satisfied: pyparsing!=3.0.5,>=2.0.2 in /opt/conda/lib/python3.10/site-packages (from packaging>=21->scikit-image) (3.1.1)\r\n",
      "Requirement already satisfied: MarkupSafe>=2.0 in /opt/conda/lib/python3.10/site-packages (from jinja2->torch) (2.1.3)\r\n",
      "Requirement already satisfied: charset-normalizer<4,>=2 in /opt/conda/lib/python3.10/site-packages (from requests->torchvision) (3.3.2)\r\n",
      "Requirement already satisfied: idna<4,>=2.5 in /opt/conda/lib/python3.10/site-packages (from requests->torchvision) (3.6)\r\n",
      "Requirement already satisfied: urllib3<3,>=1.21.1 in /opt/conda/lib/python3.10/site-packages (from requests->torchvision) (1.26.18)\r\n",
      "Requirement already satisfied: certifi>=2017.4.17 in /opt/conda/lib/python3.10/site-packages (from requests->torchvision) (2024.2.2)\r\n",
      "Requirement already satisfied: mpmath>=0.19 in /opt/conda/lib/python3.10/site-packages (from sympy->torch) (1.3.0)\r\n",
      "Downloading pathlib-1.0.1-py3-none-any.whl (14 kB)\r\n",
      "Downloading segmentation_models_pytorch-0.3.3-py3-none-any.whl (106 kB)\r\n",
      "\u001b[2K   \u001b[90m━━━━━━━━━━━━━━━━━━━━━━━━━━━━━━━━━━━━━━━━\u001b[0m \u001b[32m106.7/106.7 kB\u001b[0m \u001b[31m7.4 MB/s\u001b[0m eta \u001b[36m0:00:00\u001b[0m\r\n",
      "\u001b[?25hDownloading timm-0.9.2-py3-none-any.whl (2.2 MB)\r\n",
      "\u001b[2K   \u001b[90m━━━━━━━━━━━━━━━━━━━━━━━━━━━━━━━━━━━━━━━━\u001b[0m \u001b[32m2.2/2.2 MB\u001b[0m \u001b[31m37.0 MB/s\u001b[0m eta \u001b[36m0:00:00\u001b[0m\r\n",
      "\u001b[?25hDownloading munch-4.0.0-py2.py3-none-any.whl (9.9 kB)\r\n",
      "Building wheels for collected packages: efficientnet-pytorch, pretrainedmodels\r\n",
      "  Building wheel for efficientnet-pytorch (setup.py) ... \u001b[?25l-\b \bdone\r\n",
      "\u001b[?25h  Created wheel for efficientnet-pytorch: filename=efficientnet_pytorch-0.7.1-py3-none-any.whl size=16428 sha256=c5bc47d628d6e3bc47962a805684f5f6edd706aae164f956ed930da7bc036d8c\r\n",
      "  Stored in directory: /root/.cache/pip/wheels/03/3f/e9/911b1bc46869644912bda90a56bcf7b960f20b5187feea3baf\r\n",
      "  Building wheel for pretrainedmodels (setup.py) ... \u001b[?25l-\b \b\\\b \b|\b \bdone\r\n",
      "\u001b[?25h  Created wheel for pretrainedmodels: filename=pretrainedmodels-0.7.4-py3-none-any.whl size=60945 sha256=3d02cc0bf9aba08c844b3fe39ddd6da39ab84ab36ad5b0568cbf4e2ec84dbb9d\r\n",
      "  Stored in directory: /root/.cache/pip/wheels/35/cb/a5/8f534c60142835bfc889f9a482e4a67e0b817032d9c6883b64\r\n",
      "Successfully built efficientnet-pytorch pretrainedmodels\r\n",
      "Installing collected packages: pathlib, munch, efficientnet-pytorch, timm, pretrainedmodels, segmentation-models-pytorch\r\n",
      "  Attempting uninstall: timm\r\n",
      "    Found existing installation: timm 0.9.16\r\n",
      "    Uninstalling timm-0.9.16:\r\n",
      "      Successfully uninstalled timm-0.9.16\r\n",
      "Successfully installed efficientnet-pytorch-0.7.1 munch-4.0.0 pathlib-1.0.1 pretrainedmodels-0.7.4 segmentation-models-pytorch-0.3.3 timm-0.9.2\r\n",
      "Requirement already satisfied: wandb in /opt/conda/lib/python3.10/site-packages (0.16.3)\r\n",
      "Collecting wandb\r\n",
      "  Downloading wandb-0.16.4-py3-none-any.whl.metadata (10 kB)\r\n",
      "Requirement already satisfied: Click!=8.0.0,>=7.1 in /opt/conda/lib/python3.10/site-packages (from wandb) (8.1.7)\r\n",
      "Requirement already satisfied: GitPython!=3.1.29,>=1.0.0 in /opt/conda/lib/python3.10/site-packages (from wandb) (3.1.41)\r\n",
      "Requirement already satisfied: requests<3,>=2.0.0 in /opt/conda/lib/python3.10/site-packages (from wandb) (2.31.0)\r\n",
      "Requirement already satisfied: psutil>=5.0.0 in /opt/conda/lib/python3.10/site-packages (from wandb) (5.9.3)\r\n",
      "Requirement already satisfied: sentry-sdk>=1.0.0 in /opt/conda/lib/python3.10/site-packages (from wandb) (1.40.5)\r\n",
      "Requirement already satisfied: docker-pycreds>=0.4.0 in /opt/conda/lib/python3.10/site-packages (from wandb) (0.4.0)\r\n",
      "Requirement already satisfied: PyYAML in /opt/conda/lib/python3.10/site-packages (from wandb) (6.0.1)\r\n",
      "Requirement already satisfied: setproctitle in /opt/conda/lib/python3.10/site-packages (from wandb) (1.3.3)\r\n",
      "Requirement already satisfied: setuptools in /opt/conda/lib/python3.10/site-packages (from wandb) (69.0.3)\r\n",
      "Requirement already satisfied: appdirs>=1.4.3 in /opt/conda/lib/python3.10/site-packages (from wandb) (1.4.4)\r\n",
      "Requirement already satisfied: protobuf!=4.21.0,<5,>=3.19.0 in /opt/conda/lib/python3.10/site-packages (from wandb) (3.20.3)\r\n",
      "Requirement already satisfied: six>=1.4.0 in /opt/conda/lib/python3.10/site-packages (from docker-pycreds>=0.4.0->wandb) (1.16.0)\r\n",
      "Requirement already satisfied: gitdb<5,>=4.0.1 in /opt/conda/lib/python3.10/site-packages (from GitPython!=3.1.29,>=1.0.0->wandb) (4.0.11)\r\n",
      "Requirement already satisfied: charset-normalizer<4,>=2 in /opt/conda/lib/python3.10/site-packages (from requests<3,>=2.0.0->wandb) (3.3.2)\r\n",
      "Requirement already satisfied: idna<4,>=2.5 in /opt/conda/lib/python3.10/site-packages (from requests<3,>=2.0.0->wandb) (3.6)\r\n",
      "Requirement already satisfied: urllib3<3,>=1.21.1 in /opt/conda/lib/python3.10/site-packages (from requests<3,>=2.0.0->wandb) (1.26.18)\r\n",
      "Requirement already satisfied: certifi>=2017.4.17 in /opt/conda/lib/python3.10/site-packages (from requests<3,>=2.0.0->wandb) (2024.2.2)\r\n",
      "Requirement already satisfied: smmap<6,>=3.0.1 in /opt/conda/lib/python3.10/site-packages (from gitdb<5,>=4.0.1->GitPython!=3.1.29,>=1.0.0->wandb) (5.0.1)\r\n",
      "Downloading wandb-0.16.4-py3-none-any.whl (2.2 MB)\r\n",
      "\u001b[2K   \u001b[90m━━━━━━━━━━━━━━━━━━━━━━━━━━━━━━━━━━━━━━━━\u001b[0m \u001b[32m2.2/2.2 MB\u001b[0m \u001b[31m22.4 MB/s\u001b[0m eta \u001b[36m0:00:00\u001b[0m\r\n",
      "\u001b[?25hInstalling collected packages: wandb\r\n",
      "  Attempting uninstall: wandb\r\n",
      "    Found existing installation: wandb 0.16.3\r\n",
      "    Uninstalling wandb-0.16.3:\r\n",
      "      Successfully uninstalled wandb-0.16.3\r\n",
      "Successfully installed wandb-0.16.4\r\n"
     ]
    }
   ],
   "source": [
    "!pip install scipy scikit-image torch torchvision pathlib segmentation-models-pytorch\n",
    "!pip install wandb --upgrade"
   ]
  },
  {
   "cell_type": "markdown",
   "id": "6e4c7b44",
   "metadata": {
    "papermill": {
     "duration": 0.006776,
     "end_time": "2024-03-18T01:52:58.071961",
     "exception": false,
     "start_time": "2024-03-18T01:52:58.065185",
     "status": "completed"
    },
    "tags": []
   },
   "source": [
    "# 引用依赖包"
   ]
  },
  {
   "cell_type": "code",
   "execution_count": 2,
   "id": "ef59bc1b",
   "metadata": {
    "execution": {
     "iopub.execute_input": "2024-03-18T01:52:58.087452Z",
     "iopub.status.busy": "2024-03-18T01:52:58.087091Z",
     "iopub.status.idle": "2024-03-18T01:53:07.523865Z",
     "shell.execute_reply": "2024-03-18T01:53:07.523045Z"
    },
    "papermill": {
     "duration": 9.447454,
     "end_time": "2024-03-18T01:53:07.526316",
     "exception": false,
     "start_time": "2024-03-18T01:52:58.078862",
     "status": "completed"
    },
    "tags": []
   },
   "outputs": [],
   "source": [
    "%config Completer.use_jedi = False\n",
    "from apodatasettrainning import *"
   ]
  },
  {
   "cell_type": "markdown",
   "id": "3d7a37a2",
   "metadata": {
    "papermill": {
     "duration": 0.006693,
     "end_time": "2024-03-18T01:53:07.540266",
     "exception": false,
     "start_time": "2024-03-18T01:53:07.533573",
     "status": "completed"
    },
    "tags": []
   },
   "source": [
    "## U-Net 网络"
   ]
  },
  {
   "cell_type": "code",
   "execution_count": 3,
   "id": "7b96c80f",
   "metadata": {
    "execution": {
     "iopub.execute_input": "2024-03-18T01:53:07.555790Z",
     "iopub.status.busy": "2024-03-18T01:53:07.555039Z",
     "iopub.status.idle": "2024-03-18T01:53:07.652993Z",
     "shell.execute_reply": "2024-03-18T01:53:07.652208Z"
    },
    "papermill": {
     "duration": 0.108091,
     "end_time": "2024-03-18T01:53:07.655076",
     "exception": false,
     "start_time": "2024-03-18T01:53:07.546985",
     "status": "completed"
    },
    "tags": []
   },
   "outputs": [],
   "source": [
    "class DoubleConv(nn.Module):\n",
    "    \"\"\"(convolution => [BN] => ReLU) * 2\"\"\"\n",
    "\n",
    "    def __init__(self, in_channels, out_channels, kernel_size=3):\n",
    "        super(DoubleConv,self).__init__()\n",
    "        self.double_conv = nn.Sequential(\n",
    "            nn.Conv2d(in_channels, out_channels, kernel_size=kernel_size, padding=1),\n",
    "            nn.BatchNorm2d(out_channels),\n",
    "            nn.ReLU(inplace=True),\n",
    "            nn.Conv2d(out_channels, out_channels, kernel_size=kernel_size, padding=1),\n",
    "            nn.BatchNorm2d(out_channels),\n",
    "            nn.ReLU(inplace=True)\n",
    "        )\n",
    "\n",
    "    def forward(self, x):\n",
    "        return self.double_conv(x)\n",
    "\n",
    "\n",
    "class Down(nn.Module):\n",
    "    \"\"\"Downscaling with maxpool then double conv\"\"\"\n",
    "\n",
    "    def __init__(self, in_channels, out_channels, kernel_size=3, dropout = 0.1):\n",
    "        super(Down, self).__init__()\n",
    "        self.double_conv = DoubleConv(in_channels, out_channels, kernel_size)\n",
    "        self.maxpool_conv = nn.Sequential(\n",
    "            nn.MaxPool2d(2),\n",
    "            nn.Dropout2d(p=dropout),\n",
    "        )\n",
    "\n",
    "    def forward(self, x):\n",
    "        skip_out = self.double_conv(x)\n",
    "        down_output = self.maxpool_conv(skip_out)\n",
    "        return (down_output, skip_out)\n",
    "\n",
    "\n",
    "class Up(nn.Module):\n",
    "    \"\"\"Upscaling then double conv\"\"\"\n",
    "\n",
    "    def __init__(self, in_channels, out_channels, kernel_size = 2, dropout = 0.1, stride = 2):\n",
    "        super().__init__()\n",
    "        \n",
    "        self.up = nn.ConvTranspose2d(in_channels, out_channels, kernel_size = kernel_size, stride = stride)\n",
    "        \n",
    "        self.conv = nn.Sequential(\n",
    "            nn.Dropout2d(p=dropout),\n",
    "            DoubleConv(in_channels, out_channels)\n",
    "        )\n",
    "\n",
    "    def forward(self, x1, x2):\n",
    "        x = self.up(x1)\n",
    "        x = torch.cat([x, x2], dim = 1)\n",
    "        return self.conv(x)\n",
    "    \n",
    "\n",
    "sigmoid = nn.Sigmoid()\n",
    "if torch.cuda.is_available():\n",
    "    sigmoid = sigmoid.cuda()\n",
    "\n",
    "class UNet(nn.Module):\n",
    "    def __init__(self, input_channels, num_classes, n_filters = 64, bilinear=False):\n",
    "        super(UNet, self).__init__()\n",
    "        self.num_classes = num_classes\n",
    "        self.input_channels = input_channels\n",
    "        kernel_size = 3\n",
    "        dropout = 0.25\n",
    "\n",
    "        self.down1 = Down(input_channels, n_filters, kernel_size, dropout)\n",
    "        self.down2 = Down(n_filters, n_filters * 2, kernel_size, dropout)\n",
    "        self.down3 = Down(n_filters * 2, n_filters * 4, kernel_size, dropout)\n",
    "        self.down4 = Down(n_filters * 4, n_filters * 8, kernel_size, dropout)\n",
    "        \n",
    "        self.bottle_conv = DoubleConv(n_filters * 8, n_filters * 16, kernel_size)\n",
    "        \n",
    "        kernel_size = kernel_size - 1\n",
    "        self.up4 = Up(n_filters * 16, n_filters * 8, kernel_size, dropout)\n",
    "        self.up3 = Up(n_filters * 8, n_filters * 4, kernel_size, dropout)\n",
    "        self.up2 = Up(n_filters * 4, n_filters * 2, kernel_size, dropout)\n",
    "        self.up1 = Up(n_filters * 2, n_filters, kernel_size, dropout)\n",
    "        \n",
    "        self.outc = nn.Conv2d(n_filters, num_classes, kernel_size=1)\n",
    "        \n",
    "\n",
    "    def forward(self, x):\n",
    "        \n",
    "        x, skip1 = self.down1(x)\n",
    "        x, skip2 = self.down2(x)\n",
    "        x, skip3 = self.down3(x)\n",
    "        x, skip4 = self.down4(x)\n",
    "        \n",
    "        x = self.bottle_conv(x)\n",
    "        \n",
    "        x = self.up4(x, skip4)\n",
    "        x = self.up3(x, skip3)\n",
    "        x = self.up2(x, skip2)\n",
    "        x = self.up1(x, skip1)\n",
    "        \n",
    "        out = self.outc(x)\n",
    "        if not self.training:\n",
    "            out = sigmoid(out)\n",
    "            out = torch.where(out>0.5,torch.ones_like(out),torch.zeros_like(out))\n",
    "        return out\n",
    "\n",
    "    def use_checkpointing(self):\n",
    "        self.down1 = torch.utils.checkpoint(self.down1)\n",
    "        self.down2 = torch.utils.checkpoint(self.down2)\n",
    "        self.down3 = torch.utils.checkpoint(self.down3)\n",
    "        self.down4 = torch.utils.checkpoint(self.down4)\n",
    "        self.bottle_conv = torch.utils.checkpoint(self.bottle_conv)\n",
    "        self.up1 = torch.utils.checkpoint(self.up1)\n",
    "        self.up2 = torch.utils.checkpoint(self.up2)\n",
    "        self.up3 = torch.utils.checkpoint(self.up3)\n",
    "        self.up4 = torch.utils.checkpoint(self.up4)\n",
    "        self.outc = torch.utils.checkpoint(self.outc)"
   ]
  },
  {
   "cell_type": "code",
   "execution_count": 4,
   "id": "e3f28d9a",
   "metadata": {
    "execution": {
     "iopub.execute_input": "2024-03-18T01:53:07.670705Z",
     "iopub.status.busy": "2024-03-18T01:53:07.670129Z",
     "iopub.status.idle": "2024-03-18T01:53:07.674265Z",
     "shell.execute_reply": "2024-03-18T01:53:07.673405Z"
    },
    "papermill": {
     "duration": 0.013979,
     "end_time": "2024-03-18T01:53:07.676257",
     "exception": false,
     "start_time": "2024-03-18T01:53:07.662278",
     "status": "completed"
    },
    "tags": []
   },
   "outputs": [],
   "source": [
    "os.environ['WANDB_API_KEY']='d561f1229ba7c4e207ca34042f29a43552a7447e'"
   ]
  },
  {
   "cell_type": "code",
   "execution_count": 5,
   "id": "17e28a36",
   "metadata": {
    "execution": {
     "iopub.execute_input": "2024-03-18T01:53:07.691213Z",
     "iopub.status.busy": "2024-03-18T01:53:07.690936Z",
     "iopub.status.idle": "2024-03-18T01:55:59.254930Z",
     "shell.execute_reply": "2024-03-18T01:55:59.251319Z"
    },
    "papermill": {
     "duration": 171.579689,
     "end_time": "2024-03-18T01:55:59.263001",
     "exception": true,
     "start_time": "2024-03-18T01:53:07.683312",
     "status": "failed"
    },
    "tags": []
   },
   "outputs": [
    {
     "name": "stdout",
     "output_type": "stream",
     "text": [
      "Let's use 2 GPUs!\n",
      "模型参数量为：31043521\n",
      "其详情为：\n",
      "module.down1.double_conv.double_conv.0.weight : torch.Size([64, 3, 3, 3])\n",
      "module.down1.double_conv.double_conv.0.bias : torch.Size([64])\n",
      "module.down1.double_conv.double_conv.1.weight : torch.Size([64])\n",
      "module.down1.double_conv.double_conv.1.bias : torch.Size([64])\n",
      "module.down1.double_conv.double_conv.3.weight : torch.Size([64, 64, 3, 3])\n",
      "module.down1.double_conv.double_conv.3.bias : torch.Size([64])\n",
      "module.down1.double_conv.double_conv.4.weight : torch.Size([64])\n",
      "module.down1.double_conv.double_conv.4.bias : torch.Size([64])\n",
      "module.down2.double_conv.double_conv.0.weight : torch.Size([128, 64, 3, 3])\n",
      "module.down2.double_conv.double_conv.0.bias : torch.Size([128])\n",
      "module.down2.double_conv.double_conv.1.weight : torch.Size([128])\n",
      "module.down2.double_conv.double_conv.1.bias : torch.Size([128])\n",
      "module.down2.double_conv.double_conv.3.weight : torch.Size([128, 128, 3, 3])\n",
      "module.down2.double_conv.double_conv.3.bias : torch.Size([128])\n",
      "module.down2.double_conv.double_conv.4.weight : torch.Size([128])\n",
      "module.down2.double_conv.double_conv.4.bias : torch.Size([128])\n",
      "module.down3.double_conv.double_conv.0.weight : torch.Size([256, 128, 3, 3])\n",
      "module.down3.double_conv.double_conv.0.bias : torch.Size([256])\n",
      "module.down3.double_conv.double_conv.1.weight : torch.Size([256])\n",
      "module.down3.double_conv.double_conv.1.bias : torch.Size([256])\n",
      "module.down3.double_conv.double_conv.3.weight : torch.Size([256, 256, 3, 3])\n",
      "module.down3.double_conv.double_conv.3.bias : torch.Size([256])\n",
      "module.down3.double_conv.double_conv.4.weight : torch.Size([256])\n",
      "module.down3.double_conv.double_conv.4.bias : torch.Size([256])\n",
      "module.down4.double_conv.double_conv.0.weight : torch.Size([512, 256, 3, 3])\n",
      "module.down4.double_conv.double_conv.0.bias : torch.Size([512])\n",
      "module.down4.double_conv.double_conv.1.weight : torch.Size([512])\n",
      "module.down4.double_conv.double_conv.1.bias : torch.Size([512])\n",
      "module.down4.double_conv.double_conv.3.weight : torch.Size([512, 512, 3, 3])\n",
      "module.down4.double_conv.double_conv.3.bias : torch.Size([512])\n",
      "module.down4.double_conv.double_conv.4.weight : torch.Size([512])\n",
      "module.down4.double_conv.double_conv.4.bias : torch.Size([512])\n",
      "module.bottle_conv.double_conv.0.weight : torch.Size([1024, 512, 3, 3])\n",
      "module.bottle_conv.double_conv.0.bias : torch.Size([1024])\n",
      "module.bottle_conv.double_conv.1.weight : torch.Size([1024])\n",
      "module.bottle_conv.double_conv.1.bias : torch.Size([1024])\n",
      "module.bottle_conv.double_conv.3.weight : torch.Size([1024, 1024, 3, 3])\n",
      "module.bottle_conv.double_conv.3.bias : torch.Size([1024])\n",
      "module.bottle_conv.double_conv.4.weight : torch.Size([1024])\n",
      "module.bottle_conv.double_conv.4.bias : torch.Size([1024])\n",
      "module.up4.up.weight : torch.Size([1024, 512, 2, 2])\n",
      "module.up4.up.bias : torch.Size([512])\n",
      "module.up4.conv.1.double_conv.0.weight : torch.Size([512, 1024, 3, 3])\n",
      "module.up4.conv.1.double_conv.0.bias : torch.Size([512])\n",
      "module.up4.conv.1.double_conv.1.weight : torch.Size([512])\n",
      "module.up4.conv.1.double_conv.1.bias : torch.Size([512])\n",
      "module.up4.conv.1.double_conv.3.weight : torch.Size([512, 512, 3, 3])\n",
      "module.up4.conv.1.double_conv.3.bias : torch.Size([512])\n",
      "module.up4.conv.1.double_conv.4.weight : torch.Size([512])\n",
      "module.up4.conv.1.double_conv.4.bias : torch.Size([512])\n",
      "module.up3.up.weight : torch.Size([512, 256, 2, 2])\n",
      "module.up3.up.bias : torch.Size([256])\n",
      "module.up3.conv.1.double_conv.0.weight : torch.Size([256, 512, 3, 3])\n",
      "module.up3.conv.1.double_conv.0.bias : torch.Size([256])\n",
      "module.up3.conv.1.double_conv.1.weight : torch.Size([256])\n",
      "module.up3.conv.1.double_conv.1.bias : torch.Size([256])\n",
      "module.up3.conv.1.double_conv.3.weight : torch.Size([256, 256, 3, 3])\n",
      "module.up3.conv.1.double_conv.3.bias : torch.Size([256])\n",
      "module.up3.conv.1.double_conv.4.weight : torch.Size([256])\n",
      "module.up3.conv.1.double_conv.4.bias : torch.Size([256])\n",
      "module.up2.up.weight : torch.Size([256, 128, 2, 2])\n",
      "module.up2.up.bias : torch.Size([128])\n",
      "module.up2.conv.1.double_conv.0.weight : torch.Size([128, 256, 3, 3])\n",
      "module.up2.conv.1.double_conv.0.bias : torch.Size([128])\n",
      "module.up2.conv.1.double_conv.1.weight : torch.Size([128])\n",
      "module.up2.conv.1.double_conv.1.bias : torch.Size([128])\n",
      "module.up2.conv.1.double_conv.3.weight : torch.Size([128, 128, 3, 3])\n",
      "module.up2.conv.1.double_conv.3.bias : torch.Size([128])\n",
      "module.up2.conv.1.double_conv.4.weight : torch.Size([128])\n",
      "module.up2.conv.1.double_conv.4.bias : torch.Size([128])\n",
      "module.up1.up.weight : torch.Size([128, 64, 2, 2])\n",
      "module.up1.up.bias : torch.Size([64])\n",
      "module.up1.conv.1.double_conv.0.weight : torch.Size([64, 128, 3, 3])\n",
      "module.up1.conv.1.double_conv.0.bias : torch.Size([64])\n",
      "module.up1.conv.1.double_conv.1.weight : torch.Size([64])\n",
      "module.up1.conv.1.double_conv.1.bias : torch.Size([64])\n",
      "module.up1.conv.1.double_conv.3.weight : torch.Size([64, 64, 3, 3])\n",
      "module.up1.conv.1.double_conv.3.bias : torch.Size([64])\n",
      "module.up1.conv.1.double_conv.4.weight : torch.Size([64])\n",
      "module.up1.conv.1.double_conv.4.bias : torch.Size([64])\n",
      "module.outc.weight : torch.Size([1, 64, 1, 1])\n",
      "module.outc.bias : torch.Size([1])\n",
      "dataset info\n",
      "total: 572, train_size: 457, validate_size: 115\n"
     ]
    },
    {
     "name": "stderr",
     "output_type": "stream",
     "text": [
      "\u001b[34m\u001b[1mwandb\u001b[0m: Currently logged in as: \u001b[33mtorwayland\u001b[0m (\u001b[33mcupes-wangtao\u001b[0m). Use \u001b[1m`wandb login --relogin`\u001b[0m to force relogin\n",
      "\u001b[34m\u001b[1mwandb\u001b[0m: Tracking run with wandb version 0.16.4\n",
      "\u001b[34m\u001b[1mwandb\u001b[0m: Run data is saved locally in \u001b[35m\u001b[1m/kaggle/working/wandb/run-20240318_015316-ws103bbz\u001b[0m\n",
      "\u001b[34m\u001b[1mwandb\u001b[0m: Run \u001b[1m`wandb offline`\u001b[0m to turn off syncing.\n",
      "\u001b[34m\u001b[1mwandb\u001b[0m: Syncing run \u001b[33mfallen-thunder-9\u001b[0m\n",
      "\u001b[34m\u001b[1mwandb\u001b[0m: ⭐️ View project at \u001b[34m\u001b[4mhttps://wandb.ai/cupes-wangtao/UNet\u001b[0m\n",
      "\u001b[34m\u001b[1mwandb\u001b[0m: 🚀 View run at \u001b[34m\u001b[4mhttps://wandb.ai/cupes-wangtao/UNet/runs/ws103bbz\u001b[0m\n",
      "Validation round: 100%|██████████| 115/115 [00:14<00:00,  8.05batch/s, IoU Score=0.153, Validation bce loss=15.7, dice loss=0.735]\n",
      "Epoch 1/1000: 100%|██████████| 457/457 [01:20<00:00,  5.66batch/s, loss (batch)=0.21]\n",
      "Validation round: 100%|██████████| 115/115 [00:23<00:00,  4.95batch/s, IoU Score=0.161, Validation bce loss=14.8, dice loss=0.723]\n",
      "Epoch 2/1000:   0%|          | 0/457 [00:00<?, ?batch/s]Traceback (most recent call last):\n"
     ]
    },
    {
     "name": "stdout",
     "output_type": "stream",
     "text": [
      "Unexpected exception formatting exception. Falling back to standard exception\n"
     ]
    },
    {
     "name": "stderr",
     "output_type": "stream",
     "text": [
      "\n",
      "Bad file descriptor (src/epoll.cpp:73)\n",
      "Traceback (most recent call last):\n",
      "  File \"/opt/conda/lib/python3.10/site-packages/IPython/core/interactiveshell.py\", line 3553, in run_code\n",
      "    exec(code_obj, self.user_global_ns, self.user_ns)\n",
      "  File \"/tmp/ipykernel_26/3593462026.py\", line 4, in <module>\n",
      "    StarTrain(project=\"UNet\", model=model, epochs=epochs, batch_size=8)\n",
      "  File \"/kaggle/usr/lib/apodatasettrainning/apodatasettrainning.py\", line 462, in StarTrain\n",
      "    train(model, device, project=project, epochs=epochs, batch_size=batch_size)\n",
      "  File \"/kaggle/usr/lib/apodatasettrainning/apodatasettrainning.py\", line 387, in train\n",
      "    for batch in trainloader:\n",
      "  File \"/opt/conda/lib/python3.10/site-packages/torch/utils/data/dataloader.py\", line 630, in __next__\n",
      "    data = self._next_data()\n",
      "  File \"/opt/conda/lib/python3.10/site-packages/torch/utils/data/dataloader.py\", line 1328, in _next_data\n",
      "    idx, data = self._get_data()\n",
      "  File \"/opt/conda/lib/python3.10/site-packages/torch/utils/data/dataloader.py\", line 1294, in _get_data\n",
      "    success, data = self._try_get_data()\n",
      "  File \"/opt/conda/lib/python3.10/site-packages/torch/utils/data/dataloader.py\", line 1132, in _try_get_data\n",
      "    data = self._data_queue.get(timeout=timeout)\n",
      "  File \"/opt/conda/lib/python3.10/multiprocessing/queues.py\", line 122, in get\n",
      "    return _ForkingPickler.loads(res)\n",
      "  File \"/opt/conda/lib/python3.10/site-packages/torch/multiprocessing/reductions.py\", line 360, in rebuild_storage_fd\n",
      "    storage = cls._new_shared_fd_cpu(fd, size)\n",
      "RuntimeError: unable to resize file <filename not specified> to the right size: Invalid argument (22)\n",
      "\n",
      "During handling of the above exception, another exception occurred:\n",
      "\n",
      "Traceback (most recent call last):\n",
      "  File \"/opt/conda/lib/python3.10/site-packages/IPython/core/interactiveshell.py\", line 2144, in showtraceback\n",
      "    stb = self.InteractiveTB.structured_traceback(\n",
      "  File \"/opt/conda/lib/python3.10/site-packages/IPython/core/ultratb.py\", line 1435, in structured_traceback\n",
      "    return FormattedTB.structured_traceback(\n",
      "  File \"/opt/conda/lib/python3.10/site-packages/IPython/core/ultratb.py\", line 1326, in structured_traceback\n",
      "    return VerboseTB.structured_traceback(\n",
      "  File \"/opt/conda/lib/python3.10/site-packages/IPython/core/ultratb.py\", line 1173, in structured_traceback\n",
      "    formatted_exception = self.format_exception_as_a_whole(etype, evalue, etb, number_of_lines_of_context,\n",
      "  File \"/opt/conda/lib/python3.10/site-packages/IPython/core/ultratb.py\", line 1063, in format_exception_as_a_whole\n",
      "    self.get_records(etb, number_of_lines_of_context, tb_offset) if etb else []\n",
      "  File \"/opt/conda/lib/python3.10/site-packages/IPython/core/ultratb.py\", line 1131, in get_records\n",
      "    mod = inspect.getmodule(cf.tb_frame)\n",
      "  File \"/opt/conda/lib/python3.10/inspect.py\", line 861, in getmodule\n",
      "    file = getabsfile(object, _filename)\n",
      "  File \"/opt/conda/lib/python3.10/inspect.py\", line 844, in getabsfile\n",
      "    _filename = getsourcefile(object) or getfile(object)\n",
      "  File \"/opt/conda/lib/python3.10/inspect.py\", line 829, in getsourcefile\n",
      "    module = getmodule(object, filename)\n",
      "  File \"/opt/conda/lib/python3.10/inspect.py\", line 869, in getmodule\n",
      "    if ismodule(module) and hasattr(module, '__file__'):\n",
      "  File \"/opt/conda/lib/python3.10/site-packages/torch/utils/data/_utils/signal_handling.py\", line 66, in handler\n",
      "    _error_if_any_worker_fails()\n",
      "RuntimeError: DataLoader worker (pid 337) is killed by signal: Aborted. \n"
     ]
    }
   ],
   "source": [
    "epochs=1000\n",
    "model = UNet(input_channels=3, num_classes=1, bilinear=False)\n",
    "\n",
    "StarTrain(project=\"UNet\", model=model, epochs=epochs, batch_size=8)"
   ]
  }
 ],
 "metadata": {
  "kaggle": {
   "accelerator": "nvidiaTeslaT4",
   "dataSources": [
    {
     "datasetId": 3664633,
     "sourceId": 6361775,
     "sourceType": "datasetVersion"
    },
    {
     "sourceId": 167533713,
     "sourceType": "kernelVersion"
    }
   ],
   "isGpuEnabled": true,
   "isInternetEnabled": true,
   "language": "python",
   "sourceType": "notebook"
  },
  "kernelspec": {
   "display_name": "Python 3",
   "language": "python",
   "name": "python3"
  },
  "language_info": {
   "codemirror_mode": {
    "name": "ipython",
    "version": 3
   },
   "file_extension": ".py",
   "mimetype": "text/x-python",
   "name": "python",
   "nbconvert_exporter": "python",
   "pygments_lexer": "ipython3",
   "version": "3.10.13"
  },
  "papermill": {
   "default_parameters": {},
   "duration": 224.366552,
   "end_time": "2024-03-18T01:56:02.269664",
   "environment_variables": {},
   "exception": true,
   "input_path": "__notebook__.ipynb",
   "output_path": "__notebook__.ipynb",
   "parameters": {},
   "start_time": "2024-03-18T01:52:17.903112",
   "version": "2.5.0"
  }
 },
 "nbformat": 4,
 "nbformat_minor": 5
}
