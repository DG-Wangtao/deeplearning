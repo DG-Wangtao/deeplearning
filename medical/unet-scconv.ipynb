{
 "cells": [
  {
   "cell_type": "markdown",
   "id": "bc344617",
   "metadata": {
    "papermill": {
     "duration": 0.007329,
     "end_time": "2023-12-21T07:55:46.333897",
     "exception": false,
     "start_time": "2023-12-21T07:55:46.326568",
     "status": "completed"
    },
    "tags": []
   },
   "source": [
    "# 安装依赖"
   ]
  },
  {
   "cell_type": "markdown",
   "id": "d2981e3b",
   "metadata": {
    "papermill": {
     "duration": 0.006311,
     "end_time": "2023-12-21T07:55:46.347074",
     "exception": false,
     "start_time": "2023-12-21T07:55:46.340763",
     "status": "completed"
    },
    "tags": []
   },
   "source": [
    "- https://github.com/milesial/Pytorch-UNet/tree/master\n",
    "- https://github.com/njcronin/DL_Track\n",
    "- https://github.com/njcronin/DL_Track/blob/master/Labelling_Instructions.pdf"
   ]
  },
  {
   "cell_type": "code",
   "execution_count": 1,
   "id": "58715bb2",
   "metadata": {
    "execution": {
     "iopub.execute_input": "2023-12-21T07:55:46.362373Z",
     "iopub.status.busy": "2023-12-21T07:55:46.361447Z",
     "iopub.status.idle": "2023-12-21T07:56:03.150604Z",
     "shell.execute_reply": "2023-12-21T07:56:03.149396Z"
    },
    "papermill": {
     "duration": 16.799708,
     "end_time": "2023-12-21T07:56:03.153341",
     "exception": false,
     "start_time": "2023-12-21T07:55:46.353633",
     "status": "completed"
    },
    "tags": []
   },
   "outputs": [
    {
     "name": "stdout",
     "output_type": "stream",
     "text": [
      "Requirement already satisfied: scipy in /opt/conda/lib/python3.10/site-packages (1.11.1)\r\n",
      "Requirement already satisfied: scikit-image in /opt/conda/lib/python3.10/site-packages (0.21.0)\r\n",
      "Requirement already satisfied: torch in /opt/conda/lib/python3.10/site-packages (2.0.0)\r\n",
      "Requirement already satisfied: torchvision in /opt/conda/lib/python3.10/site-packages (0.15.1)\r\n",
      "Collecting pathlib\r\n",
      "  Downloading pathlib-1.0.1-py3-none-any.whl (14 kB)\r\n",
      "Requirement already satisfied: wandb in /opt/conda/lib/python3.10/site-packages (0.15.5)\r\n",
      "Collecting segmentation-models-pytorch\r\n",
      "  Downloading segmentation_models_pytorch-0.3.3-py3-none-any.whl (106 kB)\r\n",
      "\u001b[2K     \u001b[90m━━━━━━━━━━━━━━━━━━━━━━━━━━━━━━━━━━━━━━━\u001b[0m \u001b[32m106.7/106.7 kB\u001b[0m \u001b[31m7.4 MB/s\u001b[0m eta \u001b[36m0:00:00\u001b[0m\r\n",
      "\u001b[?25hRequirement already satisfied: numpy<1.28.0,>=1.21.6 in /opt/conda/lib/python3.10/site-packages (from scipy) (1.23.5)\r\n",
      "Requirement already satisfied: networkx>=2.8 in /opt/conda/lib/python3.10/site-packages (from scikit-image) (3.1)\r\n",
      "Requirement already satisfied: pillow>=9.0.1 in /opt/conda/lib/python3.10/site-packages (from scikit-image) (9.5.0)\r\n",
      "Requirement already satisfied: imageio>=2.27 in /opt/conda/lib/python3.10/site-packages (from scikit-image) (2.31.1)\r\n",
      "Requirement already satisfied: tifffile>=2022.8.12 in /opt/conda/lib/python3.10/site-packages (from scikit-image) (2023.4.12)\r\n",
      "Requirement already satisfied: PyWavelets>=1.1.1 in /opt/conda/lib/python3.10/site-packages (from scikit-image) (1.4.1)\r\n",
      "Requirement already satisfied: packaging>=21 in /opt/conda/lib/python3.10/site-packages (from scikit-image) (21.3)\r\n",
      "Requirement already satisfied: lazy_loader>=0.2 in /opt/conda/lib/python3.10/site-packages (from scikit-image) (0.2)\r\n",
      "Requirement already satisfied: filelock in /opt/conda/lib/python3.10/site-packages (from torch) (3.12.2)\r\n",
      "Requirement already satisfied: typing-extensions in /opt/conda/lib/python3.10/site-packages (from torch) (4.6.3)\r\n",
      "Requirement already satisfied: sympy in /opt/conda/lib/python3.10/site-packages (from torch) (1.12)\r\n",
      "Requirement already satisfied: jinja2 in /opt/conda/lib/python3.10/site-packages (from torch) (3.1.2)\r\n",
      "Requirement already satisfied: requests in /opt/conda/lib/python3.10/site-packages (from torchvision) (2.31.0)\r\n",
      "Requirement already satisfied: Click!=8.0.0,>=7.1 in /opt/conda/lib/python3.10/site-packages (from wandb) (8.1.3)\r\n",
      "Requirement already satisfied: GitPython!=3.1.29,>=1.0.0 in /opt/conda/lib/python3.10/site-packages (from wandb) (3.1.31)\r\n",
      "Requirement already satisfied: psutil>=5.0.0 in /opt/conda/lib/python3.10/site-packages (from wandb) (5.9.3)\r\n",
      "Requirement already satisfied: sentry-sdk>=1.0.0 in /opt/conda/lib/python3.10/site-packages (from wandb) (1.27.1)\r\n",
      "Requirement already satisfied: docker-pycreds>=0.4.0 in /opt/conda/lib/python3.10/site-packages (from wandb) (0.4.0)\r\n",
      "Requirement already satisfied: PyYAML in /opt/conda/lib/python3.10/site-packages (from wandb) (6.0)\r\n",
      "Requirement already satisfied: pathtools in /opt/conda/lib/python3.10/site-packages (from wandb) (0.1.2)\r\n",
      "Requirement already satisfied: setproctitle in /opt/conda/lib/python3.10/site-packages (from wandb) (1.3.2)\r\n",
      "Requirement already satisfied: setuptools in /opt/conda/lib/python3.10/site-packages (from wandb) (59.8.0)\r\n",
      "Requirement already satisfied: appdirs>=1.4.3 in /opt/conda/lib/python3.10/site-packages (from wandb) (1.4.4)\r\n",
      "Requirement already satisfied: protobuf!=4.21.0,<5,>=3.19.0 in /opt/conda/lib/python3.10/site-packages (from wandb) (3.20.3)\r\n",
      "Collecting pretrainedmodels==0.7.4 (from segmentation-models-pytorch)\r\n",
      "  Downloading pretrainedmodels-0.7.4.tar.gz (58 kB)\r\n",
      "\u001b[2K     \u001b[90m━━━━━━━━━━━━━━━━━━━━━━━━━━━━━━━━━━━━━━━━\u001b[0m \u001b[32m58.8/58.8 kB\u001b[0m \u001b[31m6.3 MB/s\u001b[0m eta \u001b[36m0:00:00\u001b[0m\r\n",
      "\u001b[?25h  Preparing metadata (setup.py) ... \u001b[?25l-\b \b\\\b \bdone\r\n",
      "\u001b[?25hCollecting efficientnet-pytorch==0.7.1 (from segmentation-models-pytorch)\r\n",
      "  Downloading efficientnet_pytorch-0.7.1.tar.gz (21 kB)\r\n",
      "  Preparing metadata (setup.py) ... \u001b[?25l-\b \bdone\r\n",
      "\u001b[?25hRequirement already satisfied: timm==0.9.2 in /opt/conda/lib/python3.10/site-packages (from segmentation-models-pytorch) (0.9.2)\r\n",
      "Requirement already satisfied: tqdm in /opt/conda/lib/python3.10/site-packages (from segmentation-models-pytorch) (4.65.0)\r\n",
      "Collecting munch (from pretrainedmodels==0.7.4->segmentation-models-pytorch)\r\n",
      "  Downloading munch-4.0.0-py2.py3-none-any.whl (9.9 kB)\r\n",
      "Requirement already satisfied: huggingface-hub in /opt/conda/lib/python3.10/site-packages (from timm==0.9.2->segmentation-models-pytorch) (0.16.4)\r\n",
      "Requirement already satisfied: safetensors in /opt/conda/lib/python3.10/site-packages (from timm==0.9.2->segmentation-models-pytorch) (0.3.1)\r\n",
      "Requirement already satisfied: six>=1.4.0 in /opt/conda/lib/python3.10/site-packages (from docker-pycreds>=0.4.0->wandb) (1.16.0)\r\n",
      "Requirement already satisfied: gitdb<5,>=4.0.1 in /opt/conda/lib/python3.10/site-packages (from GitPython!=3.1.29,>=1.0.0->wandb) (4.0.10)\r\n",
      "Requirement already satisfied: pyparsing!=3.0.5,>=2.0.2 in /opt/conda/lib/python3.10/site-packages (from packaging>=21->scikit-image) (3.0.9)\r\n",
      "Requirement already satisfied: charset-normalizer<4,>=2 in /opt/conda/lib/python3.10/site-packages (from requests->torchvision) (3.1.0)\r\n",
      "Requirement already satisfied: idna<4,>=2.5 in /opt/conda/lib/python3.10/site-packages (from requests->torchvision) (3.4)\r\n",
      "Requirement already satisfied: urllib3<3,>=1.21.1 in /opt/conda/lib/python3.10/site-packages (from requests->torchvision) (1.26.15)\r\n",
      "Requirement already satisfied: certifi>=2017.4.17 in /opt/conda/lib/python3.10/site-packages (from requests->torchvision) (2023.5.7)\r\n",
      "Requirement already satisfied: MarkupSafe>=2.0 in /opt/conda/lib/python3.10/site-packages (from jinja2->torch) (2.1.3)\r\n",
      "Requirement already satisfied: mpmath>=0.19 in /opt/conda/lib/python3.10/site-packages (from sympy->torch) (1.3.0)\r\n",
      "Requirement already satisfied: smmap<6,>=3.0.1 in /opt/conda/lib/python3.10/site-packages (from gitdb<5,>=4.0.1->GitPython!=3.1.29,>=1.0.0->wandb) (5.0.0)\r\n",
      "Requirement already satisfied: fsspec in /opt/conda/lib/python3.10/site-packages (from huggingface-hub->timm==0.9.2->segmentation-models-pytorch) (2023.6.0)\r\n",
      "Building wheels for collected packages: efficientnet-pytorch, pretrainedmodels\r\n",
      "  Building wheel for efficientnet-pytorch (setup.py) ... \u001b[?25l-\b \b\\\b \bdone\r\n",
      "\u001b[?25h  Created wheel for efficientnet-pytorch: filename=efficientnet_pytorch-0.7.1-py3-none-any.whl size=16446 sha256=32a1db2078343fc24dc935c2121ab8ba5d0a2487ad036567559496706d8567c3\r\n",
      "  Stored in directory: /root/.cache/pip/wheels/03/3f/e9/911b1bc46869644912bda90a56bcf7b960f20b5187feea3baf\r\n",
      "  Building wheel for pretrainedmodels (setup.py) ... \u001b[?25l-\b \b\\\b \b|\b \bdone\r\n",
      "\u001b[?25h  Created wheel for pretrainedmodels: filename=pretrainedmodels-0.7.4-py3-none-any.whl size=60966 sha256=a831bfecc4159824f9a807ebeef5207b6e00789d0d76d312b862eb4f3458f279\r\n",
      "  Stored in directory: /root/.cache/pip/wheels/35/cb/a5/8f534c60142835bfc889f9a482e4a67e0b817032d9c6883b64\r\n",
      "Successfully built efficientnet-pytorch pretrainedmodels\r\n",
      "Installing collected packages: pathlib, munch, efficientnet-pytorch, pretrainedmodels, segmentation-models-pytorch\r\n",
      "Successfully installed efficientnet-pytorch-0.7.1 munch-4.0.0 pathlib-1.0.1 pretrainedmodels-0.7.4 segmentation-models-pytorch-0.3.3\r\n"
     ]
    }
   ],
   "source": [
    "!pip install scipy scikit-image torch torchvision pathlib wandb segmentation-models-pytorch"
   ]
  },
  {
   "cell_type": "markdown",
   "id": "d873e78d",
   "metadata": {
    "papermill": {
     "duration": 0.009299,
     "end_time": "2023-12-21T07:56:03.173483",
     "exception": false,
     "start_time": "2023-12-21T07:56:03.164184",
     "status": "completed"
    },
    "tags": []
   },
   "source": [
    "# 引用依赖包"
   ]
  },
  {
   "cell_type": "code",
   "execution_count": 2,
   "id": "f013a3ee",
   "metadata": {
    "execution": {
     "iopub.execute_input": "2023-12-21T07:56:03.194267Z",
     "iopub.status.busy": "2023-12-21T07:56:03.193329Z",
     "iopub.status.idle": "2023-12-21T07:56:03.203704Z",
     "shell.execute_reply": "2023-12-21T07:56:03.202911Z"
    },
    "papermill": {
     "duration": 0.022937,
     "end_time": "2023-12-21T07:56:03.205694",
     "exception": false,
     "start_time": "2023-12-21T07:56:03.182757",
     "status": "completed"
    },
    "tags": []
   },
   "outputs": [],
   "source": [
    "%config Completer.use_jedi = False"
   ]
  },
  {
   "cell_type": "code",
   "execution_count": 3,
   "id": "f249fe4b",
   "metadata": {
    "execution": {
     "iopub.execute_input": "2023-12-21T07:56:03.225214Z",
     "iopub.status.busy": "2023-12-21T07:56:03.224944Z",
     "iopub.status.idle": "2023-12-21T07:56:07.591252Z",
     "shell.execute_reply": "2023-12-21T07:56:07.590477Z"
    },
    "papermill": {
     "duration": 4.378784,
     "end_time": "2023-12-21T07:56:07.593676",
     "exception": false,
     "start_time": "2023-12-21T07:56:03.214892",
     "status": "completed"
    },
    "tags": []
   },
   "outputs": [],
   "source": [
    "import os\n",
    "import random\n",
    "import pandas as pd\n",
    "import numpy as np\n",
    "import matplotlib.pyplot as plt\n",
    "plt.style.use(\"ggplot\")\n",
    "%matplotlib inline\n",
    "\n",
    "import torch\n",
    "import torch.nn as nn\n",
    "from torchvision import models, transforms\n",
    "from torch.nn.functional import relu, pad\n",
    "from torch.utils.data import Dataset, DataLoader, random_split\n",
    "\n",
    "from PIL import Image\n",
    "from typing import Tuple\n",
    "from pathlib import Path\n",
    "\n",
    "import torch\n",
    "from torch import nn, Tensor\n",
    "import torch.nn.functional as F\n",
    "import torch.optim as optim\n",
    "\n",
    "from tqdm import tqdm\n",
    "import wandb\n",
    "import logging"
   ]
  },
  {
   "cell_type": "markdown",
   "id": "c00bf193",
   "metadata": {
    "papermill": {
     "duration": 0.008976,
     "end_time": "2023-12-21T07:56:07.612354",
     "exception": false,
     "start_time": "2023-12-21T07:56:07.603378",
     "status": "completed"
    },
    "tags": []
   },
   "source": [
    "# 设置wandb账号¶"
   ]
  },
  {
   "cell_type": "code",
   "execution_count": 4,
   "id": "d0c0fc93",
   "metadata": {
    "execution": {
     "iopub.execute_input": "2023-12-21T07:56:07.632191Z",
     "iopub.status.busy": "2023-12-21T07:56:07.631853Z",
     "iopub.status.idle": "2023-12-21T07:56:11.990466Z",
     "shell.execute_reply": "2023-12-21T07:56:11.989343Z"
    },
    "papermill": {
     "duration": 4.371499,
     "end_time": "2023-12-21T07:56:11.993041",
     "exception": false,
     "start_time": "2023-12-21T07:56:07.621542",
     "status": "completed"
    },
    "tags": []
   },
   "outputs": [
    {
     "name": "stdout",
     "output_type": "stream",
     "text": [
      "\u001b[34m\u001b[1mwandb\u001b[0m: Currently logged in as: \u001b[33mtorwayland\u001b[0m (\u001b[33mcupes-wangtao\u001b[0m). Use \u001b[1m`wandb login --relogin`\u001b[0m to force relogin\r\n"
     ]
    }
   ],
   "source": [
    "os.environ['WANDB_API_KEY']='d561f1229ba7c4e207ca34042f29a43552a7447e'\n",
    "!wandb login"
   ]
  },
  {
   "cell_type": "markdown",
   "id": "39364717",
   "metadata": {
    "papermill": {
     "duration": 0.008924,
     "end_time": "2023-12-21T07:56:12.011512",
     "exception": false,
     "start_time": "2023-12-21T07:56:12.002588",
     "status": "completed"
    },
    "tags": []
   },
   "source": [
    "# ScConv¶"
   ]
  },
  {
   "cell_type": "code",
   "execution_count": 5,
   "id": "dec3b414",
   "metadata": {
    "execution": {
     "iopub.execute_input": "2023-12-21T07:56:12.031372Z",
     "iopub.status.busy": "2023-12-21T07:56:12.031035Z",
     "iopub.status.idle": "2023-12-21T07:56:12.061128Z",
     "shell.execute_reply": "2023-12-21T07:56:12.060420Z"
    },
    "papermill": {
     "duration": 0.042671,
     "end_time": "2023-12-21T07:56:12.063176",
     "exception": false,
     "start_time": "2023-12-21T07:56:12.020505",
     "status": "completed"
    },
    "tags": []
   },
   "outputs": [],
   "source": [
    "class GroupNorm2d(nn.Module):\n",
    "\n",
    "    def __init__(self, n_groups: int = 16, n_channels: int = 16, eps: float = 1e-10):\n",
    "        super(GroupNorm2d, self).__init__()  \n",
    "        print(\"n_channels: \", n_channels, \"n_groups: \", n_groups)\n",
    "        assert n_channels % n_groups == 0 \n",
    "        self.n_groups = n_groups  \n",
    "        self.gamma = nn.Parameter(torch.randn(n_channels, 1, 1))  # learnable gamma\n",
    "        self.beta = nn.Parameter(torch.zeros(n_channels, 1, 1))  # learnable beta\n",
    "        self.eps = eps \n",
    "\n",
    "    def forward(self, x):\n",
    "        N, C, H, W = x.size()\n",
    "        x = x.reshape(N, self.n_groups, -1) \n",
    "        mean = x.mean(dim=2, keepdim=True)  \n",
    "        std = x.std(dim=2, keepdim=True)\n",
    "        x = (x - mean) / (std + self.eps) \n",
    "        x = x.reshape(N, C, H, W)  \n",
    "        return x * self.gamma + self.beta  \n",
    "\n",
    "\n",
    "# Spatial and Reconstruct Unit\n",
    "class SRU(nn.Module):\n",
    "\n",
    "    def __init__(\n",
    "            self,\n",
    "            n_channels: int,  # in_channels\n",
    "            n_groups: int = 16,  # 16\n",
    "            gate_treshold: float = 0.5,  # 0.5,\n",
    "            torch_gn:bool = True\n",
    "    ):\n",
    "        super().__init__()  \n",
    "\n",
    "        # initialize GroupNorm2d\n",
    "        self.gn = nn.GroupNorm( num_channels = n_channels, num_groups = n_groups ) if torch_gn else GroupNorm2d(n_channels = n_channels, n_groups = n_groups)\n",
    "        # self.gn = GroupNorm2d(n_groups=n_groups, n_channels=n_channels)\n",
    "        self.gate_treshold = gate_treshold  \n",
    "        self.sigomid = nn.Sigmoid()  \n",
    "\n",
    "    def forward(self, x):\n",
    "        gn_x = self.gn(x) \n",
    "        w_gamma = self.gn.gamma / sum(self.gn.gamma)  # cal gamma weight\n",
    "        reweights = self.sigomid(gn_x * w_gamma)  # importance\n",
    "\n",
    "        info_mask = reweights >= self.gate_treshold\n",
    "        noninfo_mask = reweights < self.gate_treshold\n",
    "        x_1 = info_mask * x  \n",
    "        x_2 = noninfo_mask * x  \n",
    "        x = self.reconstruct(x_1, x_2) \n",
    "        return x\n",
    "\n",
    "    def reconstruct(self, x_1, x_2):\n",
    "        x_11, x_12 = torch.split(x_1, x_1.size(1) // 2, dim=1)\n",
    "        x_21, x_22 = torch.split(x_2, x_2.size(1) // 2, dim=1)\n",
    "        return torch.cat([x_11 + x_22, x_12 + x_21], dim=1)\n",
    "\n",
    "\n",
    "# Channel Reduction Unit\n",
    "class CRU(nn.Module):\n",
    "\n",
    "    def __init__(self, in_channels: int, out_channels: int, kernel_size: int = 3, alpha: float = 1 / 2, squeeze_radio: int = 2, groups: int = 2):\n",
    "        super().__init__()\n",
    "\n",
    "        self.up_channel = up_channel = int(alpha * in_channels)\n",
    "        self.low_channel = low_channel = in_channels - up_channel\n",
    "        self.squeeze1 = nn.Conv2d(up_channel, up_channel // squeeze_radio, kernel_size=1, bias=False)\n",
    "        self.squeeze2 = nn.Conv2d(low_channel, low_channel // squeeze_radio, kernel_size=1, bias=False)\n",
    "\n",
    "        in_ch = up_channel // squeeze_radio\n",
    "        out_ch = out_channels\n",
    "        print(\"out_channels:\", out_channels, \"squeeze_radio: \", squeeze_radio, \"up_channel: \",up_channel,\"in_ch (out_channels // squeeze_radio): \", in_ch, \"out_ch(out_channels):\", out_ch)\n",
    "        \n",
    "        \n",
    "        if in_ch >= 16:\n",
    "            groups = 16\n",
    "    \n",
    "        self.GWC = nn.Conv2d(in_ch, out_channels, kernel_size=kernel_size, stride=1, padding=kernel_size // 2, groups=groups) \n",
    "        self.PWC1 = nn.Conv2d(in_ch, out_channels, kernel_size=1, bias=False)\n",
    "\n",
    "        print(\"in_channels: \", in_channels, \"out_channels: \", out_channels)\n",
    "        print(\"up_channel: \", self.up_channel, \"low_channel: \", self.low_channel)\n",
    "        in_ch = low_channel // squeeze_radio\n",
    "        out_ch = out_channels - low_channel // squeeze_radio\n",
    "        print(\"out_channels:\", out_channels, \"squeeze_radio: \", squeeze_radio, \"low_channel: \",low_channel,\"in_ch (low_channel // squeeze_radio): \", in_ch, \"out_ch(out_channels - low_channel // squeeze_radio):\", out_ch)\n",
    "        self.PWC2 = nn.Conv2d(in_ch, out_ch, kernel_size=1, bias=False) \n",
    "        #print(\"self.PWC2.weight.shape: \",self.PWC2.weight.shape)\n",
    "        self.pool = nn.AdaptiveAvgPool2d(1)  \n",
    "        \n",
    "    def forward(self, x):\n",
    "\n",
    "        up, low = torch.split(x, [self.up_channel, self.low_channel], dim=1)\n",
    "        up, low = self.squeeze1(up), self.squeeze2(low)\n",
    "\n",
    "        y1 = self.GWC(up) + self.PWC1(up)\n",
    "        \n",
    "        #print(\"low: \",low.shape)\n",
    "        pwc2 = self.PWC2(low)\n",
    "        #print(\"pwc2\", pwc2.shape)\n",
    "        y2 = torch.cat([pwc2, low], dim=1)\n",
    "\n",
    "        s1 = self.pool(y1)\n",
    "        s2 = self.pool(y2)\n",
    "        s = torch.cat([s1, s2], dim=1)\n",
    "        beta = F.softmax(s, dim=1)\n",
    "        beta1, beta2 = torch.split(beta, beta.size(1) // 2, dim=1)\n",
    "        y = beta1 * y1 + beta2 * y2\n",
    "        return y\n",
    "\n",
    "\n",
    "# Squeeze and Channel Reduction Convolution\n",
    "class ScConv(nn.Module):\n",
    "\n",
    "    def __init__(self, in_channels: int, out_channels: int, kernel_size: int = 3, stride: int = 1, padding: int = 1, n_groups: int = 2, gate_treshold: float = 0.5, alpha: float = 1 / 2, squeeze_radio: int = 2, groups: int = 2):\n",
    "        super().__init__()\n",
    "\n",
    "        self.SRU = SRU(in_channels, n_groups=n_groups, gate_treshold=gate_treshold, torch_gn=False) \n",
    "        self.CRU = CRU(in_channels=in_channels, out_channels=out_channels, kernel_size=kernel_size, alpha=alpha, squeeze_radio=squeeze_radio, groups=groups)\n",
    "\n",
    "    def forward(self, x):\n",
    "        x = self.SRU(x)  \n",
    "        x = self.CRU(x) \n",
    "        return x"
   ]
  },
  {
   "cell_type": "markdown",
   "id": "5c8792c8",
   "metadata": {
    "papermill": {
     "duration": 0.009063,
     "end_time": "2023-12-21T07:56:12.081430",
     "exception": false,
     "start_time": "2023-12-21T07:56:12.072367",
     "status": "completed"
    },
    "tags": []
   },
   "source": [
    "## U-Net 网络"
   ]
  },
  {
   "cell_type": "code",
   "execution_count": 6,
   "id": "a073df0b",
   "metadata": {
    "execution": {
     "iopub.execute_input": "2023-12-21T07:56:12.101536Z",
     "iopub.status.busy": "2023-12-21T07:56:12.101252Z",
     "iopub.status.idle": "2023-12-21T07:56:12.130267Z",
     "shell.execute_reply": "2023-12-21T07:56:12.129587Z"
    },
    "papermill": {
     "duration": 0.041405,
     "end_time": "2023-12-21T07:56:12.132134",
     "exception": false,
     "start_time": "2023-12-21T07:56:12.090729",
     "status": "completed"
    },
    "tags": []
   },
   "outputs": [],
   "source": [
    "class DoubleConv(nn.Module):\n",
    "    \"\"\"(convolution => [BN] => ReLU) * 2\"\"\"\n",
    "\n",
    "    def __init__(self, in_channels, out_channels, kernel_size=3):\n",
    "        super(DoubleConv,self).__init__()\n",
    "        self.double_conv = nn.Sequential(\n",
    "            nn.Conv2d(in_channels, out_channels, kernel_size=kernel_size, padding=1),\n",
    "            nn.BatchNorm2d(out_channels),\n",
    "            nn.ReLU(inplace=True),\n",
    "            nn.Conv2d(out_channels, out_channels, kernel_size=kernel_size, padding=1),\n",
    "            nn.BatchNorm2d(out_channels),\n",
    "            nn.ReLU(inplace=True)\n",
    "        )\n",
    "\n",
    "    def forward(self, x):\n",
    "        return self.double_conv(x)\n",
    "\n",
    "\n",
    "class ScDoubleConv(nn.Module):\n",
    "    \"\"\"(convolution => [BN] => ReLU) * 2\"\"\"\n",
    "\n",
    "    def __init__(self, in_channels, out_channels, kernel_size=3):\n",
    "        super(ScDoubleConv,self).__init__()\n",
    "        self.double_conv = nn.Sequential(\n",
    "            ScConv(in_channels, out_channels, kernel_size=kernel_size, padding=1),\n",
    "            nn.BatchNorm2d(out_channels),\n",
    "            nn.ReLU(inplace=True),\n",
    "            ScConv(out_channels, out_channels, kernel_size=kernel_size, padding=1),\n",
    "            nn.BatchNorm2d(out_channels),\n",
    "            nn.ReLU(inplace=True)\n",
    "        )\n",
    "        print(\"in_channels: \", in_channels, \"out_channels: \", out_channels)\n",
    "\n",
    "    def forward(self, x):\n",
    "        return self.double_conv(x)\n",
    "    \n",
    "\n",
    "\n",
    "\n",
    "class Down(nn.Module):\n",
    "    \"\"\"   \"\"\"\n",
    "\n",
    "    def __init__(self, in_channels, out_channels, kernel_size=3, dropout = 0.1):\n",
    "        super(Down, self).__init__()\n",
    "        self.double_conv = DoubleConv( in_channels, out_channels, kernel_size)\n",
    "        self.maxpool_conv = nn.Sequential(\n",
    "            nn.MaxPool2d(2),\n",
    "            nn.Dropout2d(p=dropout),\n",
    "        )\n",
    "\n",
    "    def forward(self, x):\n",
    "        skip_out = self.double_conv(x)\n",
    "        down_output = self.maxpool_conv(skip_out)\n",
    "        return (down_output, skip_out)\n",
    "    \n",
    "    \n",
    "    \n",
    "class ScDown(nn.Module):\n",
    "    \"\"\"Downscaling with maxpool then double conv\"\"\"\n",
    "\n",
    "    def __init__(self, in_channels, out_channels, kernel_size=3, dropout = 0.1):\n",
    "        super(ScDown, self).__init__()\n",
    "        self.double_conv = ScDoubleConv(in_channels, out_channels, kernel_size)\n",
    "        self.maxpool_conv = nn.Sequential(\n",
    "            nn.MaxPool2d(2),\n",
    "            nn.Dropout2d(p=dropout),\n",
    "        )\n",
    "\n",
    "    def forward(self, x):\n",
    "        skip_out = self.double_conv(x)\n",
    "        down_output = self.maxpool_conv(skip_out)\n",
    "        return (down_output, skip_out)\n",
    "\n",
    "\n",
    "    \n",
    "class Up(nn.Module):\n",
    "    \"\"\"Upscaling then double conv\"\"\"\n",
    "\n",
    "    def __init__(self, in_channels, out_channels, kernel_size = 2, dropout = 0.1, stride = 2):\n",
    "        super().__init__()\n",
    "        \n",
    "        self.up = nn.ConvTranspose2d(in_channels, out_channels, kernel_size = kernel_size, stride = stride)\n",
    "        \n",
    "        self.conv = nn.Sequential(\n",
    "            nn.Dropout2d(p=dropout),\n",
    "            DoubleConv(in_channels, out_channels)\n",
    "        )\n",
    "\n",
    "    def forward(self, x1, x2):\n",
    "        x = self.up(x1)\n",
    "        x = torch.cat([x, x2], dim = 1)\n",
    "        return self.conv(x)\n",
    "    \n",
    "\n",
    "class ScUp(nn.Module):\n",
    "    \"\"\"Upscaling then double conv\"\"\"\n",
    "\n",
    "    def __init__(self, in_channels, out_channels, kernel_size = 2, dropout = 0.1, stride = 2):\n",
    "        super().__init__()\n",
    "        \n",
    "        self.up = nn.ConvTranspose2d(in_channels, out_channels, kernel_size = kernel_size, stride = stride)\n",
    "        \n",
    "        self.conv = nn.Sequential(\n",
    "            nn.Dropout2d(p=dropout),\n",
    "            ScDoubleConv(in_channels, out_channels)\n",
    "        )\n",
    "\n",
    "    def forward(self, x1, x2):\n",
    "        x = self.up(x1)\n",
    "        x = torch.cat([x, x2], dim = 1)\n",
    "        return self.conv(x)\n",
    "    \n",
    "\n",
    "\n",
    "class UNet(nn.Module):\n",
    "    def __init__(self, n_channels, n_classes, n_filters = 64, bilinear=False):\n",
    "        super(UNet, self).__init__()\n",
    "        self.n_classes = n_classes\n",
    "        self.n_channels = n_channels\n",
    "        kernel_size = 3\n",
    "        dropout = 0.25\n",
    "\n",
    "        self.down1 = Down(n_channels, n_filters, kernel_size, dropout)\n",
    "        self.down2 = ScDown(n_filters, n_filters * 2, kernel_size, dropout)\n",
    "        self.down3 = ScDown(n_filters * 2, n_filters * 4, kernel_size, dropout)\n",
    "        self.down4 = ScDown(n_filters * 4, n_filters * 8, kernel_size, dropout)\n",
    "        \n",
    "        self.bottle_conv = ScDoubleConv(n_filters * 8, n_filters * 16, kernel_size)\n",
    "        \n",
    "        kernel_size = kernel_size - 1\n",
    "        self.up4 = ScUp(n_filters * 16, n_filters * 8, kernel_size, dropout)\n",
    "        self.up3 = ScUp(n_filters * 8, n_filters * 4, kernel_size, dropout)\n",
    "        self.up2 = ScUp(n_filters * 4, n_filters * 2, kernel_size, dropout)\n",
    "        self.up1 = ScUp(n_filters * 2, n_filters, kernel_size, dropout)\n",
    "        \n",
    "        self.outc = nn.Conv2d(n_filters, n_classes, kernel_size=1)\n",
    "        \n",
    "\n",
    "    def forward(self, x):\n",
    "        \n",
    "        x, skip1 = self.down1(x)\n",
    "        x, skip2 = self.down2(x)\n",
    "        x, skip3 = self.down3(x)\n",
    "        x, skip4 = self.down4(x)\n",
    "        \n",
    "        x = self.bottle_conv(x)\n",
    "        \n",
    "        x = self.up4(x, skip4)\n",
    "        x = self.up3(x, skip3)\n",
    "        x = self.up2(x, skip2)\n",
    "        x = self.up1(x, skip1)\n",
    "        \n",
    "        logits = self.outc(x)\n",
    "        return logits\n",
    "\n",
    "    def use_checkpointing(self):\n",
    "        self.down1 = torch.utils.checkpoint(self.down1)\n",
    "        self.down2 = torch.utils.checkpoint(self.down2)\n",
    "        self.down3 = torch.utils.checkpoint(self.down3)\n",
    "        self.down4 = torch.utils.checkpoint(self.down4)\n",
    "        self.bottle_conv = torch.utils.checkpoint(self.bottle_conv)\n",
    "        self.up1 = torch.utils.checkpoint(self.up1)\n",
    "        self.up2 = torch.utils.checkpoint(self.up2)\n",
    "        self.up3 = torch.utils.checkpoint(self.up3)\n",
    "        self.up4 = torch.utils.checkpoint(self.up4)\n",
    "        self.outc = torch.utils.checkpoint(self.outc)"
   ]
  },
  {
   "cell_type": "markdown",
   "id": "c61c53ce",
   "metadata": {
    "papermill": {
     "duration": 0.008967,
     "end_time": "2023-12-21T07:56:12.150245",
     "exception": false,
     "start_time": "2023-12-21T07:56:12.141278",
     "status": "completed"
    },
    "tags": []
   },
   "source": [
    "# 定义数据集加载器"
   ]
  },
  {
   "cell_type": "code",
   "execution_count": 7,
   "id": "31b9e120",
   "metadata": {
    "execution": {
     "iopub.execute_input": "2023-12-21T07:56:12.169854Z",
     "iopub.status.busy": "2023-12-21T07:56:12.169359Z",
     "iopub.status.idle": "2023-12-21T07:56:12.179520Z",
     "shell.execute_reply": "2023-12-21T07:56:12.178695Z"
    },
    "papermill": {
     "duration": 0.022076,
     "end_time": "2023-12-21T07:56:12.181373",
     "exception": false,
     "start_time": "2023-12-21T07:56:12.159297",
     "status": "completed"
    },
    "tags": []
   },
   "outputs": [],
   "source": [
    "# TODO: image和mask名称不一样时跳过\n",
    "class APODataSet(Dataset):\n",
    "    # 格式不对的异常数据\n",
    "    invalid_img = [10, 184, 185]\n",
    "    def __init__(self, img_dir, mask_dir: str, size) -> None:\n",
    "        # 获取所有图片路径\n",
    "        self.img_paths = list(Path(img_dir).glob(\"*\"))\n",
    "        self.mask_paths = list(Path(mask_dir).glob(\"*\"))\n",
    "        for idx in self.invalid_img:\n",
    "            del self.img_paths[idx]\n",
    "            del self.mask_paths[idx]\n",
    "        \n",
    "        \n",
    "        # 设置 transforms\n",
    "        self.transform = transforms.Compose([transforms.Resize(size), transforms.ToTensor()])\n",
    "#         self.transform = transforms.Compose([transforms.PILToTensor()])\n",
    "\n",
    "    # 使用函数加载原始图像\n",
    "    def load_orig_image(self, index: int) -> Image.Image:\n",
    "        \"Opens an image via a path and returns it.\"\n",
    "        image_path = self.img_paths[index]\n",
    "        return Image.open(image_path) \n",
    "    \n",
    "    # 使用函数加载tmask图像\n",
    "    def load_mask_image(self, index: int) -> Image.Image:\n",
    "        \"Opens an image via a path and returns it.\"\n",
    "        image_path = self.mask_paths[index]\n",
    "        return Image.open(image_path) \n",
    "\n",
    "    #  重写 __len__() 方法 (optional but recommended for subclasses of torch.utils.data.Dataset)\n",
    "    def __len__(self) -> int:\n",
    "        \"Returns the total number of samples.\"\n",
    "        return len(self.img_paths)\n",
    "\n",
    "    # 重写 __getitem__() 方法 (required for subclasses of torch.utils.data.Dataset)\n",
    "    def __getitem__(self, index: int) -> Tuple[torch.Tensor, torch.Tensor]:\n",
    "        \"Returns one sample of data, image and mask (X, y).\"\n",
    "        orig_img = self.load_orig_image(index)\n",
    "        mask_img = self.load_mask_image(index)\n",
    "        \n",
    "        orig_img = self.transform(orig_img)\n",
    "        mask_img = self.transform(mask_img)\n",
    "#         mask_img = mask_img[0]\n",
    "#         if orig_img.size()[0] != 3:\n",
    "#             print(\"{}: orig_img size: {}\".format(index,orig_img.size()))\n",
    "#             return None\n",
    "        # return data, mask (X, y)\n",
    "        return orig_img, mask_img\n"
   ]
  },
  {
   "cell_type": "markdown",
   "id": "2eabc018",
   "metadata": {
    "papermill": {
     "duration": 0.009297,
     "end_time": "2023-12-21T07:56:12.199667",
     "exception": false,
     "start_time": "2023-12-21T07:56:12.190370",
     "status": "completed"
    },
    "tags": []
   },
   "source": [
    "# 加载数据集"
   ]
  },
  {
   "cell_type": "code",
   "execution_count": 8,
   "id": "c56c182d",
   "metadata": {
    "execution": {
     "iopub.execute_input": "2023-12-21T07:56:12.220000Z",
     "iopub.status.busy": "2023-12-21T07:56:12.219206Z",
     "iopub.status.idle": "2023-12-21T07:56:12.622438Z",
     "shell.execute_reply": "2023-12-21T07:56:12.621261Z"
    },
    "papermill": {
     "duration": 0.415751,
     "end_time": "2023-12-21T07:56:12.624504",
     "exception": false,
     "start_time": "2023-12-21T07:56:12.208753",
     "status": "completed"
    },
    "tags": []
   },
   "outputs": [
    {
     "name": "stdout",
     "output_type": "stream",
     "text": [
      "dataset info\n",
      "total: 571, train_size: 456, validate_size: 115\n"
     ]
    }
   ],
   "source": [
    "dataset =  APODataSet(img_dir = \"/kaggle/input/dltrack/apo_images\",\n",
    "                      mask_dir = \"/kaggle/input/dltrack/apo_masks\",\n",
    "                     size = [512, 512])\n",
    "\n",
    "total = len(dataset)\n",
    "train_size = int(0.8*total)\n",
    "validate_size = total - train_size\n",
    "train_data, validate_data = random_split(dataset, [train_size, validate_size])\n",
    "print(\"dataset info\\ntotal: {}, train_size: {}, validate_size: {}\".format(total, len(train_data), len(validate_data)))\n",
    "\n",
    "trainloader = DataLoader(dataset=train_data,\n",
    "                                     batch_size=2,\n",
    "                                     num_workers=0,\n",
    "                                     shuffle=True)\n",
    "\n",
    "valloader = DataLoader(dataset=validate_data,\n",
    "                                    batch_size=1, \n",
    "                                    num_workers=0, \n",
    "                                    shuffle=False)"
   ]
  },
  {
   "cell_type": "markdown",
   "id": "a98b614f",
   "metadata": {
    "papermill": {
     "duration": 0.009114,
     "end_time": "2023-12-21T07:56:12.643127",
     "exception": false,
     "start_time": "2023-12-21T07:56:12.634013",
     "status": "completed"
    },
    "tags": []
   },
   "source": [
    "## 检查异常图片\n",
    "要把找到的异常数据去除"
   ]
  },
  {
   "cell_type": "code",
   "execution_count": 9,
   "id": "2f385a26",
   "metadata": {
    "execution": {
     "iopub.execute_input": "2023-12-21T07:56:12.663467Z",
     "iopub.status.busy": "2023-12-21T07:56:12.662713Z",
     "iopub.status.idle": "2023-12-21T07:56:27.894618Z",
     "shell.execute_reply": "2023-12-21T07:56:27.893532Z"
    },
    "papermill": {
     "duration": 15.244423,
     "end_time": "2023-12-21T07:56:27.896768",
     "exception": false,
     "start_time": "2023-12-21T07:56:12.652345",
     "status": "completed"
    },
    "tags": []
   },
   "outputs": [
    {
     "name": "stdout",
     "output_type": "stream",
     "text": [
      "[done]\n"
     ]
    }
   ],
   "source": [
    "for index in range(len(dataset)):\n",
    "    orig_img, mask_img = dataset[index]\n",
    "    if orig_img.size()[0] != 3:\n",
    "        print(\"{}: orig_img size: {}\".format(index,orig_img.size()))\n",
    "print(\"[done]\")"
   ]
  },
  {
   "cell_type": "markdown",
   "id": "6eaf801e",
   "metadata": {
    "papermill": {
     "duration": 0.009915,
     "end_time": "2023-12-21T07:56:27.916496",
     "exception": false,
     "start_time": "2023-12-21T07:56:27.906581",
     "status": "completed"
    },
    "tags": []
   },
   "source": [
    "### 随机显示一张原始图片和其对应的标记图片"
   ]
  },
  {
   "cell_type": "code",
   "execution_count": 10,
   "id": "12fbfa97",
   "metadata": {
    "execution": {
     "iopub.execute_input": "2023-12-21T07:56:27.936736Z",
     "iopub.status.busy": "2023-12-21T07:56:27.936403Z",
     "iopub.status.idle": "2023-12-21T07:56:28.581764Z",
     "shell.execute_reply": "2023-12-21T07:56:28.580788Z"
    },
    "papermill": {
     "duration": 0.659114,
     "end_time": "2023-12-21T07:56:28.585173",
     "exception": false,
     "start_time": "2023-12-21T07:56:27.926059",
     "status": "completed"
    },
    "tags": []
   },
   "outputs": [
    {
     "name": "stdout",
     "output_type": "stream",
     "text": [
      "torch.Size([3, 512, 512])\n",
      "showing image of 203: \n"
     ]
    },
    {
     "data": {
      "image/png": "[encoded data removed]",
      "text/plain": [
       "<Figure size 1500x1200 with 2 Axes>"
      ]
     },
     "metadata": {},
     "output_type": "display_data"
    }
   ],
   "source": [
    "idx = random.randint(0, len(dataset))\n",
    "orig_img, mask_img = dataset[idx]\n",
    "print(orig_img.size())\n",
    "\n",
    "transform = transforms.ToPILImage()\n",
    "print(\"showing image of {}: \".format(idx))\n",
    "\n",
    "orig_img = transform(orig_img)\n",
    "mask_img = transform(mask_img)\n",
    "\n",
    "fig, (ax1, ax2) = plt.subplots(1, 2, figsize = (15, 12))\n",
    "\n",
    "ax1.imshow(orig_img)\n",
    "ax1.set_title(\"origin_img\")\n",
    "\n",
    "ax2.imshow(mask_img)\n",
    "ax2.set_title(\"mask_img\")\n",
    "\n",
    "plt.show()"
   ]
  },
  {
   "cell_type": "markdown",
   "id": "141e7139",
   "metadata": {
    "papermill": {
     "duration": 0.011615,
     "end_time": "2023-12-21T07:56:28.608601",
     "exception": false,
     "start_time": "2023-12-21T07:56:28.596986",
     "status": "completed"
    },
    "tags": []
   },
   "source": [
    "# 训练网络"
   ]
  },
  {
   "cell_type": "code",
   "execution_count": 11,
   "id": "a7aa5142",
   "metadata": {
    "execution": {
     "iopub.execute_input": "2023-12-21T07:56:28.633040Z",
     "iopub.status.busy": "2023-12-21T07:56:28.632724Z",
     "iopub.status.idle": "2023-12-21T07:56:28.643339Z",
     "shell.execute_reply": "2023-12-21T07:56:28.642587Z"
    },
    "papermill": {
     "duration": 0.025009,
     "end_time": "2023-12-21T07:56:28.645242",
     "exception": false,
     "start_time": "2023-12-21T07:56:28.620233",
     "status": "completed"
    },
    "tags": []
   },
   "outputs": [],
   "source": [
    "\n",
    "@torch.inference_mode()\n",
    "def evaluate(net, dataloader, device, amp):\n",
    "    net.eval()\n",
    "    num_val_batches = len(dataloader)\n",
    "    dice_score = 0\n",
    "    iou_score = 0\n",
    "\n",
    "    if isinstance(model, nn.DataParallel):\n",
    "        n_classes = net.module.n_classes\n",
    "    else:\n",
    "        n_classes = net.n_classes\n",
    "    criterion = nn.CrossEntropyLoss() if n_classes > 1 else nn.BCEWithLogitsLoss()\n",
    "    dice_loss = smp.losses.DiceLoss(mode='binary', log_loss=True, from_logits = True).cuda()\n",
    "   \n",
    "    \n",
    "    #print(\"Validation round\")\n",
    "    # iterate over the validation set\n",
    "    with torch.autocast(device.type if device.type != 'mps' else 'cpu', enabled=amp):\n",
    "        for batch in tqdm(dataloader, total=num_val_batches, desc='Validation round', unit='batch', position=0 ,leave=True):\n",
    "            image, mask_true = batch\n",
    "\n",
    "            # move images and labels to correct device and type\n",
    "            image = image.to(device=device, dtype=torch.float32, memory_format=torch.channels_last)\n",
    "            mask_true = mask_true.to(device=device, dtype=torch.float32)\n",
    "\n",
    "            # predict the mask\n",
    "            mask_pred = net(image)\n",
    "            dice_score += criterion(mask_pred, mask_true.float())\n",
    "            dice_score += dice_loss(mask_pred, mask_true)\n",
    "            \n",
    "            tp, fp, fn, tn = smp.metrics.get_stats(mask_pred, mask_true.long(), mode='binary', threshold=0.5)\n",
    "            iou_score += smp.metrics.iou_score(tp, fp, fn, tn, reduction=\"micro\")\n",
    "            \n",
    "    dice_loss = (dice_score / max(num_val_batches, 1))\n",
    "    iou_score = (iou_score / max(num_val_batches, 1))\n",
    "    print(\"Validation dice loss: {}, IoU Score {}\".format(dice_loss, iou_score))\n",
    "    return (dice_loss, iou_score)"
   ]
  },
  {
   "cell_type": "code",
   "execution_count": 12,
   "id": "1007a67e",
   "metadata": {
    "execution": {
     "iopub.execute_input": "2023-12-21T07:56:28.669611Z",
     "iopub.status.busy": "2023-12-21T07:56:28.669305Z",
     "iopub.status.idle": "2023-12-21T07:56:30.542453Z",
     "shell.execute_reply": "2023-12-21T07:56:30.541611Z"
    },
    "papermill": {
     "duration": 1.888151,
     "end_time": "2023-12-21T07:56:30.544844",
     "exception": false,
     "start_time": "2023-12-21T07:56:28.656693",
     "status": "completed"
    },
    "tags": []
   },
   "outputs": [],
   "source": [
    "import time\n",
    "import torch.optim as optim\n",
    "import segmentation_models_pytorch as smp\n",
    "\n",
    "n_train = len(train_data)\n",
    "n_val = len(validate_data)\n",
    "\n",
    "\n",
    "def train(model, device, \n",
    "          epochs: int = 60,\n",
    "          learning_rate: float = 1e-5, \n",
    "          weight_decay: float = 1e-8,\n",
    "          momentum: float = 0.999,\n",
    "          batch_size: int = 2,\n",
    "          amp: bool = False,\n",
    "          val_percent: float = 0.1,\n",
    "          gradient_clipping: float = 1.0,\n",
    "          project='U-Net'):\n",
    "    if isinstance(model, nn.DataParallel):\n",
    "        n_classes = model.module.n_classes\n",
    "        n_channels = model.module.n_channels\n",
    "    else:\n",
    "        n_classes = model.n_classes\n",
    "        n_channels = model.n_channels\n",
    "        \n",
    "    # (Initialize logging)\n",
    "    experiment = wandb.init(project=project, resume='allow', anonymous='must')\n",
    "    experiment.config.update(\n",
    "        dict(epochs=epochs, batch_size=batch_size, learning_rate=learning_rate,\n",
    "             val_percent=val_percent, amp=amp)\n",
    "    )\n",
    "\n",
    "    logging.info(f'''Starting training:\n",
    "        Epochs:          {epochs}\n",
    "        Batch size:      {batch_size}\n",
    "        Learning rate:   {learning_rate}\n",
    "        Training size:   {n_train}\n",
    "        Validation size: {n_val}\n",
    "        Device:          {device.type}\n",
    "        Mixed Precision: {amp}\n",
    "    ''')\n",
    "    \n",
    "     # Set up the optimizer, the loss, the learning rate scheduler and the loss scaling for AMP\n",
    "#     optimizer = optim.RMSprop(model.parameters(),\n",
    "#                               lr=learning_rate, weight_decay=weight_decay, momentum=momentum, foreach=True)\n",
    "    optimizer = optim.Adam(model.parameters(), lr=learning_rate)\n",
    "    scheduler = optim.lr_scheduler.CosineAnnealingWarmRestarts(optimizer, T_0=1, T_mult=2, eta_min=5e-5)  # goal: maximize Dice score\n",
    "    grad_scaler = torch.cuda.amp.GradScaler(enabled=amp)\n",
    "    criterion = nn.CrossEntropyLoss().cuda()\n",
    "    dice_loss = smp.losses.DiceLoss(mode='binary')\n",
    "    \n",
    "    global_step = 0\n",
    "    \n",
    "#     iou_metric = IoU\n",
    "\n",
    "    # 5. Begin training\n",
    "    for epoch in range(1, epochs + 1):\n",
    "        model.train()\n",
    "        epoch_loss = 0\n",
    "        with tqdm(total=n_train, desc=f'Epoch {epoch}/{epochs}', unit='img') as pbar:\n",
    "            for batch in trainloader:\n",
    "                images, true_masks = batch\n",
    "\n",
    "                assert images.shape[1] == n_channels, \\\n",
    "                    f'Network has been defined with {n_channels} input channels, ' \\\n",
    "                    f'but loaded images have {images.shape[1]} channels. Please check that ' \\\n",
    "                    'the images are loaded correctly.'\n",
    "\n",
    "                images = images.to(device=device, dtype=torch.float32, memory_format=torch.channels_last)\n",
    "                \n",
    "                true_masks = true_masks.to(device=device, dtype=torch.long)\n",
    "\n",
    "                with torch.autocast(device.type if device.type != 'mps' else 'cpu', enabled=amp):\n",
    "                    masks_pred = model(images)\n",
    "                    loss = criterion(masks_pred, true_masks.float())\n",
    "                    loss += dice_loss(masks_pred, true_masks)\n",
    "                    tp, fp, fn, tn = smp.metrics.get_stats(masks_pred, true_masks.long(), mode='binary', threshold=0.5)\n",
    "                    iou_score = smp.metrics.iou_score(tp, fp, fn, tn, reduction=\"micro\")\n",
    "    \n",
    "                optimizer.zero_grad(set_to_none=True)\n",
    "                grad_scaler.scale(loss).backward()\n",
    "                torch.nn.utils.clip_grad_norm_(model.parameters(), gradient_clipping)\n",
    "                grad_scaler.step(optimizer)\n",
    "                grad_scaler.update()\n",
    "\n",
    "                pbar.update(images.shape[0])\n",
    "                global_step += 1\n",
    "                epoch_loss += loss.item()\n",
    "                experiment.log({\n",
    "                    'train iou': iou_score,\n",
    "                    'train loss': loss.item(),\n",
    "                    'step': global_step,\n",
    "                    'epoch': epoch\n",
    "                })\n",
    "                pbar.set_postfix(**{'loss (batch)': loss.item()})\n",
    "\n",
    "                # Evaluation round\n",
    "                division_step = (n_train // (5 * batch_size))\n",
    "                if division_step > 0:\n",
    "                    if global_step % division_step == 0:\n",
    "                        histograms = {}\n",
    "                        for tag, value in model.named_parameters():\n",
    "                            tag = tag.replace('/', '.')\n",
    "                            if not (torch.isinf(value) | torch.isnan(value)).any():\n",
    "                                histograms['Weights/' + tag] = wandb.Histogram(value.data.cpu())\n",
    "                            if not value.grad is None:\n",
    "                                if not (torch.isinf(value.grad) | torch.isnan(value.grad)).any():\n",
    "                                    histograms['Gradients/' + tag] = wandb.Histogram(value.grad.data.cpu())\n",
    "\n",
    "                        val_score, iou_score = evaluate(model, valloader, device, amp)\n",
    "                        model.train()\n",
    "                        scheduler.step(val_score)\n",
    "\n",
    "                        logging.info('Validation Dice score: {}'.format(val_score))\n",
    "                        try:\n",
    "                            experiment.log({\n",
    "                                'learning rate': optimizer.param_groups[0]['lr'],\n",
    "                                'validation Dice': val_score,\n",
    "                                'validation IoU Score': iou_score,\n",
    "                                'images': wandb.Image(images[0].cpu()),\n",
    "                                'masks': {\n",
    "                                    'true': wandb.Image(true_masks[0].float().cpu()),\n",
    "                                    'pred': wandb.Image(masks_pred[0].float().cpu()),\n",
    "                                },\n",
    "                                'step': global_step,\n",
    "                                'epoch': epoch,\n",
    "                                **histograms\n",
    "                            })\n",
    "                        except:\n",
    "                            pass\n",
    "            \n",
    "\n",
    "# if __name__ == '__main__':\n",
    "#     model = UNet(n_channels=3, n_classes=1, bilinear=False)\n",
    "    \n",
    "#     device = torch.device('cuda' if torch.cuda.is_available() else 'cpu')\n",
    "#     if torch.cuda.device_count() > 1:\n",
    "#         print(\"Let's use\", torch.cuda.device_count(), \"GPUs!\")\n",
    "#         model = nn.DataParallel(model)\n",
    "\n",
    "#     model = model.to(memory_format=torch.channels_last)\n",
    "#     model.to(device)\n",
    "    \n",
    "#     train(model, device)\n",
    "\n",
    "    "
   ]
  },
  {
   "cell_type": "code",
   "execution_count": 13,
   "id": "c4b7da87",
   "metadata": {
    "execution": {
     "iopub.execute_input": "2023-12-21T07:56:30.570756Z",
     "iopub.status.busy": "2023-12-21T07:56:30.570378Z",
     "iopub.status.idle": "2023-12-21T15:03:56.795788Z",
     "shell.execute_reply": "2023-12-21T15:03:56.794610Z"
    },
    "papermill": {
     "duration": 25646.240928,
     "end_time": "2023-12-21T15:03:56.798059",
     "exception": false,
     "start_time": "2023-12-21T07:56:30.557131",
     "status": "completed"
    },
    "tags": []
   },
   "outputs": [
    {
     "name": "stdout",
     "output_type": "stream",
     "text": [
      "n_channels:  64 n_groups:  2\n",
      "out_channels: 128 squeeze_radio:  2 up_channel:  32 in_ch (out_channels // squeeze_radio):  16 out_ch(out_channels): 128\n",
      "in_channels:  64 out_channels:  128\n",
      "up_channel:  32 low_channel:  32\n",
      "out_channels: 128 squeeze_radio:  2 low_channel:  32 in_ch (low_channel // squeeze_radio):  16 out_ch(out_channels - low_channel // squeeze_radio): 112\n",
      "n_channels:  128 n_groups:  2\n",
      "out_channels: 128 squeeze_radio:  2 up_channel:  64 in_ch (out_channels // squeeze_radio):  32 out_ch(out_channels): 128\n",
      "in_channels:  128 out_channels:  128\n",
      "up_channel:  64 low_channel:  64\n",
      "out_channels: 128 squeeze_radio:  2 low_channel:  64 in_ch (low_channel // squeeze_radio):  32 out_ch(out_channels - low_channel // squeeze_radio): 96\n",
      "in_channels:  64 out_channels:  128\n",
      "n_channels:  128 n_groups:  2\n",
      "out_channels: 256 squeeze_radio:  2 up_channel:  64 in_ch (out_channels // squeeze_radio):  32 out_ch(out_channels): 256\n",
      "in_channels:  128 out_channels:  256\n",
      "up_channel:  64 low_channel:  64\n",
      "out_channels: 256 squeeze_radio:  2 low_channel:  64 in_ch (low_channel // squeeze_radio):  32 out_ch(out_channels - low_channel // squeeze_radio): 224\n",
      "n_channels:  256 n_groups:  2\n",
      "out_channels: 256 squeeze_radio:  2 up_channel:  128 in_ch (out_channels // squeeze_radio):  64 out_ch(out_channels): 256\n",
      "in_channels:  256 out_channels:  256\n",
      "up_channel:  128 low_channel:  128\n",
      "out_channels: 256 squeeze_radio:  2 low_channel:  128 in_ch (low_channel // squeeze_radio):  64 out_ch(out_channels - low_channel // squeeze_radio): 192\n",
      "in_channels:  128 out_channels:  256\n",
      "n_channels:  256 n_groups:  2\n",
      "out_channels: 512 squeeze_radio:  2 up_channel:  128 in_ch (out_channels // squeeze_radio):  64 out_ch(out_channels): 512\n",
      "in_channels:  256 out_channels:  512\n",
      "up_channel:  128 low_channel:  128\n",
      "out_channels: 512 squeeze_radio:  2 low_channel:  128 in_ch (low_channel // squeeze_radio):  64 out_ch(out_channels - low_channel // squeeze_radio): 448\n",
      "n_channels:  512 n_groups:  2\n",
      "out_channels: 512 squeeze_radio:  2 up_channel:  256 in_ch (out_channels // squeeze_radio):  128 out_ch(out_channels): 512\n",
      "in_channels:  512 out_channels:  512\n",
      "up_channel:  256 low_channel:  256\n",
      "out_channels: 512 squeeze_radio:  2 low_channel:  256 in_ch (low_channel // squeeze_radio):  128 out_ch(out_channels - low_channel // squeeze_radio): 384\n",
      "in_channels:  256 out_channels:  512\n",
      "n_channels:  512 n_groups:  2\n",
      "out_channels: 1024 squeeze_radio:  2 up_channel:  256 in_ch (out_channels // squeeze_radio):  128 out_ch(out_channels): 1024\n",
      "in_channels:  512 out_channels:  1024\n",
      "up_channel:  256 low_channel:  256\n",
      "out_channels: 1024 squeeze_radio:  2 low_channel:  256 in_ch (low_channel // squeeze_radio):  128 out_ch(out_channels - low_channel // squeeze_radio): 896\n",
      "n_channels:  1024 n_groups:  2\n",
      "out_channels: 1024 squeeze_radio:  2 up_channel:  512 in_ch (out_channels // squeeze_radio):  256 out_ch(out_channels): 1024\n",
      "in_channels:  1024 out_channels:  1024\n",
      "up_channel:  512 low_channel:  512\n",
      "out_channels: 1024 squeeze_radio:  2 low_channel:  512 in_ch (low_channel // squeeze_radio):  256 out_ch(out_channels - low_channel // squeeze_radio): 768\n",
      "in_channels:  512 out_channels:  1024\n",
      "n_channels:  1024 n_groups:  2\n",
      "out_channels: 512 squeeze_radio:  2 up_channel:  512 in_ch (out_channels // squeeze_radio):  256 out_ch(out_channels): 512\n",
      "in_channels:  1024 out_channels:  512\n",
      "up_channel:  512 low_channel:  512\n",
      "out_channels: 512 squeeze_radio:  2 low_channel:  512 in_ch (low_channel // squeeze_radio):  256 out_ch(out_channels - low_channel // squeeze_radio): 256\n",
      "n_channels:  512 n_groups:  2\n",
      "out_channels: 512 squeeze_radio:  2 up_channel:  256 in_ch (out_channels // squeeze_radio):  128 out_ch(out_channels): 512\n",
      "in_channels:  512 out_channels:  512\n",
      "up_channel:  256 low_channel:  256\n",
      "out_channels: 512 squeeze_radio:  2 low_channel:  256 in_ch (low_channel // squeeze_radio):  128 out_ch(out_channels - low_channel // squeeze_radio): 384\n",
      "in_channels:  1024 out_channels:  512\n",
      "n_channels:  512 n_groups:  2\n",
      "out_channels: 256 squeeze_radio:  2 up_channel:  256 in_ch (out_channels // squeeze_radio):  128 out_ch(out_channels): 256\n",
      "in_channels:  512 out_channels:  256\n",
      "up_channel:  256 low_channel:  256\n",
      "out_channels: 256 squeeze_radio:  2 low_channel:  256 in_ch (low_channel // squeeze_radio):  128 out_ch(out_channels - low_channel // squeeze_radio): 128\n",
      "n_channels:  256 n_groups:  2\n",
      "out_channels: 256 squeeze_radio:  2 up_channel:  128 in_ch (out_channels // squeeze_radio):  64 out_ch(out_channels): 256\n",
      "in_channels:  256 out_channels:  256\n",
      "up_channel:  128 low_channel:  128\n",
      "out_channels: 256 squeeze_radio:  2 low_channel:  128 in_ch (low_channel // squeeze_radio):  64 out_ch(out_channels - low_channel // squeeze_radio): 192\n",
      "in_channels:  512 out_channels:  256\n",
      "n_channels:  256 n_groups:  2\n",
      "out_channels: 128 squeeze_radio:  2 up_channel:  128 in_ch (out_channels // squeeze_radio):  64 out_ch(out_channels): 128\n",
      "in_channels:  256 out_channels:  128\n",
      "up_channel:  128 low_channel:  128\n",
      "out_channels: 128 squeeze_radio:  2 low_channel:  128 in_ch (low_channel // squeeze_radio):  64 out_ch(out_channels - low_channel // squeeze_radio): 64\n",
      "n_channels:  128 n_groups:  2\n",
      "out_channels: 128 squeeze_radio:  2 up_channel:  64 in_ch (out_channels // squeeze_radio):  32 out_ch(out_channels): 128\n",
      "in_channels:  128 out_channels:  128\n",
      "up_channel:  64 low_channel:  64\n",
      "out_channels: 128 squeeze_radio:  2 low_channel:  64 in_ch (low_channel // squeeze_radio):  32 out_ch(out_channels - low_channel // squeeze_radio): 96\n",
      "in_channels:  256 out_channels:  128\n",
      "n_channels:  128 n_groups:  2\n",
      "out_channels: 64 squeeze_radio:  2 up_channel:  64 in_ch (out_channels // squeeze_radio):  32 out_ch(out_channels): 64\n",
      "in_channels:  128 out_channels:  64\n",
      "up_channel:  64 low_channel:  64\n",
      "out_channels: 64 squeeze_radio:  2 low_channel:  64 in_ch (low_channel // squeeze_radio):  32 out_ch(out_channels - low_channel // squeeze_radio): 32\n",
      "n_channels:  64 n_groups:  2\n",
      "out_channels: 64 squeeze_radio:  2 up_channel:  32 in_ch (out_channels // squeeze_radio):  16 out_ch(out_channels): 64\n",
      "in_channels:  64 out_channels:  64\n",
      "up_channel:  32 low_channel:  32\n",
      "out_channels: 64 squeeze_radio:  2 low_channel:  32 in_ch (low_channel // squeeze_radio):  16 out_ch(out_channels - low_channel // squeeze_radio): 48\n",
      "in_channels:  128 out_channels:  64\n",
      "UNet-ScConv模型参数量为：5514241\n",
      "其详情为：\n",
      "down1.double_conv.double_conv.0.weight : torch.Size([64, 3, 3, 3])\n",
      "down1.double_conv.double_conv.0.bias : torch.Size([64])\n",
      "down1.double_conv.double_conv.1.weight : torch.Size([64])\n",
      "down1.double_conv.double_conv.1.bias : torch.Size([64])\n",
      "down1.double_conv.double_conv.3.weight : torch.Size([64, 64, 3, 3])\n",
      "down1.double_conv.double_conv.3.bias : torch.Size([64])\n",
      "down1.double_conv.double_conv.4.weight : torch.Size([64])\n",
      "down1.double_conv.double_conv.4.bias : torch.Size([64])\n",
      "down2.double_conv.double_conv.0.SRU.gn.gamma : torch.Size([64, 1, 1])\n",
      "down2.double_conv.double_conv.0.SRU.gn.beta : torch.Size([64, 1, 1])\n",
      "down2.double_conv.double_conv.0.CRU.squeeze1.weight : torch.Size([16, 32, 1, 1])\n",
      "down2.double_conv.double_conv.0.CRU.squeeze2.weight : torch.Size([16, 32, 1, 1])\n",
      "down2.double_conv.double_conv.0.CRU.GWC.weight : torch.Size([128, 1, 3, 3])\n",
      "down2.double_conv.double_conv.0.CRU.GWC.bias : torch.Size([128])\n",
      "down2.double_conv.double_conv.0.CRU.PWC1.weight : torch.Size([128, 16, 1, 1])\n",
      "down2.double_conv.double_conv.0.CRU.PWC2.weight : torch.Size([112, 16, 1, 1])\n",
      "down2.double_conv.double_conv.1.weight : torch.Size([128])\n",
      "down2.double_conv.double_conv.1.bias : torch.Size([128])\n",
      "down2.double_conv.double_conv.3.SRU.gn.gamma : torch.Size([128, 1, 1])\n",
      "down2.double_conv.double_conv.3.SRU.gn.beta : torch.Size([128, 1, 1])\n",
      "down2.double_conv.double_conv.3.CRU.squeeze1.weight : torch.Size([32, 64, 1, 1])\n",
      "down2.double_conv.double_conv.3.CRU.squeeze2.weight : torch.Size([32, 64, 1, 1])\n",
      "down2.double_conv.double_conv.3.CRU.GWC.weight : torch.Size([128, 2, 3, 3])\n",
      "down2.double_conv.double_conv.3.CRU.GWC.bias : torch.Size([128])\n",
      "down2.double_conv.double_conv.3.CRU.PWC1.weight : torch.Size([128, 32, 1, 1])\n",
      "down2.double_conv.double_conv.3.CRU.PWC2.weight : torch.Size([96, 32, 1, 1])\n",
      "down2.double_conv.double_conv.4.weight : torch.Size([128])\n",
      "down2.double_conv.double_conv.4.bias : torch.Size([128])\n",
      "down3.double_conv.double_conv.0.SRU.gn.gamma : torch.Size([128, 1, 1])\n",
      "down3.double_conv.double_conv.0.SRU.gn.beta : torch.Size([128, 1, 1])\n",
      "down3.double_conv.double_conv.0.CRU.squeeze1.weight : torch.Size([32, 64, 1, 1])\n",
      "down3.double_conv.double_conv.0.CRU.squeeze2.weight : torch.Size([32, 64, 1, 1])\n",
      "down3.double_conv.double_conv.0.CRU.GWC.weight : torch.Size([256, 2, 3, 3])\n",
      "down3.double_conv.double_conv.0.CRU.GWC.bias : torch.Size([256])\n",
      "down3.double_conv.double_conv.0.CRU.PWC1.weight : torch.Size([256, 32, 1, 1])\n",
      "down3.double_conv.double_conv.0.CRU.PWC2.weight : torch.Size([224, 32, 1, 1])\n",
      "down3.double_conv.double_conv.1.weight : torch.Size([256])\n",
      "down3.double_conv.double_conv.1.bias : torch.Size([256])\n",
      "down3.double_conv.double_conv.3.SRU.gn.gamma : torch.Size([256, 1, 1])\n",
      "down3.double_conv.double_conv.3.SRU.gn.beta : torch.Size([256, 1, 1])\n",
      "down3.double_conv.double_conv.3.CRU.squeeze1.weight : torch.Size([64, 128, 1, 1])\n",
      "down3.double_conv.double_conv.3.CRU.squeeze2.weight : torch.Size([64, 128, 1, 1])\n",
      "down3.double_conv.double_conv.3.CRU.GWC.weight : torch.Size([256, 4, 3, 3])\n",
      "down3.double_conv.double_conv.3.CRU.GWC.bias : torch.Size([256])\n",
      "down3.double_conv.double_conv.3.CRU.PWC1.weight : torch.Size([256, 64, 1, 1])\n",
      "down3.double_conv.double_conv.3.CRU.PWC2.weight : torch.Size([192, 64, 1, 1])\n",
      "down3.double_conv.double_conv.4.weight : torch.Size([256])\n",
      "down3.double_conv.double_conv.4.bias : torch.Size([256])\n",
      "down4.double_conv.double_conv.0.SRU.gn.gamma : torch.Size([256, 1, 1])\n",
      "down4.double_conv.double_conv.0.SRU.gn.beta : torch.Size([256, 1, 1])\n",
      "down4.double_conv.double_conv.0.CRU.squeeze1.weight : torch.Size([64, 128, 1, 1])\n",
      "down4.double_conv.double_conv.0.CRU.squeeze2.weight : torch.Size([64, 128, 1, 1])\n",
      "down4.double_conv.double_conv.0.CRU.GWC.weight : torch.Size([512, 4, 3, 3])\n",
      "down4.double_conv.double_conv.0.CRU.GWC.bias : torch.Size([512])\n",
      "down4.double_conv.double_conv.0.CRU.PWC1.weight : torch.Size([512, 64, 1, 1])\n",
      "down4.double_conv.double_conv.0.CRU.PWC2.weight : torch.Size([448, 64, 1, 1])\n",
      "down4.double_conv.double_conv.1.weight : torch.Size([512])\n",
      "down4.double_conv.double_conv.1.bias : torch.Size([512])\n",
      "down4.double_conv.double_conv.3.SRU.gn.gamma : torch.Size([512, 1, 1])\n",
      "down4.double_conv.double_conv.3.SRU.gn.beta : torch.Size([512, 1, 1])\n",
      "down4.double_conv.double_conv.3.CRU.squeeze1.weight : torch.Size([128, 256, 1, 1])\n",
      "down4.double_conv.double_conv.3.CRU.squeeze2.weight : torch.Size([128, 256, 1, 1])\n",
      "down4.double_conv.double_conv.3.CRU.GWC.weight : torch.Size([512, 8, 3, 3])\n",
      "down4.double_conv.double_conv.3.CRU.GWC.bias : torch.Size([512])\n",
      "down4.double_conv.double_conv.3.CRU.PWC1.weight : torch.Size([512, 128, 1, 1])\n",
      "down4.double_conv.double_conv.3.CRU.PWC2.weight : torch.Size([384, 128, 1, 1])\n",
      "down4.double_conv.double_conv.4.weight : torch.Size([512])\n",
      "down4.double_conv.double_conv.4.bias : torch.Size([512])\n",
      "bottle_conv.double_conv.0.SRU.gn.gamma : torch.Size([512, 1, 1])\n",
      "bottle_conv.double_conv.0.SRU.gn.beta : torch.Size([512, 1, 1])\n",
      "bottle_conv.double_conv.0.CRU.squeeze1.weight : torch.Size([128, 256, 1, 1])\n",
      "bottle_conv.double_conv.0.CRU.squeeze2.weight : torch.Size([128, 256, 1, 1])\n",
      "bottle_conv.double_conv.0.CRU.GWC.weight : torch.Size([1024, 8, 3, 3])\n",
      "bottle_conv.double_conv.0.CRU.GWC.bias : torch.Size([1024])\n",
      "bottle_conv.double_conv.0.CRU.PWC1.weight : torch.Size([1024, 128, 1, 1])\n",
      "bottle_conv.double_conv.0.CRU.PWC2.weight : torch.Size([896, 128, 1, 1])\n",
      "bottle_conv.double_conv.1.weight : torch.Size([1024])\n",
      "bottle_conv.double_conv.1.bias : torch.Size([1024])\n",
      "bottle_conv.double_conv.3.SRU.gn.gamma : torch.Size([1024, 1, 1])\n",
      "bottle_conv.double_conv.3.SRU.gn.beta : torch.Size([1024, 1, 1])\n",
      "bottle_conv.double_conv.3.CRU.squeeze1.weight : torch.Size([256, 512, 1, 1])\n",
      "bottle_conv.double_conv.3.CRU.squeeze2.weight : torch.Size([256, 512, 1, 1])\n",
      "bottle_conv.double_conv.3.CRU.GWC.weight : torch.Size([1024, 16, 3, 3])\n",
      "bottle_conv.double_conv.3.CRU.GWC.bias : torch.Size([1024])\n",
      "bottle_conv.double_conv.3.CRU.PWC1.weight : torch.Size([1024, 256, 1, 1])\n",
      "bottle_conv.double_conv.3.CRU.PWC2.weight : torch.Size([768, 256, 1, 1])\n",
      "bottle_conv.double_conv.4.weight : torch.Size([1024])\n",
      "bottle_conv.double_conv.4.bias : torch.Size([1024])\n",
      "up4.up.weight : torch.Size([1024, 512, 2, 2])\n",
      "up4.up.bias : torch.Size([512])\n",
      "up4.conv.1.double_conv.0.SRU.gn.gamma : torch.Size([1024, 1, 1])\n",
      "up4.conv.1.double_conv.0.SRU.gn.beta : torch.Size([1024, 1, 1])\n",
      "up4.conv.1.double_conv.0.CRU.squeeze1.weight : torch.Size([256, 512, 1, 1])\n",
      "up4.conv.1.double_conv.0.CRU.squeeze2.weight : torch.Size([256, 512, 1, 1])\n",
      "up4.conv.1.double_conv.0.CRU.GWC.weight : torch.Size([512, 16, 3, 3])\n",
      "up4.conv.1.double_conv.0.CRU.GWC.bias : torch.Size([512])\n",
      "up4.conv.1.double_conv.0.CRU.PWC1.weight : torch.Size([512, 256, 1, 1])\n",
      "up4.conv.1.double_conv.0.CRU.PWC2.weight : torch.Size([256, 256, 1, 1])\n",
      "up4.conv.1.double_conv.1.weight : torch.Size([512])\n",
      "up4.conv.1.double_conv.1.bias : torch.Size([512])\n",
      "up4.conv.1.double_conv.3.SRU.gn.gamma : torch.Size([512, 1, 1])\n",
      "up4.conv.1.double_conv.3.SRU.gn.beta : torch.Size([512, 1, 1])\n",
      "up4.conv.1.double_conv.3.CRU.squeeze1.weight : torch.Size([128, 256, 1, 1])\n",
      "up4.conv.1.double_conv.3.CRU.squeeze2.weight : torch.Size([128, 256, 1, 1])\n",
      "up4.conv.1.double_conv.3.CRU.GWC.weight : torch.Size([512, 8, 3, 3])\n",
      "up4.conv.1.double_conv.3.CRU.GWC.bias : torch.Size([512])\n",
      "up4.conv.1.double_conv.3.CRU.PWC1.weight : torch.Size([512, 128, 1, 1])\n",
      "up4.conv.1.double_conv.3.CRU.PWC2.weight : torch.Size([384, 128, 1, 1])\n",
      "up4.conv.1.double_conv.4.weight : torch.Size([512])\n",
      "up4.conv.1.double_conv.4.bias : torch.Size([512])\n",
      "up3.up.weight : torch.Size([512, 256, 2, 2])\n",
      "up3.up.bias : torch.Size([256])\n",
      "up3.conv.1.double_conv.0.SRU.gn.gamma : torch.Size([512, 1, 1])\n",
      "up3.conv.1.double_conv.0.SRU.gn.beta : torch.Size([512, 1, 1])\n",
      "up3.conv.1.double_conv.0.CRU.squeeze1.weight : torch.Size([128, 256, 1, 1])\n",
      "up3.conv.1.double_conv.0.CRU.squeeze2.weight : torch.Size([128, 256, 1, 1])\n",
      "up3.conv.1.double_conv.0.CRU.GWC.weight : torch.Size([256, 8, 3, 3])\n",
      "up3.conv.1.double_conv.0.CRU.GWC.bias : torch.Size([256])\n",
      "up3.conv.1.double_conv.0.CRU.PWC1.weight : torch.Size([256, 128, 1, 1])\n",
      "up3.conv.1.double_conv.0.CRU.PWC2.weight : torch.Size([128, 128, 1, 1])\n",
      "up3.conv.1.double_conv.1.weight : torch.Size([256])\n",
      "up3.conv.1.double_conv.1.bias : torch.Size([256])\n",
      "up3.conv.1.double_conv.3.SRU.gn.gamma : torch.Size([256, 1, 1])\n",
      "up3.conv.1.double_conv.3.SRU.gn.beta : torch.Size([256, 1, 1])\n",
      "up3.conv.1.double_conv.3.CRU.squeeze1.weight : torch.Size([64, 128, 1, 1])\n",
      "up3.conv.1.double_conv.3.CRU.squeeze2.weight : torch.Size([64, 128, 1, 1])\n",
      "up3.conv.1.double_conv.3.CRU.GWC.weight : torch.Size([256, 4, 3, 3])\n",
      "up3.conv.1.double_conv.3.CRU.GWC.bias : torch.Size([256])\n",
      "up3.conv.1.double_conv.3.CRU.PWC1.weight : torch.Size([256, 64, 1, 1])\n",
      "up3.conv.1.double_conv.3.CRU.PWC2.weight : torch.Size([192, 64, 1, 1])\n",
      "up3.conv.1.double_conv.4.weight : torch.Size([256])\n",
      "up3.conv.1.double_conv.4.bias : torch.Size([256])\n",
      "up2.up.weight : torch.Size([256, 128, 2, 2])\n",
      "up2.up.bias : torch.Size([128])\n",
      "up2.conv.1.double_conv.0.SRU.gn.gamma : torch.Size([256, 1, 1])\n",
      "up2.conv.1.double_conv.0.SRU.gn.beta : torch.Size([256, 1, 1])\n",
      "up2.conv.1.double_conv.0.CRU.squeeze1.weight : torch.Size([64, 128, 1, 1])\n",
      "up2.conv.1.double_conv.0.CRU.squeeze2.weight : torch.Size([64, 128, 1, 1])\n",
      "up2.conv.1.double_conv.0.CRU.GWC.weight : torch.Size([128, 4, 3, 3])\n",
      "up2.conv.1.double_conv.0.CRU.GWC.bias : torch.Size([128])\n",
      "up2.conv.1.double_conv.0.CRU.PWC1.weight : torch.Size([128, 64, 1, 1])\n",
      "up2.conv.1.double_conv.0.CRU.PWC2.weight : torch.Size([64, 64, 1, 1])\n",
      "up2.conv.1.double_conv.1.weight : torch.Size([128])\n",
      "up2.conv.1.double_conv.1.bias : torch.Size([128])\n",
      "up2.conv.1.double_conv.3.SRU.gn.gamma : torch.Size([128, 1, 1])\n",
      "up2.conv.1.double_conv.3.SRU.gn.beta : torch.Size([128, 1, 1])\n",
      "up2.conv.1.double_conv.3.CRU.squeeze1.weight : torch.Size([32, 64, 1, 1])\n",
      "up2.conv.1.double_conv.3.CRU.squeeze2.weight : torch.Size([32, 64, 1, 1])\n",
      "up2.conv.1.double_conv.3.CRU.GWC.weight : torch.Size([128, 2, 3, 3])\n",
      "up2.conv.1.double_conv.3.CRU.GWC.bias : torch.Size([128])\n",
      "up2.conv.1.double_conv.3.CRU.PWC1.weight : torch.Size([128, 32, 1, 1])\n",
      "up2.conv.1.double_conv.3.CRU.PWC2.weight : torch.Size([96, 32, 1, 1])\n",
      "up2.conv.1.double_conv.4.weight : torch.Size([128])\n",
      "up2.conv.1.double_conv.4.bias : torch.Size([128])\n",
      "up1.up.weight : torch.Size([128, 64, 2, 2])\n",
      "up1.up.bias : torch.Size([64])\n",
      "up1.conv.1.double_conv.0.SRU.gn.gamma : torch.Size([128, 1, 1])\n",
      "up1.conv.1.double_conv.0.SRU.gn.beta : torch.Size([128, 1, 1])\n",
      "up1.conv.1.double_conv.0.CRU.squeeze1.weight : torch.Size([32, 64, 1, 1])\n",
      "up1.conv.1.double_conv.0.CRU.squeeze2.weight : torch.Size([32, 64, 1, 1])\n",
      "up1.conv.1.double_conv.0.CRU.GWC.weight : torch.Size([64, 2, 3, 3])\n",
      "up1.conv.1.double_conv.0.CRU.GWC.bias : torch.Size([64])\n",
      "up1.conv.1.double_conv.0.CRU.PWC1.weight : torch.Size([64, 32, 1, 1])\n",
      "up1.conv.1.double_conv.0.CRU.PWC2.weight : torch.Size([32, 32, 1, 1])\n",
      "up1.conv.1.double_conv.1.weight : torch.Size([64])\n",
      "up1.conv.1.double_conv.1.bias : torch.Size([64])\n",
      "up1.conv.1.double_conv.3.SRU.gn.gamma : torch.Size([64, 1, 1])\n",
      "up1.conv.1.double_conv.3.SRU.gn.beta : torch.Size([64, 1, 1])\n",
      "up1.conv.1.double_conv.3.CRU.squeeze1.weight : torch.Size([16, 32, 1, 1])\n",
      "up1.conv.1.double_conv.3.CRU.squeeze2.weight : torch.Size([16, 32, 1, 1])\n",
      "up1.conv.1.double_conv.3.CRU.GWC.weight : torch.Size([64, 1, 3, 3])\n",
      "up1.conv.1.double_conv.3.CRU.GWC.bias : torch.Size([64])\n",
      "up1.conv.1.double_conv.3.CRU.PWC1.weight : torch.Size([64, 16, 1, 1])\n",
      "up1.conv.1.double_conv.3.CRU.PWC2.weight : torch.Size([48, 16, 1, 1])\n",
      "up1.conv.1.double_conv.4.weight : torch.Size([64])\n",
      "up1.conv.1.double_conv.4.bias : torch.Size([64])\n",
      "outc.weight : torch.Size([1, 64, 1, 1])\n",
      "outc.bias : torch.Size([1])\n"
     ]
    },
    {
     "name": "stderr",
     "output_type": "stream",
     "text": [
      "\u001b[34m\u001b[1mwandb\u001b[0m: Currently logged in as: \u001b[33mtorwayland\u001b[0m (\u001b[33mcupes-wangtao\u001b[0m). Use \u001b[1m`wandb login --relogin`\u001b[0m to force relogin\n",
      "\u001b[34m\u001b[1mwandb\u001b[0m: wandb version 0.16.1 is available!  To upgrade, please run:\n",
      "\u001b[34m\u001b[1mwandb\u001b[0m:  $ pip install wandb --upgrade\n",
      "\u001b[34m\u001b[1mwandb\u001b[0m: Tracking run with wandb version 0.15.5\n",
      "\u001b[34m\u001b[1mwandb\u001b[0m: Run data is saved locally in \u001b[35m\u001b[1m/kaggle/working/wandb/run-20231221_075635-nqovsdyn\u001b[0m\n",
      "\u001b[34m\u001b[1mwandb\u001b[0m: Run \u001b[1m`wandb offline`\u001b[0m to turn off syncing.\n",
      "\u001b[34m\u001b[1mwandb\u001b[0m: Syncing run \u001b[33mproud-violet-14\u001b[0m\n",
      "\u001b[34m\u001b[1mwandb\u001b[0m: ⭐️ View project at \u001b[34m\u001b[4mhttps://wandb.ai/cupes-wangtao/UNet-ScConv\u001b[0m\n",
      "\u001b[34m\u001b[1mwandb\u001b[0m: 🚀 View run at \u001b[34m\u001b[4mhttps://wandb.ai/cupes-wangtao/UNet-ScConv/runs/nqovsdyn\u001b[0m\n",
      "Validation round: 100%|██████████| 115/115 [00:22<00:00,  5.21batch/s]\n"
     ]
    },
    {
     "name": "stdout",
     "output_type": "stream",
     "text": [
      "Validation dice loss: 3.482184648513794, IoU Score 0.0\n"
     ]
    },
    {
     "name": "stderr",
     "output_type": "stream",
     "text": [
      "Validation round: 100%|██████████| 115/115 [00:22<00:00,  5.14batch/s]\n"
     ]
    },
    {
     "name": "stdout",
     "output_type": "stream",
     "text": [
      "Validation dice loss: 3.395642042160034, IoU Score 0.044379543513059616\n"
     ]
    },
    {
     "name": "stderr",
     "output_type": "stream",
     "text": [
      "Validation round: 100%|██████████| 115/115 [00:22<00:00,  5.21batch/s]\n"
     ]
    },
    {
     "name": "stdout",
     "output_type": "stream",
     "text": [
      "Validation dice loss: 3.1396031379699707, IoU Score 0.30582955479621887\n"
     ]
    },
    {
     "name": "stderr",
     "output_type": "stream",
     "text": [
      "Validation round: 100%|██████████| 115/115 [00:22<00:00,  5.22batch/s]\n"
     ]
    },
    {
     "name": "stdout",
     "output_type": "stream",
     "text": [
      "Validation dice loss: 3.1013779640197754, IoU Score 0.301627516746521\n"
     ]
    },
    {
     "name": "stderr",
     "output_type": "stream",
     "text": [
      "Validation round: 100%|██████████| 115/115 [00:21<00:00,  5.24batch/s]\n"
     ]
    },
    {
     "name": "stdout",
     "output_type": "stream",
     "text": [
      "Validation dice loss: 3.0820887088775635, IoU Score 0.29819557070732117\n"
     ]
    },
    {
     "name": "stderr",
     "output_type": "stream",
     "text": [
      "Epoch 1/60: 100%|██████████| 456/456 [07:11<00:00,  1.06img/s, loss (batch)=0.927]\n",
      "Validation round: 100%|██████████| 115/115 [00:22<00:00,  5.21batch/s]\n"
     ]
    },
    {
     "name": "stdout",
     "output_type": "stream",
     "text": [
      "Validation dice loss: 3.071916341781616, IoU Score 0.28585654497146606\n"
     ]
    },
    {
     "name": "stderr",
     "output_type": "stream",
     "text": [
      "Validation round: 100%|██████████| 115/115 [00:22<00:00,  5.18batch/s]\n"
     ]
    },
    {
     "name": "stdout",
     "output_type": "stream",
     "text": [
      "Validation dice loss: 3.050760507583618, IoU Score 0.3012171983718872\n"
     ]
    },
    {
     "name": "stderr",
     "output_type": "stream",
     "text": [
      "Validation round: 100%|██████████| 115/115 [00:21<00:00,  5.24batch/s]\n"
     ]
    },
    {
     "name": "stdout",
     "output_type": "stream",
     "text": [
      "Validation dice loss: 3.0089268684387207, IoU Score 0.2624601721763611\n"
     ]
    },
    {
     "name": "stderr",
     "output_type": "stream",
     "text": [
      "Validation round: 100%|██████████| 115/115 [00:21<00:00,  5.25batch/s]\n"
     ]
    },
    {
     "name": "stdout",
     "output_type": "stream",
     "text": [
      "Validation dice loss: 3.0216636657714844, IoU Score 0.2779783010482788\n"
     ]
    },
    {
     "name": "stderr",
     "output_type": "stream",
     "text": [
      "Validation round: 100%|██████████| 115/115 [00:21<00:00,  5.25batch/s]\n"
     ]
    },
    {
     "name": "stdout",
     "output_type": "stream",
     "text": [
      "Validation dice loss: 2.9786267280578613, IoU Score 0.2692224085330963\n"
     ]
    },
    {
     "name": "stderr",
     "output_type": "stream",
     "text": [
      "Epoch 2/60: 100%|██████████| 456/456 [07:04<00:00,  1.07img/s, loss (batch)=0.94]\n",
      "Validation round: 100%|██████████| 115/115 [00:21<00:00,  5.25batch/s]\n"
     ]
    },
    {
     "name": "stdout",
     "output_type": "stream",
     "text": [
      "Validation dice loss: 2.922057867050171, IoU Score 0.24202953279018402\n"
     ]
    },
    {
     "name": "stderr",
     "output_type": "stream",
     "text": [
      "Validation round: 100%|██████████| 115/115 [00:22<00:00,  5.21batch/s]\n"
     ]
    },
    {
     "name": "stdout",
     "output_type": "stream",
     "text": [
      "Validation dice loss: 2.854497194290161, IoU Score 0.24341949820518494\n"
     ]
    },
    {
     "name": "stderr",
     "output_type": "stream",
     "text": [
      "Validation round: 100%|██████████| 115/115 [00:21<00:00,  5.26batch/s]\n"
     ]
    },
    {
     "name": "stdout",
     "output_type": "stream",
     "text": [
      "Validation dice loss: 2.7248690128326416, IoU Score 0.2609477937221527\n"
     ]
    },
    {
     "name": "stderr",
     "output_type": "stream",
     "text": [
      "Validation round: 100%|██████████| 115/115 [00:21<00:00,  5.24batch/s]\n"
     ]
    },
    {
     "name": "stdout",
     "output_type": "stream",
     "text": [
      "Validation dice loss: 2.6782162189483643, IoU Score 0.2568516731262207\n"
     ]
    },
    {
     "name": "stderr",
     "output_type": "stream",
     "text": [
      "Validation round: 100%|██████████| 115/115 [00:21<00:00,  5.24batch/s]\n"
     ]
    },
    {
     "name": "stdout",
     "output_type": "stream",
     "text": [
      "Validation dice loss: 2.6705548763275146, IoU Score 0.2286236584186554\n"
     ]
    },
    {
     "name": "stderr",
     "output_type": "stream",
     "text": [
      "Epoch 3/60: 100%|██████████| 456/456 [07:04<00:00,  1.08img/s, loss (batch)=0.895]\n",
      "Validation round: 100%|██████████| 115/115 [00:21<00:00,  5.23batch/s]\n"
     ]
    },
    {
     "name": "stdout",
     "output_type": "stream",
     "text": [
      "Validation dice loss: 2.5892813205718994, IoU Score 0.24546237289905548\n"
     ]
    },
    {
     "name": "stderr",
     "output_type": "stream",
     "text": [
      "Validation round: 100%|██████████| 115/115 [00:22<00:00,  5.21batch/s]\n"
     ]
    },
    {
     "name": "stdout",
     "output_type": "stream",
     "text": [
      "Validation dice loss: 2.5808255672454834, IoU Score 0.2362755835056305\n"
     ]
    },
    {
     "name": "stderr",
     "output_type": "stream",
     "text": [
      "Validation round: 100%|██████████| 115/115 [00:21<00:00,  5.25batch/s]\n"
     ]
    },
    {
     "name": "stdout",
     "output_type": "stream",
     "text": [
      "Validation dice loss: 2.547135829925537, IoU Score 0.2396298497915268\n"
     ]
    },
    {
     "name": "stderr",
     "output_type": "stream",
     "text": [
      "Validation round: 100%|██████████| 115/115 [00:21<00:00,  5.26batch/s]\n"
     ]
    },
    {
     "name": "stdout",
     "output_type": "stream",
     "text": [
      "Validation dice loss: 2.4215266704559326, IoU Score 0.2539912164211273\n"
     ]
    },
    {
     "name": "stderr",
     "output_type": "stream",
     "text": [
      "Validation round: 100%|██████████| 115/115 [00:21<00:00,  5.24batch/s]\n"
     ]
    },
    {
     "name": "stdout",
     "output_type": "stream",
     "text": [
      "Validation dice loss: 2.3445866107940674, IoU Score 0.2538589537143707\n"
     ]
    },
    {
     "name": "stderr",
     "output_type": "stream",
     "text": [
      "Epoch 4/60: 100%|██████████| 456/456 [07:04<00:00,  1.07img/s, loss (batch)=0.811]\n",
      "Validation round: 100%|██████████| 115/115 [00:21<00:00,  5.24batch/s]\n"
     ]
    },
    {
     "name": "stdout",
     "output_type": "stream",
     "text": [
      "Validation dice loss: 2.324899435043335, IoU Score 0.2594648599624634\n"
     ]
    },
    {
     "name": "stderr",
     "output_type": "stream",
     "text": [
      "Validation round: 100%|██████████| 115/115 [00:22<00:00,  5.20batch/s]\n"
     ]
    },
    {
     "name": "stdout",
     "output_type": "stream",
     "text": [
      "Validation dice loss: 2.2911911010742188, IoU Score 0.2616690397262573\n"
     ]
    },
    {
     "name": "stderr",
     "output_type": "stream",
     "text": [
      "Validation round: 100%|██████████| 115/115 [00:21<00:00,  5.24batch/s]\n"
     ]
    },
    {
     "name": "stdout",
     "output_type": "stream",
     "text": [
      "Validation dice loss: 2.2424232959747314, IoU Score 0.2549901008605957\n"
     ]
    },
    {
     "name": "stderr",
     "output_type": "stream",
     "text": [
      "Validation round: 100%|██████████| 115/115 [00:22<00:00,  5.22batch/s]\n"
     ]
    },
    {
     "name": "stdout",
     "output_type": "stream",
     "text": [
      "Validation dice loss: 2.1841139793395996, IoU Score 0.26901736855506897\n"
     ]
    },
    {
     "name": "stderr",
     "output_type": "stream",
     "text": [
      "Validation round: 100%|██████████| 115/115 [00:21<00:00,  5.24batch/s]\n"
     ]
    },
    {
     "name": "stdout",
     "output_type": "stream",
     "text": [
      "Validation dice loss: 2.2033801078796387, IoU Score 0.26765796542167664\n"
     ]
    },
    {
     "name": "stderr",
     "output_type": "stream",
     "text": [
      "Epoch 5/60: 100%|██████████| 456/456 [07:04<00:00,  1.07img/s, loss (batch)=0.853]\n",
      "Validation round: 100%|██████████| 115/115 [00:22<00:00,  5.20batch/s]\n"
     ]
    },
    {
     "name": "stdout",
     "output_type": "stream",
     "text": [
      "Validation dice loss: 2.095980167388916, IoU Score 0.27414414286613464\n"
     ]
    },
    {
     "name": "stderr",
     "output_type": "stream",
     "text": [
      "Validation round: 100%|██████████| 115/115 [00:22<00:00,  5.18batch/s]\n"
     ]
    },
    {
     "name": "stdout",
     "output_type": "stream",
     "text": [
      "Validation dice loss: 2.0149545669555664, IoU Score 0.3074221909046173\n"
     ]
    },
    {
     "name": "stderr",
     "output_type": "stream",
     "text": [
      "Validation round: 100%|██████████| 115/115 [00:22<00:00,  5.18batch/s]\n"
     ]
    },
    {
     "name": "stdout",
     "output_type": "stream",
     "text": [
      "Validation dice loss: 2.014988899230957, IoU Score 0.2851187288761139\n"
     ]
    },
    {
     "name": "stderr",
     "output_type": "stream",
     "text": [
      "Validation round: 100%|██████████| 115/115 [00:22<00:00,  5.20batch/s]\n"
     ]
    },
    {
     "name": "stdout",
     "output_type": "stream",
     "text": [
      "Validation dice loss: 2.0259997844696045, IoU Score 0.2952723205089569\n"
     ]
    },
    {
     "name": "stderr",
     "output_type": "stream",
     "text": [
      "Validation round: 100%|██████████| 115/115 [00:22<00:00,  5.21batch/s]\n"
     ]
    },
    {
     "name": "stdout",
     "output_type": "stream",
     "text": [
      "Validation dice loss: 2.060969114303589, IoU Score 0.30126556754112244\n"
     ]
    },
    {
     "name": "stderr",
     "output_type": "stream",
     "text": [
      "Epoch 6/60: 100%|██████████| 456/456 [07:05<00:00,  1.07img/s, loss (batch)=0.811]\n",
      "Validation round: 100%|██████████| 115/115 [00:22<00:00,  5.22batch/s]\n"
     ]
    },
    {
     "name": "stdout",
     "output_type": "stream",
     "text": [
      "Validation dice loss: 1.8782693147659302, IoU Score 0.3160395622253418\n"
     ]
    },
    {
     "name": "stderr",
     "output_type": "stream",
     "text": [
      "Validation round: 100%|██████████| 115/115 [00:22<00:00,  5.17batch/s]\n"
     ]
    },
    {
     "name": "stdout",
     "output_type": "stream",
     "text": [
      "Validation dice loss: 1.8183680772781372, IoU Score 0.33702167868614197\n"
     ]
    },
    {
     "name": "stderr",
     "output_type": "stream",
     "text": [
      "Validation round: 100%|██████████| 115/115 [00:22<00:00,  5.21batch/s]\n"
     ]
    },
    {
     "name": "stdout",
     "output_type": "stream",
     "text": [
      "Validation dice loss: 1.947593092918396, IoU Score 0.31962719559669495\n"
     ]
    },
    {
     "name": "stderr",
     "output_type": "stream",
     "text": [
      "Validation round: 100%|██████████| 115/115 [00:22<00:00,  5.21batch/s]\n"
     ]
    },
    {
     "name": "stdout",
     "output_type": "stream",
     "text": [
      "Validation dice loss: 1.739696741104126, IoU Score 0.34849098324775696\n"
     ]
    },
    {
     "name": "stderr",
     "output_type": "stream",
     "text": [
      "Validation round: 100%|██████████| 115/115 [00:22<00:00,  5.21batch/s]\n"
     ]
    },
    {
     "name": "stdout",
     "output_type": "stream",
     "text": [
      "Validation dice loss: 1.8519364595413208, IoU Score 0.31969380378723145\n"
     ]
    },
    {
     "name": "stderr",
     "output_type": "stream",
     "text": [
      "Epoch 7/60: 100%|██████████| 456/456 [07:05<00:00,  1.07img/s, loss (batch)=0.806]\n",
      "Validation round: 100%|██████████| 115/115 [00:22<00:00,  5.19batch/s]\n"
     ]
    },
    {
     "name": "stdout",
     "output_type": "stream",
     "text": [
      "Validation dice loss: 1.7152705192565918, IoU Score 0.34660810232162476\n"
     ]
    },
    {
     "name": "stderr",
     "output_type": "stream",
     "text": [
      "Validation round: 100%|██████████| 115/115 [00:22<00:00,  5.14batch/s]\n"
     ]
    },
    {
     "name": "stdout",
     "output_type": "stream",
     "text": [
      "Validation dice loss: 1.7662127017974854, IoU Score 0.33053287863731384\n"
     ]
    },
    {
     "name": "stderr",
     "output_type": "stream",
     "text": [
      "Validation round: 100%|██████████| 115/115 [00:22<00:00,  5.19batch/s]\n"
     ]
    },
    {
     "name": "stdout",
     "output_type": "stream",
     "text": [
      "Validation dice loss: 1.6167106628417969, IoU Score 0.35340172052383423\n"
     ]
    },
    {
     "name": "stderr",
     "output_type": "stream",
     "text": [
      "Validation round: 100%|██████████| 115/115 [00:22<00:00,  5.20batch/s]\n"
     ]
    },
    {
     "name": "stdout",
     "output_type": "stream",
     "text": [
      "Validation dice loss: 1.6720657348632812, IoU Score 0.33965927362442017\n"
     ]
    },
    {
     "name": "stderr",
     "output_type": "stream",
     "text": [
      "Validation round: 100%|██████████| 115/115 [00:22<00:00,  5.21batch/s]\n"
     ]
    },
    {
     "name": "stdout",
     "output_type": "stream",
     "text": [
      "Validation dice loss: 1.7253189086914062, IoU Score 0.3382217288017273\n"
     ]
    },
    {
     "name": "stderr",
     "output_type": "stream",
     "text": [
      "Epoch 8/60: 100%|██████████| 456/456 [07:05<00:00,  1.07img/s, loss (batch)=0.669]\n",
      "Validation round: 100%|██████████| 115/115 [00:22<00:00,  5.22batch/s]\n"
     ]
    },
    {
     "name": "stdout",
     "output_type": "stream",
     "text": [
      "Validation dice loss: 1.6258549690246582, IoU Score 0.38116180896759033\n"
     ]
    },
    {
     "name": "stderr",
     "output_type": "stream",
     "text": [
      "Validation round: 100%|██████████| 115/115 [00:22<00:00,  5.17batch/s]\n"
     ]
    },
    {
     "name": "stdout",
     "output_type": "stream",
     "text": [
      "Validation dice loss: 1.6069971323013306, IoU Score 0.3566000163555145\n"
     ]
    },
    {
     "name": "stderr",
     "output_type": "stream",
     "text": [
      "Validation round: 100%|██████████| 115/115 [00:22<00:00,  5.22batch/s]\n"
     ]
    },
    {
     "name": "stdout",
     "output_type": "stream",
     "text": [
      "Validation dice loss: 1.6193506717681885, IoU Score 0.37889546155929565\n"
     ]
    },
    {
     "name": "stderr",
     "output_type": "stream",
     "text": [
      "Validation round: 100%|██████████| 115/115 [00:22<00:00,  5.20batch/s]\n"
     ]
    },
    {
     "name": "stdout",
     "output_type": "stream",
     "text": [
      "Validation dice loss: 1.5542455911636353, IoU Score 0.3603612184524536\n"
     ]
    },
    {
     "name": "stderr",
     "output_type": "stream",
     "text": [
      "Validation round: 100%|██████████| 115/115 [00:22<00:00,  5.21batch/s]\n"
     ]
    },
    {
     "name": "stdout",
     "output_type": "stream",
     "text": [
      "Validation dice loss: 1.5707262754440308, IoU Score 0.3524879217147827\n"
     ]
    },
    {
     "name": "stderr",
     "output_type": "stream",
     "text": [
      "Epoch 9/60: 100%|██████████| 456/456 [07:05<00:00,  1.07img/s, loss (batch)=0.772]\n",
      "Validation round: 100%|██████████| 115/115 [00:22<00:00,  5.20batch/s]\n"
     ]
    },
    {
     "name": "stdout",
     "output_type": "stream",
     "text": [
      "Validation dice loss: 1.613951325416565, IoU Score 0.36269402503967285\n"
     ]
    },
    {
     "name": "stderr",
     "output_type": "stream",
     "text": [
      "Validation round: 100%|██████████| 115/115 [00:22<00:00,  5.15batch/s]\n"
     ]
    },
    {
     "name": "stdout",
     "output_type": "stream",
     "text": [
      "Validation dice loss: 1.5002293586730957, IoU Score 0.3671548068523407\n"
     ]
    },
    {
     "name": "stderr",
     "output_type": "stream",
     "text": [
      "Validation round: 100%|██████████| 115/115 [00:22<00:00,  5.16batch/s]\n"
     ]
    },
    {
     "name": "stdout",
     "output_type": "stream",
     "text": [
      "Validation dice loss: 1.5062451362609863, IoU Score 0.3673717975616455\n"
     ]
    },
    {
     "name": "stderr",
     "output_type": "stream",
     "text": [
      "Validation round: 100%|██████████| 115/115 [00:22<00:00,  5.19batch/s]\n"
     ]
    },
    {
     "name": "stdout",
     "output_type": "stream",
     "text": [
      "Validation dice loss: 1.5654172897338867, IoU Score 0.3602044880390167\n"
     ]
    },
    {
     "name": "stderr",
     "output_type": "stream",
     "text": [
      "Validation round: 100%|██████████| 115/115 [00:21<00:00,  5.27batch/s]\n"
     ]
    },
    {
     "name": "stdout",
     "output_type": "stream",
     "text": [
      "Validation dice loss: 1.481806755065918, IoU Score 0.37004104256629944\n"
     ]
    },
    {
     "name": "stderr",
     "output_type": "stream",
     "text": [
      "Epoch 10/60: 100%|██████████| 456/456 [07:05<00:00,  1.07img/s, loss (batch)=0.699]\n",
      "Validation round: 100%|██████████| 115/115 [00:21<00:00,  5.23batch/s]\n"
     ]
    },
    {
     "name": "stdout",
     "output_type": "stream",
     "text": [
      "Validation dice loss: 1.395862102508545, IoU Score 0.3896852433681488\n"
     ]
    },
    {
     "name": "stderr",
     "output_type": "stream",
     "text": [
      "Validation round: 100%|██████████| 115/115 [00:22<00:00,  5.16batch/s]\n"
     ]
    },
    {
     "name": "stdout",
     "output_type": "stream",
     "text": [
      "Validation dice loss: 1.4224573373794556, IoU Score 0.39194127917289734\n"
     ]
    },
    {
     "name": "stderr",
     "output_type": "stream",
     "text": [
      "Validation round: 100%|██████████| 115/115 [00:22<00:00,  5.22batch/s]\n"
     ]
    },
    {
     "name": "stdout",
     "output_type": "stream",
     "text": [
      "Validation dice loss: 1.3418971300125122, IoU Score 0.3844412863254547\n"
     ]
    },
    {
     "name": "stderr",
     "output_type": "stream",
     "text": [
      "Validation round: 100%|██████████| 115/115 [00:22<00:00,  5.21batch/s]\n"
     ]
    },
    {
     "name": "stdout",
     "output_type": "stream",
     "text": [
      "Validation dice loss: 1.3862611055374146, IoU Score 0.3900178074836731\n"
     ]
    },
    {
     "name": "stderr",
     "output_type": "stream",
     "text": [
      "Validation round: 100%|██████████| 115/115 [00:21<00:00,  5.23batch/s]\n"
     ]
    },
    {
     "name": "stdout",
     "output_type": "stream",
     "text": [
      "Validation dice loss: 1.3923368453979492, IoU Score 0.37344998121261597\n"
     ]
    },
    {
     "name": "stderr",
     "output_type": "stream",
     "text": [
      "Epoch 11/60: 100%|██████████| 456/456 [07:05<00:00,  1.07img/s, loss (batch)=0.703]\n",
      "Validation round: 100%|██████████| 115/115 [00:21<00:00,  5.24batch/s]\n"
     ]
    },
    {
     "name": "stdout",
     "output_type": "stream",
     "text": [
      "Validation dice loss: 1.3510246276855469, IoU Score 0.39966118335723877\n"
     ]
    },
    {
     "name": "stderr",
     "output_type": "stream",
     "text": [
      "Validation round: 100%|██████████| 115/115 [00:22<00:00,  5.20batch/s]\n"
     ]
    },
    {
     "name": "stdout",
     "output_type": "stream",
     "text": [
      "Validation dice loss: 1.3663196563720703, IoU Score 0.3936757445335388\n"
     ]
    },
    {
     "name": "stderr",
     "output_type": "stream",
     "text": [
      "Validation round: 100%|██████████| 115/115 [00:21<00:00,  5.25batch/s]\n"
     ]
    },
    {
     "name": "stdout",
     "output_type": "stream",
     "text": [
      "Validation dice loss: 1.3085722923278809, IoU Score 0.41925114393234253\n"
     ]
    },
    {
     "name": "stderr",
     "output_type": "stream",
     "text": [
      "Validation round: 100%|██████████| 115/115 [00:21<00:00,  5.25batch/s]\n"
     ]
    },
    {
     "name": "stdout",
     "output_type": "stream",
     "text": [
      "Validation dice loss: 1.3271359205245972, IoU Score 0.39792072772979736\n"
     ]
    },
    {
     "name": "stderr",
     "output_type": "stream",
     "text": [
      "Validation round: 100%|██████████| 115/115 [00:21<00:00,  5.25batch/s]\n"
     ]
    },
    {
     "name": "stdout",
     "output_type": "stream",
     "text": [
      "Validation dice loss: 1.2469429969787598, IoU Score 0.4283502399921417\n"
     ]
    },
    {
     "name": "stderr",
     "output_type": "stream",
     "text": [
      "Epoch 12/60: 100%|██████████| 456/456 [07:04<00:00,  1.08img/s, loss (batch)=0.497]\n",
      "Validation round: 100%|██████████| 115/115 [00:21<00:00,  5.24batch/s]\n"
     ]
    },
    {
     "name": "stdout",
     "output_type": "stream",
     "text": [
      "Validation dice loss: 1.2598655223846436, IoU Score 0.4226320683956146\n"
     ]
    },
    {
     "name": "stderr",
     "output_type": "stream",
     "text": [
      "Validation round: 100%|██████████| 115/115 [00:22<00:00,  5.19batch/s]\n"
     ]
    },
    {
     "name": "stdout",
     "output_type": "stream",
     "text": [
      "Validation dice loss: 1.277414321899414, IoU Score 0.4024152159690857\n"
     ]
    },
    {
     "name": "stderr",
     "output_type": "stream",
     "text": [
      "Validation round: 100%|██████████| 115/115 [00:21<00:00,  5.23batch/s]\n"
     ]
    },
    {
     "name": "stdout",
     "output_type": "stream",
     "text": [
      "Validation dice loss: 1.2617149353027344, IoU Score 0.4300955533981323\n"
     ]
    },
    {
     "name": "stderr",
     "output_type": "stream",
     "text": [
      "Validation round: 100%|██████████| 115/115 [00:22<00:00,  5.22batch/s]\n"
     ]
    },
    {
     "name": "stdout",
     "output_type": "stream",
     "text": [
      "Validation dice loss: 1.2733891010284424, IoU Score 0.4138202369213104\n"
     ]
    },
    {
     "name": "stderr",
     "output_type": "stream",
     "text": [
      "Validation round: 100%|██████████| 115/115 [00:22<00:00,  5.22batch/s]\n"
     ]
    },
    {
     "name": "stdout",
     "output_type": "stream",
     "text": [
      "Validation dice loss: 1.2482372522354126, IoU Score 0.4168388843536377\n"
     ]
    },
    {
     "name": "stderr",
     "output_type": "stream",
     "text": [
      "Epoch 13/60: 100%|██████████| 456/456 [07:04<00:00,  1.07img/s, loss (batch)=0.65]\n",
      "Validation round: 100%|██████████| 115/115 [00:21<00:00,  5.24batch/s]\n"
     ]
    },
    {
     "name": "stdout",
     "output_type": "stream",
     "text": [
      "Validation dice loss: 1.193285584449768, IoU Score 0.4271382987499237\n"
     ]
    },
    {
     "name": "stderr",
     "output_type": "stream",
     "text": [
      "Validation round: 100%|██████████| 115/115 [00:21<00:00,  5.24batch/s]\n"
     ]
    },
    {
     "name": "stdout",
     "output_type": "stream",
     "text": [
      "Validation dice loss: 1.1728407144546509, IoU Score 0.4452116787433624\n"
     ]
    },
    {
     "name": "stderr",
     "output_type": "stream",
     "text": [
      "Validation round: 100%|██████████| 115/115 [00:22<00:00,  5.21batch/s]\n"
     ]
    },
    {
     "name": "stdout",
     "output_type": "stream",
     "text": [
      "Validation dice loss: 1.1983757019042969, IoU Score 0.4296225905418396\n"
     ]
    },
    {
     "name": "stderr",
     "output_type": "stream",
     "text": [
      "Validation round: 100%|██████████| 115/115 [00:22<00:00,  5.16batch/s]\n"
     ]
    },
    {
     "name": "stdout",
     "output_type": "stream",
     "text": [
      "Validation dice loss: 1.1999669075012207, IoU Score 0.45456573367118835\n"
     ]
    },
    {
     "name": "stderr",
     "output_type": "stream",
     "text": [
      "Validation round: 100%|██████████| 115/115 [00:22<00:00,  5.19batch/s]\n"
     ]
    },
    {
     "name": "stdout",
     "output_type": "stream",
     "text": [
      "Validation dice loss: 1.1814000606536865, IoU Score 0.4442387521266937\n"
     ]
    },
    {
     "name": "stderr",
     "output_type": "stream",
     "text": [
      "Epoch 14/60: 100%|██████████| 456/456 [07:05<00:00,  1.07img/s, loss (batch)=0.64]\n",
      "Validation round: 100%|██████████| 115/115 [00:22<00:00,  5.21batch/s]\n"
     ]
    },
    {
     "name": "stdout",
     "output_type": "stream",
     "text": [
      "Validation dice loss: 1.1423072814941406, IoU Score 0.4532111585140228\n"
     ]
    },
    {
     "name": "stderr",
     "output_type": "stream",
     "text": [
      "Validation round: 100%|██████████| 115/115 [00:21<00:00,  5.24batch/s]\n"
     ]
    },
    {
     "name": "stdout",
     "output_type": "stream",
     "text": [
      "Validation dice loss: 1.1486992835998535, IoU Score 0.45398375391960144\n"
     ]
    },
    {
     "name": "stderr",
     "output_type": "stream",
     "text": [
      "Validation round: 100%|██████████| 115/115 [00:22<00:00,  5.23batch/s]\n"
     ]
    },
    {
     "name": "stdout",
     "output_type": "stream",
     "text": [
      "Validation dice loss: 1.1316801309585571, IoU Score 0.45746782422065735\n"
     ]
    },
    {
     "name": "stderr",
     "output_type": "stream",
     "text": [
      "Validation round: 100%|██████████| 115/115 [00:22<00:00,  5.21batch/s]\n"
     ]
    },
    {
     "name": "stdout",
     "output_type": "stream",
     "text": [
      "Validation dice loss: 1.1286485195159912, IoU Score 0.4636880159378052\n"
     ]
    },
    {
     "name": "stderr",
     "output_type": "stream",
     "text": [
      "Validation round: 100%|██████████| 115/115 [00:21<00:00,  5.24batch/s]\n"
     ]
    },
    {
     "name": "stdout",
     "output_type": "stream",
     "text": [
      "Validation dice loss: 1.1195974349975586, IoU Score 0.4550441801548004\n"
     ]
    },
    {
     "name": "stderr",
     "output_type": "stream",
     "text": [
      "Validation round: 100%|██████████| 115/115 [00:21<00:00,  5.23batch/s]\n"
     ]
    },
    {
     "name": "stdout",
     "output_type": "stream",
     "text": [
      "Validation dice loss: 1.160341501235962, IoU Score 0.466595858335495\n"
     ]
    },
    {
     "name": "stderr",
     "output_type": "stream",
     "text": [
      "Epoch 15/60: 100%|██████████| 456/456 [07:27<00:00,  1.02img/s, loss (batch)=0.597]\n",
      "Validation round: 100%|██████████| 115/115 [00:22<00:00,  5.23batch/s]\n"
     ]
    },
    {
     "name": "stdout",
     "output_type": "stream",
     "text": [
      "Validation dice loss: 1.0885367393493652, IoU Score 0.462952196598053\n"
     ]
    },
    {
     "name": "stderr",
     "output_type": "stream",
     "text": [
      "Validation round: 100%|██████████| 115/115 [00:22<00:00,  5.22batch/s]\n"
     ]
    },
    {
     "name": "stdout",
     "output_type": "stream",
     "text": [
      "Validation dice loss: 1.1031173467636108, IoU Score 0.4656609296798706\n"
     ]
    },
    {
     "name": "stderr",
     "output_type": "stream",
     "text": [
      "Validation round: 100%|██████████| 115/115 [00:21<00:00,  5.24batch/s]\n"
     ]
    },
    {
     "name": "stdout",
     "output_type": "stream",
     "text": [
      "Validation dice loss: 1.073625922203064, IoU Score 0.46624988317489624\n"
     ]
    },
    {
     "name": "stderr",
     "output_type": "stream",
     "text": [
      "Validation round: 100%|██████████| 115/115 [00:21<00:00,  5.24batch/s]\n"
     ]
    },
    {
     "name": "stdout",
     "output_type": "stream",
     "text": [
      "Validation dice loss: 1.0991774797439575, IoU Score 0.46529632806777954\n"
     ]
    },
    {
     "name": "stderr",
     "output_type": "stream",
     "text": [
      "Validation round: 100%|██████████| 115/115 [00:21<00:00,  5.23batch/s]\n"
     ]
    },
    {
     "name": "stdout",
     "output_type": "stream",
     "text": [
      "Validation dice loss: 1.0766240358352661, IoU Score 0.46309587359428406\n"
     ]
    },
    {
     "name": "stderr",
     "output_type": "stream",
     "text": [
      "Epoch 16/60: 100%|██████████| 456/456 [07:04<00:00,  1.07img/s, loss (batch)=0.514]\n",
      "Validation round: 100%|██████████| 115/115 [00:22<00:00,  5.18batch/s]\n"
     ]
    },
    {
     "name": "stdout",
     "output_type": "stream",
     "text": [
      "Validation dice loss: 1.0505671501159668, IoU Score 0.46701475977897644\n"
     ]
    },
    {
     "name": "stderr",
     "output_type": "stream",
     "text": [
      "Validation round: 100%|██████████| 115/115 [00:22<00:00,  5.17batch/s]\n"
     ]
    },
    {
     "name": "stdout",
     "output_type": "stream",
     "text": [
      "Validation dice loss: 1.1162517070770264, IoU Score 0.47003158926963806\n"
     ]
    },
    {
     "name": "stderr",
     "output_type": "stream",
     "text": [
      "Validation round: 100%|██████████| 115/115 [00:22<00:00,  5.20batch/s]\n"
     ]
    },
    {
     "name": "stdout",
     "output_type": "stream",
     "text": [
      "Validation dice loss: 1.0884286165237427, IoU Score 0.4763035476207733\n"
     ]
    },
    {
     "name": "stderr",
     "output_type": "stream",
     "text": [
      "Validation round: 100%|██████████| 115/115 [00:22<00:00,  5.19batch/s]\n"
     ]
    },
    {
     "name": "stdout",
     "output_type": "stream",
     "text": [
      "Validation dice loss: 1.0114871263504028, IoU Score 0.4842621088027954\n"
     ]
    },
    {
     "name": "stderr",
     "output_type": "stream",
     "text": [
      "Validation round: 100%|██████████| 115/115 [00:22<00:00,  5.15batch/s]\n"
     ]
    },
    {
     "name": "stdout",
     "output_type": "stream",
     "text": [
      "Validation dice loss: 1.0791821479797363, IoU Score 0.47730153799057007\n"
     ]
    },
    {
     "name": "stderr",
     "output_type": "stream",
     "text": [
      "Epoch 17/60: 100%|██████████| 456/456 [07:06<00:00,  1.07img/s, loss (batch)=0.675]\n",
      "Validation round: 100%|██████████| 115/115 [00:22<00:00,  5.19batch/s]\n"
     ]
    },
    {
     "name": "stdout",
     "output_type": "stream",
     "text": [
      "Validation dice loss: 1.0548561811447144, IoU Score 0.48394596576690674\n"
     ]
    },
    {
     "name": "stderr",
     "output_type": "stream",
     "text": [
      "Validation round: 100%|██████████| 115/115 [00:22<00:00,  5.19batch/s]\n"
     ]
    },
    {
     "name": "stdout",
     "output_type": "stream",
     "text": [
      "Validation dice loss: 1.030046820640564, IoU Score 0.47870832681655884\n"
     ]
    },
    {
     "name": "stderr",
     "output_type": "stream",
     "text": [
      "Validation round: 100%|██████████| 115/115 [00:22<00:00,  5.19batch/s]\n"
     ]
    },
    {
     "name": "stdout",
     "output_type": "stream",
     "text": [
      "Validation dice loss: 1.0248419046401978, IoU Score 0.4919513761997223\n"
     ]
    },
    {
     "name": "stderr",
     "output_type": "stream",
     "text": [
      "Validation round: 100%|██████████| 115/115 [00:22<00:00,  5.19batch/s]\n"
     ]
    },
    {
     "name": "stdout",
     "output_type": "stream",
     "text": [
      "Validation dice loss: 1.023416519165039, IoU Score 0.48451846837997437\n"
     ]
    },
    {
     "name": "stderr",
     "output_type": "stream",
     "text": [
      "Validation round: 100%|██████████| 115/115 [00:22<00:00,  5.20batch/s]\n"
     ]
    },
    {
     "name": "stdout",
     "output_type": "stream",
     "text": [
      "Validation dice loss: 0.978287398815155, IoU Score 0.49155715107917786\n"
     ]
    },
    {
     "name": "stderr",
     "output_type": "stream",
     "text": [
      "Epoch 18/60:  99%|█████████▉| 452/456 [07:03<00:04,  1.08s/img, loss (batch)=0.491]wandb: Network error (ReadTimeout), entering retry loop.\n",
      "wandb: Network error (ReadTimeout), entering retry loop.\n",
      "wandb: Network error (ReadTimeout), entering retry loop.\n",
      "wandb: Network error (ReadTimeout), entering retry loop.\n",
      "wandb: Network error (ReadTimeout), entering retry loop.\n",
      "Epoch 18/60: 100%|██████████| 456/456 [07:06<00:00,  1.07img/s, loss (batch)=0.748]\n",
      "Validation round: 100%|██████████| 115/115 [00:22<00:00,  5.20batch/s]\n"
     ]
    },
    {
     "name": "stdout",
     "output_type": "stream",
     "text": [
      "Validation dice loss: 0.9914577007293701, IoU Score 0.49383026361465454\n"
     ]
    },
    {
     "name": "stderr",
     "output_type": "stream",
     "text": [
      "Epoch 19/60:  21%|██        | 96/456 [01:28<04:30,  1.33img/s, loss (batch)=0.453]wandb: Network error (ReadTimeout), entering retry loop.\n",
      "Validation round: 100%|██████████| 115/115 [00:22<00:00,  5.18batch/s]\n"
     ]
    },
    {
     "name": "stdout",
     "output_type": "stream",
     "text": [
      "Validation dice loss: 0.9878460168838501, IoU Score 0.4854147732257843\n"
     ]
    },
    {
     "name": "stderr",
     "output_type": "stream",
     "text": [
      "Epoch 19/60:  39%|███▊      | 176/456 [02:46<05:05,  1.09s/img, loss (batch)=0.617]wandb: Network error (ReadTimeout), entering retry loop.\n",
      "wandb: Network error (ReadTimeout), entering retry loop.\n",
      "wandb: Network error (ReadTimeout), entering retry loop.\n",
      "wandb: Network error (ReadTimeout), entering retry loop.\n",
      "Validation round: 100%|██████████| 115/115 [00:22<00:00,  5.20batch/s]\n"
     ]
    },
    {
     "name": "stdout",
     "output_type": "stream",
     "text": [
      "Validation dice loss: 1.109827995300293, IoU Score 0.4255305826663971\n"
     ]
    },
    {
     "name": "stderr",
     "output_type": "stream",
     "text": [
      "Epoch 19/60:  58%|█████▊    | 266/456 [04:10<03:26,  1.09s/img, loss (batch)=0.514]wandb: Network error (ReadTimeout), entering retry loop.\n",
      "wandb: Network error (ReadTimeout), entering retry loop.\n",
      "wandb: Network error (ReadTimeout), entering retry loop.\n",
      "Epoch 19/60:  70%|███████   | 320/456 [04:47<01:33,  1.46img/s, loss (batch)=0.811]wandb: ERROR Error while calling W&B API: An internal error occurred. Please contact support. (<Response [500]>)\n",
      "Validation round: 100%|██████████| 115/115 [00:22<00:00,  5.19batch/s]\n"
     ]
    },
    {
     "name": "stdout",
     "output_type": "stream",
     "text": [
      "Validation dice loss: 0.98133385181427, IoU Score 0.5088827610015869\n"
     ]
    },
    {
     "name": "stderr",
     "output_type": "stream",
     "text": [
      "Validation round: 100%|██████████| 115/115 [00:22<00:00,  5.19batch/s]\n"
     ]
    },
    {
     "name": "stdout",
     "output_type": "stream",
     "text": [
      "Validation dice loss: 0.8785313367843628, IoU Score 0.48806536197662354\n"
     ]
    },
    {
     "name": "stderr",
     "output_type": "stream",
     "text": [
      "Epoch 19/60: 100%|██████████| 456/456 [07:06<00:00,  1.07img/s, loss (batch)=0.334]\n",
      "Validation round: 100%|██████████| 115/115 [00:22<00:00,  5.20batch/s]\n"
     ]
    },
    {
     "name": "stdout",
     "output_type": "stream",
     "text": [
      "Validation dice loss: 0.9258245825767517, IoU Score 0.5065787434577942\n"
     ]
    },
    {
     "name": "stderr",
     "output_type": "stream",
     "text": [
      "Validation round: 100%|██████████| 115/115 [00:22<00:00,  5.20batch/s]\n"
     ]
    },
    {
     "name": "stdout",
     "output_type": "stream",
     "text": [
      "Validation dice loss: 0.8933254480361938, IoU Score 0.5165405869483948\n"
     ]
    },
    {
     "name": "stderr",
     "output_type": "stream",
     "text": [
      "Validation round: 100%|██████████| 115/115 [00:22<00:00,  5.21batch/s]\n"
     ]
    },
    {
     "name": "stdout",
     "output_type": "stream",
     "text": [
      "Validation dice loss: 0.8437716960906982, IoU Score 0.5001993775367737\n"
     ]
    },
    {
     "name": "stderr",
     "output_type": "stream",
     "text": [
      "Validation round: 100%|██████████| 115/115 [00:22<00:00,  5.20batch/s]\n"
     ]
    },
    {
     "name": "stdout",
     "output_type": "stream",
     "text": [
      "Validation dice loss: 0.8348462581634521, IoU Score 0.5218749642372131\n"
     ]
    },
    {
     "name": "stderr",
     "output_type": "stream",
     "text": [
      "Validation round: 100%|██████████| 115/115 [00:22<00:00,  5.16batch/s]\n"
     ]
    },
    {
     "name": "stdout",
     "output_type": "stream",
     "text": [
      "Validation dice loss: 0.7958152294158936, IoU Score 0.5288357734680176\n"
     ]
    },
    {
     "name": "stderr",
     "output_type": "stream",
     "text": [
      "Epoch 20/60: 100%|██████████| 456/456 [07:05<00:00,  1.07img/s, loss (batch)=0.427]\n",
      "Validation round: 100%|██████████| 115/115 [00:22<00:00,  5.21batch/s]\n"
     ]
    },
    {
     "name": "stdout",
     "output_type": "stream",
     "text": [
      "Validation dice loss: 0.7907336354255676, IoU Score 0.5257584452629089\n"
     ]
    },
    {
     "name": "stderr",
     "output_type": "stream",
     "text": [
      "Validation round: 100%|██████████| 115/115 [00:22<00:00,  5.22batch/s]\n"
     ]
    },
    {
     "name": "stdout",
     "output_type": "stream",
     "text": [
      "Validation dice loss: 0.8155817985534668, IoU Score 0.5266051292419434\n"
     ]
    },
    {
     "name": "stderr",
     "output_type": "stream",
     "text": [
      "Validation round: 100%|██████████| 115/115 [00:22<00:00,  5.20batch/s]\n"
     ]
    },
    {
     "name": "stdout",
     "output_type": "stream",
     "text": [
      "Validation dice loss: 0.778171956539154, IoU Score 0.5177289843559265\n"
     ]
    },
    {
     "name": "stderr",
     "output_type": "stream",
     "text": [
      "Validation round: 100%|██████████| 115/115 [00:22<00:00,  5.18batch/s]\n"
     ]
    },
    {
     "name": "stdout",
     "output_type": "stream",
     "text": [
      "Validation dice loss: 0.8808701038360596, IoU Score 0.5079363584518433\n"
     ]
    },
    {
     "name": "stderr",
     "output_type": "stream",
     "text": [
      "Validation round: 100%|██████████| 115/115 [00:22<00:00,  5.16batch/s]\n"
     ]
    },
    {
     "name": "stdout",
     "output_type": "stream",
     "text": [
      "Validation dice loss: 0.7746729850769043, IoU Score 0.5291405916213989\n"
     ]
    },
    {
     "name": "stderr",
     "output_type": "stream",
     "text": [
      "Epoch 21/60: 100%|██████████| 456/456 [07:05<00:00,  1.07img/s, loss (batch)=0.334]\n",
      "Validation round: 100%|██████████| 115/115 [00:22<00:00,  5.20batch/s]\n"
     ]
    },
    {
     "name": "stdout",
     "output_type": "stream",
     "text": [
      "Validation dice loss: 0.7857028841972351, IoU Score 0.5332406163215637\n"
     ]
    },
    {
     "name": "stderr",
     "output_type": "stream",
     "text": [
      "Validation round: 100%|██████████| 115/115 [00:22<00:00,  5.19batch/s]\n"
     ]
    },
    {
     "name": "stdout",
     "output_type": "stream",
     "text": [
      "Validation dice loss: 0.7422196269035339, IoU Score 0.5365014672279358\n"
     ]
    },
    {
     "name": "stderr",
     "output_type": "stream",
     "text": [
      "Validation round: 100%|██████████| 115/115 [00:22<00:00,  5.17batch/s]\n"
     ]
    },
    {
     "name": "stdout",
     "output_type": "stream",
     "text": [
      "Validation dice loss: 0.7091320157051086, IoU Score 0.5388737916946411\n"
     ]
    },
    {
     "name": "stderr",
     "output_type": "stream",
     "text": [
      "Validation round: 100%|██████████| 115/115 [00:22<00:00,  5.18batch/s]\n"
     ]
    },
    {
     "name": "stdout",
     "output_type": "stream",
     "text": [
      "Validation dice loss: 0.7151497006416321, IoU Score 0.5276244282722473\n"
     ]
    },
    {
     "name": "stderr",
     "output_type": "stream",
     "text": [
      "Validation round: 100%|██████████| 115/115 [00:22<00:00,  5.17batch/s]\n"
     ]
    },
    {
     "name": "stdout",
     "output_type": "stream",
     "text": [
      "Validation dice loss: 0.6804537177085876, IoU Score 0.5463263392448425\n"
     ]
    },
    {
     "name": "stderr",
     "output_type": "stream",
     "text": [
      "Epoch 22/60: 100%|██████████| 456/456 [07:05<00:00,  1.07img/s, loss (batch)=0.466]\n",
      "Validation round: 100%|██████████| 115/115 [00:22<00:00,  5.17batch/s]\n"
     ]
    },
    {
     "name": "stdout",
     "output_type": "stream",
     "text": [
      "Validation dice loss: 0.6904230713844299, IoU Score 0.5210365653038025\n"
     ]
    },
    {
     "name": "stderr",
     "output_type": "stream",
     "text": [
      "Validation round: 100%|██████████| 115/115 [00:21<00:00,  5.24batch/s]\n"
     ]
    },
    {
     "name": "stdout",
     "output_type": "stream",
     "text": [
      "Validation dice loss: 0.6994189620018005, IoU Score 0.5508564114570618\n"
     ]
    },
    {
     "name": "stderr",
     "output_type": "stream",
     "text": [
      "Validation round: 100%|██████████| 115/115 [00:21<00:00,  5.23batch/s]\n"
     ]
    },
    {
     "name": "stdout",
     "output_type": "stream",
     "text": [
      "Validation dice loss: 0.7068396806716919, IoU Score 0.5397676825523376\n"
     ]
    },
    {
     "name": "stderr",
     "output_type": "stream",
     "text": [
      "Validation round: 100%|██████████| 115/115 [00:22<00:00,  5.22batch/s]\n"
     ]
    },
    {
     "name": "stdout",
     "output_type": "stream",
     "text": [
      "Validation dice loss: 0.6657412648200989, IoU Score 0.5450183153152466\n"
     ]
    },
    {
     "name": "stderr",
     "output_type": "stream",
     "text": [
      "Validation round: 100%|██████████| 115/115 [00:22<00:00,  5.20batch/s]\n"
     ]
    },
    {
     "name": "stdout",
     "output_type": "stream",
     "text": [
      "Validation dice loss: 0.6841006875038147, IoU Score 0.5472044944763184\n"
     ]
    },
    {
     "name": "stderr",
     "output_type": "stream",
     "text": [
      "Epoch 23/60: 100%|██████████| 456/456 [07:05<00:00,  1.07img/s, loss (batch)=0.345]\n",
      "Validation round: 100%|██████████| 115/115 [00:22<00:00,  5.21batch/s]\n"
     ]
    },
    {
     "name": "stdout",
     "output_type": "stream",
     "text": [
      "Validation dice loss: 0.8335338830947876, IoU Score 0.48904603719711304\n"
     ]
    },
    {
     "name": "stderr",
     "output_type": "stream",
     "text": [
      "Validation round: 100%|██████████| 115/115 [00:21<00:00,  5.24batch/s]\n"
     ]
    },
    {
     "name": "stdout",
     "output_type": "stream",
     "text": [
      "Validation dice loss: 0.6952958106994629, IoU Score 0.5381759405136108\n"
     ]
    },
    {
     "name": "stderr",
     "output_type": "stream",
     "text": [
      "Validation round: 100%|██████████| 115/115 [00:21<00:00,  5.25batch/s]\n"
     ]
    },
    {
     "name": "stdout",
     "output_type": "stream",
     "text": [
      "Validation dice loss: 0.6676457524299622, IoU Score 0.5500362515449524\n"
     ]
    },
    {
     "name": "stderr",
     "output_type": "stream",
     "text": [
      "Validation round: 100%|██████████| 115/115 [00:21<00:00,  5.24batch/s]\n"
     ]
    },
    {
     "name": "stdout",
     "output_type": "stream",
     "text": [
      "Validation dice loss: 0.6494768857955933, IoU Score 0.5636987090110779\n"
     ]
    },
    {
     "name": "stderr",
     "output_type": "stream",
     "text": [
      "Validation round: 100%|██████████| 115/115 [00:22<00:00,  5.21batch/s]\n"
     ]
    },
    {
     "name": "stdout",
     "output_type": "stream",
     "text": [
      "Validation dice loss: 0.6608109474182129, IoU Score 0.5475330352783203\n"
     ]
    },
    {
     "name": "stderr",
     "output_type": "stream",
     "text": [
      "Epoch 24/60: 100%|██████████| 456/456 [07:04<00:00,  1.07img/s, loss (batch)=0.435]\n",
      "Validation round: 100%|██████████| 115/115 [00:21<00:00,  5.26batch/s]\n"
     ]
    },
    {
     "name": "stdout",
     "output_type": "stream",
     "text": [
      "Validation dice loss: 0.6477510929107666, IoU Score 0.5555020570755005\n"
     ]
    },
    {
     "name": "stderr",
     "output_type": "stream",
     "text": [
      "Validation round: 100%|██████████| 115/115 [00:22<00:00,  5.20batch/s]\n"
     ]
    },
    {
     "name": "stdout",
     "output_type": "stream",
     "text": [
      "Validation dice loss: 0.7198947072029114, IoU Score 0.5238884091377258\n"
     ]
    },
    {
     "name": "stderr",
     "output_type": "stream",
     "text": [
      "Validation round: 100%|██████████| 115/115 [00:21<00:00,  5.24batch/s]\n"
     ]
    },
    {
     "name": "stdout",
     "output_type": "stream",
     "text": [
      "Validation dice loss: 0.6797783374786377, IoU Score 0.547382652759552\n"
     ]
    },
    {
     "name": "stderr",
     "output_type": "stream",
     "text": [
      "Validation round: 100%|██████████| 115/115 [00:21<00:00,  5.25batch/s]\n"
     ]
    },
    {
     "name": "stdout",
     "output_type": "stream",
     "text": [
      "Validation dice loss: 0.6512355804443359, IoU Score 0.5512458086013794\n"
     ]
    },
    {
     "name": "stderr",
     "output_type": "stream",
     "text": [
      "Validation round: 100%|██████████| 115/115 [00:22<00:00,  5.21batch/s]\n"
     ]
    },
    {
     "name": "stdout",
     "output_type": "stream",
     "text": [
      "Validation dice loss: 0.6414428949356079, IoU Score 0.5498567819595337\n"
     ]
    },
    {
     "name": "stderr",
     "output_type": "stream",
     "text": [
      "Epoch 25/60: 100%|██████████| 456/456 [07:04<00:00,  1.07img/s, loss (batch)=0.477]\n",
      "Validation round: 100%|██████████| 115/115 [00:21<00:00,  5.23batch/s]\n"
     ]
    },
    {
     "name": "stdout",
     "output_type": "stream",
     "text": [
      "Validation dice loss: 0.6752045154571533, IoU Score 0.5454510450363159\n"
     ]
    },
    {
     "name": "stderr",
     "output_type": "stream",
     "text": [
      "Validation round: 100%|██████████| 115/115 [00:21<00:00,  5.25batch/s]\n"
     ]
    },
    {
     "name": "stdout",
     "output_type": "stream",
     "text": [
      "Validation dice loss: 0.6201091408729553, IoU Score 0.5666581988334656\n"
     ]
    },
    {
     "name": "stderr",
     "output_type": "stream",
     "text": [
      "Validation round: 100%|██████████| 115/115 [00:21<00:00,  5.25batch/s]\n"
     ]
    },
    {
     "name": "stdout",
     "output_type": "stream",
     "text": [
      "Validation dice loss: 0.6465586423873901, IoU Score 0.5356782674789429\n"
     ]
    },
    {
     "name": "stderr",
     "output_type": "stream",
     "text": [
      "Validation round: 100%|██████████| 115/115 [00:22<00:00,  5.21batch/s]\n"
     ]
    },
    {
     "name": "stdout",
     "output_type": "stream",
     "text": [
      "Validation dice loss: 0.6326687335968018, IoU Score 0.5663189888000488\n"
     ]
    },
    {
     "name": "stderr",
     "output_type": "stream",
     "text": [
      "Validation round: 100%|██████████| 115/115 [00:22<00:00,  5.21batch/s]\n"
     ]
    },
    {
     "name": "stdout",
     "output_type": "stream",
     "text": [
      "Validation dice loss: 0.6286627650260925, IoU Score 0.5590416789054871\n"
     ]
    },
    {
     "name": "stderr",
     "output_type": "stream",
     "text": [
      "Epoch 26/60: 100%|██████████| 456/456 [07:04<00:00,  1.07img/s, loss (batch)=0.324]\n",
      "Validation round: 100%|██████████| 115/115 [00:21<00:00,  5.25batch/s]\n"
     ]
    },
    {
     "name": "stdout",
     "output_type": "stream",
     "text": [
      "Validation dice loss: 0.6350961327552795, IoU Score 0.5621298551559448\n"
     ]
    },
    {
     "name": "stderr",
     "output_type": "stream",
     "text": [
      "Validation round: 100%|██████████| 115/115 [00:21<00:00,  5.24batch/s]\n"
     ]
    },
    {
     "name": "stdout",
     "output_type": "stream",
     "text": [
      "Validation dice loss: 0.5983041524887085, IoU Score 0.5733363628387451\n"
     ]
    },
    {
     "name": "stderr",
     "output_type": "stream",
     "text": [
      "Validation round: 100%|██████████| 115/115 [00:21<00:00,  5.23batch/s]\n"
     ]
    },
    {
     "name": "stdout",
     "output_type": "stream",
     "text": [
      "Validation dice loss: 0.593843400478363, IoU Score 0.5762407183647156\n"
     ]
    },
    {
     "name": "stderr",
     "output_type": "stream",
     "text": [
      "Validation round: 100%|██████████| 115/115 [00:22<00:00,  5.21batch/s]\n"
     ]
    },
    {
     "name": "stdout",
     "output_type": "stream",
     "text": [
      "Validation dice loss: 0.6366990208625793, IoU Score 0.5625189542770386\n"
     ]
    },
    {
     "name": "stderr",
     "output_type": "stream",
     "text": [
      "Validation round: 100%|██████████| 115/115 [00:22<00:00,  5.13batch/s]\n"
     ]
    },
    {
     "name": "stdout",
     "output_type": "stream",
     "text": [
      "Validation dice loss: 0.5984418392181396, IoU Score 0.5638607740402222\n"
     ]
    },
    {
     "name": "stderr",
     "output_type": "stream",
     "text": [
      "Epoch 27/60: 100%|██████████| 456/456 [07:04<00:00,  1.07img/s, loss (batch)=0.299]\n",
      "Validation round: 100%|██████████| 115/115 [00:22<00:00,  5.21batch/s]\n"
     ]
    },
    {
     "name": "stdout",
     "output_type": "stream",
     "text": [
      "Validation dice loss: 0.5880143642425537, IoU Score 0.5674232840538025\n"
     ]
    },
    {
     "name": "stderr",
     "output_type": "stream",
     "text": [
      "Validation round: 100%|██████████| 115/115 [00:22<00:00,  5.21batch/s]\n"
     ]
    },
    {
     "name": "stdout",
     "output_type": "stream",
     "text": [
      "Validation dice loss: 0.6974976658821106, IoU Score 0.5253005623817444\n"
     ]
    },
    {
     "name": "stderr",
     "output_type": "stream",
     "text": [
      "Validation round: 100%|██████████| 115/115 [00:22<00:00,  5.21batch/s]\n"
     ]
    },
    {
     "name": "stdout",
     "output_type": "stream",
     "text": [
      "Validation dice loss: 0.5399447679519653, IoU Score 0.5756020545959473\n"
     ]
    },
    {
     "name": "stderr",
     "output_type": "stream",
     "text": [
      "Validation round: 100%|██████████| 115/115 [00:22<00:00,  5.22batch/s]\n"
     ]
    },
    {
     "name": "stdout",
     "output_type": "stream",
     "text": [
      "Validation dice loss: 0.5979261994361877, IoU Score 0.5639282464981079\n"
     ]
    },
    {
     "name": "stderr",
     "output_type": "stream",
     "text": [
      "Validation round: 100%|██████████| 115/115 [00:22<00:00,  5.13batch/s]\n"
     ]
    },
    {
     "name": "stdout",
     "output_type": "stream",
     "text": [
      "Validation dice loss: 0.5955891609191895, IoU Score 0.5674813985824585\n"
     ]
    },
    {
     "name": "stderr",
     "output_type": "stream",
     "text": [
      "Epoch 28/60: 100%|██████████| 456/456 [07:05<00:00,  1.07img/s, loss (batch)=0.19]\n",
      "Validation round: 100%|██████████| 115/115 [00:22<00:00,  5.14batch/s]\n"
     ]
    },
    {
     "name": "stdout",
     "output_type": "stream",
     "text": [
      "Validation dice loss: 0.6074442863464355, IoU Score 0.5708070993423462\n"
     ]
    },
    {
     "name": "stderr",
     "output_type": "stream",
     "text": [
      "Validation round: 100%|██████████| 115/115 [00:22<00:00,  5.19batch/s]\n"
     ]
    },
    {
     "name": "stdout",
     "output_type": "stream",
     "text": [
      "Validation dice loss: 0.6523956656455994, IoU Score 0.5484946966171265\n"
     ]
    },
    {
     "name": "stderr",
     "output_type": "stream",
     "text": [
      "Validation round: 100%|██████████| 115/115 [00:22<00:00,  5.20batch/s]\n"
     ]
    },
    {
     "name": "stdout",
     "output_type": "stream",
     "text": [
      "Validation dice loss: 0.6636160016059875, IoU Score 0.5486351251602173\n"
     ]
    },
    {
     "name": "stderr",
     "output_type": "stream",
     "text": [
      "Validation round: 100%|██████████| 115/115 [00:22<00:00,  5.15batch/s]\n"
     ]
    },
    {
     "name": "stdout",
     "output_type": "stream",
     "text": [
      "Validation dice loss: 0.5799978971481323, IoU Score 0.5792556405067444\n"
     ]
    },
    {
     "name": "stderr",
     "output_type": "stream",
     "text": [
      "Validation round: 100%|██████████| 115/115 [00:22<00:00,  5.13batch/s]\n"
     ]
    },
    {
     "name": "stdout",
     "output_type": "stream",
     "text": [
      "Validation dice loss: 0.5713559985160828, IoU Score 0.5805312991142273\n"
     ]
    },
    {
     "name": "stderr",
     "output_type": "stream",
     "text": [
      "Epoch 29/60: 100%|██████████| 456/456 [07:06<00:00,  1.07img/s, loss (batch)=0.355]\n",
      "Validation round: 100%|██████████| 115/115 [00:22<00:00,  5.17batch/s]\n"
     ]
    },
    {
     "name": "stdout",
     "output_type": "stream",
     "text": [
      "Validation dice loss: 0.6677889227867126, IoU Score 0.5422236919403076\n"
     ]
    },
    {
     "name": "stderr",
     "output_type": "stream",
     "text": [
      "Validation round: 100%|██████████| 115/115 [00:22<00:00,  5.17batch/s]\n"
     ]
    },
    {
     "name": "stdout",
     "output_type": "stream",
     "text": [
      "Validation dice loss: 0.6249204874038696, IoU Score 0.570529043674469\n"
     ]
    },
    {
     "name": "stderr",
     "output_type": "stream",
     "text": [
      "Validation round: 100%|██████████| 115/115 [00:22<00:00,  5.22batch/s]\n"
     ]
    },
    {
     "name": "stdout",
     "output_type": "stream",
     "text": [
      "Validation dice loss: 0.5859332084655762, IoU Score 0.573147714138031\n"
     ]
    },
    {
     "name": "stderr",
     "output_type": "stream",
     "text": [
      "Validation round: 100%|██████████| 115/115 [00:21<00:00,  5.27batch/s]\n"
     ]
    },
    {
     "name": "stdout",
     "output_type": "stream",
     "text": [
      "Validation dice loss: 0.574877917766571, IoU Score 0.5580861568450928\n"
     ]
    },
    {
     "name": "stderr",
     "output_type": "stream",
     "text": [
      "Validation round: 100%|██████████| 115/115 [00:22<00:00,  5.15batch/s]\n"
     ]
    },
    {
     "name": "stdout",
     "output_type": "stream",
     "text": [
      "Validation dice loss: 0.7173793911933899, IoU Score 0.5114567875862122\n"
     ]
    },
    {
     "name": "stderr",
     "output_type": "stream",
     "text": [
      "Validation round: 100%|██████████| 115/115 [00:22<00:00,  5.15batch/s]\n",
      "Epoch 30/60: 100%|██████████| 456/456 [07:28<00:00,  1.02img/s, loss (batch)=0.716]\n"
     ]
    },
    {
     "name": "stdout",
     "output_type": "stream",
     "text": [
      "Validation dice loss: 0.5991865396499634, IoU Score 0.5741198062896729\n"
     ]
    },
    {
     "name": "stderr",
     "output_type": "stream",
     "text": [
      "Validation round: 100%|██████████| 115/115 [00:22<00:00,  5.19batch/s]\n"
     ]
    },
    {
     "name": "stdout",
     "output_type": "stream",
     "text": [
      "Validation dice loss: 0.6483575105667114, IoU Score 0.5448931455612183\n"
     ]
    },
    {
     "name": "stderr",
     "output_type": "stream",
     "text": [
      "Validation round: 100%|██████████| 115/115 [00:22<00:00,  5.19batch/s]\n"
     ]
    },
    {
     "name": "stdout",
     "output_type": "stream",
     "text": [
      "Validation dice loss: 0.5777983069419861, IoU Score 0.5785853266716003\n"
     ]
    },
    {
     "name": "stderr",
     "output_type": "stream",
     "text": [
      "Validation round: 100%|██████████| 115/115 [00:22<00:00,  5.19batch/s]\n"
     ]
    },
    {
     "name": "stdout",
     "output_type": "stream",
     "text": [
      "Validation dice loss: 0.6073880195617676, IoU Score 0.560084879398346\n"
     ]
    },
    {
     "name": "stderr",
     "output_type": "stream",
     "text": [
      "Validation round: 100%|██████████| 115/115 [00:22<00:00,  5.15batch/s]\n"
     ]
    },
    {
     "name": "stdout",
     "output_type": "stream",
     "text": [
      "Validation dice loss: 0.5041639804840088, IoU Score 0.5945441126823425\n"
     ]
    },
    {
     "name": "stderr",
     "output_type": "stream",
     "text": [
      "Validation round: 100%|██████████| 115/115 [00:21<00:00,  5.25batch/s]\n"
     ]
    },
    {
     "name": "stdout",
     "output_type": "stream",
     "text": [
      "Validation dice loss: 0.5741989612579346, IoU Score 0.5734754204750061\n"
     ]
    },
    {
     "name": "stderr",
     "output_type": "stream",
     "text": [
      "Epoch 31/60: 100%|██████████| 456/456 [07:05<00:00,  1.07img/s, loss (batch)=0.266]\n",
      "Validation round: 100%|██████████| 115/115 [00:21<00:00,  5.25batch/s]\n"
     ]
    },
    {
     "name": "stdout",
     "output_type": "stream",
     "text": [
      "Validation dice loss: 0.5318245887756348, IoU Score 0.5913038849830627\n"
     ]
    },
    {
     "name": "stderr",
     "output_type": "stream",
     "text": [
      "Validation round: 100%|██████████| 115/115 [00:22<00:00,  5.22batch/s]\n"
     ]
    },
    {
     "name": "stdout",
     "output_type": "stream",
     "text": [
      "Validation dice loss: 0.5916094183921814, IoU Score 0.5771548748016357\n"
     ]
    },
    {
     "name": "stderr",
     "output_type": "stream",
     "text": [
      "Validation round: 100%|██████████| 115/115 [00:22<00:00,  5.20batch/s]\n"
     ]
    },
    {
     "name": "stdout",
     "output_type": "stream",
     "text": [
      "Validation dice loss: 0.5961377024650574, IoU Score 0.5750188231468201\n"
     ]
    },
    {
     "name": "stderr",
     "output_type": "stream",
     "text": [
      "Validation round: 100%|██████████| 115/115 [00:22<00:00,  5.22batch/s]\n"
     ]
    },
    {
     "name": "stdout",
     "output_type": "stream",
     "text": [
      "Validation dice loss: 0.5933271646499634, IoU Score 0.5785424113273621\n"
     ]
    },
    {
     "name": "stderr",
     "output_type": "stream",
     "text": [
      "Validation round: 100%|██████████| 115/115 [00:21<00:00,  5.24batch/s]\n"
     ]
    },
    {
     "name": "stdout",
     "output_type": "stream",
     "text": [
      "Validation dice loss: 0.5704966187477112, IoU Score 0.5501059889793396\n"
     ]
    },
    {
     "name": "stderr",
     "output_type": "stream",
     "text": [
      "Epoch 32/60: 100%|██████████| 456/456 [07:05<00:00,  1.07img/s, loss (batch)=0.313]\n",
      "Validation round: 100%|██████████| 115/115 [00:21<00:00,  5.25batch/s]\n"
     ]
    },
    {
     "name": "stdout",
     "output_type": "stream",
     "text": [
      "Validation dice loss: 0.6117634177207947, IoU Score 0.567107617855072\n"
     ]
    },
    {
     "name": "stderr",
     "output_type": "stream",
     "text": [
      "Validation round: 100%|██████████| 115/115 [00:21<00:00,  5.25batch/s]\n"
     ]
    },
    {
     "name": "stdout",
     "output_type": "stream",
     "text": [
      "Validation dice loss: 0.5324123501777649, IoU Score 0.5865845084190369\n"
     ]
    },
    {
     "name": "stderr",
     "output_type": "stream",
     "text": [
      "Validation round: 100%|██████████| 115/115 [00:21<00:00,  5.26batch/s]\n"
     ]
    },
    {
     "name": "stdout",
     "output_type": "stream",
     "text": [
      "Validation dice loss: 0.48735350370407104, IoU Score 0.5986549258232117\n"
     ]
    },
    {
     "name": "stderr",
     "output_type": "stream",
     "text": [
      "Validation round: 100%|██████████| 115/115 [00:22<00:00,  5.22batch/s]\n"
     ]
    },
    {
     "name": "stdout",
     "output_type": "stream",
     "text": [
      "Validation dice loss: 0.6196865439414978, IoU Score 0.5563669204711914\n"
     ]
    },
    {
     "name": "stderr",
     "output_type": "stream",
     "text": [
      "Validation round: 100%|██████████| 115/115 [00:22<00:00,  5.20batch/s]\n"
     ]
    },
    {
     "name": "stdout",
     "output_type": "stream",
     "text": [
      "Validation dice loss: 0.544574499130249, IoU Score 0.5815303325653076\n"
     ]
    },
    {
     "name": "stderr",
     "output_type": "stream",
     "text": [
      "Epoch 33/60: 100%|██████████| 456/456 [07:04<00:00,  1.07img/s, loss (batch)=0.238]\n",
      "Validation round: 100%|██████████| 115/115 [00:21<00:00,  5.25batch/s]\n"
     ]
    },
    {
     "name": "stdout",
     "output_type": "stream",
     "text": [
      "Validation dice loss: 0.5886639356613159, IoU Score 0.5866855978965759\n"
     ]
    },
    {
     "name": "stderr",
     "output_type": "stream",
     "text": [
      "Validation round: 100%|██████████| 115/115 [00:22<00:00,  5.19batch/s]\n"
     ]
    },
    {
     "name": "stdout",
     "output_type": "stream",
     "text": [
      "Validation dice loss: 0.5727742314338684, IoU Score 0.5796117186546326\n"
     ]
    },
    {
     "name": "stderr",
     "output_type": "stream",
     "text": [
      "Validation round: 100%|██████████| 115/115 [00:22<00:00,  5.21batch/s]\n"
     ]
    },
    {
     "name": "stdout",
     "output_type": "stream",
     "text": [
      "Validation dice loss: 0.596738874912262, IoU Score 0.5724833607673645\n"
     ]
    },
    {
     "name": "stderr",
     "output_type": "stream",
     "text": [
      "Validation round: 100%|██████████| 115/115 [00:22<00:00,  5.20batch/s]\n"
     ]
    },
    {
     "name": "stdout",
     "output_type": "stream",
     "text": [
      "Validation dice loss: 0.55329430103302, IoU Score 0.5941388010978699\n"
     ]
    },
    {
     "name": "stderr",
     "output_type": "stream",
     "text": [
      "Validation round: 100%|██████████| 115/115 [00:22<00:00,  5.20batch/s]\n"
     ]
    },
    {
     "name": "stdout",
     "output_type": "stream",
     "text": [
      "Validation dice loss: 0.572803258895874, IoU Score 0.58404541015625\n"
     ]
    },
    {
     "name": "stderr",
     "output_type": "stream",
     "text": [
      "Epoch 34/60: 100%|██████████| 456/456 [07:05<00:00,  1.07img/s, loss (batch)=0.282]\n",
      "Validation round: 100%|██████████| 115/115 [00:22<00:00,  5.21batch/s]\n"
     ]
    },
    {
     "name": "stdout",
     "output_type": "stream",
     "text": [
      "Validation dice loss: 0.6000285744667053, IoU Score 0.5759780406951904\n"
     ]
    },
    {
     "name": "stderr",
     "output_type": "stream",
     "text": [
      "Validation round: 100%|██████████| 115/115 [00:22<00:00,  5.22batch/s]\n"
     ]
    },
    {
     "name": "stdout",
     "output_type": "stream",
     "text": [
      "Validation dice loss: 0.5486046671867371, IoU Score 0.58649742603302\n"
     ]
    },
    {
     "name": "stderr",
     "output_type": "stream",
     "text": [
      "Validation round: 100%|██████████| 115/115 [00:22<00:00,  5.20batch/s]\n"
     ]
    },
    {
     "name": "stdout",
     "output_type": "stream",
     "text": [
      "Validation dice loss: 0.5627365708351135, IoU Score 0.5840796828269958\n"
     ]
    },
    {
     "name": "stderr",
     "output_type": "stream",
     "text": [
      "Validation round: 100%|██████████| 115/115 [00:22<00:00,  5.17batch/s]\n"
     ]
    },
    {
     "name": "stdout",
     "output_type": "stream",
     "text": [
      "Validation dice loss: 0.5281237959861755, IoU Score 0.5944139957427979\n"
     ]
    },
    {
     "name": "stderr",
     "output_type": "stream",
     "text": [
      "Validation round: 100%|██████████| 115/115 [00:22<00:00,  5.20batch/s]\n"
     ]
    },
    {
     "name": "stdout",
     "output_type": "stream",
     "text": [
      "Validation dice loss: 0.5591639280319214, IoU Score 0.5868458151817322\n"
     ]
    },
    {
     "name": "stderr",
     "output_type": "stream",
     "text": [
      "Epoch 35/60: 100%|██████████| 456/456 [07:05<00:00,  1.07img/s, loss (batch)=0.188]\n",
      "Validation round: 100%|██████████| 115/115 [00:22<00:00,  5.17batch/s]\n"
     ]
    },
    {
     "name": "stdout",
     "output_type": "stream",
     "text": [
      "Validation dice loss: 0.5216968059539795, IoU Score 0.5701079368591309\n"
     ]
    },
    {
     "name": "stderr",
     "output_type": "stream",
     "text": [
      "Validation round: 100%|██████████| 115/115 [00:22<00:00,  5.17batch/s]\n"
     ]
    },
    {
     "name": "stdout",
     "output_type": "stream",
     "text": [
      "Validation dice loss: 0.591148853302002, IoU Score 0.5767356753349304\n"
     ]
    },
    {
     "name": "stderr",
     "output_type": "stream",
     "text": [
      "Validation round: 100%|██████████| 115/115 [00:21<00:00,  5.24batch/s]\n"
     ]
    },
    {
     "name": "stdout",
     "output_type": "stream",
     "text": [
      "Validation dice loss: 0.588434100151062, IoU Score 0.5786283016204834\n"
     ]
    },
    {
     "name": "stderr",
     "output_type": "stream",
     "text": [
      "Validation round: 100%|██████████| 115/115 [00:21<00:00,  5.23batch/s]\n"
     ]
    },
    {
     "name": "stdout",
     "output_type": "stream",
     "text": [
      "Validation dice loss: 0.6096386313438416, IoU Score 0.5708813667297363\n"
     ]
    },
    {
     "name": "stderr",
     "output_type": "stream",
     "text": [
      "Validation round: 100%|██████████| 115/115 [00:22<00:00,  5.22batch/s]\n"
     ]
    },
    {
     "name": "stdout",
     "output_type": "stream",
     "text": [
      "Validation dice loss: 0.5076407194137573, IoU Score 0.593070387840271\n"
     ]
    },
    {
     "name": "stderr",
     "output_type": "stream",
     "text": [
      "Epoch 36/60: 100%|██████████| 456/456 [07:05<00:00,  1.07img/s, loss (batch)=0.321]\n",
      "Validation round: 100%|██████████| 115/115 [00:22<00:00,  5.22batch/s]\n"
     ]
    },
    {
     "name": "stdout",
     "output_type": "stream",
     "text": [
      "Validation dice loss: 0.6179506778717041, IoU Score 0.5648550391197205\n"
     ]
    },
    {
     "name": "stderr",
     "output_type": "stream",
     "text": [
      "Validation round: 100%|██████████| 115/115 [00:22<00:00,  5.20batch/s]\n"
     ]
    },
    {
     "name": "stdout",
     "output_type": "stream",
     "text": [
      "Validation dice loss: 0.4869000315666199, IoU Score 0.6047670245170593\n"
     ]
    },
    {
     "name": "stderr",
     "output_type": "stream",
     "text": [
      "Validation round: 100%|██████████| 115/115 [00:22<00:00,  5.22batch/s]\n"
     ]
    },
    {
     "name": "stdout",
     "output_type": "stream",
     "text": [
      "Validation dice loss: 0.5115423798561096, IoU Score 0.6037236452102661\n"
     ]
    },
    {
     "name": "stderr",
     "output_type": "stream",
     "text": [
      "Validation round: 100%|██████████| 115/115 [00:22<00:00,  5.21batch/s]\n"
     ]
    },
    {
     "name": "stdout",
     "output_type": "stream",
     "text": [
      "Validation dice loss: 0.4798406958580017, IoU Score 0.6017519235610962\n"
     ]
    },
    {
     "name": "stderr",
     "output_type": "stream",
     "text": [
      "Validation round: 100%|██████████| 115/115 [00:21<00:00,  5.24batch/s]\n"
     ]
    },
    {
     "name": "stdout",
     "output_type": "stream",
     "text": [
      "Validation dice loss: 0.5009052753448486, IoU Score 0.5730525255203247\n"
     ]
    },
    {
     "name": "stderr",
     "output_type": "stream",
     "text": [
      "Epoch 37/60: 100%|██████████| 456/456 [07:05<00:00,  1.07img/s, loss (batch)=0.284]\n",
      "Validation round: 100%|██████████| 115/115 [00:21<00:00,  5.23batch/s]\n"
     ]
    },
    {
     "name": "stdout",
     "output_type": "stream",
     "text": [
      "Validation dice loss: 0.529043436050415, IoU Score 0.5939085483551025\n"
     ]
    },
    {
     "name": "stderr",
     "output_type": "stream",
     "text": [
      "Validation round: 100%|██████████| 115/115 [00:22<00:00,  5.20batch/s]\n"
     ]
    },
    {
     "name": "stdout",
     "output_type": "stream",
     "text": [
      "Validation dice loss: 0.5725773572921753, IoU Score 0.5922146439552307\n"
     ]
    },
    {
     "name": "stderr",
     "output_type": "stream",
     "text": [
      "Validation round: 100%|██████████| 115/115 [00:21<00:00,  5.24batch/s]\n"
     ]
    },
    {
     "name": "stdout",
     "output_type": "stream",
     "text": [
      "Validation dice loss: 0.5954691171646118, IoU Score 0.5761145353317261\n"
     ]
    },
    {
     "name": "stderr",
     "output_type": "stream",
     "text": [
      "Validation round: 100%|██████████| 115/115 [00:22<00:00,  5.22batch/s]\n"
     ]
    },
    {
     "name": "stdout",
     "output_type": "stream",
     "text": [
      "Validation dice loss: 0.5944103598594666, IoU Score 0.5780795812606812\n"
     ]
    },
    {
     "name": "stderr",
     "output_type": "stream",
     "text": [
      "Validation round: 100%|██████████| 115/115 [00:22<00:00,  5.22batch/s]\n"
     ]
    },
    {
     "name": "stdout",
     "output_type": "stream",
     "text": [
      "Validation dice loss: 0.4725259244441986, IoU Score 0.6061075925827026\n"
     ]
    },
    {
     "name": "stderr",
     "output_type": "stream",
     "text": [
      "Epoch 38/60: 100%|██████████| 456/456 [07:05<00:00,  1.07img/s, loss (batch)=0.487]\n",
      "Validation round: 100%|██████████| 115/115 [00:21<00:00,  5.23batch/s]\n"
     ]
    },
    {
     "name": "stdout",
     "output_type": "stream",
     "text": [
      "Validation dice loss: 0.619377851486206, IoU Score 0.5641663670539856\n"
     ]
    },
    {
     "name": "stderr",
     "output_type": "stream",
     "text": [
      "Validation round: 100%|██████████| 115/115 [00:21<00:00,  5.24batch/s]\n"
     ]
    },
    {
     "name": "stdout",
     "output_type": "stream",
     "text": [
      "Validation dice loss: 0.5348057746887207, IoU Score 0.6075193881988525\n"
     ]
    },
    {
     "name": "stderr",
     "output_type": "stream",
     "text": [
      "Validation round: 100%|██████████| 115/115 [00:22<00:00,  5.19batch/s]\n"
     ]
    },
    {
     "name": "stdout",
     "output_type": "stream",
     "text": [
      "Validation dice loss: 0.46976834535598755, IoU Score 0.6084331274032593\n"
     ]
    },
    {
     "name": "stderr",
     "output_type": "stream",
     "text": [
      "Validation round: 100%|██████████| 115/115 [00:21<00:00,  5.24batch/s]\n"
     ]
    },
    {
     "name": "stdout",
     "output_type": "stream",
     "text": [
      "Validation dice loss: 0.5536355376243591, IoU Score 0.5994583964347839\n"
     ]
    },
    {
     "name": "stderr",
     "output_type": "stream",
     "text": [
      "Validation round: 100%|██████████| 115/115 [00:21<00:00,  5.23batch/s]\n"
     ]
    },
    {
     "name": "stdout",
     "output_type": "stream",
     "text": [
      "Validation dice loss: 0.575355589389801, IoU Score 0.5693224668502808\n"
     ]
    },
    {
     "name": "stderr",
     "output_type": "stream",
     "text": [
      "Epoch 39/60: 100%|██████████| 456/456 [07:04<00:00,  1.07img/s, loss (batch)=0.2]\n",
      "Validation round: 100%|██████████| 115/115 [00:22<00:00,  5.22batch/s]\n"
     ]
    },
    {
     "name": "stdout",
     "output_type": "stream",
     "text": [
      "Validation dice loss: 0.5304762721061707, IoU Score 0.6033188700675964\n"
     ]
    },
    {
     "name": "stderr",
     "output_type": "stream",
     "text": [
      "Validation round: 100%|██████████| 115/115 [00:21<00:00,  5.23batch/s]\n"
     ]
    },
    {
     "name": "stdout",
     "output_type": "stream",
     "text": [
      "Validation dice loss: 0.5171318054199219, IoU Score 0.5925366878509521\n"
     ]
    },
    {
     "name": "stderr",
     "output_type": "stream",
     "text": [
      "Validation round: 100%|██████████| 115/115 [00:22<00:00,  5.16batch/s]\n"
     ]
    },
    {
     "name": "stdout",
     "output_type": "stream",
     "text": [
      "Validation dice loss: 0.4524960219860077, IoU Score 0.6121957302093506\n"
     ]
    },
    {
     "name": "stderr",
     "output_type": "stream",
     "text": [
      "Validation round: 100%|██████████| 115/115 [00:22<00:00,  5.21batch/s]\n"
     ]
    },
    {
     "name": "stdout",
     "output_type": "stream",
     "text": [
      "Validation dice loss: 0.5402687191963196, IoU Score 0.6044818162918091\n"
     ]
    },
    {
     "name": "stderr",
     "output_type": "stream",
     "text": [
      "Validation round: 100%|██████████| 115/115 [00:22<00:00,  5.22batch/s]\n"
     ]
    },
    {
     "name": "stdout",
     "output_type": "stream",
     "text": [
      "Validation dice loss: 0.5632838606834412, IoU Score 0.5977452397346497\n"
     ]
    },
    {
     "name": "stderr",
     "output_type": "stream",
     "text": [
      "Epoch 40/60: 100%|██████████| 456/456 [07:05<00:00,  1.07img/s, loss (batch)=0.148]\n",
      "Validation round: 100%|██████████| 115/115 [00:22<00:00,  5.22batch/s]\n"
     ]
    },
    {
     "name": "stdout",
     "output_type": "stream",
     "text": [
      "Validation dice loss: 0.5462284088134766, IoU Score 0.5977322459220886\n"
     ]
    },
    {
     "name": "stderr",
     "output_type": "stream",
     "text": [
      "Validation round: 100%|██████████| 115/115 [00:21<00:00,  5.23batch/s]\n"
     ]
    },
    {
     "name": "stdout",
     "output_type": "stream",
     "text": [
      "Validation dice loss: 0.47739553451538086, IoU Score 0.6069682836532593\n"
     ]
    },
    {
     "name": "stderr",
     "output_type": "stream",
     "text": [
      "Validation round: 100%|██████████| 115/115 [00:22<00:00,  5.14batch/s]\n"
     ]
    },
    {
     "name": "stdout",
     "output_type": "stream",
     "text": [
      "Validation dice loss: 0.5907508730888367, IoU Score 0.5819351077079773\n"
     ]
    },
    {
     "name": "stderr",
     "output_type": "stream",
     "text": [
      "Validation round: 100%|██████████| 115/115 [00:22<00:00,  5.22batch/s]\n"
     ]
    },
    {
     "name": "stdout",
     "output_type": "stream",
     "text": [
      "Validation dice loss: 0.5141472816467285, IoU Score 0.6091071367263794\n"
     ]
    },
    {
     "name": "stderr",
     "output_type": "stream",
     "text": [
      "Validation round: 100%|██████████| 115/115 [00:21<00:00,  5.25batch/s]\n"
     ]
    },
    {
     "name": "stdout",
     "output_type": "stream",
     "text": [
      "Validation dice loss: 0.5101052522659302, IoU Score 0.5893405079841614\n"
     ]
    },
    {
     "name": "stderr",
     "output_type": "stream",
     "text": [
      "Epoch 41/60: 100%|██████████| 456/456 [07:05<00:00,  1.07img/s, loss (batch)=0.208]\n",
      "Validation round: 100%|██████████| 115/115 [00:21<00:00,  5.24batch/s]\n"
     ]
    },
    {
     "name": "stdout",
     "output_type": "stream",
     "text": [
      "Validation dice loss: 0.44770488142967224, IoU Score 0.6169473528862\n"
     ]
    },
    {
     "name": "stderr",
     "output_type": "stream",
     "text": [
      "Validation round: 100%|██████████| 115/115 [00:21<00:00,  5.23batch/s]\n"
     ]
    },
    {
     "name": "stdout",
     "output_type": "stream",
     "text": [
      "Validation dice loss: 0.46249645948410034, IoU Score 0.6151092648506165\n"
     ]
    },
    {
     "name": "stderr",
     "output_type": "stream",
     "text": [
      "Validation round: 100%|██████████| 115/115 [00:22<00:00,  5.19batch/s]\n"
     ]
    },
    {
     "name": "stdout",
     "output_type": "stream",
     "text": [
      "Validation dice loss: 0.4783024191856384, IoU Score 0.6070850491523743\n"
     ]
    },
    {
     "name": "stderr",
     "output_type": "stream",
     "text": [
      "Validation round: 100%|██████████| 115/115 [00:21<00:00,  5.26batch/s]\n"
     ]
    },
    {
     "name": "stdout",
     "output_type": "stream",
     "text": [
      "Validation dice loss: 0.5068939924240112, IoU Score 0.5965535640716553\n"
     ]
    },
    {
     "name": "stderr",
     "output_type": "stream",
     "text": [
      "Validation round: 100%|██████████| 115/115 [00:21<00:00,  5.23batch/s]\n"
     ]
    },
    {
     "name": "stdout",
     "output_type": "stream",
     "text": [
      "Validation dice loss: 0.4641982614994049, IoU Score 0.6118143796920776\n"
     ]
    },
    {
     "name": "stderr",
     "output_type": "stream",
     "text": [
      "Epoch 42/60: 100%|██████████| 456/456 [07:04<00:00,  1.07img/s, loss (batch)=0.192]\n",
      "Validation round: 100%|██████████| 115/115 [00:22<00:00,  5.21batch/s]\n"
     ]
    },
    {
     "name": "stdout",
     "output_type": "stream",
     "text": [
      "Validation dice loss: 0.4695974290370941, IoU Score 0.61058109998703\n"
     ]
    },
    {
     "name": "stderr",
     "output_type": "stream",
     "text": [
      "Validation round: 100%|██████████| 115/115 [00:21<00:00,  5.25batch/s]\n"
     ]
    },
    {
     "name": "stdout",
     "output_type": "stream",
     "text": [
      "Validation dice loss: 0.4724756181240082, IoU Score 0.6106518507003784\n"
     ]
    },
    {
     "name": "stderr",
     "output_type": "stream",
     "text": [
      "Validation round: 100%|██████████| 115/115 [00:22<00:00,  5.20batch/s]\n"
     ]
    },
    {
     "name": "stdout",
     "output_type": "stream",
     "text": [
      "Validation dice loss: 0.5549321174621582, IoU Score 0.5983061194419861\n"
     ]
    },
    {
     "name": "stderr",
     "output_type": "stream",
     "text": [
      "Validation round: 100%|██████████| 115/115 [00:21<00:00,  5.25batch/s]\n"
     ]
    },
    {
     "name": "stdout",
     "output_type": "stream",
     "text": [
      "Validation dice loss: 0.49805742502212524, IoU Score 0.6063345074653625\n"
     ]
    },
    {
     "name": "stderr",
     "output_type": "stream",
     "text": [
      "Validation round: 100%|██████████| 115/115 [00:21<00:00,  5.26batch/s]\n"
     ]
    },
    {
     "name": "stdout",
     "output_type": "stream",
     "text": [
      "Validation dice loss: 0.4607506990432739, IoU Score 0.6068345308303833\n"
     ]
    },
    {
     "name": "stderr",
     "output_type": "stream",
     "text": [
      "Epoch 43/60: 100%|██████████| 456/456 [07:04<00:00,  1.07img/s, loss (batch)=0.27]\n",
      "Validation round: 100%|██████████| 115/115 [00:21<00:00,  5.26batch/s]\n"
     ]
    },
    {
     "name": "stdout",
     "output_type": "stream",
     "text": [
      "Validation dice loss: 0.48576149344444275, IoU Score 0.6012172698974609\n"
     ]
    },
    {
     "name": "stderr",
     "output_type": "stream",
     "text": [
      "Validation round: 100%|██████████| 115/115 [00:22<00:00,  5.22batch/s]\n"
     ]
    },
    {
     "name": "stdout",
     "output_type": "stream",
     "text": [
      "Validation dice loss: 0.6398875117301941, IoU Score 0.5606526732444763\n"
     ]
    },
    {
     "name": "stderr",
     "output_type": "stream",
     "text": [
      "Validation round: 100%|██████████| 115/115 [00:22<00:00,  5.20batch/s]\n"
     ]
    },
    {
     "name": "stdout",
     "output_type": "stream",
     "text": [
      "Validation dice loss: 0.46236056089401245, IoU Score 0.6102137565612793\n"
     ]
    },
    {
     "name": "stderr",
     "output_type": "stream",
     "text": [
      "Validation round: 100%|██████████| 115/115 [00:22<00:00,  5.22batch/s]\n"
     ]
    },
    {
     "name": "stdout",
     "output_type": "stream",
     "text": [
      "Validation dice loss: 0.4695853590965271, IoU Score 0.6059218049049377\n"
     ]
    },
    {
     "name": "stderr",
     "output_type": "stream",
     "text": [
      "Validation round: 100%|██████████| 115/115 [00:21<00:00,  5.23batch/s]\n"
     ]
    },
    {
     "name": "stdout",
     "output_type": "stream",
     "text": [
      "Validation dice loss: 0.47812747955322266, IoU Score 0.5946952104568481\n"
     ]
    },
    {
     "name": "stderr",
     "output_type": "stream",
     "text": [
      "Epoch 44/60: 100%|██████████| 456/456 [07:04<00:00,  1.07img/s, loss (batch)=0.163]\n",
      "Validation round: 100%|██████████| 115/115 [00:21<00:00,  5.23batch/s]\n"
     ]
    },
    {
     "name": "stdout",
     "output_type": "stream",
     "text": [
      "Validation dice loss: 0.45858705043792725, IoU Score 0.6162330508232117\n"
     ]
    },
    {
     "name": "stderr",
     "output_type": "stream",
     "text": [
      "Validation round: 100%|██████████| 115/115 [00:22<00:00,  5.22batch/s]\n"
     ]
    },
    {
     "name": "stdout",
     "output_type": "stream",
     "text": [
      "Validation dice loss: 0.46581560373306274, IoU Score 0.6054580211639404\n"
     ]
    },
    {
     "name": "stderr",
     "output_type": "stream",
     "text": [
      "Validation round: 100%|██████████| 115/115 [00:22<00:00,  5.21batch/s]\n"
     ]
    },
    {
     "name": "stdout",
     "output_type": "stream",
     "text": [
      "Validation dice loss: 0.5757946968078613, IoU Score 0.6017563343048096\n"
     ]
    },
    {
     "name": "stderr",
     "output_type": "stream",
     "text": [
      "Validation round: 100%|██████████| 115/115 [00:21<00:00,  5.25batch/s]\n"
     ]
    },
    {
     "name": "stdout",
     "output_type": "stream",
     "text": [
      "Validation dice loss: 0.45735737681388855, IoU Score 0.6157548427581787\n"
     ]
    },
    {
     "name": "stderr",
     "output_type": "stream",
     "text": [
      "Validation round: 100%|██████████| 115/115 [00:21<00:00,  5.26batch/s]\n"
     ]
    },
    {
     "name": "stdout",
     "output_type": "stream",
     "text": [
      "Validation dice loss: 0.4442923665046692, IoU Score 0.6227507591247559\n"
     ]
    },
    {
     "name": "stderr",
     "output_type": "stream",
     "text": [
      "Validation round: 100%|██████████| 115/115 [00:22<00:00,  5.20batch/s]\n",
      "Epoch 45/60: 100%|██████████| 456/456 [07:27<00:00,  1.02img/s, loss (batch)=0.188]\n"
     ]
    },
    {
     "name": "stdout",
     "output_type": "stream",
     "text": [
      "Validation dice loss: 0.5398504734039307, IoU Score 0.5957769751548767\n"
     ]
    },
    {
     "name": "stderr",
     "output_type": "stream",
     "text": [
      "Validation round: 100%|██████████| 115/115 [00:22<00:00,  5.22batch/s]\n"
     ]
    },
    {
     "name": "stdout",
     "output_type": "stream",
     "text": [
      "Validation dice loss: 0.45289772748947144, IoU Score 0.6205399632453918\n"
     ]
    },
    {
     "name": "stderr",
     "output_type": "stream",
     "text": [
      "Validation round: 100%|██████████| 115/115 [00:22<00:00,  5.16batch/s]\n"
     ]
    },
    {
     "name": "stdout",
     "output_type": "stream",
     "text": [
      "Validation dice loss: 0.5420740246772766, IoU Score 0.6075848340988159\n"
     ]
    },
    {
     "name": "stderr",
     "output_type": "stream",
     "text": [
      "Validation round: 100%|██████████| 115/115 [00:22<00:00,  5.21batch/s]\n"
     ]
    },
    {
     "name": "stdout",
     "output_type": "stream",
     "text": [
      "Validation dice loss: 0.5221902132034302, IoU Score 0.6120283603668213\n"
     ]
    },
    {
     "name": "stderr",
     "output_type": "stream",
     "text": [
      "Validation round: 100%|██████████| 115/115 [00:21<00:00,  5.25batch/s]\n"
     ]
    },
    {
     "name": "stdout",
     "output_type": "stream",
     "text": [
      "Validation dice loss: 0.4479636549949646, IoU Score 0.6215886473655701\n"
     ]
    },
    {
     "name": "stderr",
     "output_type": "stream",
     "text": [
      "Validation round: 100%|██████████| 115/115 [00:21<00:00,  5.23batch/s]\n"
     ]
    },
    {
     "name": "stdout",
     "output_type": "stream",
     "text": [
      "Validation dice loss: 0.44896724820137024, IoU Score 0.6244986653327942\n"
     ]
    },
    {
     "name": "stderr",
     "output_type": "stream",
     "text": [
      "Epoch 46/60: 100%|██████████| 456/456 [07:04<00:00,  1.07img/s, loss (batch)=0.288]\n",
      "Validation round: 100%|██████████| 115/115 [00:21<00:00,  5.25batch/s]\n"
     ]
    },
    {
     "name": "stdout",
     "output_type": "stream",
     "text": [
      "Validation dice loss: 0.44821402430534363, IoU Score 0.6226053833961487\n"
     ]
    },
    {
     "name": "stderr",
     "output_type": "stream",
     "text": [
      "Validation round: 100%|██████████| 115/115 [00:22<00:00,  5.20batch/s]\n"
     ]
    },
    {
     "name": "stdout",
     "output_type": "stream",
     "text": [
      "Validation dice loss: 0.5279338359832764, IoU Score 0.6059608459472656\n"
     ]
    },
    {
     "name": "stderr",
     "output_type": "stream",
     "text": [
      "Validation round: 100%|██████████| 115/115 [00:21<00:00,  5.25batch/s]\n"
     ]
    },
    {
     "name": "stdout",
     "output_type": "stream",
     "text": [
      "Validation dice loss: 0.4615453779697418, IoU Score 0.6164554357528687\n"
     ]
    },
    {
     "name": "stderr",
     "output_type": "stream",
     "text": [
      "Validation round: 100%|██████████| 115/115 [00:21<00:00,  5.23batch/s]\n"
     ]
    },
    {
     "name": "stdout",
     "output_type": "stream",
     "text": [
      "Validation dice loss: 0.5415619015693665, IoU Score 0.5859804153442383\n"
     ]
    },
    {
     "name": "stderr",
     "output_type": "stream",
     "text": [
      "Validation round: 100%|██████████| 115/115 [00:21<00:00,  5.23batch/s]\n"
     ]
    },
    {
     "name": "stdout",
     "output_type": "stream",
     "text": [
      "Validation dice loss: 0.45965975522994995, IoU Score 0.6191591620445251\n"
     ]
    },
    {
     "name": "stderr",
     "output_type": "stream",
     "text": [
      "Epoch 47/60: 100%|██████████| 456/456 [07:04<00:00,  1.07img/s, loss (batch)=0.246]\n",
      "Validation round: 100%|██████████| 115/115 [00:22<00:00,  5.23batch/s]\n"
     ]
    },
    {
     "name": "stdout",
     "output_type": "stream",
     "text": [
      "Validation dice loss: 0.44852709770202637, IoU Score 0.6243776679039001\n"
     ]
    },
    {
     "name": "stderr",
     "output_type": "stream",
     "text": [
      "Validation round: 100%|██████████| 115/115 [00:22<00:00,  5.17batch/s]\n"
     ]
    },
    {
     "name": "stdout",
     "output_type": "stream",
     "text": [
      "Validation dice loss: 0.4742545783519745, IoU Score 0.6248076558113098\n"
     ]
    },
    {
     "name": "stderr",
     "output_type": "stream",
     "text": [
      "Validation round: 100%|██████████| 115/115 [00:21<00:00,  5.27batch/s]\n"
     ]
    },
    {
     "name": "stdout",
     "output_type": "stream",
     "text": [
      "Validation dice loss: 0.4340200126171112, IoU Score 0.6236129403114319\n"
     ]
    },
    {
     "name": "stderr",
     "output_type": "stream",
     "text": [
      "Validation round: 100%|██████████| 115/115 [00:22<00:00,  5.22batch/s]\n"
     ]
    },
    {
     "name": "stdout",
     "output_type": "stream",
     "text": [
      "Validation dice loss: 0.5078451633453369, IoU Score 0.6001519560813904\n"
     ]
    },
    {
     "name": "stderr",
     "output_type": "stream",
     "text": [
      "Validation round: 100%|██████████| 115/115 [00:22<00:00,  5.23batch/s]\n"
     ]
    },
    {
     "name": "stdout",
     "output_type": "stream",
     "text": [
      "Validation dice loss: 0.5839149951934814, IoU Score 0.5833873152732849\n"
     ]
    },
    {
     "name": "stderr",
     "output_type": "stream",
     "text": [
      "Epoch 48/60: 100%|██████████| 456/456 [07:05<00:00,  1.07img/s, loss (batch)=0.142]\n",
      "Validation round: 100%|██████████| 115/115 [00:21<00:00,  5.23batch/s]\n"
     ]
    },
    {
     "name": "stdout",
     "output_type": "stream",
     "text": [
      "Validation dice loss: 0.4727189540863037, IoU Score 0.6201753616333008\n"
     ]
    },
    {
     "name": "stderr",
     "output_type": "stream",
     "text": [
      "Validation round: 100%|██████████| 115/115 [00:22<00:00,  5.13batch/s]\n"
     ]
    },
    {
     "name": "stdout",
     "output_type": "stream",
     "text": [
      "Validation dice loss: 0.5381424427032471, IoU Score 0.6084184050559998\n"
     ]
    },
    {
     "name": "stderr",
     "output_type": "stream",
     "text": [
      "Validation round: 100%|██████████| 115/115 [00:21<00:00,  5.24batch/s]\n"
     ]
    },
    {
     "name": "stdout",
     "output_type": "stream",
     "text": [
      "Validation dice loss: 0.48004141449928284, IoU Score 0.6125460267066956\n"
     ]
    },
    {
     "name": "stderr",
     "output_type": "stream",
     "text": [
      "Validation round: 100%|██████████| 115/115 [00:22<00:00,  5.22batch/s]\n"
     ]
    },
    {
     "name": "stdout",
     "output_type": "stream",
     "text": [
      "Validation dice loss: 0.6239040493965149, IoU Score 0.5860496759414673\n"
     ]
    },
    {
     "name": "stderr",
     "output_type": "stream",
     "text": [
      "Validation round: 100%|██████████| 115/115 [00:21<00:00,  5.23batch/s]\n"
     ]
    },
    {
     "name": "stdout",
     "output_type": "stream",
     "text": [
      "Validation dice loss: 0.49552789330482483, IoU Score 0.6154417395591736\n"
     ]
    },
    {
     "name": "stderr",
     "output_type": "stream",
     "text": [
      "Epoch 49/60: 100%|██████████| 456/456 [07:05<00:00,  1.07img/s, loss (batch)=0.146]\n",
      "Validation round: 100%|██████████| 115/115 [00:22<00:00,  5.22batch/s]\n"
     ]
    },
    {
     "name": "stdout",
     "output_type": "stream",
     "text": [
      "Validation dice loss: 0.6705676317214966, IoU Score 0.5566257238388062\n"
     ]
    },
    {
     "name": "stderr",
     "output_type": "stream",
     "text": [
      "Validation round: 100%|██████████| 115/115 [00:22<00:00,  5.17batch/s]\n"
     ]
    },
    {
     "name": "stdout",
     "output_type": "stream",
     "text": [
      "Validation dice loss: 0.43962907791137695, IoU Score 0.6278638243675232\n"
     ]
    },
    {
     "name": "stderr",
     "output_type": "stream",
     "text": [
      "Validation round: 100%|██████████| 115/115 [00:21<00:00,  5.23batch/s]\n"
     ]
    },
    {
     "name": "stdout",
     "output_type": "stream",
     "text": [
      "Validation dice loss: 0.44755062460899353, IoU Score 0.6253041625022888\n"
     ]
    },
    {
     "name": "stderr",
     "output_type": "stream",
     "text": [
      "Validation round: 100%|██████████| 115/115 [00:21<00:00,  5.23batch/s]\n"
     ]
    },
    {
     "name": "stdout",
     "output_type": "stream",
     "text": [
      "Validation dice loss: 0.4502534866333008, IoU Score 0.6238582730293274\n"
     ]
    },
    {
     "name": "stderr",
     "output_type": "stream",
     "text": [
      "Validation round: 100%|██████████| 115/115 [00:21<00:00,  5.23batch/s]\n"
     ]
    },
    {
     "name": "stdout",
     "output_type": "stream",
     "text": [
      "Validation dice loss: 0.5205502510070801, IoU Score 0.6222066283226013\n"
     ]
    },
    {
     "name": "stderr",
     "output_type": "stream",
     "text": [
      "Epoch 50/60: 100%|██████████| 456/456 [07:05<00:00,  1.07img/s, loss (batch)=0.239]\n",
      "Validation round: 100%|██████████| 115/115 [00:22<00:00,  5.22batch/s]\n"
     ]
    },
    {
     "name": "stdout",
     "output_type": "stream",
     "text": [
      "Validation dice loss: 0.4361876845359802, IoU Score 0.6248937845230103\n"
     ]
    },
    {
     "name": "stderr",
     "output_type": "stream",
     "text": [
      "Validation round: 100%|██████████| 115/115 [00:22<00:00,  5.18batch/s]\n"
     ]
    },
    {
     "name": "stdout",
     "output_type": "stream",
     "text": [
      "Validation dice loss: 0.5417674779891968, IoU Score 0.5889263153076172\n"
     ]
    },
    {
     "name": "stderr",
     "output_type": "stream",
     "text": [
      "Validation round: 100%|██████████| 115/115 [00:22<00:00,  5.21batch/s]\n"
     ]
    },
    {
     "name": "stdout",
     "output_type": "stream",
     "text": [
      "Validation dice loss: 0.4373303949832916, IoU Score 0.6272934079170227\n"
     ]
    },
    {
     "name": "stderr",
     "output_type": "stream",
     "text": [
      "Validation round: 100%|██████████| 115/115 [00:22<00:00,  5.21batch/s]\n"
     ]
    },
    {
     "name": "stdout",
     "output_type": "stream",
     "text": [
      "Validation dice loss: 0.4396112263202667, IoU Score 0.6287345290184021\n"
     ]
    },
    {
     "name": "stderr",
     "output_type": "stream",
     "text": [
      "Validation round: 100%|██████████| 115/115 [00:22<00:00,  5.22batch/s]\n"
     ]
    },
    {
     "name": "stdout",
     "output_type": "stream",
     "text": [
      "Validation dice loss: 0.4729088246822357, IoU Score 0.6144382953643799\n"
     ]
    },
    {
     "name": "stderr",
     "output_type": "stream",
     "text": [
      "Epoch 51/60: 100%|██████████| 456/456 [07:05<00:00,  1.07img/s, loss (batch)=0.445]\n",
      "Validation round: 100%|██████████| 115/115 [00:21<00:00,  5.23batch/s]\n"
     ]
    },
    {
     "name": "stdout",
     "output_type": "stream",
     "text": [
      "Validation dice loss: 0.4644595682621002, IoU Score 0.6167196035385132\n"
     ]
    },
    {
     "name": "stderr",
     "output_type": "stream",
     "text": [
      "Validation round: 100%|██████████| 115/115 [00:21<00:00,  5.25batch/s]\n"
     ]
    },
    {
     "name": "stdout",
     "output_type": "stream",
     "text": [
      "Validation dice loss: 0.5083092451095581, IoU Score 0.5992780327796936\n"
     ]
    },
    {
     "name": "stderr",
     "output_type": "stream",
     "text": [
      "Validation round: 100%|██████████| 115/115 [00:22<00:00,  5.20batch/s]\n"
     ]
    },
    {
     "name": "stdout",
     "output_type": "stream",
     "text": [
      "Validation dice loss: 0.4317103922367096, IoU Score 0.6286213397979736\n"
     ]
    },
    {
     "name": "stderr",
     "output_type": "stream",
     "text": [
      "Validation round: 100%|██████████| 115/115 [00:22<00:00,  5.20batch/s]\n"
     ]
    },
    {
     "name": "stdout",
     "output_type": "stream",
     "text": [
      "Validation dice loss: 0.4276934564113617, IoU Score 0.632107138633728\n"
     ]
    },
    {
     "name": "stderr",
     "output_type": "stream",
     "text": [
      "Validation round: 100%|██████████| 115/115 [00:22<00:00,  5.21batch/s]\n"
     ]
    },
    {
     "name": "stdout",
     "output_type": "stream",
     "text": [
      "Validation dice loss: 0.6789150238037109, IoU Score 0.5442325472831726\n"
     ]
    },
    {
     "name": "stderr",
     "output_type": "stream",
     "text": [
      "Epoch 52/60: 100%|██████████| 456/456 [07:05<00:00,  1.07img/s, loss (batch)=0.191]\n",
      "Validation round: 100%|██████████| 115/115 [00:22<00:00,  5.21batch/s]\n"
     ]
    },
    {
     "name": "stdout",
     "output_type": "stream",
     "text": [
      "Validation dice loss: 0.5903851985931396, IoU Score 0.5764721035957336\n"
     ]
    },
    {
     "name": "stderr",
     "output_type": "stream",
     "text": [
      "Validation round: 100%|██████████| 115/115 [00:22<00:00,  5.22batch/s]\n"
     ]
    },
    {
     "name": "stdout",
     "output_type": "stream",
     "text": [
      "Validation dice loss: 0.42384010553359985, IoU Score 0.6351681351661682\n"
     ]
    },
    {
     "name": "stderr",
     "output_type": "stream",
     "text": [
      "Validation round: 100%|██████████| 115/115 [00:22<00:00,  5.18batch/s]\n"
     ]
    },
    {
     "name": "stdout",
     "output_type": "stream",
     "text": [
      "Validation dice loss: 0.49190691113471985, IoU Score 0.5980172753334045\n"
     ]
    },
    {
     "name": "stderr",
     "output_type": "stream",
     "text": [
      "Validation round: 100%|██████████| 115/115 [00:22<00:00,  5.19batch/s]\n"
     ]
    },
    {
     "name": "stdout",
     "output_type": "stream",
     "text": [
      "Validation dice loss: 0.46422332525253296, IoU Score 0.6127532720565796\n"
     ]
    },
    {
     "name": "stderr",
     "output_type": "stream",
     "text": [
      "Validation round: 100%|██████████| 115/115 [00:22<00:00,  5.22batch/s]\n"
     ]
    },
    {
     "name": "stdout",
     "output_type": "stream",
     "text": [
      "Validation dice loss: 0.4186871349811554, IoU Score 0.6382881999015808\n"
     ]
    },
    {
     "name": "stderr",
     "output_type": "stream",
     "text": [
      "Epoch 53/60: 100%|██████████| 456/456 [07:05<00:00,  1.07img/s, loss (batch)=0.135]\n",
      "Validation round: 100%|██████████| 115/115 [00:22<00:00,  5.18batch/s]\n"
     ]
    },
    {
     "name": "stdout",
     "output_type": "stream",
     "text": [
      "Validation dice loss: 0.43067529797554016, IoU Score 0.6327458024024963\n"
     ]
    },
    {
     "name": "stderr",
     "output_type": "stream",
     "text": [
      "Validation round: 100%|██████████| 115/115 [00:22<00:00,  5.21batch/s]\n"
     ]
    },
    {
     "name": "stdout",
     "output_type": "stream",
     "text": [
      "Validation dice loss: 0.46288540959358215, IoU Score 0.6194734573364258\n"
     ]
    },
    {
     "name": "stderr",
     "output_type": "stream",
     "text": [
      "Validation round: 100%|██████████| 115/115 [00:22<00:00,  5.22batch/s]\n"
     ]
    },
    {
     "name": "stdout",
     "output_type": "stream",
     "text": [
      "Validation dice loss: 0.43530580401420593, IoU Score 0.6341022253036499\n"
     ]
    },
    {
     "name": "stderr",
     "output_type": "stream",
     "text": [
      "Validation round: 100%|██████████| 115/115 [00:21<00:00,  5.24batch/s]\n"
     ]
    },
    {
     "name": "stdout",
     "output_type": "stream",
     "text": [
      "Validation dice loss: 0.43271276354789734, IoU Score 0.6337701082229614\n"
     ]
    },
    {
     "name": "stderr",
     "output_type": "stream",
     "text": [
      "Validation round: 100%|██████████| 115/115 [00:22<00:00,  5.21batch/s]\n"
     ]
    },
    {
     "name": "stdout",
     "output_type": "stream",
     "text": [
      "Validation dice loss: 0.4507480561733246, IoU Score 0.6286201477050781\n"
     ]
    },
    {
     "name": "stderr",
     "output_type": "stream",
     "text": [
      "Epoch 54/60: 100%|██████████| 456/456 [07:05<00:00,  1.07img/s, loss (batch)=0.548]\n",
      "Validation round: 100%|██████████| 115/115 [00:22<00:00,  5.20batch/s]\n"
     ]
    },
    {
     "name": "stdout",
     "output_type": "stream",
     "text": [
      "Validation dice loss: 0.4524083137512207, IoU Score 0.6254280209541321\n"
     ]
    },
    {
     "name": "stderr",
     "output_type": "stream",
     "text": [
      "Validation round: 100%|██████████| 115/115 [00:22<00:00,  5.21batch/s]\n"
     ]
    },
    {
     "name": "stdout",
     "output_type": "stream",
     "text": [
      "Validation dice loss: 0.4737793207168579, IoU Score 0.6222928762435913\n"
     ]
    },
    {
     "name": "stderr",
     "output_type": "stream",
     "text": [
      "Validation round: 100%|██████████| 115/115 [00:22<00:00,  5.21batch/s]\n"
     ]
    },
    {
     "name": "stdout",
     "output_type": "stream",
     "text": [
      "Validation dice loss: 0.42047733068466187, IoU Score 0.637624979019165\n"
     ]
    },
    {
     "name": "stderr",
     "output_type": "stream",
     "text": [
      "Validation round: 100%|██████████| 115/115 [00:22<00:00,  5.21batch/s]\n"
     ]
    },
    {
     "name": "stdout",
     "output_type": "stream",
     "text": [
      "Validation dice loss: 0.43499866127967834, IoU Score 0.6309419870376587\n"
     ]
    },
    {
     "name": "stderr",
     "output_type": "stream",
     "text": [
      "Validation round: 100%|██████████| 115/115 [00:22<00:00,  5.23batch/s]\n"
     ]
    },
    {
     "name": "stdout",
     "output_type": "stream",
     "text": [
      "Validation dice loss: 0.44551292061805725, IoU Score 0.6296519637107849\n"
     ]
    },
    {
     "name": "stderr",
     "output_type": "stream",
     "text": [
      "Epoch 55/60: 100%|██████████| 456/456 [07:05<00:00,  1.07img/s, loss (batch)=0.19]\n",
      "Validation round: 100%|██████████| 115/115 [00:22<00:00,  5.21batch/s]\n"
     ]
    },
    {
     "name": "stdout",
     "output_type": "stream",
     "text": [
      "Validation dice loss: 0.43548136949539185, IoU Score 0.6300625801086426\n"
     ]
    },
    {
     "name": "stderr",
     "output_type": "stream",
     "text": [
      "Validation round: 100%|██████████| 115/115 [00:22<00:00,  5.21batch/s]\n"
     ]
    },
    {
     "name": "stdout",
     "output_type": "stream",
     "text": [
      "Validation dice loss: 0.4450801610946655, IoU Score 0.6277755498886108\n"
     ]
    },
    {
     "name": "stderr",
     "output_type": "stream",
     "text": [
      "Validation round: 100%|██████████| 115/115 [00:22<00:00,  5.17batch/s]\n"
     ]
    },
    {
     "name": "stdout",
     "output_type": "stream",
     "text": [
      "Validation dice loss: 0.5254249572753906, IoU Score 0.6141466498374939\n"
     ]
    },
    {
     "name": "stderr",
     "output_type": "stream",
     "text": [
      "Validation round: 100%|██████████| 115/115 [00:22<00:00,  5.19batch/s]\n"
     ]
    },
    {
     "name": "stdout",
     "output_type": "stream",
     "text": [
      "Validation dice loss: 0.4470558166503906, IoU Score 0.628991961479187\n"
     ]
    },
    {
     "name": "stderr",
     "output_type": "stream",
     "text": [
      "Validation round: 100%|██████████| 115/115 [00:22<00:00,  5.23batch/s]\n"
     ]
    },
    {
     "name": "stdout",
     "output_type": "stream",
     "text": [
      "Validation dice loss: 0.4483789801597595, IoU Score 0.6263185739517212\n"
     ]
    },
    {
     "name": "stderr",
     "output_type": "stream",
     "text": [
      "Epoch 56/60: 100%|██████████| 456/456 [07:05<00:00,  1.07img/s, loss (batch)=0.146]\n",
      "Validation round: 100%|██████████| 115/115 [00:22<00:00,  5.19batch/s]\n"
     ]
    },
    {
     "name": "stdout",
     "output_type": "stream",
     "text": [
      "Validation dice loss: 0.44195419549942017, IoU Score 0.6298044919967651\n"
     ]
    },
    {
     "name": "stderr",
     "output_type": "stream",
     "text": [
      "Validation round: 100%|██████████| 115/115 [00:22<00:00,  5.15batch/s]\n"
     ]
    },
    {
     "name": "stdout",
     "output_type": "stream",
     "text": [
      "Validation dice loss: 0.45539531111717224, IoU Score 0.6260693073272705\n"
     ]
    },
    {
     "name": "stderr",
     "output_type": "stream",
     "text": [
      "Validation round: 100%|██████████| 115/115 [00:22<00:00,  5.21batch/s]\n"
     ]
    },
    {
     "name": "stdout",
     "output_type": "stream",
     "text": [
      "Validation dice loss: 0.4595067501068115, IoU Score 0.618410587310791\n"
     ]
    },
    {
     "name": "stderr",
     "output_type": "stream",
     "text": [
      "Validation round: 100%|██████████| 115/115 [00:22<00:00,  5.21batch/s]\n"
     ]
    },
    {
     "name": "stdout",
     "output_type": "stream",
     "text": [
      "Validation dice loss: 0.5099087357521057, IoU Score 0.5995463728904724\n"
     ]
    },
    {
     "name": "stderr",
     "output_type": "stream",
     "text": [
      "Validation round: 100%|██████████| 115/115 [00:22<00:00,  5.21batch/s]\n"
     ]
    },
    {
     "name": "stdout",
     "output_type": "stream",
     "text": [
      "Validation dice loss: 0.4248323440551758, IoU Score 0.6320379972457886\n"
     ]
    },
    {
     "name": "stderr",
     "output_type": "stream",
     "text": [
      "Epoch 57/60: 100%|██████████| 456/456 [07:06<00:00,  1.07img/s, loss (batch)=0.394]\n",
      "Validation round: 100%|██████████| 115/115 [00:22<00:00,  5.18batch/s]\n"
     ]
    },
    {
     "name": "stdout",
     "output_type": "stream",
     "text": [
      "Validation dice loss: 0.4224995970726013, IoU Score 0.6414308547973633\n"
     ]
    },
    {
     "name": "stderr",
     "output_type": "stream",
     "text": [
      "Validation round: 100%|██████████| 115/115 [00:22<00:00,  5.21batch/s]\n"
     ]
    },
    {
     "name": "stdout",
     "output_type": "stream",
     "text": [
      "Validation dice loss: 0.42514458298683167, IoU Score 0.6381963491439819\n"
     ]
    },
    {
     "name": "stderr",
     "output_type": "stream",
     "text": [
      "Validation round: 100%|██████████| 115/115 [00:21<00:00,  5.23batch/s]\n"
     ]
    },
    {
     "name": "stdout",
     "output_type": "stream",
     "text": [
      "Validation dice loss: 0.4195983111858368, IoU Score 0.6401453614234924\n"
     ]
    },
    {
     "name": "stderr",
     "output_type": "stream",
     "text": [
      "Validation round: 100%|██████████| 115/115 [00:22<00:00,  5.21batch/s]\n"
     ]
    },
    {
     "name": "stdout",
     "output_type": "stream",
     "text": [
      "Validation dice loss: 0.42215439677238464, IoU Score 0.6367970108985901\n"
     ]
    },
    {
     "name": "stderr",
     "output_type": "stream",
     "text": [
      "Validation round: 100%|██████████| 115/115 [00:21<00:00,  5.23batch/s]\n"
     ]
    },
    {
     "name": "stdout",
     "output_type": "stream",
     "text": [
      "Validation dice loss: 0.42799898982048035, IoU Score 0.6364257335662842\n"
     ]
    },
    {
     "name": "stderr",
     "output_type": "stream",
     "text": [
      "Epoch 58/60: 100%|██████████| 456/456 [07:05<00:00,  1.07img/s, loss (batch)=0.159]\n",
      "Validation round: 100%|██████████| 115/115 [00:22<00:00,  5.20batch/s]\n"
     ]
    },
    {
     "name": "stdout",
     "output_type": "stream",
     "text": [
      "Validation dice loss: 0.44557300209999084, IoU Score 0.6320551037788391\n"
     ]
    },
    {
     "name": "stderr",
     "output_type": "stream",
     "text": [
      "Validation round: 100%|██████████| 115/115 [00:21<00:00,  5.23batch/s]\n"
     ]
    },
    {
     "name": "stdout",
     "output_type": "stream",
     "text": [
      "Validation dice loss: 0.43609169125556946, IoU Score 0.6337159872055054\n"
     ]
    },
    {
     "name": "stderr",
     "output_type": "stream",
     "text": [
      "Validation round: 100%|██████████| 115/115 [00:22<00:00,  5.21batch/s]\n"
     ]
    },
    {
     "name": "stdout",
     "output_type": "stream",
     "text": [
      "Validation dice loss: 0.41508710384368896, IoU Score 0.6430390477180481\n"
     ]
    },
    {
     "name": "stderr",
     "output_type": "stream",
     "text": [
      "Validation round: 100%|██████████| 115/115 [00:21<00:00,  5.23batch/s]\n"
     ]
    },
    {
     "name": "stdout",
     "output_type": "stream",
     "text": [
      "Validation dice loss: 0.43477094173431396, IoU Score 0.6294744610786438\n"
     ]
    },
    {
     "name": "stderr",
     "output_type": "stream",
     "text": [
      "Validation round: 100%|██████████| 115/115 [00:22<00:00,  5.21batch/s]\n"
     ]
    },
    {
     "name": "stdout",
     "output_type": "stream",
     "text": [
      "Validation dice loss: 0.44043025374412537, IoU Score 0.6343370676040649\n"
     ]
    },
    {
     "name": "stderr",
     "output_type": "stream",
     "text": [
      "Epoch 59/60: 100%|██████████| 456/456 [07:05<00:00,  1.07img/s, loss (batch)=0.179]\n",
      "Validation round: 100%|██████████| 115/115 [00:22<00:00,  5.16batch/s]\n"
     ]
    },
    {
     "name": "stdout",
     "output_type": "stream",
     "text": [
      "Validation dice loss: 0.4657457172870636, IoU Score 0.6260687112808228\n"
     ]
    },
    {
     "name": "stderr",
     "output_type": "stream",
     "text": [
      "Validation round: 100%|██████████| 115/115 [00:22<00:00,  5.22batch/s]\n"
     ]
    },
    {
     "name": "stdout",
     "output_type": "stream",
     "text": [
      "Validation dice loss: 0.46149396896362305, IoU Score 0.6277364492416382\n"
     ]
    },
    {
     "name": "stderr",
     "output_type": "stream",
     "text": [
      "Validation round: 100%|██████████| 115/115 [00:22<00:00,  5.21batch/s]\n"
     ]
    },
    {
     "name": "stdout",
     "output_type": "stream",
     "text": [
      "Validation dice loss: 0.43342021107673645, IoU Score 0.6381435990333557\n"
     ]
    },
    {
     "name": "stderr",
     "output_type": "stream",
     "text": [
      "Validation round: 100%|██████████| 115/115 [00:22<00:00,  5.19batch/s]\n"
     ]
    },
    {
     "name": "stdout",
     "output_type": "stream",
     "text": [
      "Validation dice loss: 0.44301438331604004, IoU Score 0.6333407759666443\n"
     ]
    },
    {
     "name": "stderr",
     "output_type": "stream",
     "text": [
      "Validation round: 100%|██████████| 115/115 [00:21<00:00,  5.23batch/s]\n"
     ]
    },
    {
     "name": "stdout",
     "output_type": "stream",
     "text": [
      "Validation dice loss: 0.4139502942562103, IoU Score 0.6458768844604492\n"
     ]
    },
    {
     "name": "stderr",
     "output_type": "stream",
     "text": [
      "Validation round: 100%|██████████| 115/115 [00:22<00:00,  5.17batch/s]\n"
     ]
    },
    {
     "name": "stdout",
     "output_type": "stream",
     "text": [
      "Validation dice loss: 0.4227665662765503, IoU Score 0.6334819197654724\n"
     ]
    },
    {
     "name": "stderr",
     "output_type": "stream",
     "text": [
      "Epoch 60/60: 100%|██████████| 456/456 [07:28<00:00,  1.02img/s, loss (batch)=0.34]\n"
     ]
    }
   ],
   "source": [
    "model = UNet(n_channels=3, n_classes=1, n_filters = 64)\n",
    "\n",
    "device = torch.device('cuda' if torch.cuda.is_available() else 'cpu')\n",
    "if torch.cuda.device_count() > 1:\n",
    "    print(\"Let's use\", torch.cuda.device_count(), \"GPUs!\")\n",
    "    model = nn.DataParallel(model)\n",
    "\n",
    "model = model.to(memory_format=torch.channels_last)\n",
    "model.to(device)\n",
    "\n",
    "\n",
    "total_params = sum(p.numel() for p in model.parameters())\n",
    "print(f\"UNet-ScConv模型参数量为：{total_params}\")\n",
    "print(\"其详情为：\")\n",
    "for name,parameters in model.named_parameters():\n",
    "    print(name,':',parameters.size())\n",
    "\n",
    "train(model, device, project='UNet-ScConv')"
   ]
  },
  {
   "cell_type": "markdown",
   "id": "611bf12d",
   "metadata": {
    "papermill": {
     "duration": 5.005172,
     "end_time": "2023-12-21T15:04:07.050171",
     "exception": false,
     "start_time": "2023-12-21T15:04:02.044999",
     "status": "completed"
    },
    "tags": []
   },
   "source": [
    "# 推理"
   ]
  }
 ],
 "metadata": {
  "kaggle": {
   "accelerator": "gpu",
   "dataSources": [
    {
     "datasetId": 3664633,
     "sourceId": 6361775,
     "sourceType": "datasetVersion"
    }
   ],
   "dockerImageVersionId": 30528,
   "isGpuEnabled": true,
   "isInternetEnabled": true,
   "language": "python",
   "sourceType": "notebook"
  },
  "kernelspec": {
   "display_name": "Python 3",
   "language": "python",
   "name": "python3"
  },
  "language_info": {
   "codemirror_mode": {
    "name": "ipython",
    "version": 3
   },
   "file_extension": ".py",
   "mimetype": "text/x-python",
   "name": "python",
   "nbconvert_exporter": "python",
   "pygments_lexer": "ipython3",
   "version": "3.10.12"
  },
  "papermill": {
   "default_parameters": {},
   "duration": 25718.595598,
   "end_time": "2023-12-21T15:04:14.991184",
   "environment_variables": {},
   "exception": null,
   "input_path": "__notebook__.ipynb",
   "output_path": "__notebook__.ipynb",
   "parameters": {},
   "start_time": "2023-12-21T07:55:36.395586",
   "version": "2.4.0"
  }
 },
 "nbformat": 4,
 "nbformat_minor": 5
}
