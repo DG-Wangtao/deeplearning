{
 "cells": [
  {
   "cell_type": "markdown",
   "id": "ff41c418",
   "metadata": {
    "papermill": {
     "duration": 0.009292,
     "end_time": "2023-12-17T17:15:50.940032",
     "exception": false,
     "start_time": "2023-12-17T17:15:50.930740",
     "status": "completed"
    },
    "tags": []
   },
   "source": [
    "# UNeXt \n",
    "> https://github.com/jeya-maria-jose/UNeXt-pytorch"
   ]
  },
  {
   "cell_type": "code",
   "execution_count": 1,
   "id": "2750ce00",
   "metadata": {
    "_cell_guid": "1b772f0f-3a0c-4b91-b596-998d2e0fddd9",
    "_uuid": "2a78186a-a663-4493-a796-33b0f558bf7a",
    "collapsed": false,
    "execution": {
     "iopub.execute_input": "2023-12-17T17:15:50.957215Z",
     "iopub.status.busy": "2023-12-17T17:15:50.956726Z",
     "iopub.status.idle": "2023-12-17T17:15:50.981159Z",
     "shell.execute_reply": "2023-12-17T17:15:50.980143Z"
    },
    "jupyter": {
     "outputs_hidden": false
    },
    "papermill": {
     "duration": 0.036366,
     "end_time": "2023-12-17T17:15:50.984133",
     "exception": false,
     "start_time": "2023-12-17T17:15:50.947767",
     "status": "completed"
    },
    "tags": []
   },
   "outputs": [],
   "source": [
    "%config Completer.use_jedi = False"
   ]
  },
  {
   "cell_type": "markdown",
   "id": "714bc153",
   "metadata": {
    "papermill": {
     "duration": 0.007424,
     "end_time": "2023-12-17T17:15:50.999266",
     "exception": false,
     "start_time": "2023-12-17T17:15:50.991842",
     "status": "completed"
    },
    "tags": []
   },
   "source": [
    "## 引入依赖包"
   ]
  },
  {
   "cell_type": "code",
   "execution_count": 2,
   "id": "b2c47c76",
   "metadata": {
    "execution": {
     "iopub.execute_input": "2023-12-17T17:15:51.017505Z",
     "iopub.status.busy": "2023-12-17T17:15:51.016992Z",
     "iopub.status.idle": "2023-12-17T17:16:13.268023Z",
     "shell.execute_reply": "2023-12-17T17:16:13.266812Z"
    },
    "papermill": {
     "duration": 22.263378,
     "end_time": "2023-12-17T17:16:13.270974",
     "exception": false,
     "start_time": "2023-12-17T17:15:51.007596",
     "status": "completed"
    },
    "tags": []
   },
   "outputs": [
    {
     "name": "stdout",
     "output_type": "stream",
     "text": [
      "Requirement already satisfied: scipy in /opt/conda/lib/python3.7/site-packages (1.7.3)\r\n",
      "Requirement already satisfied: scikit-image in /opt/conda/lib/python3.7/site-packages (0.19.3)\r\n",
      "Requirement already satisfied: torch in /opt/conda/lib/python3.7/site-packages (1.11.0+cpu)\r\n",
      "Requirement already satisfied: torchvision in /opt/conda/lib/python3.7/site-packages (0.12.0+cpu)\r\n",
      "Collecting pathlib\r\n",
      "  Downloading pathlib-1.0.1-py3-none-any.whl (14 kB)\r\n",
      "Requirement already satisfied: wandb in /opt/conda/lib/python3.7/site-packages (0.12.21)\r\n",
      "Collecting segmentation-models-pytorch\r\n",
      "  Downloading segmentation_models_pytorch-0.3.3-py3-none-any.whl (106 kB)\r\n",
      "\u001b[2K     \u001b[90m━━━━━━━━━━━━━━━━━━━━━━━━━━━━━━━━━━━━━━━\u001b[0m \u001b[32m106.7/106.7 kB\u001b[0m \u001b[31m4.9 MB/s\u001b[0m eta \u001b[36m0:00:00\u001b[0m\r\n",
      "\u001b[?25hCollecting timm\r\n",
      "  Downloading timm-0.9.12-py3-none-any.whl (2.2 MB)\r\n",
      "\u001b[2K     \u001b[90m━━━━━━━━━━━━━━━━━━━━━━━━━━━━━━━━━━━━━━━━\u001b[0m \u001b[32m2.2/2.2 MB\u001b[0m \u001b[31m43.4 MB/s\u001b[0m eta \u001b[36m0:00:00\u001b[0m\r\n",
      "\u001b[?25hRequirement already satisfied: numpy<1.23.0,>=1.16.5 in /opt/conda/lib/python3.7/site-packages (from scipy) (1.21.6)\r\n",
      "Requirement already satisfied: networkx>=2.2 in /opt/conda/lib/python3.7/site-packages (from scikit-image) (2.5)\r\n",
      "Requirement already satisfied: imageio>=2.4.1 in /opt/conda/lib/python3.7/site-packages (from scikit-image) (2.19.3)\r\n",
      "Requirement already satisfied: tifffile>=2019.7.26 in /opt/conda/lib/python3.7/site-packages (from scikit-image) (2021.11.2)\r\n",
      "Requirement already satisfied: packaging>=20.0 in /opt/conda/lib/python3.7/site-packages (from scikit-image) (21.3)\r\n",
      "Requirement already satisfied: PyWavelets>=1.1.1 in /opt/conda/lib/python3.7/site-packages (from scikit-image) (1.3.0)\r\n",
      "Requirement already satisfied: pillow!=7.1.0,!=7.1.1,!=8.3.0,>=6.1.0 in /opt/conda/lib/python3.7/site-packages (from scikit-image) (9.1.1)\r\n",
      "Requirement already satisfied: typing-extensions in /opt/conda/lib/python3.7/site-packages (from torch) (4.3.0)\r\n",
      "Requirement already satisfied: requests in /opt/conda/lib/python3.7/site-packages (from torchvision) (2.28.1)\r\n",
      "Requirement already satisfied: psutil>=5.0.0 in /opt/conda/lib/python3.7/site-packages (from wandb) (5.9.1)\r\n",
      "Requirement already satisfied: pathtools in /opt/conda/lib/python3.7/site-packages (from wandb) (0.1.2)\r\n",
      "Requirement already satisfied: six>=1.13.0 in /opt/conda/lib/python3.7/site-packages (from wandb) (1.15.0)\r\n",
      "Requirement already satisfied: Click!=8.0.0,>=7.0 in /opt/conda/lib/python3.7/site-packages (from wandb) (8.0.4)\r\n",
      "Requirement already satisfied: setproctitle in /opt/conda/lib/python3.7/site-packages (from wandb) (1.3.2)\r\n",
      "Requirement already satisfied: sentry-sdk>=1.0.0 in /opt/conda/lib/python3.7/site-packages (from wandb) (1.9.5)\r\n",
      "Requirement already satisfied: promise<3,>=2.0 in /opt/conda/lib/python3.7/site-packages (from wandb) (2.3)\r\n",
      "Requirement already satisfied: docker-pycreds>=0.4.0 in /opt/conda/lib/python3.7/site-packages (from wandb) (0.4.0)\r\n",
      "Requirement already satisfied: setuptools in /opt/conda/lib/python3.7/site-packages (from wandb) (59.8.0)\r\n",
      "Requirement already satisfied: shortuuid>=0.5.0 in /opt/conda/lib/python3.7/site-packages (from wandb) (1.0.9)\r\n",
      "Requirement already satisfied: protobuf<4.0dev,>=3.12.0 in /opt/conda/lib/python3.7/site-packages (from wandb) (3.19.4)\r\n",
      "Requirement already satisfied: GitPython>=1.0.0 in /opt/conda/lib/python3.7/site-packages (from wandb) (3.1.27)\r\n",
      "Requirement already satisfied: PyYAML in /opt/conda/lib/python3.7/site-packages (from wandb) (6.0)\r\n",
      "Requirement already satisfied: tqdm in /opt/conda/lib/python3.7/site-packages (from segmentation-models-pytorch) (4.64.0)\r\n",
      "Collecting pretrainedmodels==0.7.4\r\n",
      "  Downloading pretrainedmodels-0.7.4.tar.gz (58 kB)\r\n",
      "\u001b[2K     \u001b[90m━━━━━━━━━━━━━━━━━━━━━━━━━━━━━━━━━━━━━━━━\u001b[0m \u001b[32m58.8/58.8 kB\u001b[0m \u001b[31m5.7 MB/s\u001b[0m eta \u001b[36m0:00:00\u001b[0m\r\n",
      "\u001b[?25h  Preparing metadata (setup.py) ... \u001b[?25l-\b \bdone\r\n",
      "\u001b[?25hCollecting efficientnet-pytorch==0.7.1\r\n",
      "  Downloading efficientnet_pytorch-0.7.1.tar.gz (21 kB)\r\n",
      "  Preparing metadata (setup.py) ... \u001b[?25l-\b \bdone\r\n",
      "\u001b[?25hCollecting timm\r\n",
      "  Downloading timm-0.9.2-py3-none-any.whl (2.2 MB)\r\n",
      "\u001b[2K     \u001b[90m━━━━━━━━━━━━━━━━━━━━━━━━━━━━━━━━━━━━━━━━\u001b[0m \u001b[32m2.2/2.2 MB\u001b[0m \u001b[31m56.1 MB/s\u001b[0m eta \u001b[36m0:00:00\u001b[0m\r\n",
      "\u001b[?25hRequirement already satisfied: huggingface-hub in /opt/conda/lib/python3.7/site-packages (from timm) (0.8.1)\r\n",
      "Collecting safetensors\r\n",
      "  Downloading safetensors-0.4.1-cp37-cp37m-manylinux_2_17_x86_64.manylinux2014_x86_64.whl (1.3 MB)\r\n",
      "\u001b[2K     \u001b[90m━━━━━━━━━━━━━━━━━━━━━━━━━━━━━━━━━━━━━━━━\u001b[0m \u001b[32m1.3/1.3 MB\u001b[0m \u001b[31m51.7 MB/s\u001b[0m eta \u001b[36m0:00:00\u001b[0m\r\n",
      "\u001b[?25hRequirement already satisfied: munch in /opt/conda/lib/python3.7/site-packages (from pretrainedmodels==0.7.4->segmentation-models-pytorch) (2.5.0)\r\n",
      "Requirement already satisfied: importlib-metadata in /opt/conda/lib/python3.7/site-packages (from Click!=8.0.0,>=7.0->wandb) (4.12.0)\r\n",
      "Requirement already satisfied: gitdb<5,>=4.0.1 in /opt/conda/lib/python3.7/site-packages (from GitPython>=1.0.0->wandb) (4.0.9)\r\n",
      "Requirement already satisfied: decorator>=4.3.0 in /opt/conda/lib/python3.7/site-packages (from networkx>=2.2->scikit-image) (5.1.1)\r\n",
      "Requirement already satisfied: pyparsing!=3.0.5,>=2.0.2 in /opt/conda/lib/python3.7/site-packages (from packaging>=20.0->scikit-image) (3.0.9)\r\n",
      "Requirement already satisfied: urllib3<1.27,>=1.21.1 in /opt/conda/lib/python3.7/site-packages (from requests->torchvision) (1.26.11)\r\n",
      "Requirement already satisfied: certifi>=2017.4.17 in /opt/conda/lib/python3.7/site-packages (from requests->torchvision) (2022.6.15)\r\n",
      "Requirement already satisfied: charset-normalizer<3,>=2 in /opt/conda/lib/python3.7/site-packages (from requests->torchvision) (2.1.0)\r\n",
      "Requirement already satisfied: idna<4,>=2.5 in /opt/conda/lib/python3.7/site-packages (from requests->torchvision) (3.3)\r\n",
      "Requirement already satisfied: filelock in /opt/conda/lib/python3.7/site-packages (from huggingface-hub->timm) (3.7.1)\r\n",
      "Requirement already satisfied: smmap<6,>=3.0.1 in /opt/conda/lib/python3.7/site-packages (from gitdb<5,>=4.0.1->GitPython>=1.0.0->wandb) (3.0.5)\r\n",
      "Requirement already satisfied: zipp>=0.5 in /opt/conda/lib/python3.7/site-packages (from importlib-metadata->Click!=8.0.0,>=7.0->wandb) (3.8.0)\r\n",
      "Building wheels for collected packages: efficientnet-pytorch, pretrainedmodels\r\n",
      "  Building wheel for efficientnet-pytorch (setup.py) ... \u001b[?25l-\b \b\\\b \bdone\r\n",
      "\u001b[?25h  Created wheel for efficientnet-pytorch: filename=efficientnet_pytorch-0.7.1-py3-none-any.whl size=16446 sha256=e5e92b35a8daba3390a0ef1d81e8c227aaaba5dd605f7a85c831e19c63c44458\r\n",
      "  Stored in directory: /root/.cache/pip/wheels/0e/cc/b2/49e74588263573ff778da58cc99b9c6349b496636a7e165be6\r\n",
      "  Building wheel for pretrainedmodels (setup.py) ... \u001b[?25l-\b \b\\\b \bdone\r\n",
      "\u001b[?25h  Created wheel for pretrainedmodels: filename=pretrainedmodels-0.7.4-py3-none-any.whl size=60965 sha256=f1959fa3d6f68834c7fde24d914bbf0411fa33f73f26484d23b9ed1a017b4b7e\r\n",
      "  Stored in directory: /root/.cache/pip/wheels/ed/27/e8/9543d42de2740d3544db96aefef63bda3f2c1761b3334f4873\r\n",
      "Successfully built efficientnet-pytorch pretrainedmodels\r\n",
      "Installing collected packages: pathlib, safetensors, efficientnet-pytorch, timm, pretrainedmodels, segmentation-models-pytorch\r\n",
      "Successfully installed efficientnet-pytorch-0.7.1 pathlib-1.0.1 pretrainedmodels-0.7.4 safetensors-0.4.1 segmentation-models-pytorch-0.3.3 timm-0.9.2\r\n",
      "\u001b[33mWARNING: Running pip as the 'root' user can result in broken permissions and conflicting behaviour with the system package manager. It is recommended to use a virtual environment instead: https://pip.pypa.io/warnings/venv\u001b[0m\u001b[33m\r\n",
      "\u001b[0m"
     ]
    }
   ],
   "source": [
    "!pip install scipy scikit-image torch torchvision pathlib wandb segmentation-models-pytorch timm"
   ]
  },
  {
   "cell_type": "code",
   "execution_count": 3,
   "id": "1a5a35cd",
   "metadata": {
    "execution": {
     "iopub.execute_input": "2023-12-17T17:16:13.296920Z",
     "iopub.status.busy": "2023-12-17T17:16:13.295570Z",
     "iopub.status.idle": "2023-12-17T17:16:16.355355Z",
     "shell.execute_reply": "2023-12-17T17:16:16.353896Z"
    },
    "papermill": {
     "duration": 3.075478,
     "end_time": "2023-12-17T17:16:16.358460",
     "exception": false,
     "start_time": "2023-12-17T17:16:13.282982",
     "status": "completed"
    },
    "tags": []
   },
   "outputs": [],
   "source": [
    "import os\n",
    "import random\n",
    "import pandas as pd\n",
    "import numpy as np\n",
    "import matplotlib.pyplot as plt\n",
    "plt.style.use(\"ggplot\")\n",
    "%matplotlib inline\n",
    "\n",
    "import torch\n",
    "import torch.nn as nn\n",
    "from torchvision import models, transforms\n",
    "from torch.nn.functional import relu, pad\n",
    "from torch.utils.data import Dataset, DataLoader, random_split\n",
    "\n",
    "from PIL import Image\n",
    "from typing import Tuple\n",
    "from pathlib import Path\n",
    "\n",
    "import torch\n",
    "from torch import nn, Tensor\n",
    "import torch.nn.functional as F\n",
    "import torch.optim as optim\n",
    "\n",
    "from tqdm import tqdm\n",
    "import wandb\n",
    "import logging"
   ]
  },
  {
   "cell_type": "markdown",
   "id": "5b8b4d1e",
   "metadata": {
    "papermill": {
     "duration": 0.010527,
     "end_time": "2023-12-17T17:16:16.379918",
     "exception": false,
     "start_time": "2023-12-17T17:16:16.369391",
     "status": "completed"
    },
    "tags": []
   },
   "source": [
    "## 设置wandb账号\n",
    "用作统计与数据分析"
   ]
  },
  {
   "cell_type": "code",
   "execution_count": 4,
   "id": "1a537bb1",
   "metadata": {
    "execution": {
     "iopub.execute_input": "2023-12-17T17:16:16.404590Z",
     "iopub.status.busy": "2023-12-17T17:16:16.403212Z",
     "iopub.status.idle": "2023-12-17T17:16:19.715119Z",
     "shell.execute_reply": "2023-12-17T17:16:19.713827Z"
    },
    "papermill": {
     "duration": 3.327439,
     "end_time": "2023-12-17T17:16:19.718162",
     "exception": false,
     "start_time": "2023-12-17T17:16:16.390723",
     "status": "completed"
    },
    "tags": []
   },
   "outputs": [
    {
     "name": "stdout",
     "output_type": "stream",
     "text": [
      "\u001b[34m\u001b[1mwandb\u001b[0m: Currently logged in as: \u001b[33mtorwayland\u001b[0m (\u001b[33mcupes-wangtao\u001b[0m). Use \u001b[1m`wandb login --relogin`\u001b[0m to force relogin\r\n"
     ]
    }
   ],
   "source": [
    "os.environ['WANDB_API_KEY']='d561f1229ba7c4e207ca34042f29a43552a7447e'\n",
    "!wandb login"
   ]
  },
  {
   "cell_type": "code",
   "execution_count": 5,
   "id": "58345aef",
   "metadata": {
    "execution": {
     "iopub.execute_input": "2023-12-17T17:16:19.743762Z",
     "iopub.status.busy": "2023-12-17T17:16:19.743255Z",
     "iopub.status.idle": "2023-12-17T17:16:20.379124Z",
     "shell.execute_reply": "2023-12-17T17:16:20.378083Z"
    },
    "papermill": {
     "duration": 0.65251,
     "end_time": "2023-12-17T17:16:20.381983",
     "exception": false,
     "start_time": "2023-12-17T17:16:19.729473",
     "status": "completed"
    },
    "tags": []
   },
   "outputs": [],
   "source": [
    "import torch\n",
    "from torch import nn\n",
    "import torch\n",
    "import torchvision\n",
    "from torch import nn\n",
    "from torch.autograd import Variable\n",
    "from torch.utils.data import DataLoader\n",
    "from torchvision import transforms\n",
    "from torchvision.utils import save_image\n",
    "import torch.nn.functional as F\n",
    "import os\n",
    "import matplotlib.pyplot as plt\n",
    "# from utils import *\n",
    "\n",
    "import timm\n",
    "from timm.models.layers import DropPath, to_2tuple, trunc_normal_\n",
    "import types\n",
    "import math\n",
    "from abc import ABCMeta, abstractmethod\n",
    "# from mmcv.cnn import ConvModule\n",
    "import pdb\n",
    "\n",
    "\n",
    "\n",
    "def conv1x1(in_planes: int, out_planes: int, stride: int = 1) -> nn.Conv2d:\n",
    "    \"\"\"1x1 convolution\"\"\"\n",
    "    return nn.Conv2d(in_planes, out_planes, kernel_size=1, stride=1, bias=False)\n",
    "\n",
    "\n",
    "def shift(dim):\n",
    "            x_shift = [ torch.roll(x_c, shift, dim) for x_c, shift in zip(xs, range(-self.pad, self.pad+1))]\n",
    "            x_cat = torch.cat(x_shift, 1)\n",
    "            x_cat = torch.narrow(x_cat, 2, self.pad, H)\n",
    "            x_cat = torch.narrow(x_cat, 3, self.pad, W)\n",
    "            return x_cat\n",
    "\n",
    "class shiftmlp(nn.Module):\n",
    "    def __init__(self, in_features, hidden_features=None, out_features=None, act_layer=nn.GELU, drop=0., shift_size=5):\n",
    "        super().__init__()\n",
    "        out_features = out_features or in_features\n",
    "        hidden_features = hidden_features or in_features\n",
    "        self.dim = in_features\n",
    "        self.fc1 = nn.Linear(in_features, hidden_features)\n",
    "        self.dwconv = DWConv(hidden_features)\n",
    "        self.act = act_layer()\n",
    "        self.fc2 = nn.Linear(hidden_features, out_features)\n",
    "        self.drop = nn.Dropout(drop)\n",
    "\n",
    "        self.shift_size = shift_size\n",
    "        self.pad = shift_size // 2\n",
    "\n",
    "        \n",
    "        self.apply(self._init_weights)\n",
    "\n",
    "    def _init_weights(self, m):\n",
    "        if isinstance(m, nn.Linear):\n",
    "            trunc_normal_(m.weight, std=.02)\n",
    "            if isinstance(m, nn.Linear) and m.bias is not None:\n",
    "                nn.init.constant_(m.bias, 0)\n",
    "        elif isinstance(m, nn.LayerNorm):\n",
    "            nn.init.constant_(m.bias, 0)\n",
    "            nn.init.constant_(m.weight, 1.0)\n",
    "        elif isinstance(m, nn.Conv2d):\n",
    "            fan_out = m.kernel_size[0] * m.kernel_size[1] * m.out_channels\n",
    "            fan_out //= m.groups\n",
    "            m.weight.data.normal_(0, math.sqrt(2.0 / fan_out))\n",
    "            if m.bias is not None:\n",
    "                m.bias.data.zero_()\n",
    "    \n",
    "#     def shift(x, dim):\n",
    "#         x = F.pad(x, \"constant\", 0)\n",
    "#         x = torch.chunk(x, shift_size, 1)\n",
    "#         x = [ torch.roll(x_c, shift, dim) for x_s, shift in zip(x, range(-pad, pad+1))]\n",
    "#         x = torch.cat(x, 1)\n",
    "#         return x[:, :, pad:-pad, pad:-pad]\n",
    "\n",
    "    def forward(self, x, H, W):\n",
    "        # pdb.set_trace()\n",
    "        B, N, C = x.shape\n",
    "\n",
    "        xn = x.transpose(1, 2).view(B, C, H, W).contiguous()\n",
    "        xn = F.pad(xn, (self.pad, self.pad, self.pad, self.pad) , \"constant\", 0)\n",
    "        xs = torch.chunk(xn, self.shift_size, 1)\n",
    "        x_shift = [torch.roll(x_c, shift, 2) for x_c, shift in zip(xs, range(-self.pad, self.pad+1))]\n",
    "        x_cat = torch.cat(x_shift, 1)\n",
    "        x_cat = torch.narrow(x_cat, 2, self.pad, H)\n",
    "        x_s = torch.narrow(x_cat, 3, self.pad, W)\n",
    "\n",
    "\n",
    "        x_s = x_s.reshape(B,C,H*W).contiguous()\n",
    "        x_shift_r = x_s.transpose(1,2)\n",
    "\n",
    "\n",
    "        x = self.fc1(x_shift_r)\n",
    "\n",
    "        x = self.dwconv(x, H, W)\n",
    "        x = self.act(x) \n",
    "        x = self.drop(x)\n",
    "\n",
    "        xn = x.transpose(1, 2).view(B, C, H, W).contiguous()\n",
    "        xn = F.pad(xn, (self.pad, self.pad, self.pad, self.pad) , \"constant\", 0)\n",
    "        xs = torch.chunk(xn, self.shift_size, 1)\n",
    "        x_shift = [torch.roll(x_c, shift, 3) for x_c, shift in zip(xs, range(-self.pad, self.pad+1))]\n",
    "        x_cat = torch.cat(x_shift, 1)\n",
    "        x_cat = torch.narrow(x_cat, 2, self.pad, H)\n",
    "        x_s = torch.narrow(x_cat, 3, self.pad, W)\n",
    "        x_s = x_s.reshape(B,C,H*W).contiguous()\n",
    "        x_shift_c = x_s.transpose(1,2)\n",
    "\n",
    "        x = self.fc2(x_shift_c)\n",
    "        x = self.drop(x)\n",
    "        return x\n",
    "\n",
    "\n",
    "\n",
    "class shiftedBlock(nn.Module):\n",
    "    def __init__(self, dim, num_heads, mlp_ratio=4., qkv_bias=False, qk_scale=None, drop=0., attn_drop=0.,\n",
    "                 drop_path=0., act_layer=nn.GELU, norm_layer=nn.LayerNorm, sr_ratio=1):\n",
    "        super().__init__()\n",
    "\n",
    "\n",
    "        self.drop_path = DropPath(drop_path) if drop_path > 0. else nn.Identity()\n",
    "        self.norm2 = norm_layer(dim)\n",
    "        mlp_hidden_dim = int(dim * mlp_ratio)\n",
    "        self.mlp = shiftmlp(in_features=dim, hidden_features=mlp_hidden_dim, act_layer=act_layer, drop=drop)\n",
    "        self.apply(self._init_weights)\n",
    "\n",
    "    def _init_weights(self, m):\n",
    "        if isinstance(m, nn.Linear):\n",
    "            trunc_normal_(m.weight, std=.02)\n",
    "            if isinstance(m, nn.Linear) and m.bias is not None:\n",
    "                nn.init.constant_(m.bias, 0)\n",
    "        elif isinstance(m, nn.LayerNorm):\n",
    "            nn.init.constant_(m.bias, 0)\n",
    "            nn.init.constant_(m.weight, 1.0)\n",
    "        elif isinstance(m, nn.Conv2d):\n",
    "            fan_out = m.kernel_size[0] * m.kernel_size[1] * m.out_channels\n",
    "            fan_out //= m.groups\n",
    "            m.weight.data.normal_(0, math.sqrt(2.0 / fan_out))\n",
    "            if m.bias is not None:\n",
    "                m.bias.data.zero_()\n",
    "\n",
    "    def forward(self, x, H, W):\n",
    "\n",
    "        x = x + self.drop_path(self.mlp(self.norm2(x), H, W))\n",
    "        return x\n",
    "\n",
    "\n",
    "class DWConv(nn.Module):\n",
    "    def __init__(self, dim=768):\n",
    "        super(DWConv, self).__init__()\n",
    "        self.dwconv = nn.Conv2d(dim, dim, 3, 1, 1, bias=True, groups=dim)\n",
    "\n",
    "    def forward(self, x, H, W):\n",
    "        B, N, C = x.shape\n",
    "        x = x.transpose(1, 2).view(B, C, H, W)\n",
    "        x = self.dwconv(x)\n",
    "        x = x.flatten(2).transpose(1, 2)\n",
    "\n",
    "        return x\n",
    "\n",
    "class OverlapPatchEmbed(nn.Module):\n",
    "    \"\"\" Image to Patch Embedding\n",
    "    \"\"\"\n",
    "\n",
    "    def __init__(self, img_size=224, patch_size=7, stride=4, in_chans=3, embed_dim=768):\n",
    "        super().__init__()\n",
    "        img_size = to_2tuple(img_size)\n",
    "        patch_size = to_2tuple(patch_size)\n",
    "\n",
    "        self.img_size = img_size\n",
    "        self.patch_size = patch_size\n",
    "        self.H, self.W = img_size[0] // patch_size[0], img_size[1] // patch_size[1]\n",
    "        self.num_patches = self.H * self.W\n",
    "        self.proj = nn.Conv2d(in_chans, embed_dim, kernel_size=patch_size, stride=stride,\n",
    "                              padding=(patch_size[0] // 2, patch_size[1] // 2))\n",
    "        self.norm = nn.LayerNorm(embed_dim)\n",
    "\n",
    "        self.apply(self._init_weights)\n",
    "\n",
    "    def _init_weights(self, m):\n",
    "        if isinstance(m, nn.Linear):\n",
    "            trunc_normal_(m.weight, std=.02)\n",
    "            if isinstance(m, nn.Linear) and m.bias is not None:\n",
    "                nn.init.constant_(m.bias, 0)\n",
    "        elif isinstance(m, nn.LayerNorm):\n",
    "            nn.init.constant_(m.bias, 0)\n",
    "            nn.init.constant_(m.weight, 1.0)\n",
    "        elif isinstance(m, nn.Conv2d):\n",
    "            fan_out = m.kernel_size[0] * m.kernel_size[1] * m.out_channels\n",
    "            fan_out //= m.groups\n",
    "            m.weight.data.normal_(0, math.sqrt(2.0 / fan_out))\n",
    "            if m.bias is not None:\n",
    "                m.bias.data.zero_()\n",
    "\n",
    "    def forward(self, x):\n",
    "        x = self.proj(x)\n",
    "        _, _, H, W = x.shape\n",
    "        x = x.flatten(2).transpose(1, 2)\n",
    "        x = self.norm(x)\n",
    "\n",
    "        return x, H, W\n",
    "\n",
    "\n",
    "class UNext(nn.Module):\n",
    "\n",
    "    ## Conv 3 + MLP 2 + shifted MLP\n",
    "    \n",
    "    def __init__(self,  num_classes, input_channels=3, deep_supervision=False,img_size=224, patch_size=16, in_chans=3,  embed_dims=[ 128, 160, 256],\n",
    "                 num_heads=[1, 2, 4, 8], mlp_ratios=[4, 4, 4, 4], qkv_bias=False, qk_scale=None, drop_rate=0.,\n",
    "                 attn_drop_rate=0., drop_path_rate=0., norm_layer=nn.LayerNorm,\n",
    "                 depths=[1, 1, 1], sr_ratios=[8, 4, 2, 1], **kwargs):\n",
    "        super().__init__()\n",
    "        self.num_classes = num_classes\n",
    "        self.input_channels = input_channels\n",
    "        self.encoder1 = nn.Conv2d(3, 16, 3, stride=1, padding=1)  \n",
    "        self.encoder2 = nn.Conv2d(16, 32, 3, stride=1, padding=1)  \n",
    "        self.encoder3 = nn.Conv2d(32, 128, 3, stride=1, padding=1)\n",
    "\n",
    "        self.ebn1 = nn.BatchNorm2d(16)\n",
    "        self.ebn2 = nn.BatchNorm2d(32)\n",
    "        self.ebn3 = nn.BatchNorm2d(128)\n",
    "        \n",
    "        self.norm3 = norm_layer(embed_dims[1])\n",
    "        self.norm4 = norm_layer(embed_dims[2])\n",
    "\n",
    "        self.dnorm3 = norm_layer(160)\n",
    "        self.dnorm4 = norm_layer(128)\n",
    "\n",
    "        dpr = [x.item() for x in torch.linspace(0, drop_path_rate, sum(depths))]\n",
    "\n",
    "        self.block1 = nn.ModuleList([shiftedBlock(\n",
    "            dim=embed_dims[1], num_heads=num_heads[0], mlp_ratio=1, qkv_bias=qkv_bias, qk_scale=qk_scale,\n",
    "            drop=drop_rate, attn_drop=attn_drop_rate, drop_path=dpr[0], norm_layer=norm_layer,\n",
    "            sr_ratio=sr_ratios[0])])\n",
    "\n",
    "        self.block2 = nn.ModuleList([shiftedBlock(\n",
    "            dim=embed_dims[2], num_heads=num_heads[0], mlp_ratio=1, qkv_bias=qkv_bias, qk_scale=qk_scale,\n",
    "            drop=drop_rate, attn_drop=attn_drop_rate, drop_path=dpr[1], norm_layer=norm_layer,\n",
    "            sr_ratio=sr_ratios[0])])\n",
    "\n",
    "        self.dblock1 = nn.ModuleList([shiftedBlock(\n",
    "            dim=embed_dims[1], num_heads=num_heads[0], mlp_ratio=1, qkv_bias=qkv_bias, qk_scale=qk_scale,\n",
    "            drop=drop_rate, attn_drop=attn_drop_rate, drop_path=dpr[0], norm_layer=norm_layer,\n",
    "            sr_ratio=sr_ratios[0])])\n",
    "\n",
    "        self.dblock2 = nn.ModuleList([shiftedBlock(\n",
    "            dim=embed_dims[0], num_heads=num_heads[0], mlp_ratio=1, qkv_bias=qkv_bias, qk_scale=qk_scale,\n",
    "            drop=drop_rate, attn_drop=attn_drop_rate, drop_path=dpr[1], norm_layer=norm_layer,\n",
    "            sr_ratio=sr_ratios[0])])\n",
    "\n",
    "        self.patch_embed3 = OverlapPatchEmbed(img_size=img_size // 4, patch_size=3, stride=2, in_chans=embed_dims[0],\n",
    "                                              embed_dim=embed_dims[1])\n",
    "        self.patch_embed4 = OverlapPatchEmbed(img_size=img_size // 8, patch_size=3, stride=2, in_chans=embed_dims[1],\n",
    "                                              embed_dim=embed_dims[2])\n",
    "\n",
    "        self.decoder1 = nn.Conv2d(256, 160, 3, stride=1,padding=1)  \n",
    "        self.decoder2 =   nn.Conv2d(160, 128, 3, stride=1, padding=1)  \n",
    "        self.decoder3 =   nn.Conv2d(128, 32, 3, stride=1, padding=1) \n",
    "        self.decoder4 =   nn.Conv2d(32, 16, 3, stride=1, padding=1)\n",
    "        self.decoder5 =   nn.Conv2d(16, 16, 3, stride=1, padding=1)\n",
    "\n",
    "        self.dbn1 = nn.BatchNorm2d(160)\n",
    "        self.dbn2 = nn.BatchNorm2d(128)\n",
    "        self.dbn3 = nn.BatchNorm2d(32)\n",
    "        self.dbn4 = nn.BatchNorm2d(16)\n",
    "        \n",
    "        self.final = nn.Conv2d(16, num_classes, kernel_size=1)\n",
    "\n",
    "        self.soft = nn.Softmax(dim =1)\n",
    "\n",
    "    def forward(self, x):\n",
    "        \n",
    "        B = x.shape[0]\n",
    "        ### Encoder\n",
    "        ### Conv Stage\n",
    "\n",
    "        ### Stage 1\n",
    "        out = F.relu(F.max_pool2d(self.ebn1(self.encoder1(x)),2,2))\n",
    "        t1 = out\n",
    "        ### Stage 2\n",
    "        out = F.relu(F.max_pool2d(self.ebn2(self.encoder2(out)),2,2))\n",
    "        t2 = out\n",
    "        ### Stage 3\n",
    "        out = F.relu(F.max_pool2d(self.ebn3(self.encoder3(out)),2,2))\n",
    "        t3 = out\n",
    "\n",
    "        ### Tokenized MLP Stage\n",
    "        ### Stage 4\n",
    "\n",
    "        out,H,W = self.patch_embed3(out)\n",
    "        for i, blk in enumerate(self.block1):\n",
    "            out = blk(out, H, W)\n",
    "        out = self.norm3(out)\n",
    "        out = out.reshape(B, H, W, -1).permute(0, 3, 1, 2).contiguous()\n",
    "        t4 = out\n",
    "\n",
    "        ### Bottleneck\n",
    "\n",
    "        out ,H,W= self.patch_embed4(out)\n",
    "        for i, blk in enumerate(self.block2):\n",
    "            out = blk(out, H, W)\n",
    "        out = self.norm4(out)\n",
    "        out = out.reshape(B, H, W, -1).permute(0, 3, 1, 2).contiguous()\n",
    "\n",
    "        ### Stage 4\n",
    "\n",
    "        out = F.relu(F.interpolate(self.dbn1(self.decoder1(out)),scale_factor=(2,2),mode ='bilinear'))\n",
    "        \n",
    "        out = torch.add(out,t4)\n",
    "        _,_,H,W = out.shape\n",
    "        out = out.flatten(2).transpose(1,2)\n",
    "        for i, blk in enumerate(self.dblock1):\n",
    "            out = blk(out, H, W)\n",
    "\n",
    "        ### Stage 3\n",
    "        \n",
    "        out = self.dnorm3(out)\n",
    "        out = out.reshape(B, H, W, -1).permute(0, 3, 1, 2).contiguous()\n",
    "        out = F.relu(F.interpolate(self.dbn2(self.decoder2(out)),scale_factor=(2,2),mode ='bilinear'))\n",
    "        out = torch.add(out,t3)\n",
    "        _,_,H,W = out.shape\n",
    "        out = out.flatten(2).transpose(1,2)\n",
    "        \n",
    "        for i, blk in enumerate(self.dblock2):\n",
    "            out = blk(out, H, W)\n",
    "\n",
    "        out = self.dnorm4(out)\n",
    "        out = out.reshape(B, H, W, -1).permute(0, 3, 1, 2).contiguous()\n",
    "\n",
    "        out = F.relu(F.interpolate(self.dbn3(self.decoder3(out)),scale_factor=(2,2),mode ='bilinear'))\n",
    "        out = torch.add(out,t2)\n",
    "        out = F.relu(F.interpolate(self.dbn4(self.decoder4(out)),scale_factor=(2,2),mode ='bilinear'))\n",
    "        out = torch.add(out,t1)\n",
    "        out = F.relu(F.interpolate(self.decoder5(out),scale_factor=(2,2),mode ='bilinear'))\n",
    "\n",
    "        return self.final(out)\n",
    "\n",
    "\n",
    "class UNext_S(nn.Module):\n",
    "\n",
    "    ## Conv 3 + MLP 2 + shifted MLP w less parameters\n",
    "    \n",
    "    def __init__(self,  num_classes, input_channels=3, deep_supervision=False,img_size=224, patch_size=16, in_chans=3,  embed_dims=[32, 64, 128, 512],\n",
    "                 num_heads=[1, 2, 4, 8], mlp_ratios=[4, 4, 4, 4], qkv_bias=False, qk_scale=None, drop_rate=0.,\n",
    "                 attn_drop_rate=0., drop_path_rate=0., norm_layer=nn.LayerNorm,\n",
    "                 depths=[1, 1, 1], sr_ratios=[8, 4, 2, 1], **kwargs):\n",
    "        super().__init__()\n",
    "        self.input_channels = input_channels\n",
    "        self.num_classes = num_classes\n",
    "        self.encoder1 = nn.Conv2d(3, 8, 3, stride=1, padding=1)  \n",
    "        self.encoder2 = nn.Conv2d(8, 16, 3, stride=1, padding=1)  \n",
    "        self.encoder3 = nn.Conv2d(16, 32, 3, stride=1, padding=1)\n",
    "\n",
    "        self.ebn1 = nn.BatchNorm2d(8)\n",
    "        self.ebn2 = nn.BatchNorm2d(16)\n",
    "        self.ebn3 = nn.BatchNorm2d(32)\n",
    "        \n",
    "        self.norm3 = norm_layer(embed_dims[1])\n",
    "        self.norm4 = norm_layer(embed_dims[2])\n",
    "\n",
    "        self.dnorm3 = norm_layer(64)\n",
    "        self.dnorm4 = norm_layer(32)\n",
    "\n",
    "        dpr = [x.item() for x in torch.linspace(0, drop_path_rate, sum(depths))]\n",
    "\n",
    "        self.block1 = nn.ModuleList([shiftedBlock(\n",
    "            dim=embed_dims[1], num_heads=num_heads[0], mlp_ratio=1, qkv_bias=qkv_bias, qk_scale=qk_scale,\n",
    "            drop=drop_rate, attn_drop=attn_drop_rate, drop_path=dpr[0], norm_layer=norm_layer,\n",
    "            sr_ratio=sr_ratios[0])])\n",
    "\n",
    "        self.block2 = nn.ModuleList([shiftedBlock(\n",
    "            dim=embed_dims[2], num_heads=num_heads[0], mlp_ratio=1, qkv_bias=qkv_bias, qk_scale=qk_scale,\n",
    "            drop=drop_rate, attn_drop=attn_drop_rate, drop_path=dpr[1], norm_layer=norm_layer,\n",
    "            sr_ratio=sr_ratios[0])])\n",
    "\n",
    "        self.dblock1 = nn.ModuleList([shiftedBlock(\n",
    "            dim=embed_dims[1], num_heads=num_heads[0], mlp_ratio=1, qkv_bias=qkv_bias, qk_scale=qk_scale,\n",
    "            drop=drop_rate, attn_drop=attn_drop_rate, drop_path=dpr[0], norm_layer=norm_layer,\n",
    "            sr_ratio=sr_ratios[0])])\n",
    "\n",
    "        self.dblock2 = nn.ModuleList([shiftedBlock(\n",
    "            dim=embed_dims[0], num_heads=num_heads[0], mlp_ratio=1, qkv_bias=qkv_bias, qk_scale=qk_scale,\n",
    "            drop=drop_rate, attn_drop=attn_drop_rate, drop_path=dpr[1], norm_layer=norm_layer,\n",
    "            sr_ratio=sr_ratios[0])])\n",
    "\n",
    "        self.patch_embed3 = OverlapPatchEmbed(img_size=img_size // 4, patch_size=3, stride=2, in_chans=embed_dims[0],\n",
    "                                              embed_dim=embed_dims[1])\n",
    "        self.patch_embed4 = OverlapPatchEmbed(img_size=img_size // 8, patch_size=3, stride=2, in_chans=embed_dims[1],\n",
    "                                              embed_dim=embed_dims[2])\n",
    "\n",
    "        self.decoder1 = nn.Conv2d(128, 64, 3, stride=1,padding=1)  \n",
    "        self.decoder2 =   nn.Conv2d(64, 32, 3, stride=1, padding=1)  \n",
    "        self.decoder3 =   nn.Conv2d(32, 16, 3, stride=1, padding=1) \n",
    "        self.decoder4 =   nn.Conv2d(16, 8, 3, stride=1, padding=1)\n",
    "        self.decoder5 =   nn.Conv2d(8, 8, 3, stride=1, padding=1)\n",
    "\n",
    "        self.dbn1 = nn.BatchNorm2d(64)\n",
    "        self.dbn2 = nn.BatchNorm2d(32)\n",
    "        self.dbn3 = nn.BatchNorm2d(16)\n",
    "        self.dbn4 = nn.BatchNorm2d(8)\n",
    "        \n",
    "        self.final = nn.Conv2d(8, num_classes, kernel_size=1)\n",
    "\n",
    "        self.soft = nn.Softmax(dim =1)\n",
    "\n",
    "    def forward(self, x):\n",
    "        \n",
    "        B = x.shape[0]\n",
    "        ### Encoder\n",
    "        ### Conv Stage\n",
    "\n",
    "        ### Stage 1\n",
    "        out = F.relu(F.max_pool2d(self.ebn1(self.encoder1(x)),2,2))\n",
    "        t1 = out\n",
    "        ### Stage 2\n",
    "        out = F.relu(F.max_pool2d(self.ebn2(self.encoder2(out)),2,2))\n",
    "        t2 = out\n",
    "        ### Stage 3\n",
    "        out = F.relu(F.max_pool2d(self.ebn3(self.encoder3(out)),2,2))\n",
    "        t3 = out\n",
    "\n",
    "        ### Tokenized MLP Stage\n",
    "        ### Stage 4\n",
    "\n",
    "        out,H,W = self.patch_embed3(out)\n",
    "        for i, blk in enumerate(self.block1):\n",
    "            out = blk(out, H, W)\n",
    "        out = self.norm3(out)\n",
    "        out = out.reshape(B, H, W, -1).permute(0, 3, 1, 2).contiguous()\n",
    "        t4 = out\n",
    "\n",
    "        ### Bottleneck\n",
    "\n",
    "        out ,H,W= self.patch_embed4(out)\n",
    "        for i, blk in enumerate(self.block2):\n",
    "            out = blk(out, H, W)\n",
    "        out = self.norm4(out)\n",
    "        out = out.reshape(B, H, W, -1).permute(0, 3, 1, 2).contiguous()\n",
    "\n",
    "        ### Stage 4\n",
    "\n",
    "        out = F.relu(F.interpolate(self.dbn1(self.decoder1(out)),scale_factor=(2,2),mode ='bilinear'))\n",
    "        \n",
    "        out = torch.add(out,t4)\n",
    "        _,_,H,W = out.shape\n",
    "        out = out.flatten(2).transpose(1,2)\n",
    "        for i, blk in enumerate(self.dblock1):\n",
    "            out = blk(out, H, W)\n",
    "\n",
    "        ### Stage 3\n",
    "        \n",
    "        out = self.dnorm3(out)\n",
    "        out = out.reshape(B, H, W, -1).permute(0, 3, 1, 2).contiguous()\n",
    "        out = F.relu(F.interpolate(self.dbn2(self.decoder2(out)),scale_factor=(2,2),mode ='bilinear'))\n",
    "        out = torch.add(out,t3)\n",
    "        _,_,H,W = out.shape\n",
    "        out = out.flatten(2).transpose(1,2)\n",
    "        \n",
    "        for i, blk in enumerate(self.dblock2):\n",
    "            out = blk(out, H, W)\n",
    "\n",
    "        out = self.dnorm4(out)\n",
    "        out = out.reshape(B, H, W, -1).permute(0, 3, 1, 2).contiguous()\n",
    "\n",
    "        out = F.relu(F.interpolate(self.dbn3(self.decoder3(out)),scale_factor=(2,2),mode ='bilinear'))\n",
    "        out = torch.add(out,t2)\n",
    "        out = F.relu(F.interpolate(self.dbn4(self.decoder4(out)),scale_factor=(2,2),mode ='bilinear'))\n",
    "        out = torch.add(out,t1)\n",
    "        out = F.relu(F.interpolate(self.decoder5(out),scale_factor=(2,2),mode ='bilinear'))\n",
    "\n",
    "        return self.final(out)\n",
    "\n",
    "\n",
    "#EOF\n",
    "\n",
    "\n",
    "## DataSet"
   ]
  },
  {
   "cell_type": "code",
   "execution_count": 6,
   "id": "39a24588",
   "metadata": {
    "execution": {
     "iopub.execute_input": "2023-12-17T17:16:20.407639Z",
     "iopub.status.busy": "2023-12-17T17:16:20.406481Z",
     "iopub.status.idle": "2023-12-17T17:16:20.424333Z",
     "shell.execute_reply": "2023-12-17T17:16:20.422930Z"
    },
    "papermill": {
     "duration": 0.034208,
     "end_time": "2023-12-17T17:16:20.427681",
     "exception": false,
     "start_time": "2023-12-17T17:16:20.393473",
     "status": "completed"
    },
    "tags": []
   },
   "outputs": [],
   "source": [
    "# TODO: image和mask名称不一样时跳过\n",
    "class APODataSet(Dataset):\n",
    "    # 格式不对的异常数据\n",
    "    invalid_img = [10, 184, 185]\n",
    "    def __init__(self, img_dir, mask_dir: str, size, channels = 3) -> None:\n",
    "        # 获取所有图片路径\n",
    "        self.img_paths = list(Path(img_dir).glob(\"*\"))\n",
    "        self.mask_paths = list(Path(mask_dir).glob(\"*\"))\n",
    "        for idx in self.invalid_img:\n",
    "            del self.img_paths[idx]\n",
    "            del self.mask_paths[idx]\n",
    "        \n",
    "        \n",
    "        transformers = [\n",
    "            transforms.Resize(size),\n",
    "            transforms.ToTensor()\n",
    "        ]\n",
    "        if channels == 1:\n",
    "            transformers.insert(0, transforms.Grayscale(num_output_channels=1))\n",
    "\n",
    "        # 设置 transforms\n",
    "        self.transform = transforms.Compose(transformers)\n",
    "#         self.transform = transforms.Compose([transforms.PILToTensor()])\n",
    "\n",
    "    # 使用函数加载原始图像\n",
    "    def load_orig_image(self, index: int) -> Image.Image:\n",
    "        \"Opens an image via a path and returns it.\"\n",
    "        image_path = self.img_paths[index]\n",
    "        return Image.open(image_path) \n",
    "    \n",
    "    # 使用函数加载tmask图像\n",
    "    def load_mask_image(self, index: int) -> Image.Image:\n",
    "        \"Opens an image via a path and returns it.\"\n",
    "        image_path = self.mask_paths[index]\n",
    "        return Image.open(image_path) \n",
    "\n",
    "    #  重写 __len__() 方法 (optional but recommended for subclasses of torch.utils.data.Dataset)\n",
    "    def __len__(self) -> int:\n",
    "        \"Returns the total number of samples.\"\n",
    "        return len(self.img_paths)\n",
    "\n",
    "    # 重写 __getitem__() 方法 (required for subclasses of torch.utils.data.Dataset)\n",
    "    def __getitem__(self, index: int) -> Tuple[torch.Tensor, torch.Tensor]:\n",
    "        \"Returns one sample of data, image and mask (X, y).\"\n",
    "        orig_img = self.load_orig_image(index)\n",
    "        mask_img = self.load_mask_image(index)\n",
    "        \n",
    "        orig_img = self.transform(orig_img)\n",
    "        mask_img = self.transform(mask_img)\n",
    "#         mask_img = mask_img[0]\n",
    "#         if orig_img.size()[0] != 3:\n",
    "#             print(\"{}: orig_img size: {}\".format(index,orig_img.size()))\n",
    "#             return None\n",
    "        # return data, mask (X, y)\n",
    "        return orig_img, mask_img\n"
   ]
  },
  {
   "cell_type": "code",
   "execution_count": 7,
   "id": "967b012f",
   "metadata": {
    "execution": {
     "iopub.execute_input": "2023-12-17T17:16:20.452615Z",
     "iopub.status.busy": "2023-12-17T17:16:20.451810Z",
     "iopub.status.idle": "2023-12-17T17:16:20.841800Z",
     "shell.execute_reply": "2023-12-17T17:16:20.840439Z"
    },
    "papermill": {
     "duration": 0.405667,
     "end_time": "2023-12-17T17:16:20.844716",
     "exception": false,
     "start_time": "2023-12-17T17:16:20.439049",
     "status": "completed"
    },
    "tags": []
   },
   "outputs": [
    {
     "name": "stdout",
     "output_type": "stream",
     "text": [
      "dataset info\n",
      "total: 571, train_size: 456, validate_size: 115\n"
     ]
    }
   ],
   "source": [
    "dataset =  APODataSet(img_dir = \"/kaggle/input/dltrack/apo_images\",\n",
    "                      mask_dir = \"/kaggle/input/dltrack/apo_masks\",\n",
    "                     size = [512, 512])\n",
    "\n",
    "total = len(dataset)\n",
    "train_size = int(0.8*total)\n",
    "validate_size = total - train_size\n",
    "train_data, validate_data = random_split(dataset, [train_size, validate_size])\n",
    "print(\"dataset info\\ntotal: {}, train_size: {}, validate_size: {}\".format(total, len(train_data), len(validate_data)))\n",
    "\n",
    "trainloader = DataLoader(dataset=train_data,\n",
    "                                     batch_size=2,\n",
    "                                     num_workers=0,\n",
    "                                     shuffle=True)\n",
    "\n",
    "valloader = DataLoader(dataset=validate_data,\n",
    "                                    batch_size=1, \n",
    "                                    num_workers=0, \n",
    "                                    shuffle=False)"
   ]
  },
  {
   "cell_type": "markdown",
   "id": "d7f55808",
   "metadata": {
    "papermill": {
     "duration": 0.011088,
     "end_time": "2023-12-17T17:16:20.867156",
     "exception": false,
     "start_time": "2023-12-17T17:16:20.856068",
     "status": "completed"
    },
    "tags": []
   },
   "source": [
    "### 检查异常图片\n",
    "要把找到的异常数据去除"
   ]
  },
  {
   "cell_type": "code",
   "execution_count": 8,
   "id": "e2c94739",
   "metadata": {
    "execution": {
     "iopub.execute_input": "2023-12-17T17:16:20.891529Z",
     "iopub.status.busy": "2023-12-17T17:16:20.890757Z",
     "iopub.status.idle": "2023-12-17T17:16:39.086433Z",
     "shell.execute_reply": "2023-12-17T17:16:39.085125Z"
    },
    "papermill": {
     "duration": 18.211206,
     "end_time": "2023-12-17T17:16:39.089438",
     "exception": false,
     "start_time": "2023-12-17T17:16:20.878232",
     "status": "completed"
    },
    "tags": []
   },
   "outputs": [
    {
     "name": "stdout",
     "output_type": "stream",
     "text": [
      "[done]\n"
     ]
    }
   ],
   "source": [
    "for index in range(len(dataset)):\n",
    "    orig_img, mask_img = dataset[index]\n",
    "    if orig_img.size()[0] != 3:\n",
    "        print(\"{}: orig_img size: {}\".format(index,orig_img.size()))\n",
    "print(\"[done]\")"
   ]
  },
  {
   "cell_type": "markdown",
   "id": "2e37e3ce",
   "metadata": {
    "papermill": {
     "duration": 0.011001,
     "end_time": "2023-12-17T17:16:39.112957",
     "exception": false,
     "start_time": "2023-12-17T17:16:39.101956",
     "status": "completed"
    },
    "tags": []
   },
   "source": [
    "### 随机显示一张原始图片和其对应的标记图片"
   ]
  },
  {
   "cell_type": "code",
   "execution_count": 9,
   "id": "5a3e865e",
   "metadata": {
    "execution": {
     "iopub.execute_input": "2023-12-17T17:16:39.138295Z",
     "iopub.status.busy": "2023-12-17T17:16:39.136783Z",
     "iopub.status.idle": "2023-12-17T17:16:39.682139Z",
     "shell.execute_reply": "2023-12-17T17:16:39.680472Z"
    },
    "papermill": {
     "duration": 0.562979,
     "end_time": "2023-12-17T17:16:39.687162",
     "exception": false,
     "start_time": "2023-12-17T17:16:39.124183",
     "status": "completed"
    },
    "tags": []
   },
   "outputs": [
    {
     "name": "stdout",
     "output_type": "stream",
     "text": [
      "torch.Size([3, 512, 512])\n",
      "showing image of 313: \n"
     ]
    },
    {
     "data": {
      "image/png": "[encoded data removed]",
      "text/plain": [
       "<Figure size 1080x864 with 2 Axes>"
      ]
     },
     "metadata": {
      "needs_background": "light"
     },
     "output_type": "display_data"
    }
   ],
   "source": [
    "idx = random.randint(0, len(dataset))\n",
    "orig_img, mask_img = dataset[idx]\n",
    "print(orig_img.size())\n",
    "\n",
    "transform = transforms.ToPILImage()\n",
    "print(\"showing image of {}: \".format(idx))\n",
    "\n",
    "orig_img = transform(orig_img)\n",
    "mask_img = transform(mask_img)\n",
    "\n",
    "fig, (ax1, ax2) = plt.subplots(1, 2, figsize = (15, 12))\n",
    "\n",
    "ax1.imshow(orig_img)\n",
    "ax1.set_title(\"origin_img\")\n",
    "\n",
    "ax2.imshow(mask_img)\n",
    "ax2.set_title(\"mask_img\")\n",
    "\n",
    "plt.show()"
   ]
  },
  {
   "cell_type": "markdown",
   "id": "e5966e09",
   "metadata": {
    "papermill": {
     "duration": 0.015023,
     "end_time": "2023-12-17T17:16:39.716989",
     "exception": false,
     "start_time": "2023-12-17T17:16:39.701966",
     "status": "completed"
    },
    "tags": []
   },
   "source": [
    "## 模型训练"
   ]
  },
  {
   "cell_type": "code",
   "execution_count": 10,
   "id": "1936c0d8",
   "metadata": {
    "execution": {
     "iopub.execute_input": "2023-12-17T17:16:39.747532Z",
     "iopub.status.busy": "2023-12-17T17:16:39.747024Z",
     "iopub.status.idle": "2023-12-17T17:16:39.763930Z",
     "shell.execute_reply": "2023-12-17T17:16:39.762590Z"
    },
    "papermill": {
     "duration": 0.035574,
     "end_time": "2023-12-17T17:16:39.766855",
     "exception": false,
     "start_time": "2023-12-17T17:16:39.731281",
     "status": "completed"
    },
    "tags": []
   },
   "outputs": [],
   "source": [
    "\n",
    "@torch.inference_mode()\n",
    "def evaluate(net, dataloader, device, amp):\n",
    "    net.eval()\n",
    "    num_val_batches = len(dataloader)\n",
    "    dice_score = 0\n",
    "    iou_score = 0\n",
    "\n",
    "    if isinstance(model, nn.DataParallel):\n",
    "        num_classes = net.module.num_classes\n",
    "    else:\n",
    "        num_classes = net.num_classes\n",
    "    criterion = nn.CrossEntropyLoss() if num_classes > 1 else nn.BCEWithLogitsLoss()\n",
    "    dice_loss = smp.losses.DiceLoss(mode='binary', log_loss=True, from_logits = True).cuda()\n",
    "   \n",
    "    \n",
    "    # iterate over the validation set\n",
    "    with torch.autocast(device.type if device.type != 'mps' else 'cpu', enabled=amp):\n",
    "        for batch in tqdm(dataloader, total=num_val_batches, desc='Validation round', unit='batch', position=0 ,leave=True):\n",
    "            image, mask_true = batch\n",
    "\n",
    "            # move images and labels to correct device and type\n",
    "            image = image.to(device=device, dtype=torch.float32, memory_format=torch.channels_last)\n",
    "            mask_true = mask_true.to(device=device, dtype=torch.float32)\n",
    "\n",
    "            # predict the mask\n",
    "            mask_pred = net(image)\n",
    "            dice_score += criterion(mask_pred, mask_true.float())\n",
    "            dice_score += dice_loss(mask_pred, mask_true)\n",
    "            \n",
    "            tp, fp, fn, tn = smp.metrics.get_stats(mask_pred, mask_true.long(), mode='binary', threshold=0.5)\n",
    "            iou_score += smp.metrics.iou_score(tp, fp, fn, tn, reduction=\"micro\")\n",
    "            \n",
    "    dice_loss = (dice_score / max(num_val_batches, 1))\n",
    "    iou_score = (iou_score / max(num_val_batches, 1))\n",
    "    print(\"Validation dice loss: {}, IoU Score {}\".format(dice_loss, iou_score))\n",
    "    return (dice_loss, iou_score)"
   ]
  },
  {
   "cell_type": "code",
   "execution_count": 11,
   "id": "b47bf984",
   "metadata": {
    "execution": {
     "iopub.execute_input": "2023-12-17T17:16:39.798358Z",
     "iopub.status.busy": "2023-12-17T17:16:39.797879Z",
     "iopub.status.idle": "2023-12-17T17:16:41.173459Z",
     "shell.execute_reply": "2023-12-17T17:16:41.172172Z"
    },
    "papermill": {
     "duration": 1.394878,
     "end_time": "2023-12-17T17:16:41.176666",
     "exception": false,
     "start_time": "2023-12-17T17:16:39.781788",
     "status": "completed"
    },
    "tags": []
   },
   "outputs": [],
   "source": [
    "import time\n",
    "import torch.optim as optim\n",
    "import segmentation_models_pytorch as smp\n",
    "\n",
    "n_train = len(train_data)\n",
    "n_val = len(validate_data)\n",
    "\n",
    "\n",
    "def train(model, device, \n",
    "          project = 'U-Net',\n",
    "          epochs: int = 60,\n",
    "          learning_rate: float = 1e-5, \n",
    "          weight_decay: float = 1e-8,\n",
    "          momentum: float = 0.999,\n",
    "          batch_size: int = 2,\n",
    "          amp: bool = False,\n",
    "          val_percent: float = 0.1,\n",
    "          gradient_clipping: float = 1.0):\n",
    "    \n",
    "    if isinstance(model, nn.DataParallel):\n",
    "        num_classes = model.module.num_classes\n",
    "        input_channels = model.module.input_channels\n",
    "    else:\n",
    "        num_classes = model.num_classes\n",
    "        input_channels = model.input_channels\n",
    "        \n",
    "    # (Initialize logging)\n",
    "    experiment = wandb.init(project=project, resume='allow', anonymous='must')\n",
    "    experiment.config.update(\n",
    "        dict(epochs=epochs, batch_size=batch_size, learning_rate=learning_rate,\n",
    "             val_percent=val_percent, amp=amp)\n",
    "    )\n",
    "\n",
    "    logging.info(f'''Starting training:\n",
    "        Epochs:          {epochs}\n",
    "        Batch size:      {batch_size}\n",
    "        Learning rate:   {learning_rate}\n",
    "        Training size:   {n_train}\n",
    "        Validation size: {n_val}\n",
    "        Device:          {device.type}\n",
    "        Mixed Precision: {amp}\n",
    "    ''')\n",
    "    \n",
    "\n",
    "    optimizer = optim.Adam(model.parameters(), lr=learning_rate)\n",
    "#     optimizer = optim.SGD(params, lr=config['lr'], momentum=config['momentum'],\n",
    "#                               nesterov=config['nesterov'], weight_decay=config['weight_decay'])\n",
    "\n",
    "    scheduler = optim.lr_scheduler.CosineAnnealingWarmRestarts(optimizer, T_0=1, T_mult=2, eta_min=5e-5)\n",
    "    grad_scaler = torch.cuda.amp.GradScaler(enabled=amp)\n",
    "    \n",
    "    criterion = nn.CrossEntropyLoss().cuda()\n",
    "    dice_loss = smp.losses.DiceLoss(mode='binary').cuda()\n",
    "    \n",
    "    global_step = 0\n",
    "    \n",
    "\n",
    "    # 5. Begin training\n",
    "    for epoch in range(1, epochs + 1):\n",
    "        model.train()\n",
    "        epoch_loss = 0\n",
    "        with tqdm(total=n_train, desc=f'Epoch {epoch}/{epochs}', unit='img') as pbar:\n",
    "            for batch in trainloader:\n",
    "                images, true_masks = batch\n",
    "\n",
    "                assert images.shape[1] == input_channels, \\\n",
    "                    f'Network has been defined with {input_channels} input channels, ' \\\n",
    "                    f'but loaded images have {images.shape[1]} channels. Please check that ' \\\n",
    "                    'the images are loaded correctly.'\n",
    "\n",
    "                images = images.to(device=device, dtype=torch.float32, memory_format=torch.channels_last)\n",
    "                \n",
    "                true_masks = true_masks.to(device=device, dtype=torch.long)\n",
    "\n",
    "                with torch.autocast(device.type if device.type != 'mps' else 'cpu', enabled=amp):\n",
    "                    masks_pred = model(images)\n",
    "                    loss = criterion(masks_pred, true_masks.float())\n",
    "                    loss += dice_loss(masks_pred, true_masks)\n",
    "                    tp, fp, fn, tn = smp.metrics.get_stats(masks_pred, true_masks.long(), mode='binary', threshold=0.5)\n",
    "                    iou_score = smp.metrics.iou_score(tp, fp, fn, tn, reduction=\"micro\")\n",
    "    \n",
    "                optimizer.zero_grad(set_to_none=True)\n",
    "                grad_scaler.scale(loss).backward()\n",
    "                torch.nn.utils.clip_grad_norm_(model.parameters(), gradient_clipping)\n",
    "                grad_scaler.step(optimizer)\n",
    "                grad_scaler.update()\n",
    "\n",
    "                pbar.update(images.shape[0])\n",
    "                global_step += 1\n",
    "                epoch_loss += loss.item()\n",
    "                experiment.log({\n",
    "                    'train iou': iou_score,\n",
    "                    'train loss': loss.item(),\n",
    "                    'step': global_step,\n",
    "                    'epoch': epoch\n",
    "                })\n",
    "                pbar.set_postfix(**{'loss (batch)': loss.item()})\n",
    "\n",
    "                # Evaluation round\n",
    "                division_step = (n_train // (5 * batch_size))\n",
    "                if division_step > 0:\n",
    "                    if global_step % division_step == 0:\n",
    "                        histograms = {}\n",
    "                        for tag, value in model.named_parameters():\n",
    "                            tag = tag.replace('/', '.')\n",
    "                            if not (torch.isinf(value) | torch.isnan(value)).any():\n",
    "                                histograms['Weights/' + tag] = wandb.Histogram(value.data.cpu())\n",
    "                            if not (torch.isinf(value.grad) | torch.isnan(value.grad)).any():\n",
    "                                histograms['Gradients/' + tag] = wandb.Histogram(value.grad.data.cpu())\n",
    "\n",
    "                        val_score, iou_score = evaluate(model, valloader, device, amp)\n",
    "                        model.train()\n",
    "                        scheduler.step(val_score)\n",
    "\n",
    "                        logging.info('Validation Dice score: {}'.format(val_score))\n",
    "                        try:\n",
    "                            experiment.log({\n",
    "                                'learning rate': optimizer.param_groups[0]['lr'],\n",
    "                                'validation Dice': val_score,\n",
    "                                'validation IoU Score': iou_score,\n",
    "                                'images': wandb.Image(images[0].cpu()),\n",
    "                                'masks': {\n",
    "                                    'true': wandb.Image(true_masks[0].float().cpu()),\n",
    "                                    'pred': wandb.Image(masks_pred[0].float().cpu()),\n",
    "                                },\n",
    "                                'step': global_step,\n",
    "                                'epoch': epoch,\n",
    "                                **histograms\n",
    "                            })\n",
    "                        except:\n",
    "                            pass\n",
    "            \n"
   ]
  },
  {
   "cell_type": "code",
   "execution_count": 12,
   "id": "ac4f0bc6",
   "metadata": {
    "execution": {
     "iopub.execute_input": "2023-12-17T17:16:41.207451Z",
     "iopub.status.busy": "2023-12-17T17:16:41.206960Z",
     "iopub.status.idle": "2023-12-17T19:18:56.406766Z",
     "shell.execute_reply": "2023-12-17T19:18:56.404699Z"
    },
    "papermill": {
     "duration": 7335.218357,
     "end_time": "2023-12-17T19:18:56.409613",
     "exception": false,
     "start_time": "2023-12-17T17:16:41.191256",
     "status": "completed"
    },
    "tags": []
   },
   "outputs": [
    {
     "name": "stdout",
     "output_type": "stream",
     "text": [
      "U-Next_S模型参数量为：253561\n",
      "其详情为：\n",
      "encoder1.weight : torch.Size([8, 3, 3, 3])\n",
      "encoder1.bias : torch.Size([8])\n",
      "encoder2.weight : torch.Size([16, 8, 3, 3])\n",
      "encoder2.bias : torch.Size([16])\n",
      "encoder3.weight : torch.Size([32, 16, 3, 3])\n",
      "encoder3.bias : torch.Size([32])\n",
      "ebn1.weight : torch.Size([8])\n",
      "ebn1.bias : torch.Size([8])\n",
      "ebn2.weight : torch.Size([16])\n",
      "ebn2.bias : torch.Size([16])\n",
      "ebn3.weight : torch.Size([32])\n",
      "ebn3.bias : torch.Size([32])\n",
      "norm3.weight : torch.Size([64])\n",
      "norm3.bias : torch.Size([64])\n",
      "norm4.weight : torch.Size([128])\n",
      "norm4.bias : torch.Size([128])\n",
      "dnorm3.weight : torch.Size([64])\n",
      "dnorm3.bias : torch.Size([64])\n",
      "dnorm4.weight : torch.Size([32])\n",
      "dnorm4.bias : torch.Size([32])\n",
      "block1.0.norm2.weight : torch.Size([64])\n",
      "block1.0.norm2.bias : torch.Size([64])\n",
      "block1.0.mlp.fc1.weight : torch.Size([64, 64])\n",
      "block1.0.mlp.fc1.bias : torch.Size([64])\n",
      "block1.0.mlp.dwconv.dwconv.weight : torch.Size([64, 1, 3, 3])\n",
      "block1.0.mlp.dwconv.dwconv.bias : torch.Size([64])\n",
      "block1.0.mlp.fc2.weight : torch.Size([64, 64])\n",
      "block1.0.mlp.fc2.bias : torch.Size([64])\n",
      "block2.0.norm2.weight : torch.Size([128])\n",
      "block2.0.norm2.bias : torch.Size([128])\n",
      "block2.0.mlp.fc1.weight : torch.Size([128, 128])\n",
      "block2.0.mlp.fc1.bias : torch.Size([128])\n",
      "block2.0.mlp.dwconv.dwconv.weight : torch.Size([128, 1, 3, 3])\n",
      "block2.0.mlp.dwconv.dwconv.bias : torch.Size([128])\n",
      "block2.0.mlp.fc2.weight : torch.Size([128, 128])\n",
      "block2.0.mlp.fc2.bias : torch.Size([128])\n",
      "dblock1.0.norm2.weight : torch.Size([64])\n",
      "dblock1.0.norm2.bias : torch.Size([64])\n",
      "dblock1.0.mlp.fc1.weight : torch.Size([64, 64])\n",
      "dblock1.0.mlp.fc1.bias : torch.Size([64])\n",
      "dblock1.0.mlp.dwconv.dwconv.weight : torch.Size([64, 1, 3, 3])\n",
      "dblock1.0.mlp.dwconv.dwconv.bias : torch.Size([64])\n",
      "dblock1.0.mlp.fc2.weight : torch.Size([64, 64])\n",
      "dblock1.0.mlp.fc2.bias : torch.Size([64])\n",
      "dblock2.0.norm2.weight : torch.Size([32])\n",
      "dblock2.0.norm2.bias : torch.Size([32])\n",
      "dblock2.0.mlp.fc1.weight : torch.Size([32, 32])\n",
      "dblock2.0.mlp.fc1.bias : torch.Size([32])\n",
      "dblock2.0.mlp.dwconv.dwconv.weight : torch.Size([32, 1, 3, 3])\n",
      "dblock2.0.mlp.dwconv.dwconv.bias : torch.Size([32])\n",
      "dblock2.0.mlp.fc2.weight : torch.Size([32, 32])\n",
      "dblock2.0.mlp.fc2.bias : torch.Size([32])\n",
      "patch_embed3.proj.weight : torch.Size([64, 32, 3, 3])\n",
      "patch_embed3.proj.bias : torch.Size([64])\n",
      "patch_embed3.norm.weight : torch.Size([64])\n",
      "patch_embed3.norm.bias : torch.Size([64])\n",
      "patch_embed4.proj.weight : torch.Size([128, 64, 3, 3])\n",
      "patch_embed4.proj.bias : torch.Size([128])\n",
      "patch_embed4.norm.weight : torch.Size([128])\n",
      "patch_embed4.norm.bias : torch.Size([128])\n",
      "decoder1.weight : torch.Size([64, 128, 3, 3])\n",
      "decoder1.bias : torch.Size([64])\n",
      "decoder2.weight : torch.Size([32, 64, 3, 3])\n",
      "decoder2.bias : torch.Size([32])\n",
      "decoder3.weight : torch.Size([16, 32, 3, 3])\n",
      "decoder3.bias : torch.Size([16])\n",
      "decoder4.weight : torch.Size([8, 16, 3, 3])\n",
      "decoder4.bias : torch.Size([8])\n",
      "decoder5.weight : torch.Size([8, 8, 3, 3])\n",
      "decoder5.bias : torch.Size([8])\n",
      "dbn1.weight : torch.Size([64])\n",
      "dbn1.bias : torch.Size([64])\n",
      "dbn2.weight : torch.Size([32])\n",
      "dbn2.bias : torch.Size([32])\n",
      "dbn3.weight : torch.Size([16])\n",
      "dbn3.bias : torch.Size([16])\n",
      "dbn4.weight : torch.Size([8])\n",
      "dbn4.bias : torch.Size([8])\n",
      "final.weight : torch.Size([1, 8, 1, 1])\n",
      "final.bias : torch.Size([1])\n"
     ]
    },
    {
     "name": "stderr",
     "output_type": "stream",
     "text": [
      "\u001b[34m\u001b[1mwandb\u001b[0m: Currently logged in as: \u001b[33mtorwayland\u001b[0m (\u001b[33mcupes-wangtao\u001b[0m). Use \u001b[1m`wandb login --relogin`\u001b[0m to force relogin\n"
     ]
    },
    {
     "data": {
      "text/html": [
       "wandb version 0.16.1 is available!  To upgrade, please run:\n",
       " $ pip install wandb --upgrade"
      ],
      "text/plain": [
       "<IPython.core.display.HTML object>"
      ]
     },
     "metadata": {},
     "output_type": "display_data"
    },
    {
     "data": {
      "text/html": [
       "Tracking run with wandb version 0.12.21"
      ],
      "text/plain": [
       "<IPython.core.display.HTML object>"
      ]
     },
     "metadata": {},
     "output_type": "display_data"
    },
    {
     "data": {
      "text/html": [
       "Run data is saved locally in <code>/kaggle/working/wandb/run-20231217_171642-17kz2qy5</code>"
      ],
      "text/plain": [
       "<IPython.core.display.HTML object>"
      ]
     },
     "metadata": {},
     "output_type": "display_data"
    },
    {
     "data": {
      "text/html": [
       "Syncing run <strong><a href=\"https://wandb.ai/cupes-wangtao/U-Next/runs/17kz2qy5\" target=\"_blank\">avid-snowball-3</a></strong> to <a href=\"https://wandb.ai/cupes-wangtao/U-Next\" target=\"_blank\">Weights & Biases</a> (<a href=\"https://wandb.me/run\" target=\"_blank\">docs</a>)<br/>"
      ],
      "text/plain": [
       "<IPython.core.display.HTML object>"
      ]
     },
     "metadata": {},
     "output_type": "display_data"
    },
    {
     "name": "stderr",
     "output_type": "stream",
     "text": [
      "Validation round: 100%|██████████| 115/115 [00:10<00:00, 11.10batch/s]\n"
     ]
    },
    {
     "name": "stdout",
     "output_type": "stream",
     "text": [
      "Validation dice loss: 3.5561728477478027, IoU Score 0.008455603383481503\n"
     ]
    },
    {
     "name": "stderr",
     "output_type": "stream",
     "text": [
      "Validation round: 100%|██████████| 115/115 [00:10<00:00, 10.97batch/s]\n"
     ]
    },
    {
     "name": "stdout",
     "output_type": "stream",
     "text": [
      "Validation dice loss: 3.594773292541504, IoU Score 0.04851177707314491\n"
     ]
    },
    {
     "name": "stderr",
     "output_type": "stream",
     "text": [
      "Validation round: 100%|██████████| 115/115 [00:07<00:00, 14.47batch/s]\n"
     ]
    },
    {
     "name": "stdout",
     "output_type": "stream",
     "text": [
      "Validation dice loss: 3.5557281970977783, IoU Score 0.0777859017252922\n"
     ]
    },
    {
     "name": "stderr",
     "output_type": "stream",
     "text": [
      "Validation round: 100%|██████████| 115/115 [00:07<00:00, 15.14batch/s]\n"
     ]
    },
    {
     "name": "stdout",
     "output_type": "stream",
     "text": [
      "Validation dice loss: 3.481729507446289, IoU Score 0.11612217128276825\n"
     ]
    },
    {
     "name": "stderr",
     "output_type": "stream",
     "text": [
      "Validation round: 100%|██████████| 115/115 [00:07<00:00, 15.17batch/s]\n"
     ]
    },
    {
     "name": "stdout",
     "output_type": "stream",
     "text": [
      "Validation dice loss: 3.44059419631958, IoU Score 0.1143922358751297\n"
     ]
    },
    {
     "name": "stderr",
     "output_type": "stream",
     "text": [
      "Epoch 1/60: 100%|██████████| 456/456 [02:15<00:00,  3.38img/s, loss (batch)=0.94]\n",
      "Validation round: 100%|██████████| 115/115 [00:07<00:00, 15.22batch/s]\n"
     ]
    },
    {
     "name": "stdout",
     "output_type": "stream",
     "text": [
      "Validation dice loss: 3.417478322982788, IoU Score 0.10804543644189835\n"
     ]
    },
    {
     "name": "stderr",
     "output_type": "stream",
     "text": [
      "Validation round: 100%|██████████| 115/115 [00:07<00:00, 14.39batch/s]\n"
     ]
    },
    {
     "name": "stdout",
     "output_type": "stream",
     "text": [
      "Validation dice loss: 3.388471841812134, IoU Score 0.10657501965761185\n"
     ]
    },
    {
     "name": "stderr",
     "output_type": "stream",
     "text": [
      "Validation round: 100%|██████████| 115/115 [00:07<00:00, 15.00batch/s]\n"
     ]
    },
    {
     "name": "stdout",
     "output_type": "stream",
     "text": [
      "Validation dice loss: 3.3272831439971924, IoU Score 0.11886903643608093\n"
     ]
    },
    {
     "name": "stderr",
     "output_type": "stream",
     "text": [
      "Validation round: 100%|██████████| 115/115 [00:07<00:00, 14.94batch/s]\n"
     ]
    },
    {
     "name": "stdout",
     "output_type": "stream",
     "text": [
      "Validation dice loss: 3.3051090240478516, IoU Score 0.120184525847435\n"
     ]
    },
    {
     "name": "stderr",
     "output_type": "stream",
     "text": [
      "Validation round: 100%|██████████| 115/115 [00:07<00:00, 14.89batch/s]\n"
     ]
    },
    {
     "name": "stdout",
     "output_type": "stream",
     "text": [
      "Validation dice loss: 3.271707534790039, IoU Score 0.12667210400104523\n"
     ]
    },
    {
     "name": "stderr",
     "output_type": "stream",
     "text": [
      "Epoch 2/60: 100%|██████████| 456/456 [01:59<00:00,  3.82img/s, loss (batch)=0.88]\n",
      "Validation round: 100%|██████████| 115/115 [00:07<00:00, 14.45batch/s]\n"
     ]
    },
    {
     "name": "stdout",
     "output_type": "stream",
     "text": [
      "Validation dice loss: 3.268688440322876, IoU Score 0.11811980605125427\n"
     ]
    },
    {
     "name": "stderr",
     "output_type": "stream",
     "text": [
      "Validation round: 100%|██████████| 115/115 [00:07<00:00, 15.10batch/s]\n"
     ]
    },
    {
     "name": "stdout",
     "output_type": "stream",
     "text": [
      "Validation dice loss: 3.251194477081299, IoU Score 0.11641528457403183\n"
     ]
    },
    {
     "name": "stderr",
     "output_type": "stream",
     "text": [
      "Validation round: 100%|██████████| 115/115 [00:07<00:00, 15.13batch/s]\n"
     ]
    },
    {
     "name": "stdout",
     "output_type": "stream",
     "text": [
      "Validation dice loss: 3.2297310829162598, IoU Score 0.11962707340717316\n"
     ]
    },
    {
     "name": "stderr",
     "output_type": "stream",
     "text": [
      "Validation round: 100%|██████████| 115/115 [00:07<00:00, 15.06batch/s]\n"
     ]
    },
    {
     "name": "stdout",
     "output_type": "stream",
     "text": [
      "Validation dice loss: 3.209106922149658, IoU Score 0.12447749078273773\n"
     ]
    },
    {
     "name": "stderr",
     "output_type": "stream",
     "text": [
      "Validation round: 100%|██████████| 115/115 [00:08<00:00, 14.32batch/s]\n"
     ]
    },
    {
     "name": "stdout",
     "output_type": "stream",
     "text": [
      "Validation dice loss: 3.201106071472168, IoU Score 0.12540067732334137\n"
     ]
    },
    {
     "name": "stderr",
     "output_type": "stream",
     "text": [
      "Epoch 3/60: 100%|██████████| 456/456 [01:59<00:00,  3.81img/s, loss (batch)=0.926]\n",
      "Validation round: 100%|██████████| 115/115 [00:07<00:00, 15.22batch/s]\n"
     ]
    },
    {
     "name": "stdout",
     "output_type": "stream",
     "text": [
      "Validation dice loss: 3.2020976543426514, IoU Score 0.12329717725515366\n"
     ]
    },
    {
     "name": "stderr",
     "output_type": "stream",
     "text": [
      "Validation round: 100%|██████████| 115/115 [00:07<00:00, 15.14batch/s]\n"
     ]
    },
    {
     "name": "stdout",
     "output_type": "stream",
     "text": [
      "Validation dice loss: 3.1646392345428467, IoU Score 0.1355462223291397\n"
     ]
    },
    {
     "name": "stderr",
     "output_type": "stream",
     "text": [
      "Validation round: 100%|██████████| 115/115 [00:07<00:00, 15.28batch/s]\n"
     ]
    },
    {
     "name": "stdout",
     "output_type": "stream",
     "text": [
      "Validation dice loss: 3.165844202041626, IoU Score 0.13486793637275696\n"
     ]
    },
    {
     "name": "stderr",
     "output_type": "stream",
     "text": [
      "Validation round: 100%|██████████| 115/115 [00:07<00:00, 14.52batch/s]\n"
     ]
    },
    {
     "name": "stdout",
     "output_type": "stream",
     "text": [
      "Validation dice loss: 3.158928871154785, IoU Score 0.13631382584571838\n"
     ]
    },
    {
     "name": "stderr",
     "output_type": "stream",
     "text": [
      "Validation round: 100%|██████████| 115/115 [00:07<00:00, 15.12batch/s]\n"
     ]
    },
    {
     "name": "stdout",
     "output_type": "stream",
     "text": [
      "Validation dice loss: 3.1286795139312744, IoU Score 0.14776700735092163\n"
     ]
    },
    {
     "name": "stderr",
     "output_type": "stream",
     "text": [
      "Epoch 4/60: 100%|██████████| 456/456 [01:58<00:00,  3.83img/s, loss (batch)=0.924]\n",
      "Validation round: 100%|██████████| 115/115 [00:07<00:00, 15.04batch/s]\n"
     ]
    },
    {
     "name": "stdout",
     "output_type": "stream",
     "text": [
      "Validation dice loss: 3.1114189624786377, IoU Score 0.1568543016910553\n"
     ]
    },
    {
     "name": "stderr",
     "output_type": "stream",
     "text": [
      "Validation round: 100%|██████████| 115/115 [00:07<00:00, 15.27batch/s]\n"
     ]
    },
    {
     "name": "stdout",
     "output_type": "stream",
     "text": [
      "Validation dice loss: 3.118863105773926, IoU Score 0.15263859927654266\n"
     ]
    },
    {
     "name": "stderr",
     "output_type": "stream",
     "text": [
      "Validation round: 100%|██████████| 115/115 [00:07<00:00, 14.54batch/s]\n"
     ]
    },
    {
     "name": "stdout",
     "output_type": "stream",
     "text": [
      "Validation dice loss: 3.1019880771636963, IoU Score 0.1583823263645172\n"
     ]
    },
    {
     "name": "stderr",
     "output_type": "stream",
     "text": [
      "Validation round: 100%|██████████| 115/115 [00:07<00:00, 15.36batch/s]\n"
     ]
    },
    {
     "name": "stdout",
     "output_type": "stream",
     "text": [
      "Validation dice loss: 3.073558807373047, IoU Score 0.17130310833454132\n"
     ]
    },
    {
     "name": "stderr",
     "output_type": "stream",
     "text": [
      "Validation round: 100%|██████████| 115/115 [00:07<00:00, 15.01batch/s]\n"
     ]
    },
    {
     "name": "stdout",
     "output_type": "stream",
     "text": [
      "Validation dice loss: 3.049232244491577, IoU Score 0.1827642321586609\n"
     ]
    },
    {
     "name": "stderr",
     "output_type": "stream",
     "text": [
      "Epoch 5/60: 100%|██████████| 456/456 [01:57<00:00,  3.87img/s, loss (batch)=0.932]\n",
      "Validation round: 100%|██████████| 115/115 [00:07<00:00, 14.93batch/s]\n"
     ]
    },
    {
     "name": "stdout",
     "output_type": "stream",
     "text": [
      "Validation dice loss: 3.0239145755767822, IoU Score 0.19508317112922668\n"
     ]
    },
    {
     "name": "stderr",
     "output_type": "stream",
     "text": [
      "Validation round: 100%|██████████| 115/115 [00:08<00:00, 14.21batch/s]\n"
     ]
    },
    {
     "name": "stdout",
     "output_type": "stream",
     "text": [
      "Validation dice loss: 3.0175418853759766, IoU Score 0.19531208276748657\n"
     ]
    },
    {
     "name": "stderr",
     "output_type": "stream",
     "text": [
      "Validation round: 100%|██████████| 115/115 [00:07<00:00, 15.30batch/s]\n"
     ]
    },
    {
     "name": "stdout",
     "output_type": "stream",
     "text": [
      "Validation dice loss: 3.007016658782959, IoU Score 0.197666198015213\n"
     ]
    },
    {
     "name": "stderr",
     "output_type": "stream",
     "text": [
      "Validation round: 100%|██████████| 115/115 [00:07<00:00, 15.30batch/s]\n"
     ]
    },
    {
     "name": "stdout",
     "output_type": "stream",
     "text": [
      "Validation dice loss: 2.9882700443267822, IoU Score 0.20136018097400665\n"
     ]
    },
    {
     "name": "stderr",
     "output_type": "stream",
     "text": [
      "Validation round: 100%|██████████| 115/115 [00:07<00:00, 14.63batch/s]\n"
     ]
    },
    {
     "name": "stdout",
     "output_type": "stream",
     "text": [
      "Validation dice loss: 2.9403395652770996, IoU Score 0.21601063013076782\n"
     ]
    },
    {
     "name": "stderr",
     "output_type": "stream",
     "text": [
      "Epoch 6/60: 100%|██████████| 456/456 [01:59<00:00,  3.83img/s, loss (batch)=0.897]\n",
      "Validation round: 100%|██████████| 115/115 [00:07<00:00, 14.43batch/s]\n"
     ]
    },
    {
     "name": "stdout",
     "output_type": "stream",
     "text": [
      "Validation dice loss: 2.787292003631592, IoU Score 0.25925230979919434\n"
     ]
    },
    {
     "name": "stderr",
     "output_type": "stream",
     "text": [
      "Validation round: 100%|██████████| 115/115 [00:07<00:00, 15.29batch/s]\n"
     ]
    },
    {
     "name": "stdout",
     "output_type": "stream",
     "text": [
      "Validation dice loss: 2.60046124458313, IoU Score 0.2715969979763031\n"
     ]
    },
    {
     "name": "stderr",
     "output_type": "stream",
     "text": [
      "Validation round: 100%|██████████| 115/115 [00:07<00:00, 15.09batch/s]\n"
     ]
    },
    {
     "name": "stdout",
     "output_type": "stream",
     "text": [
      "Validation dice loss: 2.3479950428009033, IoU Score 0.33537325263023376\n"
     ]
    },
    {
     "name": "stderr",
     "output_type": "stream",
     "text": [
      "Validation round: 100%|██████████| 115/115 [00:07<00:00, 14.46batch/s]\n"
     ]
    },
    {
     "name": "stdout",
     "output_type": "stream",
     "text": [
      "Validation dice loss: 2.1309397220611572, IoU Score 0.41167330741882324\n"
     ]
    },
    {
     "name": "stderr",
     "output_type": "stream",
     "text": [
      "Validation round: 100%|██████████| 115/115 [00:08<00:00, 13.87batch/s]\n"
     ]
    },
    {
     "name": "stdout",
     "output_type": "stream",
     "text": [
      "Validation dice loss: 1.9966111183166504, IoU Score 0.4194926917552948\n"
     ]
    },
    {
     "name": "stderr",
     "output_type": "stream",
     "text": [
      "Epoch 7/60: 100%|██████████| 456/456 [02:00<00:00,  3.77img/s, loss (batch)=0.843]\n",
      "Validation round: 100%|██████████| 115/115 [00:07<00:00, 14.94batch/s]\n"
     ]
    },
    {
     "name": "stdout",
     "output_type": "stream",
     "text": [
      "Validation dice loss: 1.806278109550476, IoU Score 0.4713861346244812\n"
     ]
    },
    {
     "name": "stderr",
     "output_type": "stream",
     "text": [
      "Validation round: 100%|██████████| 115/115 [00:07<00:00, 15.20batch/s]\n"
     ]
    },
    {
     "name": "stdout",
     "output_type": "stream",
     "text": [
      "Validation dice loss: 1.6998122930526733, IoU Score 0.47296440601348877\n"
     ]
    },
    {
     "name": "stderr",
     "output_type": "stream",
     "text": [
      "Validation round: 100%|██████████| 115/115 [00:07<00:00, 15.16batch/s]\n"
     ]
    },
    {
     "name": "stdout",
     "output_type": "stream",
     "text": [
      "Validation dice loss: 1.59055757522583, IoU Score 0.5126535892486572\n"
     ]
    },
    {
     "name": "stderr",
     "output_type": "stream",
     "text": [
      "Validation round: 100%|██████████| 115/115 [00:08<00:00, 14.07batch/s]\n"
     ]
    },
    {
     "name": "stdout",
     "output_type": "stream",
     "text": [
      "Validation dice loss: 1.5002868175506592, IoU Score 0.5198495388031006\n"
     ]
    },
    {
     "name": "stderr",
     "output_type": "stream",
     "text": [
      "Validation round: 100%|██████████| 115/115 [00:07<00:00, 14.76batch/s]\n"
     ]
    },
    {
     "name": "stdout",
     "output_type": "stream",
     "text": [
      "Validation dice loss: 1.4655977487564087, IoU Score 0.5176351070404053\n"
     ]
    },
    {
     "name": "stderr",
     "output_type": "stream",
     "text": [
      "Epoch 8/60: 100%|██████████| 456/456 [02:00<00:00,  3.79img/s, loss (batch)=0.732]\n",
      "Validation round: 100%|██████████| 115/115 [00:07<00:00, 14.78batch/s]\n"
     ]
    },
    {
     "name": "stdout",
     "output_type": "stream",
     "text": [
      "Validation dice loss: 1.3993724584579468, IoU Score 0.5435481071472168\n"
     ]
    },
    {
     "name": "stderr",
     "output_type": "stream",
     "text": [
      "Validation round: 100%|██████████| 115/115 [00:07<00:00, 15.13batch/s]\n"
     ]
    },
    {
     "name": "stdout",
     "output_type": "stream",
     "text": [
      "Validation dice loss: 1.3372098207473755, IoU Score 0.5560088753700256\n"
     ]
    },
    {
     "name": "stderr",
     "output_type": "stream",
     "text": [
      "Validation round: 100%|██████████| 115/115 [00:08<00:00, 14.05batch/s]\n"
     ]
    },
    {
     "name": "stdout",
     "output_type": "stream",
     "text": [
      "Validation dice loss: 1.2971644401550293, IoU Score 0.5334187150001526\n"
     ]
    },
    {
     "name": "stderr",
     "output_type": "stream",
     "text": [
      "Validation round: 100%|██████████| 115/115 [00:07<00:00, 15.05batch/s]\n"
     ]
    },
    {
     "name": "stdout",
     "output_type": "stream",
     "text": [
      "Validation dice loss: 1.281529426574707, IoU Score 0.5667520761489868\n"
     ]
    },
    {
     "name": "stderr",
     "output_type": "stream",
     "text": [
      "Validation round: 100%|██████████| 115/115 [00:07<00:00, 14.93batch/s]\n"
     ]
    },
    {
     "name": "stdout",
     "output_type": "stream",
     "text": [
      "Validation dice loss: 1.19267737865448, IoU Score 0.5858711004257202\n"
     ]
    },
    {
     "name": "stderr",
     "output_type": "stream",
     "text": [
      "Epoch 9/60: 100%|██████████| 456/456 [02:00<00:00,  3.80img/s, loss (batch)=0.64]\n",
      "Validation round: 100%|██████████| 115/115 [00:07<00:00, 15.01batch/s]\n"
     ]
    },
    {
     "name": "stdout",
     "output_type": "stream",
     "text": [
      "Validation dice loss: 1.1836791038513184, IoU Score 0.5661093592643738\n"
     ]
    },
    {
     "name": "stderr",
     "output_type": "stream",
     "text": [
      "Validation round: 100%|██████████| 115/115 [00:08<00:00, 13.81batch/s]\n"
     ]
    },
    {
     "name": "stdout",
     "output_type": "stream",
     "text": [
      "Validation dice loss: 1.1901615858078003, IoU Score 0.5766201019287109\n"
     ]
    },
    {
     "name": "stderr",
     "output_type": "stream",
     "text": [
      "Validation round: 100%|██████████| 115/115 [00:07<00:00, 15.21batch/s]\n"
     ]
    },
    {
     "name": "stdout",
     "output_type": "stream",
     "text": [
      "Validation dice loss: 1.1407995223999023, IoU Score 0.5863820910453796\n"
     ]
    },
    {
     "name": "stderr",
     "output_type": "stream",
     "text": [
      "Validation round: 100%|██████████| 115/115 [00:07<00:00, 15.11batch/s]\n"
     ]
    },
    {
     "name": "stdout",
     "output_type": "stream",
     "text": [
      "Validation dice loss: 1.09231436252594, IoU Score 0.5865845680236816\n"
     ]
    },
    {
     "name": "stderr",
     "output_type": "stream",
     "text": [
      "Validation round: 100%|██████████| 115/115 [00:07<00:00, 15.06batch/s]\n"
     ]
    },
    {
     "name": "stdout",
     "output_type": "stream",
     "text": [
      "Validation dice loss: 1.1189693212509155, IoU Score 0.5855666399002075\n"
     ]
    },
    {
     "name": "stderr",
     "output_type": "stream",
     "text": [
      "Epoch 10/60: 100%|██████████| 456/456 [02:01<00:00,  3.77img/s, loss (batch)=0.56]\n",
      "Validation round: 100%|██████████| 115/115 [00:07<00:00, 14.54batch/s]\n"
     ]
    },
    {
     "name": "stdout",
     "output_type": "stream",
     "text": [
      "Validation dice loss: 1.0498701333999634, IoU Score 0.5879353880882263\n"
     ]
    },
    {
     "name": "stderr",
     "output_type": "stream",
     "text": [
      "Validation round: 100%|██████████| 115/115 [00:07<00:00, 14.60batch/s]\n"
     ]
    },
    {
     "name": "stdout",
     "output_type": "stream",
     "text": [
      "Validation dice loss: 1.074181079864502, IoU Score 0.5912303328514099\n"
     ]
    },
    {
     "name": "stderr",
     "output_type": "stream",
     "text": [
      "Validation round: 100%|██████████| 115/115 [00:07<00:00, 15.04batch/s]\n"
     ]
    },
    {
     "name": "stdout",
     "output_type": "stream",
     "text": [
      "Validation dice loss: 1.002385139465332, IoU Score 0.590700089931488\n"
     ]
    },
    {
     "name": "stderr",
     "output_type": "stream",
     "text": [
      "Validation round: 100%|██████████| 115/115 [00:07<00:00, 15.17batch/s]\n"
     ]
    },
    {
     "name": "stdout",
     "output_type": "stream",
     "text": [
      "Validation dice loss: 1.0027283430099487, IoU Score 0.5925756096839905\n"
     ]
    },
    {
     "name": "stderr",
     "output_type": "stream",
     "text": [
      "Validation round: 100%|██████████| 115/115 [00:08<00:00, 14.21batch/s]\n"
     ]
    },
    {
     "name": "stdout",
     "output_type": "stream",
     "text": [
      "Validation dice loss: 0.9616323113441467, IoU Score 0.5980446338653564\n"
     ]
    },
    {
     "name": "stderr",
     "output_type": "stream",
     "text": [
      "Epoch 11/60: 100%|██████████| 456/456 [02:00<00:00,  3.79img/s, loss (batch)=0.679]\n",
      "Validation round: 100%|██████████| 115/115 [00:07<00:00, 14.50batch/s]\n"
     ]
    },
    {
     "name": "stdout",
     "output_type": "stream",
     "text": [
      "Validation dice loss: 0.920084536075592, IoU Score 0.5850095152854919\n"
     ]
    },
    {
     "name": "stderr",
     "output_type": "stream",
     "text": [
      "Validation round: 100%|██████████| 115/115 [00:07<00:00, 15.08batch/s]\n"
     ]
    },
    {
     "name": "stdout",
     "output_type": "stream",
     "text": [
      "Validation dice loss: 0.8034778237342834, IoU Score 0.6129072904586792\n"
     ]
    },
    {
     "name": "stderr",
     "output_type": "stream",
     "text": [
      "Validation round: 100%|██████████| 115/115 [00:07<00:00, 14.99batch/s]\n"
     ]
    },
    {
     "name": "stdout",
     "output_type": "stream",
     "text": [
      "Validation dice loss: 0.760913610458374, IoU Score 0.613125741481781\n"
     ]
    },
    {
     "name": "stderr",
     "output_type": "stream",
     "text": [
      "Validation round: 100%|██████████| 115/115 [00:07<00:00, 14.40batch/s]\n"
     ]
    },
    {
     "name": "stdout",
     "output_type": "stream",
     "text": [
      "Validation dice loss: 0.6946293115615845, IoU Score 0.6193311214447021\n"
     ]
    },
    {
     "name": "stderr",
     "output_type": "stream",
     "text": [
      "Validation round: 100%|██████████| 115/115 [00:07<00:00, 14.38batch/s]\n"
     ]
    },
    {
     "name": "stdout",
     "output_type": "stream",
     "text": [
      "Validation dice loss: 0.7017428278923035, IoU Score 0.6029077172279358\n"
     ]
    },
    {
     "name": "stderr",
     "output_type": "stream",
     "text": [
      "Epoch 12/60: 100%|██████████| 456/456 [02:00<00:00,  3.78img/s, loss (batch)=0.315]\n",
      "Validation round: 100%|██████████| 115/115 [00:07<00:00, 15.15batch/s]\n"
     ]
    },
    {
     "name": "stdout",
     "output_type": "stream",
     "text": [
      "Validation dice loss: 0.6262889504432678, IoU Score 0.6304833889007568\n"
     ]
    },
    {
     "name": "stderr",
     "output_type": "stream",
     "text": [
      "Validation round: 100%|██████████| 115/115 [00:07<00:00, 15.17batch/s]\n"
     ]
    },
    {
     "name": "stdout",
     "output_type": "stream",
     "text": [
      "Validation dice loss: 0.5985578894615173, IoU Score 0.6388211250305176\n"
     ]
    },
    {
     "name": "stderr",
     "output_type": "stream",
     "text": [
      "Validation round: 100%|██████████| 115/115 [00:07<00:00, 14.50batch/s]\n"
     ]
    },
    {
     "name": "stdout",
     "output_type": "stream",
     "text": [
      "Validation dice loss: 0.5903173089027405, IoU Score 0.6170450448989868\n"
     ]
    },
    {
     "name": "stderr",
     "output_type": "stream",
     "text": [
      "Validation round: 100%|██████████| 115/115 [00:07<00:00, 14.72batch/s]\n"
     ]
    },
    {
     "name": "stdout",
     "output_type": "stream",
     "text": [
      "Validation dice loss: 0.5769801735877991, IoU Score 0.6252511739730835\n"
     ]
    },
    {
     "name": "stderr",
     "output_type": "stream",
     "text": [
      "Validation round: 100%|██████████| 115/115 [00:07<00:00, 14.98batch/s]\n"
     ]
    },
    {
     "name": "stdout",
     "output_type": "stream",
     "text": [
      "Validation dice loss: 0.5523245334625244, IoU Score 0.625781238079071\n"
     ]
    },
    {
     "name": "stderr",
     "output_type": "stream",
     "text": [
      "Epoch 13/60: 100%|██████████| 456/456 [02:00<00:00,  3.80img/s, loss (batch)=0.695]\n",
      "Validation round: 100%|██████████| 115/115 [00:07<00:00, 14.99batch/s]\n"
     ]
    },
    {
     "name": "stdout",
     "output_type": "stream",
     "text": [
      "Validation dice loss: 0.5338069200515747, IoU Score 0.63570636510849\n"
     ]
    },
    {
     "name": "stderr",
     "output_type": "stream",
     "text": [
      "Validation round: 100%|██████████| 115/115 [00:07<00:00, 14.41batch/s]\n"
     ]
    },
    {
     "name": "stdout",
     "output_type": "stream",
     "text": [
      "Validation dice loss: 0.5120043754577637, IoU Score 0.642094612121582\n"
     ]
    },
    {
     "name": "stderr",
     "output_type": "stream",
     "text": [
      "Validation round: 100%|██████████| 115/115 [00:07<00:00, 15.04batch/s]\n"
     ]
    },
    {
     "name": "stdout",
     "output_type": "stream",
     "text": [
      "Validation dice loss: 0.5153950452804565, IoU Score 0.6323563456535339\n"
     ]
    },
    {
     "name": "stderr",
     "output_type": "stream",
     "text": [
      "Validation round: 100%|██████████| 115/115 [00:07<00:00, 14.51batch/s]\n"
     ]
    },
    {
     "name": "stdout",
     "output_type": "stream",
     "text": [
      "Validation dice loss: 0.48808005452156067, IoU Score 0.641785740852356\n"
     ]
    },
    {
     "name": "stderr",
     "output_type": "stream",
     "text": [
      "Validation round: 100%|██████████| 115/115 [00:07<00:00, 15.07batch/s]\n"
     ]
    },
    {
     "name": "stdout",
     "output_type": "stream",
     "text": [
      "Validation dice loss: 0.48884063959121704, IoU Score 0.6452870965003967\n"
     ]
    },
    {
     "name": "stderr",
     "output_type": "stream",
     "text": [
      "Epoch 14/60: 100%|██████████| 456/456 [02:00<00:00,  3.80img/s, loss (batch)=0.226]\n",
      "Validation round: 100%|██████████| 115/115 [00:07<00:00, 14.44batch/s]\n"
     ]
    },
    {
     "name": "stdout",
     "output_type": "stream",
     "text": [
      "Validation dice loss: 0.4779262840747833, IoU Score 0.6437813639640808\n"
     ]
    },
    {
     "name": "stderr",
     "output_type": "stream",
     "text": [
      "Validation round: 100%|██████████| 115/115 [00:07<00:00, 15.18batch/s]\n"
     ]
    },
    {
     "name": "stdout",
     "output_type": "stream",
     "text": [
      "Validation dice loss: 0.47031930088996887, IoU Score 0.6475685238838196\n"
     ]
    },
    {
     "name": "stderr",
     "output_type": "stream",
     "text": [
      "Validation round: 100%|██████████| 115/115 [00:07<00:00, 14.58batch/s]\n"
     ]
    },
    {
     "name": "stdout",
     "output_type": "stream",
     "text": [
      "Validation dice loss: 0.481313019990921, IoU Score 0.6371247172355652\n"
     ]
    },
    {
     "name": "stderr",
     "output_type": "stream",
     "text": [
      "Validation round: 100%|██████████| 115/115 [00:07<00:00, 15.13batch/s]\n"
     ]
    },
    {
     "name": "stdout",
     "output_type": "stream",
     "text": [
      "Validation dice loss: 0.5059733986854553, IoU Score 0.6286404132843018\n"
     ]
    },
    {
     "name": "stderr",
     "output_type": "stream",
     "text": [
      "Validation round: 100%|██████████| 115/115 [00:08<00:00, 14.37batch/s]\n"
     ]
    },
    {
     "name": "stdout",
     "output_type": "stream",
     "text": [
      "Validation dice loss: 0.45036381483078003, IoU Score 0.6556026935577393\n"
     ]
    },
    {
     "name": "stderr",
     "output_type": "stream",
     "text": [
      "Validation round: 100%|██████████| 115/115 [00:07<00:00, 15.09batch/s]\n"
     ]
    },
    {
     "name": "stdout",
     "output_type": "stream",
     "text": [
      "Validation dice loss: 0.4582774341106415, IoU Score 0.6475480198860168\n"
     ]
    },
    {
     "name": "stderr",
     "output_type": "stream",
     "text": [
      "Epoch 15/60: 100%|██████████| 456/456 [02:08<00:00,  3.56img/s, loss (batch)=0.214]\n",
      "Validation round: 100%|██████████| 115/115 [00:07<00:00, 14.61batch/s]\n"
     ]
    },
    {
     "name": "stdout",
     "output_type": "stream",
     "text": [
      "Validation dice loss: 0.4473521411418915, IoU Score 0.6526810526847839\n"
     ]
    },
    {
     "name": "stderr",
     "output_type": "stream",
     "text": [
      "Validation round: 100%|██████████| 115/115 [00:07<00:00, 15.06batch/s]\n"
     ]
    },
    {
     "name": "stdout",
     "output_type": "stream",
     "text": [
      "Validation dice loss: 0.4334409832954407, IoU Score 0.6584437489509583\n"
     ]
    },
    {
     "name": "stderr",
     "output_type": "stream",
     "text": [
      "Validation round: 100%|██████████| 115/115 [00:07<00:00, 14.46batch/s]\n"
     ]
    },
    {
     "name": "stdout",
     "output_type": "stream",
     "text": [
      "Validation dice loss: 0.4486672580242157, IoU Score 0.6524477601051331\n"
     ]
    },
    {
     "name": "stderr",
     "output_type": "stream",
     "text": [
      "Validation round: 100%|██████████| 115/115 [00:07<00:00, 15.05batch/s]\n"
     ]
    },
    {
     "name": "stdout",
     "output_type": "stream",
     "text": [
      "Validation dice loss: 0.46850061416625977, IoU Score 0.6340100765228271\n"
     ]
    },
    {
     "name": "stderr",
     "output_type": "stream",
     "text": [
      "Validation round: 100%|██████████| 115/115 [00:08<00:00, 14.16batch/s]\n"
     ]
    },
    {
     "name": "stdout",
     "output_type": "stream",
     "text": [
      "Validation dice loss: 0.4394322633743286, IoU Score 0.6507911086082458\n"
     ]
    },
    {
     "name": "stderr",
     "output_type": "stream",
     "text": [
      "Epoch 16/60: 100%|██████████| 456/456 [02:01<00:00,  3.76img/s, loss (batch)=0.347]\n",
      "Validation round: 100%|██████████| 115/115 [00:07<00:00, 15.11batch/s]\n"
     ]
    },
    {
     "name": "stdout",
     "output_type": "stream",
     "text": [
      "Validation dice loss: 0.42423364520072937, IoU Score 0.6607609391212463\n"
     ]
    },
    {
     "name": "stderr",
     "output_type": "stream",
     "text": [
      "Validation round: 100%|██████████| 115/115 [00:08<00:00, 14.06batch/s]\n"
     ]
    },
    {
     "name": "stdout",
     "output_type": "stream",
     "text": [
      "Validation dice loss: 0.44238024950027466, IoU Score 0.650841474533081\n"
     ]
    },
    {
     "name": "stderr",
     "output_type": "stream",
     "text": [
      "Validation round: 100%|██████████| 115/115 [00:07<00:00, 15.01batch/s]\n"
     ]
    },
    {
     "name": "stdout",
     "output_type": "stream",
     "text": [
      "Validation dice loss: 0.45796868205070496, IoU Score 0.641049325466156\n"
     ]
    },
    {
     "name": "stderr",
     "output_type": "stream",
     "text": [
      "Validation round: 100%|██████████| 115/115 [00:08<00:00, 14.25batch/s]\n"
     ]
    },
    {
     "name": "stdout",
     "output_type": "stream",
     "text": [
      "Validation dice loss: 0.4572577476501465, IoU Score 0.6389563679695129\n"
     ]
    },
    {
     "name": "stderr",
     "output_type": "stream",
     "text": [
      "Validation round: 100%|██████████| 115/115 [00:07<00:00, 14.91batch/s]\n"
     ]
    },
    {
     "name": "stdout",
     "output_type": "stream",
     "text": [
      "Validation dice loss: 0.4167760908603668, IoU Score 0.662399411201477\n"
     ]
    },
    {
     "name": "stderr",
     "output_type": "stream",
     "text": [
      "Epoch 17/60: 100%|██████████| 456/456 [02:00<00:00,  3.78img/s, loss (batch)=0.202]\n",
      "Validation round: 100%|██████████| 115/115 [00:07<00:00, 14.73batch/s]\n"
     ]
    },
    {
     "name": "stdout",
     "output_type": "stream",
     "text": [
      "Validation dice loss: 0.43484076857566833, IoU Score 0.6517905592918396\n"
     ]
    },
    {
     "name": "stderr",
     "output_type": "stream",
     "text": [
      "Validation round: 100%|██████████| 115/115 [00:08<00:00, 14.20batch/s]\n"
     ]
    },
    {
     "name": "stdout",
     "output_type": "stream",
     "text": [
      "Validation dice loss: 0.4203328788280487, IoU Score 0.6614277958869934\n"
     ]
    },
    {
     "name": "stderr",
     "output_type": "stream",
     "text": [
      "Validation round: 100%|██████████| 115/115 [00:07<00:00, 14.42batch/s]\n"
     ]
    },
    {
     "name": "stdout",
     "output_type": "stream",
     "text": [
      "Validation dice loss: 0.4188421070575714, IoU Score 0.6586609482765198\n"
     ]
    },
    {
     "name": "stderr",
     "output_type": "stream",
     "text": [
      "Validation round: 100%|██████████| 115/115 [00:07<00:00, 15.08batch/s]\n"
     ]
    },
    {
     "name": "stdout",
     "output_type": "stream",
     "text": [
      "Validation dice loss: 0.4166617691516876, IoU Score 0.6617699265480042\n"
     ]
    },
    {
     "name": "stderr",
     "output_type": "stream",
     "text": [
      "Validation round: 100%|██████████| 115/115 [00:07<00:00, 15.03batch/s]\n"
     ]
    },
    {
     "name": "stdout",
     "output_type": "stream",
     "text": [
      "Validation dice loss: 0.40234696865081787, IoU Score 0.6676051020622253\n"
     ]
    },
    {
     "name": "stderr",
     "output_type": "stream",
     "text": [
      "Epoch 18/60: 100%|██████████| 456/456 [02:01<00:00,  3.77img/s, loss (batch)=0.171]\n",
      "Validation round: 100%|██████████| 115/115 [00:08<00:00, 14.26batch/s]\n"
     ]
    },
    {
     "name": "stdout",
     "output_type": "stream",
     "text": [
      "Validation dice loss: 0.4134741425514221, IoU Score 0.66366046667099\n"
     ]
    },
    {
     "name": "stderr",
     "output_type": "stream",
     "text": [
      "Validation round: 100%|██████████| 115/115 [00:08<00:00, 14.28batch/s]\n"
     ]
    },
    {
     "name": "stdout",
     "output_type": "stream",
     "text": [
      "Validation dice loss: 0.4013898968696594, IoU Score 0.6685411930084229\n"
     ]
    },
    {
     "name": "stderr",
     "output_type": "stream",
     "text": [
      "Validation round: 100%|██████████| 115/115 [00:07<00:00, 15.15batch/s]\n"
     ]
    },
    {
     "name": "stdout",
     "output_type": "stream",
     "text": [
      "Validation dice loss: 0.4013809263706207, IoU Score 0.6686515212059021\n"
     ]
    },
    {
     "name": "stderr",
     "output_type": "stream",
     "text": [
      "Validation round: 100%|██████████| 115/115 [00:07<00:00, 15.11batch/s]\n"
     ]
    },
    {
     "name": "stdout",
     "output_type": "stream",
     "text": [
      "Validation dice loss: 0.40295085310935974, IoU Score 0.6659096479415894\n"
     ]
    },
    {
     "name": "stderr",
     "output_type": "stream",
     "text": [
      "Validation round: 100%|██████████| 115/115 [00:07<00:00, 14.43batch/s]\n"
     ]
    },
    {
     "name": "stdout",
     "output_type": "stream",
     "text": [
      "Validation dice loss: 0.3983156979084015, IoU Score 0.6693257093429565\n"
     ]
    },
    {
     "name": "stderr",
     "output_type": "stream",
     "text": [
      "Epoch 19/60: 100%|██████████| 456/456 [02:00<00:00,  3.77img/s, loss (batch)=0.15]\n",
      "Validation round: 100%|██████████| 115/115 [00:07<00:00, 14.42batch/s]\n"
     ]
    },
    {
     "name": "stdout",
     "output_type": "stream",
     "text": [
      "Validation dice loss: 0.40303999185562134, IoU Score 0.6645208597183228\n"
     ]
    },
    {
     "name": "stderr",
     "output_type": "stream",
     "text": [
      "Validation round: 100%|██████████| 115/115 [00:07<00:00, 15.04batch/s]\n"
     ]
    },
    {
     "name": "stdout",
     "output_type": "stream",
     "text": [
      "Validation dice loss: 0.4067855775356293, IoU Score 0.6629956960678101\n"
     ]
    },
    {
     "name": "stderr",
     "output_type": "stream",
     "text": [
      "Validation round: 100%|██████████| 115/115 [00:07<00:00, 15.12batch/s]\n"
     ]
    },
    {
     "name": "stdout",
     "output_type": "stream",
     "text": [
      "Validation dice loss: 0.39582279324531555, IoU Score 0.6661658883094788\n"
     ]
    },
    {
     "name": "stderr",
     "output_type": "stream",
     "text": [
      "Validation round: 100%|██████████| 115/115 [00:07<00:00, 14.57batch/s]\n"
     ]
    },
    {
     "name": "stdout",
     "output_type": "stream",
     "text": [
      "Validation dice loss: 0.4028393626213074, IoU Score 0.6667106747627258\n"
     ]
    },
    {
     "name": "stderr",
     "output_type": "stream",
     "text": [
      "Validation round: 100%|██████████| 115/115 [00:08<00:00, 14.24batch/s]\n"
     ]
    },
    {
     "name": "stdout",
     "output_type": "stream",
     "text": [
      "Validation dice loss: 0.4049109220504761, IoU Score 0.666452169418335\n"
     ]
    },
    {
     "name": "stderr",
     "output_type": "stream",
     "text": [
      "Epoch 20/60: 100%|██████████| 456/456 [01:59<00:00,  3.81img/s, loss (batch)=0.606]\n",
      "Validation round: 100%|██████████| 115/115 [00:07<00:00, 15.07batch/s]\n"
     ]
    },
    {
     "name": "stdout",
     "output_type": "stream",
     "text": [
      "Validation dice loss: 0.39533621072769165, IoU Score 0.6720603704452515\n"
     ]
    },
    {
     "name": "stderr",
     "output_type": "stream",
     "text": [
      "Validation round: 100%|██████████| 115/115 [00:07<00:00, 15.23batch/s]\n"
     ]
    },
    {
     "name": "stdout",
     "output_type": "stream",
     "text": [
      "Validation dice loss: 0.40373551845550537, IoU Score 0.6664590835571289\n"
     ]
    },
    {
     "name": "stderr",
     "output_type": "stream",
     "text": [
      "Validation round: 100%|██████████| 115/115 [00:07<00:00, 14.60batch/s]\n"
     ]
    },
    {
     "name": "stdout",
     "output_type": "stream",
     "text": [
      "Validation dice loss: 0.39006415009498596, IoU Score 0.6731906533241272\n"
     ]
    },
    {
     "name": "stderr",
     "output_type": "stream",
     "text": [
      "Validation round: 100%|██████████| 115/115 [00:08<00:00, 14.11batch/s]\n"
     ]
    },
    {
     "name": "stdout",
     "output_type": "stream",
     "text": [
      "Validation dice loss: 0.40273696184158325, IoU Score 0.6659858822822571\n"
     ]
    },
    {
     "name": "stderr",
     "output_type": "stream",
     "text": [
      "Validation round: 100%|██████████| 115/115 [00:07<00:00, 15.24batch/s]\n"
     ]
    },
    {
     "name": "stdout",
     "output_type": "stream",
     "text": [
      "Validation dice loss: 0.40072670578956604, IoU Score 0.6695151925086975\n"
     ]
    },
    {
     "name": "stderr",
     "output_type": "stream",
     "text": [
      "Epoch 21/60: 100%|██████████| 456/456 [02:00<00:00,  3.79img/s, loss (batch)=0.177]\n",
      "Validation round: 100%|██████████| 115/115 [00:07<00:00, 15.31batch/s]\n"
     ]
    },
    {
     "name": "stdout",
     "output_type": "stream",
     "text": [
      "Validation dice loss: 0.39228877425193787, IoU Score 0.6724027991294861\n"
     ]
    },
    {
     "name": "stderr",
     "output_type": "stream",
     "text": [
      "Validation round: 100%|██████████| 115/115 [00:07<00:00, 14.58batch/s]\n"
     ]
    },
    {
     "name": "stdout",
     "output_type": "stream",
     "text": [
      "Validation dice loss: 0.39453837275505066, IoU Score 0.672142744064331\n"
     ]
    },
    {
     "name": "stderr",
     "output_type": "stream",
     "text": [
      "Validation round: 100%|██████████| 115/115 [00:08<00:00, 14.20batch/s]\n"
     ]
    },
    {
     "name": "stdout",
     "output_type": "stream",
     "text": [
      "Validation dice loss: 0.3938616216182709, IoU Score 0.6725780963897705\n"
     ]
    },
    {
     "name": "stderr",
     "output_type": "stream",
     "text": [
      "Validation round: 100%|██████████| 115/115 [00:07<00:00, 15.25batch/s]\n"
     ]
    },
    {
     "name": "stdout",
     "output_type": "stream",
     "text": [
      "Validation dice loss: 0.40739408135414124, IoU Score 0.6635646224021912\n"
     ]
    },
    {
     "name": "stderr",
     "output_type": "stream",
     "text": [
      "Validation round: 100%|██████████| 115/115 [00:07<00:00, 15.10batch/s]\n"
     ]
    },
    {
     "name": "stdout",
     "output_type": "stream",
     "text": [
      "Validation dice loss: 0.389326810836792, IoU Score 0.6743597388267517\n"
     ]
    },
    {
     "name": "stderr",
     "output_type": "stream",
     "text": [
      "Epoch 22/60: 100%|██████████| 456/456 [01:59<00:00,  3.81img/s, loss (batch)=0.447]\n",
      "Validation round: 100%|██████████| 115/115 [00:08<00:00, 14.31batch/s]\n"
     ]
    },
    {
     "name": "stdout",
     "output_type": "stream",
     "text": [
      "Validation dice loss: 0.3950250446796417, IoU Score 0.6715267300605774\n"
     ]
    },
    {
     "name": "stderr",
     "output_type": "stream",
     "text": [
      "Validation round: 100%|██████████| 115/115 [00:07<00:00, 14.46batch/s]\n"
     ]
    },
    {
     "name": "stdout",
     "output_type": "stream",
     "text": [
      "Validation dice loss: 0.4114137291908264, IoU Score 0.6612204313278198\n"
     ]
    },
    {
     "name": "stderr",
     "output_type": "stream",
     "text": [
      "Validation round: 100%|██████████| 115/115 [00:07<00:00, 15.21batch/s]\n"
     ]
    },
    {
     "name": "stdout",
     "output_type": "stream",
     "text": [
      "Validation dice loss: 0.40259498357772827, IoU Score 0.6661087274551392\n"
     ]
    },
    {
     "name": "stderr",
     "output_type": "stream",
     "text": [
      "Validation round: 100%|██████████| 115/115 [00:07<00:00, 15.02batch/s]\n"
     ]
    },
    {
     "name": "stdout",
     "output_type": "stream",
     "text": [
      "Validation dice loss: 0.4041731655597687, IoU Score 0.6669985055923462\n"
     ]
    },
    {
     "name": "stderr",
     "output_type": "stream",
     "text": [
      "Validation round: 100%|██████████| 115/115 [00:07<00:00, 14.43batch/s]\n"
     ]
    },
    {
     "name": "stdout",
     "output_type": "stream",
     "text": [
      "Validation dice loss: 0.38252317905426025, IoU Score 0.674050509929657\n"
     ]
    },
    {
     "name": "stderr",
     "output_type": "stream",
     "text": [
      "Epoch 23/60: 100%|██████████| 456/456 [02:00<00:00,  3.79img/s, loss (batch)=0.149]\n",
      "Validation round: 100%|██████████| 115/115 [00:07<00:00, 14.41batch/s]\n"
     ]
    },
    {
     "name": "stdout",
     "output_type": "stream",
     "text": [
      "Validation dice loss: 0.40309858322143555, IoU Score 0.6610619425773621\n"
     ]
    },
    {
     "name": "stderr",
     "output_type": "stream",
     "text": [
      "Validation round: 100%|██████████| 115/115 [00:07<00:00, 15.21batch/s]\n"
     ]
    },
    {
     "name": "stdout",
     "output_type": "stream",
     "text": [
      "Validation dice loss: 0.4102245271205902, IoU Score 0.657535195350647\n"
     ]
    },
    {
     "name": "stderr",
     "output_type": "stream",
     "text": [
      "Validation round: 100%|██████████| 115/115 [00:07<00:00, 15.12batch/s]\n"
     ]
    },
    {
     "name": "stdout",
     "output_type": "stream",
     "text": [
      "Validation dice loss: 0.4028446078300476, IoU Score 0.6649770736694336\n"
     ]
    },
    {
     "name": "stderr",
     "output_type": "stream",
     "text": [
      "Validation round: 100%|██████████| 115/115 [00:08<00:00, 13.71batch/s]\n"
     ]
    },
    {
     "name": "stdout",
     "output_type": "stream",
     "text": [
      "Validation dice loss: 0.41243216395378113, IoU Score 0.6593546271324158\n"
     ]
    },
    {
     "name": "stderr",
     "output_type": "stream",
     "text": [
      "Validation round: 100%|██████████| 115/115 [00:07<00:00, 15.13batch/s]\n"
     ]
    },
    {
     "name": "stdout",
     "output_type": "stream",
     "text": [
      "Validation dice loss: 0.3860369622707367, IoU Score 0.6741730570793152\n"
     ]
    },
    {
     "name": "stderr",
     "output_type": "stream",
     "text": [
      "Epoch 24/60: 100%|██████████| 456/456 [02:00<00:00,  3.80img/s, loss (batch)=0.116]\n",
      "Validation round: 100%|██████████| 115/115 [00:07<00:00, 15.02batch/s]\n"
     ]
    },
    {
     "name": "stdout",
     "output_type": "stream",
     "text": [
      "Validation dice loss: 0.3911527693271637, IoU Score 0.6734656095504761\n"
     ]
    },
    {
     "name": "stderr",
     "output_type": "stream",
     "text": [
      "Validation round: 100%|██████████| 115/115 [00:07<00:00, 15.16batch/s]\n"
     ]
    },
    {
     "name": "stdout",
     "output_type": "stream",
     "text": [
      "Validation dice loss: 0.393558144569397, IoU Score 0.6718319654464722\n"
     ]
    },
    {
     "name": "stderr",
     "output_type": "stream",
     "text": [
      "Validation round: 100%|██████████| 115/115 [00:08<00:00, 13.26batch/s]\n"
     ]
    },
    {
     "name": "stdout",
     "output_type": "stream",
     "text": [
      "Validation dice loss: 0.3981223404407501, IoU Score 0.6684949994087219\n"
     ]
    },
    {
     "name": "stderr",
     "output_type": "stream",
     "text": [
      "Validation round: 100%|██████████| 115/115 [00:07<00:00, 15.23batch/s]\n"
     ]
    },
    {
     "name": "stdout",
     "output_type": "stream",
     "text": [
      "Validation dice loss: 0.3921941816806793, IoU Score 0.672420084476471\n"
     ]
    },
    {
     "name": "stderr",
     "output_type": "stream",
     "text": [
      "Validation round: 100%|██████████| 115/115 [00:07<00:00, 15.39batch/s]\n"
     ]
    },
    {
     "name": "stdout",
     "output_type": "stream",
     "text": [
      "Validation dice loss: 0.3990321755409241, IoU Score 0.668495774269104\n"
     ]
    },
    {
     "name": "stderr",
     "output_type": "stream",
     "text": [
      "Epoch 25/60: 100%|██████████| 456/456 [02:00<00:00,  3.78img/s, loss (batch)=0.468]\n",
      "Validation round: 100%|██████████| 115/115 [00:07<00:00, 15.10batch/s]\n"
     ]
    },
    {
     "name": "stdout",
     "output_type": "stream",
     "text": [
      "Validation dice loss: 0.3935748338699341, IoU Score 0.6700588464736938\n"
     ]
    },
    {
     "name": "stderr",
     "output_type": "stream",
     "text": [
      "Validation round: 100%|██████████| 115/115 [00:08<00:00, 13.64batch/s]\n"
     ]
    },
    {
     "name": "stdout",
     "output_type": "stream",
     "text": [
      "Validation dice loss: 0.3805188834667206, IoU Score 0.677019476890564\n"
     ]
    },
    {
     "name": "stderr",
     "output_type": "stream",
     "text": [
      "Validation round: 100%|██████████| 115/115 [00:07<00:00, 15.19batch/s]\n"
     ]
    },
    {
     "name": "stdout",
     "output_type": "stream",
     "text": [
      "Validation dice loss: 0.3978365659713745, IoU Score 0.664493978023529\n"
     ]
    },
    {
     "name": "stderr",
     "output_type": "stream",
     "text": [
      "Validation round: 100%|██████████| 115/115 [00:07<00:00, 15.26batch/s]\n"
     ]
    },
    {
     "name": "stdout",
     "output_type": "stream",
     "text": [
      "Validation dice loss: 0.40183064341545105, IoU Score 0.6648843884468079\n"
     ]
    },
    {
     "name": "stderr",
     "output_type": "stream",
     "text": [
      "Validation round: 100%|██████████| 115/115 [00:07<00:00, 15.27batch/s]\n"
     ]
    },
    {
     "name": "stdout",
     "output_type": "stream",
     "text": [
      "Validation dice loss: 0.4098086357116699, IoU Score 0.6626714468002319\n"
     ]
    },
    {
     "name": "stderr",
     "output_type": "stream",
     "text": [
      "Epoch 26/60: 100%|██████████| 456/456 [01:59<00:00,  3.80img/s, loss (batch)=0.197]\n",
      "Validation round: 100%|██████████| 115/115 [00:08<00:00, 13.23batch/s]\n"
     ]
    },
    {
     "name": "stdout",
     "output_type": "stream",
     "text": [
      "Validation dice loss: 0.45097509026527405, IoU Score 0.6383820176124573\n"
     ]
    },
    {
     "name": "stderr",
     "output_type": "stream",
     "text": [
      "Validation round: 100%|██████████| 115/115 [00:07<00:00, 15.25batch/s]\n"
     ]
    },
    {
     "name": "stdout",
     "output_type": "stream",
     "text": [
      "Validation dice loss: 0.41084930300712585, IoU Score 0.6608709096908569\n"
     ]
    },
    {
     "name": "stderr",
     "output_type": "stream",
     "text": [
      "Validation round: 100%|██████████| 115/115 [00:07<00:00, 14.92batch/s]\n"
     ]
    },
    {
     "name": "stdout",
     "output_type": "stream",
     "text": [
      "Validation dice loss: 0.39653316140174866, IoU Score 0.671684741973877\n"
     ]
    },
    {
     "name": "stderr",
     "output_type": "stream",
     "text": [
      "Validation round: 100%|██████████| 115/115 [00:07<00:00, 14.95batch/s]\n"
     ]
    },
    {
     "name": "stdout",
     "output_type": "stream",
     "text": [
      "Validation dice loss: 0.389265775680542, IoU Score 0.6713595390319824\n"
     ]
    },
    {
     "name": "stderr",
     "output_type": "stream",
     "text": [
      "Validation round: 100%|██████████| 115/115 [00:08<00:00, 13.54batch/s]\n"
     ]
    },
    {
     "name": "stdout",
     "output_type": "stream",
     "text": [
      "Validation dice loss: 0.38687995076179504, IoU Score 0.6733300685882568\n"
     ]
    },
    {
     "name": "stderr",
     "output_type": "stream",
     "text": [
      "Epoch 27/60: 100%|██████████| 456/456 [02:01<00:00,  3.74img/s, loss (batch)=0.168]\n",
      "Validation round: 100%|██████████| 115/115 [00:07<00:00, 14.84batch/s]\n"
     ]
    },
    {
     "name": "stdout",
     "output_type": "stream",
     "text": [
      "Validation dice loss: 0.38380029797554016, IoU Score 0.6793136596679688\n"
     ]
    },
    {
     "name": "stderr",
     "output_type": "stream",
     "text": [
      "Validation round: 100%|██████████| 115/115 [00:07<00:00, 15.20batch/s]\n"
     ]
    },
    {
     "name": "stdout",
     "output_type": "stream",
     "text": [
      "Validation dice loss: 0.38466933369636536, IoU Score 0.6793942451477051\n"
     ]
    },
    {
     "name": "stderr",
     "output_type": "stream",
     "text": [
      "Validation round: 100%|██████████| 115/115 [00:08<00:00, 14.32batch/s]\n"
     ]
    },
    {
     "name": "stdout",
     "output_type": "stream",
     "text": [
      "Validation dice loss: 0.38021671772003174, IoU Score 0.6812988519668579\n"
     ]
    },
    {
     "name": "stderr",
     "output_type": "stream",
     "text": [
      "Validation round: 100%|██████████| 115/115 [00:08<00:00, 14.35batch/s]\n"
     ]
    },
    {
     "name": "stdout",
     "output_type": "stream",
     "text": [
      "Validation dice loss: 0.3783327043056488, IoU Score 0.6806464195251465\n"
     ]
    },
    {
     "name": "stderr",
     "output_type": "stream",
     "text": [
      "Validation round: 100%|██████████| 115/115 [00:07<00:00, 15.21batch/s]\n"
     ]
    },
    {
     "name": "stdout",
     "output_type": "stream",
     "text": [
      "Validation dice loss: 0.38857337832450867, IoU Score 0.6763548254966736\n"
     ]
    },
    {
     "name": "stderr",
     "output_type": "stream",
     "text": [
      "Epoch 28/60: 100%|██████████| 456/456 [02:01<00:00,  3.76img/s, loss (batch)=0.173]\n",
      "Validation round: 100%|██████████| 115/115 [00:07<00:00, 15.23batch/s]\n"
     ]
    },
    {
     "name": "stdout",
     "output_type": "stream",
     "text": [
      "Validation dice loss: 0.376991331577301, IoU Score 0.6823391914367676\n"
     ]
    },
    {
     "name": "stderr",
     "output_type": "stream",
     "text": [
      "Validation round: 100%|██████████| 115/115 [00:08<00:00, 14.01batch/s]\n"
     ]
    },
    {
     "name": "stdout",
     "output_type": "stream",
     "text": [
      "Validation dice loss: 0.37985795736312866, IoU Score 0.6806551218032837\n"
     ]
    },
    {
     "name": "stderr",
     "output_type": "stream",
     "text": [
      "Validation round: 100%|██████████| 115/115 [00:07<00:00, 14.39batch/s]\n"
     ]
    },
    {
     "name": "stdout",
     "output_type": "stream",
     "text": [
      "Validation dice loss: 0.3896072506904602, IoU Score 0.6723624467849731\n"
     ]
    },
    {
     "name": "stderr",
     "output_type": "stream",
     "text": [
      "Validation round: 100%|██████████| 115/115 [00:07<00:00, 15.09batch/s]\n"
     ]
    },
    {
     "name": "stdout",
     "output_type": "stream",
     "text": [
      "Validation dice loss: 0.39290961623191833, IoU Score 0.6734516024589539\n"
     ]
    },
    {
     "name": "stderr",
     "output_type": "stream",
     "text": [
      "Validation round: 100%|██████████| 115/115 [00:07<00:00, 15.29batch/s]\n"
     ]
    },
    {
     "name": "stdout",
     "output_type": "stream",
     "text": [
      "Validation dice loss: 0.384574294090271, IoU Score 0.6793532371520996\n"
     ]
    },
    {
     "name": "stderr",
     "output_type": "stream",
     "text": [
      "Epoch 29/60: 100%|██████████| 456/456 [02:00<00:00,  3.77img/s, loss (batch)=0.182]\n",
      "Validation round: 100%|██████████| 115/115 [00:08<00:00, 13.84batch/s]\n"
     ]
    },
    {
     "name": "stdout",
     "output_type": "stream",
     "text": [
      "Validation dice loss: 0.3787495791912079, IoU Score 0.6779839992523193\n"
     ]
    },
    {
     "name": "stderr",
     "output_type": "stream",
     "text": [
      "Validation round: 100%|██████████| 115/115 [00:07<00:00, 14.93batch/s]\n"
     ]
    },
    {
     "name": "stdout",
     "output_type": "stream",
     "text": [
      "Validation dice loss: 0.383870005607605, IoU Score 0.6768174171447754\n"
     ]
    },
    {
     "name": "stderr",
     "output_type": "stream",
     "text": [
      "Validation round: 100%|██████████| 115/115 [00:07<00:00, 14.70batch/s]\n"
     ]
    },
    {
     "name": "stdout",
     "output_type": "stream",
     "text": [
      "Validation dice loss: 0.40598586201667786, IoU Score 0.6668617725372314\n"
     ]
    },
    {
     "name": "stderr",
     "output_type": "stream",
     "text": [
      "Validation round: 100%|██████████| 115/115 [00:07<00:00, 15.31batch/s]\n"
     ]
    },
    {
     "name": "stdout",
     "output_type": "stream",
     "text": [
      "Validation dice loss: 0.3876674771308899, IoU Score 0.6774248480796814\n"
     ]
    },
    {
     "name": "stderr",
     "output_type": "stream",
     "text": [
      "Validation round: 100%|██████████| 115/115 [00:07<00:00, 14.85batch/s]\n"
     ]
    },
    {
     "name": "stdout",
     "output_type": "stream",
     "text": [
      "Validation dice loss: 0.38524317741394043, IoU Score 0.6784558892250061\n"
     ]
    },
    {
     "name": "stderr",
     "output_type": "stream",
     "text": [
      "Validation round: 100%|██████████| 115/115 [00:07<00:00, 15.24batch/s]\n"
     ]
    },
    {
     "name": "stdout",
     "output_type": "stream",
     "text": [
      "Validation dice loss: 0.3991732597351074, IoU Score 0.6675813794136047\n"
     ]
    },
    {
     "name": "stderr",
     "output_type": "stream",
     "text": [
      "Epoch 30/60: 100%|██████████| 456/456 [02:08<00:00,  3.55img/s, loss (batch)=0.252]\n",
      "Validation round: 100%|██████████| 115/115 [00:07<00:00, 14.72batch/s]\n"
     ]
    },
    {
     "name": "stdout",
     "output_type": "stream",
     "text": [
      "Validation dice loss: 0.38054484128952026, IoU Score 0.6820008158683777\n"
     ]
    },
    {
     "name": "stderr",
     "output_type": "stream",
     "text": [
      "Validation round: 100%|██████████| 115/115 [00:08<00:00, 14.22batch/s]\n"
     ]
    },
    {
     "name": "stdout",
     "output_type": "stream",
     "text": [
      "Validation dice loss: 0.38335293531417847, IoU Score 0.6806269288063049\n"
     ]
    },
    {
     "name": "stderr",
     "output_type": "stream",
     "text": [
      "Validation round: 100%|██████████| 115/115 [00:07<00:00, 15.24batch/s]\n"
     ]
    },
    {
     "name": "stdout",
     "output_type": "stream",
     "text": [
      "Validation dice loss: 0.3787742555141449, IoU Score 0.6831136345863342\n"
     ]
    },
    {
     "name": "stderr",
     "output_type": "stream",
     "text": [
      "Validation round: 100%|██████████| 115/115 [00:07<00:00, 15.02batch/s]\n"
     ]
    },
    {
     "name": "stdout",
     "output_type": "stream",
     "text": [
      "Validation dice loss: 0.37669074535369873, IoU Score 0.680379331111908\n"
     ]
    },
    {
     "name": "stderr",
     "output_type": "stream",
     "text": [
      "Validation round: 100%|██████████| 115/115 [00:08<00:00, 14.27batch/s]\n"
     ]
    },
    {
     "name": "stdout",
     "output_type": "stream",
     "text": [
      "Validation dice loss: 0.38676124811172485, IoU Score 0.6778380870819092\n"
     ]
    },
    {
     "name": "stderr",
     "output_type": "stream",
     "text": [
      "Epoch 31/60: 100%|██████████| 456/456 [02:01<00:00,  3.75img/s, loss (batch)=0.162]\n",
      "Validation round: 100%|██████████| 115/115 [00:08<00:00, 13.55batch/s]\n"
     ]
    },
    {
     "name": "stdout",
     "output_type": "stream",
     "text": [
      "Validation dice loss: 0.3768431842327118, IoU Score 0.6805595755577087\n"
     ]
    },
    {
     "name": "stderr",
     "output_type": "stream",
     "text": [
      "Validation round: 100%|██████████| 115/115 [00:07<00:00, 15.42batch/s]\n"
     ]
    },
    {
     "name": "stdout",
     "output_type": "stream",
     "text": [
      "Validation dice loss: 0.3977147042751312, IoU Score 0.6732343435287476\n"
     ]
    },
    {
     "name": "stderr",
     "output_type": "stream",
     "text": [
      "Validation round: 100%|██████████| 115/115 [00:07<00:00, 15.33batch/s]\n"
     ]
    },
    {
     "name": "stdout",
     "output_type": "stream",
     "text": [
      "Validation dice loss: 0.3914729356765747, IoU Score 0.6767301559448242\n"
     ]
    },
    {
     "name": "stderr",
     "output_type": "stream",
     "text": [
      "Validation round: 100%|██████████| 115/115 [00:07<00:00, 14.42batch/s]\n"
     ]
    },
    {
     "name": "stdout",
     "output_type": "stream",
     "text": [
      "Validation dice loss: 0.39133816957473755, IoU Score 0.6720854640007019\n"
     ]
    },
    {
     "name": "stderr",
     "output_type": "stream",
     "text": [
      "Validation round: 100%|██████████| 115/115 [00:07<00:00, 14.66batch/s]\n"
     ]
    },
    {
     "name": "stdout",
     "output_type": "stream",
     "text": [
      "Validation dice loss: 0.3857615888118744, IoU Score 0.6783120036125183\n"
     ]
    },
    {
     "name": "stderr",
     "output_type": "stream",
     "text": [
      "Epoch 32/60: 100%|██████████| 456/456 [02:01<00:00,  3.77img/s, loss (batch)=0.208]\n",
      "Validation round: 100%|██████████| 115/115 [00:07<00:00, 15.14batch/s]\n"
     ]
    },
    {
     "name": "stdout",
     "output_type": "stream",
     "text": [
      "Validation dice loss: 0.39026084542274475, IoU Score 0.6753659844398499\n"
     ]
    },
    {
     "name": "stderr",
     "output_type": "stream",
     "text": [
      "Validation round: 100%|██████████| 115/115 [00:07<00:00, 15.35batch/s]\n"
     ]
    },
    {
     "name": "stdout",
     "output_type": "stream",
     "text": [
      "Validation dice loss: 0.39597997069358826, IoU Score 0.6754160523414612\n"
     ]
    },
    {
     "name": "stderr",
     "output_type": "stream",
     "text": [
      "Validation round: 100%|██████████| 115/115 [00:08<00:00, 13.53batch/s]\n"
     ]
    },
    {
     "name": "stdout",
     "output_type": "stream",
     "text": [
      "Validation dice loss: 0.4018785357475281, IoU Score 0.6693094372749329\n"
     ]
    },
    {
     "name": "stderr",
     "output_type": "stream",
     "text": [
      "Validation round: 100%|██████████| 115/115 [00:07<00:00, 15.24batch/s]\n"
     ]
    },
    {
     "name": "stdout",
     "output_type": "stream",
     "text": [
      "Validation dice loss: 0.4259156286716461, IoU Score 0.6548478007316589\n"
     ]
    },
    {
     "name": "stderr",
     "output_type": "stream",
     "text": [
      "Validation round: 100%|██████████| 115/115 [00:07<00:00, 15.14batch/s]\n"
     ]
    },
    {
     "name": "stdout",
     "output_type": "stream",
     "text": [
      "Validation dice loss: 0.3936958909034729, IoU Score 0.6730839610099792\n"
     ]
    },
    {
     "name": "stderr",
     "output_type": "stream",
     "text": [
      "Epoch 33/60: 100%|██████████| 456/456 [02:00<00:00,  3.79img/s, loss (batch)=0.281]\n",
      "Validation round: 100%|██████████| 115/115 [00:07<00:00, 15.40batch/s]\n"
     ]
    },
    {
     "name": "stdout",
     "output_type": "stream",
     "text": [
      "Validation dice loss: 0.390266090631485, IoU Score 0.6769386529922485\n"
     ]
    },
    {
     "name": "stderr",
     "output_type": "stream",
     "text": [
      "Validation round: 100%|██████████| 115/115 [00:08<00:00, 13.32batch/s]\n"
     ]
    },
    {
     "name": "stdout",
     "output_type": "stream",
     "text": [
      "Validation dice loss: 0.3902508616447449, IoU Score 0.6775380969047546\n"
     ]
    },
    {
     "name": "stderr",
     "output_type": "stream",
     "text": [
      "Validation round: 100%|██████████| 115/115 [00:07<00:00, 15.28batch/s]\n"
     ]
    },
    {
     "name": "stdout",
     "output_type": "stream",
     "text": [
      "Validation dice loss: 0.3845941424369812, IoU Score 0.6810331344604492\n"
     ]
    },
    {
     "name": "stderr",
     "output_type": "stream",
     "text": [
      "Validation round: 100%|██████████| 115/115 [00:07<00:00, 15.37batch/s]\n"
     ]
    },
    {
     "name": "stdout",
     "output_type": "stream",
     "text": [
      "Validation dice loss: 0.3850819170475006, IoU Score 0.6802721619606018\n"
     ]
    },
    {
     "name": "stderr",
     "output_type": "stream",
     "text": [
      "Validation round: 100%|██████████| 115/115 [00:08<00:00, 13.88batch/s]\n"
     ]
    },
    {
     "name": "stdout",
     "output_type": "stream",
     "text": [
      "Validation dice loss: 0.3877878487110138, IoU Score 0.6791670918464661\n"
     ]
    },
    {
     "name": "stderr",
     "output_type": "stream",
     "text": [
      "Epoch 34/60: 100%|██████████| 456/456 [02:01<00:00,  3.76img/s, loss (batch)=0.158]\n",
      "Validation round: 100%|██████████| 115/115 [00:07<00:00, 14.42batch/s]\n"
     ]
    },
    {
     "name": "stdout",
     "output_type": "stream",
     "text": [
      "Validation dice loss: 0.3866671919822693, IoU Score 0.678268313407898\n"
     ]
    },
    {
     "name": "stderr",
     "output_type": "stream",
     "text": [
      "Validation round: 100%|██████████| 115/115 [00:07<00:00, 15.46batch/s]\n"
     ]
    },
    {
     "name": "stdout",
     "output_type": "stream",
     "text": [
      "Validation dice loss: 0.3942470848560333, IoU Score 0.6774019598960876\n"
     ]
    },
    {
     "name": "stderr",
     "output_type": "stream",
     "text": [
      "Validation round: 100%|██████████| 115/115 [00:07<00:00, 15.35batch/s]\n"
     ]
    },
    {
     "name": "stdout",
     "output_type": "stream",
     "text": [
      "Validation dice loss: 0.3869497776031494, IoU Score 0.6821839213371277\n"
     ]
    },
    {
     "name": "stderr",
     "output_type": "stream",
     "text": [
      "Validation round: 100%|██████████| 115/115 [00:08<00:00, 14.08batch/s]\n"
     ]
    },
    {
     "name": "stdout",
     "output_type": "stream",
     "text": [
      "Validation dice loss: 0.3970092535018921, IoU Score 0.6754360795021057\n"
     ]
    },
    {
     "name": "stderr",
     "output_type": "stream",
     "text": [
      "Validation round: 100%|██████████| 115/115 [00:07<00:00, 14.70batch/s]\n"
     ]
    },
    {
     "name": "stdout",
     "output_type": "stream",
     "text": [
      "Validation dice loss: 0.3864462673664093, IoU Score 0.6822428703308105\n"
     ]
    },
    {
     "name": "stderr",
     "output_type": "stream",
     "text": [
      "Epoch 35/60: 100%|██████████| 456/456 [02:00<00:00,  3.79img/s, loss (batch)=0.179]\n",
      "Validation round: 100%|██████████| 115/115 [00:07<00:00, 15.31batch/s]\n"
     ]
    },
    {
     "name": "stdout",
     "output_type": "stream",
     "text": [
      "Validation dice loss: 0.39997032284736633, IoU Score 0.6735295057296753\n"
     ]
    },
    {
     "name": "stderr",
     "output_type": "stream",
     "text": [
      "Validation round: 100%|██████████| 115/115 [00:08<00:00, 14.35batch/s]\n"
     ]
    },
    {
     "name": "stdout",
     "output_type": "stream",
     "text": [
      "Validation dice loss: 0.3850249648094177, IoU Score 0.6811742782592773\n"
     ]
    },
    {
     "name": "stderr",
     "output_type": "stream",
     "text": [
      "Validation round: 100%|██████████| 115/115 [00:07<00:00, 15.31batch/s]\n"
     ]
    },
    {
     "name": "stdout",
     "output_type": "stream",
     "text": [
      "Validation dice loss: 0.3905034363269806, IoU Score 0.6778451800346375\n"
     ]
    },
    {
     "name": "stderr",
     "output_type": "stream",
     "text": [
      "Validation round: 100%|██████████| 115/115 [00:07<00:00, 14.54batch/s]\n"
     ]
    },
    {
     "name": "stdout",
     "output_type": "stream",
     "text": [
      "Validation dice loss: 0.3838127851486206, IoU Score 0.6826054453849792\n"
     ]
    },
    {
     "name": "stderr",
     "output_type": "stream",
     "text": [
      "Validation round: 100%|██████████| 115/115 [00:07<00:00, 15.30batch/s]\n"
     ]
    },
    {
     "name": "stdout",
     "output_type": "stream",
     "text": [
      "Validation dice loss: 0.3848906457424164, IoU Score 0.6804234981536865\n"
     ]
    },
    {
     "name": "stderr",
     "output_type": "stream",
     "text": [
      "Epoch 36/60: 100%|██████████| 456/456 [02:01<00:00,  3.76img/s, loss (batch)=0.184]\n",
      "Validation round: 100%|██████████| 115/115 [00:08<00:00, 13.85batch/s]\n"
     ]
    },
    {
     "name": "stdout",
     "output_type": "stream",
     "text": [
      "Validation dice loss: 0.38994359970092773, IoU Score 0.6778362989425659\n"
     ]
    },
    {
     "name": "stderr",
     "output_type": "stream",
     "text": [
      "Validation round: 100%|██████████| 115/115 [00:07<00:00, 15.24batch/s]\n"
     ]
    },
    {
     "name": "stdout",
     "output_type": "stream",
     "text": [
      "Validation dice loss: 0.3966044783592224, IoU Score 0.6787350177764893\n"
     ]
    },
    {
     "name": "stderr",
     "output_type": "stream",
     "text": [
      "Validation round: 100%|██████████| 115/115 [00:07<00:00, 14.59batch/s]\n"
     ]
    },
    {
     "name": "stdout",
     "output_type": "stream",
     "text": [
      "Validation dice loss: 0.399808406829834, IoU Score 0.6734335422515869\n"
     ]
    },
    {
     "name": "stderr",
     "output_type": "stream",
     "text": [
      "Validation round: 100%|██████████| 115/115 [00:08<00:00, 14.04batch/s]\n"
     ]
    },
    {
     "name": "stdout",
     "output_type": "stream",
     "text": [
      "Validation dice loss: 0.3943979740142822, IoU Score 0.6792049407958984\n"
     ]
    },
    {
     "name": "stderr",
     "output_type": "stream",
     "text": [
      "Validation round: 100%|██████████| 115/115 [00:07<00:00, 14.66batch/s]\n"
     ]
    },
    {
     "name": "stdout",
     "output_type": "stream",
     "text": [
      "Validation dice loss: 0.3978966474533081, IoU Score 0.6776002049446106\n"
     ]
    },
    {
     "name": "stderr",
     "output_type": "stream",
     "text": [
      "Epoch 37/60: 100%|██████████| 456/456 [02:02<00:00,  3.73img/s, loss (batch)=0.557]\n",
      "Validation round: 100%|██████████| 115/115 [00:07<00:00, 15.05batch/s]\n"
     ]
    },
    {
     "name": "stdout",
     "output_type": "stream",
     "text": [
      "Validation dice loss: 0.39726755023002625, IoU Score 0.6786440014839172\n"
     ]
    },
    {
     "name": "stderr",
     "output_type": "stream",
     "text": [
      "Validation round: 100%|██████████| 115/115 [00:07<00:00, 15.10batch/s]\n"
     ]
    },
    {
     "name": "stdout",
     "output_type": "stream",
     "text": [
      "Validation dice loss: 0.3918946385383606, IoU Score 0.6816745400428772\n"
     ]
    },
    {
     "name": "stderr",
     "output_type": "stream",
     "text": [
      "Validation round: 100%|██████████| 115/115 [00:08<00:00, 12.99batch/s]\n"
     ]
    },
    {
     "name": "stdout",
     "output_type": "stream",
     "text": [
      "Validation dice loss: 0.38934919238090515, IoU Score 0.6813520193099976\n"
     ]
    },
    {
     "name": "stderr",
     "output_type": "stream",
     "text": [
      "Validation round: 100%|██████████| 115/115 [00:07<00:00, 15.09batch/s]\n"
     ]
    },
    {
     "name": "stdout",
     "output_type": "stream",
     "text": [
      "Validation dice loss: 0.39098823070526123, IoU Score 0.6795353293418884\n"
     ]
    },
    {
     "name": "stderr",
     "output_type": "stream",
     "text": [
      "Validation round: 100%|██████████| 115/115 [00:07<00:00, 14.85batch/s]\n"
     ]
    },
    {
     "name": "stdout",
     "output_type": "stream",
     "text": [
      "Validation dice loss: 0.39912867546081543, IoU Score 0.6766451001167297\n"
     ]
    },
    {
     "name": "stderr",
     "output_type": "stream",
     "text": [
      "Epoch 38/60: 100%|██████████| 456/456 [02:01<00:00,  3.74img/s, loss (batch)=0.183]\n",
      "Validation round: 100%|██████████| 115/115 [00:07<00:00, 15.11batch/s]\n"
     ]
    },
    {
     "name": "stdout",
     "output_type": "stream",
     "text": [
      "Validation dice loss: 0.40630343556404114, IoU Score 0.6701151728630066\n"
     ]
    },
    {
     "name": "stderr",
     "output_type": "stream",
     "text": [
      "Validation round: 100%|██████████| 115/115 [00:08<00:00, 12.96batch/s]\n"
     ]
    },
    {
     "name": "stdout",
     "output_type": "stream",
     "text": [
      "Validation dice loss: 0.38688841462135315, IoU Score 0.6830947399139404\n"
     ]
    },
    {
     "name": "stderr",
     "output_type": "stream",
     "text": [
      "Validation round: 100%|██████████| 115/115 [00:07<00:00, 15.14batch/s]\n"
     ]
    },
    {
     "name": "stdout",
     "output_type": "stream",
     "text": [
      "Validation dice loss: 0.4304305613040924, IoU Score 0.654633641242981\n"
     ]
    },
    {
     "name": "stderr",
     "output_type": "stream",
     "text": [
      "Validation round: 100%|██████████| 115/115 [00:07<00:00, 15.22batch/s]\n"
     ]
    },
    {
     "name": "stdout",
     "output_type": "stream",
     "text": [
      "Validation dice loss: 0.4037565588951111, IoU Score 0.6745131611824036\n"
     ]
    },
    {
     "name": "stderr",
     "output_type": "stream",
     "text": [
      "Validation round: 100%|██████████| 115/115 [00:08<00:00, 13.45batch/s]\n"
     ]
    },
    {
     "name": "stdout",
     "output_type": "stream",
     "text": [
      "Validation dice loss: 0.4135739505290985, IoU Score 0.6672158241271973\n"
     ]
    },
    {
     "name": "stderr",
     "output_type": "stream",
     "text": [
      "Epoch 39/60: 100%|██████████| 456/456 [02:02<00:00,  3.71img/s, loss (batch)=0.194]\n",
      "Validation round: 100%|██████████| 115/115 [00:08<00:00, 14.36batch/s]\n"
     ]
    },
    {
     "name": "stdout",
     "output_type": "stream",
     "text": [
      "Validation dice loss: 0.41155505180358887, IoU Score 0.667795717716217\n"
     ]
    },
    {
     "name": "stderr",
     "output_type": "stream",
     "text": [
      "Validation round: 100%|██████████| 115/115 [00:07<00:00, 15.17batch/s]\n"
     ]
    },
    {
     "name": "stdout",
     "output_type": "stream",
     "text": [
      "Validation dice loss: 0.38414207100868225, IoU Score 0.6838421821594238\n"
     ]
    },
    {
     "name": "stderr",
     "output_type": "stream",
     "text": [
      "Validation round: 100%|██████████| 115/115 [00:07<00:00, 14.97batch/s]\n"
     ]
    },
    {
     "name": "stdout",
     "output_type": "stream",
     "text": [
      "Validation dice loss: 0.3974570631980896, IoU Score 0.6779385209083557\n"
     ]
    },
    {
     "name": "stderr",
     "output_type": "stream",
     "text": [
      "Validation round: 100%|██████████| 115/115 [00:08<00:00, 13.52batch/s]\n"
     ]
    },
    {
     "name": "stdout",
     "output_type": "stream",
     "text": [
      "Validation dice loss: 0.3829207718372345, IoU Score 0.6846715807914734\n"
     ]
    },
    {
     "name": "stderr",
     "output_type": "stream",
     "text": [
      "Validation round: 100%|██████████| 115/115 [00:07<00:00, 14.73batch/s]\n"
     ]
    },
    {
     "name": "stdout",
     "output_type": "stream",
     "text": [
      "Validation dice loss: 0.4032192826271057, IoU Score 0.6750290393829346\n"
     ]
    },
    {
     "name": "stderr",
     "output_type": "stream",
     "text": [
      "Epoch 40/60: 100%|██████████| 456/456 [02:02<00:00,  3.71img/s, loss (batch)=0.509]\n",
      "Validation round: 100%|██████████| 115/115 [00:08<00:00, 14.34batch/s]\n"
     ]
    },
    {
     "name": "stdout",
     "output_type": "stream",
     "text": [
      "Validation dice loss: 0.40482622385025024, IoU Score 0.6752722263336182\n"
     ]
    },
    {
     "name": "stderr",
     "output_type": "stream",
     "text": [
      "Validation round: 100%|██████████| 115/115 [00:07<00:00, 14.44batch/s]\n"
     ]
    },
    {
     "name": "stdout",
     "output_type": "stream",
     "text": [
      "Validation dice loss: 0.39223337173461914, IoU Score 0.6797371506690979\n"
     ]
    },
    {
     "name": "stderr",
     "output_type": "stream",
     "text": [
      "Validation round: 100%|██████████| 115/115 [00:07<00:00, 14.67batch/s]\n"
     ]
    },
    {
     "name": "stdout",
     "output_type": "stream",
     "text": [
      "Validation dice loss: 0.3856675326824188, IoU Score 0.6832258701324463\n"
     ]
    },
    {
     "name": "stderr",
     "output_type": "stream",
     "text": [
      "Validation round: 100%|██████████| 115/115 [00:07<00:00, 15.10batch/s]\n"
     ]
    },
    {
     "name": "stdout",
     "output_type": "stream",
     "text": [
      "Validation dice loss: 0.4059125781059265, IoU Score 0.6731390953063965\n"
     ]
    },
    {
     "name": "stderr",
     "output_type": "stream",
     "text": [
      "Validation round: 100%|██████████| 115/115 [00:07<00:00, 14.48batch/s]\n"
     ]
    },
    {
     "name": "stdout",
     "output_type": "stream",
     "text": [
      "Validation dice loss: 0.4107604920864105, IoU Score 0.6699057817459106\n"
     ]
    },
    {
     "name": "stderr",
     "output_type": "stream",
     "text": [
      "Epoch 41/60: 100%|██████████| 456/456 [02:01<00:00,  3.75img/s, loss (batch)=0.167]\n",
      "Validation round: 100%|██████████| 115/115 [00:08<00:00, 13.29batch/s]\n"
     ]
    },
    {
     "name": "stdout",
     "output_type": "stream",
     "text": [
      "Validation dice loss: 0.41698285937309265, IoU Score 0.6636130213737488\n"
     ]
    },
    {
     "name": "stderr",
     "output_type": "stream",
     "text": [
      "Validation round: 100%|██████████| 115/115 [00:07<00:00, 15.24batch/s]\n"
     ]
    },
    {
     "name": "stdout",
     "output_type": "stream",
     "text": [
      "Validation dice loss: 0.4066285192966461, IoU Score 0.6716890931129456\n"
     ]
    },
    {
     "name": "stderr",
     "output_type": "stream",
     "text": [
      "Validation round: 100%|██████████| 115/115 [00:07<00:00, 15.04batch/s]\n"
     ]
    },
    {
     "name": "stdout",
     "output_type": "stream",
     "text": [
      "Validation dice loss: 0.3868410587310791, IoU Score 0.6828141808509827\n"
     ]
    },
    {
     "name": "stderr",
     "output_type": "stream",
     "text": [
      "Validation round: 100%|██████████| 115/115 [00:08<00:00, 13.82batch/s]\n"
     ]
    },
    {
     "name": "stdout",
     "output_type": "stream",
     "text": [
      "Validation dice loss: 0.403465211391449, IoU Score 0.6790329217910767\n"
     ]
    },
    {
     "name": "stderr",
     "output_type": "stream",
     "text": [
      "Validation round: 100%|██████████| 115/115 [00:07<00:00, 15.14batch/s]\n"
     ]
    },
    {
     "name": "stdout",
     "output_type": "stream",
     "text": [
      "Validation dice loss: 0.39702653884887695, IoU Score 0.6789887547492981\n"
     ]
    },
    {
     "name": "stderr",
     "output_type": "stream",
     "text": [
      "Epoch 42/60: 100%|██████████| 456/456 [02:02<00:00,  3.72img/s, loss (batch)=0.0832]\n",
      "Validation round: 100%|██████████| 115/115 [00:07<00:00, 15.04batch/s]\n"
     ]
    },
    {
     "name": "stdout",
     "output_type": "stream",
     "text": [
      "Validation dice loss: 0.3861156404018402, IoU Score 0.6857599020004272\n"
     ]
    },
    {
     "name": "stderr",
     "output_type": "stream",
     "text": [
      "Validation round: 100%|██████████| 115/115 [00:07<00:00, 15.35batch/s]\n"
     ]
    },
    {
     "name": "stdout",
     "output_type": "stream",
     "text": [
      "Validation dice loss: 0.4215265214443207, IoU Score 0.6656113862991333\n"
     ]
    },
    {
     "name": "stderr",
     "output_type": "stream",
     "text": [
      "Validation round: 100%|██████████| 115/115 [00:08<00:00, 13.00batch/s]\n"
     ]
    },
    {
     "name": "stdout",
     "output_type": "stream",
     "text": [
      "Validation dice loss: 0.39332541823387146, IoU Score 0.6816930174827576\n"
     ]
    },
    {
     "name": "stderr",
     "output_type": "stream",
     "text": [
      "Validation round: 100%|██████████| 115/115 [00:07<00:00, 15.13batch/s]\n"
     ]
    },
    {
     "name": "stdout",
     "output_type": "stream",
     "text": [
      "Validation dice loss: 0.40425220131874084, IoU Score 0.6730232834815979\n"
     ]
    },
    {
     "name": "stderr",
     "output_type": "stream",
     "text": [
      "Validation round: 100%|██████████| 115/115 [00:07<00:00, 15.07batch/s]\n"
     ]
    },
    {
     "name": "stdout",
     "output_type": "stream",
     "text": [
      "Validation dice loss: 0.38907018303871155, IoU Score 0.6826345920562744\n"
     ]
    },
    {
     "name": "stderr",
     "output_type": "stream",
     "text": [
      "Epoch 43/60: 100%|██████████| 456/456 [02:01<00:00,  3.76img/s, loss (batch)=0.125]\n",
      "Validation round: 100%|██████████| 115/115 [00:08<00:00, 13.93batch/s]\n"
     ]
    },
    {
     "name": "stdout",
     "output_type": "stream",
     "text": [
      "Validation dice loss: 0.40416738390922546, IoU Score 0.6791505813598633\n"
     ]
    },
    {
     "name": "stderr",
     "output_type": "stream",
     "text": [
      "Validation round: 100%|██████████| 115/115 [00:07<00:00, 15.23batch/s]\n"
     ]
    },
    {
     "name": "stdout",
     "output_type": "stream",
     "text": [
      "Validation dice loss: 0.395702064037323, IoU Score 0.6850021481513977\n"
     ]
    },
    {
     "name": "stderr",
     "output_type": "stream",
     "text": [
      "Validation round: 100%|██████████| 115/115 [00:07<00:00, 14.54batch/s]\n"
     ]
    },
    {
     "name": "stdout",
     "output_type": "stream",
     "text": [
      "Validation dice loss: 0.3995746076107025, IoU Score 0.6781703233718872\n"
     ]
    },
    {
     "name": "stderr",
     "output_type": "stream",
     "text": [
      "Validation round: 100%|██████████| 115/115 [00:07<00:00, 15.29batch/s]\n"
     ]
    },
    {
     "name": "stdout",
     "output_type": "stream",
     "text": [
      "Validation dice loss: 0.4039325416088104, IoU Score 0.6762068271636963\n"
     ]
    },
    {
     "name": "stderr",
     "output_type": "stream",
     "text": [
      "Validation round: 100%|██████████| 115/115 [00:08<00:00, 13.44batch/s]\n"
     ]
    },
    {
     "name": "stdout",
     "output_type": "stream",
     "text": [
      "Validation dice loss: 0.4060833156108856, IoU Score 0.674382746219635\n"
     ]
    },
    {
     "name": "stderr",
     "output_type": "stream",
     "text": [
      "Epoch 44/60: 100%|██████████| 456/456 [02:02<00:00,  3.72img/s, loss (batch)=0.235]\n",
      "Validation round: 100%|██████████| 115/115 [00:07<00:00, 14.92batch/s]\n"
     ]
    },
    {
     "name": "stdout",
     "output_type": "stream",
     "text": [
      "Validation dice loss: 0.39765751361846924, IoU Score 0.6818222999572754\n"
     ]
    },
    {
     "name": "stderr",
     "output_type": "stream",
     "text": [
      "Validation round: 100%|██████████| 115/115 [00:08<00:00, 14.36batch/s]\n"
     ]
    },
    {
     "name": "stdout",
     "output_type": "stream",
     "text": [
      "Validation dice loss: 0.3905341327190399, IoU Score 0.6834656000137329\n"
     ]
    },
    {
     "name": "stderr",
     "output_type": "stream",
     "text": [
      "Validation round: 100%|██████████| 115/115 [00:08<00:00, 13.43batch/s]\n"
     ]
    },
    {
     "name": "stdout",
     "output_type": "stream",
     "text": [
      "Validation dice loss: 0.4068443775177002, IoU Score 0.6778417229652405\n"
     ]
    },
    {
     "name": "stderr",
     "output_type": "stream",
     "text": [
      "Validation round: 100%|██████████| 115/115 [00:07<00:00, 15.33batch/s]\n"
     ]
    },
    {
     "name": "stdout",
     "output_type": "stream",
     "text": [
      "Validation dice loss: 0.4031899869441986, IoU Score 0.6781876087188721\n"
     ]
    },
    {
     "name": "stderr",
     "output_type": "stream",
     "text": [
      "Validation round: 100%|██████████| 115/115 [00:07<00:00, 15.09batch/s]\n"
     ]
    },
    {
     "name": "stdout",
     "output_type": "stream",
     "text": [
      "Validation dice loss: 0.40568119287490845, IoU Score 0.6791152954101562\n"
     ]
    },
    {
     "name": "stderr",
     "output_type": "stream",
     "text": [
      "Validation round: 100%|██████████| 115/115 [00:08<00:00, 14.36batch/s]\n",
      "Epoch 45/60: 100%|██████████| 456/456 [02:11<00:00,  3.46img/s, loss (batch)=0.535]\n"
     ]
    },
    {
     "name": "stdout",
     "output_type": "stream",
     "text": [
      "Validation dice loss: 0.3867206275463104, IoU Score 0.6867803931236267\n"
     ]
    },
    {
     "name": "stderr",
     "output_type": "stream",
     "text": [
      "Validation round: 100%|██████████| 115/115 [00:07<00:00, 14.51batch/s]\n"
     ]
    },
    {
     "name": "stdout",
     "output_type": "stream",
     "text": [
      "Validation dice loss: 0.41293856501579285, IoU Score 0.6767756342887878\n"
     ]
    },
    {
     "name": "stderr",
     "output_type": "stream",
     "text": [
      "Validation round: 100%|██████████| 115/115 [00:07<00:00, 14.94batch/s]\n"
     ]
    },
    {
     "name": "stdout",
     "output_type": "stream",
     "text": [
      "Validation dice loss: 0.40005558729171753, IoU Score 0.6807950139045715\n"
     ]
    },
    {
     "name": "stderr",
     "output_type": "stream",
     "text": [
      "Validation round: 100%|██████████| 115/115 [00:07<00:00, 15.17batch/s]\n"
     ]
    },
    {
     "name": "stdout",
     "output_type": "stream",
     "text": [
      "Validation dice loss: 0.410347580909729, IoU Score 0.6741936206817627\n"
     ]
    },
    {
     "name": "stderr",
     "output_type": "stream",
     "text": [
      "Validation round: 100%|██████████| 115/115 [00:09<00:00, 12.46batch/s]\n"
     ]
    },
    {
     "name": "stdout",
     "output_type": "stream",
     "text": [
      "Validation dice loss: 0.3935285806655884, IoU Score 0.6838341355323792\n"
     ]
    },
    {
     "name": "stderr",
     "output_type": "stream",
     "text": [
      "Validation round: 100%|██████████| 115/115 [00:07<00:00, 15.41batch/s]\n"
     ]
    },
    {
     "name": "stdout",
     "output_type": "stream",
     "text": [
      "Validation dice loss: 0.3977672755718231, IoU Score 0.6821067333221436\n"
     ]
    },
    {
     "name": "stderr",
     "output_type": "stream",
     "text": [
      "Epoch 46/60: 100%|██████████| 456/456 [02:01<00:00,  3.75img/s, loss (batch)=0.11]\n",
      "Validation round: 100%|██████████| 115/115 [00:07<00:00, 15.35batch/s]\n"
     ]
    },
    {
     "name": "stdout",
     "output_type": "stream",
     "text": [
      "Validation dice loss: 0.41202133893966675, IoU Score 0.6722805500030518\n"
     ]
    },
    {
     "name": "stderr",
     "output_type": "stream",
     "text": [
      "Validation round: 100%|██████████| 115/115 [00:08<00:00, 14.23batch/s]\n"
     ]
    },
    {
     "name": "stdout",
     "output_type": "stream",
     "text": [
      "Validation dice loss: 0.400804340839386, IoU Score 0.6774582862854004\n"
     ]
    },
    {
     "name": "stderr",
     "output_type": "stream",
     "text": [
      "Validation round: 100%|██████████| 115/115 [00:07<00:00, 15.27batch/s]\n"
     ]
    },
    {
     "name": "stdout",
     "output_type": "stream",
     "text": [
      "Validation dice loss: 0.4068221151828766, IoU Score 0.6784642934799194\n"
     ]
    },
    {
     "name": "stderr",
     "output_type": "stream",
     "text": [
      "Validation round: 100%|██████████| 115/115 [00:08<00:00, 14.23batch/s]\n"
     ]
    },
    {
     "name": "stdout",
     "output_type": "stream",
     "text": [
      "Validation dice loss: 0.39702489972114563, IoU Score 0.6828627586364746\n"
     ]
    },
    {
     "name": "stderr",
     "output_type": "stream",
     "text": [
      "Validation round: 100%|██████████| 115/115 [00:07<00:00, 15.05batch/s]\n"
     ]
    },
    {
     "name": "stdout",
     "output_type": "stream",
     "text": [
      "Validation dice loss: 0.4065612852573395, IoU Score 0.678980827331543\n"
     ]
    },
    {
     "name": "stderr",
     "output_type": "stream",
     "text": [
      "Epoch 47/60: 100%|██████████| 456/456 [02:02<00:00,  3.71img/s, loss (batch)=0.135]\n",
      "Validation round: 100%|██████████| 115/115 [00:08<00:00, 13.26batch/s]\n"
     ]
    },
    {
     "name": "stdout",
     "output_type": "stream",
     "text": [
      "Validation dice loss: 0.3966563940048218, IoU Score 0.6804309487342834\n"
     ]
    },
    {
     "name": "stderr",
     "output_type": "stream",
     "text": [
      "Validation round: 100%|██████████| 115/115 [00:07<00:00, 15.25batch/s]\n"
     ]
    },
    {
     "name": "stdout",
     "output_type": "stream",
     "text": [
      "Validation dice loss: 0.39803096652030945, IoU Score 0.6826555132865906\n"
     ]
    },
    {
     "name": "stderr",
     "output_type": "stream",
     "text": [
      "Validation round: 100%|██████████| 115/115 [00:07<00:00, 14.74batch/s]\n"
     ]
    },
    {
     "name": "stdout",
     "output_type": "stream",
     "text": [
      "Validation dice loss: 0.40736350417137146, IoU Score 0.6769900918006897\n"
     ]
    },
    {
     "name": "stderr",
     "output_type": "stream",
     "text": [
      "Validation round: 100%|██████████| 115/115 [00:08<00:00, 13.06batch/s]\n"
     ]
    },
    {
     "name": "stdout",
     "output_type": "stream",
     "text": [
      "Validation dice loss: 0.41778212785720825, IoU Score 0.6719096302986145\n"
     ]
    },
    {
     "name": "stderr",
     "output_type": "stream",
     "text": [
      "Validation round: 100%|██████████| 115/115 [00:07<00:00, 15.35batch/s]\n"
     ]
    },
    {
     "name": "stdout",
     "output_type": "stream",
     "text": [
      "Validation dice loss: 0.4101698100566864, IoU Score 0.6767157316207886\n"
     ]
    },
    {
     "name": "stderr",
     "output_type": "stream",
     "text": [
      "Epoch 48/60: 100%|██████████| 456/456 [02:02<00:00,  3.73img/s, loss (batch)=0.207]\n",
      "Validation round: 100%|██████████| 115/115 [00:07<00:00, 15.19batch/s]\n"
     ]
    },
    {
     "name": "stdout",
     "output_type": "stream",
     "text": [
      "Validation dice loss: 0.38888901472091675, IoU Score 0.6860809922218323\n"
     ]
    },
    {
     "name": "stderr",
     "output_type": "stream",
     "text": [
      "Validation round: 100%|██████████| 115/115 [00:07<00:00, 14.55batch/s]\n"
     ]
    },
    {
     "name": "stdout",
     "output_type": "stream",
     "text": [
      "Validation dice loss: 0.3958667814731598, IoU Score 0.6836018562316895\n"
     ]
    },
    {
     "name": "stderr",
     "output_type": "stream",
     "text": [
      "Validation round: 100%|██████████| 115/115 [00:07<00:00, 14.48batch/s]\n"
     ]
    },
    {
     "name": "stdout",
     "output_type": "stream",
     "text": [
      "Validation dice loss: 0.40546178817749023, IoU Score 0.6793259978294373\n"
     ]
    },
    {
     "name": "stderr",
     "output_type": "stream",
     "text": [
      "Validation round: 100%|██████████| 115/115 [00:07<00:00, 15.16batch/s]\n"
     ]
    },
    {
     "name": "stdout",
     "output_type": "stream",
     "text": [
      "Validation dice loss: 0.40360769629478455, IoU Score 0.6800020337104797\n"
     ]
    },
    {
     "name": "stderr",
     "output_type": "stream",
     "text": [
      "Validation round: 100%|██████████| 115/115 [00:07<00:00, 15.40batch/s]\n"
     ]
    },
    {
     "name": "stdout",
     "output_type": "stream",
     "text": [
      "Validation dice loss: 0.41235852241516113, IoU Score 0.6759904026985168\n"
     ]
    },
    {
     "name": "stderr",
     "output_type": "stream",
     "text": [
      "Epoch 49/60: 100%|██████████| 456/456 [02:02<00:00,  3.74img/s, loss (batch)=0.118]\n",
      "Validation round: 100%|██████████| 115/115 [00:09<00:00, 12.52batch/s]\n"
     ]
    },
    {
     "name": "stdout",
     "output_type": "stream",
     "text": [
      "Validation dice loss: 0.39654120802879333, IoU Score 0.6835719347000122\n"
     ]
    },
    {
     "name": "stderr",
     "output_type": "stream",
     "text": [
      "Validation round: 100%|██████████| 115/115 [00:07<00:00, 15.26batch/s]\n"
     ]
    },
    {
     "name": "stdout",
     "output_type": "stream",
     "text": [
      "Validation dice loss: 0.3956247866153717, IoU Score 0.682770311832428\n"
     ]
    },
    {
     "name": "stderr",
     "output_type": "stream",
     "text": [
      "Validation round: 100%|██████████| 115/115 [00:07<00:00, 15.36batch/s]\n"
     ]
    },
    {
     "name": "stdout",
     "output_type": "stream",
     "text": [
      "Validation dice loss: 0.4335693120956421, IoU Score 0.665664792060852\n"
     ]
    },
    {
     "name": "stderr",
     "output_type": "stream",
     "text": [
      "Validation round: 100%|██████████| 115/115 [00:08<00:00, 13.33batch/s]\n"
     ]
    },
    {
     "name": "stdout",
     "output_type": "stream",
     "text": [
      "Validation dice loss: 0.40482309460639954, IoU Score 0.6788818836212158\n"
     ]
    },
    {
     "name": "stderr",
     "output_type": "stream",
     "text": [
      "Validation round: 100%|██████████| 115/115 [00:07<00:00, 15.11batch/s]\n"
     ]
    },
    {
     "name": "stdout",
     "output_type": "stream",
     "text": [
      "Validation dice loss: 0.40706464648246765, IoU Score 0.6799696683883667\n"
     ]
    },
    {
     "name": "stderr",
     "output_type": "stream",
     "text": [
      "Epoch 50/60: 100%|██████████| 456/456 [02:02<00:00,  3.73img/s, loss (batch)=0.178]\n",
      "Validation round: 100%|██████████| 115/115 [00:07<00:00, 14.62batch/s]\n"
     ]
    },
    {
     "name": "stdout",
     "output_type": "stream",
     "text": [
      "Validation dice loss: 0.42115291953086853, IoU Score 0.6732196807861328\n"
     ]
    },
    {
     "name": "stderr",
     "output_type": "stream",
     "text": [
      "Validation round: 100%|██████████| 115/115 [00:07<00:00, 15.37batch/s]\n"
     ]
    },
    {
     "name": "stdout",
     "output_type": "stream",
     "text": [
      "Validation dice loss: 0.4089750647544861, IoU Score 0.6785055994987488\n"
     ]
    },
    {
     "name": "stderr",
     "output_type": "stream",
     "text": [
      "Validation round: 100%|██████████| 115/115 [00:07<00:00, 14.56batch/s]\n"
     ]
    },
    {
     "name": "stdout",
     "output_type": "stream",
     "text": [
      "Validation dice loss: 0.46195897459983826, IoU Score 0.6482846736907959\n"
     ]
    },
    {
     "name": "stderr",
     "output_type": "stream",
     "text": [
      "Validation round: 100%|██████████| 115/115 [00:07<00:00, 15.41batch/s]\n"
     ]
    },
    {
     "name": "stdout",
     "output_type": "stream",
     "text": [
      "Validation dice loss: 0.42301687598228455, IoU Score 0.6704012751579285\n"
     ]
    },
    {
     "name": "stderr",
     "output_type": "stream",
     "text": [
      "Validation round: 100%|██████████| 115/115 [00:08<00:00, 14.33batch/s]\n"
     ]
    },
    {
     "name": "stdout",
     "output_type": "stream",
     "text": [
      "Validation dice loss: 0.43361955881118774, IoU Score 0.6647489070892334\n"
     ]
    },
    {
     "name": "stderr",
     "output_type": "stream",
     "text": [
      "Epoch 51/60: 100%|██████████| 456/456 [02:02<00:00,  3.74img/s, loss (batch)=0.138]\n",
      "Validation round: 100%|██████████| 115/115 [00:08<00:00, 13.03batch/s]\n"
     ]
    },
    {
     "name": "stdout",
     "output_type": "stream",
     "text": [
      "Validation dice loss: 0.42094916105270386, IoU Score 0.669671893119812\n"
     ]
    },
    {
     "name": "stderr",
     "output_type": "stream",
     "text": [
      "Validation round: 100%|██████████| 115/115 [00:07<00:00, 15.07batch/s]\n"
     ]
    },
    {
     "name": "stdout",
     "output_type": "stream",
     "text": [
      "Validation dice loss: 0.4011496901512146, IoU Score 0.6812848448753357\n"
     ]
    },
    {
     "name": "stderr",
     "output_type": "stream",
     "text": [
      "Validation round: 100%|██████████| 115/115 [00:07<00:00, 15.03batch/s]\n"
     ]
    },
    {
     "name": "stdout",
     "output_type": "stream",
     "text": [
      "Validation dice loss: 0.4161987602710724, IoU Score 0.6779908537864685\n"
     ]
    },
    {
     "name": "stderr",
     "output_type": "stream",
     "text": [
      "Validation round: 100%|██████████| 115/115 [00:08<00:00, 13.25batch/s]\n"
     ]
    },
    {
     "name": "stdout",
     "output_type": "stream",
     "text": [
      "Validation dice loss: 0.4010876715183258, IoU Score 0.6821355223655701\n"
     ]
    },
    {
     "name": "stderr",
     "output_type": "stream",
     "text": [
      "Validation round: 100%|██████████| 115/115 [00:07<00:00, 14.87batch/s]\n"
     ]
    },
    {
     "name": "stdout",
     "output_type": "stream",
     "text": [
      "Validation dice loss: 0.4290207624435425, IoU Score 0.670432984828949\n"
     ]
    },
    {
     "name": "stderr",
     "output_type": "stream",
     "text": [
      "Epoch 52/60: 100%|██████████| 456/456 [02:04<00:00,  3.65img/s, loss (batch)=0.126]\n",
      "Validation round: 100%|██████████| 115/115 [00:07<00:00, 15.07batch/s]\n"
     ]
    },
    {
     "name": "stdout",
     "output_type": "stream",
     "text": [
      "Validation dice loss: 0.4013288617134094, IoU Score 0.6823840737342834\n"
     ]
    },
    {
     "name": "stderr",
     "output_type": "stream",
     "text": [
      "Validation round: 100%|██████████| 115/115 [00:07<00:00, 14.93batch/s]\n"
     ]
    },
    {
     "name": "stdout",
     "output_type": "stream",
     "text": [
      "Validation dice loss: 0.42247775197029114, IoU Score 0.6739007830619812\n"
     ]
    },
    {
     "name": "stderr",
     "output_type": "stream",
     "text": [
      "Validation round: 100%|██████████| 115/115 [00:08<00:00, 13.47batch/s]\n"
     ]
    },
    {
     "name": "stdout",
     "output_type": "stream",
     "text": [
      "Validation dice loss: 0.4280166029930115, IoU Score 0.6696434617042542\n"
     ]
    },
    {
     "name": "stderr",
     "output_type": "stream",
     "text": [
      "Validation round: 100%|██████████| 115/115 [00:08<00:00, 14.21batch/s]\n"
     ]
    },
    {
     "name": "stdout",
     "output_type": "stream",
     "text": [
      "Validation dice loss: 0.43064776062965393, IoU Score 0.6694161891937256\n"
     ]
    },
    {
     "name": "stderr",
     "output_type": "stream",
     "text": [
      "Validation round: 100%|██████████| 115/115 [00:07<00:00, 15.06batch/s]\n"
     ]
    },
    {
     "name": "stdout",
     "output_type": "stream",
     "text": [
      "Validation dice loss: 0.4037596881389618, IoU Score 0.6807867288589478\n"
     ]
    },
    {
     "name": "stderr",
     "output_type": "stream",
     "text": [
      "Epoch 53/60: 100%|██████████| 456/456 [02:03<00:00,  3.70img/s, loss (batch)=0.0983]\n",
      "Validation round: 100%|██████████| 115/115 [00:08<00:00, 12.87batch/s]\n"
     ]
    },
    {
     "name": "stdout",
     "output_type": "stream",
     "text": [
      "Validation dice loss: 0.39845743775367737, IoU Score 0.6852735877037048\n"
     ]
    },
    {
     "name": "stderr",
     "output_type": "stream",
     "text": [
      "Validation round: 100%|██████████| 115/115 [00:07<00:00, 14.98batch/s]\n"
     ]
    },
    {
     "name": "stdout",
     "output_type": "stream",
     "text": [
      "Validation dice loss: 0.4100266098976135, IoU Score 0.6815468668937683\n"
     ]
    },
    {
     "name": "stderr",
     "output_type": "stream",
     "text": [
      "Validation round: 100%|██████████| 115/115 [00:08<00:00, 14.30batch/s]\n"
     ]
    },
    {
     "name": "stdout",
     "output_type": "stream",
     "text": [
      "Validation dice loss: 0.4139772355556488, IoU Score 0.6786973476409912\n"
     ]
    },
    {
     "name": "stderr",
     "output_type": "stream",
     "text": [
      "Validation round: 100%|██████████| 115/115 [00:07<00:00, 15.02batch/s]\n"
     ]
    },
    {
     "name": "stdout",
     "output_type": "stream",
     "text": [
      "Validation dice loss: 0.40502113103866577, IoU Score 0.6804668307304382\n"
     ]
    },
    {
     "name": "stderr",
     "output_type": "stream",
     "text": [
      "Validation round: 100%|██████████| 115/115 [00:07<00:00, 14.84batch/s]\n"
     ]
    },
    {
     "name": "stdout",
     "output_type": "stream",
     "text": [
      "Validation dice loss: 0.40613678097724915, IoU Score 0.6824635863304138\n"
     ]
    },
    {
     "name": "stderr",
     "output_type": "stream",
     "text": [
      "Epoch 54/60: 100%|██████████| 456/456 [02:04<00:00,  3.67img/s, loss (batch)=0.124]\n",
      "Validation round: 100%|██████████| 115/115 [00:07<00:00, 15.34batch/s]\n"
     ]
    },
    {
     "name": "stdout",
     "output_type": "stream",
     "text": [
      "Validation dice loss: 0.41769376397132874, IoU Score 0.6749184131622314\n"
     ]
    },
    {
     "name": "stderr",
     "output_type": "stream",
     "text": [
      "Validation round: 100%|██████████| 115/115 [00:07<00:00, 15.04batch/s]\n"
     ]
    },
    {
     "name": "stdout",
     "output_type": "stream",
     "text": [
      "Validation dice loss: 0.417796790599823, IoU Score 0.677676260471344\n"
     ]
    },
    {
     "name": "stderr",
     "output_type": "stream",
     "text": [
      "Validation round: 100%|██████████| 115/115 [00:08<00:00, 12.97batch/s]\n"
     ]
    },
    {
     "name": "stdout",
     "output_type": "stream",
     "text": [
      "Validation dice loss: 0.40714868903160095, IoU Score 0.6796441078186035\n"
     ]
    },
    {
     "name": "stderr",
     "output_type": "stream",
     "text": [
      "Validation round: 100%|██████████| 115/115 [00:07<00:00, 15.31batch/s]\n"
     ]
    },
    {
     "name": "stdout",
     "output_type": "stream",
     "text": [
      "Validation dice loss: 0.40870219469070435, IoU Score 0.6809768080711365\n"
     ]
    },
    {
     "name": "stderr",
     "output_type": "stream",
     "text": [
      "Validation round: 100%|██████████| 115/115 [00:07<00:00, 15.31batch/s]\n"
     ]
    },
    {
     "name": "stdout",
     "output_type": "stream",
     "text": [
      "Validation dice loss: 0.4139076769351959, IoU Score 0.676218569278717\n"
     ]
    },
    {
     "name": "stderr",
     "output_type": "stream",
     "text": [
      "Epoch 55/60: 100%|██████████| 456/456 [02:01<00:00,  3.74img/s, loss (batch)=0.15]\n",
      "Validation round: 100%|██████████| 115/115 [00:08<00:00, 12.92batch/s]\n"
     ]
    },
    {
     "name": "stdout",
     "output_type": "stream",
     "text": [
      "Validation dice loss: 0.41375797986984253, IoU Score 0.678131639957428\n"
     ]
    },
    {
     "name": "stderr",
     "output_type": "stream",
     "text": [
      "Validation round: 100%|██████████| 115/115 [00:07<00:00, 14.62batch/s]\n"
     ]
    },
    {
     "name": "stdout",
     "output_type": "stream",
     "text": [
      "Validation dice loss: 0.4013449251651764, IoU Score 0.6835252046585083\n"
     ]
    },
    {
     "name": "stderr",
     "output_type": "stream",
     "text": [
      "Validation round: 100%|██████████| 115/115 [00:07<00:00, 15.37batch/s]\n"
     ]
    },
    {
     "name": "stdout",
     "output_type": "stream",
     "text": [
      "Validation dice loss: 0.40978559851646423, IoU Score 0.681501030921936\n"
     ]
    },
    {
     "name": "stderr",
     "output_type": "stream",
     "text": [
      "Validation round: 100%|██████████| 115/115 [00:08<00:00, 13.77batch/s]\n"
     ]
    },
    {
     "name": "stdout",
     "output_type": "stream",
     "text": [
      "Validation dice loss: 0.41518378257751465, IoU Score 0.6791719794273376\n"
     ]
    },
    {
     "name": "stderr",
     "output_type": "stream",
     "text": [
      "Validation round: 100%|██████████| 115/115 [00:07<00:00, 15.11batch/s]\n"
     ]
    },
    {
     "name": "stdout",
     "output_type": "stream",
     "text": [
      "Validation dice loss: 0.4347909688949585, IoU Score 0.6655864715576172\n"
     ]
    },
    {
     "name": "stderr",
     "output_type": "stream",
     "text": [
      "Epoch 56/60: 100%|██████████| 456/456 [02:03<00:00,  3.69img/s, loss (batch)=0.0967]\n",
      "Validation round: 100%|██████████| 115/115 [00:08<00:00, 14.35batch/s]\n"
     ]
    },
    {
     "name": "stdout",
     "output_type": "stream",
     "text": [
      "Validation dice loss: 0.4262727200984955, IoU Score 0.6739476323127747\n"
     ]
    },
    {
     "name": "stderr",
     "output_type": "stream",
     "text": [
      "Validation round: 100%|██████████| 115/115 [00:07<00:00, 15.22batch/s]\n"
     ]
    },
    {
     "name": "stdout",
     "output_type": "stream",
     "text": [
      "Validation dice loss: 0.40384194254875183, IoU Score 0.6842577457427979\n"
     ]
    },
    {
     "name": "stderr",
     "output_type": "stream",
     "text": [
      "Validation round: 100%|██████████| 115/115 [00:08<00:00, 14.30batch/s]\n"
     ]
    },
    {
     "name": "stdout",
     "output_type": "stream",
     "text": [
      "Validation dice loss: 0.42774054408073425, IoU Score 0.6714911460876465\n"
     ]
    },
    {
     "name": "stderr",
     "output_type": "stream",
     "text": [
      "Validation round: 100%|██████████| 115/115 [00:07<00:00, 15.12batch/s]\n"
     ]
    },
    {
     "name": "stdout",
     "output_type": "stream",
     "text": [
      "Validation dice loss: 0.4175306260585785, IoU Score 0.6777955889701843\n"
     ]
    },
    {
     "name": "stderr",
     "output_type": "stream",
     "text": [
      "Validation round: 100%|██████████| 115/115 [00:07<00:00, 15.13batch/s]\n"
     ]
    },
    {
     "name": "stdout",
     "output_type": "stream",
     "text": [
      "Validation dice loss: 0.4410085678100586, IoU Score 0.6638922691345215\n"
     ]
    },
    {
     "name": "stderr",
     "output_type": "stream",
     "text": [
      "Epoch 57/60: 100%|██████████| 456/456 [02:02<00:00,  3.72img/s, loss (batch)=0.165]\n",
      "Validation round: 100%|██████████| 115/115 [00:08<00:00, 12.80batch/s]\n"
     ]
    },
    {
     "name": "stdout",
     "output_type": "stream",
     "text": [
      "Validation dice loss: 0.4535917341709137, IoU Score 0.6593615412712097\n"
     ]
    },
    {
     "name": "stderr",
     "output_type": "stream",
     "text": [
      "Validation round: 100%|██████████| 115/115 [00:07<00:00, 15.30batch/s]\n"
     ]
    },
    {
     "name": "stdout",
     "output_type": "stream",
     "text": [
      "Validation dice loss: 0.4426786005496979, IoU Score 0.6629700660705566\n"
     ]
    },
    {
     "name": "stderr",
     "output_type": "stream",
     "text": [
      "Validation round: 100%|██████████| 115/115 [00:07<00:00, 15.39batch/s]\n"
     ]
    },
    {
     "name": "stdout",
     "output_type": "stream",
     "text": [
      "Validation dice loss: 0.4062625765800476, IoU Score 0.6822161078453064\n"
     ]
    },
    {
     "name": "stderr",
     "output_type": "stream",
     "text": [
      "Validation round: 100%|██████████| 115/115 [00:08<00:00, 13.21batch/s]\n"
     ]
    },
    {
     "name": "stdout",
     "output_type": "stream",
     "text": [
      "Validation dice loss: 0.4384019672870636, IoU Score 0.6716185808181763\n"
     ]
    },
    {
     "name": "stderr",
     "output_type": "stream",
     "text": [
      "Validation round: 100%|██████████| 115/115 [00:08<00:00, 14.37batch/s]\n"
     ]
    },
    {
     "name": "stdout",
     "output_type": "stream",
     "text": [
      "Validation dice loss: 0.44585442543029785, IoU Score 0.6636850237846375\n"
     ]
    },
    {
     "name": "stderr",
     "output_type": "stream",
     "text": [
      "Epoch 58/60: 100%|██████████| 456/456 [02:03<00:00,  3.70img/s, loss (batch)=0.114]\n",
      "Validation round: 100%|██████████| 115/115 [00:07<00:00, 15.30batch/s]\n"
     ]
    },
    {
     "name": "stdout",
     "output_type": "stream",
     "text": [
      "Validation dice loss: 0.4106840491294861, IoU Score 0.6790761351585388\n"
     ]
    },
    {
     "name": "stderr",
     "output_type": "stream",
     "text": [
      "Validation round: 100%|██████████| 115/115 [00:08<00:00, 13.61batch/s]\n"
     ]
    },
    {
     "name": "stdout",
     "output_type": "stream",
     "text": [
      "Validation dice loss: 0.4096485376358032, IoU Score 0.6810126900672913\n"
     ]
    },
    {
     "name": "stderr",
     "output_type": "stream",
     "text": [
      "Validation round: 100%|██████████| 115/115 [00:07<00:00, 15.20batch/s]\n"
     ]
    },
    {
     "name": "stdout",
     "output_type": "stream",
     "text": [
      "Validation dice loss: 0.4157925248146057, IoU Score 0.6787728071212769\n"
     ]
    },
    {
     "name": "stderr",
     "output_type": "stream",
     "text": [
      "Validation round: 100%|██████████| 115/115 [00:07<00:00, 14.43batch/s]\n"
     ]
    },
    {
     "name": "stdout",
     "output_type": "stream",
     "text": [
      "Validation dice loss: 0.42317995429039, IoU Score 0.6780135631561279\n"
     ]
    },
    {
     "name": "stderr",
     "output_type": "stream",
     "text": [
      "Validation round: 100%|██████████| 115/115 [00:08<00:00, 14.29batch/s]\n"
     ]
    },
    {
     "name": "stdout",
     "output_type": "stream",
     "text": [
      "Validation dice loss: 0.4434715509414673, IoU Score 0.6637157201766968\n"
     ]
    },
    {
     "name": "stderr",
     "output_type": "stream",
     "text": [
      "Epoch 59/60: 100%|██████████| 456/456 [02:03<00:00,  3.70img/s, loss (batch)=0.0946]\n",
      "Validation round: 100%|██████████| 115/115 [00:07<00:00, 15.20batch/s]\n"
     ]
    },
    {
     "name": "stdout",
     "output_type": "stream",
     "text": [
      "Validation dice loss: 0.4086948335170746, IoU Score 0.6816674470901489\n"
     ]
    },
    {
     "name": "stderr",
     "output_type": "stream",
     "text": [
      "Validation round: 100%|██████████| 115/115 [00:07<00:00, 15.26batch/s]\n"
     ]
    },
    {
     "name": "stdout",
     "output_type": "stream",
     "text": [
      "Validation dice loss: 0.42775654792785645, IoU Score 0.6698571443557739\n"
     ]
    },
    {
     "name": "stderr",
     "output_type": "stream",
     "text": [
      "Validation round: 100%|██████████| 115/115 [00:07<00:00, 15.19batch/s]\n"
     ]
    },
    {
     "name": "stdout",
     "output_type": "stream",
     "text": [
      "Validation dice loss: 0.41190028190612793, IoU Score 0.6798830032348633\n"
     ]
    },
    {
     "name": "stderr",
     "output_type": "stream",
     "text": [
      "Validation round: 100%|██████████| 115/115 [00:08<00:00, 14.31batch/s]\n"
     ]
    },
    {
     "name": "stdout",
     "output_type": "stream",
     "text": [
      "Validation dice loss: 0.416790634393692, IoU Score 0.680435836315155\n"
     ]
    },
    {
     "name": "stderr",
     "output_type": "stream",
     "text": [
      "Validation round: 100%|██████████| 115/115 [00:07<00:00, 15.29batch/s]\n"
     ]
    },
    {
     "name": "stdout",
     "output_type": "stream",
     "text": [
      "Validation dice loss: 0.42194223403930664, IoU Score 0.6723204851150513\n"
     ]
    },
    {
     "name": "stderr",
     "output_type": "stream",
     "text": [
      "Validation round: 100%|██████████| 115/115 [00:07<00:00, 15.40batch/s]\n"
     ]
    },
    {
     "name": "stdout",
     "output_type": "stream",
     "text": [
      "Validation dice loss: 0.42842721939086914, IoU Score 0.6713554263114929\n"
     ]
    },
    {
     "name": "stderr",
     "output_type": "stream",
     "text": [
      "Epoch 60/60: 100%|██████████| 456/456 [02:11<00:00,  3.46img/s, loss (batch)=0.173]\n"
     ]
    }
   ],
   "source": [
    "model = UNext_S(input_channels=3, num_classes=1, img_size=512)\n",
    "\n",
    "device = torch.device('cuda' if torch.cuda.is_available() else 'cpu')\n",
    "if torch.cuda.device_count() > 1:\n",
    "    print(\"Let's use\", torch.cuda.device_count(), \"GPUs!\")\n",
    "    model = nn.DataParallel(model)\n",
    "\n",
    "model = model.to(memory_format=torch.channels_last)\n",
    "model.to(device)\n",
    "total_params = sum(p.numel() for p in model.parameters())\n",
    "print(f\"U-Next_S模型参数量为：{total_params}\")\n",
    "print(\"其详情为：\")\n",
    "for name,parameters in model.named_parameters():\n",
    "    print(name,':',parameters.size())\n",
    "    \n",
    "train(model, device, project='U-Next')\n"
   ]
  }
 ],
 "metadata": {
  "kaggle": {
   "accelerator": "none",
   "dataSources": [
    {
     "datasetId": 3664633,
     "sourceId": 6361775,
     "sourceType": "datasetVersion"
    }
   ],
   "dockerImageVersionId": 30235,
   "isGpuEnabled": false,
   "isInternetEnabled": true,
   "language": "python",
   "sourceType": "notebook"
  },
  "kernelspec": {
   "display_name": "Python 3",
   "language": "python",
   "name": "python3"
  },
  "language_info": {
   "codemirror_mode": {
    "name": "ipython",
    "version": 3
   },
   "file_extension": ".py",
   "mimetype": "text/x-python",
   "name": "python",
   "nbconvert_exporter": "python",
   "pygments_lexer": "ipython3",
   "version": "3.7.12"
  },
  "papermill": {
   "default_parameters": {},
   "duration": 7403.769663,
   "end_time": "2023-12-17T19:19:03.319331",
   "environment_variables": {},
   "exception": null,
   "input_path": "__notebook__.ipynb",
   "output_path": "__notebook__.ipynb",
   "parameters": {},
   "start_time": "2023-12-17T17:15:39.549668",
   "version": "2.3.4"
  },
  "widgets": {
   "application/vnd.jupyter.widget-state+json": {
    "state": {
     "1c753ee6b15d4e36ade2189e5fea562d": {
      "model_module": "@jupyter-widgets/controls",
      "model_module_version": "1.5.0",
      "model_name": "LabelModel",
      "state": {
       "_dom_classes": [],
       "_model_module": "@jupyter-widgets/controls",
       "_model_module_version": "1.5.0",
       "_model_name": "LabelModel",
       "_view_count": null,
       "_view_module": "@jupyter-widgets/controls",
       "_view_module_version": "1.5.0",
       "_view_name": "LabelView",
       "description": "",
       "description_tooltip": null,
       "layout": "IPY_MODEL_4ed97d4e747b4d98b00982cd90baadb8",
       "placeholder": "​",
       "style": "IPY_MODEL_904b258bb41f43b2a6d51ef5d427a1aa",
       "value": ""
      }
     },
     "2b95000285f74abe934676b9ff8ad5a7": {
      "model_module": "@jupyter-widgets/controls",
      "model_module_version": "1.5.0",
      "model_name": "FloatProgressModel",
      "state": {
       "_dom_classes": [],
       "_model_module": "@jupyter-widgets/controls",
       "_model_module_version": "1.5.0",
       "_model_name": "FloatProgressModel",
       "_view_count": null,
       "_view_module": "@jupyter-widgets/controls",
       "_view_module_version": "1.5.0",
       "_view_name": "ProgressView",
       "bar_style": "",
       "description": "",
       "description_tooltip": null,
       "layout": "IPY_MODEL_aac9a476e50a49e99e66528a4eb2e4a1",
       "max": 1.0,
       "min": 0.0,
       "orientation": "horizontal",
       "style": "IPY_MODEL_bd8f68cb7066438f9a1c8adc4d0f44aa",
       "value": 0.0
      }
     },
     "4ed97d4e747b4d98b00982cd90baadb8": {
      "model_module": "@jupyter-widgets/base",
      "model_module_version": "1.2.0",
      "model_name": "LayoutModel",
      "state": {
       "_model_module": "@jupyter-widgets/base",
       "_model_module_version": "1.2.0",
       "_model_name": "LayoutModel",
       "_view_count": null,
       "_view_module": "@jupyter-widgets/base",
       "_view_module_version": "1.2.0",
       "_view_name": "LayoutView",
       "align_content": null,
       "align_items": null,
       "align_self": null,
       "border": null,
       "bottom": null,
       "display": null,
       "flex": null,
       "flex_flow": null,
       "grid_area": null,
       "grid_auto_columns": null,
       "grid_auto_flow": null,
       "grid_auto_rows": null,
       "grid_column": null,
       "grid_gap": null,
       "grid_row": null,
       "grid_template_areas": null,
       "grid_template_columns": null,
       "grid_template_rows": null,
       "height": null,
       "justify_content": null,
       "justify_items": null,
       "left": null,
       "margin": null,
       "max_height": null,
       "max_width": null,
       "min_height": null,
       "min_width": null,
       "object_fit": null,
       "object_position": null,
       "order": null,
       "overflow": null,
       "overflow_x": null,
       "overflow_y": null,
       "padding": null,
       "right": null,
       "top": null,
       "visibility": null,
       "width": null
      }
     },
     "904b258bb41f43b2a6d51ef5d427a1aa": {
      "model_module": "@jupyter-widgets/controls",
      "model_module_version": "1.5.0",
      "model_name": "DescriptionStyleModel",
      "state": {
       "_model_module": "@jupyter-widgets/controls",
       "_model_module_version": "1.5.0",
       "_model_name": "DescriptionStyleModel",
       "_view_count": null,
       "_view_module": "@jupyter-widgets/base",
       "_view_module_version": "1.2.0",
       "_view_name": "StyleView",
       "description_width": ""
      }
     },
     "a38eb8643cf84ae7a4ad64908cd71ca6": {
      "model_module": "@jupyter-widgets/controls",
      "model_module_version": "1.5.0",
      "model_name": "VBoxModel",
      "state": {
       "_dom_classes": [],
       "_model_module": "@jupyter-widgets/controls",
       "_model_module_version": "1.5.0",
       "_model_name": "VBoxModel",
       "_view_count": null,
       "_view_module": "@jupyter-widgets/controls",
       "_view_module_version": "1.5.0",
       "_view_name": "VBoxView",
       "box_style": "",
       "children": [
        "IPY_MODEL_1c753ee6b15d4e36ade2189e5fea562d",
        "IPY_MODEL_2b95000285f74abe934676b9ff8ad5a7"
       ],
       "layout": "IPY_MODEL_fb9115da7f57403f83f5a79da07c1e7c"
      }
     },
     "aac9a476e50a49e99e66528a4eb2e4a1": {
      "model_module": "@jupyter-widgets/base",
      "model_module_version": "1.2.0",
      "model_name": "LayoutModel",
      "state": {
       "_model_module": "@jupyter-widgets/base",
       "_model_module_version": "1.2.0",
       "_model_name": "LayoutModel",
       "_view_count": null,
       "_view_module": "@jupyter-widgets/base",
       "_view_module_version": "1.2.0",
       "_view_name": "LayoutView",
       "align_content": null,
       "align_items": null,
       "align_self": null,
       "border": null,
       "bottom": null,
       "display": null,
       "flex": null,
       "flex_flow": null,
       "grid_area": null,
       "grid_auto_columns": null,
       "grid_auto_flow": null,
       "grid_auto_rows": null,
       "grid_column": null,
       "grid_gap": null,
       "grid_row": null,
       "grid_template_areas": null,
       "grid_template_columns": null,
       "grid_template_rows": null,
       "height": null,
       "justify_content": null,
       "justify_items": null,
       "left": null,
       "margin": null,
       "max_height": null,
       "max_width": null,
       "min_height": null,
       "min_width": null,
       "object_fit": null,
       "object_position": null,
       "order": null,
       "overflow": null,
       "overflow_x": null,
       "overflow_y": null,
       "padding": null,
       "right": null,
       "top": null,
       "visibility": null,
       "width": null
      }
     },
     "bd8f68cb7066438f9a1c8adc4d0f44aa": {
      "model_module": "@jupyter-widgets/controls",
      "model_module_version": "1.5.0",
      "model_name": "ProgressStyleModel",
      "state": {
       "_model_module": "@jupyter-widgets/controls",
       "_model_module_version": "1.5.0",
       "_model_name": "ProgressStyleModel",
       "_view_count": null,
       "_view_module": "@jupyter-widgets/base",
       "_view_module_version": "1.2.0",
       "_view_name": "StyleView",
       "bar_color": null,
       "description_width": ""
      }
     },
     "fb9115da7f57403f83f5a79da07c1e7c": {
      "model_module": "@jupyter-widgets/base",
      "model_module_version": "1.2.0",
      "model_name": "LayoutModel",
      "state": {
       "_model_module": "@jupyter-widgets/base",
       "_model_module_version": "1.2.0",
       "_model_name": "LayoutModel",
       "_view_count": null,
       "_view_module": "@jupyter-widgets/base",
       "_view_module_version": "1.2.0",
       "_view_name": "LayoutView",
       "align_content": null,
       "align_items": null,
       "align_self": null,
       "border": null,
       "bottom": null,
       "display": null,
       "flex": null,
       "flex_flow": null,
       "grid_area": null,
       "grid_auto_columns": null,
       "grid_auto_flow": null,
       "grid_auto_rows": null,
       "grid_column": null,
       "grid_gap": null,
       "grid_row": null,
       "grid_template_areas": null,
       "grid_template_columns": null,
       "grid_template_rows": null,
       "height": null,
       "justify_content": null,
       "justify_items": null,
       "left": null,
       "margin": null,
       "max_height": null,
       "max_width": null,
       "min_height": null,
       "min_width": null,
       "object_fit": null,
       "object_position": null,
       "order": null,
       "overflow": null,
       "overflow_x": null,
       "overflow_y": null,
       "padding": null,
       "right": null,
       "top": null,
       "visibility": null,
       "width": null
      }
     }
    },
    "version_major": 2,
    "version_minor": 0
   }
  }
 },
 "nbformat": 4,
 "nbformat_minor": 5
}
