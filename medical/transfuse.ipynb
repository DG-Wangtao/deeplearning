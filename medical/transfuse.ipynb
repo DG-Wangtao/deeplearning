{
 "cells": [
  {
   "cell_type": "markdown",
   "id": "2b7e2c99",
   "metadata": {
    "_cell_guid": "b1076dfc-b9ad-4769-8c92-a6c4dae69d19",
    "_uuid": "8f2839f25d086af736a60e9eeb907d3b93b6e0e5",
    "papermill": {
     "duration": 0.005685,
     "end_time": "2023-10-16T18:17:42.020611",
     "exception": false,
     "start_time": "2023-10-16T18:17:42.014926",
     "status": "completed"
    },
    "tags": []
   },
   "source": [
    "# Transfuse"
   ]
  },
  {
   "cell_type": "markdown",
   "id": "0836105b",
   "metadata": {
    "papermill": {
     "duration": 0.005068,
     "end_time": "2023-10-16T18:17:42.031107",
     "exception": false,
     "start_time": "2023-10-16T18:17:42.026039",
     "status": "completed"
    },
    "tags": []
   },
   "source": [
    "> https://github.com/Rayicer/TransFuse"
   ]
  },
  {
   "cell_type": "code",
   "execution_count": 1,
   "id": "d466d955",
   "metadata": {
    "execution": {
     "iopub.execute_input": "2023-10-16T18:17:42.043513Z",
     "iopub.status.busy": "2023-10-16T18:17:42.043210Z",
     "iopub.status.idle": "2023-10-16T18:17:42.053167Z",
     "shell.execute_reply": "2023-10-16T18:17:42.052321Z"
    },
    "papermill": {
     "duration": 0.018513,
     "end_time": "2023-10-16T18:17:42.054931",
     "exception": false,
     "start_time": "2023-10-16T18:17:42.036418",
     "status": "completed"
    },
    "tags": []
   },
   "outputs": [],
   "source": [
    "%config Completer.use_jedi = False"
   ]
  },
  {
   "cell_type": "markdown",
   "id": "5acd992e",
   "metadata": {
    "papermill": {
     "duration": 0.005403,
     "end_time": "2023-10-16T18:17:42.065855",
     "exception": false,
     "start_time": "2023-10-16T18:17:42.060452",
     "status": "completed"
    },
    "tags": []
   },
   "source": [
    "## 引入依赖包"
   ]
  },
  {
   "cell_type": "code",
   "execution_count": 2,
   "id": "f134fd1f",
   "metadata": {
    "execution": {
     "iopub.execute_input": "2023-10-16T18:17:42.078345Z",
     "iopub.status.busy": "2023-10-16T18:17:42.077426Z",
     "iopub.status.idle": "2023-10-16T18:17:56.895324Z",
     "shell.execute_reply": "2023-10-16T18:17:56.894284Z"
    },
    "papermill": {
     "duration": 14.826482,
     "end_time": "2023-10-16T18:17:56.897493",
     "exception": false,
     "start_time": "2023-10-16T18:17:42.071011",
     "status": "completed"
    },
    "tags": []
   },
   "outputs": [
    {
     "name": "stdout",
     "output_type": "stream",
     "text": [
      "Requirement already satisfied: scipy in /opt/conda/lib/python3.10/site-packages (1.11.2)\r\n",
      "Requirement already satisfied: scikit-image in /opt/conda/lib/python3.10/site-packages (0.21.0)\r\n",
      "Requirement already satisfied: torch in /opt/conda/lib/python3.10/site-packages (2.0.0)\r\n",
      "Requirement already satisfied: torchvision in /opt/conda/lib/python3.10/site-packages (0.15.1)\r\n",
      "Collecting pathlib\r\n",
      "  Downloading pathlib-1.0.1-py3-none-any.whl (14 kB)\r\n",
      "Requirement already satisfied: wandb in /opt/conda/lib/python3.10/site-packages (0.15.9)\r\n",
      "Collecting segmentation-models-pytorch\r\n",
      "  Downloading segmentation_models_pytorch-0.3.3-py3-none-any.whl (106 kB)\r\n",
      "\u001b[2K     \u001b[90m━━━━━━━━━━━━━━━━━━━━━━━━━━━━━━━━━━━━━━━\u001b[0m \u001b[32m106.7/106.7 kB\u001b[0m \u001b[31m6.4 MB/s\u001b[0m eta \u001b[36m0:00:00\u001b[0m\r\n",
      "\u001b[?25hRequirement already satisfied: timm in /opt/conda/lib/python3.10/site-packages (0.9.7)\r\n",
      "Requirement already satisfied: numpy<1.28.0,>=1.21.6 in /opt/conda/lib/python3.10/site-packages (from scipy) (1.23.5)\r\n",
      "Requirement already satisfied: networkx>=2.8 in /opt/conda/lib/python3.10/site-packages (from scikit-image) (3.1)\r\n",
      "Requirement already satisfied: pillow>=9.0.1 in /opt/conda/lib/python3.10/site-packages (from scikit-image) (9.5.0)\r\n",
      "Requirement already satisfied: imageio>=2.27 in /opt/conda/lib/python3.10/site-packages (from scikit-image) (2.31.1)\r\n",
      "Requirement already satisfied: tifffile>=2022.8.12 in /opt/conda/lib/python3.10/site-packages (from scikit-image) (2023.4.12)\r\n",
      "Requirement already satisfied: PyWavelets>=1.1.1 in /opt/conda/lib/python3.10/site-packages (from scikit-image) (1.4.1)\r\n",
      "Requirement already satisfied: packaging>=21 in /opt/conda/lib/python3.10/site-packages (from scikit-image) (21.3)\r\n",
      "Requirement already satisfied: lazy_loader>=0.2 in /opt/conda/lib/python3.10/site-packages (from scikit-image) (0.2)\r\n",
      "Requirement already satisfied: filelock in /opt/conda/lib/python3.10/site-packages (from torch) (3.12.2)\r\n",
      "Requirement already satisfied: typing-extensions in /opt/conda/lib/python3.10/site-packages (from torch) (4.6.3)\r\n",
      "Requirement already satisfied: sympy in /opt/conda/lib/python3.10/site-packages (from torch) (1.12)\r\n",
      "Requirement already satisfied: jinja2 in /opt/conda/lib/python3.10/site-packages (from torch) (3.1.2)\r\n",
      "Requirement already satisfied: requests in /opt/conda/lib/python3.10/site-packages (from torchvision) (2.31.0)\r\n",
      "Requirement already satisfied: Click!=8.0.0,>=7.1 in /opt/conda/lib/python3.10/site-packages (from wandb) (8.1.7)\r\n",
      "Requirement already satisfied: GitPython!=3.1.29,>=1.0.0 in /opt/conda/lib/python3.10/site-packages (from wandb) (3.1.31)\r\n",
      "Requirement already satisfied: psutil>=5.0.0 in /opt/conda/lib/python3.10/site-packages (from wandb) (5.9.3)\r\n",
      "Requirement already satisfied: sentry-sdk>=1.0.0 in /opt/conda/lib/python3.10/site-packages (from wandb) (1.30.0)\r\n",
      "Requirement already satisfied: docker-pycreds>=0.4.0 in /opt/conda/lib/python3.10/site-packages (from wandb) (0.4.0)\r\n",
      "Requirement already satisfied: PyYAML in /opt/conda/lib/python3.10/site-packages (from wandb) (6.0)\r\n",
      "Requirement already satisfied: pathtools in /opt/conda/lib/python3.10/site-packages (from wandb) (0.1.2)\r\n",
      "Requirement already satisfied: setproctitle in /opt/conda/lib/python3.10/site-packages (from wandb) (1.3.2)\r\n",
      "Requirement already satisfied: setuptools in /opt/conda/lib/python3.10/site-packages (from wandb) (68.0.0)\r\n",
      "Requirement already satisfied: appdirs>=1.4.3 in /opt/conda/lib/python3.10/site-packages (from wandb) (1.4.4)\r\n",
      "Requirement already satisfied: protobuf!=4.21.0,<5,>=3.19.0 in /opt/conda/lib/python3.10/site-packages (from wandb) (3.20.3)\r\n",
      "Collecting pretrainedmodels==0.7.4 (from segmentation-models-pytorch)\r\n",
      "  Downloading pretrainedmodels-0.7.4.tar.gz (58 kB)\r\n",
      "\u001b[2K     \u001b[90m━━━━━━━━━━━━━━━━━━━━━━━━━━━━━━━━━━━━━━━━\u001b[0m \u001b[32m58.8/58.8 kB\u001b[0m \u001b[31m6.2 MB/s\u001b[0m eta \u001b[36m0:00:00\u001b[0m\r\n",
      "\u001b[?25h  Preparing metadata (setup.py) ... \u001b[?25l-\b \bdone\r\n",
      "\u001b[?25hCollecting efficientnet-pytorch==0.7.1 (from segmentation-models-pytorch)\r\n",
      "  Downloading efficientnet_pytorch-0.7.1.tar.gz (21 kB)\r\n",
      "  Preparing metadata (setup.py) ... \u001b[?25ldone\r\n",
      "\u001b[?25hCollecting timm\r\n",
      "  Downloading timm-0.9.2-py3-none-any.whl (2.2 MB)\r\n",
      "\u001b[2K     \u001b[90m━━━━━━━━━━━━━━━━━━━━━━━━━━━━━━━━━━━━━━━━\u001b[0m \u001b[32m2.2/2.2 MB\u001b[0m \u001b[31m58.3 MB/s\u001b[0m eta \u001b[36m0:00:00\u001b[0m\r\n",
      "\u001b[?25hRequirement already satisfied: tqdm in /opt/conda/lib/python3.10/site-packages (from segmentation-models-pytorch) (4.66.1)\r\n",
      "Requirement already satisfied: huggingface-hub in /opt/conda/lib/python3.10/site-packages (from timm) (0.16.4)\r\n",
      "Requirement already satisfied: safetensors in /opt/conda/lib/python3.10/site-packages (from timm) (0.3.3)\r\n",
      "Collecting munch (from pretrainedmodels==0.7.4->segmentation-models-pytorch)\r\n",
      "  Downloading munch-4.0.0-py2.py3-none-any.whl (9.9 kB)\r\n",
      "Requirement already satisfied: six>=1.4.0 in /opt/conda/lib/python3.10/site-packages (from docker-pycreds>=0.4.0->wandb) (1.16.0)\r\n",
      "Requirement already satisfied: gitdb<5,>=4.0.1 in /opt/conda/lib/python3.10/site-packages (from GitPython!=3.1.29,>=1.0.0->wandb) (4.0.10)\r\n",
      "Requirement already satisfied: pyparsing!=3.0.5,>=2.0.2 in /opt/conda/lib/python3.10/site-packages (from packaging>=21->scikit-image) (3.0.9)\r\n",
      "Requirement already satisfied: charset-normalizer<4,>=2 in /opt/conda/lib/python3.10/site-packages (from requests->torchvision) (3.1.0)\r\n",
      "Requirement already satisfied: idna<4,>=2.5 in /opt/conda/lib/python3.10/site-packages (from requests->torchvision) (3.4)\r\n",
      "Requirement already satisfied: urllib3<3,>=1.21.1 in /opt/conda/lib/python3.10/site-packages (from requests->torchvision) (1.26.15)\r\n",
      "Requirement already satisfied: certifi>=2017.4.17 in /opt/conda/lib/python3.10/site-packages (from requests->torchvision) (2023.7.22)\r\n",
      "Requirement already satisfied: fsspec in /opt/conda/lib/python3.10/site-packages (from huggingface-hub->timm) (2023.9.0)\r\n",
      "Requirement already satisfied: MarkupSafe>=2.0 in /opt/conda/lib/python3.10/site-packages (from jinja2->torch) (2.1.3)\r\n",
      "Requirement already satisfied: mpmath>=0.19 in /opt/conda/lib/python3.10/site-packages (from sympy->torch) (1.3.0)\r\n",
      "Requirement already satisfied: smmap<6,>=3.0.1 in /opt/conda/lib/python3.10/site-packages (from gitdb<5,>=4.0.1->GitPython!=3.1.29,>=1.0.0->wandb) (5.0.0)\r\n",
      "Building wheels for collected packages: efficientnet-pytorch, pretrainedmodels\r\n",
      "  Building wheel for efficientnet-pytorch (setup.py) ... \u001b[?25l-\b \bdone\r\n",
      "\u001b[?25h  Created wheel for efficientnet-pytorch: filename=efficientnet_pytorch-0.7.1-py3-none-any.whl size=16427 sha256=1c727987bf853958be27853c59121e3649580c3af6b4c35518259658dc13bc19\r\n",
      "  Stored in directory: /root/.cache/pip/wheels/03/3f/e9/911b1bc46869644912bda90a56bcf7b960f20b5187feea3baf\r\n",
      "  Building wheel for pretrainedmodels (setup.py) ... \u001b[?25l-\b \b\\\b \bdone\r\n",
      "\u001b[?25h  Created wheel for pretrainedmodels: filename=pretrainedmodels-0.7.4-py3-none-any.whl size=60945 sha256=fece86aed13df9321a57574ed5be266223d8a69e73c9d658a154c5c7f6c4681c\r\n",
      "  Stored in directory: /root/.cache/pip/wheels/35/cb/a5/8f534c60142835bfc889f9a482e4a67e0b817032d9c6883b64\r\n",
      "Successfully built efficientnet-pytorch pretrainedmodels\r\n",
      "Installing collected packages: pathlib, munch, efficientnet-pytorch, timm, pretrainedmodels, segmentation-models-pytorch\r\n",
      "  Attempting uninstall: timm\r\n",
      "    Found existing installation: timm 0.9.7\r\n",
      "    Uninstalling timm-0.9.7:\r\n",
      "      Successfully uninstalled timm-0.9.7\r\n",
      "Successfully installed efficientnet-pytorch-0.7.1 munch-4.0.0 pathlib-1.0.1 pretrainedmodels-0.7.4 segmentation-models-pytorch-0.3.3 timm-0.9.2\r\n"
     ]
    }
   ],
   "source": [
    "!pip install scipy scikit-image torch torchvision pathlib wandb segmentation-models-pytorch timm"
   ]
  },
  {
   "cell_type": "code",
   "execution_count": 3,
   "id": "9fe6bb9d",
   "metadata": {
    "execution": {
     "iopub.execute_input": "2023-10-16T18:17:56.913210Z",
     "iopub.status.busy": "2023-10-16T18:17:56.912350Z",
     "iopub.status.idle": "2023-10-16T18:18:01.740704Z",
     "shell.execute_reply": "2023-10-16T18:18:01.739815Z"
    },
    "papermill": {
     "duration": 4.838177,
     "end_time": "2023-10-16T18:18:01.742811",
     "exception": false,
     "start_time": "2023-10-16T18:17:56.904634",
     "status": "completed"
    },
    "tags": []
   },
   "outputs": [],
   "source": [
    "import os\n",
    "import random\n",
    "import pandas as pd\n",
    "import numpy as np\n",
    "import matplotlib.pyplot as plt\n",
    "plt.style.use(\"ggplot\")\n",
    "%matplotlib inline\n",
    "\n",
    "import torch\n",
    "import torch.nn as nn\n",
    "from torchvision import models, transforms\n",
    "from torch.nn.functional import relu, pad\n",
    "from torch.utils.data import Dataset, DataLoader, random_split\n",
    "\n",
    "from PIL import Image\n",
    "from typing import Tuple\n",
    "from pathlib import Path\n",
    "\n",
    "import torch\n",
    "from torch import nn, Tensor\n",
    "import torch.nn.functional as F\n",
    "import torch.optim as optim\n",
    "\n",
    "from tqdm import tqdm\n",
    "import wandb\n",
    "import logging"
   ]
  },
  {
   "cell_type": "markdown",
   "id": "658ba808",
   "metadata": {
    "papermill": {
     "duration": 0.00648,
     "end_time": "2023-10-16T18:18:01.756224",
     "exception": false,
     "start_time": "2023-10-16T18:18:01.749744",
     "status": "completed"
    },
    "tags": []
   },
   "source": [
    "## 设置wandb账号\n",
    "用作统计与数据分析"
   ]
  },
  {
   "cell_type": "code",
   "execution_count": 4,
   "id": "28e5fd68",
   "metadata": {
    "execution": {
     "iopub.execute_input": "2023-10-16T18:18:01.771660Z",
     "iopub.status.busy": "2023-10-16T18:18:01.770717Z",
     "iopub.status.idle": "2023-10-16T18:18:01.775322Z",
     "shell.execute_reply": "2023-10-16T18:18:01.774509Z"
    },
    "papermill": {
     "duration": 0.013956,
     "end_time": "2023-10-16T18:18:01.777017",
     "exception": false,
     "start_time": "2023-10-16T18:18:01.763061",
     "status": "completed"
    },
    "tags": []
   },
   "outputs": [],
   "source": [
    "os.environ['WANDB_API_KEY']='d561f1229ba7c4e207ca34042f29a43552a7447e'\n",
    "# !wandb login"
   ]
  },
  {
   "cell_type": "markdown",
   "id": "58c73110",
   "metadata": {
    "papermill": {
     "duration": 0.006353,
     "end_time": "2023-10-16T18:18:01.789905",
     "exception": false,
     "start_time": "2023-10-16T18:18:01.783552",
     "status": "completed"
    },
    "tags": []
   },
   "source": [
    "## DataSet"
   ]
  },
  {
   "cell_type": "markdown",
   "id": "b911d353",
   "metadata": {
    "papermill": {
     "duration": 0.0063,
     "end_time": "2023-10-16T18:18:01.802614",
     "exception": false,
     "start_time": "2023-10-16T18:18:01.796314",
     "status": "completed"
    },
    "tags": []
   },
   "source": [
    "### 数据集定义"
   ]
  },
  {
   "cell_type": "code",
   "execution_count": 5,
   "id": "74424c29",
   "metadata": {
    "execution": {
     "iopub.execute_input": "2023-10-16T18:18:01.817085Z",
     "iopub.status.busy": "2023-10-16T18:18:01.816821Z",
     "iopub.status.idle": "2023-10-16T18:18:01.825044Z",
     "shell.execute_reply": "2023-10-16T18:18:01.824085Z"
    },
    "papermill": {
     "duration": 0.017932,
     "end_time": "2023-10-16T18:18:01.826963",
     "exception": false,
     "start_time": "2023-10-16T18:18:01.809031",
     "status": "completed"
    },
    "tags": []
   },
   "outputs": [],
   "source": [
    "# TODO: image和mask名称不一样时跳过\n",
    "class APODataSet(Dataset):\n",
    "    # 格式不对的异常数据\n",
    "    invalid_img = [10, 184, 185]\n",
    "    def __init__(self, img_dir, mask_dir: str, size, channels = 3) -> None:\n",
    "        # 获取所有图片路径\n",
    "        self.img_paths = list(Path(img_dir).glob(\"*\"))\n",
    "        self.mask_paths = list(Path(mask_dir).glob(\"*\"))\n",
    "        for idx in self.invalid_img:\n",
    "            del self.img_paths[idx]\n",
    "            del self.mask_paths[idx]\n",
    "        \n",
    "        \n",
    "        transformers = [\n",
    "            transforms.Resize(size),\n",
    "            transforms.ToTensor()\n",
    "        ]\n",
    "        if channels == 1:\n",
    "            transformers.insert(0, transforms.Grayscale(num_output_channels=1))\n",
    "\n",
    "        # 设置 transforms\n",
    "        self.transform = transforms.Compose(transformers)\n",
    "#         self.transform = transforms.Compose([transforms.PILToTensor()])\n",
    "\n",
    "    # 使用函数加载原始图像\n",
    "    def load_orig_image(self, index: int) -> Image.Image:\n",
    "        \"Opens an image via a path and returns it.\"\n",
    "        image_path = self.img_paths[index]\n",
    "        return Image.open(image_path) \n",
    "    \n",
    "    # 使用函数加载tmask图像\n",
    "    def load_mask_image(self, index: int) -> Image.Image:\n",
    "        \"Opens an image via a path and returns it.\"\n",
    "        image_path = self.mask_paths[index]\n",
    "        return Image.open(image_path) \n",
    "\n",
    "    #  重写 __len__() 方法 (optional but recommended for subclasses of torch.utils.data.Dataset)\n",
    "    def __len__(self) -> int:\n",
    "        \"Returns the total number of samples.\"\n",
    "        return len(self.img_paths)\n",
    "\n",
    "    # 重写 __getitem__() 方法 (required for subclasses of torch.utils.data.Dataset)\n",
    "    def __getitem__(self, index: int) -> Tuple[torch.Tensor, torch.Tensor]:\n",
    "        \"Returns one sample of data, image and mask (X, y).\"\n",
    "        orig_img = self.load_orig_image(index)\n",
    "        mask_img = self.load_mask_image(index)\n",
    "        \n",
    "        orig_img = self.transform(orig_img)\n",
    "        mask_img = self.transform(mask_img)\n",
    "#         mask_img = mask_img[0]\n",
    "#         if orig_img.size()[0] != 3:\n",
    "#             print(\"{}: orig_img size: {}\".format(index,orig_img.size()))\n",
    "#             return None\n",
    "        # return data, mask (X, y)\n",
    "        return orig_img, mask_img\n"
   ]
  },
  {
   "cell_type": "markdown",
   "id": "7046a5f3",
   "metadata": {
    "papermill": {
     "duration": 0.009051,
     "end_time": "2023-10-16T18:18:01.842614",
     "exception": false,
     "start_time": "2023-10-16T18:18:01.833563",
     "status": "completed"
    },
    "tags": []
   },
   "source": [
    "## 加载数据集"
   ]
  },
  {
   "cell_type": "code",
   "execution_count": 6,
   "id": "64a0fd83",
   "metadata": {
    "execution": {
     "iopub.execute_input": "2023-10-16T18:18:01.857575Z",
     "iopub.status.busy": "2023-10-16T18:18:01.857057Z",
     "iopub.status.idle": "2023-10-16T18:18:02.087188Z",
     "shell.execute_reply": "2023-10-16T18:18:02.086220Z"
    },
    "papermill": {
     "duration": 0.239865,
     "end_time": "2023-10-16T18:18:02.089047",
     "exception": false,
     "start_time": "2023-10-16T18:18:01.849182",
     "status": "completed"
    },
    "tags": []
   },
   "outputs": [
    {
     "name": "stdout",
     "output_type": "stream",
     "text": [
      "dataset info\n",
      "total: 571, train_size: 456, validate_size: 115\n"
     ]
    }
   ],
   "source": [
    "dataset =  APODataSet(img_dir = \"/kaggle/input/dltrack/apo_images\",\n",
    "                      mask_dir = \"/kaggle/input/dltrack/apo_masks\",\n",
    "                      size=[192, 256])\n",
    "\n",
    "total = len(dataset)\n",
    "train_size = int(0.8*total)\n",
    "validate_size = total - train_size\n",
    "train_data, validate_data = random_split(dataset, [train_size, validate_size])\n",
    "print(\"dataset info\\ntotal: {}, train_size: {}, validate_size: {}\".format(total, len(train_data), len(validate_data)))\n",
    "\n",
    "trainloader = DataLoader(dataset=train_data,\n",
    "                                     batch_size=2,\n",
    "                                     num_workers=0,\n",
    "                                     shuffle=True)\n",
    "\n",
    "valloader = DataLoader(dataset=validate_data,\n",
    "                                    batch_size=1, \n",
    "                                    num_workers=0, \n",
    "                                    shuffle=False)"
   ]
  },
  {
   "cell_type": "markdown",
   "id": "5476f46d",
   "metadata": {
    "papermill": {
     "duration": 0.007367,
     "end_time": "2023-10-16T18:18:02.103795",
     "exception": false,
     "start_time": "2023-10-16T18:18:02.096428",
     "status": "completed"
    },
    "tags": []
   },
   "source": [
    "### 检查异常图片\n",
    "要把找到的异常数据去除"
   ]
  },
  {
   "cell_type": "code",
   "execution_count": 7,
   "id": "f8bd0451",
   "metadata": {
    "execution": {
     "iopub.execute_input": "2023-10-16T18:18:02.119391Z",
     "iopub.status.busy": "2023-10-16T18:18:02.118481Z",
     "iopub.status.idle": "2023-10-16T18:18:13.158438Z",
     "shell.execute_reply": "2023-10-16T18:18:13.157332Z"
    },
    "papermill": {
     "duration": 11.049527,
     "end_time": "2023-10-16T18:18:13.160334",
     "exception": false,
     "start_time": "2023-10-16T18:18:02.110807",
     "status": "completed"
    },
    "tags": []
   },
   "outputs": [
    {
     "name": "stdout",
     "output_type": "stream",
     "text": [
      "[done]\n"
     ]
    }
   ],
   "source": [
    "for index in range(len(dataset)):\n",
    "    orig_img, mask_img = dataset[index]\n",
    "    if orig_img.size()[0] != 3:\n",
    "        print(\"{}: orig_img size: {}\".format(index,orig_img.size()))\n",
    "print(\"[done]\")"
   ]
  },
  {
   "cell_type": "markdown",
   "id": "24838b68",
   "metadata": {
    "papermill": {
     "duration": 0.006831,
     "end_time": "2023-10-16T18:18:13.174071",
     "exception": false,
     "start_time": "2023-10-16T18:18:13.167240",
     "status": "completed"
    },
    "tags": []
   },
   "source": [
    "### 随机显示一张原始图片和其对应的标记图片"
   ]
  },
  {
   "cell_type": "code",
   "execution_count": 8,
   "id": "3f57ec96",
   "metadata": {
    "execution": {
     "iopub.execute_input": "2023-10-16T18:18:13.189456Z",
     "iopub.status.busy": "2023-10-16T18:18:13.188877Z",
     "iopub.status.idle": "2023-10-16T18:18:13.734662Z",
     "shell.execute_reply": "2023-10-16T18:18:13.733804Z"
    },
    "papermill": {
     "duration": 0.557561,
     "end_time": "2023-10-16T18:18:13.738505",
     "exception": false,
     "start_time": "2023-10-16T18:18:13.180944",
     "status": "completed"
    },
    "tags": []
   },
   "outputs": [
    {
     "name": "stdout",
     "output_type": "stream",
     "text": [
      "torch.Size([3, 192, 256])\n",
      "showing image of 444: \n"
     ]
    },
    {
     "data": {
      "image/png": "[encoded data removed]",
      "text/plain": [
       "<Figure size 1500x1200 with 2 Axes>"
      ]
     },
     "metadata": {},
     "output_type": "display_data"
    }
   ],
   "source": [
    "idx = random.randint(0, len(dataset))\n",
    "orig_img, mask_img = dataset[idx]\n",
    "print(orig_img.size())\n",
    "\n",
    "transform = transforms.ToPILImage()\n",
    "print(\"showing image of {}: \".format(idx))\n",
    "\n",
    "orig_img = transform(orig_img)\n",
    "mask_img = transform(mask_img)\n",
    "\n",
    "fig, (ax1, ax2) = plt.subplots(1, 2, figsize = (15, 12))\n",
    "\n",
    "ax1.imshow(orig_img)\n",
    "ax1.set_title(\"origin_img\")\n",
    "\n",
    "ax2.imshow(mask_img)\n",
    "ax2.set_title(\"mask_img\")\n",
    "\n",
    "plt.show()"
   ]
  },
  {
   "cell_type": "markdown",
   "id": "a8cd4ebb",
   "metadata": {
    "papermill": {
     "duration": 0.00922,
     "end_time": "2023-10-16T18:18:13.757473",
     "exception": false,
     "start_time": "2023-10-16T18:18:13.748253",
     "status": "completed"
    },
    "tags": []
   },
   "source": [
    "## Transfuse\n",
    "> https://github.com/Rayicer/TransFuse"
   ]
  },
  {
   "cell_type": "markdown",
   "id": "0b85f6f3",
   "metadata": {
    "papermill": {
     "duration": 0.009886,
     "end_time": "2023-10-16T18:18:13.776572",
     "exception": false,
     "start_time": "2023-10-16T18:18:13.766686",
     "status": "completed"
    },
    "tags": []
   },
   "source": [
    "### transformer.py"
   ]
  },
  {
   "cell_type": "code",
   "execution_count": 9,
   "id": "741f74ac",
   "metadata": {
    "execution": {
     "iopub.execute_input": "2023-10-16T18:18:13.797558Z",
     "iopub.status.busy": "2023-10-16T18:18:13.797257Z",
     "iopub.status.idle": "2023-10-16T18:18:14.145033Z",
     "shell.execute_reply": "2023-10-16T18:18:14.144120Z"
    },
    "papermill": {
     "duration": 0.360767,
     "end_time": "2023-10-16T18:18:14.147137",
     "exception": false,
     "start_time": "2023-10-16T18:18:13.786370",
     "status": "completed"
    },
    "tags": []
   },
   "outputs": [],
   "source": [
    "\n",
    "import torch\n",
    "import torch.nn as nn\n",
    "from functools import partial\n",
    "\n",
    "from timm.data import IMAGENET_DEFAULT_MEAN, IMAGENET_DEFAULT_STD\n",
    "from timm.models.helpers import load_pretrained\n",
    "\n",
    "from timm.models.registry import register_model\n",
    "from timm.models.layers import DropPath, to_2tuple, trunc_normal_\n",
    "\n",
    "\n",
    "class Mlp(nn.Module):\n",
    "    def __init__(self, in_features, hidden_features=None, out_features=None, act_layer=nn.GELU, drop=0.):\n",
    "        super().__init__()\n",
    "        out_features = out_features or in_features\n",
    "        hidden_features = hidden_features or in_features\n",
    "        self.fc1 = nn.Linear(in_features, hidden_features)\n",
    "        self.act = act_layer()\n",
    "        self.fc2 = nn.Linear(hidden_features, out_features)\n",
    "        self.drop = nn.Dropout(drop)\n",
    "\n",
    "    def forward(self, x):\n",
    "        x = self.fc1(x)\n",
    "        x = self.act(x)\n",
    "        x = self.drop(x)\n",
    "        x = self.fc2(x)\n",
    "        x = self.drop(x)\n",
    "        return x\n",
    "\n",
    "\n",
    "class Attention(nn.Module):\n",
    "    def __init__(self, dim, num_heads=8, qkv_bias=False, qk_scale=None, attn_drop=0., proj_drop=0.):\n",
    "        super().__init__()\n",
    "        self.num_heads = num_heads\n",
    "        head_dim = dim // num_heads\n",
    "        # NOTE scale factor was wrong in my original version, can set manually to be compat with prev weights\n",
    "        self.scale = qk_scale or head_dim ** -0.5\n",
    "\n",
    "        self.qkv = nn.Linear(dim, dim * 3, bias=qkv_bias)\n",
    "        self.attn_drop = nn.Dropout(attn_drop)\n",
    "        self.proj = nn.Linear(dim, dim)\n",
    "        self.proj_drop = nn.Dropout(proj_drop)\n",
    "\n",
    "    def forward(self, x):\n",
    "        B, N, C = x.shape\n",
    "        qkv = self.qkv(x).reshape(B, N, 3, self.num_heads, C // self.num_heads).permute(2, 0, 3, 1, 4)\n",
    "        q, k, v = qkv[0], qkv[1], qkv[2]   # make torchscript happy (cannot use tensor as tuple)\n",
    "\n",
    "        attn = (q @ k.transpose(-2, -1)) * self.scale\n",
    "        attn = attn.softmax(dim=-1)\n",
    "        attn = self.attn_drop(attn)\n",
    "\n",
    "        x = (attn @ v).transpose(1, 2).reshape(B, N, C)\n",
    "        x = self.proj(x)\n",
    "        x = self.proj_drop(x)\n",
    "        return x\n",
    "\n",
    "\n",
    "class Block(nn.Module):\n",
    "\n",
    "    def __init__(self, dim, num_heads, mlp_ratio=4., qkv_bias=False, qk_scale=None, drop=0., attn_drop=0.,\n",
    "                 drop_path=0., act_layer=nn.GELU, norm_layer=nn.LayerNorm):\n",
    "        super().__init__()\n",
    "        self.norm1 = norm_layer(dim)\n",
    "        self.attn = Attention(\n",
    "            dim, num_heads=num_heads, qkv_bias=qkv_bias, qk_scale=qk_scale, attn_drop=attn_drop, proj_drop=drop)\n",
    "        # NOTE: drop path for stochastic depth, we shall see if this is better than dropout here\n",
    "        self.drop_path = DropPath(drop_path) if drop_path > 0. else nn.Identity()\n",
    "        self.norm2 = norm_layer(dim)\n",
    "        mlp_hidden_dim = int(dim * mlp_ratio)\n",
    "        self.mlp = Mlp(in_features=dim, hidden_features=mlp_hidden_dim, act_layer=act_layer, drop=drop)\n",
    "\n",
    "    def forward(self, x):\n",
    "        x = x + self.drop_path(self.attn(self.norm1(x)))\n",
    "        x = x + self.drop_path(self.mlp(self.norm2(x)))\n",
    "        return x\n",
    "\n",
    "\n",
    "class PatchEmbed(nn.Module):\n",
    "    \"\"\" Image to Patch Embedding\n",
    "    \"\"\"\n",
    "    def __init__(self, img_size=224, patch_size=2, in_chans=3, embed_dim=768):\n",
    "        super().__init__()\n",
    "        img_size = to_2tuple(img_size)\n",
    "        patch_size = to_2tuple(patch_size)\n",
    "        num_patches = (img_size[1] // patch_size[1]) * (img_size[0] // patch_size[0])\n",
    "        self.img_size = img_size\n",
    "        self.patch_size = patch_size\n",
    "        self.num_patches = num_patches\n",
    "\n",
    "        self.proj = nn.Conv2d(in_chans, embed_dim, kernel_size=patch_size, stride=patch_size)\n",
    "\n",
    "    def forward(self, x):\n",
    "        B, C, H, W = x.shape\n",
    "\n",
    "        # FIXME look at relaxing size constraints\n",
    "        #assert H == self.img_size[0] and W == self.img_size[1], \\\n",
    "        #    f\"Input image size ({H}*{W}) doesn't match model ({self.img_size[0]}*{self.img_size[1]}).\"\n",
    "        x = self.proj(x).flatten(2).transpose(1, 2)\n",
    "        return x\n",
    "\n",
    "\n",
    "\n",
    "class VisionTransformer(nn.Module):\n",
    "    \"\"\" Vision Transformer with support for patch or hybrid CNN input stage\n",
    "    \"\"\"\n",
    "    def __init__(self, img_size=224, patch_size=2, in_chans=3, num_classes=1000, embed_dim=768, depth=12,\n",
    "                 num_heads=12, mlp_ratio=4., qkv_bias=False, qk_scale=None, drop_rate=0., attn_drop_rate=0.,\n",
    "                 drop_path_rate=0., hybrid_backbone=None, norm_layer=nn.LayerNorm):\n",
    "        super().__init__()\n",
    "        self.num_classes = num_classes\n",
    "        self.num_features = self.embed_dim = embed_dim  # num_features for consistency with other models\n",
    "\n",
    "        if hybrid_backbone is not None:\n",
    "            self.patch_embed = HybridEmbed(\n",
    "                hybrid_backbone, img_size=img_size, in_chans=in_chans, embed_dim=embed_dim)\n",
    "        else:\n",
    "            self.patch_embed = PatchEmbed(\n",
    "                img_size=img_size, patch_size=patch_size, in_chans=in_chans, embed_dim=embed_dim)\n",
    "        num_patches = self.patch_embed.num_patches\n",
    "\n",
    "        self.cls_token = nn.Parameter(torch.zeros(1, 1, embed_dim))\n",
    "        self.pos_embed = nn.Parameter(torch.zeros(1, num_patches + 1, embed_dim))\n",
    "        self.pos_drop = nn.Dropout(p=drop_rate)\n",
    "\n",
    "        dpr = [x.item() for x in torch.linspace(0, drop_path_rate, depth)]  # stochastic depth decay rule\n",
    "        self.blocks = nn.ModuleList([\n",
    "            Block(\n",
    "                dim=embed_dim, num_heads=num_heads, mlp_ratio=mlp_ratio, qkv_bias=qkv_bias, qk_scale=qk_scale,\n",
    "                drop=drop_rate, attn_drop=attn_drop_rate, drop_path=dpr[i], norm_layer=norm_layer)\n",
    "            for i in range(depth)])\n",
    "        self.norm = norm_layer(embed_dim)\n",
    "\n",
    "        # NOTE as per official impl, we could have a pre-logits representation dense layer + tanh here\n",
    "        #self.repr = nn.Linear(embed_dim, representation_size)\n",
    "        #self.repr_act = nn.Tanh()\n",
    "\n",
    "        # Classifier head\n",
    "        self.head = nn.Linear(embed_dim, num_classes) if num_classes > 0 else nn.Identity()\n",
    "\n",
    "        trunc_normal_(self.pos_embed, std=.02)\n",
    "        trunc_normal_(self.cls_token, std=.02)\n",
    "        self.apply(self._init_weights)\n",
    "\n",
    "    def _init_weights(self, m):\n",
    "        if isinstance(m, nn.Linear):\n",
    "            trunc_normal_(m.weight, std=.02)\n",
    "            if isinstance(m, nn.Linear) and m.bias is not None:\n",
    "                nn.init.constant_(m.bias, 0)\n",
    "        elif isinstance(m, nn.LayerNorm):\n",
    "            nn.init.constant_(m.bias, 0)\n",
    "            nn.init.constant_(m.weight, 1.0)\n",
    "\n",
    "    @torch.jit.ignore\n",
    "    def no_weight_decay(self):\n",
    "        return {'pos_embed', 'cls_token'}\n",
    "\n",
    "    def get_classifier(self):\n",
    "        return self.head\n",
    "\n",
    "    def reset_classifier(self, num_classes, global_pool=''):\n",
    "        self.num_classes = num_classes\n",
    "        self.head = nn.Linear(self.embed_dim, num_classes) if num_classes > 0 else nn.Identity()\n",
    "\n",
    "    def forward_features(self, x):\n",
    "        B = x.shape[0]\n",
    "        x = self.patch_embed(x)\n",
    "\n",
    "        cls_tokens = self.cls_token.expand(B, -1, -1)  # stole cls_tokens impl from Phil Wang, thanks\n",
    "        x = torch.cat((cls_tokens, x), dim=1)\n",
    "        x = x + self.pos_embed\n",
    "        x = self.pos_drop(x)\n",
    "\n",
    "        for blk in self.blocks:\n",
    "            x = blk(x)\n",
    "\n",
    "        x = self.norm(x)\n",
    "        return x[:, 0]\n",
    "\n",
    "    def forward(self, x):\n",
    "        x = self.forward_features(x)\n",
    "        x = self.head(x)\n",
    "        return x\n",
    "\n",
    "\n",
    "def _conv_filter(state_dict, patch_size=2):\n",
    "    \"\"\" convert patch embedding weight from manual patchify + linear proj to conv\"\"\"\n",
    "    out_dict = {}\n",
    "    for k, v in state_dict.items():\n",
    "        if 'patch_embed.proj.weight' in k:\n",
    "            v = v.reshape((v.shape[0], 3, patch_size, patch_size))\n",
    "        out_dict[k] = v\n",
    "    return out_dict\n",
    "\n",
    "\n",
    "@register_model\n",
    "def vit_small_patch16_224(pretrained=False, **kwargs):\n",
    "    if pretrained:\n",
    "        # NOTE my scale was wrong for original weights, leaving this here until I have better ones for this model\n",
    "        kwargs.setdefault('qk_scale', 768 ** -0.5)\n",
    "    model = VisionTransformer(patch_size=2, embed_dim=768, depth=8, num_heads=8, mlp_ratio=3., **kwargs)\n",
    "#     model.default_cfg = default_cfgs['vit_small_patch16_224']\n",
    "    if pretrained:\n",
    "        load_pretrained(\n",
    "            model, num_classes=model.num_classes, in_chans=kwargs.get('in_chans', 3), filter_fn=_conv_filter)\n",
    "    return model\n",
    "\n",
    "\n",
    "@register_model\n",
    "def vit_base_patch16_224(pretrained=False, **kwargs):\n",
    "    model = VisionTransformer(\n",
    "        patch_size=2, embed_dim=768, depth=12, num_heads=12, mlp_ratio=4, qkv_bias=True,\n",
    "        norm_layer=partial(nn.LayerNorm, eps=1e-6), **kwargs)\n",
    "#     model.default_cfg = default_cfgs['vit_base_patch16_224']\n",
    "    if pretrained:\n",
    "        load_pretrained(\n",
    "            model, num_classes=model.num_classes, in_chans=kwargs.get('in_chans', 3), filter_fn=_conv_filter)\n",
    "    return model\n",
    "\n",
    "\n",
    "@register_model\n",
    "def vit_base_patch16_384(pretrained=False, **kwargs):\n",
    "    model = VisionTransformer(\n",
    "        img_size=384, patch_size=2, embed_dim=768, depth=12, num_heads=12, mlp_ratio=4, qkv_bias=True,\n",
    "        norm_layer=partial(nn.LayerNorm, eps=1e-6), **kwargs)\n",
    "#     model.default_cfg = default_cfgs['vit_base_patch16_384']\n",
    "    if pretrained:\n",
    "        load_pretrained(model, num_classes=model.num_classes, in_chans=kwargs.get('in_chans', 3))\n",
    "    return model\n",
    "\n",
    "\n",
    "@register_model\n",
    "def vit_base_patch32_384(pretrained=False, **kwargs):\n",
    "    model = VisionTransformer(\n",
    "        img_size=384, patch_size=32, embed_dim=768, depth=12, num_heads=12, mlp_ratio=4, qkv_bias=True,\n",
    "        norm_layer=partial(nn.LayerNorm, eps=1e-6), **kwargs)\n",
    "#     model.default_cfg = default_cfgs['vit_base_patch32_384']\n",
    "    if pretrained:\n",
    "        load_pretrained(model, num_classes=model.num_classes, in_chans=kwargs.get('in_chans', 3))\n",
    "    return model\n",
    "\n",
    "\n",
    "@register_model\n",
    "def vit_large_patch16_224(pretrained=False, **kwargs):\n",
    "    model = VisionTransformer(\n",
    "        patch_size=2, embed_dim=1024, depth=24, num_heads=16, mlp_ratio=4, qkv_bias=True,\n",
    "        norm_layer=partial(nn.LayerNorm, eps=1e-6), **kwargs)\n",
    "#     model.default_cfg = default_cfgs['vit_large_patch16_224']\n",
    "    if pretrained:\n",
    "        load_pretrained(model, num_classes=model.num_classes, in_chans=kwargs.get('in_chans', 3))\n",
    "    return model\n",
    "\n",
    "\n",
    "@register_model\n",
    "def vit_large_patch16_384(pretrained=False, **kwargs):\n",
    "    model = VisionTransformer(\n",
    "        img_size=384, patch_size=2, embed_dim=1024, depth=24, num_heads=16, mlp_ratio=4,  qkv_bias=True,\n",
    "        norm_layer=partial(nn.LayerNorm, eps=1e-6), **kwargs)\n",
    "#     model.default_cfg = default_cfgs['vit_large_patch16_384']\n",
    "    if pretrained:\n",
    "        load_pretrained(model, num_classes=model.num_classes, in_chans=kwargs.get('in_chans', 3))\n",
    "    return model\n",
    "\n",
    "\n",
    "@register_model\n",
    "def vit_large_patch32_384(pretrained=False, **kwargs):\n",
    "    model = VisionTransformer(\n",
    "        img_size=384, patch_size=32, embed_dim=1024, depth=24, num_heads=16, mlp_ratio=4,  qkv_bias=True,\n",
    "        norm_layer=partial(nn.LayerNorm, eps=1e-6), **kwargs)\n",
    "#     model.default_cfg = default_cfgs['vit_large_patch32_384']\n",
    "    if pretrained:\n",
    "        load_pretrained(model, num_classes=model.num_classes, in_chans=kwargs.get('in_chans', 3))\n",
    "    return model\n",
    "\n",
    "\n",
    "@register_model\n",
    "def vit_huge_patch16_224(pretrained=False, **kwargs):\n",
    "    model = VisionTransformer(patch_size=2, embed_dim=1280, depth=32, num_heads=16, mlp_ratio=4, **kwargs)\n",
    "#     model.default_cfg = default_cfgs['vit_huge_patch16_224']\n",
    "    return model\n",
    "\n",
    "\n",
    "@register_model\n",
    "def vit_huge_patch32_384(pretrained=False, **kwargs):\n",
    "    model = VisionTransformer(\n",
    "        img_size=384, patch_size=32, embed_dim=1280, depth=32, num_heads=16, mlp_ratio=4, **kwargs)\n",
    "#     model.default_cfg = default_cfgs['vit_huge_patch32_384']\n",
    "    return model\n"
   ]
  },
  {
   "cell_type": "markdown",
   "id": "5eeb501b",
   "metadata": {
    "papermill": {
     "duration": 0.009515,
     "end_time": "2023-10-16T18:18:14.166413",
     "exception": false,
     "start_time": "2023-10-16T18:18:14.156898",
     "status": "completed"
    },
    "tags": []
   },
   "source": [
    "### DeiT.py"
   ]
  },
  {
   "cell_type": "code",
   "execution_count": 10,
   "id": "0470e351",
   "metadata": {
    "execution": {
     "iopub.execute_input": "2023-10-16T18:18:14.186844Z",
     "iopub.status.busy": "2023-10-16T18:18:14.186248Z",
     "iopub.status.idle": "2023-10-16T18:18:14.201800Z",
     "shell.execute_reply": "2023-10-16T18:18:14.200947Z"
    },
    "papermill": {
     "duration": 0.028048,
     "end_time": "2023-10-16T18:18:14.203575",
     "exception": false,
     "start_time": "2023-10-16T18:18:14.175527",
     "status": "completed"
    },
    "tags": []
   },
   "outputs": [],
   "source": [
    "# Copyright (c) 2015-present, Facebook, Inc.\n",
    "# All rights reserved.\n",
    "import torch\n",
    "import torch.nn as nn\n",
    "from functools import partial\n",
    "\n",
    "# from .vision_transformer import VisionTransformer, _cfg\n",
    "from timm.models.registry import register_model\n",
    "from timm.models.layers import trunc_normal_\n",
    "import torch.nn.functional as F\n",
    "import numpy as np\n",
    "\n",
    "\n",
    "__all__ = [\n",
    "    'deit_tiny_patch16_224', 'deit_small_patch16_224', 'deit_base_patch16_224',\n",
    "    'deit_tiny_distilled_patch16_224', 'deit_small_distilled_patch16_224',\n",
    "    'deit_base_distilled_patch16_224', 'deit_base_patch16_384',\n",
    "    'deit_base_distilled_patch16_384',\n",
    "]\n",
    "\n",
    "\n",
    "class DeiT(VisionTransformer):\n",
    "    def __init__(self, *args, **kwargs):\n",
    "        super().__init__(*args, **kwargs)\n",
    "        num_patches = self.patch_embed.num_patches\n",
    "        self.pos_embed = nn.Parameter(torch.zeros(1, num_patches + 1, self.embed_dim))\n",
    "\n",
    "    def forward(self, x):\n",
    "        # taken from https://github.com/rwightman/pytorch-image-models/blob/master/timm/models/vision_transformer.py\n",
    "        # with slight modifications to add the dist_token\n",
    "        B = x.shape[0]\n",
    "        x = self.patch_embed(x)\n",
    "        pe = self.pos_embed\n",
    "\n",
    "        x = x + pe\n",
    "        x = self.pos_drop(x)\n",
    "\n",
    "        for blk in self.blocks:\n",
    "            x = blk(x)\n",
    "\n",
    "        x = self.norm(x)\n",
    "        return x\n",
    "\n",
    "\n",
    "@register_model\n",
    "def deit_small_patch16_224(pretrained=False, **kwargs):\n",
    "    model = DeiT(\n",
    "        patch_size=16, embed_dim=384, depth=8, num_heads=6, mlp_ratio=4, qkv_bias=True,\n",
    "        norm_layer=partial(nn.LayerNorm, eps=1e-6), **kwargs)\n",
    "#     model.default_cfg = _cfg()\n",
    "    if pretrained:\n",
    "        ckpt = torch.load('pretrained/deit_small_patch16_224-cd65a155.pth')\n",
    "        model.load_state_dict(ckpt['model'], strict=False)\n",
    "    \n",
    "    pe = model.pos_embed[:, 1:, :].detach()\n",
    "    pe = pe.transpose(-1, -2)\n",
    "    pe = pe.view(pe.shape[0], pe.shape[1], int(np.sqrt(pe.shape[2])), int(np.sqrt(pe.shape[2])))\n",
    "    pe = F.interpolate(pe, size=(12, 16), mode='bilinear', align_corners=True)\n",
    "    pe = pe.flatten(2)\n",
    "    pe = pe.transpose(-1, -2)\n",
    "    model.pos_embed = nn.Parameter(pe)\n",
    "    model.head = nn.Identity()\n",
    "    return model\n",
    "\n",
    "\n",
    "@register_model\n",
    "def deit_base_patch16_224(pretrained=False, **kwargs):\n",
    "    model = DeiT(\n",
    "        patch_size=2, embed_dim=768, depth=12, num_heads=12, mlp_ratio=4, qkv_bias=True,\n",
    "        norm_layer=partial(nn.LayerNorm, eps=1e-6), **kwargs)\n",
    "#     model.default_cfg = _cfg()\n",
    "    if pretrained:\n",
    "        ckpt = torch.load('pretrained/deit_base_patch16_224-b5f2ef4d.pth')\n",
    "        model.load_state_dict(ckpt['model'], strict=False)\n",
    "\n",
    "    pe = model.pos_embed[:, 1:, :].detach()\n",
    "    pe = pe.transpose(-1, -2)\n",
    "    pe = pe.view(pe.shape[0], pe.shape[1], int(np.sqrt(pe.shape[2])), int(np.sqrt(pe.shape[2])))\n",
    "    pe = F.interpolate(pe, size=(12, 16), mode='bilinear', align_corners=True)\n",
    "    pe = pe.flatten(2)\n",
    "    pe = pe.transpose(-1, -2)\n",
    "    model.pos_embed = nn.Parameter(pe)\n",
    "    model.head = nn.Identity()\n",
    "    return model\n",
    "\n",
    "\n",
    "@register_model\n",
    "def deit_base_patch16_384(pretrained=False, **kwargs):\n",
    "    model = DeiT(\n",
    "        img_size=384, patch_size=2, embed_dim=768, depth=12, num_heads=12, mlp_ratio=4, qkv_bias=True,\n",
    "        norm_layer=partial(nn.LayerNorm, eps=1e-6), **kwargs)\n",
    "#     model.default_cfg = _cfg()\n",
    "    if pretrained:\n",
    "        ckpt = torch.load('pretrained/deit_base_patch16_384-8de9b5d1.pth')\n",
    "        model.load_state_dict(ckpt[\"model\"])\n",
    "\n",
    "    pe = model.pos_embed[:, 1:, :].detach()\n",
    "    pe = pe.transpose(-1, -2)\n",
    "    pe = pe.view(pe.shape[0], pe.shape[1], int(np.sqrt(pe.shape[2])), int(np.sqrt(pe.shape[2])))\n",
    "    pe = F.interpolate(pe, size=(24, 32), mode='bilinear', align_corners=True)\n",
    "    pe = pe.flatten(2)\n",
    "    pe = pe.transpose(-1, -2)\n",
    "    model.pos_embed = nn.Parameter(pe)\n",
    "    model.head = nn.Identity()\n",
    "    return model"
   ]
  },
  {
   "cell_type": "markdown",
   "id": "c5e048fd",
   "metadata": {
    "papermill": {
     "duration": 0.009448,
     "end_time": "2023-10-16T18:18:14.222482",
     "exception": false,
     "start_time": "2023-10-16T18:18:14.213034",
     "status": "completed"
    },
    "tags": []
   },
   "source": [
    "### transfuse.py"
   ]
  },
  {
   "cell_type": "code",
   "execution_count": 11,
   "id": "8155b0e5",
   "metadata": {
    "execution": {
     "iopub.execute_input": "2023-10-16T18:18:14.243523Z",
     "iopub.status.busy": "2023-10-16T18:18:14.243210Z",
     "iopub.status.idle": "2023-10-16T18:18:14.443073Z",
     "shell.execute_reply": "2023-10-16T18:18:14.442111Z"
    },
    "papermill": {
     "duration": 0.213394,
     "end_time": "2023-10-16T18:18:14.445276",
     "exception": false,
     "start_time": "2023-10-16T18:18:14.231882",
     "status": "completed"
    },
    "tags": []
   },
   "outputs": [],
   "source": [
    "import torch\n",
    "import torch.nn as nn\n",
    "from torchvision.models import resnet34\n",
    "from torchvision.models import resnet50\n",
    "from torch.nn import CrossEntropyLoss, Dropout, Softmax, Linear, Conv2d, LayerNorm\n",
    "import torch.nn.functional as F\n",
    "import numpy as np\n",
    "import math\n",
    "from timm.models.layers import DropPath, to_2tuple, trunc_normal_\n",
    "\n",
    "\n",
    "class ChannelPool(nn.Module):\n",
    "    def forward(self, x):\n",
    "        return torch.cat( (torch.max(x,1)[0].unsqueeze(1), torch.mean(x,1).unsqueeze(1)), dim=1)\n",
    "\n",
    "\n",
    "class BiFusion_block(nn.Module):\n",
    "    def __init__(self, ch_1, ch_2, r_2, ch_int, ch_out, drop_rate=0.):\n",
    "        super(BiFusion_block, self).__init__()\n",
    "\n",
    "        # channel attention for F_g, use SE Block\n",
    "        self.fc1 = nn.Conv2d(ch_2, ch_2 // r_2, kernel_size=1)\n",
    "        self.relu = nn.ReLU(inplace=True)\n",
    "        self.fc2 = nn.Conv2d(ch_2 // r_2, ch_2, kernel_size=1)\n",
    "        self.sigmoid = nn.Sigmoid()\n",
    "\n",
    "        # spatial attention for F_l\n",
    "        self.compress = ChannelPool()\n",
    "        self.spatial = Conv(2, 1, 7, bn=True, relu=False, bias=False)\n",
    "\n",
    "        # bi-linear modelling for both\n",
    "        self.W_g = Conv(ch_1, ch_int, 1, bn=True, relu=False)\n",
    "        self.W_x = Conv(ch_2, ch_int, 1, bn=True, relu=False)\n",
    "        self.W = Conv(ch_int, ch_int, 3, bn=True, relu=True)\n",
    "\n",
    "        self.relu = nn.ReLU(inplace=True)\n",
    "\n",
    "        self.residual = Residual(ch_1+ch_2+ch_int, ch_out)\n",
    "\n",
    "        self.dropout = nn.Dropout2d(drop_rate)\n",
    "        self.drop_rate = drop_rate\n",
    "\n",
    "        \n",
    "    def forward(self, g, x):\n",
    "        # bilinear pooling\n",
    "        W_g = self.W_g(g)\n",
    "        W_x = self.W_x(x)\n",
    "        bp = self.W(W_g*W_x)\n",
    "\n",
    "        # spatial attention for cnn branch\n",
    "        g_in = g\n",
    "        g = self.compress(g)\n",
    "        g = self.spatial(g)\n",
    "        g = self.sigmoid(g) * g_in\n",
    "\n",
    "        # channel attetion for transformer branch\n",
    "        x_in = x\n",
    "        x = x.mean((2, 3), keepdim=True)\n",
    "        x = self.fc1(x)\n",
    "        x = self.relu(x)\n",
    "        x = self.fc2(x)\n",
    "        x = self.sigmoid(x) * x_in\n",
    "        fuse = self.residual(torch.cat([g, x, bp], 1))\n",
    "\n",
    "        if self.drop_rate > 0:\n",
    "            return self.dropout(fuse)\n",
    "        else:\n",
    "            return fuse\n",
    "\n",
    "\n",
    "class TransFuse_S(nn.Module):\n",
    "    def __init__(self, num_classes=1, drop_rate=0.2, normal_init=True, pretrained=False):\n",
    "        super(TransFuse_S, self).__init__()\n",
    "        self.n_classes = num_classes\n",
    "        self.n_channels = 3\n",
    "\n",
    "        self.resnet = resnet34()\n",
    "        if pretrained:\n",
    "            self.resnet.load_state_dict(torch.load('pretrained/resnet34-333f7ec4.pth'))\n",
    "        self.resnet.fc = nn.Identity()\n",
    "        self.resnet.layer4 = nn.Identity()\n",
    "\n",
    "        self.transformer = deit_small_patch16_224(pretrained=pretrained)\n",
    "\n",
    "        self.up1 = Up(in_ch1=384, out_ch=128)\n",
    "        self.up2 = Up(128, 64)\n",
    "\n",
    "        self.final_x = nn.Sequential(\n",
    "            Conv(256, 64, 1, bn=True, relu=True),\n",
    "            Conv(64, 64, 3, bn=True, relu=True),\n",
    "            Conv(64, num_classes, 3, bn=False, relu=False)\n",
    "            )\n",
    "\n",
    "        self.final_1 = nn.Sequential(\n",
    "            Conv(64, 64, 3, bn=True, relu=True),\n",
    "            Conv(64, num_classes, 3, bn=False, relu=False)\n",
    "            )\n",
    "\n",
    "        self.final_2 = nn.Sequential(\n",
    "            Conv(64, 64, 3, bn=True, relu=True),\n",
    "            Conv(64, num_classes, 3, bn=False, relu=False)\n",
    "            )\n",
    "\n",
    "        self.up_c = BiFusion_block(ch_1=256, ch_2=384, r_2=4, ch_int=256, ch_out=256, drop_rate=drop_rate/2)\n",
    "\n",
    "        self.up_c_1_1 = BiFusion_block(ch_1=128, ch_2=128, r_2=2, ch_int=128, ch_out=128, drop_rate=drop_rate/2)\n",
    "        self.up_c_1_2 = Up(in_ch1=256, out_ch=128, in_ch2=128, attn=True)\n",
    "\n",
    "        self.up_c_2_1 = BiFusion_block(ch_1=64, ch_2=64, r_2=1, ch_int=64, ch_out=64, drop_rate=drop_rate/2)\n",
    "        self.up_c_2_2 = Up(128, 64, 64, attn=True)\n",
    "\n",
    "        self.drop = nn.Dropout2d(drop_rate)\n",
    "\n",
    "        if normal_init:\n",
    "            self.init_weights()\n",
    "\n",
    "    def forward(self, imgs, labels=None):\n",
    "        # bottom-up path\n",
    "        x_b = self.transformer(imgs)\n",
    "        x_b = torch.transpose(x_b, 1, 2)\n",
    "        x_b = x_b.view(x_b.shape[0], -1, 12, 16)\n",
    "        x_b = self.drop(x_b)\n",
    "\n",
    "        x_b_1 = self.up1(x_b)\n",
    "        x_b_1 = self.drop(x_b_1)\n",
    "\n",
    "        x_b_2 = self.up2(x_b_1)  # transformer pred supervise here\n",
    "        x_b_2 = self.drop(x_b_2)\n",
    "\n",
    "        # top-down path\n",
    "        x_u = self.resnet.conv1(imgs)\n",
    "        x_u = self.resnet.bn1(x_u)\n",
    "        x_u = self.resnet.relu(x_u)\n",
    "        x_u = self.resnet.maxpool(x_u)\n",
    "\n",
    "        x_u_2 = self.resnet.layer1(x_u)\n",
    "        x_u_2 = self.drop(x_u_2)\n",
    "\n",
    "        x_u_1 = self.resnet.layer2(x_u_2)\n",
    "        x_u_1 = self.drop(x_u_1)\n",
    "\n",
    "        x_u = self.resnet.layer3(x_u_1)\n",
    "        x_u = self.drop(x_u) \n",
    "\n",
    "        # joint path\n",
    "        x_c = self.up_c(x_u, x_b)\n",
    "\n",
    "        x_c_1_1 = self.up_c_1_1(x_u_1, x_b_1)\n",
    "        x_c_1 = self.up_c_1_2(x_c, x_c_1_1)\n",
    "\n",
    "        x_c_2_1 = self.up_c_2_1(x_u_2, x_b_2)\n",
    "        x_c_2 = self.up_c_2_2(x_c_1, x_c_2_1) # joint predict low supervise here\n",
    "\n",
    "        # decoder part\n",
    "        map_x = F.interpolate(self.final_x(x_c), scale_factor=16, mode='bilinear', align_corners=True)\n",
    "        map_1 = F.interpolate(self.final_1(x_b_2), scale_factor=4, mode='bilinear', align_corners=True)\n",
    "        map_2 = F.interpolate(self.final_2(x_c_2), scale_factor=4, mode='bilinear', align_corners=True)\n",
    "        return map_x, map_1, map_2\n",
    "\n",
    "    def init_weights(self):\n",
    "        self.up1.apply(init_weights)\n",
    "        self.up2.apply(init_weights)\n",
    "        self.final_x.apply(init_weights)\n",
    "        self.final_1.apply(init_weights)\n",
    "        self.final_2.apply(init_weights)\n",
    "        self.up_c.apply(init_weights)\n",
    "        self.up_c_1_1.apply(init_weights)\n",
    "        self.up_c_1_2.apply(init_weights)\n",
    "        self.up_c_2_1.apply(init_weights)\n",
    "        self.up_c_2_2.apply(init_weights)\n",
    "\n",
    "\n",
    "class TransFuse_L(nn.Module):\n",
    "    def __init__(self, num_classes=1, drop_rate=0.2, normal_init=True, pretrained=False):\n",
    "        super(TransFuse_L, self).__init__()\n",
    "        self.n_classes = num_classes\n",
    "        self.n_channels = 3\n",
    "        \n",
    "        self.resnet = resnet50()\n",
    "        if pretrained:\n",
    "            self.resnet.load_state_dict(torch.load('pretrained/resnet50-19c8e357.pth'))\n",
    "            \n",
    "        self.resnet.fc = nn.Identity()\n",
    "        self.resnet.layer4 = nn.Identity()\n",
    "\n",
    "        self.transformer = deit_base_patch16_224(pretrained=pretrained)\n",
    "\n",
    "        self.up1 = Up(in_ch1=768, out_ch=512)\n",
    "        self.up2 = Up(512, 256)\n",
    "\n",
    "        self.final_x = nn.Sequential(\n",
    "            Conv(1024, 256, 1, bn=True, relu=True),\n",
    "            Conv(256, 256, 3, bn=True, relu=True),\n",
    "            Conv(256, num_classes, 3, bn=False, relu=False)\n",
    "            )\n",
    "\n",
    "        self.final_1 = nn.Sequential(\n",
    "            Conv(256, 256, 3, bn=True, relu=True),\n",
    "            Conv(256, num_classes, 3, bn=False, relu=False)\n",
    "            )\n",
    "\n",
    "        self.final_2 = nn.Sequential(\n",
    "            Conv(256, 256, 3, bn=True, relu=True),\n",
    "            Conv(256, num_classes, 3, bn=False, relu=False)\n",
    "            )\n",
    "\n",
    "        self.up_c = BiFusion_block(ch_1=1024, ch_2=768, r_2=4, ch_int=1024, ch_out=1024, drop_rate=drop_rate/2)\n",
    "\n",
    "        self.up_c_1_1 = BiFusion_block(ch_1=512, ch_2=512, r_2=2, ch_int=512, ch_out=512, drop_rate=drop_rate/2)\n",
    "        self.up_c_1_2 = Up(in_ch1=1024, out_ch=512, in_ch2=512, attn=True)\n",
    "\n",
    "        self.up_c_2_1 = BiFusion_block(ch_1=256, ch_2=256, r_2=1, ch_int=256, ch_out=256, drop_rate=drop_rate/2)\n",
    "        self.up_c_2_2 = Up(512, 256, 256, attn=True)\n",
    "\n",
    "        self.drop = nn.Dropout2d(drop_rate)\n",
    "\n",
    "        if normal_init:\n",
    "            self.init_weights()\n",
    "\n",
    "    def forward(self, imgs, labels=None):\n",
    "        # bottom-up path\n",
    "        x_b = self.transformer(imgs)\n",
    "        x_b = torch.transpose(x_b, 1, 2)\n",
    "        x_b = x_b.view(x_b.shape[0], -1, 12, 16)\n",
    "        x_b = self.drop(x_b)\n",
    "\n",
    "        x_b_1 = self.up1(x_b)\n",
    "        x_b_1 = self.drop(x_b_1)\n",
    "\n",
    "        x_b_2 = self.up2(x_b_1)  # transformer pred supervise here\n",
    "        x_b_2 = self.drop(x_b_2)\n",
    "\n",
    "\n",
    "        # top-down path\n",
    "        x_u = self.resnet.conv1(imgs)\n",
    "        x_u = self.resnet.bn1(x_u)\n",
    "        x_u = self.resnet.relu(x_u)\n",
    "        x_u = self.resnet.maxpool(x_u)\n",
    "\n",
    "        x_u_2 = self.resnet.layer1(x_u)\n",
    "        x_u_2 = self.drop(x_u_2)\n",
    "\n",
    "        x_u_1 = self.resnet.layer2(x_u_2)\n",
    "        x_u_1 = self.drop(x_u_1)\n",
    "\n",
    "        x_u = self.resnet.layer3(x_u_1)\n",
    "        x_u = self.drop(x_u)\n",
    "\n",
    "\n",
    "        # joint path\n",
    "        x_c = self.up_c(x_u, x_b)\n",
    "\n",
    "        x_c_1_1 = self.up_c_1_1(x_u_1, x_b_1)\n",
    "        x_c_1 = self.up_c_1_2(x_c, x_c_1_1)\n",
    "\n",
    "        x_c_2_1 = self.up_c_2_1(x_u_2, x_b_2)\n",
    "        x_c_2 = self.up_c_2_2(x_c_1, x_c_2_1) # joint predict low supervise here\n",
    "\n",
    "\n",
    "        # decoder part\n",
    "        map_x = F.interpolate(self.final_x(x_c), scale_factor=16, mode='bilinear', align_corners=True)\n",
    "        map_1 = F.interpolate(self.final_1(x_b_2), scale_factor=4, mode='bilinear', align_corners=True)\n",
    "        map_2 = F.interpolate(self.final_2(x_c_2), scale_factor=4, mode='bilinear', align_corners=True)\n",
    "\n",
    "        return map_x, map_1, map_2\n",
    "\n",
    "    def init_weights(self):\n",
    "        self.up1.apply(init_weights)\n",
    "        self.up2.apply(init_weights)\n",
    "        self.final_x.apply(init_weights)\n",
    "        self.final_1.apply(init_weights)\n",
    "        self.final_2.apply(init_weights)\n",
    "        self.up_c.apply(init_weights)\n",
    "        self.up_c_1_1.apply(init_weights)\n",
    "        self.up_c_1_2.apply(init_weights)\n",
    "        self.up_c_2_1.apply(init_weights)\n",
    "        self.up_c_2_2.apply(init_weights)\n",
    "        \n",
    "\n",
    "class TransFuse_L_384(nn.Module):\n",
    "    def __init__(self, num_classes=1, drop_rate=0.2, normal_init=True, pretrained=False):\n",
    "        super(TransFuse_L_384, self).__init__()\n",
    "        self.n_classes = num_classes\n",
    "        self.n_channels = 3\n",
    "        \n",
    "        self.resnet = resnet50()\n",
    "        if pretrained:\n",
    "            self.resnet.load_state_dict(torch.load('pretrained/resnet50-19c8e357.pth'))\n",
    "        self.resnet.fc = nn.Identity()\n",
    "        self.resnet.layer4 = nn.Identity()\n",
    "\n",
    "        self.transformer = deit_base_patch16_384(pretrained=pretrained)\n",
    "\n",
    "        self.up1 = Up(in_ch1=768, out_ch=512)\n",
    "        self.up2 = Up(512, 256)\n",
    "\n",
    "        self.final_x = nn.Sequential(\n",
    "            Conv(1024, 256, 1, bn=True, relu=True),\n",
    "            Conv(256, 256, 3, bn=True, relu=True),\n",
    "            Conv(256, num_classes, 3, bn=False, relu=False)\n",
    "            )\n",
    "\n",
    "        self.final_1 = nn.Sequential(\n",
    "            Conv(256, 256, 3, bn=True, relu=True),\n",
    "            Conv(256, num_classes, 3, bn=False, relu=False)\n",
    "            )\n",
    "\n",
    "        self.final_2 = nn.Sequential(\n",
    "            Conv(256, 256, 3, bn=True, relu=True),\n",
    "            Conv(256, num_classes, 3, bn=False, relu=False)\n",
    "            )\n",
    "\n",
    "        self.up_c = BiFusion_block(ch_1=1024, ch_2=768, r_2=4, ch_int=1024, ch_out=1024, drop_rate=drop_rate/2)\n",
    "\n",
    "        self.up_c_1_1 = BiFusion_block(ch_1=512, ch_2=512, r_2=2, ch_int=512, ch_out=512, drop_rate=drop_rate/2)\n",
    "        self.up_c_1_2 = Up(in_ch1=1024, out_ch=512, in_ch2=512, attn=True)\n",
    "\n",
    "        self.up_c_2_1 = BiFusion_block(ch_1=256, ch_2=256, r_2=1, ch_int=256, ch_out=256, drop_rate=drop_rate/2)\n",
    "        self.up_c_2_2 = Up(512, 256, 256, attn=True)\n",
    "\n",
    "        self.drop = nn.Dropout2d(drop_rate)\n",
    "\n",
    "        if normal_init:\n",
    "            self.init_weights()\n",
    "\n",
    "    def forward(self, imgs, labels=None):\n",
    "        # bottom-up path\n",
    "        x_b = self.transformer(imgs)\n",
    "        x_b = torch.transpose(x_b, 1, 2)\n",
    "        x_b = x_b.view(x_b.shape[0], -1, 24, 32)\n",
    "        x_b = self.drop(x_b)\n",
    "\n",
    "        x_b_1 = self.up1(x_b)\n",
    "        x_b_1 = self.drop(x_b_1)\n",
    "\n",
    "        x_b_2 = self.up2(x_b_1)  # transformer pred supervise here\n",
    "        x_b_2 = self.drop(x_b_2)\n",
    "\n",
    "\n",
    "        # top-down path\n",
    "        x_u = self.resnet.conv1(imgs)\n",
    "        x_u = self.resnet.bn1(x_u)\n",
    "        x_u = self.resnet.relu(x_u)\n",
    "        x_u = self.resnet.maxpool(x_u)\n",
    "\n",
    "        x_u_2 = self.resnet.layer1(x_u)\n",
    "        x_u_2 = self.drop(x_u_2)\n",
    "\n",
    "        x_u_1 = self.resnet.layer2(x_u_2)\n",
    "        x_u_1 = self.drop(x_u_1)\n",
    "\n",
    "        x_u = self.resnet.layer3(x_u_1)\n",
    "        x_u = self.drop(x_u)\n",
    "\n",
    "\n",
    "        # joint path\n",
    "        x_c = self.up_c(x_u, x_b)\n",
    "\n",
    "        x_c_1_1 = self.up_c_1_1(x_u_1, x_b_1)\n",
    "        x_c_1 = self.up_c_1_2(x_c, x_c_1_1)\n",
    "\n",
    "        x_c_2_1 = self.up_c_2_1(x_u_2, x_b_2)\n",
    "        x_c_2 = self.up_c_2_2(x_c_1, x_c_2_1) # joint predict low supervise here\n",
    "\n",
    "\n",
    "        # decoder part\n",
    "        map_x = F.interpolate(self.final_x(x_c), scale_factor=16, mode='bilinear', align_corners=True)\n",
    "        map_1 = F.interpolate(self.final_1(x_b_2), scale_factor=4, mode='bilinear', align_corners=True)\n",
    "        map_2 = F.interpolate(self.final_2(x_c_2), scale_factor=4, mode='bilinear', align_corners=True)\n",
    "\n",
    "        return map_x, map_1, map_2\n",
    "\n",
    "    def init_weights(self):\n",
    "        self.up1.apply(init_weights)\n",
    "        self.up2.apply(init_weights)\n",
    "        self.final_x.apply(init_weights)\n",
    "        self.final_1.apply(init_weights)\n",
    "        self.final_2.apply(init_weights)\n",
    "        self.up_c.apply(init_weights)\n",
    "        self.up_c_1_1.apply(init_weights)\n",
    "        self.up_c_1_2.apply(init_weights)\n",
    "        self.up_c_2_1.apply(init_weights)\n",
    "        self.up_c_2_2.apply(init_weights)\n",
    "\n",
    "\n",
    "def init_weights(m):\n",
    "    \"\"\"\n",
    "    Initialize weights of layers using Kaiming Normal (He et al.) as argument of \"Apply\" function of\n",
    "    \"nn.Module\"\n",
    "    :param m: Layer to initialize\n",
    "    :return: None\n",
    "    \"\"\"\n",
    "    if isinstance(m, nn.Conv2d):\n",
    "        '''\n",
    "        fan_in, _ = nn.init._calculate_fan_in_and_fan_out(m.weight)\n",
    "        trunc_normal_(m.weight, std=math.sqrt(1.0/fan_in)/.87962566103423978)\n",
    "        if m.bias is not None:\n",
    "            nn.init.zeros_(m.bias)\n",
    "        '''\n",
    "        nn.init.kaiming_normal_(m.weight, mode='fan_in', nonlinearity='relu')\n",
    "        if m.bias is not None:\n",
    "            fan_in, _ = nn.init._calculate_fan_in_and_fan_out(m.weight)\n",
    "            bound = 1 / math.sqrt(fan_in)\n",
    "            nn.init.uniform_(m.bias, -bound, bound)\n",
    "        \n",
    "    elif isinstance(m, nn.BatchNorm2d):\n",
    "        nn.init.constant_(m.weight, 1)\n",
    "        nn.init.constant_(m.bias, 0)\n",
    "\n",
    "\n",
    "class Up(nn.Module):\n",
    "    \"\"\"Upscaling then double conv\"\"\"\n",
    "    def __init__(self, in_ch1, out_ch, in_ch2=0, attn=False):\n",
    "        super().__init__()\n",
    "\n",
    "        self.up = nn.Upsample(scale_factor=2, mode='bilinear', align_corners=True)\n",
    "        self.conv = DoubleConv(in_ch1+in_ch2, out_ch)\n",
    "\n",
    "        if attn:\n",
    "            self.attn_block = Attention_block(in_ch1, in_ch2, out_ch)\n",
    "        else:\n",
    "            self.attn_block = None\n",
    "\n",
    "    def forward(self, x1, x2=None):\n",
    "\n",
    "        x1 = self.up(x1)\n",
    "        # input is CHW\n",
    "        if x2 is not None:\n",
    "            diffY = torch.tensor([x2.size()[2] - x1.size()[2]])\n",
    "            diffX = torch.tensor([x2.size()[3] - x1.size()[3]])\n",
    "\n",
    "            x1 = F.pad(x1, [diffX // 2, diffX - diffX // 2,\n",
    "                            diffY // 2, diffY - diffY // 2])\n",
    "\n",
    "            if self.attn_block is not None:\n",
    "                x2 = self.attn_block(x1, x2)\n",
    "            x1 = torch.cat([x2, x1], dim=1)\n",
    "        x = x1\n",
    "        return self.conv(x)\n",
    "\n",
    "\n",
    "class Attention_block(nn.Module):\n",
    "    def __init__(self,F_g,F_l,F_int):\n",
    "        super(Attention_block,self).__init__()\n",
    "        self.W_g = nn.Sequential(\n",
    "            nn.Conv2d(F_g, F_int, kernel_size=1,stride=1,padding=0,bias=True),\n",
    "            nn.BatchNorm2d(F_int)\n",
    "            )\n",
    "        self.W_x = nn.Sequential(\n",
    "            nn.Conv2d(F_l, F_int, kernel_size=1,stride=1,padding=0,bias=True),\n",
    "            nn.BatchNorm2d(F_int)\n",
    "        )\n",
    "        self.psi = nn.Sequential(\n",
    "            nn.Conv2d(F_int, 1, kernel_size=1,stride=1,padding=0,bias=True),\n",
    "            nn.BatchNorm2d(1),\n",
    "            nn.Sigmoid()\n",
    "        )\n",
    "        self.relu = nn.ReLU(inplace=True)\n",
    "        \n",
    "    def forward(self,g,x):\n",
    "        g1 = self.W_g(g)\n",
    "        x1 = self.W_x(x)\n",
    "        psi = self.relu(g1+x1)\n",
    "        psi = self.psi(psi)\n",
    "        return x*psi\n",
    "\n",
    "\n",
    "class DoubleConv(nn.Module):\n",
    "    def __init__(self, in_channels, out_channels):\n",
    "        super().__init__()\n",
    "        self.double_conv = nn.Sequential(\n",
    "            nn.Conv2d(in_channels, out_channels, kernel_size=3, padding=1),\n",
    "            nn.BatchNorm2d(out_channels),\n",
    "            nn.ReLU(inplace=True),\n",
    "            nn.Conv2d(out_channels, out_channels, kernel_size=3, padding=1),\n",
    "            nn.BatchNorm2d(out_channels)\n",
    "        )\n",
    "        self.identity = nn.Sequential(\n",
    "                nn.Conv2d(in_channels, out_channels, kernel_size=1, padding=0),\n",
    "                nn.BatchNorm2d(out_channels)\n",
    "                )\n",
    "        self.relu = nn.ReLU(inplace=True)\n",
    "\n",
    "    def forward(self, x):\n",
    "        return self.relu(self.double_conv(x)+self.identity(x))\n",
    "\n",
    "\n",
    "class Residual(nn.Module):\n",
    "    def __init__(self, inp_dim, out_dim):\n",
    "        super(Residual, self).__init__()\n",
    "        self.relu = nn.ReLU(inplace=True)\n",
    "        self.bn1 = nn.BatchNorm2d(inp_dim)\n",
    "        self.conv1 = Conv(inp_dim, int(out_dim/2), 1, relu=False)\n",
    "        self.bn2 = nn.BatchNorm2d(int(out_dim/2))\n",
    "        self.conv2 = Conv(int(out_dim/2), int(out_dim/2), 3, relu=False)\n",
    "        self.bn3 = nn.BatchNorm2d(int(out_dim/2))\n",
    "        self.conv3 = Conv(int(out_dim/2), out_dim, 1, relu=False)\n",
    "        self.skip_layer = Conv(inp_dim, out_dim, 1, relu=False)\n",
    "        if inp_dim == out_dim:\n",
    "            self.need_skip = False\n",
    "        else:\n",
    "            self.need_skip = True\n",
    "        \n",
    "    def forward(self, x):\n",
    "        if self.need_skip:\n",
    "            residual = self.skip_layer(x)\n",
    "        else:\n",
    "            residual = x\n",
    "        out = self.bn1(x)\n",
    "        out = self.relu(out)\n",
    "        out = self.conv1(out)\n",
    "        out = self.bn2(out)\n",
    "        out = self.relu(out)\n",
    "        out = self.conv2(out)\n",
    "        out = self.bn3(out)\n",
    "        out = self.relu(out)\n",
    "        out = self.conv3(out)\n",
    "        out += residual\n",
    "        return out \n",
    "\n",
    "\n",
    "class Conv(nn.Module):\n",
    "    def __init__(self, inp_dim, out_dim, kernel_size=3, stride=1, bn=False, relu=True, bias=True):\n",
    "        super(Conv, self).__init__()\n",
    "        self.inp_dim = inp_dim\n",
    "        self.conv = nn.Conv2d(inp_dim, out_dim, kernel_size, stride, padding=(kernel_size-1)//2, bias=bias)\n",
    "        self.relu = None\n",
    "        self.bn = None\n",
    "        if relu:\n",
    "            self.relu = nn.ReLU(inplace=True)\n",
    "        if bn:\n",
    "            self.bn = nn.BatchNorm2d(out_dim)\n",
    "\n",
    "    def forward(self, x):\n",
    "        assert x.size()[1] == self.inp_dim, \"{} {}\".format(x.size()[1], self.inp_dim)\n",
    "        x = self.conv(x)\n",
    "        if self.bn is not None:\n",
    "            x = self.bn(x)\n",
    "        if self.relu is not None:\n",
    "            x = self.relu(x)\n",
    "        return x"
   ]
  },
  {
   "cell_type": "markdown",
   "id": "47dd6f20",
   "metadata": {
    "papermill": {
     "duration": 0.009355,
     "end_time": "2023-10-16T18:18:14.464130",
     "exception": false,
     "start_time": "2023-10-16T18:18:14.454775",
     "status": "completed"
    },
    "tags": []
   },
   "source": [
    "## 模型测试"
   ]
  },
  {
   "cell_type": "code",
   "execution_count": 12,
   "id": "0846cd57",
   "metadata": {
    "execution": {
     "iopub.execute_input": "2023-10-16T18:18:14.485261Z",
     "iopub.status.busy": "2023-10-16T18:18:14.484705Z",
     "iopub.status.idle": "2023-10-16T18:18:14.494801Z",
     "shell.execute_reply": "2023-10-16T18:18:14.493836Z"
    },
    "papermill": {
     "duration": 0.022703,
     "end_time": "2023-10-16T18:18:14.496500",
     "exception": false,
     "start_time": "2023-10-16T18:18:14.473797",
     "status": "completed"
    },
    "tags": []
   },
   "outputs": [],
   "source": [
    "\n",
    "@torch.inference_mode()\n",
    "def evaluate(net, dataloader, device, amp):\n",
    "    net.eval()\n",
    "    num_val_batches = len(dataloader)\n",
    "    dice_score = 0\n",
    "    iou_score = 0\n",
    "\n",
    "    if isinstance(model, nn.DataParallel):\n",
    "        n_classes = net.module.n_classes\n",
    "    else:\n",
    "        n_classes = net.n_classes\n",
    "    criterion = nn.CrossEntropyLoss() if n_classes > 1 else nn.BCEWithLogitsLoss()\n",
    "    dice_loss = smp.losses.DiceLoss(mode='binary', log_loss=True, from_logits = True).cuda()\n",
    "   \n",
    "    \n",
    "    # iterate over the validation set\n",
    "    with torch.autocast(device.type if device.type != 'mps' else 'cpu', enabled=amp):\n",
    "        for batch in tqdm(dataloader, total=num_val_batches, desc='Validation round', unit='batch', position=0 ,leave=True):\n",
    "            image, mask_true = batch\n",
    "\n",
    "            # move images and labels to correct device and type\n",
    "            image = image.to(device=device, dtype=torch.float32, memory_format=torch.channels_last)\n",
    "            mask_true = mask_true.to(device=device, dtype=torch.float32)\n",
    "\n",
    "            # predict the mask\n",
    "            \n",
    "            lateral_map_4, lateral_map_3, lateral_map_2 = net(image)\n",
    "\n",
    "            loss4 = criterion(lateral_map_4, mask_true.float())\n",
    "            loss4 += dice_loss(lateral_map_4, mask_true)\n",
    "            tp, fp, fn, tn = smp.metrics.get_stats(lateral_map_4, mask_true.long(), mode='binary', threshold=0.5)\n",
    "            iou_score = 0.5 * smp.metrics.iou_score(tp, fp, fn, tn, reduction=\"micro\")\n",
    "\n",
    "            loss3 = criterion(lateral_map_3, mask_true.float())\n",
    "            loss3 += dice_loss(lateral_map_3, mask_true)\n",
    "            tp, fp, fn, tn = smp.metrics.get_stats(lateral_map_3, mask_true.long(), mode='binary', threshold=0.5)\n",
    "            iou_score += 0.3 * smp.metrics.iou_score(tp, fp, fn, tn, reduction=\"micro\")\n",
    "\n",
    "            loss2 = criterion(lateral_map_2, mask_true.float())\n",
    "            loss2 += dice_loss(lateral_map_2, mask_true)\n",
    "            tp, fp, fn, tn = smp.metrics.get_stats(lateral_map_2, mask_true.long(), mode='binary', threshold=0.5)\n",
    "            iou_score += 0.2 *smp.metrics.iou_score(tp, fp, fn, tn, reduction=\"micro\")\n",
    "\n",
    "            dice_score += (0.5 * loss2 + 0.3 * loss3 + 0.2 * loss4)\n",
    "            \n",
    "            \n",
    "    dice_loss = (dice_score / max(num_val_batches, 1))\n",
    "    iou_score = (iou_score / max(num_val_batches, 1))\n",
    "    print(\"Validation dice loss: {}, IoU Score {}\".format(dice_loss, iou_score))\n",
    "    return (dice_loss, iou_score)"
   ]
  },
  {
   "cell_type": "markdown",
   "id": "b06b0528",
   "metadata": {
    "papermill": {
     "duration": 0.00922,
     "end_time": "2023-10-16T18:18:14.515014",
     "exception": false,
     "start_time": "2023-10-16T18:18:14.505794",
     "status": "completed"
    },
    "tags": []
   },
   "source": [
    "## 模型训练"
   ]
  },
  {
   "cell_type": "code",
   "execution_count": 13,
   "id": "5010bd85",
   "metadata": {
    "execution": {
     "iopub.execute_input": "2023-10-16T18:18:14.535725Z",
     "iopub.status.busy": "2023-10-16T18:18:14.535425Z",
     "iopub.status.idle": "2023-10-16T18:18:15.710592Z",
     "shell.execute_reply": "2023-10-16T18:18:15.709667Z"
    },
    "papermill": {
     "duration": 1.188435,
     "end_time": "2023-10-16T18:18:15.712842",
     "exception": false,
     "start_time": "2023-10-16T18:18:14.524407",
     "status": "completed"
    },
    "tags": []
   },
   "outputs": [],
   "source": [
    "import time\n",
    "import torch.optim as optim\n",
    "import segmentation_models_pytorch as smp\n",
    "\n",
    "n_train = len(train_data)\n",
    "n_val = len(validate_data)\n",
    "\n",
    "\n",
    "def train(model,\n",
    "          device,\n",
    "          project='U-Net',\n",
    "          n_classes=1,\n",
    "          n_channels=3,\n",
    "          epochs: int = 60,\n",
    "          learning_rate: float = 1e-5,\n",
    "          weight_decay: float = 1e-8,\n",
    "          momentum: float = 0.999,\n",
    "          batch_size: int = 2,\n",
    "          amp: bool = False,\n",
    "          val_percent: float = 0.1,\n",
    "          gradient_clipping: float = 1.0):\n",
    "    # if isinstance(model, nn.DataParallel):\n",
    "        # n_classes = model.module.n_classes\n",
    "        # n_channels = model.module.n_channels\n",
    "    # else:\n",
    "        # n_classes = model.n_classes\n",
    "        # n_channels = model.n_channels\n",
    "\n",
    "    # (Initialize logging)\n",
    "    experiment = wandb.init(project=project, resume='allow', anonymous='must')\n",
    "    experiment.config.update(\n",
    "        dict(epochs=epochs, batch_size=batch_size, learning_rate=learning_rate,\n",
    "             val_percent=val_percent, amp=amp)\n",
    "    )\n",
    "\n",
    "    logging.info(f'''Starting training:\n",
    "        Epochs:          {epochs}\n",
    "        Batch size:      {batch_size}\n",
    "        Learning rate:   {learning_rate}\n",
    "        Training size:   {n_train}\n",
    "        Validation size: {n_val}\n",
    "        Device:          {device.type}\n",
    "        Mixed Precision: {amp}\n",
    "    ''')\n",
    "\n",
    "    optimizer = optim.Adam(model.parameters(), lr=learning_rate)\n",
    "    #     optimizer = optim.SGD(params, lr=config['lr'], momentum=config['momentum'],\n",
    "    #                               nesterov=config['nesterov'], weight_decay=config['weight_decay'])\n",
    "\n",
    "    scheduler = optim.lr_scheduler.CosineAnnealingWarmRestarts(optimizer, T_0=1, T_mult=2, eta_min=5e-5)\n",
    "    grad_scaler = torch.cuda.amp.GradScaler(enabled=amp)\n",
    "\n",
    "    # criterion = nn.CrossEntropyLoss().cuda()\n",
    "    # dice_loss = smp.losses.DiceLoss(mode='binary').cuda()\n",
    "\n",
    "    criterion = nn.CrossEntropyLoss()\n",
    "    dice_loss = smp.losses.DiceLoss(mode='binary')\n",
    "\n",
    "    global_step = 0\n",
    "\n",
    "    # 5. Begin training\n",
    "    for epoch in range(1, epochs + 1):\n",
    "        model.train()\n",
    "        epoch_loss = 0\n",
    "        with tqdm(total=n_train, desc=f'Epoch {epoch}/{epochs}', unit='img') as pbar:\n",
    "            for batch in trainloader:\n",
    "                images, true_masks = batch\n",
    "\n",
    "                assert images.shape[1] == n_channels, \\\n",
    "                    f'Network has been defined with {n_channels} input channels, ' \\\n",
    "                    f'but loaded images have {images.shape[1]} channels. Please check that ' \\\n",
    "                    'the images are loaded correctly.'\n",
    "\n",
    "                images = images.to(device=device, dtype=torch.float32, memory_format=torch.channels_last)\n",
    "\n",
    "                true_masks = true_masks.to(device=device, dtype=torch.long)\n",
    "\n",
    "                with torch.autocast(device.type if device.type != 'mps' else 'cpu', enabled=amp):\n",
    "                    lateral_map_4, lateral_map_3, lateral_map_2 = model(images)\n",
    "\n",
    "                    loss4 = criterion(lateral_map_4, true_masks.float())\n",
    "                    loss4 += dice_loss(lateral_map_4, true_masks)\n",
    "                    tp, fp, fn, tn = smp.metrics.get_stats(lateral_map_4, true_masks.long(), mode='binary', threshold=0.5)\n",
    "                    iou_score = 0.5 * smp.metrics.iou_score(tp, fp, fn, tn, reduction=\"micro\")\n",
    "\n",
    "                    loss3 = criterion(lateral_map_3, true_masks.float())\n",
    "                    loss3 += dice_loss(lateral_map_3, true_masks)\n",
    "                    tp, fp, fn, tn = smp.metrics.get_stats(lateral_map_3, true_masks.long(), mode='binary', threshold=0.5)\n",
    "                    iou_score += 0.3 * smp.metrics.iou_score(tp, fp, fn, tn, reduction=\"micro\")\n",
    "\n",
    "                    loss2 = criterion(lateral_map_2, true_masks.float())\n",
    "                    loss2 += dice_loss(lateral_map_2, true_masks)\n",
    "                    tp, fp, fn, tn = smp.metrics.get_stats(lateral_map_2, true_masks.long(), mode='binary', threshold=0.5)\n",
    "                    iou_score += 0.2 * smp.metrics.iou_score(tp, fp, fn, tn, reduction=\"micro\")\n",
    "\n",
    "                    loss = 0.5 * loss2 + 0.3 * loss3 + 0.2 * loss4\n",
    "\n",
    "\n",
    "                optimizer.zero_grad(set_to_none=True)\n",
    "                grad_scaler.scale(loss).backward()\n",
    "                torch.nn.utils.clip_grad_norm_(model.parameters(), gradient_clipping)\n",
    "                grad_scaler.step(optimizer)\n",
    "                grad_scaler.update()\n",
    "\n",
    "                pbar.update(images.shape[0])\n",
    "                global_step += 1\n",
    "                epoch_loss += loss.item()\n",
    "                experiment.log({\n",
    "                    'train iou': iou_score,\n",
    "                    'train loss': loss.item(),\n",
    "                    'step': global_step,\n",
    "                    'epoch': epoch\n",
    "                })\n",
    "                pbar.set_postfix(**{'loss (batch)': loss.item()})\n",
    "\n",
    "                # Evaluation round\n",
    "                division_step = (n_train // (5 * batch_size))\n",
    "                if division_step > 0:\n",
    "                    if global_step % division_step == 0:\n",
    "                        histograms = {}\n",
    "                        # for tag, value in model.named_parameters():\n",
    "                        #     tag = tag.replace('/', '.')\n",
    "                        #     if not (torch.isinf(value) | torch.isnan(value)).any():\n",
    "                        #         histograms['Weights/' + tag] = wandb.Histogram(value.data.cpu())\n",
    "                        #     if not (torch.isinf(value.grad) | torch.isnan(value.grad)).any():\n",
    "                        #         histograms['Gradients/' + tag] = wandb.Histogram(value.grad.data.cpu())\n",
    "\n",
    "                        val_score, iou_score = evaluate(model, valloader, device, amp)\n",
    "                        model.train()\n",
    "                        scheduler.step(val_score)\n",
    "\n",
    "                        logging.info('Validation Dice score: {}'.format(val_score))\n",
    "                        try:\n",
    "                            experiment.log({\n",
    "                                'learning rate': optimizer.param_groups[0]['lr'],\n",
    "                                'validation Dice': val_score,\n",
    "                                'validation IoU Score': iou_score,\n",
    "                                'images': wandb.Image(images[0].cpu()),\n",
    "                                'masks': {\n",
    "                                    'true': wandb.Image(true_masks[0].float().cpu()),\n",
    "                                    'pred': wandb.Image(lateral_map_2[0].float().cpu()),\n",
    "                                },\n",
    "                                'step': global_step,\n",
    "                                'epoch': epoch,\n",
    "                                **histograms\n",
    "                            })\n",
    "                        except:\n",
    "                            pass\n",
    "\n",
    "\n"
   ]
  },
  {
   "cell_type": "markdown",
   "id": "6bf26739",
   "metadata": {
    "papermill": {
     "duration": 0.009475,
     "end_time": "2023-10-16T18:18:15.731849",
     "exception": false,
     "start_time": "2023-10-16T18:18:15.722374",
     "status": "completed"
    },
    "tags": []
   },
   "source": [
    "## train transfuse"
   ]
  },
  {
   "cell_type": "code",
   "execution_count": 14,
   "id": "e4932a5a",
   "metadata": {
    "execution": {
     "iopub.execute_input": "2023-10-16T18:18:15.752085Z",
     "iopub.status.busy": "2023-10-16T18:18:15.751494Z",
     "iopub.status.idle": "2023-10-16T19:01:45.439041Z",
     "shell.execute_reply": "2023-10-16T19:01:45.437048Z"
    },
    "papermill": {
     "duration": 2609.700209,
     "end_time": "2023-10-16T19:01:45.441393",
     "exception": false,
     "start_time": "2023-10-16T18:18:15.741184",
     "status": "completed"
    },
    "tags": []
   },
   "outputs": [
    {
     "name": "stderr",
     "output_type": "stream",
     "text": [
      "\u001b[34m\u001b[1mwandb\u001b[0m: Currently logged in as: \u001b[33mtorwayland\u001b[0m (\u001b[33mcupes-wangtao\u001b[0m). Use \u001b[1m`wandb login --relogin`\u001b[0m to force relogin\n",
      "\u001b[34m\u001b[1mwandb\u001b[0m: wandb version 0.15.12 is available!  To upgrade, please run:\n",
      "\u001b[34m\u001b[1mwandb\u001b[0m:  $ pip install wandb --upgrade\n",
      "\u001b[34m\u001b[1mwandb\u001b[0m: Tracking run with wandb version 0.15.9\n",
      "\u001b[34m\u001b[1mwandb\u001b[0m: Run data is saved locally in \u001b[35m\u001b[1m/kaggle/working/wandb/run-20231016_181821-sacvkek1\u001b[0m\n",
      "\u001b[34m\u001b[1mwandb\u001b[0m: Run \u001b[1m`wandb offline`\u001b[0m to turn off syncing.\n",
      "\u001b[34m\u001b[1mwandb\u001b[0m: Syncing run \u001b[33mnorthern-capybara-25\u001b[0m\n",
      "\u001b[34m\u001b[1mwandb\u001b[0m: ⭐️ View project at \u001b[34m\u001b[4mhttps://wandb.ai/cupes-wangtao/Transfuse\u001b[0m\n",
      "\u001b[34m\u001b[1mwandb\u001b[0m: 🚀 View run at \u001b[34m\u001b[4mhttps://wandb.ai/cupes-wangtao/Transfuse/runs/sacvkek1\u001b[0m\n",
      "Validation round: 100%|██████████| 115/115 [00:03<00:00, 32.40batch/s]\n"
     ]
    },
    {
     "name": "stdout",
     "output_type": "stream",
     "text": [
      "Validation dice loss: 3.1388754844665527, IoU Score 0.0002361055085202679\n"
     ]
    },
    {
     "name": "stderr",
     "output_type": "stream",
     "text": [
      "Validation round: 100%|██████████| 115/115 [00:03<00:00, 34.27batch/s]\n",
      "Epoch 1/60:  40%|███▉      | 182/456 [00:23<02:38,  1.73img/s, loss (batch)=0.928]"
     ]
    },
    {
     "name": "stdout",
     "output_type": "stream",
     "text": [
      "Validation dice loss: 2.992253541946411, IoU Score 0.0005169237265363336\n"
     ]
    },
    {
     "name": "stderr",
     "output_type": "stream",
     "text": [
      "Validation round: 100%|██████████| 115/115 [00:03<00:00, 35.34batch/s]\n",
      "Epoch 1/60:  60%|█████▉    | 272/456 [00:32<01:41,  1.82img/s, loss (batch)=0.88] "
     ]
    },
    {
     "name": "stdout",
     "output_type": "stream",
     "text": [
      "Validation dice loss: 2.5518529415130615, IoU Score 0.0009572878479957581\n"
     ]
    },
    {
     "name": "stderr",
     "output_type": "stream",
     "text": [
      "Validation round: 100%|██████████| 115/115 [00:03<00:00, 35.70batch/s]\n",
      "Epoch 1/60:  79%|███████▉  | 362/456 [00:40<00:50,  1.87img/s, loss (batch)=0.793]"
     ]
    },
    {
     "name": "stdout",
     "output_type": "stream",
     "text": [
      "Validation dice loss: 2.1063053607940674, IoU Score 0.000981982797384262\n"
     ]
    },
    {
     "name": "stderr",
     "output_type": "stream",
     "text": [
      "Validation round: 100%|██████████| 115/115 [00:03<00:00, 34.42batch/s]\n",
      "Epoch 1/60:  99%|█████████▉| 452/456 [00:48<00:02,  1.77img/s, loss (batch)=0.809]"
     ]
    },
    {
     "name": "stdout",
     "output_type": "stream",
     "text": [
      "Validation dice loss: 1.696982979774475, IoU Score 0.0013406381476670504\n"
     ]
    },
    {
     "name": "stderr",
     "output_type": "stream",
     "text": [
      "Epoch 1/60: 100%|██████████| 456/456 [00:48<00:00,  9.39img/s, loss (batch)=0.843]\n",
      "Validation round: 100%|██████████| 115/115 [00:03<00:00, 35.32batch/s]\n",
      "Epoch 2/60:  19%|█▉        | 86/456 [00:08<03:22,  1.82img/s, loss (batch)=0.706]"
     ]
    },
    {
     "name": "stdout",
     "output_type": "stream",
     "text": [
      "Validation dice loss: 1.5358517169952393, IoU Score 0.00152520090341568\n"
     ]
    },
    {
     "name": "stderr",
     "output_type": "stream",
     "text": [
      "Validation round: 100%|██████████| 115/115 [00:03<00:00, 35.44batch/s]\n",
      "Epoch 2/60:  39%|███▊      | 176/456 [00:16<02:33,  1.83img/s, loss (batch)=0.729]"
     ]
    },
    {
     "name": "stdout",
     "output_type": "stream",
     "text": [
      "Validation dice loss: 1.4783827066421509, IoU Score 0.0016022631898522377\n"
     ]
    },
    {
     "name": "stderr",
     "output_type": "stream",
     "text": [
      "Validation round: 100%|██████████| 115/115 [00:03<00:00, 34.79batch/s]\n",
      "Epoch 2/60:  58%|█████▊    | 266/456 [00:24<01:46,  1.79img/s, loss (batch)=0.657]"
     ]
    },
    {
     "name": "stdout",
     "output_type": "stream",
     "text": [
      "Validation dice loss: 1.4180740118026733, IoU Score 0.0016208156011998653\n"
     ]
    },
    {
     "name": "stderr",
     "output_type": "stream",
     "text": [
      "Validation round: 100%|██████████| 115/115 [00:03<00:00, 35.80batch/s]\n",
      "Epoch 2/60:  78%|███████▊  | 356/456 [00:32<00:54,  1.85img/s, loss (batch)=0.714]"
     ]
    },
    {
     "name": "stdout",
     "output_type": "stream",
     "text": [
      "Validation dice loss: 1.4434797763824463, IoU Score 0.002239848952740431\n"
     ]
    },
    {
     "name": "stderr",
     "output_type": "stream",
     "text": [
      "Validation round: 100%|██████████| 115/115 [00:03<00:00, 34.94batch/s]\n",
      "Epoch 2/60:  98%|█████████▊| 446/456 [00:41<00:05,  1.80img/s, loss (batch)=0.767]"
     ]
    },
    {
     "name": "stdout",
     "output_type": "stream",
     "text": [
      "Validation dice loss: 1.3872992992401123, IoU Score 0.0023431330919265747\n"
     ]
    },
    {
     "name": "stderr",
     "output_type": "stream",
     "text": [
      "Epoch 2/60: 100%|██████████| 456/456 [00:41<00:00, 10.87img/s, loss (batch)=0.663]\n",
      "Validation round: 100%|██████████| 115/115 [00:03<00:00, 34.09batch/s]\n",
      "Epoch 3/60:  18%|█▊        | 80/456 [00:07<03:23,  1.84img/s, loss (batch)=0.574]"
     ]
    },
    {
     "name": "stdout",
     "output_type": "stream",
     "text": [
      "Validation dice loss: 1.2944380044937134, IoU Score 0.0024087524507194757\n"
     ]
    },
    {
     "name": "stderr",
     "output_type": "stream",
     "text": [
      "Validation round: 100%|██████████| 115/115 [00:03<00:00, 34.90batch/s]\n",
      "Epoch 3/60:  37%|███▋      | 170/456 [00:15<02:38,  1.80img/s, loss (batch)=0.517]"
     ]
    },
    {
     "name": "stdout",
     "output_type": "stream",
     "text": [
      "Validation dice loss: 1.2148922681808472, IoU Score 0.0020735524594783783\n"
     ]
    },
    {
     "name": "stderr",
     "output_type": "stream",
     "text": [
      "Validation round: 100%|██████████| 115/115 [00:03<00:00, 35.30batch/s]\n"
     ]
    },
    {
     "name": "stdout",
     "output_type": "stream",
     "text": [
      "Validation dice loss: 1.228198766708374, IoU Score 0.002581576118245721\n"
     ]
    },
    {
     "name": "stderr",
     "output_type": "stream",
     "text": [
      "Validation round: 100%|██████████| 115/115 [00:03<00:00, 34.16batch/s]\n",
      "Epoch 3/60:  77%|███████▋  | 350/456 [00:32<00:47,  2.24img/s, loss (batch)=0.649]"
     ]
    },
    {
     "name": "stdout",
     "output_type": "stream",
     "text": [
      "Validation dice loss: 1.1817176342010498, IoU Score 0.0023361751809716225\n"
     ]
    },
    {
     "name": "stderr",
     "output_type": "stream",
     "text": [
      "Validation round: 100%|██████████| 115/115 [00:03<00:00, 35.97batch/s]\n",
      "Epoch 3/60:  96%|█████████▋| 440/456 [00:40<00:08,  1.85img/s, loss (batch)=0.525]"
     ]
    },
    {
     "name": "stdout",
     "output_type": "stream",
     "text": [
      "Validation dice loss: 1.1807307004928589, IoU Score 0.002377681201323867\n"
     ]
    },
    {
     "name": "stderr",
     "output_type": "stream",
     "text": [
      "Epoch 3/60: 100%|██████████| 456/456 [00:41<00:00, 11.00img/s, loss (batch)=0.593]\n",
      "Validation round: 100%|██████████| 115/115 [00:03<00:00, 35.61batch/s]\n",
      "Epoch 4/60:  16%|█▌        | 74/456 [00:07<03:28,  1.83img/s, loss (batch)=0.581]"
     ]
    },
    {
     "name": "stdout",
     "output_type": "stream",
     "text": [
      "Validation dice loss: 1.1562100648880005, IoU Score 0.002231254708021879\n"
     ]
    },
    {
     "name": "stderr",
     "output_type": "stream",
     "text": [
      "Validation round: 100%|██████████| 115/115 [00:03<00:00, 29.94batch/s]\n",
      "Epoch 4/60:  36%|███▌      | 164/456 [00:15<03:05,  1.57img/s, loss (batch)=0.577]"
     ]
    },
    {
     "name": "stdout",
     "output_type": "stream",
     "text": [
      "Validation dice loss: 1.1212044954299927, IoU Score 0.002576410071924329\n"
     ]
    },
    {
     "name": "stderr",
     "output_type": "stream",
     "text": [
      "Validation round: 100%|██████████| 115/115 [00:03<00:00, 34.22batch/s]\n",
      "Epoch 4/60:  56%|█████▌    | 254/456 [00:24<01:53,  1.77img/s, loss (batch)=0.581]"
     ]
    },
    {
     "name": "stdout",
     "output_type": "stream",
     "text": [
      "Validation dice loss: 1.1293710470199585, IoU Score 0.0022895915899425745\n"
     ]
    },
    {
     "name": "stderr",
     "output_type": "stream",
     "text": [
      "Validation round: 100%|██████████| 115/115 [00:03<00:00, 35.67batch/s]\n",
      "Epoch 4/60:  75%|███████▌  | 344/456 [00:32<01:00,  1.84img/s, loss (batch)=0.474]"
     ]
    },
    {
     "name": "stdout",
     "output_type": "stream",
     "text": [
      "Validation dice loss: 1.1029986143112183, IoU Score 0.0024252375587821007\n"
     ]
    },
    {
     "name": "stderr",
     "output_type": "stream",
     "text": [
      "Validation round: 100%|██████████| 115/115 [00:03<00:00, 35.34batch/s]\n",
      "Epoch 4/60:  95%|█████████▌| 434/456 [00:40<00:12,  1.82img/s, loss (batch)=0.762]"
     ]
    },
    {
     "name": "stdout",
     "output_type": "stream",
     "text": [
      "Validation dice loss: 1.1205681562423706, IoU Score 0.0025463150814175606\n"
     ]
    },
    {
     "name": "stderr",
     "output_type": "stream",
     "text": [
      "Epoch 4/60: 100%|██████████| 456/456 [00:41<00:00, 11.02img/s, loss (batch)=0.587]\n",
      "Validation round: 100%|██████████| 115/115 [00:03<00:00, 30.23batch/s]\n"
     ]
    },
    {
     "name": "stdout",
     "output_type": "stream",
     "text": [
      "Validation dice loss: 1.0352305173873901, IoU Score 0.002462388016283512\n"
     ]
    },
    {
     "name": "stderr",
     "output_type": "stream",
     "text": [
      "Validation round: 100%|██████████| 115/115 [00:03<00:00, 35.47batch/s]\n",
      "Epoch 5/60:  35%|███▍      | 158/456 [00:15<02:42,  1.83img/s, loss (batch)=0.466]"
     ]
    },
    {
     "name": "stdout",
     "output_type": "stream",
     "text": [
      "Validation dice loss: 1.0696702003479004, IoU Score 0.0027210789266973734\n"
     ]
    },
    {
     "name": "stderr",
     "output_type": "stream",
     "text": [
      "Validation round: 100%|██████████| 115/115 [00:03<00:00, 34.67batch/s]\n",
      "Epoch 5/60:  54%|█████▍    | 248/456 [00:23<01:56,  1.79img/s, loss (batch)=0.513]"
     ]
    },
    {
     "name": "stdout",
     "output_type": "stream",
     "text": [
      "Validation dice loss: 1.0278829336166382, IoU Score 0.002512037055566907\n"
     ]
    },
    {
     "name": "stderr",
     "output_type": "stream",
     "text": [
      "Validation round: 100%|██████████| 115/115 [00:03<00:00, 34.78batch/s]\n",
      "Epoch 5/60:  74%|███████▍  | 338/456 [00:31<00:55,  2.13img/s, loss (batch)=0.48] "
     ]
    },
    {
     "name": "stdout",
     "output_type": "stream",
     "text": [
      "Validation dice loss: 1.0680896043777466, IoU Score 0.002849089913070202\n"
     ]
    },
    {
     "name": "stderr",
     "output_type": "stream",
     "text": [
      "Validation round: 100%|██████████| 115/115 [00:03<00:00, 32.81batch/s]\n",
      "Epoch 5/60:  94%|█████████▍| 428/456 [00:40<00:16,  1.67img/s, loss (batch)=0.681]"
     ]
    },
    {
     "name": "stdout",
     "output_type": "stream",
     "text": [
      "Validation dice loss: 1.0016242265701294, IoU Score 0.0026693688705563545\n"
     ]
    },
    {
     "name": "stderr",
     "output_type": "stream",
     "text": [
      "Epoch 5/60: 100%|██████████| 456/456 [00:42<00:00, 10.85img/s, loss (batch)=0.534]\n",
      "Validation round: 100%|██████████| 115/115 [00:03<00:00, 35.70batch/s]\n",
      "Epoch 6/60:  14%|█▎        | 62/456 [00:06<03:33,  1.84img/s, loss (batch)=0.597]"
     ]
    },
    {
     "name": "stdout",
     "output_type": "stream",
     "text": [
      "Validation dice loss: 0.9878802299499512, IoU Score 0.0027519064024090767\n"
     ]
    },
    {
     "name": "stderr",
     "output_type": "stream",
     "text": [
      "Validation round: 100%|██████████| 115/115 [00:03<00:00, 35.33batch/s]\n",
      "Epoch 6/60:  33%|███▎      | 152/456 [00:14<02:46,  1.82img/s, loss (batch)=0.548]"
     ]
    },
    {
     "name": "stdout",
     "output_type": "stream",
     "text": [
      "Validation dice loss: 1.0635508298873901, IoU Score 0.0029135546647012234\n"
     ]
    },
    {
     "name": "stderr",
     "output_type": "stream",
     "text": [
      "Validation round: 100%|██████████| 115/115 [00:03<00:00, 34.52batch/s]\n",
      "Epoch 6/60:  53%|█████▎    | 242/456 [00:22<01:59,  1.79img/s, loss (batch)=0.605]"
     ]
    },
    {
     "name": "stdout",
     "output_type": "stream",
     "text": [
      "Validation dice loss: 1.0248552560806274, IoU Score 0.002610080176964402\n"
     ]
    },
    {
     "name": "stderr",
     "output_type": "stream",
     "text": [
      "Validation round: 100%|██████████| 115/115 [00:03<00:00, 34.05batch/s]\n",
      "Epoch 6/60:  73%|███████▎  | 332/456 [00:31<01:10,  1.76img/s, loss (batch)=0.511]"
     ]
    },
    {
     "name": "stdout",
     "output_type": "stream",
     "text": [
      "Validation dice loss: 1.0095059871673584, IoU Score 0.0027377360966056585\n"
     ]
    },
    {
     "name": "stderr",
     "output_type": "stream",
     "text": [
      "Validation round: 100%|██████████| 115/115 [00:03<00:00, 34.70batch/s]\n",
      "Epoch 6/60:  93%|█████████▎| 422/456 [00:39<00:19,  1.78img/s, loss (batch)=0.456]"
     ]
    },
    {
     "name": "stdout",
     "output_type": "stream",
     "text": [
      "Validation dice loss: 1.0160198211669922, IoU Score 0.0030139160808175802\n"
     ]
    },
    {
     "name": "stderr",
     "output_type": "stream",
     "text": [
      "Epoch 6/60: 100%|██████████| 456/456 [00:41<00:00, 10.96img/s, loss (batch)=0.535]\n",
      "Validation round: 100%|██████████| 115/115 [00:03<00:00, 35.51batch/s]\n",
      "Epoch 7/60:  12%|█▏        | 56/456 [00:06<03:37,  1.84img/s, loss (batch)=0.476]"
     ]
    },
    {
     "name": "stdout",
     "output_type": "stream",
     "text": [
      "Validation dice loss: 1.0128930807113647, IoU Score 0.002927439520135522\n"
     ]
    },
    {
     "name": "stderr",
     "output_type": "stream",
     "text": [
      "Validation round: 100%|██████████| 115/115 [00:03<00:00, 35.77batch/s]\n",
      "Epoch 7/60:  32%|███▏      | 146/456 [00:14<02:47,  1.85img/s, loss (batch)=0.481]"
     ]
    },
    {
     "name": "stdout",
     "output_type": "stream",
     "text": [
      "Validation dice loss: 0.9686515927314758, IoU Score 0.0029481903184205294\n"
     ]
    },
    {
     "name": "stderr",
     "output_type": "stream",
     "text": [
      "Validation round: 100%|██████████| 115/115 [00:03<00:00, 34.86batch/s]\n",
      "Epoch 7/60:  52%|█████▏    | 236/456 [00:22<02:02,  1.80img/s, loss (batch)=0.552]"
     ]
    },
    {
     "name": "stdout",
     "output_type": "stream",
     "text": [
      "Validation dice loss: 1.0518206357955933, IoU Score 0.0029042584355920553\n"
     ]
    },
    {
     "name": "stderr",
     "output_type": "stream",
     "text": [
      "Validation round: 100%|██████████| 115/115 [00:03<00:00, 34.27batch/s]\n",
      "Epoch 7/60:  71%|███████▏  | 326/456 [00:31<01:13,  1.77img/s, loss (batch)=0.812]"
     ]
    },
    {
     "name": "stdout",
     "output_type": "stream",
     "text": [
      "Validation dice loss: 1.0466595888137817, IoU Score 0.0030023683793842793\n"
     ]
    },
    {
     "name": "stderr",
     "output_type": "stream",
     "text": [
      "Validation round: 100%|██████████| 115/115 [00:03<00:00, 34.77batch/s]\n",
      "Epoch 7/60:  91%|█████████ | 416/456 [00:39<00:22,  1.80img/s, loss (batch)=0.441]"
     ]
    },
    {
     "name": "stdout",
     "output_type": "stream",
     "text": [
      "Validation dice loss: 1.045398473739624, IoU Score 0.003050918458029628\n"
     ]
    },
    {
     "name": "stderr",
     "output_type": "stream",
     "text": [
      "Epoch 7/60: 100%|██████████| 456/456 [00:41<00:00, 11.01img/s, loss (batch)=0.836]\n",
      "Validation round: 100%|██████████| 115/115 [00:03<00:00, 32.74batch/s]\n"
     ]
    },
    {
     "name": "stdout",
     "output_type": "stream",
     "text": [
      "Validation dice loss: 1.0572112798690796, IoU Score 0.003064995165914297\n"
     ]
    },
    {
     "name": "stderr",
     "output_type": "stream",
     "text": [
      "Validation round: 100%|██████████| 115/115 [00:03<00:00, 34.88batch/s]\n",
      "Epoch 8/60:  31%|███       | 140/456 [00:14<02:53,  1.82img/s, loss (batch)=0.62] "
     ]
    },
    {
     "name": "stdout",
     "output_type": "stream",
     "text": [
      "Validation dice loss: 0.9995145201683044, IoU Score 0.003203845117241144\n"
     ]
    },
    {
     "name": "stderr",
     "output_type": "stream",
     "text": [
      "Validation round: 100%|██████████| 115/115 [00:03<00:00, 35.00batch/s]\n",
      "Epoch 8/60:  50%|█████     | 230/456 [00:22<02:05,  1.81img/s, loss (batch)=0.496]"
     ]
    },
    {
     "name": "stdout",
     "output_type": "stream",
     "text": [
      "Validation dice loss: 1.0894136428833008, IoU Score 0.003235806478187442\n"
     ]
    },
    {
     "name": "stderr",
     "output_type": "stream",
     "text": [
      "Validation round: 100%|██████████| 115/115 [00:03<00:00, 35.02batch/s]\n",
      "Epoch 8/60:  70%|███████   | 320/456 [00:31<01:15,  1.81img/s, loss (batch)=0.614]"
     ]
    },
    {
     "name": "stdout",
     "output_type": "stream",
     "text": [
      "Validation dice loss: 1.0584731101989746, IoU Score 0.0032604397274553776\n"
     ]
    },
    {
     "name": "stderr",
     "output_type": "stream",
     "text": [
      "Validation round: 100%|██████████| 115/115 [00:03<00:00, 29.44batch/s]\n",
      "Epoch 8/60:  90%|████████▉ | 410/456 [00:39<00:29,  1.55img/s, loss (batch)=0.575]"
     ]
    },
    {
     "name": "stdout",
     "output_type": "stream",
     "text": [
      "Validation dice loss: 0.9641630053520203, IoU Score 0.003112784121185541\n"
     ]
    },
    {
     "name": "stderr",
     "output_type": "stream",
     "text": [
      "Epoch 8/60: 100%|██████████| 456/456 [00:42<00:00, 10.75img/s, loss (batch)=0.591]\n",
      "Validation round: 100%|██████████| 115/115 [00:03<00:00, 34.33batch/s]\n",
      "Epoch 9/60:  10%|▉         | 44/456 [00:05<03:51,  1.78img/s, loss (batch)=0.589]"
     ]
    },
    {
     "name": "stdout",
     "output_type": "stream",
     "text": [
      "Validation dice loss: 1.083836555480957, IoU Score 0.0032566161826252937\n"
     ]
    },
    {
     "name": "stderr",
     "output_type": "stream",
     "text": [
      "Validation round: 100%|██████████| 115/115 [00:03<00:00, 35.15batch/s]\n",
      "Epoch 9/60:  29%|██▉       | 134/456 [00:13<02:57,  1.82img/s, loss (batch)=0.495]"
     ]
    },
    {
     "name": "stdout",
     "output_type": "stream",
     "text": [
      "Validation dice loss: 0.873094379901886, IoU Score 0.00316603877581656\n"
     ]
    },
    {
     "name": "stderr",
     "output_type": "stream",
     "text": [
      "Validation round: 100%|██████████| 115/115 [00:03<00:00, 35.06batch/s]\n",
      "Epoch 9/60:  49%|████▉     | 224/456 [00:21<02:07,  1.82img/s, loss (batch)=0.465]"
     ]
    },
    {
     "name": "stdout",
     "output_type": "stream",
     "text": [
      "Validation dice loss: 0.8912853598594666, IoU Score 0.0032460703514516354\n"
     ]
    },
    {
     "name": "stderr",
     "output_type": "stream",
     "text": [
      "Validation round: 100%|██████████| 115/115 [00:03<00:00, 30.02batch/s]\n",
      "Epoch 9/60:  69%|██████▉   | 314/456 [00:30<01:30,  1.57img/s, loss (batch)=0.526]"
     ]
    },
    {
     "name": "stdout",
     "output_type": "stream",
     "text": [
      "Validation dice loss: 1.0340461730957031, IoU Score 0.0031749384943395853\n"
     ]
    },
    {
     "name": "stderr",
     "output_type": "stream",
     "text": [
      "Validation round: 100%|██████████| 115/115 [00:03<00:00, 35.42batch/s]\n",
      "Epoch 9/60:  89%|████████▊ | 404/456 [00:38<00:28,  1.83img/s, loss (batch)=0.42] "
     ]
    },
    {
     "name": "stdout",
     "output_type": "stream",
     "text": [
      "Validation dice loss: 1.0695858001708984, IoU Score 0.003533619688823819\n"
     ]
    },
    {
     "name": "stderr",
     "output_type": "stream",
     "text": [
      "Epoch 9/60: 100%|██████████| 456/456 [00:41<00:00, 10.96img/s, loss (batch)=0.476]\n",
      "Validation round: 100%|██████████| 115/115 [00:03<00:00, 34.64batch/s]\n",
      "Epoch 10/60:   8%|▊         | 38/456 [00:05<03:16,  2.12img/s, loss (batch)=0.644]"
     ]
    },
    {
     "name": "stdout",
     "output_type": "stream",
     "text": [
      "Validation dice loss: 0.9356434345245361, IoU Score 0.003455455182120204\n"
     ]
    },
    {
     "name": "stderr",
     "output_type": "stream",
     "text": [
      "Validation round: 100%|██████████| 115/115 [00:03<00:00, 32.07batch/s]\n",
      "Epoch 10/60:  28%|██▊       | 128/456 [00:13<03:16,  1.67img/s, loss (batch)=0.361]"
     ]
    },
    {
     "name": "stdout",
     "output_type": "stream",
     "text": [
      "Validation dice loss: 1.0013148784637451, IoU Score 0.0031027174554765224\n"
     ]
    },
    {
     "name": "stderr",
     "output_type": "stream",
     "text": [
      "Validation round: 100%|██████████| 115/115 [00:03<00:00, 34.76batch/s]\n",
      "Epoch 10/60:  48%|████▊     | 218/456 [00:22<01:58,  2.01img/s, loss (batch)=0.414]"
     ]
    },
    {
     "name": "stdout",
     "output_type": "stream",
     "text": [
      "Validation dice loss: 0.9755356907844543, IoU Score 0.0033711413852870464\n"
     ]
    },
    {
     "name": "stderr",
     "output_type": "stream",
     "text": [
      "Validation round: 100%|██████████| 115/115 [00:03<00:00, 35.26batch/s]\n",
      "Epoch 10/60:  68%|██████▊   | 308/456 [00:30<01:20,  1.83img/s, loss (batch)=0.419]"
     ]
    },
    {
     "name": "stdout",
     "output_type": "stream",
     "text": [
      "Validation dice loss: 1.0163754224777222, IoU Score 0.0035221760626882315\n"
     ]
    },
    {
     "name": "stderr",
     "output_type": "stream",
     "text": [
      "Validation round: 100%|██████████| 115/115 [00:03<00:00, 35.39batch/s]\n",
      "Epoch 10/60:  87%|████████▋ | 398/456 [00:38<00:28,  2.07img/s, loss (batch)=0.73] "
     ]
    },
    {
     "name": "stdout",
     "output_type": "stream",
     "text": [
      "Validation dice loss: 1.0578981637954712, IoU Score 0.0036495684180408716\n"
     ]
    },
    {
     "name": "stderr",
     "output_type": "stream",
     "text": [
      "Epoch 10/60: 100%|██████████| 456/456 [00:41<00:00, 10.94img/s, loss (batch)=0.363]\n",
      "Validation round: 100%|██████████| 115/115 [00:03<00:00, 33.21batch/s]\n",
      "Epoch 11/60:   7%|▋         | 32/456 [00:05<04:07,  1.71img/s, loss (batch)=0.678]"
     ]
    },
    {
     "name": "stdout",
     "output_type": "stream",
     "text": [
      "Validation dice loss: 0.9730211496353149, IoU Score 0.003639554139226675\n"
     ]
    },
    {
     "name": "stderr",
     "output_type": "stream",
     "text": [
      "Validation round: 100%|██████████| 115/115 [00:03<00:00, 33.66batch/s]\n",
      "Epoch 11/60:  27%|██▋       | 122/456 [00:14<03:11,  1.75img/s, loss (batch)=0.468]"
     ]
    },
    {
     "name": "stdout",
     "output_type": "stream",
     "text": [
      "Validation dice loss: 1.0141881704330444, IoU Score 0.003546196734532714\n"
     ]
    },
    {
     "name": "stderr",
     "output_type": "stream",
     "text": [
      "Validation round: 100%|██████████| 115/115 [00:03<00:00, 34.57batch/s]\n",
      "Epoch 11/60:  46%|████▋     | 212/456 [00:22<02:16,  1.79img/s, loss (batch)=0.394]"
     ]
    },
    {
     "name": "stdout",
     "output_type": "stream",
     "text": [
      "Validation dice loss: 0.9571975469589233, IoU Score 0.0035326890647411346\n"
     ]
    },
    {
     "name": "stderr",
     "output_type": "stream",
     "text": [
      "Validation round: 100%|██████████| 115/115 [00:03<00:00, 35.26batch/s]\n",
      "Epoch 11/60:  66%|██████▌   | 302/456 [00:30<01:24,  1.82img/s, loss (batch)=0.494]"
     ]
    },
    {
     "name": "stdout",
     "output_type": "stream",
     "text": [
      "Validation dice loss: 0.9702242612838745, IoU Score 0.0036134046968072653\n"
     ]
    },
    {
     "name": "stderr",
     "output_type": "stream",
     "text": [
      "Validation round: 100%|██████████| 115/115 [00:03<00:00, 32.69batch/s]\n",
      "Epoch 11/60:  86%|████████▌ | 392/456 [00:38<00:38,  1.68img/s, loss (batch)=0.442]"
     ]
    },
    {
     "name": "stdout",
     "output_type": "stream",
     "text": [
      "Validation dice loss: 0.9264200329780579, IoU Score 0.003475294215604663\n"
     ]
    },
    {
     "name": "stderr",
     "output_type": "stream",
     "text": [
      "Epoch 11/60: 100%|██████████| 456/456 [00:42<00:00, 10.68img/s, loss (batch)=0.481]\n",
      "Validation round: 100%|██████████| 115/115 [00:03<00:00, 35.73batch/s]\n",
      "Epoch 12/60:   6%|▌         | 26/456 [00:04<03:53,  1.84img/s, loss (batch)=0.369]"
     ]
    },
    {
     "name": "stdout",
     "output_type": "stream",
     "text": [
      "Validation dice loss: 1.1305863857269287, IoU Score 0.003537745913490653\n"
     ]
    },
    {
     "name": "stderr",
     "output_type": "stream",
     "text": [
      "Validation round: 100%|██████████| 115/115 [00:03<00:00, 35.62batch/s]\n",
      "Epoch 12/60:  25%|██▌       | 116/456 [00:12<03:04,  1.84img/s, loss (batch)=0.468]"
     ]
    },
    {
     "name": "stdout",
     "output_type": "stream",
     "text": [
      "Validation dice loss: 0.9461775422096252, IoU Score 0.003430219367146492\n"
     ]
    },
    {
     "name": "stderr",
     "output_type": "stream",
     "text": [
      "Validation round: 100%|██████████| 115/115 [00:03<00:00, 32.20batch/s]\n",
      "Epoch 12/60:  45%|████▌     | 206/456 [00:21<02:29,  1.68img/s, loss (batch)=0.451]"
     ]
    },
    {
     "name": "stdout",
     "output_type": "stream",
     "text": [
      "Validation dice loss: 0.8980953693389893, IoU Score 0.0035048723220825195\n"
     ]
    },
    {
     "name": "stderr",
     "output_type": "stream",
     "text": [
      "Validation round: 100%|██████████| 115/115 [00:03<00:00, 29.70batch/s]\n",
      "Epoch 12/60:  65%|██████▍   | 296/456 [00:29<01:42,  1.56img/s, loss (batch)=0.316]"
     ]
    },
    {
     "name": "stdout",
     "output_type": "stream",
     "text": [
      "Validation dice loss: 1.1282202005386353, IoU Score 0.0038130178581923246\n"
     ]
    },
    {
     "name": "stderr",
     "output_type": "stream",
     "text": [
      "Validation round: 100%|██████████| 115/115 [00:03<00:00, 35.20batch/s]\n",
      "Epoch 12/60:  85%|████████▍ | 386/456 [00:37<00:38,  1.81img/s, loss (batch)=0.378]"
     ]
    },
    {
     "name": "stdout",
     "output_type": "stream",
     "text": [
      "Validation dice loss: 0.928324818611145, IoU Score 0.003664399031549692\n"
     ]
    },
    {
     "name": "stderr",
     "output_type": "stream",
     "text": [
      "Epoch 12/60: 100%|██████████| 456/456 [00:41<00:00, 10.92img/s, loss (batch)=0.436]\n",
      "Validation round: 100%|██████████| 115/115 [00:03<00:00, 35.01batch/s]\n",
      "Epoch 13/60:   4%|▍         | 20/456 [00:04<04:00,  1.82img/s, loss (batch)=0.417]"
     ]
    },
    {
     "name": "stdout",
     "output_type": "stream",
     "text": [
      "Validation dice loss: 1.059299111366272, IoU Score 0.0036527926567941904\n"
     ]
    },
    {
     "name": "stderr",
     "output_type": "stream",
     "text": [
      "Validation round: 100%|██████████| 115/115 [00:03<00:00, 34.38batch/s]\n",
      "Epoch 13/60:  24%|██▍       | 110/456 [00:12<03:15,  1.77img/s, loss (batch)=0.394]"
     ]
    },
    {
     "name": "stdout",
     "output_type": "stream",
     "text": [
      "Validation dice loss: 0.897739052772522, IoU Score 0.003748351475223899\n"
     ]
    },
    {
     "name": "stderr",
     "output_type": "stream",
     "text": [
      "Validation round: 100%|██████████| 115/115 [00:03<00:00, 30.11batch/s]\n",
      "Epoch 13/60:  44%|████▍     | 200/456 [00:21<02:42,  1.58img/s, loss (batch)=0.482]"
     ]
    },
    {
     "name": "stdout",
     "output_type": "stream",
     "text": [
      "Validation dice loss: 0.881073534488678, IoU Score 0.0035565600264817476\n"
     ]
    },
    {
     "name": "stderr",
     "output_type": "stream",
     "text": [
      "Validation round: 100%|██████████| 115/115 [00:03<00:00, 34.44batch/s]\n",
      "Epoch 13/60:  64%|██████▎   | 290/456 [00:29<01:33,  1.78img/s, loss (batch)=0.376]"
     ]
    },
    {
     "name": "stdout",
     "output_type": "stream",
     "text": [
      "Validation dice loss: 0.9118438959121704, IoU Score 0.0037126438692212105\n"
     ]
    },
    {
     "name": "stderr",
     "output_type": "stream",
     "text": [
      "Validation round: 100%|██████████| 115/115 [00:03<00:00, 34.22batch/s]\n",
      "Epoch 13/60:  83%|████████▎ | 380/456 [00:37<00:42,  1.77img/s, loss (batch)=0.492]"
     ]
    },
    {
     "name": "stdout",
     "output_type": "stream",
     "text": [
      "Validation dice loss: 0.9374567866325378, IoU Score 0.0038214209489524364\n"
     ]
    },
    {
     "name": "stderr",
     "output_type": "stream",
     "text": [
      "Epoch 13/60: 100%|██████████| 456/456 [00:42<00:00, 10.81img/s, loss (batch)=0.372]\n",
      "Validation round: 100%|██████████| 115/115 [00:03<00:00, 35.16batch/s]\n",
      "Epoch 14/60:   3%|▎         | 14/456 [00:04<04:02,  1.82img/s, loss (batch)=0.452]"
     ]
    },
    {
     "name": "stdout",
     "output_type": "stream",
     "text": [
      "Validation dice loss: 0.8112626075744629, IoU Score 0.0035421429201960564\n"
     ]
    },
    {
     "name": "stderr",
     "output_type": "stream",
     "text": [
      "Validation round: 100%|██████████| 115/115 [00:03<00:00, 34.84batch/s]\n",
      "Epoch 14/60:  23%|██▎       | 104/456 [00:12<03:16,  1.79img/s, loss (batch)=0.613]"
     ]
    },
    {
     "name": "stdout",
     "output_type": "stream",
     "text": [
      "Validation dice loss: 0.8875360488891602, IoU Score 0.0037466140929609537\n"
     ]
    },
    {
     "name": "stderr",
     "output_type": "stream",
     "text": [
      "Validation round: 100%|██████████| 115/115 [00:03<00:00, 35.54batch/s]\n",
      "Epoch 14/60:  43%|████▎     | 194/456 [00:20<02:18,  1.89img/s, loss (batch)=0.353]"
     ]
    },
    {
     "name": "stdout",
     "output_type": "stream",
     "text": [
      "Validation dice loss: 0.9769987463951111, IoU Score 0.0037663292605429888\n"
     ]
    },
    {
     "name": "stderr",
     "output_type": "stream",
     "text": [
      "Validation round: 100%|██████████| 115/115 [00:03<00:00, 32.52batch/s]\n",
      "Epoch 14/60:  62%|██████▏   | 284/456 [00:29<01:41,  1.69img/s, loss (batch)=0.603]"
     ]
    },
    {
     "name": "stdout",
     "output_type": "stream",
     "text": [
      "Validation dice loss: 0.9980097413063049, IoU Score 0.003961886744946241\n"
     ]
    },
    {
     "name": "stderr",
     "output_type": "stream",
     "text": [
      "Validation round: 100%|██████████| 115/115 [00:03<00:00, 33.77batch/s]\n",
      "Epoch 14/60:  82%|████████▏ | 374/456 [00:37<00:46,  1.76img/s, loss (batch)=0.354]"
     ]
    },
    {
     "name": "stdout",
     "output_type": "stream",
     "text": [
      "Validation dice loss: 0.9137566089630127, IoU Score 0.003744008019566536\n"
     ]
    },
    {
     "name": "stderr",
     "output_type": "stream",
     "text": [
      "Epoch 14/60: 100%|██████████| 456/456 [00:42<00:00, 10.85img/s, loss (batch)=0.327]\n",
      "Validation round: 100%|██████████| 115/115 [00:03<00:00, 35.02batch/s]\n",
      "Epoch 15/60:   2%|▏         | 8/456 [00:03<05:01,  1.49img/s, loss (batch)=0.508]"
     ]
    },
    {
     "name": "stdout",
     "output_type": "stream",
     "text": [
      "Validation dice loss: 0.9812415838241577, IoU Score 0.00405868049710989\n"
     ]
    },
    {
     "name": "stderr",
     "output_type": "stream",
     "text": [
      "Validation round: 100%|██████████| 115/115 [00:03<00:00, 34.94batch/s]\n",
      "Epoch 15/60:  21%|██▏       | 98/456 [00:11<03:18,  1.81img/s, loss (batch)=0.456]"
     ]
    },
    {
     "name": "stdout",
     "output_type": "stream",
     "text": [
      "Validation dice loss: 0.9579859972000122, IoU Score 0.00371210346929729\n"
     ]
    },
    {
     "name": "stderr",
     "output_type": "stream",
     "text": [
      "Validation round: 100%|██████████| 115/115 [00:03<00:00, 33.71batch/s]\n",
      "Epoch 15/60:  41%|████      | 188/456 [00:20<02:33,  1.75img/s, loss (batch)=0.327]"
     ]
    },
    {
     "name": "stdout",
     "output_type": "stream",
     "text": [
      "Validation dice loss: 0.8353074789047241, IoU Score 0.0037519405595958233\n"
     ]
    },
    {
     "name": "stderr",
     "output_type": "stream",
     "text": [
      "Validation round: 100%|██████████| 115/115 [00:03<00:00, 35.51batch/s]\n",
      "Epoch 15/60:  61%|██████    | 278/456 [00:28<01:37,  1.83img/s, loss (batch)=0.682]"
     ]
    },
    {
     "name": "stdout",
     "output_type": "stream",
     "text": [
      "Validation dice loss: 0.9332594871520996, IoU Score 0.003825585823506117\n"
     ]
    },
    {
     "name": "stderr",
     "output_type": "stream",
     "text": [
      "Validation round: 100%|██████████| 115/115 [00:03<00:00, 35.31batch/s]\n",
      "Epoch 15/60:  81%|████████  | 368/456 [00:36<00:48,  1.82img/s, loss (batch)=0.384]"
     ]
    },
    {
     "name": "stdout",
     "output_type": "stream",
     "text": [
      "Validation dice loss: 0.8322863578796387, IoU Score 0.003961233422160149\n"
     ]
    },
    {
     "name": "stderr",
     "output_type": "stream",
     "text": [
      "Validation round: 100%|██████████| 115/115 [00:03<00:00, 34.57batch/s]\n",
      "Epoch 15/60: 100%|██████████| 456/456 [00:45<00:00, 10.11img/s, loss (batch)=0.486]\n"
     ]
    },
    {
     "name": "stdout",
     "output_type": "stream",
     "text": [
      "Validation dice loss: 0.9219697713851929, IoU Score 0.004000239539891481\n"
     ]
    },
    {
     "name": "stderr",
     "output_type": "stream",
     "text": [
      "Validation round: 100%|██████████| 115/115 [00:03<00:00, 34.08batch/s]\n",
      "Epoch 16/60:  20%|██        | 92/456 [00:08<03:26,  1.76img/s, loss (batch)=0.36] "
     ]
    },
    {
     "name": "stdout",
     "output_type": "stream",
     "text": [
      "Validation dice loss: 0.8033086061477661, IoU Score 0.0038615907542407513\n"
     ]
    },
    {
     "name": "stderr",
     "output_type": "stream",
     "text": [
      "Validation round: 100%|██████████| 115/115 [00:03<00:00, 30.46batch/s]\n",
      "Epoch 16/60:  40%|███▉      | 182/456 [00:17<02:51,  1.59img/s, loss (batch)=0.359]"
     ]
    },
    {
     "name": "stdout",
     "output_type": "stream",
     "text": [
      "Validation dice loss: 0.9874202609062195, IoU Score 0.004004571586847305\n"
     ]
    },
    {
     "name": "stderr",
     "output_type": "stream",
     "text": [
      "Validation round: 100%|██████████| 115/115 [00:03<00:00, 35.16batch/s]\n",
      "Epoch 16/60:  60%|█████▉    | 272/456 [00:25<01:41,  1.81img/s, loss (batch)=0.545]"
     ]
    },
    {
     "name": "stdout",
     "output_type": "stream",
     "text": [
      "Validation dice loss: 0.8763364553451538, IoU Score 0.003952533006668091\n"
     ]
    },
    {
     "name": "stderr",
     "output_type": "stream",
     "text": [
      "Validation round: 100%|██████████| 115/115 [00:03<00:00, 30.84batch/s]\n",
      "Epoch 16/60:  79%|███████▉  | 362/456 [00:33<00:58,  1.62img/s, loss (batch)=0.477]"
     ]
    },
    {
     "name": "stdout",
     "output_type": "stream",
     "text": [
      "Validation dice loss: 0.8797956109046936, IoU Score 0.0038422553334385157\n"
     ]
    },
    {
     "name": "stderr",
     "output_type": "stream",
     "text": [
      "Validation round: 100%|██████████| 115/115 [00:03<00:00, 34.92batch/s]\n",
      "Epoch 16/60:  99%|█████████▉| 452/456 [00:42<00:02,  1.80img/s, loss (batch)=0.304]"
     ]
    },
    {
     "name": "stdout",
     "output_type": "stream",
     "text": [
      "Validation dice loss: 0.9499561786651611, IoU Score 0.0039201523177325726\n"
     ]
    },
    {
     "name": "stderr",
     "output_type": "stream",
     "text": [
      "Epoch 16/60: 100%|██████████| 456/456 [00:42<00:00, 10.76img/s, loss (batch)=0.346]\n",
      "Validation round: 100%|██████████| 115/115 [00:03<00:00, 30.60batch/s]\n",
      "Epoch 17/60:  19%|█▉        | 86/456 [00:08<03:53,  1.58img/s, loss (batch)=0.58]"
     ]
    },
    {
     "name": "stdout",
     "output_type": "stream",
     "text": [
      "Validation dice loss: 0.7516160607337952, IoU Score 0.0038533147890120745\n"
     ]
    },
    {
     "name": "stderr",
     "output_type": "stream",
     "text": [
      "Validation round: 100%|██████████| 115/115 [00:03<00:00, 33.95batch/s]\n",
      "Epoch 17/60:  39%|███▊      | 176/456 [00:16<02:39,  1.76img/s, loss (batch)=0.393]"
     ]
    },
    {
     "name": "stdout",
     "output_type": "stream",
     "text": [
      "Validation dice loss: 0.8108746409416199, IoU Score 0.003915713634341955\n"
     ]
    },
    {
     "name": "stderr",
     "output_type": "stream",
     "text": [
      "Validation round: 100%|██████████| 115/115 [00:03<00:00, 34.68batch/s]\n",
      "Epoch 17/60:  58%|█████▊    | 266/456 [00:24<01:47,  1.76img/s, loss (batch)=0.427]"
     ]
    },
    {
     "name": "stdout",
     "output_type": "stream",
     "text": [
      "Validation dice loss: 0.8292202353477478, IoU Score 0.004063067492097616\n"
     ]
    },
    {
     "name": "stderr",
     "output_type": "stream",
     "text": [
      "Validation round: 100%|██████████| 115/115 [00:03<00:00, 35.51batch/s]\n",
      "Epoch 17/60:  78%|███████▊  | 356/456 [00:32<00:54,  1.83img/s, loss (batch)=0.318]"
     ]
    },
    {
     "name": "stdout",
     "output_type": "stream",
     "text": [
      "Validation dice loss: 1.042218565940857, IoU Score 0.00391061045229435\n"
     ]
    },
    {
     "name": "stderr",
     "output_type": "stream",
     "text": [
      "Validation round: 100%|██████████| 115/115 [00:03<00:00, 34.47batch/s]\n",
      "Epoch 17/60:  98%|█████████▊| 446/456 [00:41<00:05,  1.78img/s, loss (batch)=0.371]"
     ]
    },
    {
     "name": "stdout",
     "output_type": "stream",
     "text": [
      "Validation dice loss: 0.8871616125106812, IoU Score 0.003929016180336475\n"
     ]
    },
    {
     "name": "stderr",
     "output_type": "stream",
     "text": [
      "Epoch 17/60: 100%|██████████| 456/456 [00:42<00:00, 10.82img/s, loss (batch)=0.442]\n",
      "Validation round: 100%|██████████| 115/115 [00:03<00:00, 34.85batch/s]\n",
      "Epoch 18/60:  18%|█▊        | 80/456 [00:07<03:28,  1.80img/s, loss (batch)=0.395]"
     ]
    },
    {
     "name": "stdout",
     "output_type": "stream",
     "text": [
      "Validation dice loss: 0.8172555565834045, IoU Score 0.0038286587223410606\n"
     ]
    },
    {
     "name": "stderr",
     "output_type": "stream",
     "text": [
      "Validation round: 100%|██████████| 115/115 [00:03<00:00, 33.78batch/s]\n",
      "Epoch 18/60:  37%|███▋      | 170/456 [00:16<02:43,  1.75img/s, loss (batch)=0.323]"
     ]
    },
    {
     "name": "stdout",
     "output_type": "stream",
     "text": [
      "Validation dice loss: 0.9565288424491882, IoU Score 0.004001719411462545\n"
     ]
    },
    {
     "name": "stderr",
     "output_type": "stream",
     "text": [
      "Validation round: 100%|██████████| 115/115 [00:03<00:00, 34.25batch/s]\n",
      "Epoch 18/60:  57%|█████▋    | 260/456 [00:24<01:50,  1.77img/s, loss (batch)=0.405]"
     ]
    },
    {
     "name": "stdout",
     "output_type": "stream",
     "text": [
      "Validation dice loss: 0.8289415240287781, IoU Score 0.0036922022700309753\n"
     ]
    },
    {
     "name": "stderr",
     "output_type": "stream",
     "text": [
      "Validation round: 100%|██████████| 115/115 [00:03<00:00, 34.50batch/s]\n",
      "Epoch 18/60:  77%|███████▋  | 350/456 [00:33<00:59,  1.79img/s, loss (batch)=0.515]"
     ]
    },
    {
     "name": "stdout",
     "output_type": "stream",
     "text": [
      "Validation dice loss: 0.8696762919425964, IoU Score 0.004038996063172817\n"
     ]
    },
    {
     "name": "stderr",
     "output_type": "stream",
     "text": [
      "Validation round: 100%|██████████| 115/115 [00:03<00:00, 32.00batch/s]\n",
      "Epoch 18/60:  96%|█████████▋| 440/456 [00:41<00:09,  1.67img/s, loss (batch)=0.31] "
     ]
    },
    {
     "name": "stdout",
     "output_type": "stream",
     "text": [
      "Validation dice loss: 0.8111822009086609, IoU Score 0.003914245869964361\n"
     ]
    },
    {
     "name": "stderr",
     "output_type": "stream",
     "text": [
      "Epoch 18/60: 100%|██████████| 456/456 [00:42<00:00, 10.79img/s, loss (batch)=0.359]\n",
      "Validation round: 100%|██████████| 115/115 [00:03<00:00, 34.70batch/s]\n",
      "Epoch 19/60:  16%|█▌        | 74/456 [00:07<03:33,  1.79img/s, loss (batch)=0.376]"
     ]
    },
    {
     "name": "stdout",
     "output_type": "stream",
     "text": [
      "Validation dice loss: 0.9152684211730957, IoU Score 0.0034742369316518307\n"
     ]
    },
    {
     "name": "stderr",
     "output_type": "stream",
     "text": [
      "Validation round: 100%|██████████| 115/115 [00:03<00:00, 34.39batch/s]\n"
     ]
    },
    {
     "name": "stdout",
     "output_type": "stream",
     "text": [
      "Validation dice loss: 0.9051715731620789, IoU Score 0.004009399097412825\n"
     ]
    },
    {
     "name": "stderr",
     "output_type": "stream",
     "text": [
      "Validation round: 100%|██████████| 115/115 [00:03<00:00, 34.98batch/s]\n",
      "Epoch 19/60:  56%|█████▌    | 254/456 [00:23<01:52,  1.80img/s, loss (batch)=0.343]"
     ]
    },
    {
     "name": "stdout",
     "output_type": "stream",
     "text": [
      "Validation dice loss: 0.8314356803894043, IoU Score 0.003930699545890093\n"
     ]
    },
    {
     "name": "stderr",
     "output_type": "stream",
     "text": [
      "Validation round: 100%|██████████| 115/115 [00:03<00:00, 30.38batch/s]\n",
      "Epoch 19/60:  75%|███████▌  | 344/456 [00:32<01:10,  1.59img/s, loss (batch)=0.454]"
     ]
    },
    {
     "name": "stdout",
     "output_type": "stream",
     "text": [
      "Validation dice loss: 0.8485723733901978, IoU Score 0.004022411070764065\n"
     ]
    },
    {
     "name": "stderr",
     "output_type": "stream",
     "text": [
      "Validation round: 100%|██████████| 115/115 [00:03<00:00, 34.80batch/s]\n",
      "Epoch 19/60:  95%|█████████▌| 434/456 [00:40<00:12,  1.80img/s, loss (batch)=0.354]"
     ]
    },
    {
     "name": "stdout",
     "output_type": "stream",
     "text": [
      "Validation dice loss: 0.8296383023262024, IoU Score 0.004179893061518669\n"
     ]
    },
    {
     "name": "stderr",
     "output_type": "stream",
     "text": [
      "Epoch 19/60: 100%|██████████| 456/456 [00:41<00:00, 10.86img/s, loss (batch)=0.363]\n",
      "Validation round: 100%|██████████| 115/115 [00:03<00:00, 30.04batch/s]\n",
      "Epoch 20/60:  15%|█▍        | 68/456 [00:07<04:06,  1.58img/s, loss (batch)=0.298]"
     ]
    },
    {
     "name": "stdout",
     "output_type": "stream",
     "text": [
      "Validation dice loss: 0.7978469729423523, IoU Score 0.003943226300179958\n"
     ]
    },
    {
     "name": "stderr",
     "output_type": "stream",
     "text": [
      "Validation round: 100%|██████████| 115/115 [00:03<00:00, 34.91batch/s]\n",
      "Epoch 20/60:  35%|███▍      | 158/456 [00:15<02:45,  1.80img/s, loss (batch)=0.41] "
     ]
    },
    {
     "name": "stdout",
     "output_type": "stream",
     "text": [
      "Validation dice loss: 0.8927285075187683, IoU Score 0.004080511629581451\n"
     ]
    },
    {
     "name": "stderr",
     "output_type": "stream",
     "text": [
      "Validation round: 100%|██████████| 115/115 [00:03<00:00, 34.81batch/s]\n",
      "Epoch 20/60:  54%|█████▍    | 248/456 [00:24<01:53,  1.83img/s, loss (batch)=0.366]"
     ]
    },
    {
     "name": "stdout",
     "output_type": "stream",
     "text": [
      "Validation dice loss: 0.845055103302002, IoU Score 0.004160505719482899\n"
     ]
    },
    {
     "name": "stderr",
     "output_type": "stream",
     "text": [
      "Validation round: 100%|██████████| 115/115 [00:03<00:00, 34.83batch/s]\n",
      "Epoch 20/60:  74%|███████▍  | 338/456 [00:32<01:05,  1.80img/s, loss (batch)=0.381]"
     ]
    },
    {
     "name": "stdout",
     "output_type": "stream",
     "text": [
      "Validation dice loss: 0.7992386817932129, IoU Score 0.004175674170255661\n"
     ]
    },
    {
     "name": "stderr",
     "output_type": "stream",
     "text": [
      "Validation round: 100%|██████████| 115/115 [00:03<00:00, 30.83batch/s]\n",
      "Epoch 20/60:  94%|█████████▍| 428/456 [00:41<00:17,  1.58img/s, loss (batch)=0.434]"
     ]
    },
    {
     "name": "stdout",
     "output_type": "stream",
     "text": [
      "Validation dice loss: 0.7893885970115662, IoU Score 0.004030534997582436\n"
     ]
    },
    {
     "name": "stderr",
     "output_type": "stream",
     "text": [
      "Epoch 20/60: 100%|██████████| 456/456 [00:42<00:00, 10.69img/s, loss (batch)=0.402]\n",
      "Validation round: 100%|██████████| 115/115 [00:03<00:00, 33.35batch/s]\n"
     ]
    },
    {
     "name": "stdout",
     "output_type": "stream",
     "text": [
      "Validation dice loss: 0.8009077310562134, IoU Score 0.003997665364295244\n"
     ]
    },
    {
     "name": "stderr",
     "output_type": "stream",
     "text": [
      "Validation round: 100%|██████████| 115/115 [00:03<00:00, 35.21batch/s]\n"
     ]
    },
    {
     "name": "stdout",
     "output_type": "stream",
     "text": [
      "Validation dice loss: 0.7623623013496399, IoU Score 0.0038381011690944433\n"
     ]
    },
    {
     "name": "stderr",
     "output_type": "stream",
     "text": [
      "Validation round: 100%|██████████| 115/115 [00:03<00:00, 34.96batch/s]\n",
      "Epoch 21/60:  53%|█████▎    | 242/456 [00:23<01:59,  1.80img/s, loss (batch)=0.323]"
     ]
    },
    {
     "name": "stdout",
     "output_type": "stream",
     "text": [
      "Validation dice loss: 0.8433316946029663, IoU Score 0.003970061428844929\n"
     ]
    },
    {
     "name": "stderr",
     "output_type": "stream",
     "text": [
      "Validation round: 100%|██████████| 115/115 [00:03<00:00, 34.62batch/s]\n",
      "Epoch 21/60:  73%|███████▎  | 332/456 [00:32<01:09,  1.79img/s, loss (batch)=0.444]"
     ]
    },
    {
     "name": "stdout",
     "output_type": "stream",
     "text": [
      "Validation dice loss: 0.8516833186149597, IoU Score 0.0040587326511740685\n"
     ]
    },
    {
     "name": "stderr",
     "output_type": "stream",
     "text": [
      "Validation round: 100%|██████████| 115/115 [00:03<00:00, 30.72batch/s]\n",
      "Epoch 21/60:  93%|█████████▎| 422/456 [00:40<00:21,  1.61img/s, loss (batch)=0.455]"
     ]
    },
    {
     "name": "stdout",
     "output_type": "stream",
     "text": [
      "Validation dice loss: 0.8900154232978821, IoU Score 0.0038095186464488506\n"
     ]
    },
    {
     "name": "stderr",
     "output_type": "stream",
     "text": [
      "Epoch 21/60: 100%|██████████| 456/456 [00:42<00:00, 10.71img/s, loss (batch)=0.353]\n",
      "Validation round: 100%|██████████| 115/115 [00:03<00:00, 34.61batch/s]\n",
      "Epoch 22/60:  12%|█▏        | 56/456 [00:06<03:43,  1.79img/s, loss (batch)=0.376]"
     ]
    },
    {
     "name": "stdout",
     "output_type": "stream",
     "text": [
      "Validation dice loss: 0.8293625116348267, IoU Score 0.004094819538295269\n"
     ]
    },
    {
     "name": "stderr",
     "output_type": "stream",
     "text": [
      "Validation round: 100%|██████████| 115/115 [00:03<00:00, 34.26batch/s]\n",
      "Epoch 22/60:  32%|███▏      | 146/456 [00:14<02:43,  1.89img/s, loss (batch)=0.234]"
     ]
    },
    {
     "name": "stdout",
     "output_type": "stream",
     "text": [
      "Validation dice loss: 0.8365938067436218, IoU Score 0.0040732575580477715\n"
     ]
    },
    {
     "name": "stderr",
     "output_type": "stream",
     "text": [
      "Validation round: 100%|██████████| 115/115 [00:03<00:00, 33.72batch/s]\n",
      "Epoch 22/60:  52%|█████▏    | 236/456 [00:23<02:06,  1.74img/s, loss (batch)=0.319]"
     ]
    },
    {
     "name": "stdout",
     "output_type": "stream",
     "text": [
      "Validation dice loss: 0.8192474246025085, IoU Score 0.004099140875041485\n"
     ]
    },
    {
     "name": "stderr",
     "output_type": "stream",
     "text": [
      "Validation round: 100%|██████████| 115/115 [00:03<00:00, 34.48batch/s]\n",
      "Epoch 22/60:  71%|███████▏  | 326/456 [00:31<01:13,  1.78img/s, loss (batch)=0.482]"
     ]
    },
    {
     "name": "stdout",
     "output_type": "stream",
     "text": [
      "Validation dice loss: 0.7546370625495911, IoU Score 0.004057004582136869\n"
     ]
    },
    {
     "name": "stderr",
     "output_type": "stream",
     "text": [
      "Validation round: 100%|██████████| 115/115 [00:03<00:00, 34.21batch/s]\n",
      "Epoch 22/60:  91%|█████████ | 416/456 [00:39<00:22,  1.78img/s, loss (batch)=0.37] "
     ]
    },
    {
     "name": "stdout",
     "output_type": "stream",
     "text": [
      "Validation dice loss: 0.7968664765357971, IoU Score 0.004145722836256027\n"
     ]
    },
    {
     "name": "stderr",
     "output_type": "stream",
     "text": [
      "Epoch 22/60: 100%|██████████| 456/456 [00:42<00:00, 10.83img/s, loss (batch)=0.418]\n",
      "Validation round: 100%|██████████| 115/115 [00:03<00:00, 30.23batch/s]\n",
      "Epoch 23/60:  11%|█         | 50/456 [00:06<04:16,  1.58img/s, loss (batch)=0.438]"
     ]
    },
    {
     "name": "stdout",
     "output_type": "stream",
     "text": [
      "Validation dice loss: 0.8645879626274109, IoU Score 0.004001520108431578\n"
     ]
    },
    {
     "name": "stderr",
     "output_type": "stream",
     "text": [
      "Validation round: 100%|██████████| 115/115 [00:03<00:00, 34.71batch/s]\n",
      "Epoch 23/60:  31%|███       | 140/456 [00:14<02:56,  1.79img/s, loss (batch)=0.321]"
     ]
    },
    {
     "name": "stdout",
     "output_type": "stream",
     "text": [
      "Validation dice loss: 0.7998320460319519, IoU Score 0.004109575413167477\n"
     ]
    },
    {
     "name": "stderr",
     "output_type": "stream",
     "text": [
      "Validation round: 100%|██████████| 115/115 [00:03<00:00, 33.98batch/s]\n",
      "Epoch 23/60:  50%|█████     | 230/456 [00:23<02:07,  1.77img/s, loss (batch)=0.286]"
     ]
    },
    {
     "name": "stdout",
     "output_type": "stream",
     "text": [
      "Validation dice loss: 0.7736783623695374, IoU Score 0.004146713763475418\n"
     ]
    },
    {
     "name": "stderr",
     "output_type": "stream",
     "text": [
      "Validation round: 100%|██████████| 115/115 [00:03<00:00, 34.03batch/s]\n",
      "Epoch 23/60:  70%|███████   | 320/456 [00:31<01:17,  1.76img/s, loss (batch)=0.498]"
     ]
    },
    {
     "name": "stdout",
     "output_type": "stream",
     "text": [
      "Validation dice loss: 0.8132032155990601, IoU Score 0.004242549184709787\n"
     ]
    },
    {
     "name": "stderr",
     "output_type": "stream",
     "text": [
      "Validation round: 100%|██████████| 115/115 [00:03<00:00, 32.08batch/s]\n",
      "Epoch 23/60:  90%|████████▉ | 410/456 [00:40<00:28,  1.63img/s, loss (batch)=0.672]"
     ]
    },
    {
     "name": "stdout",
     "output_type": "stream",
     "text": [
      "Validation dice loss: 0.9444555640220642, IoU Score 0.004159577656537294\n"
     ]
    },
    {
     "name": "stderr",
     "output_type": "stream",
     "text": [
      "Epoch 23/60: 100%|██████████| 456/456 [00:42<00:00, 10.63img/s, loss (batch)=0.323]\n",
      "Validation round: 100%|██████████| 115/115 [00:03<00:00, 30.37batch/s]\n",
      "Epoch 24/60:  10%|▉         | 44/456 [00:06<04:18,  1.59img/s, loss (batch)=0.288]"
     ]
    },
    {
     "name": "stdout",
     "output_type": "stream",
     "text": [
      "Validation dice loss: 0.9855956435203552, IoU Score 0.004085766151547432\n"
     ]
    },
    {
     "name": "stderr",
     "output_type": "stream",
     "text": [
      "Validation round: 100%|██████████| 115/115 [00:03<00:00, 34.99batch/s]\n",
      "Epoch 24/60:  29%|██▉       | 134/456 [00:14<02:57,  1.81img/s, loss (batch)=0.417]"
     ]
    },
    {
     "name": "stdout",
     "output_type": "stream",
     "text": [
      "Validation dice loss: 0.8796648383140564, IoU Score 0.004083155654370785\n"
     ]
    },
    {
     "name": "stderr",
     "output_type": "stream",
     "text": [
      "Validation round: 100%|██████████| 115/115 [00:03<00:00, 35.81batch/s]\n",
      "Epoch 24/60:  49%|████▉     | 224/456 [00:22<02:05,  1.85img/s, loss (batch)=0.397]"
     ]
    },
    {
     "name": "stdout",
     "output_type": "stream",
     "text": [
      "Validation dice loss: 0.8472347259521484, IoU Score 0.00427932059392333\n"
     ]
    },
    {
     "name": "stderr",
     "output_type": "stream",
     "text": [
      "Validation round: 100%|██████████| 115/115 [00:03<00:00, 33.68batch/s]\n",
      "Epoch 24/60:  69%|██████▉   | 314/456 [00:30<01:21,  1.75img/s, loss (batch)=0.379]"
     ]
    },
    {
     "name": "stdout",
     "output_type": "stream",
     "text": [
      "Validation dice loss: 0.775607168674469, IoU Score 0.004164618905633688\n"
     ]
    },
    {
     "name": "stderr",
     "output_type": "stream",
     "text": [
      "Validation round: 100%|██████████| 115/115 [00:03<00:00, 33.96batch/s]\n",
      "Epoch 24/60:  89%|████████▊ | 404/456 [00:39<00:30,  1.71img/s, loss (batch)=0.297]"
     ]
    },
    {
     "name": "stdout",
     "output_type": "stream",
     "text": [
      "Validation dice loss: 0.7801302075386047, IoU Score 0.004168104380369186\n"
     ]
    },
    {
     "name": "stderr",
     "output_type": "stream",
     "text": [
      "Epoch 24/60: 100%|██████████| 456/456 [00:42<00:00, 10.77img/s, loss (batch)=0.407]\n",
      "Validation round: 100%|██████████| 115/115 [00:03<00:00, 35.19batch/s]\n",
      "Epoch 25/60:   8%|▊         | 38/456 [00:05<03:50,  1.81img/s, loss (batch)=0.299]"
     ]
    },
    {
     "name": "stdout",
     "output_type": "stream",
     "text": [
      "Validation dice loss: 0.7906501293182373, IoU Score 0.004140499047935009\n"
     ]
    },
    {
     "name": "stderr",
     "output_type": "stream",
     "text": [
      "Validation round: 100%|██████████| 115/115 [00:03<00:00, 34.97batch/s]\n",
      "Epoch 25/60:  28%|██▊       | 128/456 [00:13<03:01,  1.80img/s, loss (batch)=0.395]"
     ]
    },
    {
     "name": "stdout",
     "output_type": "stream",
     "text": [
      "Validation dice loss: 0.8348075151443481, IoU Score 0.0040899598971009254\n"
     ]
    },
    {
     "name": "stderr",
     "output_type": "stream",
     "text": [
      "Validation round: 100%|██████████| 115/115 [00:03<00:00, 34.96batch/s]\n",
      "Epoch 25/60:  48%|████▊     | 218/456 [00:22<02:07,  1.86img/s, loss (batch)=0.459]"
     ]
    },
    {
     "name": "stdout",
     "output_type": "stream",
     "text": [
      "Validation dice loss: 0.8069721460342407, IoU Score 0.004043568391352892\n"
     ]
    },
    {
     "name": "stderr",
     "output_type": "stream",
     "text": [
      "Validation round: 100%|██████████| 115/115 [00:03<00:00, 34.84batch/s]\n",
      "Epoch 25/60:  68%|██████▊   | 308/456 [00:30<01:22,  1.80img/s, loss (batch)=0.532]"
     ]
    },
    {
     "name": "stdout",
     "output_type": "stream",
     "text": [
      "Validation dice loss: 0.7435137629508972, IoU Score 0.004010590724647045\n"
     ]
    },
    {
     "name": "stderr",
     "output_type": "stream",
     "text": [
      "Validation round: 100%|██████████| 115/115 [00:03<00:00, 34.44batch/s]\n",
      "Epoch 25/60:  87%|████████▋ | 398/456 [00:38<00:32,  1.79img/s, loss (batch)=0.376]"
     ]
    },
    {
     "name": "stdout",
     "output_type": "stream",
     "text": [
      "Validation dice loss: 0.8203942179679871, IoU Score 0.004115106537938118\n"
     ]
    },
    {
     "name": "stderr",
     "output_type": "stream",
     "text": [
      "Epoch 25/60: 100%|██████████| 456/456 [00:41<00:00, 10.92img/s, loss (batch)=0.423]\n",
      "Validation round: 100%|██████████| 115/115 [00:03<00:00, 29.52batch/s]\n",
      "Epoch 26/60:   7%|▋         | 32/456 [00:05<04:34,  1.55img/s, loss (batch)=0.368]"
     ]
    },
    {
     "name": "stdout",
     "output_type": "stream",
     "text": [
      "Validation dice loss: 0.7679749131202698, IoU Score 0.004288236610591412\n"
     ]
    },
    {
     "name": "stderr",
     "output_type": "stream",
     "text": [
      "Validation round: 100%|██████████| 115/115 [00:03<00:00, 32.93batch/s]\n"
     ]
    },
    {
     "name": "stdout",
     "output_type": "stream",
     "text": [
      "Validation dice loss: 0.7580161094665527, IoU Score 0.004253228195011616\n"
     ]
    },
    {
     "name": "stderr",
     "output_type": "stream",
     "text": [
      "Validation round: 100%|██████████| 115/115 [00:03<00:00, 34.96batch/s]\n",
      "Epoch 26/60:  46%|████▋     | 212/456 [00:22<02:16,  1.79img/s, loss (batch)=0.271]"
     ]
    },
    {
     "name": "stdout",
     "output_type": "stream",
     "text": [
      "Validation dice loss: 0.8370216488838196, IoU Score 0.004028863273561001\n"
     ]
    },
    {
     "name": "stderr",
     "output_type": "stream",
     "text": [
      "Validation round: 100%|██████████| 115/115 [00:03<00:00, 35.33batch/s]\n",
      "Epoch 26/60:  66%|██████▌   | 302/456 [00:30<01:24,  1.83img/s, loss (batch)=0.41] "
     ]
    },
    {
     "name": "stdout",
     "output_type": "stream",
     "text": [
      "Validation dice loss: 0.7568743228912354, IoU Score 0.003974609076976776\n"
     ]
    },
    {
     "name": "stderr",
     "output_type": "stream",
     "text": [
      "Validation round: 100%|██████████| 115/115 [00:03<00:00, 30.61batch/s]\n",
      "Epoch 26/60:  86%|████████▌ | 392/456 [00:39<00:40,  1.60img/s, loss (batch)=0.245]"
     ]
    },
    {
     "name": "stdout",
     "output_type": "stream",
     "text": [
      "Validation dice loss: 0.8549599051475525, IoU Score 0.004292364697903395\n"
     ]
    },
    {
     "name": "stderr",
     "output_type": "stream",
     "text": [
      "Epoch 26/60: 100%|██████████| 456/456 [00:42<00:00, 10.67img/s, loss (batch)=0.428]\n",
      "Validation round: 100%|██████████| 115/115 [00:03<00:00, 30.70batch/s]\n",
      "Epoch 27/60:   6%|▌         | 26/456 [00:05<04:32,  1.58img/s, loss (batch)=0.461]"
     ]
    },
    {
     "name": "stdout",
     "output_type": "stream",
     "text": [
      "Validation dice loss: 0.7565796971321106, IoU Score 0.004002360627055168\n"
     ]
    },
    {
     "name": "stderr",
     "output_type": "stream",
     "text": [
      "Validation round: 100%|██████████| 115/115 [00:03<00:00, 34.44batch/s]\n",
      "Epoch 27/60:  25%|██▌       | 116/456 [00:13<03:10,  1.78img/s, loss (batch)=0.258]"
     ]
    },
    {
     "name": "stdout",
     "output_type": "stream",
     "text": [
      "Validation dice loss: 0.7892881631851196, IoU Score 0.004256559535861015\n"
     ]
    },
    {
     "name": "stderr",
     "output_type": "stream",
     "text": [
      "Validation round: 100%|██████████| 115/115 [00:03<00:00, 34.51batch/s]\n",
      "Epoch 27/60:  45%|████▌     | 206/456 [00:21<02:14,  1.87img/s, loss (batch)=0.345]"
     ]
    },
    {
     "name": "stdout",
     "output_type": "stream",
     "text": [
      "Validation dice loss: 0.7244716286659241, IoU Score 0.004138023126870394\n"
     ]
    },
    {
     "name": "stderr",
     "output_type": "stream",
     "text": [
      "Validation round: 100%|██████████| 115/115 [00:03<00:00, 35.20batch/s]\n",
      "Epoch 27/60:  65%|██████▍   | 296/456 [00:29<01:28,  1.81img/s, loss (batch)=0.395]"
     ]
    },
    {
     "name": "stdout",
     "output_type": "stream",
     "text": [
      "Validation dice loss: 0.8165106177330017, IoU Score 0.004205266945064068\n"
     ]
    },
    {
     "name": "stderr",
     "output_type": "stream",
     "text": [
      "Validation round: 100%|██████████| 115/115 [00:03<00:00, 34.67batch/s]\n",
      "Epoch 27/60:  85%|████████▍ | 386/456 [00:38<00:39,  1.78img/s, loss (batch)=0.338]"
     ]
    },
    {
     "name": "stdout",
     "output_type": "stream",
     "text": [
      "Validation dice loss: 0.7385266423225403, IoU Score 0.004100142512470484\n"
     ]
    },
    {
     "name": "stderr",
     "output_type": "stream",
     "text": [
      "Epoch 27/60: 100%|██████████| 456/456 [00:42<00:00, 10.80img/s, loss (batch)=0.349]\n",
      "Validation round: 100%|██████████| 115/115 [00:03<00:00, 34.43batch/s]\n",
      "Epoch 28/60:   4%|▍         | 20/456 [00:04<04:09,  1.74img/s, loss (batch)=0.238]"
     ]
    },
    {
     "name": "stdout",
     "output_type": "stream",
     "text": [
      "Validation dice loss: 0.8781370520591736, IoU Score 0.0042804270051419735\n"
     ]
    },
    {
     "name": "stderr",
     "output_type": "stream",
     "text": [
      "Validation round: 100%|██████████| 115/115 [00:03<00:00, 35.06batch/s]\n",
      "Epoch 28/60:  24%|██▍       | 110/456 [00:12<03:13,  1.79img/s, loss (batch)=0.294]"
     ]
    },
    {
     "name": "stdout",
     "output_type": "stream",
     "text": [
      "Validation dice loss: 0.8117954730987549, IoU Score 0.0041620805859565735\n"
     ]
    },
    {
     "name": "stderr",
     "output_type": "stream",
     "text": [
      "Validation round: 100%|██████████| 115/115 [00:03<00:00, 33.98batch/s]\n",
      "Epoch 28/60:  44%|████▍     | 200/456 [00:21<02:25,  1.76img/s, loss (batch)=0.236]"
     ]
    },
    {
     "name": "stdout",
     "output_type": "stream",
     "text": [
      "Validation dice loss: 0.8166822195053101, IoU Score 0.004187947604805231\n"
     ]
    },
    {
     "name": "stderr",
     "output_type": "stream",
     "text": [
      "Validation round: 100%|██████████| 115/115 [00:03<00:00, 34.23batch/s]\n",
      "Epoch 28/60:  64%|██████▎   | 290/456 [00:29<01:33,  1.77img/s, loss (batch)=0.258]"
     ]
    },
    {
     "name": "stdout",
     "output_type": "stream",
     "text": [
      "Validation dice loss: 0.8362205028533936, IoU Score 0.004146328195929527\n"
     ]
    },
    {
     "name": "stderr",
     "output_type": "stream",
     "text": [
      "Validation round: 100%|██████████| 115/115 [00:03<00:00, 35.57batch/s]\n",
      "Epoch 28/60:  83%|████████▎ | 380/456 [00:37<00:41,  1.83img/s, loss (batch)=0.264]"
     ]
    },
    {
     "name": "stdout",
     "output_type": "stream",
     "text": [
      "Validation dice loss: 0.8497312068939209, IoU Score 0.00404951348900795\n"
     ]
    },
    {
     "name": "stderr",
     "output_type": "stream",
     "text": [
      "Epoch 28/60: 100%|██████████| 456/456 [00:41<00:00, 10.88img/s, loss (batch)=0.444]\n",
      "Validation round: 100%|██████████| 115/115 [00:03<00:00, 33.94batch/s]\n"
     ]
    },
    {
     "name": "stdout",
     "output_type": "stream",
     "text": [
      "Validation dice loss: 0.7950698733329773, IoU Score 0.004050029907375574\n"
     ]
    },
    {
     "name": "stderr",
     "output_type": "stream",
     "text": [
      "Validation round: 100%|██████████| 115/115 [00:03<00:00, 31.23batch/s]\n"
     ]
    },
    {
     "name": "stdout",
     "output_type": "stream",
     "text": [
      "Validation dice loss: 0.8381010293960571, IoU Score 0.0039926799945533276\n"
     ]
    },
    {
     "name": "stderr",
     "output_type": "stream",
     "text": [
      "Validation round: 100%|██████████| 115/115 [00:03<00:00, 35.08batch/s]\n",
      "Epoch 29/60:  43%|████▎     | 194/456 [00:21<02:26,  1.78img/s, loss (batch)=0.553]"
     ]
    },
    {
     "name": "stdout",
     "output_type": "stream",
     "text": [
      "Validation dice loss: 0.7858626842498779, IoU Score 0.00419136555865407\n"
     ]
    },
    {
     "name": "stderr",
     "output_type": "stream",
     "text": [
      "Validation round: 100%|██████████| 115/115 [00:03<00:00, 34.24batch/s]\n",
      "Epoch 29/60:  62%|██████▏   | 284/456 [00:29<01:37,  1.77img/s, loss (batch)=0.454]"
     ]
    },
    {
     "name": "stdout",
     "output_type": "stream",
     "text": [
      "Validation dice loss: 0.8082245588302612, IoU Score 0.004209230653941631\n"
     ]
    },
    {
     "name": "stderr",
     "output_type": "stream",
     "text": [
      "Validation round: 100%|██████████| 115/115 [00:03<00:00, 29.28batch/s]\n",
      "Epoch 29/60:  82%|████████▏ | 374/456 [00:38<00:53,  1.54img/s, loss (batch)=0.809]"
     ]
    },
    {
     "name": "stdout",
     "output_type": "stream",
     "text": [
      "Validation dice loss: 0.8273494839668274, IoU Score 0.004258160945028067\n"
     ]
    },
    {
     "name": "stderr",
     "output_type": "stream",
     "text": [
      "Epoch 29/60: 100%|██████████| 456/456 [00:42<00:00, 10.63img/s, loss (batch)=0.286]\n",
      "Validation round: 100%|██████████| 115/115 [00:03<00:00, 29.56batch/s]\n",
      "Epoch 30/60:   2%|▏         | 8/456 [00:04<05:54,  1.26img/s, loss (batch)=0.235]"
     ]
    },
    {
     "name": "stdout",
     "output_type": "stream",
     "text": [
      "Validation dice loss: 0.8314101099967957, IoU Score 0.003997867926955223\n"
     ]
    },
    {
     "name": "stderr",
     "output_type": "stream",
     "text": [
      "Validation round: 100%|██████████| 115/115 [00:03<00:00, 35.25batch/s]\n",
      "Epoch 30/60:  21%|██▏       | 98/456 [00:12<03:16,  1.82img/s, loss (batch)=0.245]"
     ]
    },
    {
     "name": "stdout",
     "output_type": "stream",
     "text": [
      "Validation dice loss: 0.7909587621688843, IoU Score 0.004221708979457617\n"
     ]
    },
    {
     "name": "stderr",
     "output_type": "stream",
     "text": [
      "Validation round: 100%|██████████| 115/115 [00:03<00:00, 34.62batch/s]\n",
      "Epoch 30/60:  41%|████      | 188/456 [00:20<02:29,  1.79img/s, loss (batch)=0.392]"
     ]
    },
    {
     "name": "stdout",
     "output_type": "stream",
     "text": [
      "Validation dice loss: 0.8065180778503418, IoU Score 0.0042671444825828075\n"
     ]
    },
    {
     "name": "stderr",
     "output_type": "stream",
     "text": [
      "Validation round: 100%|██████████| 115/115 [00:03<00:00, 34.10batch/s]\n",
      "Epoch 30/60:  61%|██████    | 278/456 [00:29<01:42,  1.73img/s, loss (batch)=0.619]"
     ]
    },
    {
     "name": "stdout",
     "output_type": "stream",
     "text": [
      "Validation dice loss: 0.7730664610862732, IoU Score 0.004165230318903923\n"
     ]
    },
    {
     "name": "stderr",
     "output_type": "stream",
     "text": [
      "Validation round: 100%|██████████| 115/115 [00:03<00:00, 35.85batch/s]\n",
      "Epoch 30/60:  81%|████████  | 368/456 [00:37<00:47,  1.84img/s, loss (batch)=0.269]"
     ]
    },
    {
     "name": "stdout",
     "output_type": "stream",
     "text": [
      "Validation dice loss: 0.8023698329925537, IoU Score 0.004010002128779888\n"
     ]
    },
    {
     "name": "stderr",
     "output_type": "stream",
     "text": [
      "Validation round: 100%|██████████| 115/115 [00:03<00:00, 34.44batch/s]\n",
      "Epoch 30/60: 100%|██████████| 456/456 [00:45<00:00,  9.93img/s, loss (batch)=0.393]\n"
     ]
    },
    {
     "name": "stdout",
     "output_type": "stream",
     "text": [
      "Validation dice loss: 0.7656771540641785, IoU Score 0.004200349096208811\n"
     ]
    },
    {
     "name": "stderr",
     "output_type": "stream",
     "text": [
      "Validation round: 100%|██████████| 115/115 [00:03<00:00, 35.55batch/s]\n",
      "Epoch 31/60:  20%|██        | 92/456 [00:08<03:06,  1.96img/s, loss (batch)=0.51] "
     ]
    },
    {
     "name": "stdout",
     "output_type": "stream",
     "text": [
      "Validation dice loss: 0.796565055847168, IoU Score 0.004187540151178837\n"
     ]
    },
    {
     "name": "stderr",
     "output_type": "stream",
     "text": [
      "Validation round: 100%|██████████| 115/115 [00:03<00:00, 34.76batch/s]\n",
      "Epoch 31/60:  40%|███▉      | 182/456 [00:16<02:32,  1.80img/s, loss (batch)=0.307]"
     ]
    },
    {
     "name": "stdout",
     "output_type": "stream",
     "text": [
      "Validation dice loss: 0.863509476184845, IoU Score 0.004030299372971058\n"
     ]
    },
    {
     "name": "stderr",
     "output_type": "stream",
     "text": [
      "Validation round: 100%|██████████| 115/115 [00:03<00:00, 35.79batch/s]\n",
      "Epoch 31/60:  60%|█████▉    | 272/456 [00:25<01:39,  1.84img/s, loss (batch)=0.336]"
     ]
    },
    {
     "name": "stdout",
     "output_type": "stream",
     "text": [
      "Validation dice loss: 0.7681317329406738, IoU Score 0.004177860449999571\n"
     ]
    },
    {
     "name": "stderr",
     "output_type": "stream",
     "text": [
      "Validation round: 100%|██████████| 115/115 [00:03<00:00, 33.77batch/s]\n",
      "Epoch 31/60:  79%|███████▉  | 362/456 [00:33<00:53,  1.75img/s, loss (batch)=0.307]"
     ]
    },
    {
     "name": "stdout",
     "output_type": "stream",
     "text": [
      "Validation dice loss: 0.8071327209472656, IoU Score 0.004182472825050354\n"
     ]
    },
    {
     "name": "stderr",
     "output_type": "stream",
     "text": [
      "Validation round: 100%|██████████| 115/115 [00:03<00:00, 34.89batch/s]\n",
      "Epoch 31/60:  99%|█████████▉| 452/456 [00:41<00:02,  1.80img/s, loss (batch)=0.336]"
     ]
    },
    {
     "name": "stdout",
     "output_type": "stream",
     "text": [
      "Validation dice loss: 0.807854413986206, IoU Score 0.004103458486497402\n"
     ]
    },
    {
     "name": "stderr",
     "output_type": "stream",
     "text": [
      "Epoch 31/60: 100%|██████████| 456/456 [00:41<00:00, 10.92img/s, loss (batch)=0.351]\n",
      "Validation round: 100%|██████████| 115/115 [00:03<00:00, 30.81batch/s]\n"
     ]
    },
    {
     "name": "stdout",
     "output_type": "stream",
     "text": [
      "Validation dice loss: 0.8713550567626953, IoU Score 0.0040784054435789585\n"
     ]
    },
    {
     "name": "stderr",
     "output_type": "stream",
     "text": [
      "Validation round: 100%|██████████| 115/115 [00:03<00:00, 33.61batch/s]\n",
      "Epoch 32/60:  39%|███▊      | 176/456 [00:17<02:40,  1.75img/s, loss (batch)=0.388]"
     ]
    },
    {
     "name": "stdout",
     "output_type": "stream",
     "text": [
      "Validation dice loss: 0.8500480651855469, IoU Score 0.0040598539635539055\n"
     ]
    },
    {
     "name": "stderr",
     "output_type": "stream",
     "text": [
      "Validation round: 100%|██████████| 115/115 [00:03<00:00, 35.45batch/s]\n",
      "Epoch 32/60:  58%|█████▊    | 266/456 [00:25<01:43,  1.84img/s, loss (batch)=0.523]"
     ]
    },
    {
     "name": "stdout",
     "output_type": "stream",
     "text": [
      "Validation dice loss: 0.8102509379386902, IoU Score 0.004151738248765469\n"
     ]
    },
    {
     "name": "stderr",
     "output_type": "stream",
     "text": [
      "Validation round: 100%|██████████| 115/115 [00:03<00:00, 29.39batch/s]\n",
      "Epoch 32/60:  78%|███████▊  | 356/456 [00:34<01:04,  1.55img/s, loss (batch)=0.352]"
     ]
    },
    {
     "name": "stdout",
     "output_type": "stream",
     "text": [
      "Validation dice loss: 0.8450252413749695, IoU Score 0.0043624271638691425\n"
     ]
    },
    {
     "name": "stderr",
     "output_type": "stream",
     "text": [
      "Validation round: 100%|██████████| 115/115 [00:03<00:00, 29.57batch/s]\n",
      "Epoch 32/60:  98%|█████████▊| 446/456 [00:42<00:06,  1.55img/s, loss (batch)=0.274]"
     ]
    },
    {
     "name": "stdout",
     "output_type": "stream",
     "text": [
      "Validation dice loss: 0.7924724221229553, IoU Score 0.004103271756321192\n"
     ]
    },
    {
     "name": "stderr",
     "output_type": "stream",
     "text": [
      "Epoch 32/60: 100%|██████████| 456/456 [00:43<00:00, 10.50img/s, loss (batch)=0.431]\n",
      "Validation round: 100%|██████████| 115/115 [00:03<00:00, 35.33batch/s]\n",
      "Epoch 33/60:  18%|█▊        | 80/456 [00:07<03:26,  1.82img/s, loss (batch)=0.455]"
     ]
    },
    {
     "name": "stdout",
     "output_type": "stream",
     "text": [
      "Validation dice loss: 0.9399641752243042, IoU Score 0.004213232081383467\n"
     ]
    },
    {
     "name": "stderr",
     "output_type": "stream",
     "text": [
      "Validation round: 100%|██████████| 115/115 [00:03<00:00, 33.93batch/s]\n",
      "Epoch 33/60:  37%|███▋      | 170/456 [00:15<02:42,  1.76img/s, loss (batch)=0.293]"
     ]
    },
    {
     "name": "stdout",
     "output_type": "stream",
     "text": [
      "Validation dice loss: 0.8560516238212585, IoU Score 0.004126482177525759\n"
     ]
    },
    {
     "name": "stderr",
     "output_type": "stream",
     "text": [
      "Validation round: 100%|██████████| 115/115 [00:03<00:00, 31.75batch/s]\n",
      "Epoch 33/60:  57%|█████▋    | 260/456 [00:24<02:00,  1.62img/s, loss (batch)=0.341]"
     ]
    },
    {
     "name": "stdout",
     "output_type": "stream",
     "text": [
      "Validation dice loss: 0.9100149273872375, IoU Score 0.004113275092095137\n"
     ]
    },
    {
     "name": "stderr",
     "output_type": "stream",
     "text": [
      "Validation round: 100%|██████████| 115/115 [00:03<00:00, 34.89batch/s]\n",
      "Epoch 33/60:  77%|███████▋  | 350/456 [00:33<01:00,  1.76img/s, loss (batch)=0.43] "
     ]
    },
    {
     "name": "stdout",
     "output_type": "stream",
     "text": [
      "Validation dice loss: 0.9265504479408264, IoU Score 0.004253264516592026\n"
     ]
    },
    {
     "name": "stderr",
     "output_type": "stream",
     "text": [
      "Validation round: 100%|██████████| 115/115 [00:03<00:00, 35.37batch/s]\n",
      "Epoch 33/60:  96%|█████████▋| 440/456 [00:41<00:08,  1.83img/s, loss (batch)=0.326]"
     ]
    },
    {
     "name": "stdout",
     "output_type": "stream",
     "text": [
      "Validation dice loss: 0.8136721253395081, IoU Score 0.004165713209658861\n"
     ]
    },
    {
     "name": "stderr",
     "output_type": "stream",
     "text": [
      "Epoch 33/60: 100%|██████████| 456/456 [00:41<00:00, 10.86img/s, loss (batch)=0.396]\n",
      "Validation round: 100%|██████████| 115/115 [00:03<00:00, 34.98batch/s]\n",
      "Epoch 34/60:  16%|█▌        | 74/456 [00:07<03:31,  1.80img/s, loss (batch)=0.313]"
     ]
    },
    {
     "name": "stdout",
     "output_type": "stream",
     "text": [
      "Validation dice loss: 0.8730931878089905, IoU Score 0.0040833172388374805\n"
     ]
    },
    {
     "name": "stderr",
     "output_type": "stream",
     "text": [
      "Validation round: 100%|██████████| 115/115 [00:03<00:00, 35.23batch/s]\n",
      "Epoch 34/60:  36%|███▌      | 164/456 [00:15<02:40,  1.82img/s, loss (batch)=0.315]"
     ]
    },
    {
     "name": "stdout",
     "output_type": "stream",
     "text": [
      "Validation dice loss: 0.8394196033477783, IoU Score 0.004255206789821386\n"
     ]
    },
    {
     "name": "stderr",
     "output_type": "stream",
     "text": [
      "Validation round: 100%|██████████| 115/115 [00:03<00:00, 33.81batch/s]\n",
      "Epoch 34/60:  56%|█████▌    | 254/456 [00:24<01:56,  1.74img/s, loss (batch)=0.382]"
     ]
    },
    {
     "name": "stdout",
     "output_type": "stream",
     "text": [
      "Validation dice loss: 0.8643028736114502, IoU Score 0.004077724181115627\n"
     ]
    },
    {
     "name": "stderr",
     "output_type": "stream",
     "text": [
      "Validation round: 100%|██████████| 115/115 [00:03<00:00, 34.02batch/s]\n",
      "Epoch 34/60:  75%|███████▌  | 344/456 [00:32<01:03,  1.76img/s, loss (batch)=0.286]"
     ]
    },
    {
     "name": "stdout",
     "output_type": "stream",
     "text": [
      "Validation dice loss: 0.8616543412208557, IoU Score 0.004238509107381105\n"
     ]
    },
    {
     "name": "stderr",
     "output_type": "stream",
     "text": [
      "Validation round: 100%|██████████| 115/115 [00:03<00:00, 33.99batch/s]\n",
      "Epoch 34/60:  95%|█████████▌| 434/456 [00:41<00:12,  1.75img/s, loss (batch)=0.315]"
     ]
    },
    {
     "name": "stdout",
     "output_type": "stream",
     "text": [
      "Validation dice loss: 0.8544865846633911, IoU Score 0.004164956044405699\n"
     ]
    },
    {
     "name": "stderr",
     "output_type": "stream",
     "text": [
      "Epoch 34/60: 100%|██████████| 456/456 [00:42<00:00, 10.64img/s, loss (batch)=0.229]\n",
      "Validation round: 100%|██████████| 115/115 [00:03<00:00, 31.86batch/s]\n",
      "Epoch 35/60:  15%|█▍        | 68/456 [00:07<03:56,  1.64img/s, loss (batch)=0.269]"
     ]
    },
    {
     "name": "stdout",
     "output_type": "stream",
     "text": [
      "Validation dice loss: 0.8980257511138916, IoU Score 0.004321161657571793\n"
     ]
    },
    {
     "name": "stderr",
     "output_type": "stream",
     "text": [
      "Validation round: 100%|██████████| 115/115 [00:03<00:00, 34.18batch/s]\n",
      "Epoch 35/60:  35%|███▍      | 158/456 [00:15<02:48,  1.77img/s, loss (batch)=0.426]"
     ]
    },
    {
     "name": "stdout",
     "output_type": "stream",
     "text": [
      "Validation dice loss: 0.8524448275566101, IoU Score 0.004262025933712721\n"
     ]
    },
    {
     "name": "stderr",
     "output_type": "stream",
     "text": [
      "Validation round: 100%|██████████| 115/115 [00:03<00:00, 34.45batch/s]\n",
      "Epoch 35/60:  54%|█████▍    | 248/456 [00:23<01:56,  1.78img/s, loss (batch)=0.351]"
     ]
    },
    {
     "name": "stdout",
     "output_type": "stream",
     "text": [
      "Validation dice loss: 0.8370400667190552, IoU Score 0.004081482067704201\n"
     ]
    },
    {
     "name": "stderr",
     "output_type": "stream",
     "text": [
      "Validation round: 100%|██████████| 115/115 [00:03<00:00, 30.11batch/s]\n",
      "Epoch 35/60:  74%|███████▍  | 338/456 [00:32<01:14,  1.57img/s, loss (batch)=0.378]"
     ]
    },
    {
     "name": "stdout",
     "output_type": "stream",
     "text": [
      "Validation dice loss: 0.8649278283119202, IoU Score 0.004241653252393007\n"
     ]
    },
    {
     "name": "stderr",
     "output_type": "stream",
     "text": [
      "Validation round: 100%|██████████| 115/115 [00:04<00:00, 27.94batch/s]\n",
      "Epoch 35/60:  94%|█████████▍| 428/456 [00:41<00:18,  1.48img/s, loss (batch)=0.747]"
     ]
    },
    {
     "name": "stdout",
     "output_type": "stream",
     "text": [
      "Validation dice loss: 0.8726565837860107, IoU Score 0.0042619225569069386\n"
     ]
    },
    {
     "name": "stderr",
     "output_type": "stream",
     "text": [
      "Epoch 35/60: 100%|██████████| 456/456 [00:43<00:00, 10.58img/s, loss (batch)=0.342]\n",
      "Validation round: 100%|██████████| 115/115 [00:03<00:00, 33.68batch/s]\n",
      "Epoch 36/60:  14%|█▎        | 62/456 [00:06<03:45,  1.75img/s, loss (batch)=0.38] "
     ]
    },
    {
     "name": "stdout",
     "output_type": "stream",
     "text": [
      "Validation dice loss: 0.9247541427612305, IoU Score 0.004294892773032188\n"
     ]
    },
    {
     "name": "stderr",
     "output_type": "stream",
     "text": [
      "Validation round: 100%|██████████| 115/115 [00:03<00:00, 35.31batch/s]\n",
      "Epoch 36/60:  33%|███▎      | 152/456 [00:14<02:47,  1.81img/s, loss (batch)=0.488]"
     ]
    },
    {
     "name": "stdout",
     "output_type": "stream",
     "text": [
      "Validation dice loss: 0.8211746215820312, IoU Score 0.004180155228823423\n"
     ]
    },
    {
     "name": "stderr",
     "output_type": "stream",
     "text": [
      "Validation round: 100%|██████████| 115/115 [00:03<00:00, 33.35batch/s]\n",
      "Epoch 36/60:  53%|█████▎    | 242/456 [00:23<02:06,  1.69img/s, loss (batch)=0.256]"
     ]
    },
    {
     "name": "stdout",
     "output_type": "stream",
     "text": [
      "Validation dice loss: 0.7611185312271118, IoU Score 0.004213308449834585\n"
     ]
    },
    {
     "name": "stderr",
     "output_type": "stream",
     "text": [
      "Validation round: 100%|██████████| 115/115 [00:03<00:00, 33.87batch/s]\n",
      "Epoch 36/60:  73%|███████▎  | 332/456 [00:32<01:12,  1.71img/s, loss (batch)=0.27] "
     ]
    },
    {
     "name": "stdout",
     "output_type": "stream",
     "text": [
      "Validation dice loss: 0.854007363319397, IoU Score 0.0041606915183365345\n"
     ]
    },
    {
     "name": "stderr",
     "output_type": "stream",
     "text": [
      "Validation round: 100%|██████████| 115/115 [00:03<00:00, 34.64batch/s]\n",
      "Epoch 36/60:  93%|█████████▎| 422/456 [00:40<00:18,  1.79img/s, loss (batch)=0.272]"
     ]
    },
    {
     "name": "stdout",
     "output_type": "stream",
     "text": [
      "Validation dice loss: 0.862429678440094, IoU Score 0.004303674679249525\n"
     ]
    },
    {
     "name": "stderr",
     "output_type": "stream",
     "text": [
      "Epoch 36/60: 100%|██████████| 456/456 [00:42<00:00, 10.81img/s, loss (batch)=0.321]\n",
      "Validation round: 100%|██████████| 115/115 [00:03<00:00, 34.20batch/s]\n",
      "Epoch 37/60:  12%|█▏        | 56/456 [00:06<03:47,  1.76img/s, loss (batch)=0.27]"
     ]
    },
    {
     "name": "stdout",
     "output_type": "stream",
     "text": [
      "Validation dice loss: 0.8841082453727722, IoU Score 0.004301097709685564\n"
     ]
    },
    {
     "name": "stderr",
     "output_type": "stream",
     "text": [
      "Validation round: 100%|██████████| 115/115 [00:03<00:00, 34.23batch/s]\n",
      "Epoch 37/60:  32%|███▏      | 146/456 [00:14<02:34,  2.01img/s, loss (batch)=0.279]"
     ]
    },
    {
     "name": "stdout",
     "output_type": "stream",
     "text": [
      "Validation dice loss: 0.874989926815033, IoU Score 0.004294761922210455\n"
     ]
    },
    {
     "name": "stderr",
     "output_type": "stream",
     "text": [
      "Validation round: 100%|██████████| 115/115 [00:03<00:00, 33.87batch/s]\n",
      "Epoch 37/60:  52%|█████▏    | 236/456 [00:23<02:05,  1.75img/s, loss (batch)=0.303]"
     ]
    },
    {
     "name": "stdout",
     "output_type": "stream",
     "text": [
      "Validation dice loss: 1.137557029724121, IoU Score 0.0044257487170398235\n"
     ]
    },
    {
     "name": "stderr",
     "output_type": "stream",
     "text": [
      "Validation round: 100%|██████████| 115/115 [00:03<00:00, 34.47batch/s]\n",
      "Epoch 37/60:  71%|███████▏  | 326/456 [00:31<01:12,  1.78img/s, loss (batch)=0.219]"
     ]
    },
    {
     "name": "stdout",
     "output_type": "stream",
     "text": [
      "Validation dice loss: 0.9264934659004211, IoU Score 0.004359788727015257\n"
     ]
    },
    {
     "name": "stderr",
     "output_type": "stream",
     "text": [
      "Validation round: 100%|██████████| 115/115 [00:03<00:00, 33.01batch/s]\n"
     ]
    },
    {
     "name": "stdout",
     "output_type": "stream",
     "text": [
      "Validation dice loss: 0.8095905780792236, IoU Score 0.0042793164029717445\n"
     ]
    },
    {
     "name": "stderr",
     "output_type": "stream",
     "text": [
      "Epoch 37/60: 100%|██████████| 456/456 [00:42<00:00, 10.61img/s, loss (batch)=0.355]\n",
      "Validation round: 100%|██████████| 115/115 [00:03<00:00, 33.04batch/s]\n"
     ]
    },
    {
     "name": "stdout",
     "output_type": "stream",
     "text": [
      "Validation dice loss: 0.8423196077346802, IoU Score 0.004338323138654232\n"
     ]
    },
    {
     "name": "stderr",
     "output_type": "stream",
     "text": [
      "Validation round: 100%|██████████| 115/115 [00:03<00:00, 35.63batch/s]\n",
      "Epoch 38/60:  31%|███       | 140/456 [00:14<02:52,  1.84img/s, loss (batch)=0.341]"
     ]
    },
    {
     "name": "stdout",
     "output_type": "stream",
     "text": [
      "Validation dice loss: 0.8915387392044067, IoU Score 0.0042708697728812695\n"
     ]
    },
    {
     "name": "stderr",
     "output_type": "stream",
     "text": [
      "Validation round: 100%|██████████| 115/115 [00:03<00:00, 33.30batch/s]\n",
      "Epoch 38/60:  50%|█████     | 230/456 [00:23<02:11,  1.72img/s, loss (batch)=0.355]"
     ]
    },
    {
     "name": "stdout",
     "output_type": "stream",
     "text": [
      "Validation dice loss: 0.8365650773048401, IoU Score 0.004330632276833057\n"
     ]
    },
    {
     "name": "stderr",
     "output_type": "stream",
     "text": [
      "Validation round: 100%|██████████| 115/115 [00:03<00:00, 29.10batch/s]\n",
      "Epoch 38/60:  70%|███████   | 320/456 [00:31<01:29,  1.53img/s, loss (batch)=0.347]"
     ]
    },
    {
     "name": "stdout",
     "output_type": "stream",
     "text": [
      "Validation dice loss: 0.8723993301391602, IoU Score 0.004277346655726433\n"
     ]
    },
    {
     "name": "stderr",
     "output_type": "stream",
     "text": [
      "Validation round: 100%|██████████| 115/115 [00:04<00:00, 27.80batch/s]\n",
      "Epoch 38/60:  90%|████████▉ | 410/456 [00:40<00:31,  1.47img/s, loss (batch)=0.399]"
     ]
    },
    {
     "name": "stdout",
     "output_type": "stream",
     "text": [
      "Validation dice loss: 0.845437228679657, IoU Score 0.004115835763514042\n"
     ]
    },
    {
     "name": "stderr",
     "output_type": "stream",
     "text": [
      "Epoch 38/60: 100%|██████████| 456/456 [00:43<00:00, 10.53img/s, loss (batch)=0.421]\n",
      "Validation round: 100%|██████████| 115/115 [00:03<00:00, 35.40batch/s]\n",
      "Epoch 39/60:  10%|▉         | 44/456 [00:05<03:46,  1.82img/s, loss (batch)=0.288]"
     ]
    },
    {
     "name": "stdout",
     "output_type": "stream",
     "text": [
      "Validation dice loss: 0.8006187677383423, IoU Score 0.004240116570144892\n"
     ]
    },
    {
     "name": "stderr",
     "output_type": "stream",
     "text": [
      "Validation round: 100%|██████████| 115/115 [00:03<00:00, 34.23batch/s]\n",
      "Epoch 39/60:  29%|██▉       | 134/456 [00:13<03:01,  1.77img/s, loss (batch)=0.324]"
     ]
    },
    {
     "name": "stdout",
     "output_type": "stream",
     "text": [
      "Validation dice loss: 0.9273000955581665, IoU Score 0.004244314972311258\n"
     ]
    },
    {
     "name": "stderr",
     "output_type": "stream",
     "text": [
      "Validation round: 100%|██████████| 115/115 [00:03<00:00, 35.10batch/s]\n",
      "Epoch 39/60:  49%|████▉     | 224/456 [00:22<02:08,  1.80img/s, loss (batch)=0.22] "
     ]
    },
    {
     "name": "stdout",
     "output_type": "stream",
     "text": [
      "Validation dice loss: 0.818407416343689, IoU Score 0.004345741588622332\n"
     ]
    },
    {
     "name": "stderr",
     "output_type": "stream",
     "text": [
      "Validation round: 100%|██████████| 115/115 [00:03<00:00, 32.02batch/s]\n",
      "Epoch 39/60:  69%|██████▉   | 314/456 [00:31<01:26,  1.63img/s, loss (batch)=0.243]"
     ]
    },
    {
     "name": "stdout",
     "output_type": "stream",
     "text": [
      "Validation dice loss: 0.8168220520019531, IoU Score 0.004255174193531275\n"
     ]
    },
    {
     "name": "stderr",
     "output_type": "stream",
     "text": [
      "Validation round: 100%|██████████| 115/115 [00:03<00:00, 34.11batch/s]\n",
      "Epoch 39/60:  89%|████████▊ | 404/456 [00:39<00:29,  1.76img/s, loss (batch)=0.273]"
     ]
    },
    {
     "name": "stdout",
     "output_type": "stream",
     "text": [
      "Validation dice loss: 0.8303380608558655, IoU Score 0.0044228434562683105\n"
     ]
    },
    {
     "name": "stderr",
     "output_type": "stream",
     "text": [
      "Epoch 39/60: 100%|██████████| 456/456 [00:42<00:00, 10.77img/s, loss (batch)=0.366]\n",
      "Validation round: 100%|██████████| 115/115 [00:03<00:00, 34.28batch/s]\n",
      "Epoch 40/60:   8%|▊         | 38/456 [00:05<03:55,  1.77img/s, loss (batch)=0.25] "
     ]
    },
    {
     "name": "stdout",
     "output_type": "stream",
     "text": [
      "Validation dice loss: 0.854712724685669, IoU Score 0.004418676719069481\n"
     ]
    },
    {
     "name": "stderr",
     "output_type": "stream",
     "text": [
      "Validation round: 100%|██████████| 115/115 [00:03<00:00, 34.73batch/s]\n",
      "Epoch 40/60:  28%|██▊       | 128/456 [00:13<03:03,  1.79img/s, loss (batch)=0.371]"
     ]
    },
    {
     "name": "stdout",
     "output_type": "stream",
     "text": [
      "Validation dice loss: 0.8336547613143921, IoU Score 0.0043506198562681675\n"
     ]
    },
    {
     "name": "stderr",
     "output_type": "stream",
     "text": [
      "Validation round: 100%|██████████| 115/115 [00:03<00:00, 35.11batch/s]\n",
      "Epoch 40/60:  48%|████▊     | 218/456 [00:22<02:11,  1.81img/s, loss (batch)=0.314]"
     ]
    },
    {
     "name": "stdout",
     "output_type": "stream",
     "text": [
      "Validation dice loss: 0.8316717743873596, IoU Score 0.004331544041633606\n"
     ]
    },
    {
     "name": "stderr",
     "output_type": "stream",
     "text": [
      "Validation round: 100%|██████████| 115/115 [00:03<00:00, 34.56batch/s]\n",
      "Epoch 40/60:  68%|██████▊   | 308/456 [00:30<01:22,  1.79img/s, loss (batch)=0.335]"
     ]
    },
    {
     "name": "stdout",
     "output_type": "stream",
     "text": [
      "Validation dice loss: 0.9147043228149414, IoU Score 0.004310945514589548\n"
     ]
    },
    {
     "name": "stderr",
     "output_type": "stream",
     "text": [
      "Validation round: 100%|██████████| 115/115 [00:03<00:00, 31.26batch/s]\n",
      "Epoch 40/60:  87%|████████▋ | 398/456 [00:39<00:35,  1.61img/s, loss (batch)=0.312]"
     ]
    },
    {
     "name": "stdout",
     "output_type": "stream",
     "text": [
      "Validation dice loss: 0.9015780687332153, IoU Score 0.004234091378748417\n"
     ]
    },
    {
     "name": "stderr",
     "output_type": "stream",
     "text": [
      "Epoch 40/60: 100%|██████████| 456/456 [00:42<00:00, 10.70img/s, loss (batch)=0.372]\n",
      "Validation round: 100%|██████████| 115/115 [00:03<00:00, 34.81batch/s]\n",
      "Epoch 41/60:   7%|▋         | 32/456 [00:05<03:57,  1.78img/s, loss (batch)=0.407]"
     ]
    },
    {
     "name": "stdout",
     "output_type": "stream",
     "text": [
      "Validation dice loss: 0.9041892886161804, IoU Score 0.004189828876405954\n"
     ]
    },
    {
     "name": "stderr",
     "output_type": "stream",
     "text": [
      "Validation round: 100%|██████████| 115/115 [00:03<00:00, 34.09batch/s]\n",
      "Epoch 41/60:  27%|██▋       | 122/456 [00:13<03:09,  1.76img/s, loss (batch)=0.425]"
     ]
    },
    {
     "name": "stdout",
     "output_type": "stream",
     "text": [
      "Validation dice loss: 0.8514808416366577, IoU Score 0.004216907545924187\n"
     ]
    },
    {
     "name": "stderr",
     "output_type": "stream",
     "text": [
      "Validation round: 100%|██████████| 115/115 [00:03<00:00, 34.54batch/s]\n",
      "Epoch 41/60:  46%|████▋     | 212/456 [00:21<02:16,  1.79img/s, loss (batch)=0.218]"
     ]
    },
    {
     "name": "stdout",
     "output_type": "stream",
     "text": [
      "Validation dice loss: 0.9173867106437683, IoU Score 0.004178465344011784\n"
     ]
    },
    {
     "name": "stderr",
     "output_type": "stream",
     "text": [
      "Validation round: 100%|██████████| 115/115 [00:03<00:00, 30.16batch/s]\n",
      "Epoch 41/60:  66%|██████▌   | 302/456 [00:30<01:37,  1.58img/s, loss (batch)=0.27] "
     ]
    },
    {
     "name": "stdout",
     "output_type": "stream",
     "text": [
      "Validation dice loss: 0.8774691820144653, IoU Score 0.004441441036760807\n"
     ]
    },
    {
     "name": "stderr",
     "output_type": "stream",
     "text": [
      "Validation round: 100%|██████████| 115/115 [00:03<00:00, 29.82batch/s]\n"
     ]
    },
    {
     "name": "stdout",
     "output_type": "stream",
     "text": [
      "Validation dice loss: 0.9153879284858704, IoU Score 0.004191326908767223\n"
     ]
    },
    {
     "name": "stderr",
     "output_type": "stream",
     "text": [
      "Epoch 41/60: 100%|██████████| 456/456 [00:43<00:00, 10.59img/s, loss (batch)=0.439]\n",
      "Validation round: 100%|██████████| 115/115 [00:03<00:00, 34.10batch/s]\n",
      "Epoch 42/60:   6%|▌         | 26/456 [00:04<04:05,  1.75img/s, loss (batch)=0.256]"
     ]
    },
    {
     "name": "stdout",
     "output_type": "stream",
     "text": [
      "Validation dice loss: 0.9595632553100586, IoU Score 0.004193829372525215\n"
     ]
    },
    {
     "name": "stderr",
     "output_type": "stream",
     "text": [
      "Validation round: 100%|██████████| 115/115 [00:03<00:00, 35.16batch/s]\n",
      "Epoch 42/60:  25%|██▌       | 116/456 [00:12<03:07,  1.82img/s, loss (batch)=0.296]"
     ]
    },
    {
     "name": "stdout",
     "output_type": "stream",
     "text": [
      "Validation dice loss: 0.8677721619606018, IoU Score 0.004145307932049036\n"
     ]
    },
    {
     "name": "stderr",
     "output_type": "stream",
     "text": [
      "Validation round: 100%|██████████| 115/115 [00:03<00:00, 34.11batch/s]\n",
      "Epoch 42/60:  45%|████▌     | 206/456 [00:21<02:21,  1.76img/s, loss (batch)=0.262]"
     ]
    },
    {
     "name": "stdout",
     "output_type": "stream",
     "text": [
      "Validation dice loss: 0.9690818786621094, IoU Score 0.004170931875705719\n"
     ]
    },
    {
     "name": "stderr",
     "output_type": "stream",
     "text": [
      "Validation round: 100%|██████████| 115/115 [00:04<00:00, 27.53batch/s]\n",
      "Epoch 42/60:  65%|██████▍   | 296/456 [00:30<01:50,  1.45img/s, loss (batch)=0.397]"
     ]
    },
    {
     "name": "stdout",
     "output_type": "stream",
     "text": [
      "Validation dice loss: 0.8314914107322693, IoU Score 0.004079844802618027\n"
     ]
    },
    {
     "name": "stderr",
     "output_type": "stream",
     "text": [
      "Validation round: 100%|██████████| 115/115 [00:03<00:00, 33.90batch/s]\n",
      "Epoch 42/60:  85%|████████▍ | 386/456 [00:38<00:39,  1.76img/s, loss (batch)=0.806]"
     ]
    },
    {
     "name": "stdout",
     "output_type": "stream",
     "text": [
      "Validation dice loss: 0.7925319671630859, IoU Score 0.004144792910665274\n"
     ]
    },
    {
     "name": "stderr",
     "output_type": "stream",
     "text": [
      "Epoch 42/60: 100%|██████████| 456/456 [00:42<00:00, 10.73img/s, loss (batch)=0.746]\n",
      "Validation round: 100%|██████████| 115/115 [00:03<00:00, 35.03batch/s]\n",
      "Epoch 43/60:   4%|▍         | 20/456 [00:04<04:07,  1.76img/s, loss (batch)=0.371]"
     ]
    },
    {
     "name": "stdout",
     "output_type": "stream",
     "text": [
      "Validation dice loss: 0.8946198225021362, IoU Score 0.004228824749588966\n"
     ]
    },
    {
     "name": "stderr",
     "output_type": "stream",
     "text": [
      "Validation round: 100%|██████████| 115/115 [00:03<00:00, 35.21batch/s]\n",
      "Epoch 43/60:  24%|██▍       | 110/456 [00:13<03:06,  1.86img/s, loss (batch)=0.235]"
     ]
    },
    {
     "name": "stdout",
     "output_type": "stream",
     "text": [
      "Validation dice loss: 0.9467394351959229, IoU Score 0.004223540425300598\n"
     ]
    },
    {
     "name": "stderr",
     "output_type": "stream",
     "text": [
      "Validation round: 100%|██████████| 115/115 [00:03<00:00, 32.70batch/s]\n",
      "Epoch 43/60:  44%|████▍     | 200/456 [00:21<02:33,  1.66img/s, loss (batch)=0.273]"
     ]
    },
    {
     "name": "stdout",
     "output_type": "stream",
     "text": [
      "Validation dice loss: 1.0145784616470337, IoU Score 0.004164084326475859\n"
     ]
    },
    {
     "name": "stderr",
     "output_type": "stream",
     "text": [
      "Validation round: 100%|██████████| 115/115 [00:03<00:00, 34.41batch/s]\n",
      "Epoch 43/60:  64%|██████▎   | 290/456 [00:30<01:33,  1.78img/s, loss (batch)=0.33] "
     ]
    },
    {
     "name": "stdout",
     "output_type": "stream",
     "text": [
      "Validation dice loss: 0.913089394569397, IoU Score 0.0043154312297701836\n"
     ]
    },
    {
     "name": "stderr",
     "output_type": "stream",
     "text": [
      "Validation round: 100%|██████████| 115/115 [00:03<00:00, 29.11batch/s]\n",
      "Epoch 43/60:  83%|████████▎ | 380/456 [00:38<00:49,  1.53img/s, loss (batch)=0.371]"
     ]
    },
    {
     "name": "stdout",
     "output_type": "stream",
     "text": [
      "Validation dice loss: 0.9626626968383789, IoU Score 0.004310579504817724\n"
     ]
    },
    {
     "name": "stderr",
     "output_type": "stream",
     "text": [
      "Epoch 43/60: 100%|██████████| 456/456 [00:42<00:00, 10.61img/s, loss (batch)=0.413]\n",
      "Validation round: 100%|██████████| 115/115 [00:03<00:00, 34.91batch/s]\n",
      "Epoch 44/60:   3%|▎         | 14/456 [00:04<04:24,  1.67img/s, loss (batch)=0.218]"
     ]
    },
    {
     "name": "stdout",
     "output_type": "stream",
     "text": [
      "Validation dice loss: 0.8960201740264893, IoU Score 0.004240825306624174\n"
     ]
    },
    {
     "name": "stderr",
     "output_type": "stream",
     "text": [
      "Validation round: 100%|██████████| 115/115 [00:03<00:00, 32.77batch/s]\n",
      "Epoch 44/60:  23%|██▎       | 104/456 [00:13<03:26,  1.71img/s, loss (batch)=0.189]"
     ]
    },
    {
     "name": "stdout",
     "output_type": "stream",
     "text": [
      "Validation dice loss: 0.8743438720703125, IoU Score 0.004143990576267242\n"
     ]
    },
    {
     "name": "stderr",
     "output_type": "stream",
     "text": [
      "Validation round: 100%|██████████| 115/115 [00:03<00:00, 34.45batch/s]\n",
      "Epoch 44/60:  43%|████▎     | 194/456 [00:21<02:27,  1.78img/s, loss (batch)=0.301]"
     ]
    },
    {
     "name": "stdout",
     "output_type": "stream",
     "text": [
      "Validation dice loss: 1.030322551727295, IoU Score 0.00430710706859827\n"
     ]
    },
    {
     "name": "stderr",
     "output_type": "stream",
     "text": [
      "Validation round: 100%|██████████| 115/115 [00:03<00:00, 32.02batch/s]\n",
      "Epoch 44/60:  62%|██████▏   | 284/456 [00:29<01:45,  1.64img/s, loss (batch)=0.333]"
     ]
    },
    {
     "name": "stdout",
     "output_type": "stream",
     "text": [
      "Validation dice loss: 0.927208423614502, IoU Score 0.004392202012240887\n"
     ]
    },
    {
     "name": "stderr",
     "output_type": "stream",
     "text": [
      "Validation round: 100%|██████████| 115/115 [00:03<00:00, 34.29batch/s]\n",
      "Epoch 44/60:  82%|████████▏ | 374/456 [00:38<00:46,  1.77img/s, loss (batch)=0.197]"
     ]
    },
    {
     "name": "stdout",
     "output_type": "stream",
     "text": [
      "Validation dice loss: 0.8809422850608826, IoU Score 0.004164758138358593\n"
     ]
    },
    {
     "name": "stderr",
     "output_type": "stream",
     "text": [
      "Epoch 44/60: 100%|██████████| 456/456 [00:43<00:00, 10.53img/s, loss (batch)=0.357]\n",
      "Validation round: 100%|██████████| 115/115 [00:03<00:00, 34.15batch/s]\n",
      "Epoch 45/60:   2%|▏         | 8/456 [00:03<05:25,  1.37img/s, loss (batch)=0.227]"
     ]
    },
    {
     "name": "stdout",
     "output_type": "stream",
     "text": [
      "Validation dice loss: 0.9395033121109009, IoU Score 0.0043103983625769615\n"
     ]
    },
    {
     "name": "stderr",
     "output_type": "stream",
     "text": [
      "Validation round: 100%|██████████| 115/115 [00:03<00:00, 34.63batch/s]\n",
      "Epoch 45/60:  21%|██▏       | 98/456 [00:11<03:02,  1.96img/s, loss (batch)=0.301]"
     ]
    },
    {
     "name": "stdout",
     "output_type": "stream",
     "text": [
      "Validation dice loss: 0.8323571681976318, IoU Score 0.004361075349152088\n"
     ]
    },
    {
     "name": "stderr",
     "output_type": "stream",
     "text": [
      "Validation round: 100%|██████████| 115/115 [00:03<00:00, 34.80batch/s]\n",
      "Epoch 45/60:  41%|████      | 188/456 [00:20<02:28,  1.80img/s, loss (batch)=0.336]"
     ]
    },
    {
     "name": "stdout",
     "output_type": "stream",
     "text": [
      "Validation dice loss: 0.9532235860824585, IoU Score 0.004367737099528313\n"
     ]
    },
    {
     "name": "stderr",
     "output_type": "stream",
     "text": [
      "Validation round: 100%|██████████| 115/115 [00:04<00:00, 28.08batch/s]\n"
     ]
    },
    {
     "name": "stdout",
     "output_type": "stream",
     "text": [
      "Validation dice loss: 0.8567320108413696, IoU Score 0.004384666681289673\n"
     ]
    },
    {
     "name": "stderr",
     "output_type": "stream",
     "text": [
      "Validation round: 100%|██████████| 115/115 [00:03<00:00, 35.95batch/s]\n",
      "Epoch 45/60:  81%|████████  | 368/456 [00:37<00:47,  1.85img/s, loss (batch)=0.421]"
     ]
    },
    {
     "name": "stdout",
     "output_type": "stream",
     "text": [
      "Validation dice loss: 0.8678207397460938, IoU Score 0.004293134901672602\n"
     ]
    },
    {
     "name": "stderr",
     "output_type": "stream",
     "text": [
      "Validation round: 100%|██████████| 115/115 [00:03<00:00, 33.13batch/s]\n",
      "Epoch 45/60: 100%|██████████| 456/456 [00:46<00:00,  9.88img/s, loss (batch)=0.317]\n"
     ]
    },
    {
     "name": "stdout",
     "output_type": "stream",
     "text": [
      "Validation dice loss: 0.8519321084022522, IoU Score 0.004346604458987713\n"
     ]
    },
    {
     "name": "stderr",
     "output_type": "stream",
     "text": [
      "Validation round: 100%|██████████| 115/115 [00:03<00:00, 34.73batch/s]\n",
      "Epoch 46/60:  20%|██        | 92/456 [00:08<03:22,  1.79img/s, loss (batch)=0.259]"
     ]
    },
    {
     "name": "stdout",
     "output_type": "stream",
     "text": [
      "Validation dice loss: 0.9015609622001648, IoU Score 0.0043090335093438625\n"
     ]
    },
    {
     "name": "stderr",
     "output_type": "stream",
     "text": [
      "Validation round: 100%|██████████| 115/115 [00:04<00:00, 26.80batch/s]\n",
      "Epoch 46/60:  40%|███▉      | 182/456 [00:17<03:12,  1.42img/s, loss (batch)=0.244]"
     ]
    },
    {
     "name": "stdout",
     "output_type": "stream",
     "text": [
      "Validation dice loss: 0.9657162427902222, IoU Score 0.004322105087339878\n"
     ]
    },
    {
     "name": "stderr",
     "output_type": "stream",
     "text": [
      "Validation round: 100%|██████████| 115/115 [00:03<00:00, 34.55batch/s]\n",
      "Epoch 46/60:  60%|█████▉    | 272/456 [00:25<01:42,  1.79img/s, loss (batch)=0.466]"
     ]
    },
    {
     "name": "stdout",
     "output_type": "stream",
     "text": [
      "Validation dice loss: 0.8916745185852051, IoU Score 0.004395568277686834\n"
     ]
    },
    {
     "name": "stderr",
     "output_type": "stream",
     "text": [
      "Validation round: 100%|██████████| 115/115 [00:03<00:00, 29.78batch/s]\n",
      "Epoch 46/60:  79%|███████▉  | 362/456 [00:34<01:00,  1.57img/s, loss (batch)=0.327]"
     ]
    },
    {
     "name": "stdout",
     "output_type": "stream",
     "text": [
      "Validation dice loss: 0.9652875661849976, IoU Score 0.004454329609870911\n"
     ]
    },
    {
     "name": "stderr",
     "output_type": "stream",
     "text": [
      "Validation round: 100%|██████████| 115/115 [00:03<00:00, 34.97batch/s]\n",
      "Epoch 46/60:  99%|█████████▉| 452/456 [00:42<00:02,  1.81img/s, loss (batch)=0.327]"
     ]
    },
    {
     "name": "stdout",
     "output_type": "stream",
     "text": [
      "Validation dice loss: 0.9702393412590027, IoU Score 0.004318683408200741\n"
     ]
    },
    {
     "name": "stderr",
     "output_type": "stream",
     "text": [
      "Epoch 46/60: 100%|██████████| 456/456 [00:42<00:00, 10.66img/s, loss (batch)=0.39]\n",
      "Validation round: 100%|██████████| 115/115 [00:03<00:00, 32.74batch/s]\n",
      "Epoch 47/60:  19%|█▉        | 86/456 [00:08<03:42,  1.67img/s, loss (batch)=0.346]"
     ]
    },
    {
     "name": "stdout",
     "output_type": "stream",
     "text": [
      "Validation dice loss: 0.8741087317466736, IoU Score 0.0044129337184131145\n"
     ]
    },
    {
     "name": "stderr",
     "output_type": "stream",
     "text": [
      "Validation round: 100%|██████████| 115/115 [00:03<00:00, 35.09batch/s]\n",
      "Epoch 47/60:  39%|███▊      | 176/456 [00:16<02:34,  1.81img/s, loss (batch)=0.3]  "
     ]
    },
    {
     "name": "stdout",
     "output_type": "stream",
     "text": [
      "Validation dice loss: 0.9005971550941467, IoU Score 0.004408941604197025\n"
     ]
    },
    {
     "name": "stderr",
     "output_type": "stream",
     "text": [
      "Validation round: 100%|██████████| 115/115 [00:03<00:00, 34.30batch/s]\n",
      "Epoch 47/60:  58%|█████▊    | 266/456 [00:25<01:47,  1.76img/s, loss (batch)=0.243]"
     ]
    },
    {
     "name": "stdout",
     "output_type": "stream",
     "text": [
      "Validation dice loss: 0.9299203157424927, IoU Score 0.004287593998014927\n"
     ]
    },
    {
     "name": "stderr",
     "output_type": "stream",
     "text": [
      "Validation round: 100%|██████████| 115/115 [00:03<00:00, 34.04batch/s]\n",
      "Epoch 47/60:  78%|███████▊  | 356/456 [00:33<00:56,  1.76img/s, loss (batch)=0.418]"
     ]
    },
    {
     "name": "stdout",
     "output_type": "stream",
     "text": [
      "Validation dice loss: 0.87950599193573, IoU Score 0.0042907861061394215\n"
     ]
    },
    {
     "name": "stderr",
     "output_type": "stream",
     "text": [
      "Validation round: 100%|██████████| 115/115 [00:03<00:00, 33.84batch/s]\n",
      "Epoch 47/60:  98%|█████████▊| 446/456 [00:42<00:05,  1.75img/s, loss (batch)=0.392]"
     ]
    },
    {
     "name": "stdout",
     "output_type": "stream",
     "text": [
      "Validation dice loss: 0.9469501972198486, IoU Score 0.004423030186444521\n"
     ]
    },
    {
     "name": "stderr",
     "output_type": "stream",
     "text": [
      "Epoch 47/60: 100%|██████████| 456/456 [00:43<00:00, 10.57img/s, loss (batch)=0.273]\n",
      "Validation round: 100%|██████████| 115/115 [00:03<00:00, 34.62batch/s]\n"
     ]
    },
    {
     "name": "stdout",
     "output_type": "stream",
     "text": [
      "Validation dice loss: 0.8221496343612671, IoU Score 0.004329542629420757\n"
     ]
    },
    {
     "name": "stderr",
     "output_type": "stream",
     "text": [
      "Validation round: 100%|██████████| 115/115 [00:03<00:00, 34.77batch/s]\n",
      "Epoch 48/60:  37%|███▋      | 170/456 [00:16<02:38,  1.80img/s, loss (batch)=0.258]"
     ]
    },
    {
     "name": "stdout",
     "output_type": "stream",
     "text": [
      "Validation dice loss: 0.8979113698005676, IoU Score 0.004398714285343885\n"
     ]
    },
    {
     "name": "stderr",
     "output_type": "stream",
     "text": [
      "Validation round: 100%|██████████| 115/115 [00:03<00:00, 34.62batch/s]\n",
      "Epoch 48/60:  57%|█████▋    | 260/456 [00:24<01:49,  1.78img/s, loss (batch)=0.21] "
     ]
    },
    {
     "name": "stdout",
     "output_type": "stream",
     "text": [
      "Validation dice loss: 0.9218671917915344, IoU Score 0.004390283953398466\n"
     ]
    },
    {
     "name": "stderr",
     "output_type": "stream",
     "text": [
      "Validation round: 100%|██████████| 115/115 [00:03<00:00, 34.84batch/s]\n",
      "Epoch 48/60:  77%|███████▋  | 350/456 [00:33<00:58,  1.80img/s, loss (batch)=0.264]"
     ]
    },
    {
     "name": "stdout",
     "output_type": "stream",
     "text": [
      "Validation dice loss: 0.9038912653923035, IoU Score 0.004325604997575283\n"
     ]
    },
    {
     "name": "stderr",
     "output_type": "stream",
     "text": [
      "Validation round: 100%|██████████| 115/115 [00:03<00:00, 29.75batch/s]\n",
      "Epoch 48/60:  96%|█████████▋| 440/456 [00:42<00:10,  1.56img/s, loss (batch)=0.377]"
     ]
    },
    {
     "name": "stdout",
     "output_type": "stream",
     "text": [
      "Validation dice loss: 0.923761785030365, IoU Score 0.004446094855666161\n"
     ]
    },
    {
     "name": "stderr",
     "output_type": "stream",
     "text": [
      "Epoch 48/60: 100%|██████████| 456/456 [00:43<00:00, 10.60img/s, loss (batch)=0.777]\n",
      "Validation round: 100%|██████████| 115/115 [00:03<00:00, 33.95batch/s]\n",
      "Epoch 49/60:  16%|█▌        | 74/456 [00:07<03:37,  1.76img/s, loss (batch)=0.338]"
     ]
    },
    {
     "name": "stdout",
     "output_type": "stream",
     "text": [
      "Validation dice loss: 1.054390549659729, IoU Score 0.004305724054574966\n"
     ]
    },
    {
     "name": "stderr",
     "output_type": "stream",
     "text": [
      "Validation round: 100%|██████████| 115/115 [00:03<00:00, 29.63batch/s]\n"
     ]
    },
    {
     "name": "stdout",
     "output_type": "stream",
     "text": [
      "Validation dice loss: 1.0320854187011719, IoU Score 0.004415352363139391\n"
     ]
    },
    {
     "name": "stderr",
     "output_type": "stream",
     "text": [
      "Validation round: 100%|██████████| 115/115 [00:03<00:00, 35.43batch/s]\n",
      "Epoch 49/60:  56%|█████▌    | 254/456 [00:24<01:49,  1.84img/s, loss (batch)=0.241]"
     ]
    },
    {
     "name": "stdout",
     "output_type": "stream",
     "text": [
      "Validation dice loss: 1.0263400077819824, IoU Score 0.004469973035156727\n"
     ]
    },
    {
     "name": "stderr",
     "output_type": "stream",
     "text": [
      "Validation round: 100%|██████████| 115/115 [00:03<00:00, 30.72batch/s]\n",
      "Epoch 49/60:  75%|███████▌  | 344/456 [00:33<01:10,  1.60img/s, loss (batch)=0.205]"
     ]
    },
    {
     "name": "stdout",
     "output_type": "stream",
     "text": [
      "Validation dice loss: 0.9752333760261536, IoU Score 0.004451290238648653\n"
     ]
    },
    {
     "name": "stderr",
     "output_type": "stream",
     "text": [
      "Validation round: 100%|██████████| 115/115 [00:03<00:00, 34.53batch/s]\n",
      "Epoch 49/60:  95%|█████████▌| 434/456 [00:41<00:12,  1.78img/s, loss (batch)=0.199]"
     ]
    },
    {
     "name": "stdout",
     "output_type": "stream",
     "text": [
      "Validation dice loss: 1.130614995956421, IoU Score 0.0043911500833928585\n"
     ]
    },
    {
     "name": "stderr",
     "output_type": "stream",
     "text": [
      "Epoch 49/60: 100%|██████████| 456/456 [00:42<00:00, 10.73img/s, loss (batch)=0.248]\n",
      "Validation round: 100%|██████████| 115/115 [00:04<00:00, 26.83batch/s]\n",
      "Epoch 50/60:  15%|█▍        | 68/456 [00:07<04:33,  1.42img/s, loss (batch)=0.245]"
     ]
    },
    {
     "name": "stdout",
     "output_type": "stream",
     "text": [
      "Validation dice loss: 1.0287894010543823, IoU Score 0.004416638985276222\n"
     ]
    },
    {
     "name": "stderr",
     "output_type": "stream",
     "text": [
      "Validation round: 100%|██████████| 115/115 [00:03<00:00, 35.26batch/s]\n",
      "Epoch 50/60:  35%|███▍      | 158/456 [00:16<02:44,  1.82img/s, loss (batch)=0.194]"
     ]
    },
    {
     "name": "stdout",
     "output_type": "stream",
     "text": [
      "Validation dice loss: 1.0639649629592896, IoU Score 0.0044798837043344975\n"
     ]
    },
    {
     "name": "stderr",
     "output_type": "stream",
     "text": [
      "Validation round: 100%|██████████| 115/115 [00:03<00:00, 34.11batch/s]\n",
      "Epoch 50/60:  54%|█████▍    | 248/456 [00:24<01:57,  1.77img/s, loss (batch)=0.214]"
     ]
    },
    {
     "name": "stdout",
     "output_type": "stream",
     "text": [
      "Validation dice loss: 0.9512813687324524, IoU Score 0.004428316839039326\n"
     ]
    },
    {
     "name": "stderr",
     "output_type": "stream",
     "text": [
      "Validation round: 100%|██████████| 115/115 [00:03<00:00, 34.17batch/s]\n",
      "Epoch 50/60:  74%|███████▍  | 338/456 [00:32<01:06,  1.77img/s, loss (batch)=0.303]"
     ]
    },
    {
     "name": "stdout",
     "output_type": "stream",
     "text": [
      "Validation dice loss: 0.9577826857566833, IoU Score 0.004370474256575108\n"
     ]
    },
    {
     "name": "stderr",
     "output_type": "stream",
     "text": [
      "Validation round: 100%|██████████| 115/115 [00:03<00:00, 28.94batch/s]\n",
      "Epoch 50/60:  94%|█████████▍| 428/456 [00:41<00:18,  1.49img/s, loss (batch)=0.474]"
     ]
    },
    {
     "name": "stdout",
     "output_type": "stream",
     "text": [
      "Validation dice loss: 0.9565023183822632, IoU Score 0.004406425170600414\n"
     ]
    },
    {
     "name": "stderr",
     "output_type": "stream",
     "text": [
      "Epoch 50/60: 100%|██████████| 456/456 [00:43<00:00, 10.47img/s, loss (batch)=0.276]\n",
      "Validation round: 100%|██████████| 115/115 [00:03<00:00, 34.72batch/s]\n"
     ]
    },
    {
     "name": "stdout",
     "output_type": "stream",
     "text": [
      "Validation dice loss: 1.0873686075210571, IoU Score 0.00433653499931097\n"
     ]
    },
    {
     "name": "stderr",
     "output_type": "stream",
     "text": [
      "Validation round: 100%|██████████| 115/115 [00:03<00:00, 35.18batch/s]\n",
      "Epoch 51/60:  33%|███▎      | 152/456 [00:15<02:47,  1.81img/s, loss (batch)=0.242]"
     ]
    },
    {
     "name": "stdout",
     "output_type": "stream",
     "text": [
      "Validation dice loss: 1.057470679283142, IoU Score 0.004471557214856148\n"
     ]
    },
    {
     "name": "stderr",
     "output_type": "stream",
     "text": [
      "Validation round: 100%|██████████| 115/115 [00:03<00:00, 34.95batch/s]\n",
      "Epoch 51/60:  53%|█████▎    | 242/456 [00:23<01:58,  1.81img/s, loss (batch)=0.285]"
     ]
    },
    {
     "name": "stdout",
     "output_type": "stream",
     "text": [
      "Validation dice loss: 1.0390409231185913, IoU Score 0.004441859200596809\n"
     ]
    },
    {
     "name": "stderr",
     "output_type": "stream",
     "text": [
      "Validation round: 100%|██████████| 115/115 [00:03<00:00, 34.01batch/s]\n",
      "Epoch 51/60:  73%|███████▎  | 332/456 [00:32<01:13,  1.69img/s, loss (batch)=0.296]"
     ]
    },
    {
     "name": "stdout",
     "output_type": "stream",
     "text": [
      "Validation dice loss: 0.9945514798164368, IoU Score 0.004467149265110493\n"
     ]
    },
    {
     "name": "stderr",
     "output_type": "stream",
     "text": [
      "Validation round: 100%|██████████| 115/115 [00:03<00:00, 29.07batch/s]\n",
      "Epoch 51/60:  93%|█████████▎| 422/456 [00:41<00:22,  1.53img/s, loss (batch)=0.24] "
     ]
    },
    {
     "name": "stdout",
     "output_type": "stream",
     "text": [
      "Validation dice loss: 0.9397603273391724, IoU Score 0.004437667783349752\n"
     ]
    },
    {
     "name": "stderr",
     "output_type": "stream",
     "text": [
      "Epoch 51/60: 100%|██████████| 456/456 [00:42<00:00, 10.62img/s, loss (batch)=0.181]\n",
      "Validation round: 100%|██████████| 115/115 [00:03<00:00, 34.09batch/s]\n",
      "Epoch 52/60:  12%|█▏        | 56/456 [00:06<03:47,  1.76img/s, loss (batch)=0.777]"
     ]
    },
    {
     "name": "stdout",
     "output_type": "stream",
     "text": [
      "Validation dice loss: 0.9737223982810974, IoU Score 0.0043727317824959755\n"
     ]
    },
    {
     "name": "stderr",
     "output_type": "stream",
     "text": [
      "Validation round: 100%|██████████| 115/115 [00:03<00:00, 35.14batch/s]\n",
      "Epoch 52/60:  32%|███▏      | 146/456 [00:14<02:50,  1.81img/s, loss (batch)=0.37] "
     ]
    },
    {
     "name": "stdout",
     "output_type": "stream",
     "text": [
      "Validation dice loss: 1.0529367923736572, IoU Score 0.004374693147838116\n"
     ]
    },
    {
     "name": "stderr",
     "output_type": "stream",
     "text": [
      "Validation round: 100%|██████████| 115/115 [00:03<00:00, 35.03batch/s]\n",
      "Epoch 52/60:  52%|█████▏    | 236/456 [00:23<02:01,  1.81img/s, loss (batch)=0.289]"
     ]
    },
    {
     "name": "stdout",
     "output_type": "stream",
     "text": [
      "Validation dice loss: 1.0150102376937866, IoU Score 0.004447190556675196\n"
     ]
    },
    {
     "name": "stderr",
     "output_type": "stream",
     "text": [
      "Validation round: 100%|██████████| 115/115 [00:03<00:00, 34.61batch/s]\n",
      "Epoch 52/60:  71%|███████▏  | 326/456 [00:32<01:13,  1.76img/s, loss (batch)=0.294]"
     ]
    },
    {
     "name": "stdout",
     "output_type": "stream",
     "text": [
      "Validation dice loss: 1.0808470249176025, IoU Score 0.0044547878205776215\n"
     ]
    },
    {
     "name": "stderr",
     "output_type": "stream",
     "text": [
      "Validation round: 100%|██████████| 115/115 [00:03<00:00, 35.48batch/s]\n",
      "Epoch 52/60:  91%|█████████ | 416/456 [00:40<00:21,  1.82img/s, loss (batch)=0.253]"
     ]
    },
    {
     "name": "stdout",
     "output_type": "stream",
     "text": [
      "Validation dice loss: 1.0436075925827026, IoU Score 0.004477396607398987\n"
     ]
    },
    {
     "name": "stderr",
     "output_type": "stream",
     "text": [
      "Epoch 52/60: 100%|██████████| 456/456 [00:42<00:00, 10.78img/s, loss (batch)=0.296]\n",
      "Validation round: 100%|██████████| 115/115 [00:03<00:00, 33.22batch/s]\n",
      "Epoch 53/60:  11%|█         | 50/456 [00:06<03:55,  1.72img/s, loss (batch)=0.368]"
     ]
    },
    {
     "name": "stdout",
     "output_type": "stream",
     "text": [
      "Validation dice loss: 1.0142765045166016, IoU Score 0.004453164990991354\n"
     ]
    },
    {
     "name": "stderr",
     "output_type": "stream",
     "text": [
      "Validation round: 100%|██████████| 115/115 [00:03<00:00, 33.88batch/s]\n",
      "Epoch 53/60:  31%|███       | 140/456 [00:15<03:00,  1.75img/s, loss (batch)=0.423]"
     ]
    },
    {
     "name": "stdout",
     "output_type": "stream",
     "text": [
      "Validation dice loss: 1.0339750051498413, IoU Score 0.004453264642506838\n"
     ]
    },
    {
     "name": "stderr",
     "output_type": "stream",
     "text": [
      "Validation round: 100%|██████████| 115/115 [00:03<00:00, 33.97batch/s]\n",
      "Epoch 53/60:  50%|█████     | 230/456 [00:23<02:08,  1.75img/s, loss (batch)=0.288]"
     ]
    },
    {
     "name": "stdout",
     "output_type": "stream",
     "text": [
      "Validation dice loss: 1.0426959991455078, IoU Score 0.004501502029597759\n"
     ]
    },
    {
     "name": "stderr",
     "output_type": "stream",
     "text": [
      "Validation round: 100%|██████████| 115/115 [00:03<00:00, 35.27batch/s]\n",
      "Epoch 53/60:  70%|███████   | 320/456 [00:31<01:14,  1.82img/s, loss (batch)=0.18] "
     ]
    },
    {
     "name": "stdout",
     "output_type": "stream",
     "text": [
      "Validation dice loss: 1.0723587274551392, IoU Score 0.004486754070967436\n"
     ]
    },
    {
     "name": "stderr",
     "output_type": "stream",
     "text": [
      "Validation round: 100%|██████████| 115/115 [00:03<00:00, 30.66batch/s]\n"
     ]
    },
    {
     "name": "stdout",
     "output_type": "stream",
     "text": [
      "Validation dice loss: 1.0474222898483276, IoU Score 0.004512093495577574\n"
     ]
    },
    {
     "name": "stderr",
     "output_type": "stream",
     "text": [
      "Epoch 53/60: 100%|██████████| 456/456 [00:43<00:00, 10.47img/s, loss (batch)=0.257]\n",
      "Validation round: 100%|██████████| 115/115 [00:03<00:00, 30.05batch/s]\n",
      "Epoch 54/60:  10%|▉         | 44/456 [00:06<04:22,  1.57img/s, loss (batch)=0.209]"
     ]
    },
    {
     "name": "stdout",
     "output_type": "stream",
     "text": [
      "Validation dice loss: 1.0426571369171143, IoU Score 0.004455104935914278\n"
     ]
    },
    {
     "name": "stderr",
     "output_type": "stream",
     "text": [
      "Validation round: 100%|██████████| 115/115 [00:03<00:00, 35.25batch/s]\n",
      "Epoch 54/60:  29%|██▉       | 134/456 [00:14<02:56,  1.82img/s, loss (batch)=0.248]"
     ]
    },
    {
     "name": "stdout",
     "output_type": "stream",
     "text": [
      "Validation dice loss: 1.0354143381118774, IoU Score 0.0044827573001384735\n"
     ]
    },
    {
     "name": "stderr",
     "output_type": "stream",
     "text": [
      "Validation round: 100%|██████████| 115/115 [00:03<00:00, 33.90batch/s]\n",
      "Epoch 54/60:  49%|████▉     | 224/456 [00:22<02:10,  1.77img/s, loss (batch)=0.238]"
     ]
    },
    {
     "name": "stdout",
     "output_type": "stream",
     "text": [
      "Validation dice loss: 1.0846976041793823, IoU Score 0.0044649746268987656\n"
     ]
    },
    {
     "name": "stderr",
     "output_type": "stream",
     "text": [
      "Validation round: 100%|██████████| 115/115 [00:04<00:00, 25.93batch/s]\n",
      "Epoch 54/60:  69%|██████▉   | 314/456 [00:31<01:43,  1.37img/s, loss (batch)=0.266]"
     ]
    },
    {
     "name": "stdout",
     "output_type": "stream",
     "text": [
      "Validation dice loss: 1.0157920122146606, IoU Score 0.0044734664261341095\n"
     ]
    },
    {
     "name": "stderr",
     "output_type": "stream",
     "text": [
      "Validation round: 100%|██████████| 115/115 [00:03<00:00, 32.42batch/s]\n",
      "Epoch 54/60:  89%|████████▊ | 404/456 [00:40<00:31,  1.65img/s, loss (batch)=0.36] "
     ]
    },
    {
     "name": "stdout",
     "output_type": "stream",
     "text": [
      "Validation dice loss: 1.026127815246582, IoU Score 0.00448122201487422\n"
     ]
    },
    {
     "name": "stderr",
     "output_type": "stream",
     "text": [
      "Epoch 54/60: 100%|██████████| 456/456 [00:43<00:00, 10.50img/s, loss (batch)=0.298]\n",
      "Validation round: 100%|██████████| 115/115 [00:03<00:00, 33.58batch/s]\n",
      "Epoch 55/60:   8%|▊         | 38/456 [00:05<04:00,  1.74img/s, loss (batch)=0.245]"
     ]
    },
    {
     "name": "stdout",
     "output_type": "stream",
     "text": [
      "Validation dice loss: 1.0619632005691528, IoU Score 0.004487247206270695\n"
     ]
    },
    {
     "name": "stderr",
     "output_type": "stream",
     "text": [
      "Validation round: 100%|██████████| 115/115 [00:03<00:00, 35.21batch/s]\n",
      "Epoch 55/60:  28%|██▊       | 128/456 [00:13<03:00,  1.82img/s, loss (batch)=0.217]"
     ]
    },
    {
     "name": "stdout",
     "output_type": "stream",
     "text": [
      "Validation dice loss: 1.0683001279830933, IoU Score 0.004455878399312496\n"
     ]
    },
    {
     "name": "stderr",
     "output_type": "stream",
     "text": [
      "Validation round: 100%|██████████| 115/115 [00:04<00:00, 28.45batch/s]\n",
      "Epoch 55/60:  48%|████▊     | 218/456 [00:22<02:40,  1.48img/s, loss (batch)=0.52]"
     ]
    },
    {
     "name": "stdout",
     "output_type": "stream",
     "text": [
      "Validation dice loss: 1.0766898393630981, IoU Score 0.004524668212980032\n"
     ]
    },
    {
     "name": "stderr",
     "output_type": "stream",
     "text": [
      "Validation round: 100%|██████████| 115/115 [00:03<00:00, 35.20batch/s]\n",
      "Epoch 55/60:  68%|██████▊   | 308/456 [00:31<01:21,  1.82img/s, loss (batch)=0.287]"
     ]
    },
    {
     "name": "stdout",
     "output_type": "stream",
     "text": [
      "Validation dice loss: 1.0731483697891235, IoU Score 0.0044833458960056305\n"
     ]
    },
    {
     "name": "stderr",
     "output_type": "stream",
     "text": [
      "Validation round: 100%|██████████| 115/115 [00:03<00:00, 32.24batch/s]\n",
      "Epoch 55/60:  87%|████████▋ | 398/456 [00:39<00:34,  1.68img/s, loss (batch)=0.44] "
     ]
    },
    {
     "name": "stdout",
     "output_type": "stream",
     "text": [
      "Validation dice loss: 1.0670677423477173, IoU Score 0.0044657825492322445\n"
     ]
    },
    {
     "name": "stderr",
     "output_type": "stream",
     "text": [
      "Epoch 55/60: 100%|██████████| 456/456 [00:42<00:00, 10.67img/s, loss (batch)=0.332]\n",
      "Validation round: 100%|██████████| 115/115 [00:03<00:00, 34.38batch/s]\n",
      "Epoch 56/60:   7%|▋         | 32/456 [00:05<03:59,  1.77img/s, loss (batch)=0.214]"
     ]
    },
    {
     "name": "stdout",
     "output_type": "stream",
     "text": [
      "Validation dice loss: 1.0236892700195312, IoU Score 0.004437335766851902\n"
     ]
    },
    {
     "name": "stderr",
     "output_type": "stream",
     "text": [
      "Validation round: 100%|██████████| 115/115 [00:04<00:00, 28.59batch/s]\n"
     ]
    },
    {
     "name": "stdout",
     "output_type": "stream",
     "text": [
      "Validation dice loss: 1.025373101234436, IoU Score 0.004458304028958082\n"
     ]
    },
    {
     "name": "stderr",
     "output_type": "stream",
     "text": [
      "Validation round: 100%|██████████| 115/115 [00:03<00:00, 34.16batch/s]\n",
      "Epoch 56/60:  46%|████▋     | 212/456 [00:22<02:18,  1.77img/s, loss (batch)=0.343]"
     ]
    },
    {
     "name": "stdout",
     "output_type": "stream",
     "text": [
      "Validation dice loss: 1.080255389213562, IoU Score 0.004467100370675325\n"
     ]
    },
    {
     "name": "stderr",
     "output_type": "stream",
     "text": [
      "Validation round: 100%|██████████| 115/115 [00:03<00:00, 34.88batch/s]\n",
      "Epoch 56/60:  66%|██████▌   | 302/456 [00:31<01:25,  1.80img/s, loss (batch)=0.3]  "
     ]
    },
    {
     "name": "stdout",
     "output_type": "stream",
     "text": [
      "Validation dice loss: 1.0452805757522583, IoU Score 0.004488813225179911\n"
     ]
    },
    {
     "name": "stderr",
     "output_type": "stream",
     "text": [
      "Validation round: 100%|██████████| 115/115 [00:03<00:00, 34.90batch/s]\n",
      "Epoch 56/60:  86%|████████▌ | 392/456 [00:39<00:35,  1.80img/s, loss (batch)=0.27]"
     ]
    },
    {
     "name": "stdout",
     "output_type": "stream",
     "text": [
      "Validation dice loss: 1.0558406114578247, IoU Score 0.004471983294934034\n"
     ]
    },
    {
     "name": "stderr",
     "output_type": "stream",
     "text": [
      "Epoch 56/60: 100%|██████████| 456/456 [00:43<00:00, 10.50img/s, loss (batch)=0.41]\n",
      "Validation round: 100%|██████████| 115/115 [00:03<00:00, 29.32batch/s]\n",
      "Epoch 57/60:   6%|▌         | 26/456 [00:05<04:42,  1.52img/s, loss (batch)=0.289]"
     ]
    },
    {
     "name": "stdout",
     "output_type": "stream",
     "text": [
      "Validation dice loss: 1.026334524154663, IoU Score 0.004391037859022617\n"
     ]
    },
    {
     "name": "stderr",
     "output_type": "stream",
     "text": [
      "Validation round: 100%|██████████| 115/115 [00:03<00:00, 34.04batch/s]\n",
      "Epoch 57/60:  25%|██▌       | 116/456 [00:13<03:14,  1.75img/s, loss (batch)=0.258]"
     ]
    },
    {
     "name": "stdout",
     "output_type": "stream",
     "text": [
      "Validation dice loss: 1.0356899499893188, IoU Score 0.004465664736926556\n"
     ]
    },
    {
     "name": "stderr",
     "output_type": "stream",
     "text": [
      "Validation round: 100%|██████████| 115/115 [00:03<00:00, 33.41batch/s]\n",
      "Epoch 57/60:  45%|████▌     | 206/456 [00:22<02:24,  1.73img/s, loss (batch)=0.19]"
     ]
    },
    {
     "name": "stdout",
     "output_type": "stream",
     "text": [
      "Validation dice loss: 1.0480791330337524, IoU Score 0.004468885716050863\n"
     ]
    },
    {
     "name": "stderr",
     "output_type": "stream",
     "text": [
      "Validation round: 100%|██████████| 115/115 [00:03<00:00, 33.90batch/s]\n",
      "Epoch 57/60:  65%|██████▍   | 296/456 [00:30<01:31,  1.75img/s, loss (batch)=0.238]"
     ]
    },
    {
     "name": "stdout",
     "output_type": "stream",
     "text": [
      "Validation dice loss: 1.1217312812805176, IoU Score 0.004457561764866114\n"
     ]
    },
    {
     "name": "stderr",
     "output_type": "stream",
     "text": [
      "Validation round: 100%|██████████| 115/115 [00:03<00:00, 34.94batch/s]\n",
      "Epoch 57/60:  85%|████████▍ | 386/456 [00:40<00:38,  1.80img/s, loss (batch)=0.241]"
     ]
    },
    {
     "name": "stdout",
     "output_type": "stream",
     "text": [
      "Validation dice loss: 1.0703712701797485, IoU Score 0.0044923583045601845\n"
     ]
    },
    {
     "name": "stderr",
     "output_type": "stream",
     "text": [
      "Epoch 57/60: 100%|██████████| 456/456 [00:43<00:00, 10.40img/s, loss (batch)=0.368]\n",
      "Validation round: 100%|██████████| 115/115 [00:03<00:00, 35.23batch/s]\n",
      "Epoch 58/60:   4%|▍         | 20/456 [00:04<04:07,  1.76img/s, loss (batch)=0.252]"
     ]
    },
    {
     "name": "stdout",
     "output_type": "stream",
     "text": [
      "Validation dice loss: 1.0844734907150269, IoU Score 0.00448885653167963\n"
     ]
    },
    {
     "name": "stderr",
     "output_type": "stream",
     "text": [
      "Validation round: 100%|██████████| 115/115 [00:03<00:00, 34.71batch/s]\n",
      "Epoch 58/60:  24%|██▍       | 110/456 [00:12<03:12,  1.80img/s, loss (batch)=0.208]"
     ]
    },
    {
     "name": "stdout",
     "output_type": "stream",
     "text": [
      "Validation dice loss: 0.9985489845275879, IoU Score 0.004441854543983936\n"
     ]
    },
    {
     "name": "stderr",
     "output_type": "stream",
     "text": [
      "Validation round: 100%|██████████| 115/115 [00:03<00:00, 30.48batch/s]\n"
     ]
    },
    {
     "name": "stdout",
     "output_type": "stream",
     "text": [
      "Validation dice loss: 1.0242118835449219, IoU Score 0.004481702111661434\n"
     ]
    },
    {
     "name": "stderr",
     "output_type": "stream",
     "text": [
      "Validation round: 100%|██████████| 115/115 [00:03<00:00, 35.60batch/s]\n",
      "Epoch 58/60:  64%|██████▎   | 290/456 [00:30<01:30,  1.83img/s, loss (batch)=0.257]"
     ]
    },
    {
     "name": "stdout",
     "output_type": "stream",
     "text": [
      "Validation dice loss: 1.0153908729553223, IoU Score 0.004506153054535389\n"
     ]
    },
    {
     "name": "stderr",
     "output_type": "stream",
     "text": [
      "Validation round: 100%|██████████| 115/115 [00:03<00:00, 34.05batch/s]\n",
      "Epoch 58/60:  83%|████████▎ | 380/456 [00:38<00:43,  1.76img/s, loss (batch)=0.347]"
     ]
    },
    {
     "name": "stdout",
     "output_type": "stream",
     "text": [
      "Validation dice loss: 1.0213699340820312, IoU Score 0.004485366400331259\n"
     ]
    },
    {
     "name": "stderr",
     "output_type": "stream",
     "text": [
      "Epoch 58/60: 100%|██████████| 456/456 [00:43<00:00, 10.57img/s, loss (batch)=0.196]\n",
      "Validation round: 100%|██████████| 115/115 [00:03<00:00, 33.62batch/s]\n",
      "Epoch 59/60:   3%|▎         | 14/456 [00:04<04:34,  1.61img/s, loss (batch)=0.244]"
     ]
    },
    {
     "name": "stdout",
     "output_type": "stream",
     "text": [
      "Validation dice loss: 1.0219361782073975, IoU Score 0.0044906060211360455\n"
     ]
    },
    {
     "name": "stderr",
     "output_type": "stream",
     "text": [
      "Validation round: 100%|██████████| 115/115 [00:05<00:00, 22.52batch/s]\n",
      "Epoch 59/60:  23%|██▎       | 104/456 [00:14<04:53,  1.20img/s, loss (batch)=0.301]"
     ]
    },
    {
     "name": "stdout",
     "output_type": "stream",
     "text": [
      "Validation dice loss: 1.0089731216430664, IoU Score 0.004489138722419739\n"
     ]
    },
    {
     "name": "stderr",
     "output_type": "stream",
     "text": [
      "Validation round: 100%|██████████| 115/115 [00:03<00:00, 35.36batch/s]\n",
      "Epoch 59/60:  43%|████▎     | 194/456 [00:22<02:23,  1.83img/s, loss (batch)=0.388]"
     ]
    },
    {
     "name": "stdout",
     "output_type": "stream",
     "text": [
      "Validation dice loss: 1.061690092086792, IoU Score 0.004531614016741514\n"
     ]
    },
    {
     "name": "stderr",
     "output_type": "stream",
     "text": [
      "Validation round: 100%|██████████| 115/115 [00:03<00:00, 34.73batch/s]\n",
      "Epoch 59/60:  62%|██████▏   | 284/456 [00:30<01:35,  1.80img/s, loss (batch)=0.339]"
     ]
    },
    {
     "name": "stdout",
     "output_type": "stream",
     "text": [
      "Validation dice loss: 1.078723669052124, IoU Score 0.0044718291610479355\n"
     ]
    },
    {
     "name": "stderr",
     "output_type": "stream",
     "text": [
      "Validation round: 100%|██████████| 115/115 [00:03<00:00, 34.78batch/s]\n",
      "Epoch 59/60:  82%|████████▏ | 374/456 [00:38<00:45,  1.80img/s, loss (batch)=0.214]"
     ]
    },
    {
     "name": "stdout",
     "output_type": "stream",
     "text": [
      "Validation dice loss: 1.0888148546218872, IoU Score 0.004559294320642948\n"
     ]
    },
    {
     "name": "stderr",
     "output_type": "stream",
     "text": [
      "Epoch 59/60: 100%|██████████| 456/456 [00:43<00:00, 10.38img/s, loss (batch)=0.271]\n",
      "Validation round: 100%|██████████| 115/115 [00:04<00:00, 25.29batch/s]\n",
      "Epoch 60/60:   2%|▏         | 8/456 [00:05<07:10,  1.04img/s, loss (batch)=0.302]"
     ]
    },
    {
     "name": "stdout",
     "output_type": "stream",
     "text": [
      "Validation dice loss: 1.0314538478851318, IoU Score 0.004522525239735842\n"
     ]
    },
    {
     "name": "stderr",
     "output_type": "stream",
     "text": [
      "Validation round: 100%|██████████| 115/115 [00:03<00:00, 34.11batch/s]\n",
      "Epoch 60/60:  21%|██▏       | 98/456 [00:13<03:23,  1.76img/s, loss (batch)=0.177]"
     ]
    },
    {
     "name": "stdout",
     "output_type": "stream",
     "text": [
      "Validation dice loss: 1.0637335777282715, IoU Score 0.004479045979678631\n"
     ]
    },
    {
     "name": "stderr",
     "output_type": "stream",
     "text": [
      "Validation round: 100%|██████████| 115/115 [00:03<00:00, 34.19batch/s]\n",
      "Epoch 60/60:  41%|████      | 188/456 [00:21<02:31,  1.77img/s, loss (batch)=0.366]"
     ]
    },
    {
     "name": "stdout",
     "output_type": "stream",
     "text": [
      "Validation dice loss: 1.0803370475769043, IoU Score 0.004487480036914349\n"
     ]
    },
    {
     "name": "stderr",
     "output_type": "stream",
     "text": [
      "Validation round: 100%|██████████| 115/115 [00:03<00:00, 33.86batch/s]\n"
     ]
    },
    {
     "name": "stdout",
     "output_type": "stream",
     "text": [
      "Validation dice loss: 1.064881682395935, IoU Score 0.0045115286484360695\n"
     ]
    },
    {
     "name": "stderr",
     "output_type": "stream",
     "text": [
      "Validation round: 100%|██████████| 115/115 [00:03<00:00, 29.09batch/s]\n",
      "Epoch 60/60:  81%|████████  | 368/456 [00:39<00:58,  1.50img/s, loss (batch)=0.304]"
     ]
    },
    {
     "name": "stdout",
     "output_type": "stream",
     "text": [
      "Validation dice loss: 1.0353657007217407, IoU Score 0.004530895035713911\n"
     ]
    },
    {
     "name": "stderr",
     "output_type": "stream",
     "text": [
      "Validation round: 100%|██████████| 115/115 [00:03<00:00, 34.25batch/s]\n",
      "Epoch 60/60: 100%|██████████| 456/456 [00:47<00:00,  9.57img/s, loss (batch)=0.355]"
     ]
    },
    {
     "name": "stdout",
     "output_type": "stream",
     "text": [
      "Validation dice loss: 1.038076639175415, IoU Score 0.004487218335270882\n"
     ]
    },
    {
     "name": "stderr",
     "output_type": "stream",
     "text": [
      "\n"
     ]
    }
   ],
   "source": [
    "model = TransFuse_S(pretrained=False)\n",
    "\n",
    "device = torch.device('cuda' if torch.cuda.is_available() else 'cpu')\n",
    "if torch.cuda.device_count() > 1:\n",
    "    print(\"Let's use\", torch.cuda.device_count(), \"GPUs!\")\n",
    "    model = nn.DataParallel(model)\n",
    "\n",
    "model = model.to(memory_format=torch.channels_last)\n",
    "model.to(device)\n",
    "\n",
    "train(model, device, project='Transfuse')\n"
   ]
  }
 ],
 "metadata": {
  "kernelspec": {
   "display_name": "Python 3",
   "language": "python",
   "name": "python3"
  },
  "language_info": {
   "codemirror_mode": {
    "name": "ipython",
    "version": 3
   },
   "file_extension": ".py",
   "mimetype": "text/x-python",
   "name": "python",
   "nbconvert_exporter": "python",
   "pygments_lexer": "ipython3",
   "version": "3.10.12"
  },
  "papermill": {
   "default_parameters": {},
   "duration": 2651.249593,
   "end_time": "2023-10-16T19:01:50.242676",
   "environment_variables": {},
   "exception": null,
   "input_path": "__notebook__.ipynb",
   "output_path": "__notebook__.ipynb",
   "parameters": {},
   "start_time": "2023-10-16T18:17:38.993083",
   "version": "2.4.0"
  }
 },
 "nbformat": 4,
 "nbformat_minor": 5
}
